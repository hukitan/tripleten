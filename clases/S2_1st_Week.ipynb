{
  "cells": [
    {
      "cell_type": "markdown",
      "metadata": {
        "id": "6JUscudTwriJ"
      },
      "source": [
        "# EJERCICIOS\n",
        "\n",
        "**Sprint 2 Q&A #1**"
      ]
    },
    {
      "cell_type": "markdown",
      "metadata": {
        "id": "sbDMfOov5mev"
      },
      "source": [
        "## Temas a tratar\n",
        "\n",
        "* Bucles\n",
        "  * Bucles for\n",
        "  * Bucles while\n",
        "* Condicionales\n",
        "  * Operadores lógicos\n",
        "  * Sentencias if, else y elif\n",
        "  * Filtrado de tablas"
      ]
    },
    {
      "cell_type": "markdown",
      "metadata": {
        "id": "Dd7_V8AF6eyu"
      },
      "source": [
        "## Objetivo\n",
        "\n",
        "Comprender el uso de las estructuras llamados bucles y condicionales mediante la aplicación de las mismas un caso práctico, a fin de generar la habilidad de optimizar el procesamiento de datos con una computadora."
      ]
    },
    {
      "cell_type": "markdown",
      "metadata": {
        "id": "8pPm-we1wwIx"
      },
      "source": [
        "## Contexto\n",
        "\n",
        "La empresa Aleph, se encuentra en proceso de digitalización de su información, la misma que ha venido manejandose de forma desordenada y a nivel de cuadernos físicos.\n",
        "\n",
        "En una primera instancia, se le ha contratado a usted para que empieca a procesar un registro de sus clientes."
      ]
    },
    {
      "cell_type": "markdown",
      "metadata": {
        "id": "3QA_i_3kwRXS"
      },
      "source": [
        "**A trabajar en Coding Together**"
      ]
    },
    {
      "cell_type": "markdown",
      "metadata": {
        "id": "bArqmaYsxili"
      },
      "source": [
        "## Bucles for"
      ]
    },
    {
      "cell_type": "markdown",
      "metadata": {
        "id": "rtGKrZyDxpTC"
      },
      "source": [
        "**Ejemplo 1.1:** La empresa cuenta con 6 clientes cuyos nombres son Juan, Pedro, Nicole, Cayetana, Diego y Pilar. Crea una lista que contenga a todos los clientes y otra donde esté especificado su sexo con \"M\" o \"F\" según corresponda. Pon como nombres de estas listas `cli_nombre` y `cli_sexo`.   "
      ]
    },
    {
      "cell_type": "code",
      "execution_count": 2,
      "metadata": {
        "id": "5c418cLzxiBb"
      },
      "outputs": [],
      "source": [
        "cli_nombre = [\"Juan\", \"Pedro\", \"Nicole\", \"Cayetana\", \"Diego\", \"Pilar\"]\n",
        "cli_sexo = [\"M\", \"M\", \"F\", \"F\", \"M\", \"F\"]"
      ]
    },
    {
      "cell_type": "markdown",
      "metadata": {
        "id": "Ded9esxMzAgz"
      },
      "source": [
        "**Ejemplo 1.2:** Usando un for imprime en lineas diferentes el nombre y sexo de cada cliente."
      ]
    },
    {
      "cell_type": "code",
      "execution_count": 3,
      "metadata": {
        "colab": {
          "base_uri": "https://localhost:8080/"
        },
        "id": "0bRd8SpkwoF3",
        "outputId": "f9ee206b-5b8b-439d-d787-719b81097d68"
      },
      "outputs": [],
      "source": [
        "#Forma 1\n"
      ]
    },
    {
      "cell_type": "code",
      "execution_count": 4,
      "metadata": {
        "colab": {
          "base_uri": "https://localhost:8080/"
        },
        "id": "AUSY8iZezZ90",
        "outputId": "2cd8c6c4-1988-46d3-e835-3afa8c55f8b6"
      },
      "outputs": [],
      "source": [
        "#Forma 2\n"
      ]
    },
    {
      "cell_type": "markdown",
      "metadata": {
        "id": "S1ug5Pcrz3o9"
      },
      "source": [
        "## Bucles for anidados"
      ]
    },
    {
      "cell_type": "markdown",
      "metadata": {
        "id": "qLmRCbPSz8c1"
      },
      "source": [
        "**Ejemplo 2.1:** Crea ahora una lista anidada llamada `cli_registro` que contenga no solamente la información del nombre y sexo de los 6 clientes, sino además su edad.\n",
        "\n",
        "Para conocer la edad de los clientes considera lo siguiente:\n",
        "* Diego tiene 72 años\n",
        "* Diego es dos años mayor que Pilar\n",
        "* Cayetana tiene 40 años menos que Pilar\n",
        "* Nicole es 15 años mayor que Cayetana\n",
        "* Juan tiene la misma edad que Pedro\n",
        "* Pedro tiene 1 año más que Nicole"
      ]
    },
    {
      "cell_type": "code",
      "execution_count": null,
      "metadata": {
        "id": "eMGIwlcY01CV"
      },
      "outputs": [],
      "source": []
    },
    {
      "cell_type": "markdown",
      "metadata": {
        "id": "tUrDi0031gJm"
      },
      "source": [
        "Usando la lista creada imprime la información de cada linea usando un bucle for. Idealmente intenta que cada linea impresa muestre la información de la siguiente forma:\n",
        "\n",
        "*El nombre del cliente es XXX quien es de sexo XXX y tiene XXX años*"
      ]
    },
    {
      "cell_type": "code",
      "execution_count": null,
      "metadata": {
        "colab": {
          "base_uri": "https://localhost:8080/"
        },
        "id": "Bmq24Mcu1uVt",
        "outputId": "82fa1d17-a260-4608-8d58-bad0b120d33c"
      },
      "outputs": [],
      "source": []
    },
    {
      "cell_type": "markdown",
      "metadata": {
        "id": "iLnjLbln10Dk"
      },
      "source": [
        "**Ejemplo 3.2:** Ahora imprime solamente el nombre y la edad de cada cliente entre parentesis."
      ]
    },
    {
      "cell_type": "code",
      "execution_count": null,
      "metadata": {
        "colab": {
          "base_uri": "https://localhost:8080/"
        },
        "id": "hffd2rTU14kd",
        "outputId": "8c176a5b-6f3d-40e5-8356-574a768c3321"
      },
      "outputs": [],
      "source": []
    },
    {
      "cell_type": "markdown",
      "metadata": {
        "id": "nctc0s_i2MpN"
      },
      "source": [
        "## Bucles while"
      ]
    },
    {
      "cell_type": "markdown",
      "metadata": {
        "id": "EweIO1Kt2Pql"
      },
      "source": [
        "**Ejemplo 3.1:** La empresa quiere crear una lista que contenga a cada cliente 12 veces a fin de posteriormente agregar la información de ventas mensuales para el año que culminó.\n",
        "\n",
        "Usando un bucle while crea la lista deseada con el nombre `cli_repeticion`, e imprimela para ver si funcionó lo que se hizo."
      ]
    },
    {
      "cell_type": "code",
      "execution_count": null,
      "metadata": {
        "colab": {
          "base_uri": "https://localhost:8080/"
        },
        "id": "0nv5lr293sJf",
        "outputId": "84438ef4-cd2b-4366-e4e4-43d835070fc8"
      },
      "outputs": [],
      "source": []
    },
    {
      "cell_type": "markdown",
      "metadata": {
        "id": "stIO4jUhv11i"
      },
      "source": [
        "**A trabajar en Breakout rooms**"
      ]
    },
    {
      "cell_type": "markdown",
      "metadata": {
        "id": "2s3yQnWj5Jig"
      },
      "source": [
        "## Sentencias condicionales"
      ]
    },
    {
      "cell_type": "markdown",
      "metadata": {
        "id": "tZmx-VG3H0YT"
      },
      "source": [
        "**Ejemplo 4.1:** Usando bucles y sentencias condicionales verifica que en la lista `cli_repeticion`, el cliente \"Cayetana\" este repetida las 12 veces deseadas"
      ]
    },
    {
      "cell_type": "code",
      "execution_count": null,
      "metadata": {
        "colab": {
          "base_uri": "https://localhost:8080/"
        },
        "id": "6bjsaCGPIGMD",
        "outputId": "f01e8384-ffdb-4bdd-fdba-572cb4d1ad36"
      },
      "outputs": [],
      "source": []
    },
    {
      "cell_type": "markdown",
      "metadata": {
        "id": "7HywC-YRDsq7"
      },
      "source": [
        "**Ejemplo 4.2:** Vuelva a la lista anidada `cli_registro` y usando bucles y sentencias condicionales imprime únicamente las líneas que contengan a clientes que sean mujeres."
      ]
    },
    {
      "cell_type": "code",
      "execution_count": null,
      "metadata": {
        "colab": {
          "base_uri": "https://localhost:8080/"
        },
        "id": "Uc990iisEdwj",
        "outputId": "4557aad0-e7dd-4ce0-b01c-0b32214f086f"
      },
      "outputs": [],
      "source": []
    },
    {
      "cell_type": "code",
      "execution_count": null,
      "metadata": {
        "colab": {
          "base_uri": "https://localhost:8080/"
        },
        "id": "_0DPcehoEg7y",
        "outputId": "e5d148f5-a542-4833-fc01-9ad2ba739ab8"
      },
      "outputs": [],
      "source": []
    },
    {
      "cell_type": "markdown",
      "metadata": {
        "id": "gcoIuUTlEpYz"
      },
      "source": [
        "Ahora modifica el código anterior para que si el cliente es hombre imprima su edad únicamente."
      ]
    },
    {
      "cell_type": "code",
      "execution_count": null,
      "metadata": {
        "colab": {
          "base_uri": "https://localhost:8080/"
        },
        "id": "e58RG3NfE1Pk",
        "outputId": "7aa1c3ad-2151-4ebc-ffc0-a308d79d654b"
      },
      "outputs": [],
      "source": []
    },
    {
      "cell_type": "markdown",
      "metadata": {
        "id": "PYaIR4R0E9FT"
      },
      "source": [
        "A partir del código ya escrito, imprime un resumen que indica cuántos hombres y cuantas mujeres hay en la lista de clientes, y en cada caso indica además cual es la edad promedio (redondeado sin decimales)."
      ]
    },
    {
      "cell_type": "code",
      "execution_count": null,
      "metadata": {
        "id": "CFyolJk1FdRj"
      },
      "outputs": [],
      "source": []
    },
    {
      "cell_type": "code",
      "execution_count": null,
      "metadata": {
        "colab": {
          "base_uri": "https://localhost:8080/"
        },
        "id": "8yLzfjRjFTJD",
        "outputId": "f909903d-c08a-43e8-de45-e23af0d30447"
      },
      "outputs": [],
      "source": []
    },
    {
      "cell_type": "markdown",
      "metadata": {
        "id": "utrIkiPcI0TC"
      },
      "source": [
        "**Ejemplo 4.3:** La empresa considera que su mercado relevante son las mujeres mayores a 55 y los hombres menores a 50.\n",
        "\n",
        "A partir de este criterio, imprime la información de todos los clientes que son parte del mercado relevante. En caso que no sean parte del mercado, imprime un mensaje que indique \"Cliente XXX no es parte del mercado relevante\"."
      ]
    },
    {
      "cell_type": "code",
      "execution_count": null,
      "metadata": {
        "colab": {
          "base_uri": "https://localhost:8080/"
        },
        "id": "XlPT3KoRI28i",
        "outputId": "0e15a097-08e1-4bc5-c527-a8291400d2b4"
      },
      "outputs": [],
      "source": []
    },
    {
      "cell_type": "markdown",
      "metadata": {
        "id": "efM4ocHAKxuC"
      },
      "source": [
        "**Ejemplo 4.4:** Ha llegado nueva información donde se especifica que los nombres completos de los clientes son:\n",
        "\n",
        "* Juan Araujo\n",
        "* Pedro Paez\n",
        "* Nicole Srolis\n",
        "* Cayetana Araujo\n",
        "* Diego Araujo\n",
        "* Pilar Paez\n",
        "\n",
        "Mediante bucles y condicionales has la modificación correspondiente en `cli_registro`."
      ]
    },
    {
      "cell_type": "code",
      "execution_count": null,
      "metadata": {
        "colab": {
          "base_uri": "https://localhost:8080/"
        },
        "id": "jqOHuEy0Llua",
        "outputId": "ce532204-7635-4c44-cb24-71a1d790a840"
      },
      "outputs": [],
      "source": []
    }
  ],
  "metadata": {
    "colab": {
      "provenance": []
    },
    "kernelspec": {
      "display_name": "Python 3",
      "name": "python3"
    },
    "language_info": {
      "codemirror_mode": {
        "name": "ipython",
        "version": 3
      },
      "file_extension": ".py",
      "mimetype": "text/x-python",
      "name": "python",
      "nbconvert_exporter": "python",
      "pygments_lexer": "ipython3",
      "version": "3.12.4"
    }
  },
  "nbformat": 4,
  "nbformat_minor": 0
}
