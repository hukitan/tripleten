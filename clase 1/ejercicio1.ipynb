{
 "cells": [
  {
   "cell_type": "markdown",
   "metadata": {},
   "source": [
    "Ejercicio 1: Definición y Uso de Variables\n",
    " 1. Define una variable nombre_empresa y asígnale el valor \"DataCorp\".\n",
    " 2. Crea una variable ingresos_anuales y asígnale el valor de los ingresos anuales de\n",
    " la empresa, por ejemplo, 1,500,000 dólares.\n",
    " 3. Define una variable num_empleados con el número de empleados en la empresa,\n",
    " digamos 250.\n",
    " 4. Imprime una oración que combine estas variables para que diga algo como: \"La\n",
    " empresa [nombre_empresa] tiene un ingreso anual de [ingresos_anuales] dólares y\n",
    " emplea a [num_empleados] personas.\""
   ]
  },
  {
   "cell_type": "code",
   "execution_count": null,
   "metadata": {},
   "outputs": [],
   "source": [
    "nombre_empresa = \"DataCorp\"\n",
    "print(nombre_empresa)\n",
    "\n",
    "\n",
    "ingresos_anuales = 150000\n",
    "num_empleados = 250\n",
    "\n",
    "print(f\"La  empresa {nombre_empresa} tiene un ingreso anual de {ingresos_anuales} dólares y emplea a {num_empleados} personas.\")"
   ]
  },
  {
   "cell_type": "markdown",
   "metadata": {},
   "source": [
    "Ejercicio 2: Operaciones Aritméticas Básicas\n",
    " 1. Define una variable costos_operativos con el valor de 800,000 dólares.\n",
    " 2. Calcula el beneficio bruto de la empresa restando los costos_operativos de los\n",
    " ingresos_anuales.\n",
    " 3. Calcula el beneficio por empleado dividiendo el beneficio bruto por el número de\n",
    " empleados (num_empleados).\n",
    " 4. Imprime los resultados, asegurándose de etiquetar claramente cada valor."
   ]
  },
  {
   "cell_type": "code",
   "execution_count": null,
   "metadata": {},
   "outputs": [],
   "source": [
    "costos_operativos = 800000\n",
    "beneficio_empresa = ingresos_anuales - costos_operativos\n",
    "beneficio_empleado = beneficio_empresa / num_empleados\n",
    "\n",
    "print(f\"El beneficio de la empresa es: {beneficio_empresa} \\nEl beneficio empleado es {beneficio_empleado} \")\n"
   ]
  },
  {
   "cell_type": "markdown",
   "metadata": {},
   "source": [
    " Ejercicio 3: Tipos de Datos y Conversión\n",
    "1. Define una variable tasa_crecimiento y asígnale el valor 0.05, que representa un\n",
    " 5%decrecimiento anual.\n",
    " 2. Convierte tasa_crecimiento a un porcentaje (multiplicando por 100) y asígnalo a\n",
    " una nueva variable tasa_crecimiento_pct. Imprime ambos valores.\n",
    " 3. Define qué variable es_rentable y asígnale el valor True si el beneficio bruto es\n",
    " mayor que 0, o False en caso contrario. Imprime un mensaje que diga: \"¿La empresa\n",
    " es rentable? [es_rentable]\"\n",
    " 4. Convierte num_empleados en una cadena y crea una oración que diga: \"La empresa\n",
    " emplea a [num_empleados] personas.\""
   ]
  },
  {
   "cell_type": "code",
   "execution_count": null,
   "metadata": {},
   "outputs": [],
   "source": [
    "tasa_crecimiento = 0.05\n",
    "tasa_crecimiento_pct = tasa_crecimiento * 100\n",
    "print(f\"tasa {tasa_crecimiento} \\ntasa  % {tasa_crecimiento_pct}\")\n",
    "\n",
    "\n",
    "es_rentable = beneficio_empresa >0 \n",
    "print(type(es_rentable))\n",
    "\n",
    "print(f\"¿la empresa es rentable? {es_rentable}\")\n",
    "print(f\"La empresa emplea a {str(num_empleados)} personas.\")"
   ]
  },
  {
   "cell_type": "markdown",
   "metadata": {},
   "source": [
    " Ejercicio 4: Identificación de Errores\n",
    " 1. Intenta ejecutar el siguiente código y corrige los errores:\n",
    "\n",
    "````nombre_empresa = \"DataCorp\n",
    " ingresos_anuales = 1500000\n",
    " print(\"La empresa \" + nombre_empresa + \" generó \" + ingresos_anuales +\n",
    " \" dólares en ingresos.\")```"
   ]
  },
  {
   "cell_type": "code",
   "execution_count": null,
   "metadata": {},
   "outputs": [],
   "source": [
    "nombre_empresa = \"DataCorp\"\n",
    "ingresos_anuales = 1500000\n",
    "print(f\"La empresa {nombre_empresa} generó {ingresos_anuales}  dólares en ingresos.\")"
   ]
  },
  {
   "cell_type": "markdown",
   "metadata": {},
   "source": [
    "Módulo 2: Strings\n",
    " Objetivos del Módulo:\n",
    " - Trabajar con strings en reportes y análisis empresariales.\n",
    " - Acceder a caracteres específicos y subcadenas para manipular información.\n",
    " - Formatear strings para reportes claros y precisos.\n",
    " - Utilizar métodos de strings para procesar datos textuales."
   ]
  },
  {
   "cell_type": "markdown",
   "metadata": {},
   "source": [
    "\n",
    " Ejercicio 1: Propiedades Básicas de los Strings\n",
    " 1. Define una variable descripcion con el valor: \"DataCorp es una empresa líder en\n",
    " análisis de datos.\"\n",
    " 2. Imprime el número de caracteres en descripcion.\n",
    " 3. Cambia el valor de descripcion a todas las mayúsculas usando un método de string\n",
    " y vuelve a imprimirla."
   ]
  },
  {
   "cell_type": "code",
   "execution_count": null,
   "metadata": {},
   "outputs": [],
   "source": [
    "description = \"DataCorp es una empresa líder en análisis de datos.\"\n",
    "print(len(description))\n",
    "description = description.upper()\n",
    "print(description)"
   ]
  },
  {
   "cell_type": "markdown",
   "metadata": {},
   "source": [
    "Ejercicio 2: Índices y Slices\n",
    " 1. Accede al primer carácter de descripcion e imprímelo.\n",
    " 2. Accede a los primeros 15 caracteres de descripcion usando slicing.\n",
    "3. Extrae la palabra \"líder\" de la descripción usando índices y slicing, y asígnala a una\n",
    " nueva variable calidad_empresa."
   ]
  },
  {
   "cell_type": "code",
   "execution_count": null,
   "metadata": {},
   "outputs": [],
   "source": [
    "print(description[0])\n",
    "print(description[:16])\n",
    "calidad_empresa = description[24:29]\n",
    "print(calidad_empresa)"
   ]
  },
  {
   "cell_type": "markdown",
   "metadata": {},
   "source": [
    "Ejercicio 3: Strings Formateados\n",
    " 1. Usa una f-string para crear un mensaje que diga: \"DataCorp ha crecido un\n",
    " [tasa_crecimiento_pct]% este año\" (asegúrate de usar la variable creada anteriormente).\n",
    " 2. Repite el ejercicio usando el método format."
   ]
  },
  {
   "cell_type": "code",
   "execution_count": null,
   "metadata": {},
   "outputs": [],
   "source": [
    "print(f\"DataCorp ha crecido un {tasa_crecimiento_pct}% este año\")\n",
    "\n",
    "print(\"DataCorp ha crecido un {}% este año\".format(tasa_crecimiento_pct))"
   ]
  },
  {
   "cell_type": "markdown",
   "metadata": {},
   "source": [
    " Ejercicio 4: Métodos de String\n",
    " 1. Divide la descripción descripcion en palabras individuales y asígnalas a una lista\n",
    " palabras_descripcion.\n",
    " 2. Unelas palabras de palabras_descripcion en una sola cadena, separada por\n",
    " guiones (-).\n",
    " 3. Reemplaza la palabra \"líder\" por \"pionera\" en descripcion.\n",
    " "
   ]
  },
  {
   "cell_type": "code",
   "execution_count": null,
   "metadata": {},
   "outputs": [],
   "source": [
    "palabras_descripcion = description.split()\n",
    "print(palabras_descripcion)\n",
    "\"-\".join(palabras_descripcion)\n",
    "print(description.replace(\"LIDER\", \"PIONERA\"))"
   ]
  },
  {
   "cell_type": "markdown",
   "metadata": {},
   "source": [
    " Módulo 3: Listas\n",
    " Objetivos del Módulo:\n",
    " - Comprender cómo crear y manipular listas de datos en Python, específicamente listas\n",
    " de datos empresariales.\n",
    " - Acceder y modificar elementos dentro de una lista utilizando índices y slicing"
   ]
  },
  {
   "cell_type": "markdown",
   "metadata": {},
   "source": [
    "Ejercicio 1: Propiedades Básicas de las Listas\n",
    " 1. Crea una lista ingresos_mensuales que contenga los ingresos de la empresa para\n",
    " cada mes del año (puedes inventar 12 valores).\n",
    " 2. Añade los ingresos de un 13er mes, que representa un ingreso adicional de un proyecto\n",
    " especial, a la lista.\n",
    " 3. Imprime la lista resultante."
   ]
  },
  {
   "cell_type": "code",
   "execution_count": null,
   "metadata": {},
   "outputs": [],
   "source": [
    "ingresos_mensuales = [1,2,3,4,5,6,7,8,9,10,11,12]\n",
    "ingresos_mensuales.append(13)\n",
    "print(ingresos_mensuales)\n"
   ]
  },
  {
   "cell_type": "markdown",
   "metadata": {},
   "source": [
    " Ejercicio 2: Índices y Slices\n",
    " 1. Accede al ingreso del tercer mes y asígnalo a una variable ingreso_marzo.\n",
    " 2. Modifica el ingreso del último mes en la lista para reflejar una bonificación del 10%\n",
    " sobre el valor original.\n",
    " 3. Usa slicing para crear una nueva lista ingresos_primer_trimestre que contenga\n",
    " los ingresos de los primeros tres meses"
   ]
  },
  {
   "cell_type": "code",
   "execution_count": null,
   "metadata": {},
   "outputs": [],
   "source": [
    "ingreso_marzo = ingresos_mensuales[12]\n",
    "ingresos_mensuales.pop(12)\n",
    "ingresos_mensuales.append(ingreso_marzo*1.10)\n",
    "print(ingresos_mensuales)\n",
    "ingresos_primer_trimestre = ingresos_mensuales[:3]\n",
    "print(ingresos_primer_trimestre)\n"
   ]
  }
 ],
 "metadata": {
  "kernelspec": {
   "display_name": "base",
   "language": "python",
   "name": "python3"
  },
  "language_info": {
   "codemirror_mode": {
    "name": "ipython",
    "version": 3
   },
   "file_extension": ".py",
   "mimetype": "text/x-python",
   "name": "python",
   "nbconvert_exporter": "python",
   "pygments_lexer": "ipython3",
   "version": "3.11.5"
  }
 },
 "nbformat": 4,
 "nbformat_minor": 2
}
