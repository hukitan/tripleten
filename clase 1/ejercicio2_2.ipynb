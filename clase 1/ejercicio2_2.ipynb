{
 "cells": [
  {
   "cell_type": "markdown",
   "metadata": {},
   "source": [
    " Tienes un conjunto de datos que representa los dividendos anuales pagados por una empresa\n",
    " durante los últimos 10 años. Los dividendos se registran como una lista de cadenas, donde\n",
    " cada cadena incluye el año y el dividendo pagado en formato \"\n",
    " {Año}: {Dividendo}\".\n",
    " \n",
    " Lista de dividendos:\n",
    "\n",
    "\n",
    " \n"
   ]
  },
  {
   "cell_type": "code",
   "execution_count": 12,
   "metadata": {},
   "outputs": [],
   "source": [
    " dividendos = [ \"2014: 1.20\", \"2015: 1.35\", \"2016: 1.50\",\n",
    " \"2017: 1.60\", \"2018: 1.80\", \"2019: 1.95\",\n",
    " \"2020: 2.00\", \"2021: 2.10\", \"2022: 2.30\",\n",
    " \"2023: 2.50\"]"
   ]
  },
  {
   "cell_type": "markdown",
   "metadata": {},
   "source": [
    "Instrucciones\n",
    " 1. Separación y extracción de datos:\n",
    "- Creados listas separadas llamadas años y dividendos_valores que\n",
    " contengan los años y los valores de dividendos como números flotantes,\n",
    " respectivamente.\n",
    "- Imprime ambas listas.\n",
    " "
   ]
  },
  {
   "cell_type": "markdown",
   "metadata": {},
   "source": [
    "\"2014\", \"1.20\""
   ]
  },
  {
   "cell_type": "code",
   "execution_count": 13,
   "metadata": {},
   "outputs": [
    {
     "name": "stdout",
     "output_type": "stream",
     "text": [
      "['2014', '2015', '2016', '2017', '2018', '2019', '2020', '2021', '2022', '2023']\n",
      "[1.2]\n",
      "['2014', '2015', '2016', '2017', '2018', '2019', '2020', '2021', '2022', '2023']\n",
      "[1.2, 1.35, 1.5, 1.6, 1.8, 1.95, 2.0, 2.1, 2.3, 2.5]\n"
     ]
    }
   ],
   "source": [
    "anios = []\n",
    "anios_2 = []\n",
    "dividendos_valores = []\n",
    "dividendos_valores_2 = []\n",
    "\n",
    "for d in dividendos:\n",
    "    anio_div = d.replace(\":\", \"\").split()\n",
    "    anios.append(anio_div[0])\n",
    "    dividendos_valores.append(float(anio_div[1]))\n",
    "\n",
    "anios_2.append(dividendos[0].replace(\":\", \"\").split()[0])\n",
    "anios_2.append(dividendos[1].replace(\":\", \"\").split()[0])\n",
    "anios_2.append(dividendos[2].replace(\":\", \"\").split()[0])\n",
    "anios_2.append(dividendos[3].replace(\":\", \"\").split()[0])\n",
    "anios_2.append(dividendos[4].replace(\":\", \"\").split()[0])\n",
    "anios_2.append(dividendos[5].replace(\":\", \"\").split()[0])\n",
    "anios_2.append(dividendos[6].replace(\":\", \"\").split()[0])\n",
    "anios_2.append(dividendos[7].replace(\":\", \"\").split()[0])\n",
    "anios_2.append(dividendos[8].replace(\":\", \"\").split()[0])\n",
    "anios_2.append(dividendos[9].replace(\":\", \"\").split()[0])\n",
    "print(anios_2)\n",
    "\n",
    "dividendos_valores_2.append(float(dividendos[0].replace(\":\", \"\").split()[1]))\n",
    "print(dividendos_valores_2)\n",
    "\n",
    "\n",
    "print(anios)\n",
    "print(dividendos_valores)"
   ]
  },
  {
   "cell_type": "markdown",
   "metadata": {},
   "source": [
    "2. Cálculo y manipulación de sublistas:\n",
    " - Calcula la diferencia en los dividendos entre el primer y el último año de la lista, y  guárdala en una variable llamada diferencia_dividendo.\n",
    " - Crea una sublista llamada dividendos_recientes que contenga solo los dividendos de los últimos 5 años (2019-2023).\n",
    " "
   ]
  },
  {
   "cell_type": "code",
   "execution_count": 14,
   "metadata": {},
   "outputs": [
    {
     "name": "stdout",
     "output_type": "stream",
     "text": [
      "-1.3\n",
      "[1.95, 2.0, 2.1, 2.3, 2.5]\n"
     ]
    }
   ],
   "source": [
    "diferencia_dividendo = dividendos_valores[0] - dividendos_valores[9]\n",
    "print(diferencia_dividendo)\n",
    "\n",
    "dividendos_recientes = dividendos_valores[5:]\n",
    "print(dividendos_recientes)"
   ]
  },
  {
   "cell_type": "markdown",
   "metadata": {},
   "source": [
    "3. Cálculo avanzado con sublistas:\n",
    " - Calcula el crecimiento porcentual total del dividendo desde 2014 hasta 2023.\n",
    " - Calcula el promedio de los dividendos en los últimos 5 años usando la lista\n",
    " dividendos_recientes.\n"
   ]
  },
  {
   "cell_type": "code",
   "execution_count": 15,
   "metadata": {},
   "outputs": [
    {
     "name": "stdout",
     "output_type": "stream",
     "text": [
      "8.333333333333348\n"
     ]
    }
   ],
   "source": [
    "crecimiento_porcentual = (((dividendos_valores[-1] - dividendos_valores[0]) / dividendos_valores[0]) - 1) *100\n",
    "print(crecimiento_porcentual)"
   ]
  },
  {
   "cell_type": "code",
   "execution_count": 16,
   "metadata": {},
   "outputs": [
    {
     "data": {
      "text/plain": [
       "2.1700000000000004"
      ]
     },
     "execution_count": 16,
     "metadata": {},
     "output_type": "execute_result"
    }
   ],
   "source": [
    "sum(dividendos_valores[5:]) / len(dividendos_valores[5:])"
   ]
  },
  {
   "cell_type": "markdown",
   "metadata": {},
   "source": [
    "Análisis de tendencias:\n",
    " - Usandola lista dividendos_valores, determina si ha habido una tendencia\n",
    " consistente de crecimiento anual en los dividendos. \n",
    " - Imprime un mensaje que indique si la tendencia fue consistentemente ascendente o si hubo años en los\n",
    " que los dividendos disminuyeron o se mantuvieron estables"
   ]
  },
  {
   "cell_type": "code",
   "execution_count": 24,
   "metadata": {},
   "outputs": [
    {
     "name": "stdout",
     "output_type": "stream",
     "text": [
      "[-0.1111111111111112, -0.09999999999999994, -0.06250000000000006, -0.11111111111111108, -0.07692307692307689, -0.025000000000000022, -0.04761904761904766, -0.08695652173913032, -0.08000000000000007]\n"
     ]
    }
   ],
   "source": [
    "tendencia = []\n",
    "\n",
    "tendencia.append((dividendos_valores[0] - dividendos_valores[1])/dividendos_valores[1])\n",
    "tendencia.append((dividendos_valores[1] - dividendos_valores[2])/dividendos_valores[2])\n",
    "tendencia.append((dividendos_valores[2] - dividendos_valores[3])/dividendos_valores[3])\n",
    "tendencia.append((dividendos_valores[3] - dividendos_valores[4])/dividendos_valores[4])\n",
    "tendencia.append((dividendos_valores[4] - dividendos_valores[5])/dividendos_valores[5])\n",
    "tendencia.append((dividendos_valores[5] - dividendos_valores[6])/dividendos_valores[6])\n",
    "tendencia.append((dividendos_valores[6] - dividendos_valores[7])/dividendos_valores[7])\n",
    "tendencia.append((dividendos_valores[7] - dividendos_valores[8])/dividendos_valores[8])\n",
    "tendencia.append((dividendos_valores[8] - dividendos_valores[9])/dividendos_valores[9])\n",
    "\n",
    "print(tendencia)"
   ]
  }
 ],
 "metadata": {
  "kernelspec": {
   "display_name": "base",
   "language": "python",
   "name": "python3"
  },
  "language_info": {
   "codemirror_mode": {
    "name": "ipython",
    "version": 3
   },
   "file_extension": ".py",
   "mimetype": "text/x-python",
   "name": "python",
   "nbconvert_exporter": "python",
   "pygments_lexer": "ipython3",
   "version": "3.11.5"
  }
 },
 "nbformat": 4,
 "nbformat_minor": 2
}
