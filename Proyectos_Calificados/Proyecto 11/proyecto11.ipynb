{
 "cells": [
  {
   "cell_type": "markdown",
   "metadata": {
    "vscode": {
     "languageId": "bat"
    }
   },
   "source": [
    "Descripción de los datos\n",
    "\n",
    "Cada entrada de registro es una acción de usuario o un evento.\n",
    "\n",
    "    EventName: nombre del evento.\n",
    "    DeviceIDHash: identificador de usuario unívoco.\n",
    "    EventTimestamp: hora del evento.\n",
    "    ExpId: número de experimento. 246 y 247 son los grupos de control, y 248 es el grupo de prueba.\n",
    "\n",
    "Instrucciones para completar el proyecto\n",
    "\n",
    "Paso 1. Abrir el archivo de datos y leer la información general\n",
    "\n",
    "Ruta de archivo: */datasets/logs_exp_us.csv* \n"
   ]
  },
  {
   "cell_type": "code",
   "execution_count": null,
   "metadata": {},
   "outputs": [],
   "source": [
    "# se importan las librerias necesarias para el analisis de datos\n",
    "import pandas as pd\n",
    "import numpy as np\n",
    "import seaborn as sns\n",
    "import datetime as dt\n",
    "import scipy.stats as stats\n",
    "from matplotlib import pyplot as plt\n",
    "\n",
    "\n",
    "def looks(datos):\n",
    "    \"\"\"Genera un análisis de todo el set de datos de manera global\"\"\"\n",
    "\n",
    "    print(\"Se ejecuta la descripción de los datos:\")\n",
    "    print(datos.describe(include=\"all\"))\n",
    "    print()\n",
    "    print(\"se hace exploración con método info:\")\n",
    "    print(datos.info())\n",
    "    print()\n",
    "    print(\"se hace una observación con el método Sample:\")\n",
    "    if len(datos) > 10:\n",
    "        print(datos.sample(10))\n",
    "    else:\n",
    "        print(datos)\n",
    "    print()\n",
    "    print(\"hay NA?:\")\n",
    "    print(datos.isna().sum())\n",
    "    print()\n",
    "    print(\"Duplicados:\")\n",
    "    print(datos.duplicated().sum())"
   ]
  },
  {
   "cell_type": "code",
   "execution_count": null,
   "metadata": {},
   "outputs": [],
   "source": [
    "data = pd.read_csv('logs_exp_us.csv' , sep='\\t')\n",
    "looks(data)"
   ]
  },
  {
   "cell_type": "code",
   "execution_count": null,
   "metadata": {},
   "outputs": [],
   "source": [
    "#Se exploran los duplicados para ver si hay duplicados reales, Se determina que no, solo son distintos eventos para el mismo dispositivo, o el mismo evento para distintos dispositivos\n",
    "print(data[data.duplicated()].sort_values('DeviceIDHash').head(15))"
   ]
  },
  {
   "cell_type": "markdown",
   "metadata": {},
   "source": [
    "\n",
    "Paso 2. Preparar los datos para el análisis\n",
    "\n",
    "    Cambia el nombre de las columnas de manera que sea conveniente para ti.\n",
    "    Comprueba los tipos de datos y valores ausentes. Corrige los datos si es necesario.\n",
    "    Agrega una columna de fecha y hora y una columna separada para las fechas."
   ]
  },
  {
   "cell_type": "code",
   "execution_count": null,
   "metadata": {},
   "outputs": [],
   "source": [
    "data['daytime'] = data['EventTimestamp'].apply(lambda x: dt.datetime.fromtimestamp(x))\n",
    "data['date'] = data['daytime'].dt.date\n",
    "data"
   ]
  },
  {
   "cell_type": "markdown",
   "metadata": {},
   "source": [
    "\n",
    "\n",
    "Paso 3. Estudiar y comprobar los datos\n",
    "\n",
    "  -  ¿Cuántos eventos hay en los registros?\n",
    "  -  ¿Cuántos usuarios hay en los registros?\n",
    "  -  ¿Cuál es el promedio de eventos por usuario?\n",
    "  -  ¿Qué periodo de tiempo cubren los datos? Encuentra la fecha máxima y mínima. Traza un histograma por fecha y hora. ¿Puedes tener seguridad de que tienes datos igualmente completos para todo el periodo? Los eventos más antiguos podrían terminar en los registros de algunos usuarios por razones técnicas y esto podría sesgar el panorama general. Encuentra el momento en el que los datos comienzan a estar completos e ignora la sección anterior. ¿Qué periodo representan realmente los datos?\n",
    "  -  ¿Perdiste muchos eventos y usuarios al excluir los datos más antiguos?\n",
    "  -  Asegúrate de tener usuarios de los tres grupos experimentales.\n"
   ]
  },
  {
   "cell_type": "code",
   "execution_count": null,
   "metadata": {},
   "outputs": [],
   "source": [
    "# ¿Cuántos eventos hay en los registros?\n",
    "print('Nombres de los eventos:')\n",
    "for event in data['EventName'].unique(): print(event)\n",
    "print()\n",
    "print('Número de eventos:',len(data['EventName'].unique()))"
   ]
  },
  {
   "cell_type": "code",
   "execution_count": null,
   "metadata": {},
   "outputs": [],
   "source": [
    "# ¿Cuántos usuarios hay en los registros?\n",
    "\n",
    "print('Número de Usuarios:', len(data['DeviceIDHash'].unique()))"
   ]
  },
  {
   "cell_type": "code",
   "execution_count": null,
   "metadata": {},
   "outputs": [],
   "source": [
    "# ¿Cuál es el promedio de eventos por usuario?\n",
    "\n",
    "\n",
    "print(f\"El promedio de eventos por usuario es de: {data.groupby('DeviceIDHash')['EventName'].count().mean():.2f} eventos\")"
   ]
  },
  {
   "cell_type": "code",
   "execution_count": null,
   "metadata": {},
   "outputs": [],
   "source": [
    " # ¿Qué periodo de tiempo cubren los datos? Encuentra la fecha máxima y mínima. \n",
    "print(f\"Fecha mínima: {data['daytime'].min()}\")\n",
    "print(f\"Fecha máxima: {data['daytime'].max()}\")\n",
    "\n",
    "# Traza un histograma por fecha y hora\n",
    "plt.figure(figsize=(12, 6))\n",
    "data['daytime'].hist(bins=100)\n",
    "plt.xlabel('Fecha y Hora')\n",
    "plt.ylabel('Frecuencia')\n",
    "plt.title('Histograma de eventos por fecha')\n",
    "plt.xticks(rotation=45)\n",
    "plt.show()"
   ]
  },
  {
   "cell_type": "code",
   "execution_count": null,
   "metadata": {},
   "outputs": [],
   "source": [
    " # ¿Puedes tener seguridad de que tienes datos igualmente completos para todo el periodo? Los eventos más antiguos podrían terminar en los registros de algunos usuarios por razones técnicas y esto podría sesgar el panorama general. \n",
    " # Encuentra el momento en el que los datos comienzan a estar completos e ignora la sección anterior. \n",
    "data_f = data[data['date'] > pd.to_datetime('2019-08-01').date()]\n",
    " # ¿Qué periodo representan realmente los datos?\n",
    "print('Se observa que los datos son mas consistentes y parecen estar mas completos apartir del primero de agosto')\n",
    "print()\n",
    "print(data_f.head())\n"
   ]
  },
  {
   "cell_type": "code",
   "execution_count": null,
   "metadata": {},
   "outputs": [],
   "source": [
    "# Traza un histograma por fecha y hora\n",
    "plt.figure(figsize=(12, 6))\n",
    "data_f['daytime'].hist(bins=100)\n",
    "plt.xlabel('Fecha y Hora')\n",
    "plt.ylabel('Frecuencia')\n",
    "plt.title('Histograma de eventos por fecha (filtrado)')\n",
    "plt.xticks(rotation=45)\n",
    "plt.show()"
   ]
  },
  {
   "cell_type": "markdown",
   "metadata": {},
   "source": [
    "Se observa que hay una tendencia a utilizar la app en aproximadamente la misma hora del dia"
   ]
  },
  {
   "cell_type": "markdown",
   "metadata": {},
   "source": [
    "\n",
    "Paso 4. Estudiar el embudo de eventos\n",
    "\n",
    "    Observa qué eventos hay en los registros y su frecuencia de suceso. Ordénalos por frecuencia.\n",
    "    Encuentra la cantidad de usuarios que realizaron cada una de estas acciones. Ordena los eventos por el número de usuarios. Calcula la proporción de usuarios que realizaron la acción al menos una vez.\n",
    "    ¿En qué orden crees que ocurrieron las acciones? ¿Todas son parte de una sola secuencia? No es necesario tenerlas en cuenta al calcular el embudo.\n",
    "    Utiliza el embudo de eventos para encontrar la proporción de usuarios que pasan de una etapa a la siguiente. Por ejemplo, para la secuencia de eventos A → B → C, calcula la proporción de usuarios en la etapa B a la cantidad de usuarios en la etapa A y la proporción de usuarios en la etapa C a la cantidad en la etapa B.\n",
    "    ¿En qué etapa pierdes más usuarios?\n",
    "    ¿Qué porcentaje de usuarios hace todo el viaje desde su primer evento hasta el pago?\n"
   ]
  },
  {
   "cell_type": "code",
   "execution_count": null,
   "metadata": {},
   "outputs": [],
   "source": [
    "#  Observa qué eventos hay en los registros y su frecuencia de suceso. Ordénalos por frecuencia.\n",
    "data_f.groupby('EventName')['daytime'].agg('count').sort_values()"
   ]
  },
  {
   "cell_type": "markdown",
   "metadata": {},
   "source": [
    "Se observa que el evento mas frecuente es ver la pantalla principal, por el contrario casi ningun usuario realizo el tutorial "
   ]
  },
  {
   "cell_type": "code",
   "execution_count": null,
   "metadata": {},
   "outputs": [],
   "source": [
    "#Encuentra la cantidad de usuarios que realizaron cada una de estas acciones. Ordena los eventos por el número de usuarios.\n",
    "eventByUser = data_f.groupby('EventName')['DeviceIDHash'].nunique().sort_values(ascending= False)\n",
    "# Calcula la proporción de usuarios que realizaron la acción al menos una vez.\n",
    "n_usuarios = data_f['DeviceIDHash'].nunique()\n",
    "\n",
    "print('El numero de eventos por usuario es:')\n",
    "print(eventByUser)\n",
    "print()\n",
    "print('la proporcion es:')\n",
    "print(eventByUser/n_usuarios)\n"
   ]
  },
  {
   "cell_type": "markdown",
   "metadata": {},
   "source": [
    "Se observa que menos de la mitad de usuarios que abren la aplicacion concretan la compra "
   ]
  },
  {
   "cell_type": "code",
   "execution_count": null,
   "metadata": {},
   "outputs": [],
   "source": [
    "# definimos una funcion para uso posterior \n",
    "\n",
    "def funnl_ord(data, funnel):\n",
    "    \"\"\" Se genera una funcion para establecer el orden de eventos. \n",
    "    Se toman dos argumentos; el origen de los datos y el funnel ordenado de los eventos\"\"\"\n",
    "\n",
    "    funn_eve = pd.DataFrame(columns=['event', 'unique_users', 'proportion'])\n",
    "\n",
    "    for i in range(len(funnel) - 1):\n",
    "        current_event = funnel[i]\n",
    "        next_event = funnel[i + 1]\n",
    "\n",
    "        current_users = data[data['EventName'] == current_event]['DeviceIDHash'].unique()\n",
    "        next_users = data[data['EventName'] == next_event]['DeviceIDHash'].unique()\n",
    "\n",
    "        proportion = len(set(next_users) & set(current_users)) / len(current_users)\n",
    "\n",
    "        new_row = pd.DataFrame({'event': [next_event], 'unique_users': [len(next_users)], 'proportion': [proportion]})\n",
    "        funn_eve = pd.concat([funn_eve, new_row], ignore_index=True)\n",
    "    print(funn_eve)"
   ]
  },
  {
   "cell_type": "code",
   "execution_count": null,
   "metadata": {},
   "outputs": [],
   "source": [
    "#¿En qué orden crees que ocurrieron las acciones? ¿Todas son parte de una sola secuencia? No es necesario tenerlas en cuenta al calcular el embudo.\n",
    "#Utiliza el embudo de eventos para encontrar la proporción de usuarios que pasan de una etapa a la siguiente. Por ejemplo, para la secuencia de eventos A → B → C, calcula la proporción de usuarios en la etapa B a la cantidad de usuarios en la etapa A y la proporción de usuarios en la etapa C a la cantidad en la etapa B.\n",
    "#¿En qué etapa pierdes más usuarios?\n",
    "\n",
    "#Debido a que los usuarios parecen omitir el tutorial no se considera para el embudo de eventos \n",
    "#se genera embudo\n",
    "funnel = ['MainScreenAppear','OffersScreenAppear','CartScreenAppear','PaymentScreenSuccessful']\n",
    "\n",
    "funnl_ord(data_f,funnel)\n"
   ]
  },
  {
   "cell_type": "markdown",
   "metadata": {},
   "source": [
    "Se observa que poco mas de la mitad de usuarios que abren la apliacion pasan a la pantalla de oferta pero el 80% de esos agregan el prducto a su carrito y casi el 100% de los usuarios con producto en el carrito realizan la compra "
   ]
  },
  {
   "cell_type": "code",
   "execution_count": null,
   "metadata": {},
   "outputs": [],
   "source": [
    "#  ¿Qué porcentaje de usuarios hace todo el viaje desde su primer evento hasta el pago?\n",
    "def user_full_trip(data, funnel, show=True):\n",
    "    \"\"\" Se genera una funcion para dar el porcentaje de usuarios que recorren el funnel completo\n",
    "    desde el inicio hasta el final\"\"\"\n",
    "\n",
    "    # Encuentra los usuarios que realizaron el primer evento\n",
    "    first_event_users = data[data['EventName'] == funnel[0]]['DeviceIDHash'].unique()\n",
    "    # Encuentra los usuarios que realizaron el último evento (pago)\n",
    "    last_event_users = data[data['EventName'] == funnel[-1]]['DeviceIDHash'].unique()\n",
    "    # Calcula el porcentaje de usuarios que realizaron todo el viaje\n",
    "    percentage_full_journey = len(set(last_event_users) & set(first_event_users)) / len(first_event_users) * 100\n",
    "    \n",
    "    if show:\n",
    "        print(f\"El porcentaje de usuarios que hace todo el viaje desde su primer evento hasta el pago es: {percentage_full_journey:.2f}%\")\n",
    "    else:\n",
    "        return percentage_full_journey\n",
    "\n",
    "\n",
    "user_full_trip(data_f,funnel)"
   ]
  },
  {
   "cell_type": "markdown",
   "metadata": {},
   "source": [
    "\n",
    "Paso 5. Estudiar los resultados del experimento\n",
    "\n",
    "   - ¿Cuántos usuarios hay en cada grupo?\n",
    "   - Tenemos dos grupos de control en el test A/A, donde comprobamos nuestros mecanismos y cálculos. Observa si hay una diferencia estadísticamente significativa entre las muestras 246 y 247.\n",
    "   - Selecciona el evento más popular. En cada uno de los grupos de control, encuentra la cantidad de usuarios que realizaron esta acción. Encuentra su proporción. Comprueba si la diferencia entre los grupos es estadísticamente significativa. Repite el procedimiento para todos los demás eventos (ahorrarás tiempo si creas una función especial para esta prueba). ¿Puedes confirmar que los grupos se dividieron correctamente?\n",
    "   - Haz lo mismo para el grupo con fuentes alteradas. Compara los resultados con los de cada uno de los grupos de control para cada evento de forma aislada. Compara los resultados con los resultados combinados de los grupos de control. ¿Qué conclusiones puedes sacar del experimento?\n",
    "   - ¿Qué nivel de significancia has establecido para probar las hipótesis estadísticas mencionadas anteriormente? Calcula cuántas pruebas de hipótesis estadísticas has realizado. Con un nivel de significancia estadística de 0.1, uno de cada 10 resultados podría ser falso. ¿Cuál debería ser el nivel de significancia? Si deseas cambiarlo, vuelve a ejecutar los pasos anteriores y comprueba tus conclusiones."
   ]
  },
  {
   "cell_type": "code",
   "execution_count": null,
   "metadata": {},
   "outputs": [],
   "source": [
    "usuarios_por_grupo = data_f.pivot_table(\n",
    "    index='ExpId', values='DeviceIDHash', aggfunc='nunique')\n",
    "\n",
    "usuarios_por_grupo"
   ]
  },
  {
   "cell_type": "code",
   "execution_count": null,
   "metadata": {},
   "outputs": [],
   "source": [
    "gpo_246 = data_f[data_f['ExpId'] == 246]['DeviceIDHash'].unique()\n",
    "gpo_247 = data_f[data_f['ExpId'] == 247]['DeviceIDHash'].unique()"
   ]
  },
  {
   "cell_type": "code",
   "execution_count": null,
   "metadata": {},
   "outputs": [],
   "source": [
    "t_stat, p_value = stats.ttest_ind(gpo_246, gpo_247, equal_var=False)\n",
    "print(f\"Estadístico t: {t_stat:.4f}, Valor p: {p_value:.4f}\")"
   ]
  },
  {
   "cell_type": "markdown",
   "metadata": {},
   "source": [
    "Se observa que la significancia estadistica es muy alta por lo tanto las diferencias no existen entre los grupos. Esto es algo esperado ya que ambas muestras son del grupo control.\n"
   ]
  },
  {
   "cell_type": "code",
   "execution_count": null,
   "metadata": {},
   "outputs": [],
   "source": [
    "#ver evento mas popular\n",
    "data_f.pivot_table(index='EventName', columns='ExpId', aggfunc='nunique', values='DeviceIDHash')"
   ]
  },
  {
   "cell_type": "markdown",
   "metadata": {},
   "source": [
    "Se encuentra que el evento mas popular es la presenciation de la pantalla principal"
   ]
  },
  {
   "cell_type": "code",
   "execution_count": null,
   "metadata": {},
   "outputs": [],
   "source": [
    "# Se genera una funcion para el calulo de proporciones (se experimenta con PEP 3107)\n",
    "def u_per_ev_gpo(data: pd.DataFrame, gpo: int, evento: str) -> None:\n",
    "    \"\"\"Se genera funcion para calcular la proporcion del evento\"\"\"\n",
    "    u_eve = data[(data['ExpId'] == gpo) & (data['EventName'] == evento)]['DeviceIDHash'].nunique()\n",
    "    u_gpo = data[data['ExpId'] == gpo]['DeviceIDHash'].nunique()\n",
    "\n",
    "    Prop = u_eve / u_gpo\n",
    "    print(f'La proporcion de usuarios del grupo {gpo}, que realizaron el evento es: {Prop:.2%}')"
   ]
  },
  {
   "cell_type": "code",
   "execution_count": null,
   "metadata": {},
   "outputs": [],
   "source": [
    "for gpo in [246, 247, 248]:\n",
    "    u_per_ev_gpo(data_f, gpo, 'MainScreenAppear')\n"
   ]
  },
  {
   "cell_type": "code",
   "execution_count": null,
   "metadata": {},
   "outputs": [],
   "source": [
    "def t_dif_gpo(gpo1: pd.DataFrame, gpo2: pd.DataFrame, P: float=0.05) -> None:\n",
    "    t_stat_evento, p_value_evento = stats.ttest_ind(\n",
    "        gpo1, gpo2, equal_var=False)\n",
    "    print('El resultado de la prueba es:')\n",
    "    print(f\"Estadístico t: {t_stat_evento:.4F}, Valor p: {p_value_evento:.4F}\")\n",
    "\n",
    "    if p_value_evento < P:\n",
    "        print(\"Existen diferencias significativas.\")\n",
    "    else:\n",
    "        print(\"No hay diferencias significativas.\")\n"
   ]
  },
  {
   "cell_type": "code",
   "execution_count": null,
   "metadata": {},
   "outputs": [],
   "source": [
    "gpo_246 = data[(data['ExpId'] == 246) & (data['EventName'] == 'MainScreenAppear')]['DeviceIDHash'].value_counts()\n",
    "gpo_247 = data[(data['ExpId'] == 247) & (data['EventName'] == 'MainScreenAppear')]['DeviceIDHash'].value_counts()\n",
    "gpo_248 = data[(data['ExpId'] == 248) & (data['EventName'] == 'MainScreenAppear')]['DeviceIDHash'].value_counts()\n",
    "gpo_ctrl = data[(data['ExpId'] != 248) & (data['EventName'] == 'MainScreenAppear')]['DeviceIDHash'].value_counts()"
   ]
  },
  {
   "cell_type": "code",
   "execution_count": null,
   "metadata": {},
   "outputs": [],
   "source": [
    "t_dif_gpo(gpo_246,gpo_247)\n",
    "print('No hay diferencia entre los grupos control, cosa que se espera :)')\n"
   ]
  },
  {
   "cell_type": "code",
   "execution_count": null,
   "metadata": {},
   "outputs": [],
   "source": [
    "t_dif_gpo(gpo_ctrl,gpo_248)\n",
    "print('No hay diferencia entre los grupos control y experimental \\nEsto denota que nuestro experimento no tuvo efectividad')"
   ]
  },
  {
   "cell_type": "code",
   "execution_count": null,
   "metadata": {},
   "outputs": [],
   "source": [
    "#Se repiten los analisis con la nueva p sugerida\n",
    "\n",
    "t_dif_gpo(gpo_246,gpo_247,0.1)\n"
   ]
  },
  {
   "cell_type": "code",
   "execution_count": null,
   "metadata": {},
   "outputs": [],
   "source": [
    "t_dif_gpo(gpo_ctrl, gpo_248,0.1)"
   ]
  },
  {
   "cell_type": "markdown",
   "metadata": {},
   "source": [
    "Se observa que los resultados de la prueba ya son significativos al ajustar la significancia, sin embargo; el aumentar la significancia para hacer que los datos se amolden a la hipotesis es una tecnica que no debe ser realizada, ya que la significancia debe establecerce a priori para garantizar la confiabilidad de las pruebas A/B."
   ]
  }
 ],
 "metadata": {
  "kernelspec": {
   "display_name": "TT",
   "language": "python",
   "name": "python3"
  },
  "language_info": {
   "codemirror_mode": {
    "name": "ipython",
    "version": 3
   },
   "file_extension": ".py",
   "mimetype": "text/x-python",
   "name": "python",
   "nbconvert_exporter": "python",
   "pygments_lexer": "ipython3",
   "version": "3.13.2"
  }
 },
 "nbformat": 4,
 "nbformat_minor": 2
}
