{
 "cells": [
  {
   "cell_type": "markdown",
   "metadata": {},
   "source": [
    "# ¡Hola Elias! 😊\n",
    "\n",
    "Mi nombre es **Alejandro Castellanos** y hoy tengo el placer de ser el revisor de tu proyecto.\n",
    "\n",
    "Voy a revisar todo tu código con detalle, buscando tanto los puntos fuertes como aquellos en los que podrías mejorar. Te dejaré comentarios a lo largo del notebook, destacando lo que has hecho bien y sugiriendo ajustes donde sea necesario. Si encuentro algún error, no te preocupes, te lo haré saber de forma clara y te daré información útil para que puedas corregirlo en la próxima iteración. Si en algún punto tienes comentarios, siéntete libre de dejarlos también.\n",
    "\n",
    "\n",
    "Encontrarás mis comentarios específicos dentro de cajas verdes, amarillas o rojas, es muy importante que no muevas, modifiques o borres mis comentarios, con el fin de tener un seguimiento adecuado de tu proceso:\n",
    "\n",
    "\n",
    "<div class=\"alert alert-block alert-success\">\n",
    "<b>Comentario del revisor</b> <a class=“tocSkip”></a>\n",
    "Si todo está perfecto.\n",
    "</div>\n",
    "\n",
    "<div class=\"alert alert-block alert-warning\">\n",
    "<b>Comentario del revisor</b> <a class=“tocSkip”></a>\n",
    "Si tu código está bien pero se puede mejorar o hay algún detalle que le hace falta.\n",
    "</div>\n",
    "\n",
    "<div class=\"alert alert-block alert-danger\">\n",
    "<b>Comentario del revisor</b> <a class=“tocSkip”></a>\n",
    "Si de pronto hace falta algo o existe algún problema con tu código o conclusiones.\n",
    "</div>\n",
    "\n",
    "Puedes responderme de esta forma:\n",
    "<div class=\"alert alert-block alert-info\">\n",
    "<b>Respuesta del estudiante</b> <a class=“tocSkip”></a>\n",
    "</div>\n",
    "\n",
    "A continuación te dejaré un comentario general con mi valoración del proyecto. **¡Mi objetivo es que sigas aprendiendo y mejorando con cada paso!**"
   ]
  },
  {
   "cell_type": "markdown",
   "metadata": {},
   "source": [
    "----"
   ]
  },
  {
   "cell_type": "markdown",
   "metadata": {},
   "source": [
    "<div class=\"alert alert-block alert-success\">\n",
    "<b>Comentario General del revisor (1ra Iteración)</b> <a class=“tocSkip”></a>\n",
    "\n",
    "Elias has realizado un gran trabajo en el desarrollo de este proyecto, desde la meticulosa preparación inicial de los datos hasta la validación final de hipótesis mediante pruebas estadísticas rigurosas. La limpieza efectiva de datos, incluyendo la identificación de duplicados, estableció una base sólida para tu análisis del embudo de conversión, donde identificaste con precisión los puntos críticos de abandono de usuarios. Tu aplicación adecuada de pruebas estadísticas demuestra un dominio sólido de la inferencia estadística, mientras que tus visualizaciones comunican efectivamente los hallazgos clave. Aunque el trabajo es sobresaliente, podría elevarse aún más mediante la implementación de técnicas de corrección para comparaciones múltiples (como Bonferroni o Benjamini-Hochberg) y la inclusión de visualizaciones adicionales como curvas de conversión del embudo. La combinación de tu rigor analítico con la capacidad para extraer conclusiones accionables para el negocio demuestra tu potencial como analista de datos.\n",
    "    \n",
    "Te deseo éxitos en tu próximo Sprint 🚀\n",
    "    \n",
    "*Estado del Proyecto*: **Aprobado**\n",
    "\n",
    "</div>"
   ]
  },
  {
   "cell_type": "markdown",
   "metadata": {},
   "source": [
    "---"
   ]
  },
  {
   "cell_type": "markdown",
   "metadata": {
    "vscode": {
     "languageId": "bat"
    }
   },
   "source": [
    "Descripción de los datos\n",
    "\n",
    "Cada entrada de registro es una acción de usuario o un evento.\n",
    "\n",
    "    EventName: nombre del evento.\n",
    "    DeviceIDHash: identificador de usuario unívoco.\n",
    "    EventTimestamp: hora del evento.\n",
    "    ExpId: número de experimento. 246 y 247 son los grupos de control, y 248 es el grupo de prueba.\n",
    "\n",
    "Instrucciones para completar el proyecto\n",
    "\n",
    "Paso 1. Abrir el archivo de datos y leer la información general\n",
    "\n",
    "Ruta de archivo: */datasets/logs_exp_us.csv* \n"
   ]
  },
  {
   "cell_type": "code",
   "execution_count": 1,
   "metadata": {},
   "outputs": [],
   "source": [
    "# se importan las librerias necesarias para el analisis de datos\n",
    "import pandas as pd\n",
    "import numpy as np\n",
    "import seaborn as sns\n",
    "import datetime as dt\n",
    "import scipy.stats as stats\n",
    "from matplotlib import pyplot as plt\n",
    "\n",
    "\n",
    "def looks(datos):\n",
    "    \"\"\"Genera un análisis de todo el set de datos de manera global\"\"\"\n",
    "\n",
    "    print(\"Se ejecuta la descripción de los datos:\")\n",
    "    print(datos.describe(include=\"all\"))\n",
    "    print()\n",
    "    print(\"se hace exploración con método info:\")\n",
    "    print(datos.info())\n",
    "    print()\n",
    "    print(\"se hace una observación con el método Sample:\")\n",
    "    if len(datos) > 10:\n",
    "        print(datos.sample(10))\n",
    "    else:\n",
    "        print(datos)\n",
    "    print()\n",
    "    print(\"hay NA?:\")\n",
    "    print(datos.isna().sum())\n",
    "    print()\n",
    "    print(\"Duplicados:\")\n",
    "    print(datos.duplicated().sum())"
   ]
  },
  {
   "cell_type": "markdown",
   "metadata": {},
   "source": [
    "<div class=\"alert alert-block alert-success\">\n",
    "<b>Comentario del revisor (1ra Iteración)</b> <a class=“tocSkip”></a>\n",
    "\n",
    "Elias gran idea usar una función propia para hacer un análisis exploratorios. Las funciones `info` y `describe` nos permitirán tener una visión clara del contenido y estructura del dataset. Adicionalmente, hiciste una comprobación de datos faltantes y duplicados.\n",
    "\n",
    "</div>"
   ]
  },
  {
   "cell_type": "code",
   "execution_count": 2,
   "metadata": {},
   "outputs": [
    {
     "name": "stdout",
     "output_type": "stream",
     "text": [
      "Se ejecuta la descripción de los datos:\n",
      "               EventName  DeviceIDHash  EventTimestamp          ExpId\n",
      "count             244126  2.441260e+05    2.441260e+05  244126.000000\n",
      "unique                 5           NaN             NaN            NaN\n",
      "top     MainScreenAppear           NaN             NaN            NaN\n",
      "freq              119205           NaN             NaN            NaN\n",
      "mean                 NaN  4.627568e+18    1.564914e+09     247.022296\n",
      "std                  NaN  2.642425e+18    1.771343e+05       0.824434\n",
      "min                  NaN  6.888747e+15    1.564030e+09     246.000000\n",
      "25%                  NaN  2.372212e+18    1.564757e+09     246.000000\n",
      "50%                  NaN  4.623192e+18    1.564919e+09     247.000000\n",
      "75%                  NaN  6.932517e+18    1.565075e+09     248.000000\n",
      "max                  NaN  9.222603e+18    1.565213e+09     248.000000\n",
      "\n",
      "se hace exploración con método info:\n",
      "<class 'pandas.core.frame.DataFrame'>\n",
      "RangeIndex: 244126 entries, 0 to 244125\n",
      "Data columns (total 4 columns):\n",
      " #   Column          Non-Null Count   Dtype \n",
      "---  ------          --------------   ----- \n",
      " 0   EventName       244126 non-null  object\n",
      " 1   DeviceIDHash    244126 non-null  int64 \n",
      " 2   EventTimestamp  244126 non-null  int64 \n",
      " 3   ExpId           244126 non-null  int64 \n",
      "dtypes: int64(3), object(1)\n",
      "memory usage: 7.5+ MB\n",
      "None\n",
      "\n",
      "se hace una observación con el método Sample:\n",
      "                      EventName         DeviceIDHash  EventTimestamp  ExpId\n",
      "79451          MainScreenAppear  5663529522095044035      1564817106    248\n",
      "115566         CartScreenAppear   205293431553451771      1564909227    246\n",
      "227727  PaymentScreenSuccessful  5228694787127532137      1565181555    247\n",
      "12656          MainScreenAppear  2563919866671202083      1564652554    246\n",
      "33723        OffersScreenAppear  6932517045703054087      1564683767    248\n",
      "24940          CartScreenAppear  8281485486574148605      1564670922    247\n",
      "54187          CartScreenAppear  6749055260514538416      1564745379    248\n",
      "142889       OffersScreenAppear  1729553690289446391      1564980535    247\n",
      "24183          MainScreenAppear  6125118167294834696      1564669952    247\n",
      "77260          MainScreenAppear  8523590611747568369      1564811255    247\n",
      "\n",
      "hay NA?:\n",
      "EventName         0\n",
      "DeviceIDHash      0\n",
      "EventTimestamp    0\n",
      "ExpId             0\n",
      "dtype: int64\n",
      "\n",
      "Duplicados:\n",
      "413\n"
     ]
    }
   ],
   "source": [
    "data = pd.read_csv('/datasets/logs_exp_us.csv' , sep='\\t')\n",
    "looks(data)"
   ]
  },
  {
   "cell_type": "code",
   "execution_count": 3,
   "metadata": {},
   "outputs": [
    {
     "name": "stdout",
     "output_type": "stream",
     "text": [
      "                      EventName        DeviceIDHash  EventTimestamp  ExpId\n",
      "130558         MainScreenAppear   33176906322804559      1564933075    248\n",
      "130995       OffersScreenAppear   33176906322804559      1564933763    248\n",
      "104108         CartScreenAppear   34565258828294726      1564857221    248\n",
      "159302  PaymentScreenSuccessful   54903596035630984      1565011672    248\n",
      "176813  PaymentScreenSuccessful   77364241990273403      1565044732    246\n",
      "189896         MainScreenAppear   91292479590032512      1565087723    246\n",
      "155464         MainScreenAppear   95206628315371849      1565005724    247\n",
      "110479         MainScreenAppear  170935625628929269      1564897487    246\n",
      "34223          CartScreenAppear  197027893265565660      1564684544    246\n",
      "17037          CartScreenAppear  197027893265565660      1564659614    246\n",
      "112562         CartScreenAppear  197027893265565660      1564902904    246\n",
      "144045         CartScreenAppear  197027893265565660      1564983860    246\n",
      "23421          CartScreenAppear  197027893265565660      1564668928    246\n",
      "220672         MainScreenAppear  252409739172511110      1565167797    246\n",
      "235186         CartScreenAppear  299409047914517767      1565193055    248\n"
     ]
    }
   ],
   "source": [
    "#Se exploran los duplicados para ver si hay duplicados reales, Se determina que no, solo son distintos eventos para el mismo dispositivo, o el mismo evento para distintos dispositivos\n",
    "print(data[data.duplicated()].sort_values('DeviceIDHash').head(15))"
   ]
  },
  {
   "cell_type": "markdown",
   "metadata": {},
   "source": [
    "\n",
    "Paso 2. Preparar los datos para el análisis\n",
    "\n",
    "    Cambia el nombre de las columnas de manera que sea conveniente para ti.\n",
    "    Comprueba los tipos de datos y valores ausentes. Corrige los datos si es necesario.\n",
    "    Agrega una columna de fecha y hora y una columna separada para las fechas."
   ]
  },
  {
   "cell_type": "code",
   "execution_count": 4,
   "metadata": {},
   "outputs": [
    {
     "data": {
      "text/html": [
       "<div>\n",
       "<style scoped>\n",
       "    .dataframe tbody tr th:only-of-type {\n",
       "        vertical-align: middle;\n",
       "    }\n",
       "\n",
       "    .dataframe tbody tr th {\n",
       "        vertical-align: top;\n",
       "    }\n",
       "\n",
       "    .dataframe thead th {\n",
       "        text-align: right;\n",
       "    }\n",
       "</style>\n",
       "<table border=\"1\" class=\"dataframe\">\n",
       "  <thead>\n",
       "    <tr style=\"text-align: right;\">\n",
       "      <th></th>\n",
       "      <th>EventName</th>\n",
       "      <th>DeviceIDHash</th>\n",
       "      <th>EventTimestamp</th>\n",
       "      <th>ExpId</th>\n",
       "      <th>daytime</th>\n",
       "      <th>date</th>\n",
       "    </tr>\n",
       "  </thead>\n",
       "  <tbody>\n",
       "    <tr>\n",
       "      <th>0</th>\n",
       "      <td>MainScreenAppear</td>\n",
       "      <td>4575588528974610257</td>\n",
       "      <td>1564029816</td>\n",
       "      <td>246</td>\n",
       "      <td>2019-07-25 04:43:36</td>\n",
       "      <td>2019-07-25</td>\n",
       "    </tr>\n",
       "    <tr>\n",
       "      <th>1</th>\n",
       "      <td>MainScreenAppear</td>\n",
       "      <td>7416695313311560658</td>\n",
       "      <td>1564053102</td>\n",
       "      <td>246</td>\n",
       "      <td>2019-07-25 11:11:42</td>\n",
       "      <td>2019-07-25</td>\n",
       "    </tr>\n",
       "    <tr>\n",
       "      <th>2</th>\n",
       "      <td>PaymentScreenSuccessful</td>\n",
       "      <td>3518123091307005509</td>\n",
       "      <td>1564054127</td>\n",
       "      <td>248</td>\n",
       "      <td>2019-07-25 11:28:47</td>\n",
       "      <td>2019-07-25</td>\n",
       "    </tr>\n",
       "    <tr>\n",
       "      <th>3</th>\n",
       "      <td>CartScreenAppear</td>\n",
       "      <td>3518123091307005509</td>\n",
       "      <td>1564054127</td>\n",
       "      <td>248</td>\n",
       "      <td>2019-07-25 11:28:47</td>\n",
       "      <td>2019-07-25</td>\n",
       "    </tr>\n",
       "    <tr>\n",
       "      <th>4</th>\n",
       "      <td>PaymentScreenSuccessful</td>\n",
       "      <td>6217807653094995999</td>\n",
       "      <td>1564055322</td>\n",
       "      <td>248</td>\n",
       "      <td>2019-07-25 11:48:42</td>\n",
       "      <td>2019-07-25</td>\n",
       "    </tr>\n",
       "    <tr>\n",
       "      <th>...</th>\n",
       "      <td>...</td>\n",
       "      <td>...</td>\n",
       "      <td>...</td>\n",
       "      <td>...</td>\n",
       "      <td>...</td>\n",
       "      <td>...</td>\n",
       "    </tr>\n",
       "    <tr>\n",
       "      <th>244121</th>\n",
       "      <td>MainScreenAppear</td>\n",
       "      <td>4599628364049201812</td>\n",
       "      <td>1565212345</td>\n",
       "      <td>247</td>\n",
       "      <td>2019-08-07 21:12:25</td>\n",
       "      <td>2019-08-07</td>\n",
       "    </tr>\n",
       "    <tr>\n",
       "      <th>244122</th>\n",
       "      <td>MainScreenAppear</td>\n",
       "      <td>5849806612437486590</td>\n",
       "      <td>1565212439</td>\n",
       "      <td>246</td>\n",
       "      <td>2019-08-07 21:13:59</td>\n",
       "      <td>2019-08-07</td>\n",
       "    </tr>\n",
       "    <tr>\n",
       "      <th>244123</th>\n",
       "      <td>MainScreenAppear</td>\n",
       "      <td>5746969938801999050</td>\n",
       "      <td>1565212483</td>\n",
       "      <td>246</td>\n",
       "      <td>2019-08-07 21:14:43</td>\n",
       "      <td>2019-08-07</td>\n",
       "    </tr>\n",
       "    <tr>\n",
       "      <th>244124</th>\n",
       "      <td>MainScreenAppear</td>\n",
       "      <td>5746969938801999050</td>\n",
       "      <td>1565212498</td>\n",
       "      <td>246</td>\n",
       "      <td>2019-08-07 21:14:58</td>\n",
       "      <td>2019-08-07</td>\n",
       "    </tr>\n",
       "    <tr>\n",
       "      <th>244125</th>\n",
       "      <td>OffersScreenAppear</td>\n",
       "      <td>5746969938801999050</td>\n",
       "      <td>1565212517</td>\n",
       "      <td>246</td>\n",
       "      <td>2019-08-07 21:15:17</td>\n",
       "      <td>2019-08-07</td>\n",
       "    </tr>\n",
       "  </tbody>\n",
       "</table>\n",
       "<p>244126 rows × 6 columns</p>\n",
       "</div>"
      ],
      "text/plain": [
       "                      EventName         DeviceIDHash  EventTimestamp  ExpId  \\\n",
       "0              MainScreenAppear  4575588528974610257      1564029816    246   \n",
       "1              MainScreenAppear  7416695313311560658      1564053102    246   \n",
       "2       PaymentScreenSuccessful  3518123091307005509      1564054127    248   \n",
       "3              CartScreenAppear  3518123091307005509      1564054127    248   \n",
       "4       PaymentScreenSuccessful  6217807653094995999      1564055322    248   \n",
       "...                         ...                  ...             ...    ...   \n",
       "244121         MainScreenAppear  4599628364049201812      1565212345    247   \n",
       "244122         MainScreenAppear  5849806612437486590      1565212439    246   \n",
       "244123         MainScreenAppear  5746969938801999050      1565212483    246   \n",
       "244124         MainScreenAppear  5746969938801999050      1565212498    246   \n",
       "244125       OffersScreenAppear  5746969938801999050      1565212517    246   \n",
       "\n",
       "                   daytime        date  \n",
       "0      2019-07-25 04:43:36  2019-07-25  \n",
       "1      2019-07-25 11:11:42  2019-07-25  \n",
       "2      2019-07-25 11:28:47  2019-07-25  \n",
       "3      2019-07-25 11:28:47  2019-07-25  \n",
       "4      2019-07-25 11:48:42  2019-07-25  \n",
       "...                    ...         ...  \n",
       "244121 2019-08-07 21:12:25  2019-08-07  \n",
       "244122 2019-08-07 21:13:59  2019-08-07  \n",
       "244123 2019-08-07 21:14:43  2019-08-07  \n",
       "244124 2019-08-07 21:14:58  2019-08-07  \n",
       "244125 2019-08-07 21:15:17  2019-08-07  \n",
       "\n",
       "[244126 rows x 6 columns]"
      ]
     },
     "execution_count": 4,
     "metadata": {},
     "output_type": "execute_result"
    }
   ],
   "source": [
    "data['daytime'] = data['EventTimestamp'].apply(lambda x: dt.datetime.fromtimestamp(x))\n",
    "data['date'] = data['daytime'].dt.date\n",
    "data"
   ]
  },
  {
   "cell_type": "markdown",
   "metadata": {},
   "source": [
    "<div class=\"alert alert-block alert-warning\">\n",
    "<b>Comentario del revisor (1ra Iteración)</b> <a class=“tocSkip”></a>\n",
    "\n",
    "Aunque la creaste de forma correcta la columna *date*, usar una función anonima no es tan eficiente. Para este tipo de transformaciones es más conveniendo usar la función `pd.to_datetime` \n",
    "\n",
    "</div>"
   ]
  },
  {
   "cell_type": "markdown",
   "metadata": {},
   "source": [
    "\n",
    "\n",
    "Paso 3. Estudiar y comprobar los datos\n",
    "\n",
    "  -  ¿Cuántos eventos hay en los registros?\n",
    "  -  ¿Cuántos usuarios hay en los registros?\n",
    "  -  ¿Cuál es el promedio de eventos por usuario?\n",
    "  -  ¿Qué periodo de tiempo cubren los datos? Encuentra la fecha máxima y mínima. Traza un histograma por fecha y hora. ¿Puedes tener seguridad de que tienes datos igualmente completos para todo el periodo? Los eventos más antiguos podrían terminar en los registros de algunos usuarios por razones técnicas y esto podría sesgar el panorama general. Encuentra el momento en el que los datos comienzan a estar completos e ignora la sección anterior. ¿Qué periodo representan realmente los datos?\n",
    "  -  ¿Perdiste muchos eventos y usuarios al excluir los datos más antiguos?\n",
    "  -  Asegúrate de tener usuarios de los tres grupos experimentales.\n"
   ]
  },
  {
   "cell_type": "code",
   "execution_count": 5,
   "metadata": {},
   "outputs": [
    {
     "name": "stdout",
     "output_type": "stream",
     "text": [
      "Nombres de los eventos:\n",
      "MainScreenAppear\n",
      "PaymentScreenSuccessful\n",
      "CartScreenAppear\n",
      "OffersScreenAppear\n",
      "Tutorial\n",
      "\n",
      "Número de eventos: 5\n"
     ]
    }
   ],
   "source": [
    "# ¿Cuántos eventos hay en los registros?\n",
    "print('Nombres de los eventos:')\n",
    "for event in data['EventName'].unique(): print(event)\n",
    "print()\n",
    "print('Número de eventos:',len(data['EventName'].unique()))"
   ]
  },
  {
   "cell_type": "code",
   "execution_count": 6,
   "metadata": {},
   "outputs": [
    {
     "name": "stdout",
     "output_type": "stream",
     "text": [
      "Número de Usuarios: 7551\n"
     ]
    }
   ],
   "source": [
    "# ¿Cuántos usuarios hay en los registros?\n",
    "\n",
    "print('Número de Usuarios:', len(data['DeviceIDHash'].unique()))"
   ]
  },
  {
   "cell_type": "code",
   "execution_count": 7,
   "metadata": {},
   "outputs": [
    {
     "name": "stdout",
     "output_type": "stream",
     "text": [
      "El promedio de eventos por usuario es de: 32.33 eventos\n"
     ]
    }
   ],
   "source": [
    "# ¿Cuál es el promedio de eventos por usuario?\n",
    "\n",
    "\n",
    "print(f\"El promedio de eventos por usuario es de: {data.groupby('DeviceIDHash')['EventName'].count().mean():.2f} eventos\")"
   ]
  },
  {
   "cell_type": "code",
   "execution_count": 8,
   "metadata": {},
   "outputs": [
    {
     "name": "stdout",
     "output_type": "stream",
     "text": [
      "Fecha mínima: 2019-07-25 04:43:36\n",
      "Fecha máxima: 2019-08-07 21:15:17\n"
     ]
    },
    {
     "data": {
      "image/png": "[encoded data removed]",
      "text/plain": [
       "<Figure size 1200x600 with 1 Axes>"
      ]
     },
     "metadata": {},
     "output_type": "display_data"
    }
   ],
   "source": [
    " # ¿Qué periodo de tiempo cubren los datos? Encuentra la fecha máxima y mínima. \n",
    "print(f\"Fecha mínima: {data['daytime'].min()}\")\n",
    "print(f\"Fecha máxima: {data['daytime'].max()}\")\n",
    "\n",
    "# Traza un histograma por fecha y hora\n",
    "plt.figure(figsize=(12, 6))\n",
    "data['daytime'].hist(bins=100)\n",
    "plt.xlabel('Fecha y Hora')\n",
    "plt.ylabel('Frecuencia')\n",
    "plt.title('Histograma de eventos por fecha')\n",
    "plt.xticks(rotation=45)\n",
    "plt.show()"
   ]
  },
  {
   "cell_type": "code",
   "execution_count": 9,
   "metadata": {},
   "outputs": [
    {
     "name": "stdout",
     "output_type": "stream",
     "text": [
      "Se observa que los datos son mas consistentes y parecen estar mas completos apartir del primero de agosto\n",
      "\n",
      "                     EventName         DeviceIDHash  EventTimestamp  ExpId  \\\n",
      "39057         CartScreenAppear  6304868067479728361      1564704000    248   \n",
      "39058         MainScreenAppear  6077372516405234625      1564704008    246   \n",
      "39059  PaymentScreenSuccessful  6304868067479728361      1564704018    248   \n",
      "39060         CartScreenAppear  6304868067479728361      1564704019    248   \n",
      "39061  PaymentScreenSuccessful  6304868067479728361      1564704032    248   \n",
      "\n",
      "                  daytime        date  \n",
      "39057 2019-08-02 00:00:00  2019-08-02  \n",
      "39058 2019-08-02 00:00:08  2019-08-02  \n",
      "39059 2019-08-02 00:00:18  2019-08-02  \n",
      "39060 2019-08-02 00:00:19  2019-08-02  \n",
      "39061 2019-08-02 00:00:32  2019-08-02  \n"
     ]
    }
   ],
   "source": [
    " # ¿Puedes tener seguridad de que tienes datos igualmente completos para todo el periodo? Los eventos más antiguos podrían terminar en los registros de algunos usuarios por razones técnicas y esto podría sesgar el panorama general. \n",
    " # Encuentra el momento en el que los datos comienzan a estar completos e ignora la sección anterior. \n",
    "data_f = data[data['date'] > pd.to_datetime('2019-08-01').date()]\n",
    " # ¿Qué periodo representan realmente los datos?\n",
    "print('Se observa que los datos son mas consistentes y parecen estar mas completos apartir del primero de agosto')\n",
    "print()\n",
    "print(data_f.head())\n"
   ]
  },
  {
   "cell_type": "code",
   "execution_count": 10,
   "metadata": {},
   "outputs": [
    {
     "data": {
      "image/png": "[encoded data removed]",
      "text/plain": [
       "<Figure size 1200x600 with 1 Axes>"
      ]
     },
     "metadata": {},
     "output_type": "display_data"
    }
   ],
   "source": [
    "# Traza un histograma por fecha y hora\n",
    "plt.figure(figsize=(12, 6))\n",
    "data_f['daytime'].hist(bins=100)\n",
    "plt.xlabel('Fecha y Hora')\n",
    "plt.ylabel('Frecuencia')\n",
    "plt.title('Histograma de eventos por fecha (filtrado)')\n",
    "plt.xticks(rotation=45)\n",
    "plt.show()"
   ]
  },
  {
   "cell_type": "code",
   "execution_count": 32,
   "metadata": {},
   "outputs": [
    {
     "data": {
      "text/plain": [
       "248    85747\n",
       "246    80304\n",
       "247    78075\n",
       "Name: ExpId, dtype: int64"
      ]
     },
     "execution_count": 32,
     "metadata": {},
     "output_type": "execute_result"
    }
   ],
   "source": [
    "data[\"ExpId\"].value_counts()"
   ]
  },
  {
   "cell_type": "markdown",
   "metadata": {},
   "source": [
    "Se observa que hay una tendencia a utilizar la app en aproximadamente la misma hora del dia"
   ]
  },
  {
   "cell_type": "markdown",
   "metadata": {},
   "source": [
    "<div class=\"alert alert-block alert-success\">\n",
    "<b>Comentario del revisor (1ra Iteración)</b> <a class=“tocSkip”></a>\n",
    "\n",
    "Has demostrado una notable capacidad analítica en tu exploración de datos. La cuantificación sistemática de eventos y usuarios proporciona una base sólida para comprender la magnitud y el alcance del conjunto de datos.\n",
    "    \n",
    "La implementación de estadísticas descriptivas refleja un enfoque riguroso, mientras que la representación visual a través del histograma demuestra tu habilidad para transformar datos numéricos en insights comprensibles. Esta combinación de análisis cuantitativo y visual resulta particularmente efectiva para identificar tendencias y patrones subyacentes en los datos.\n",
    "    \n",
    "Tu decisión estratégica de excluir registros históricos más antiguos es una decisión acertada, ya que demuestra una comprensión de la importancia de trabajar con datos representativos y evitar distorsiones que podrían comprometer la validez del análisis.\n",
    "\n",
    "</div>"
   ]
  },
  {
   "cell_type": "markdown",
   "metadata": {},
   "source": [
    "\n",
    "Paso 4. Estudiar el embudo de eventos\n",
    "\n",
    "    Observa qué eventos hay en los registros y su frecuencia de suceso. Ordénalos por frecuencia.\n",
    "    Encuentra la cantidad de usuarios que realizaron cada una de estas acciones. Ordena los eventos por el número de usuarios. Calcula la proporción de usuarios que realizaron la acción al menos una vez.\n",
    "    ¿En qué orden crees que ocurrieron las acciones? ¿Todas son parte de una sola secuencia? No es necesario tenerlas en cuenta al calcular el embudo.\n",
    "    Utiliza el embudo de eventos para encontrar la proporción de usuarios que pasan de una etapa a la siguiente. Por ejemplo, para la secuencia de eventos A → B → C, calcula la proporción de usuarios en la etapa B a la cantidad de usuarios en la etapa A y la proporción de usuarios en la etapa C a la cantidad en la etapa B.\n",
    "    ¿En qué etapa pierdes más usuarios?\n",
    "    ¿Qué porcentaje de usuarios hace todo el viaje desde su primer evento hasta el pago?\n"
   ]
  },
  {
   "cell_type": "code",
   "execution_count": 11,
   "metadata": {},
   "outputs": [
    {
     "data": {
      "text/plain": [
       "EventName\n",
       "Tutorial                     791\n",
       "PaymentScreenSuccessful    29311\n",
       "CartScreenAppear           36134\n",
       "OffersScreenAppear         39359\n",
       "MainScreenAppear           99474\n",
       "Name: daytime, dtype: int64"
      ]
     },
     "execution_count": 11,
     "metadata": {},
     "output_type": "execute_result"
    }
   ],
   "source": [
    "#  Observa qué eventos hay en los registros y su frecuencia de suceso. Ordénalos por frecuencia.\n",
    "data_f.groupby('EventName')['daytime'].agg('count').sort_values()"
   ]
  },
  {
   "cell_type": "markdown",
   "metadata": {},
   "source": [
    "Se observa que el evento mas frecuente es ver la pantalla principal, por el contrario casi ningun usuario realizo el tutorial "
   ]
  },
  {
   "cell_type": "code",
   "execution_count": 12,
   "metadata": {},
   "outputs": [
    {
     "name": "stdout",
     "output_type": "stream",
     "text": [
      "El numero de eventos por usuario es:\n",
      "EventName\n",
      "MainScreenAppear           7156\n",
      "OffersScreenAppear         4380\n",
      "CartScreenAppear           3571\n",
      "PaymentScreenSuccessful    3399\n",
      "Tutorial                    690\n",
      "Name: DeviceIDHash, dtype: int64\n",
      "\n",
      "la proporcion es:\n",
      "EventName\n",
      "MainScreenAppear           0.982158\n",
      "OffersScreenAppear         0.601153\n",
      "CartScreenAppear           0.490118\n",
      "PaymentScreenSuccessful    0.466511\n",
      "Tutorial                   0.094702\n",
      "Name: DeviceIDHash, dtype: float64\n"
     ]
    }
   ],
   "source": [
    "#Encuentra la cantidad de usuarios que realizaron cada una de estas acciones. Ordena los eventos por el número de usuarios.\n",
    "eventByUser = data_f.groupby('EventName')['DeviceIDHash'].nunique().sort_values(ascending= False)\n",
    "# Calcula la proporción de usuarios que realizaron la acción al menos una vez.\n",
    "n_usuarios = data_f['DeviceIDHash'].nunique()\n",
    "\n",
    "print('El numero de eventos por usuario es:')\n",
    "print(eventByUser)\n",
    "print()\n",
    "print('la proporcion es:')\n",
    "print(eventByUser/n_usuarios)\n"
   ]
  },
  {
   "cell_type": "markdown",
   "metadata": {},
   "source": [
    "Se observa que menos de la mitad de usuarios que abren la aplicacion concretan la compra "
   ]
  },
  {
   "cell_type": "code",
   "execution_count": 13,
   "metadata": {},
   "outputs": [],
   "source": [
    "# definimos una funcion para uso posterior \n",
    "\n",
    "def funnl_ord(data, funnel):\n",
    "    \"\"\" Se genera una funcion para establecer el orden de eventos. \n",
    "    Se toman dos argumentos; el origen de los datos y el funnel ordenado de los eventos\"\"\"\n",
    "\n",
    "    funn_eve = pd.DataFrame(columns=['event', 'unique_users', 'proportion'])\n",
    "\n",
    "    for i in range(len(funnel) - 1):\n",
    "        current_event = funnel[i]\n",
    "        next_event = funnel[i + 1]\n",
    "\n",
    "        current_users = data[data['EventName'] == current_event]['DeviceIDHash'].unique()\n",
    "        next_users = data[data['EventName'] == next_event]['DeviceIDHash'].unique()\n",
    "\n",
    "        proportion = len(set(next_users) & set(current_users)) / len(current_users)\n",
    "\n",
    "        new_row = pd.DataFrame({'event': [next_event], 'unique_users': [len(next_users)], 'proportion': [proportion]})\n",
    "        funn_eve = pd.concat([funn_eve, new_row], ignore_index=True)\n",
    "    print(funn_eve)"
   ]
  },
  {
   "cell_type": "code",
   "execution_count": 14,
   "metadata": {},
   "outputs": [
    {
     "name": "stdout",
     "output_type": "stream",
     "text": [
      "                     event unique_users  proportion\n",
      "0       OffersScreenAppear         4380    0.594466\n",
      "1         CartScreenAppear         3571    0.803881\n",
      "2  PaymentScreenSuccessful         3399    0.950434\n"
     ]
    }
   ],
   "source": [
    "#¿En qué orden crees que ocurrieron las acciones? ¿Todas son parte de una sola secuencia? No es necesario tenerlas en cuenta al calcular el embudo.\n",
    "#Utiliza el embudo de eventos para encontrar la proporción de usuarios que pasan de una etapa a la siguiente. Por ejemplo, para la secuencia de eventos A → B → C, calcula la proporción de usuarios en la etapa B a la cantidad de usuarios en la etapa A y la proporción de usuarios en la etapa C a la cantidad en la etapa B.\n",
    "#¿En qué etapa pierdes más usuarios?\n",
    "\n",
    "#Debido a que los usuarios parecen omitir el tutorial no se considera para el embudo de eventos \n",
    "#se genera embudo\n",
    "funnel = ['MainScreenAppear','OffersScreenAppear','CartScreenAppear','PaymentScreenSuccessful']\n",
    "\n",
    "funnl_ord(data_f,funnel)\n"
   ]
  },
  {
   "cell_type": "markdown",
   "metadata": {},
   "source": [
    "Se observa que poco mas de la mitad de usuarios que abren la apliacion pasan a la pantalla de oferta pero el 80% de esos agregan el prducto a su carrito y casi el 100% de los usuarios con producto en el carrito realizan la compra "
   ]
  },
  {
   "cell_type": "code",
   "execution_count": 15,
   "metadata": {},
   "outputs": [
    {
     "name": "stdout",
     "output_type": "stream",
     "text": [
      "El porcentaje de usuarios que hace todo el viaje desde su primer evento hasta el pago es: 45.99%\n"
     ]
    }
   ],
   "source": [
    "#  ¿Qué porcentaje de usuarios hace todo el viaje desde su primer evento hasta el pago?\n",
    "def user_full_trip(data, funnel, show=True):\n",
    "    \"\"\" Se genera una funcion para dar el porcentaje de usuarios que recorren el funnel completo\n",
    "    desde el inicio hasta el final\"\"\"\n",
    "\n",
    "    # Encuentra los usuarios que realizaron el primer evento\n",
    "    first_event_users = data[data['EventName'] == funnel[0]]['DeviceIDHash'].unique()\n",
    "    # Encuentra los usuarios que realizaron el último evento (pago)\n",
    "    last_event_users = data[data['EventName'] == funnel[-1]]['DeviceIDHash'].unique()\n",
    "    # Calcula el porcentaje de usuarios que realizaron todo el viaje\n",
    "    percentage_full_journey = len(set(last_event_users) & set(first_event_users)) / len(first_event_users) * 100\n",
    "    \n",
    "    if show:\n",
    "        print(f\"El porcentaje de usuarios que hace todo el viaje desde su primer evento hasta el pago es: {percentage_full_journey:.2f}%\")\n",
    "    else:\n",
    "        return percentage_full_journey\n",
    "\n",
    "\n",
    "user_full_trip(data_f,funnel)"
   ]
  },
  {
   "cell_type": "markdown",
   "metadata": {},
   "source": [
    "<div class=\"alert alert-block alert-success\">\n",
    "<b>Comentario del revisor (1ra Iteración)</b> <a class=“tocSkip”></a>\n",
    "\n",
    "Tu análisis del embudo de conversión demuestra una comprensión de cómo los usuarios interactúan con el sistema. Has logrado mapear de manera efectiva el recorrido del usuario, identificando con precisión los momentos críticos donde ocurren las transiciones entre las diferentes etapas del proceso.\n",
    "    \n",
    "La metodología que has empleado para calcular las tasas de conversión resulta particularmente valiosa. Al examinar la proporción de usuarios que avanzan de una fase a otra, has podido cuantificar con exactitud la eficiencia de cada etapa del embudo. Este enfoque sistemático ha revelado un descubrimiento significativo: existe una caída notable en la tasa de conversión durante la transición de la pantalla principal a la sección de ofertas. Esta observación merece especial atención, ya que representa una oportunidad tangible para mejorar la experiencia del usuario.\n",
    "    \n",
    "Para profundizar aún más en tu análisis, podrías considerar incorporar dimensiones adicionales que enriquezcan tu comprensión del comportamiento del usuario. Por ejemplo, el análisis de los tiempos de permanencia en cada pantalla podría revelar si los usuarios encuentran dificultades en momentos específicos del proceso. Asimismo, la segmentación de usuarios permitiría identificar si ciertos grupos experimentan mayores desafíos que otros durante su recorrido por el embudo.\n",
    "    \n",
    "</div>"
   ]
  },
  {
   "cell_type": "markdown",
   "metadata": {},
   "source": [
    "\n",
    "Paso 5. Estudiar los resultados del experimento\n",
    "\n",
    "   - ¿Cuántos usuarios hay en cada grupo?\n",
    "   - Tenemos dos grupos de control en el test A/A, donde comprobamos nuestros mecanismos y cálculos. Observa si hay una diferencia estadísticamente significativa entre las muestras 246 y 247.\n",
    "   - Selecciona el evento más popular. En cada uno de los grupos de control, encuentra la cantidad de usuarios que realizaron esta acción. Encuentra su proporción. Comprueba si la diferencia entre los grupos es estadísticamente significativa. Repite el procedimiento para todos los demás eventos (ahorrarás tiempo si creas una función especial para esta prueba). ¿Puedes confirmar que los grupos se dividieron correctamente?\n",
    "   - Haz lo mismo para el grupo con fuentes alteradas. Compara los resultados con los de cada uno de los grupos de control para cada evento de forma aislada. Compara los resultados con los resultados combinados de los grupos de control. ¿Qué conclusiones puedes sacar del experimento?\n",
    "   - ¿Qué nivel de significancia has establecido para probar las hipótesis estadísticas mencionadas anteriormente? Calcula cuántas pruebas de hipótesis estadísticas has realizado. Con un nivel de significancia estadística de 0.1, uno de cada 10 resultados podría ser falso. ¿Cuál debería ser el nivel de significancia? Si deseas cambiarlo, vuelve a ejecutar los pasos anteriores y comprueba tus conclusiones."
   ]
  },
  {
   "cell_type": "code",
   "execution_count": 16,
   "metadata": {},
   "outputs": [
    {
     "data": {
      "text/html": [
       "<div>\n",
       "<style scoped>\n",
       "    .dataframe tbody tr th:only-of-type {\n",
       "        vertical-align: middle;\n",
       "    }\n",
       "\n",
       "    .dataframe tbody tr th {\n",
       "        vertical-align: top;\n",
       "    }\n",
       "\n",
       "    .dataframe thead th {\n",
       "        text-align: right;\n",
       "    }\n",
       "</style>\n",
       "<table border=\"1\" class=\"dataframe\">\n",
       "  <thead>\n",
       "    <tr style=\"text-align: right;\">\n",
       "      <th></th>\n",
       "      <th>DeviceIDHash</th>\n",
       "    </tr>\n",
       "    <tr>\n",
       "      <th>ExpId</th>\n",
       "      <th></th>\n",
       "    </tr>\n",
       "  </thead>\n",
       "  <tbody>\n",
       "    <tr>\n",
       "      <th>246</th>\n",
       "      <td>2393</td>\n",
       "    </tr>\n",
       "    <tr>\n",
       "      <th>247</th>\n",
       "      <td>2434</td>\n",
       "    </tr>\n",
       "    <tr>\n",
       "      <th>248</th>\n",
       "      <td>2459</td>\n",
       "    </tr>\n",
       "  </tbody>\n",
       "</table>\n",
       "</div>"
      ],
      "text/plain": [
       "       DeviceIDHash\n",
       "ExpId              \n",
       "246            2393\n",
       "247            2434\n",
       "248            2459"
      ]
     },
     "execution_count": 16,
     "metadata": {},
     "output_type": "execute_result"
    }
   ],
   "source": [
    "usuarios_por_grupo = data_f.pivot_table(\n",
    "    index='ExpId', values='DeviceIDHash', aggfunc='nunique')\n",
    "\n",
    "usuarios_por_grupo"
   ]
  },
  {
   "cell_type": "code",
   "execution_count": 17,
   "metadata": {},
   "outputs": [],
   "source": [
    "gpo_246 = data_f[data_f['ExpId'] == 246]['DeviceIDHash'].unique()\n",
    "gpo_247 = data_f[data_f['ExpId'] == 247]['DeviceIDHash'].unique()"
   ]
  },
  {
   "cell_type": "code",
   "execution_count": 18,
   "metadata": {},
   "outputs": [
    {
     "name": "stdout",
     "output_type": "stream",
     "text": [
      "Estadístico t: 0.5260, Valor p: 0.5989\n"
     ]
    }
   ],
   "source": [
    "t_stat, p_value = stats.ttest_ind(gpo_246, gpo_247, equal_var=False)\n",
    "print(f\"Estadístico t: {t_stat:.4f}, Valor p: {p_value:.4f}\")"
   ]
  },
  {
   "cell_type": "markdown",
   "metadata": {},
   "source": [
    "Se observa que la significancia estadistica es muy alta por lo tanto las diferencias no existen entre los grupos. Esto es algo esperado ya que ambas muestras son del grupo control.\n"
   ]
  },
  {
   "cell_type": "code",
   "execution_count": 19,
   "metadata": {},
   "outputs": [
    {
     "data": {
      "text/html": [
       "<div>\n",
       "<style scoped>\n",
       "    .dataframe tbody tr th:only-of-type {\n",
       "        vertical-align: middle;\n",
       "    }\n",
       "\n",
       "    .dataframe tbody tr th {\n",
       "        vertical-align: top;\n",
       "    }\n",
       "\n",
       "    .dataframe thead th {\n",
       "        text-align: right;\n",
       "    }\n",
       "</style>\n",
       "<table border=\"1\" class=\"dataframe\">\n",
       "  <thead>\n",
       "    <tr style=\"text-align: right;\">\n",
       "      <th>ExpId</th>\n",
       "      <th>246</th>\n",
       "      <th>247</th>\n",
       "      <th>248</th>\n",
       "    </tr>\n",
       "    <tr>\n",
       "      <th>EventName</th>\n",
       "      <th></th>\n",
       "      <th></th>\n",
       "      <th></th>\n",
       "    </tr>\n",
       "  </thead>\n",
       "  <tbody>\n",
       "    <tr>\n",
       "      <th>CartScreenAppear</th>\n",
       "      <td>1213</td>\n",
       "      <td>1184</td>\n",
       "      <td>1174</td>\n",
       "    </tr>\n",
       "    <tr>\n",
       "      <th>MainScreenAppear</th>\n",
       "      <td>2355</td>\n",
       "      <td>2392</td>\n",
       "      <td>2409</td>\n",
       "    </tr>\n",
       "    <tr>\n",
       "      <th>OffersScreenAppear</th>\n",
       "      <td>1480</td>\n",
       "      <td>1438</td>\n",
       "      <td>1462</td>\n",
       "    </tr>\n",
       "    <tr>\n",
       "      <th>PaymentScreenSuccessful</th>\n",
       "      <td>1152</td>\n",
       "      <td>1118</td>\n",
       "      <td>1129</td>\n",
       "    </tr>\n",
       "    <tr>\n",
       "      <th>Tutorial</th>\n",
       "      <td>230</td>\n",
       "      <td>227</td>\n",
       "      <td>233</td>\n",
       "    </tr>\n",
       "  </tbody>\n",
       "</table>\n",
       "</div>"
      ],
      "text/plain": [
       "ExpId                     246   247   248\n",
       "EventName                                \n",
       "CartScreenAppear         1213  1184  1174\n",
       "MainScreenAppear         2355  2392  2409\n",
       "OffersScreenAppear       1480  1438  1462\n",
       "PaymentScreenSuccessful  1152  1118  1129\n",
       "Tutorial                  230   227   233"
      ]
     },
     "execution_count": 19,
     "metadata": {},
     "output_type": "execute_result"
    }
   ],
   "source": [
    "#ver evento mas popular\n",
    "data_f.pivot_table(index='EventName', columns='ExpId', aggfunc='nunique', values='DeviceIDHash')"
   ]
  },
  {
   "cell_type": "markdown",
   "metadata": {},
   "source": [
    "Se encuentra que el evento mas popular es la presenciation de la pantalla principal"
   ]
  },
  {
   "cell_type": "code",
   "execution_count": 20,
   "metadata": {},
   "outputs": [],
   "source": [
    "# Se genera una funcion para el calulo de proporciones (se experimenta con PEP 3107)\n",
    "def u_per_ev_gpo(data: pd.DataFrame, gpo: int, evento: str) -> None:\n",
    "    \"\"\"Se genera funcion para calcular la proporcion del evento\"\"\"\n",
    "    u_eve = data[(data['ExpId'] == gpo) & (data['EventName'] == evento)]['DeviceIDHash'].nunique()\n",
    "    u_gpo = data[data['ExpId'] == gpo]['DeviceIDHash'].nunique()\n",
    "\n",
    "    Prop = u_eve / u_gpo\n",
    "    print(f'La proporcion de usuarios del grupo {gpo}, que realizaron el evento es: {Prop:.2%}')"
   ]
  },
  {
   "cell_type": "code",
   "execution_count": 21,
   "metadata": {},
   "outputs": [
    {
     "name": "stdout",
     "output_type": "stream",
     "text": [
      "La proporcion de usuarios del grupo 246, que realizaron el evento es: 98.41%\n",
      "La proporcion de usuarios del grupo 247, que realizaron el evento es: 98.27%\n",
      "La proporcion de usuarios del grupo 248, que realizaron el evento es: 97.97%\n"
     ]
    }
   ],
   "source": [
    "for gpo in [246, 247, 248]:\n",
    "    u_per_ev_gpo(data_f, gpo, 'MainScreenAppear')\n"
   ]
  },
  {
   "cell_type": "code",
   "execution_count": 22,
   "metadata": {},
   "outputs": [],
   "source": [
    "def t_dif_gpo(gpo1: pd.DataFrame, gpo2: pd.DataFrame, P: float=0.05) -> None:\n",
    "    t_stat_evento, p_value_evento = stats.ttest_ind(\n",
    "        gpo1, gpo2, equal_var=False)\n",
    "    print('El resultado de la prueba es:')\n",
    "    print(f\"Estadístico t: {t_stat_evento:.4F}, Valor p: {p_value_evento:.4F}\")\n",
    "\n",
    "    if p_value_evento < P:\n",
    "        print(\"Existen diferencias significativas.\")\n",
    "    else:\n",
    "        print(\"No hay diferencias significativas.\")\n"
   ]
  },
  {
   "cell_type": "code",
   "execution_count": 23,
   "metadata": {},
   "outputs": [],
   "source": [
    "gpo_246 = data[(data['ExpId'] == 246) & (data['EventName'] == 'MainScreenAppear')]['DeviceIDHash'].value_counts()\n",
    "gpo_247 = data[(data['ExpId'] == 247) & (data['EventName'] == 'MainScreenAppear')]['DeviceIDHash'].value_counts()\n",
    "gpo_248 = data[(data['ExpId'] == 248) & (data['EventName'] == 'MainScreenAppear')]['DeviceIDHash'].value_counts()\n",
    "gpo_ctrl = data[(data['ExpId'] != 248) & (data['EventName'] == 'MainScreenAppear')]['DeviceIDHash'].value_counts()"
   ]
  },
  {
   "cell_type": "code",
   "execution_count": 24,
   "metadata": {},
   "outputs": [
    {
     "name": "stdout",
     "output_type": "stream",
     "text": [
      "El resultado de la prueba es:\n",
      "Estadístico t: -0.8934, Valor p: 0.3717\n",
      "No hay diferencias significativas.\n",
      "No hay diferencia entre los grupos control, cosa que se espera :)\n"
     ]
    }
   ],
   "source": [
    "t_dif_gpo(gpo_246,gpo_247)\n",
    "print('No hay diferencia entre los grupos control, cosa que se espera :)')\n"
   ]
  },
  {
   "cell_type": "code",
   "execution_count": 25,
   "metadata": {},
   "outputs": [
    {
     "name": "stdout",
     "output_type": "stream",
     "text": [
      "El resultado de la prueba es:\n",
      "Estadístico t: -1.7090, Valor p: 0.0875\n",
      "No hay diferencias significativas.\n",
      "No hay diferencia entre los grupos control y experimental \n",
      "Esto denota que nuestro experimento no tuvo efectividad\n"
     ]
    }
   ],
   "source": [
    "t_dif_gpo(gpo_ctrl,gpo_248)\n",
    "print('No hay diferencia entre los grupos control y experimental \\nEsto denota que nuestro experimento no tuvo efectividad')"
   ]
  },
  {
   "cell_type": "code",
   "execution_count": 26,
   "metadata": {},
   "outputs": [
    {
     "name": "stdout",
     "output_type": "stream",
     "text": [
      "El resultado de la prueba es:\n",
      "Estadístico t: -0.8934, Valor p: 0.3717\n",
      "No hay diferencias significativas.\n"
     ]
    }
   ],
   "source": [
    "#Se repiten los analisis con la nueva p sugerida\n",
    "\n",
    "t_dif_gpo(gpo_246,gpo_247,0.1)\n"
   ]
  },
  {
   "cell_type": "code",
   "execution_count": 27,
   "metadata": {},
   "outputs": [
    {
     "name": "stdout",
     "output_type": "stream",
     "text": [
      "El resultado de la prueba es:\n",
      "Estadístico t: -1.7090, Valor p: 0.0875\n",
      "Existen diferencias significativas.\n"
     ]
    }
   ],
   "source": [
    "t_dif_gpo(gpo_ctrl, gpo_248,0.1)"
   ]
  },
  {
   "cell_type": "markdown",
   "metadata": {},
   "source": [
    "Se observa que los resultados de la prueba ya son significativos al ajustar la significancia, sin embargo; el aumentar la significancia para hacer que los datos se amolden a la hipotesis es una tecnica que no debe ser realizada, ya que la significancia debe establecerce a priori para garantizar la confiabilidad de las pruebas A/B."
   ]
  },
  {
   "cell_type": "markdown",
   "metadata": {},
   "source": [
    "<div class=\"alert alert-block alert-success\">\n",
    "<b>Comentario del revisor (1ra Iteración)</b> <a class=“tocSkip”></a>\n",
    "\n",
    "Elias tu trabajo demuestra un sólido entendimiento de los conceptos estadísticos y de programación aplicados al análisis de experimentos A/B.  Realizaste un análisis estadístico adecuado, utilizando correctamente pruebas de hipótesis con el estadístico t y el valor p para comparar grupos, y interpretaste los resultados de manera clara y coherente con lo esperado en un experimento A/A. Identificaste el evento más popular (MainScreenAppear) y analizaste las proporciones de usuarios que lo realizaron en cada grupo, lo cual es fundamental para entender el comportamiento de los usuarios. También reconociste la importancia de establecer un nivel de significancia a priori y discutiste las implicaciones de ajustarlo después de ver los resultados, evitando prácticas como el \"p-hacking\" y asegurando la validez de las conclusiones.\n",
    "    \n",
    "<div class=\"alert alert-block alert-warning\">\n",
    "<b>Comentario del revisor (1ra Iteración)</b> <a class=“tocSkip”></a>\n",
    "\n",
    "Seería útil validar los supuestos estadísticos detrás de las pruebas t, como la normalidad de las distribuciones y la homogeneidad de varianzas, utilizando pruebas adicionales (por ejemplo, Shapiro-Wilk). Además, seria interesante calcular intervalos de confianza para las proporciones, lo que proporcionaría un rango de valores plausibles y una mejor comprensión de la precisión de las estimaciones. Asismismo, puedes abordar el problema de las comparaciones múltiples aplicando correcciones como el método de Bonferroni o el control de la tasa de descubrimiento falso (FDR) para ajustar los valores p y reducir el riesgo de falsos positivo. Finalmente puedes complementar la presentación de los resultados utilizando visualizaciones gráficas, como diagramada de barras para las proporciones o diagramas de caja para las distribuciones, lo que facilitaría la interpretación.\n",
    "    \n",
    "\n",
    "</div>\n",
    "</div>"
   ]
  }
 ],
 "metadata": {
  "ExecuteTimeLog": [
   {
    "duration": 2540,
    "start_time": "2025-02-06T23:30:17.477Z"
   },
   {
    "duration": 238,
    "start_time": "2025-02-06T23:30:20.019Z"
   },
   {
    "duration": 42,
    "start_time": "2025-02-06T23:30:20.259Z"
   },
   {
    "duration": 177,
    "start_time": "2025-02-06T23:30:20.303Z"
   },
   {
    "duration": 26,
    "start_time": "2025-02-06T23:30:20.483Z"
   },
   {
    "duration": 17,
    "start_time": "2025-02-06T23:30:20.511Z"
   },
   {
    "duration": 15,
    "start_time": "2025-02-06T23:30:20.530Z"
   },
   {
    "duration": 268,
    "start_time": "2025-02-06T23:30:20.552Z"
   },
   {
    "duration": 26,
    "start_time": "2025-02-06T23:30:20.821Z"
   },
   {
    "duration": 265,
    "start_time": "2025-02-06T23:30:20.849Z"
   },
   {
    "duration": 20,
    "start_time": "2025-02-06T23:30:21.116Z"
   },
   {
    "duration": 36,
    "start_time": "2025-02-06T23:30:21.137Z"
   },
   {
    "duration": 6,
    "start_time": "2025-02-06T23:30:21.175Z"
   },
   {
    "duration": 119,
    "start_time": "2025-02-06T23:30:21.184Z"
   },
   {
    "duration": 35,
    "start_time": "2025-02-06T23:30:21.305Z"
   },
   {
    "duration": 26,
    "start_time": "2025-02-06T23:30:21.342Z"
   },
   {
    "duration": 10,
    "start_time": "2025-02-06T23:30:21.370Z"
   },
   {
    "duration": 4,
    "start_time": "2025-02-06T23:30:21.382Z"
   },
   {
    "duration": 76,
    "start_time": "2025-02-06T23:30:21.388Z"
   },
   {
    "duration": 3,
    "start_time": "2025-02-06T23:30:21.467Z"
   },
   {
    "duration": 65,
    "start_time": "2025-02-06T23:30:21.472Z"
   },
   {
    "duration": 3,
    "start_time": "2025-02-06T23:30:21.539Z"
   },
   {
    "duration": 65,
    "start_time": "2025-02-06T23:30:21.544Z"
   },
   {
    "duration": 14,
    "start_time": "2025-02-06T23:30:21.611Z"
   },
   {
    "duration": 4,
    "start_time": "2025-02-06T23:30:21.627Z"
   },
   {
    "duration": 4,
    "start_time": "2025-02-06T23:30:21.632Z"
   },
   {
    "duration": 3,
    "start_time": "2025-02-06T23:30:21.638Z"
   },
   {
    "duration": 12,
    "start_time": "2025-02-06T23:39:47.914Z"
   },
   {
    "duration": 687,
    "start_time": "2025-02-06T23:40:01.738Z"
   },
   {
    "duration": 40,
    "start_time": "2025-02-06T23:40:15.065Z"
   },
   {
    "duration": 13,
    "start_time": "2025-02-06T23:40:17.989Z"
   },
   {
    "duration": 6,
    "start_time": "2025-02-06T23:40:28.871Z"
   }
  ],
  "kernelspec": {
   "display_name": "Python 3 (ipykernel)",
   "language": "python",
   "name": "python3"
  },
  "language_info": {
   "codemirror_mode": {
    "name": "ipython",
    "version": 3
   },
   "file_extension": ".py",
   "mimetype": "text/x-python",
   "name": "python",
   "nbconvert_exporter": "python",
   "pygments_lexer": "ipython3",
   "version": "3.9.19"
  },
  "toc": {
   "base_numbering": 1,
   "nav_menu": {},
   "number_sections": true,
   "sideBar": true,
   "skip_h1_title": true,
   "title_cell": "Table of Contents",
   "title_sidebar": "Contents",
   "toc_cell": false,
   "toc_position": {},
   "toc_section_display": true,
   "toc_window_display": false
  }
 },
 "nbformat": 4,
 "nbformat_minor": 2
}
