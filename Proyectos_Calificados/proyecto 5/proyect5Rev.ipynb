{
 "cells": [
  {
   "cell_type": "markdown",
   "metadata": {},
   "source": [
    "# Hola &#x1F600;,\n",
    "\n",
    "Soy **Hesus Garcia** – **\"Soy el único Hesus que conoces (y probablemente conocerás) 🌟\"** – Sí, como \"Jesús\", pero con una H que me hace único. Puede sonar raro, pero créeme, ¡no lo olvidarás! Como tu revisor en Triple-Ten, estoy aquí para guiarte y ayudarte a mejorar tu código. Si algo necesita un ajuste, no hay de qué preocuparse; ¡aquí estoy para hacer que tu trabajo brille con todo su potencial! ✨\n",
    "\n",
    "Cada vez que encuentre un detalle importante en tu código, te lo señalaré para que puedas corregirlo y así te prepares para un ambiente de trabajo real, donde el líder de tu equipo actuaría de manera similar. Si en algún momento no logras solucionar el problema, te daré más detalles para ayudarte en nuestra próxima oportunidad de revisión.\n",
    "\n",
    "Es importante que cuando encuentres un comentario, **no los muevas, no los modifiques, ni los borres**.\n",
    "\n",
    "---\n",
    "\n",
    "### Formato de Comentarios\n",
    "\n",
    "Revisaré cuidadosamente cada implementación en tu notebook para asegurar que cumpla con los requisitos y te daré comentarios de acuerdo al siguiente formato:\n",
    "\n",
    "\n",
    "<div class=\"alert alert-block alert-success\">\n",
    "<b>Comentario del revisor</b> <a class=\"tocSkip\"></a><br>\n",
    "    \n",
    "<b>Éxito</b> - ¡Excelente trabajo! Esta parte está bien implementada y contribuye significativamente al análisis de datos o al proyecto. Continúa aplicando estas buenas prácticas en futuras secciones.\n",
    "    \n",
    "</div>\n",
    "\n",
    "<div class=\"alert alert-block alert-warning\">\n",
    "<b>Comentario del revisor</b> <a class=\"tocSkip\"></a><br>\n",
    "    \n",
    "<b>Atención</b> ⚠️ - Este código está correcto, pero se puede optimizar. Considera implementar mejoras para que sea más eficiente y fácil de leer. Esto fortalecerá la calidad de tu proyecto.\n",
    "    \n",
    "</div>\n",
    "\n",
    "<div class=\"alert alert-block alert-danger\">\n",
    "<b>Comentario del revisor</b> <a class=\"tocSkip\"></a><br>\n",
    "    \n",
    "<b>A resolver</b> ❗ - Aquí hay un problema o error en el código que es necesario corregir para aprobar esta sección. Por favor, revisa y corrige este punto, ya que es fundamental para la validez del análisis y la precisión de los resultados.\n",
    "    \n",
    "</div>\n",
    "\n",
    "---\n",
    "\n",
    "Al final de cada revisión, recibirás un **Comentario General del Revisor** que incluirá:\n",
    "\n",
    "- **Aspectos positivos:** Un resumen de los puntos fuertes de tu proyecto.\n",
    "- **Áreas de mejora:** Sugerencias sobre aspectos donde puedes mejorar.\n",
    "- **Temas adicionales para investigar:** Ideas de temas opcionales que puedes explorar por tu cuenta para desarrollar aún más tus habilidades.\n",
    "\n",
    "Estos temas adicionales no son obligatorios en esta etapa, pero pueden serte útiles para profundizar en el futuro.\n",
    "\n",
    "--- \n",
    "\n",
    "Esta estructura en viñetas facilita la lectura y comprensión de cada parte del comentario final.\n",
    "\n",
    "También puedes responderme de la siguiente manera si tienes alguna duda o quieres aclarar algo específico:\n",
    "\n",
    "\n",
    "<div class=\"alert alert-block alert-info\">\n",
    "<b>Respuesta del estudiante</b> <a class=\"tocSkip\"></a>\n",
    "    \n",
    "Aquí puedes escribir tu respuesta o pregunta sobre el comentario.\n",
    "    \n",
    "</div>\n",
    "\n",
    "\n",
    "**¡Empecemos!** &#x1F680;\n",
    "\n",
    "\n",
    "\n",
    "\n",
    "\n",
    "\n"
   ]
  },
  {
   "cell_type": "markdown",
   "metadata": {
    "id": "3rYiDeEH0q0f"
   },
   "source": [
    "# ¿Cuál es la mejor tarifa?\n",
    "\n",
    "Trabajas como analista para el operador de telecomunicaciones Megaline. La empresa ofrece a sus clientes dos tarifas de prepago, Surf y Ultimate. El departamento comercial quiere saber cuál de las tarifas genera más ingresos para poder ajustar el presupuesto de publicidad.\n",
    "\n",
    "Vas a realizar un análisis preliminar de las tarifas basado en una selección de clientes relativamente pequeña. Tendrás los datos de 500 clientes de Megaline: quiénes son los clientes, de dónde son, qué tarifa usan, así como la cantidad de llamadas que hicieron y los mensajes de texto que enviaron en 2018. Tu trabajo es analizar el comportamiento de los clientes y determinar qué tarifa de prepago genera más ingresos."
   ]
  },
  {
   "cell_type": "markdown",
   "metadata": {
    "id": "VNddPNRQ0q0w"
   },
   "source": [
    "\n",
    "El proposito del proyecto es establecer cual es el plan mas rentable para enfocar los esfuerzos publicitarios a ese plan y poder enfocar los esfuerzos en crecer la cartera de usuarios del plan mas rentable.\n",
    "\n",
    "De la misma manera conocer si la region NY-NJ es mas rentable\n",
    "\n"
   ]
  },
  {
   "cell_type": "markdown",
   "metadata": {
    "id": "MQi4IPy70q0y"
   },
   "source": [
    "## Inicialización"
   ]
  },
  {
   "cell_type": "code",
   "execution_count": 49,
   "metadata": {
    "id": "MtYIuBxu0q0z"
   },
   "outputs": [],
   "source": [
    "# Cargar todas las librerías que se usaran en el archivo\n",
    "import numpy as np\n",
    "import pandas as pd\n",
    "from scipy import stats as st\n",
    "from matplotlib import pyplot as plt\n",
    "import seaborn as sns\n"
   ]
  },
  {
   "cell_type": "markdown",
   "metadata": {
    "id": "4ysWWC5i0q00"
   },
   "source": [
    "## Cargar datos"
   ]
  },
  {
   "cell_type": "code",
   "execution_count": 50,
   "metadata": {
    "id": "CCqPW7rS0q01"
   },
   "outputs": [],
   "source": [
    "# Carga los archivos de datos en diferentes DataFrames\n",
    "calls = pd.read_csv(\"megaline_calls.csv\")\n",
    "internet = pd.read_csv(\"megaline_internet.csv\")\n",
    "messages = pd.read_csv(\"megaline_messages.csv\")\n",
    "plans = pd.read_csv(\"megaline_plans.csv\")\n",
    "users = pd.read_csv(\"megaline_users.csv\")\n"
   ]
  },
  {
   "cell_type": "code",
   "execution_count": 51,
   "metadata": {},
   "outputs": [],
   "source": [
    "#Generamos una funcion para facilitar la tarea de exploración\n",
    "def looks(datos):\n",
    "    print(\"describe:\")\n",
    "    print(datos.describe(include= \"all\"))\n",
    "    print()\n",
    "    print(\"info:\")\n",
    "    print(datos.info())\n",
    "    print()\n",
    "    print(\"Head:\")\n",
    "    print(datos.head())\n",
    "    print()\n",
    "    print(\"NA?:\")\n",
    "    print(datos.isna().sum())\n",
    "    print()\n",
    "    print(\"Duplicados:\")\n",
    "    print(datos.duplicated().sum())"
   ]
  },
  {
   "cell_type": "markdown",
   "metadata": {
    "id": "69qqoJ3r0q01"
   },
   "source": [
    "## Preparar los datos"
   ]
  },
  {
   "cell_type": "markdown",
   "metadata": {
    "id": "ohBhimvH0q01"
   },
   "source": [
    "### Tarifas"
   ]
  },
  {
   "cell_type": "code",
   "execution_count": 52,
   "metadata": {
    "id": "64xzjwL70q02"
   },
   "outputs": [
    {
     "name": "stdout",
     "output_type": "stream",
     "text": [
      "describe:\n",
      "        messages_included  mb_per_month_included  minutes_included  \\\n",
      "count            2.000000               2.000000          2.000000   \n",
      "unique                NaN                    NaN               NaN   \n",
      "top                   NaN                    NaN               NaN   \n",
      "freq                  NaN                    NaN               NaN   \n",
      "mean           525.000000           23040.000000       1750.000000   \n",
      "std            671.751442           10861.160159       1767.766953   \n",
      "min             50.000000           15360.000000        500.000000   \n",
      "25%            287.500000           19200.000000       1125.000000   \n",
      "50%            525.000000           23040.000000       1750.000000   \n",
      "75%            762.500000           26880.000000       2375.000000   \n",
      "max           1000.000000           30720.000000       3000.000000   \n",
      "\n",
      "        usd_monthly_pay  usd_per_gb  usd_per_message  usd_per_minute plan_name  \n",
      "count          2.000000     2.00000         2.000000        2.000000         2  \n",
      "unique              NaN         NaN              NaN             NaN         2  \n",
      "top                 NaN         NaN              NaN             NaN      surf  \n",
      "freq                NaN         NaN              NaN             NaN         1  \n",
      "mean          45.000000     8.50000         0.020000        0.020000       NaN  \n",
      "std           35.355339     2.12132         0.014142        0.014142       NaN  \n",
      "min           20.000000     7.00000         0.010000        0.010000       NaN  \n",
      "25%           32.500000     7.75000         0.015000        0.015000       NaN  \n",
      "50%           45.000000     8.50000         0.020000        0.020000       NaN  \n",
      "75%           57.500000     9.25000         0.025000        0.025000       NaN  \n",
      "max           70.000000    10.00000         0.030000        0.030000       NaN  \n",
      "\n",
      "info:\n",
      "<class 'pandas.core.frame.DataFrame'>\n",
      "RangeIndex: 2 entries, 0 to 1\n",
      "Data columns (total 8 columns):\n",
      " #   Column                 Non-Null Count  Dtype  \n",
      "---  ------                 --------------  -----  \n",
      " 0   messages_included      2 non-null      int64  \n",
      " 1   mb_per_month_included  2 non-null      int64  \n",
      " 2   minutes_included       2 non-null      int64  \n",
      " 3   usd_monthly_pay        2 non-null      int64  \n",
      " 4   usd_per_gb             2 non-null      int64  \n",
      " 5   usd_per_message        2 non-null      float64\n",
      " 6   usd_per_minute         2 non-null      float64\n",
      " 7   plan_name              2 non-null      object \n",
      "dtypes: float64(2), int64(5), object(1)\n",
      "memory usage: 260.0+ bytes\n",
      "None\n",
      "\n",
      "Head:\n",
      "   messages_included  mb_per_month_included  minutes_included  \\\n",
      "0                 50                  15360               500   \n",
      "1               1000                  30720              3000   \n",
      "\n",
      "   usd_monthly_pay  usd_per_gb  usd_per_message  usd_per_minute plan_name  \n",
      "0               20          10             0.03            0.03      surf  \n",
      "1               70           7             0.01            0.01  ultimate  \n",
      "\n",
      "NA?:\n",
      "messages_included        0\n",
      "mb_per_month_included    0\n",
      "minutes_included         0\n",
      "usd_monthly_pay          0\n",
      "usd_per_gb               0\n",
      "usd_per_message          0\n",
      "usd_per_minute           0\n",
      "plan_name                0\n",
      "dtype: int64\n",
      "\n",
      "Duplicados:\n",
      "0\n"
     ]
    }
   ],
   "source": [
    "# Imprime una muestra de los datos para las tarifas\n",
    "looks(plans)\n"
   ]
  },
  {
   "cell_type": "markdown",
   "metadata": {
    "id": "mEc_3_hs0q02"
   },
   "source": [
    "No se observan problemas en el DF"
   ]
  },
  {
   "cell_type": "markdown",
   "metadata": {
    "id": "R3C05i1l0q03"
   },
   "source": [
    "#### Corregir datos"
   ]
  },
  {
   "cell_type": "markdown",
   "metadata": {
    "id": "Y7SVmjGn0q03"
   },
   "source": [
    " No existen datos que haya que corregir ya que son solo dos tarifas y los datos de los mismos"
   ]
  },
  {
   "cell_type": "markdown",
   "metadata": {
    "id": "LJir7bml0q03"
   },
   "source": [
    "#### Enriquecer los datos"
   ]
  },
  {
   "cell_type": "markdown",
   "metadata": {
    "id": "eqADpCfg0q04"
   },
   "source": [
    "[Agrega factores adicionales a los datos si crees que pudieran ser útiles.]"
   ]
  },
  {
   "cell_type": "code",
   "execution_count": 53,
   "metadata": {
    "id": "gfcIEuXV0q04"
   },
   "outputs": [],
   "source": [
    "plans[\"gb_per_month\"] =  plans[\"mb_per_month_included\"]/1024\n",
    "#se añade una columa con los GB por mes, para hacer mas manejables los datos y faciles de entender"
   ]
  },
  {
   "cell_type": "markdown",
   "metadata": {
    "id": "1n2X6WXf0q04"
   },
   "source": [
    "## Usuarios/as"
   ]
  },
  {
   "cell_type": "code",
   "execution_count": 54,
   "metadata": {
    "id": "2NgjWFqx0q05"
   },
   "outputs": [
    {
     "name": "stdout",
     "output_type": "stream",
     "text": [
      "describe:\n",
      "            user_id first_name last_name         age  \\\n",
      "count    500.000000        500       500  500.000000   \n",
      "unique          NaN        458       399         NaN   \n",
      "top             NaN    Leonila     David         NaN   \n",
      "freq            NaN          3         3         NaN   \n",
      "mean    1249.500000        NaN       NaN   45.486000   \n",
      "std      144.481833        NaN       NaN   16.972269   \n",
      "min     1000.000000        NaN       NaN   18.000000   \n",
      "25%     1124.750000        NaN       NaN   30.000000   \n",
      "50%     1249.500000        NaN       NaN   46.000000   \n",
      "75%     1374.250000        NaN       NaN   61.000000   \n",
      "max     1499.000000        NaN       NaN   75.000000   \n",
      "\n",
      "                                             city    reg_date  plan  \\\n",
      "count                                         500         500   500   \n",
      "unique                                         73         266     2   \n",
      "top     New York-Newark-Jersey City, NY-NJ-PA MSA  2018-03-08  surf   \n",
      "freq                                           80           5   339   \n",
      "mean                                          NaN         NaN   NaN   \n",
      "std                                           NaN         NaN   NaN   \n",
      "min                                           NaN         NaN   NaN   \n",
      "25%                                           NaN         NaN   NaN   \n",
      "50%                                           NaN         NaN   NaN   \n",
      "75%                                           NaN         NaN   NaN   \n",
      "max                                           NaN         NaN   NaN   \n",
      "\n",
      "        churn_date  \n",
      "count           34  \n",
      "unique          29  \n",
      "top     2018-12-18  \n",
      "freq             3  \n",
      "mean           NaN  \n",
      "std            NaN  \n",
      "min            NaN  \n",
      "25%            NaN  \n",
      "50%            NaN  \n",
      "75%            NaN  \n",
      "max            NaN  \n",
      "\n",
      "info:\n",
      "<class 'pandas.core.frame.DataFrame'>\n",
      "RangeIndex: 500 entries, 0 to 499\n",
      "Data columns (total 8 columns):\n",
      " #   Column      Non-Null Count  Dtype \n",
      "---  ------      --------------  ----- \n",
      " 0   user_id     500 non-null    int64 \n",
      " 1   first_name  500 non-null    object\n",
      " 2   last_name   500 non-null    object\n",
      " 3   age         500 non-null    int64 \n",
      " 4   city        500 non-null    object\n",
      " 5   reg_date    500 non-null    object\n",
      " 6   plan        500 non-null    object\n",
      " 7   churn_date  34 non-null     object\n",
      "dtypes: int64(2), object(6)\n",
      "memory usage: 31.4+ KB\n",
      "None\n",
      "\n",
      "Head:\n",
      "   user_id first_name  last_name  age                                   city  \\\n",
      "0     1000   Anamaria      Bauer   45  Atlanta-Sandy Springs-Roswell, GA MSA   \n",
      "1     1001     Mickey  Wilkerson   28        Seattle-Tacoma-Bellevue, WA MSA   \n",
      "2     1002     Carlee    Hoffman   36   Las Vegas-Henderson-Paradise, NV MSA   \n",
      "3     1003   Reynaldo    Jenkins   52                          Tulsa, OK MSA   \n",
      "4     1004    Leonila   Thompson   40        Seattle-Tacoma-Bellevue, WA MSA   \n",
      "\n",
      "     reg_date      plan churn_date  \n",
      "0  2018-12-24  ultimate        NaN  \n",
      "1  2018-08-13      surf        NaN  \n",
      "2  2018-10-21      surf        NaN  \n",
      "3  2018-01-28      surf        NaN  \n",
      "4  2018-05-23      surf        NaN  \n",
      "\n",
      "NA?:\n",
      "user_id         0\n",
      "first_name      0\n",
      "last_name       0\n",
      "age             0\n",
      "city            0\n",
      "reg_date        0\n",
      "plan            0\n",
      "churn_date    466\n",
      "dtype: int64\n",
      "\n",
      "Duplicados:\n",
      "0\n"
     ]
    }
   ],
   "source": [
    "# Imprime la información general/resumida sobre el DataFrame de usuarios\n",
    "looks(users)\n"
   ]
  },
  {
   "cell_type": "markdown",
   "metadata": {
    "id": "dCZoUq4f0q06"
   },
   "source": [
    "[Describe lo que ves y observas en la información general y en la muestra de datos impresa para el precio de datos anterior. ¿Hay algún problema (tipos de datos no adecuados, datos ausentes, etc.) que pudieran necesitar investigación y cambios adicionales? ¿Cómo se puede arreglar?]"
   ]
  },
  {
   "cell_type": "markdown",
   "metadata": {},
   "source": [
    " Se observa que solo 34 usuarios cancelaron su plan, como indican los ausentes en _churn_date_. "
   ]
  },
  {
   "cell_type": "markdown",
   "metadata": {
    "id": "BX5FQh_I0q06"
   },
   "source": [
    "### Corregir los datos"
   ]
  },
  {
   "cell_type": "markdown",
   "metadata": {
    "id": "ycwuARJp0q07"
   },
   "source": [
    "### Enriquecer los datos"
   ]
  },
  {
   "cell_type": "code",
   "execution_count": 55,
   "metadata": {
    "id": "iq0AaBS90q08"
   },
   "outputs": [],
   "source": [
    "#se convierte en fechas para poder manipularlos mas facilmente\n",
    "users[\"reg_date\"] = pd.to_datetime(users[\"reg_date\"])\n",
    "users[\"churn_date\"] = pd.to_datetime(users[\"churn_date\"])\n"
   ]
  },
  {
   "cell_type": "code",
   "execution_count": 56,
   "metadata": {},
   "outputs": [],
   "source": [
    "### celda para hacer la prueba de extraccion de datos\n",
    "#users[\"city\"].value_counts()\n",
    "#users[~users[\"city\"].str.contains(\"NY-NJ\")][\"city\"].value_counts().sum()"
   ]
  },
  {
   "cell_type": "markdown",
   "metadata": {},
   "source": [
    "<div class=\"alert alert-block alert-warning\">\n",
    "<b>Comentario del revisor</b> <a class=\"tocSkip\"></a>\n",
    "    \n",
    "Atención ⚠️ - Buen inicio con la importación de librerías y carga de datos. Sin embargo, sería útil añadir una sección introductoria que explique claramente:\n",
    "\n",
    "Objetivos específicos del análisis\n",
    "Métricas clave a evaluar\n",
    "Metodología planificada\n",
    "¡El resto de la estructura inicial está bien organizada!\n",
    "\n",
    "</div>\n",
    "\n",
    "<div class=\"alert alert-block alert-success\">\n",
    "<b>Comentario del revisor</b> <a class=\"tocSkip\"></a>\n",
    "    \n",
    "Éxito - Excelente implementación de la función looks() para explorar los datasets. Esta función proporciona una visión completa de la estructura, valores faltantes y duplicados en cada conjunto de datos.\n",
    "</div>\n",
    "\n",
    "<div class=\"alert alert-block alert-success\">\n",
    "<b>Comentario del revisor</b> <a class=\"tocSkip\"></a>\n",
    "    \n",
    "Éxito - Buena decisión al convertir MB a GB para mejor interpretación de los datos. Esta transformación facilita el análisis posterior y la comunicación de resultados.\n",
    "</div>\n",
    "\n"
   ]
  },
  {
   "cell_type": "markdown",
   "metadata": {
    "id": "o7MeKCid0q08"
   },
   "source": [
    "## Llamadas"
   ]
  },
  {
   "cell_type": "code",
   "execution_count": 57,
   "metadata": {
    "id": "6dDlnoDm0q08"
   },
   "outputs": [
    {
     "name": "stdout",
     "output_type": "stream",
     "text": [
      "describe:\n",
      "             id        user_id   call_date       duration\n",
      "count    137735  137735.000000      137735  137735.000000\n",
      "unique   137735            NaN         351            NaN\n",
      "top     1000_93            NaN  2018-12-27            NaN\n",
      "freq          1            NaN        1091            NaN\n",
      "mean        NaN    1247.658046         NaN       6.745927\n",
      "std         NaN     139.416268         NaN       5.839241\n",
      "min         NaN    1000.000000         NaN       0.000000\n",
      "25%         NaN    1128.000000         NaN       1.290000\n",
      "50%         NaN    1247.000000         NaN       5.980000\n",
      "75%         NaN    1365.000000         NaN      10.690000\n",
      "max         NaN    1499.000000         NaN      37.600000\n",
      "\n",
      "info:\n",
      "<class 'pandas.core.frame.DataFrame'>\n",
      "RangeIndex: 137735 entries, 0 to 137734\n",
      "Data columns (total 4 columns):\n",
      " #   Column     Non-Null Count   Dtype  \n",
      "---  ------     --------------   -----  \n",
      " 0   id         137735 non-null  object \n",
      " 1   user_id    137735 non-null  int64  \n",
      " 2   call_date  137735 non-null  object \n",
      " 3   duration   137735 non-null  float64\n",
      "dtypes: float64(1), int64(1), object(2)\n",
      "memory usage: 4.2+ MB\n",
      "None\n",
      "\n",
      "Head:\n",
      "         id  user_id   call_date  duration\n",
      "0   1000_93     1000  2018-12-27      8.52\n",
      "1  1000_145     1000  2018-12-27     13.66\n",
      "2  1000_247     1000  2018-12-27     14.48\n",
      "3  1000_309     1000  2018-12-28      5.76\n",
      "4  1000_380     1000  2018-12-30      4.22\n",
      "\n",
      "NA?:\n",
      "id           0\n",
      "user_id      0\n",
      "call_date    0\n",
      "duration     0\n",
      "dtype: int64\n",
      "\n",
      "Duplicados:\n",
      "0\n"
     ]
    }
   ],
   "source": [
    "# Imprime la información general/resumida sobre el DataFrame de las llamadas\n",
    "looks(calls)"
   ]
  },
  {
   "cell_type": "code",
   "execution_count": 58,
   "metadata": {},
   "outputs": [],
   "source": [
    "def redondeo(dur):\n",
    "    red = np.ceil(dur)\n",
    "    return int(red)"
   ]
  },
  {
   "cell_type": "markdown",
   "metadata": {
    "id": "S7hzxmbX0q0-"
   },
   "source": [
    "### Corregir los datos"
   ]
  },
  {
   "cell_type": "code",
   "execution_count": 59,
   "metadata": {
    "id": "S2r8xA4f0q0-"
   },
   "outputs": [],
   "source": [
    "calls[\"call_date\"] = pd.to_datetime(calls[\"call_date\"], format= \"%Y-%m-%d\")\n",
    "calls[\"month\"] = calls[\"call_date\"].dt.month\n",
    "\n",
    "# se convierte en datos de fecha y se extrae el mes para los analisis posteriores"
   ]
  },
  {
   "cell_type": "markdown",
   "metadata": {
    "id": "KrMgTrlG0q0_"
   },
   "source": [
    "### Enriquecer los datos"
   ]
  },
  {
   "cell_type": "markdown",
   "metadata": {
    "id": "a9MbmEvE0q0_"
   },
   "source": [
    "[Agrega factores adicionales a los datos si crees que pudieran ser útiles.]"
   ]
  },
  {
   "cell_type": "code",
   "execution_count": 60,
   "metadata": {
    "id": "iZ1avpA_0q0_"
   },
   "outputs": [],
   "source": [
    "calls[\"duracion_redond\"] = calls[\"duration\"].apply(redondeo)\n",
    "#se redondea a el valor superior ya que aun no consumido el total del minuto, se contabiliza como minuto completo al momento del cobro\n"
   ]
  },
  {
   "cell_type": "markdown",
   "metadata": {
    "id": "mOUZSi180q0_"
   },
   "source": [
    "## Mensajes"
   ]
  },
  {
   "cell_type": "code",
   "execution_count": 61,
   "metadata": {
    "id": "R-bYJpdV0q1A"
   },
   "outputs": [
    {
     "name": "stdout",
     "output_type": "stream",
     "text": [
      "describe:\n",
      "              id       user_id message_date\n",
      "count      76051  76051.000000        76051\n",
      "unique     76051           NaN          351\n",
      "top     1000_125           NaN   2018-12-28\n",
      "freq           1           NaN          702\n",
      "mean         NaN   1245.972768          NaN\n",
      "std          NaN    139.843635          NaN\n",
      "min          NaN   1000.000000          NaN\n",
      "25%          NaN   1123.000000          NaN\n",
      "50%          NaN   1251.000000          NaN\n",
      "75%          NaN   1362.000000          NaN\n",
      "max          NaN   1497.000000          NaN\n",
      "\n",
      "info:\n",
      "<class 'pandas.core.frame.DataFrame'>\n",
      "RangeIndex: 76051 entries, 0 to 76050\n",
      "Data columns (total 3 columns):\n",
      " #   Column        Non-Null Count  Dtype \n",
      "---  ------        --------------  ----- \n",
      " 0   id            76051 non-null  object\n",
      " 1   user_id       76051 non-null  int64 \n",
      " 2   message_date  76051 non-null  object\n",
      "dtypes: int64(1), object(2)\n",
      "memory usage: 1.7+ MB\n",
      "None\n",
      "\n",
      "Head:\n",
      "         id  user_id message_date\n",
      "0  1000_125     1000   2018-12-27\n",
      "1  1000_160     1000   2018-12-31\n",
      "2  1000_223     1000   2018-12-31\n",
      "3  1000_251     1000   2018-12-27\n",
      "4  1000_255     1000   2018-12-26\n",
      "\n",
      "NA?:\n",
      "id              0\n",
      "user_id         0\n",
      "message_date    0\n",
      "dtype: int64\n",
      "\n",
      "Duplicados:\n",
      "0\n"
     ]
    }
   ],
   "source": [
    "# Imprime la información general/resumida sobre el DataFrame de los mensajes\n",
    "looks(messages)\n"
   ]
  },
  {
   "cell_type": "markdown",
   "metadata": {
    "id": "Sprfak900q1B"
   },
   "source": [
    "### Corregir los datos"
   ]
  },
  {
   "cell_type": "code",
   "execution_count": 62,
   "metadata": {
    "id": "vsllvkoa0q1B"
   },
   "outputs": [],
   "source": [
    "#no se observan problemas"
   ]
  },
  {
   "cell_type": "markdown",
   "metadata": {
    "id": "HvLid7iD0q1B"
   },
   "source": [
    "### Enriquecer los datos"
   ]
  },
  {
   "cell_type": "markdown",
   "metadata": {
    "id": "8nhPFKIe0q1C"
   },
   "source": [
    "[Agrega factores adicionales a los datos si crees que pudieran ser útiles.]"
   ]
  },
  {
   "cell_type": "code",
   "execution_count": 63,
   "metadata": {
    "id": "zYEXZac10q1C"
   },
   "outputs": [],
   "source": [
    "messages[\"message_date\"] = pd.to_datetime(messages[\"message_date\"])\n",
    "messages[\"month\"] =  messages[\"message_date\"].dt.month\n",
    "# se convierte en datos de fecha y se extrae el mes para los analisis posteriores"
   ]
  },
  {
   "cell_type": "markdown",
   "metadata": {
    "id": "bStkaxn40q1C"
   },
   "source": [
    "## Internet"
   ]
  },
  {
   "cell_type": "code",
   "execution_count": 64,
   "metadata": {
    "id": "e-Uz5qyn0q1C"
   },
   "outputs": [
    {
     "name": "stdout",
     "output_type": "stream",
     "text": [
      "describe:\n",
      "             id        user_id session_date        mb_used\n",
      "count    104825  104825.000000       104825  104825.000000\n",
      "unique   104825            NaN          351            NaN\n",
      "top     1000_13            NaN   2018-12-24            NaN\n",
      "freq          1            NaN          851            NaN\n",
      "mean        NaN    1242.496361          NaN     366.713701\n",
      "std         NaN     142.053913          NaN     277.170542\n",
      "min         NaN    1000.000000          NaN       0.000000\n",
      "25%         NaN    1122.000000          NaN     136.080000\n",
      "50%         NaN    1236.000000          NaN     343.980000\n",
      "75%         NaN    1367.000000          NaN     554.610000\n",
      "max         NaN    1499.000000          NaN    1693.470000\n",
      "\n",
      "info:\n",
      "<class 'pandas.core.frame.DataFrame'>\n",
      "RangeIndex: 104825 entries, 0 to 104824\n",
      "Data columns (total 4 columns):\n",
      " #   Column        Non-Null Count   Dtype  \n",
      "---  ------        --------------   -----  \n",
      " 0   id            104825 non-null  object \n",
      " 1   user_id       104825 non-null  int64  \n",
      " 2   session_date  104825 non-null  object \n",
      " 3   mb_used       104825 non-null  float64\n",
      "dtypes: float64(1), int64(1), object(2)\n",
      "memory usage: 3.2+ MB\n",
      "None\n",
      "\n",
      "Head:\n",
      "         id  user_id session_date  mb_used\n",
      "0   1000_13     1000   2018-12-29    89.86\n",
      "1  1000_204     1000   2018-12-31     0.00\n",
      "2  1000_379     1000   2018-12-28   660.40\n",
      "3  1000_413     1000   2018-12-26   270.99\n",
      "4  1000_442     1000   2018-12-27   880.22\n",
      "\n",
      "NA?:\n",
      "id              0\n",
      "user_id         0\n",
      "session_date    0\n",
      "mb_used         0\n",
      "dtype: int64\n",
      "\n",
      "Duplicados:\n",
      "0\n"
     ]
    }
   ],
   "source": [
    "# Imprime la información general/resumida sobre el DataFrame de internet\n",
    "looks(internet)\n"
   ]
  },
  {
   "cell_type": "markdown",
   "metadata": {
    "id": "yA0tkPFg0q1D"
   },
   "source": [
    "### Corregir los datos"
   ]
  },
  {
   "cell_type": "code",
   "execution_count": 65,
   "metadata": {
    "id": "zVeanzdd0q1E"
   },
   "outputs": [],
   "source": [
    "#no se observan problemas"
   ]
  },
  {
   "cell_type": "markdown",
   "metadata": {
    "id": "e8_mLF4a0q1E"
   },
   "source": [
    "### Enriquecer los datos"
   ]
  },
  {
   "cell_type": "markdown",
   "metadata": {
    "id": "xhNdn2tE0q1E"
   },
   "source": [
    "[Agrega factores adicionales a los datos si crees que pudieran ser útiles.]"
   ]
  },
  {
   "cell_type": "code",
   "execution_count": 66,
   "metadata": {
    "id": "ESiYPIEK0q1E"
   },
   "outputs": [],
   "source": [
    "internet[\"session_date\"] = pd.to_datetime(internet[\"session_date\"])\n",
    "internet[\"gb_used\"] = np.ceil(internet[\"mb_used\"]/1024)\n",
    "internet[\"month\"] = internet[\"session_date\"].dt.month\n",
    "# se convierte en datos de fecha, se extrae el mes para los analisis posteriores y se trasforma de MB a GB ya que el cobro de exdente es en funcion de GB\n"
   ]
  },
  {
   "cell_type": "markdown",
   "metadata": {
    "id": "3UA2cqIW0q1E"
   },
   "source": [
    "## Estudiar las condiciones de las tarifas"
   ]
  },
  {
   "cell_type": "markdown",
   "metadata": {
    "id": "T86Sqltq0q1F"
   },
   "source": [
    "[Es sumamente importante entender cómo funcionan las tarifas, cómo se les cobra a los usuarios en función de su plan de suscripción. Así que te sugerimos imprimir la información de la tarifa para ver una vez más sus condiciones.]"
   ]
  },
  {
   "cell_type": "code",
   "execution_count": 67,
   "metadata": {
    "id": "i409op8p0q1F"
   },
   "outputs": [
    {
     "data": {
      "text/html": [
       "<div>\n",
       "<style scoped>\n",
       "    .dataframe tbody tr th:only-of-type {\n",
       "        vertical-align: middle;\n",
       "    }\n",
       "\n",
       "    .dataframe tbody tr th {\n",
       "        vertical-align: top;\n",
       "    }\n",
       "\n",
       "    .dataframe thead th {\n",
       "        text-align: right;\n",
       "    }\n",
       "</style>\n",
       "<table border=\"1\" class=\"dataframe\">\n",
       "  <thead>\n",
       "    <tr style=\"text-align: right;\">\n",
       "      <th></th>\n",
       "      <th>messages_included</th>\n",
       "      <th>mb_per_month_included</th>\n",
       "      <th>minutes_included</th>\n",
       "      <th>usd_monthly_pay</th>\n",
       "      <th>usd_per_gb</th>\n",
       "      <th>usd_per_message</th>\n",
       "      <th>usd_per_minute</th>\n",
       "      <th>plan_name</th>\n",
       "      <th>gb_per_month</th>\n",
       "    </tr>\n",
       "  </thead>\n",
       "  <tbody>\n",
       "    <tr>\n",
       "      <th>0</th>\n",
       "      <td>50</td>\n",
       "      <td>15360</td>\n",
       "      <td>500</td>\n",
       "      <td>20</td>\n",
       "      <td>10</td>\n",
       "      <td>0.03</td>\n",
       "      <td>0.03</td>\n",
       "      <td>surf</td>\n",
       "      <td>15.0</td>\n",
       "    </tr>\n",
       "    <tr>\n",
       "      <th>1</th>\n",
       "      <td>1000</td>\n",
       "      <td>30720</td>\n",
       "      <td>3000</td>\n",
       "      <td>70</td>\n",
       "      <td>7</td>\n",
       "      <td>0.01</td>\n",
       "      <td>0.01</td>\n",
       "      <td>ultimate</td>\n",
       "      <td>30.0</td>\n",
       "    </tr>\n",
       "  </tbody>\n",
       "</table>\n",
       "</div>"
      ],
      "text/plain": [
       "   messages_included  mb_per_month_included  minutes_included  \\\n",
       "0                 50                  15360               500   \n",
       "1               1000                  30720              3000   \n",
       "\n",
       "   usd_monthly_pay  usd_per_gb  usd_per_message  usd_per_minute plan_name  \\\n",
       "0               20          10             0.03            0.03      surf   \n",
       "1               70           7             0.01            0.01  ultimate   \n",
       "\n",
       "   gb_per_month  \n",
       "0          15.0  \n",
       "1          30.0  "
      ]
     },
     "execution_count": 67,
     "metadata": {},
     "output_type": "execute_result"
    }
   ],
   "source": [
    "# Imprime las condiciones de la tarifa y asegúrate de que te quedan claras\n",
    "plans\n",
    "#Se observa que aunque el plan surf es mas economico en tarifa base, el cobro por excedente es mayor que el plan Ultimate. \n",
    "# Esto nos da ya una sugerencia que en caso de excederse el plan surf seria mas costoso"
   ]
  },
  {
   "cell_type": "markdown",
   "metadata": {},
   "source": [
    "<div class=\"alert alert-block alert-warning\">\n",
    "<b>Comentario del revisor</b> <a class=\"tocSkip\"></a>\n",
    "    \n",
    "Atención ⚠️ - La visualización inicial de las tarifas es correcta, pero falta un análisis explícito de las condiciones de cada plan. Sería útil añadir:\n",
    "\n",
    "Resumen comparativo de planes\n",
    "Documentación de límites y costos\n",
    "Análisis de diferencias entre planes\n",
    "¡El resto de la estructura está bien organizada!\n",
    "\n",
    "</div>"
   ]
  },
  {
   "cell_type": "markdown",
   "metadata": {
    "id": "hMR1tP5d0q1F"
   },
   "source": [
    "## Agregar datos por usuario\n",
    "\n"
   ]
  },
  {
   "cell_type": "code",
   "execution_count": 68,
   "metadata": {
    "id": "A332cedB0q1G"
   },
   "outputs": [
    {
     "data": {
      "text/html": [
       "<div>\n",
       "<style scoped>\n",
       "    .dataframe tbody tr th:only-of-type {\n",
       "        vertical-align: middle;\n",
       "    }\n",
       "\n",
       "    .dataframe tbody tr th {\n",
       "        vertical-align: top;\n",
       "    }\n",
       "\n",
       "    .dataframe thead th {\n",
       "        text-align: right;\n",
       "    }\n",
       "</style>\n",
       "<table border=\"1\" class=\"dataframe\">\n",
       "  <thead>\n",
       "    <tr style=\"text-align: right;\">\n",
       "      <th></th>\n",
       "      <th>user_id</th>\n",
       "      <th>month</th>\n",
       "      <th>minutos_consumidos</th>\n",
       "      <th>total_llamadas</th>\n",
       "    </tr>\n",
       "  </thead>\n",
       "  <tbody>\n",
       "    <tr>\n",
       "      <th>0</th>\n",
       "      <td>1000</td>\n",
       "      <td>12</td>\n",
       "      <td>124</td>\n",
       "      <td>16</td>\n",
       "    </tr>\n",
       "    <tr>\n",
       "      <th>1</th>\n",
       "      <td>1001</td>\n",
       "      <td>8</td>\n",
       "      <td>182</td>\n",
       "      <td>27</td>\n",
       "    </tr>\n",
       "    <tr>\n",
       "      <th>2</th>\n",
       "      <td>1001</td>\n",
       "      <td>9</td>\n",
       "      <td>315</td>\n",
       "      <td>49</td>\n",
       "    </tr>\n",
       "    <tr>\n",
       "      <th>3</th>\n",
       "      <td>1001</td>\n",
       "      <td>10</td>\n",
       "      <td>393</td>\n",
       "      <td>65</td>\n",
       "    </tr>\n",
       "    <tr>\n",
       "      <th>4</th>\n",
       "      <td>1001</td>\n",
       "      <td>11</td>\n",
       "      <td>426</td>\n",
       "      <td>64</td>\n",
       "    </tr>\n",
       "    <tr>\n",
       "      <th>...</th>\n",
       "      <td>...</td>\n",
       "      <td>...</td>\n",
       "      <td>...</td>\n",
       "      <td>...</td>\n",
       "    </tr>\n",
       "    <tr>\n",
       "      <th>2253</th>\n",
       "      <td>1498</td>\n",
       "      <td>12</td>\n",
       "      <td>339</td>\n",
       "      <td>39</td>\n",
       "    </tr>\n",
       "    <tr>\n",
       "      <th>2254</th>\n",
       "      <td>1499</td>\n",
       "      <td>9</td>\n",
       "      <td>346</td>\n",
       "      <td>41</td>\n",
       "    </tr>\n",
       "    <tr>\n",
       "      <th>2255</th>\n",
       "      <td>1499</td>\n",
       "      <td>10</td>\n",
       "      <td>385</td>\n",
       "      <td>53</td>\n",
       "    </tr>\n",
       "    <tr>\n",
       "      <th>2256</th>\n",
       "      <td>1499</td>\n",
       "      <td>11</td>\n",
       "      <td>308</td>\n",
       "      <td>45</td>\n",
       "    </tr>\n",
       "    <tr>\n",
       "      <th>2257</th>\n",
       "      <td>1499</td>\n",
       "      <td>12</td>\n",
       "      <td>496</td>\n",
       "      <td>65</td>\n",
       "    </tr>\n",
       "  </tbody>\n",
       "</table>\n",
       "<p>2258 rows × 4 columns</p>\n",
       "</div>"
      ],
      "text/plain": [
       "      user_id  month  minutos_consumidos  total_llamadas\n",
       "0        1000     12                 124              16\n",
       "1        1001      8                 182              27\n",
       "2        1001      9                 315              49\n",
       "3        1001     10                 393              65\n",
       "4        1001     11                 426              64\n",
       "...       ...    ...                 ...             ...\n",
       "2253     1498     12                 339              39\n",
       "2254     1499      9                 346              41\n",
       "2255     1499     10                 385              53\n",
       "2256     1499     11                 308              45\n",
       "2257     1499     12                 496              65\n",
       "\n",
       "[2258 rows x 4 columns]"
      ]
     },
     "execution_count": 68,
     "metadata": {},
     "output_type": "execute_result"
    }
   ],
   "source": [
    "# Calcula el número de llamadas hechas por cada usuario al mes. Guarda el resultado.\n",
    "cals_per_user = calls.pivot_table(index= [\"user_id\",\"month\"],values= \"duracion_redond\", aggfunc= [\"sum\", \"count\" ])\n",
    "cals_per_user.columns = [\"minutos_consumidos\", \"total_llamadas\"]\n",
    "cals_per_user.reset_index(inplace=True)\n",
    "cals_per_user\n"
   ]
  },
  {
   "cell_type": "code",
   "execution_count": 69,
   "metadata": {
    "id": "aw2cmuql0q1G"
   },
   "outputs": [],
   "source": [
    "# Calcula la cantidad de minutos usados por cada usuario al mes. Guarda el resultado. (realizado en el paso anterior)"
   ]
  },
  {
   "cell_type": "code",
   "execution_count": 70,
   "metadata": {
    "id": "CcQvNHn60q1G"
   },
   "outputs": [
    {
     "data": {
      "text/html": [
       "<div>\n",
       "<style scoped>\n",
       "    .dataframe tbody tr th:only-of-type {\n",
       "        vertical-align: middle;\n",
       "    }\n",
       "\n",
       "    .dataframe tbody tr th {\n",
       "        vertical-align: top;\n",
       "    }\n",
       "\n",
       "    .dataframe thead th {\n",
       "        text-align: right;\n",
       "    }\n",
       "</style>\n",
       "<table border=\"1\" class=\"dataframe\">\n",
       "  <thead>\n",
       "    <tr style=\"text-align: right;\">\n",
       "      <th></th>\n",
       "      <th>user_id</th>\n",
       "      <th>month</th>\n",
       "      <th>mensajes_enviados</th>\n",
       "    </tr>\n",
       "  </thead>\n",
       "  <tbody>\n",
       "    <tr>\n",
       "      <th>0</th>\n",
       "      <td>1000</td>\n",
       "      <td>12</td>\n",
       "      <td>11</td>\n",
       "    </tr>\n",
       "    <tr>\n",
       "      <th>1</th>\n",
       "      <td>1001</td>\n",
       "      <td>8</td>\n",
       "      <td>30</td>\n",
       "    </tr>\n",
       "    <tr>\n",
       "      <th>2</th>\n",
       "      <td>1001</td>\n",
       "      <td>9</td>\n",
       "      <td>44</td>\n",
       "    </tr>\n",
       "    <tr>\n",
       "      <th>3</th>\n",
       "      <td>1001</td>\n",
       "      <td>10</td>\n",
       "      <td>53</td>\n",
       "    </tr>\n",
       "    <tr>\n",
       "      <th>4</th>\n",
       "      <td>1001</td>\n",
       "      <td>11</td>\n",
       "      <td>36</td>\n",
       "    </tr>\n",
       "    <tr>\n",
       "      <th>...</th>\n",
       "      <td>...</td>\n",
       "      <td>...</td>\n",
       "      <td>...</td>\n",
       "    </tr>\n",
       "    <tr>\n",
       "      <th>1801</th>\n",
       "      <td>1496</td>\n",
       "      <td>9</td>\n",
       "      <td>21</td>\n",
       "    </tr>\n",
       "    <tr>\n",
       "      <th>1802</th>\n",
       "      <td>1496</td>\n",
       "      <td>10</td>\n",
       "      <td>18</td>\n",
       "    </tr>\n",
       "    <tr>\n",
       "      <th>1803</th>\n",
       "      <td>1496</td>\n",
       "      <td>11</td>\n",
       "      <td>13</td>\n",
       "    </tr>\n",
       "    <tr>\n",
       "      <th>1804</th>\n",
       "      <td>1496</td>\n",
       "      <td>12</td>\n",
       "      <td>11</td>\n",
       "    </tr>\n",
       "    <tr>\n",
       "      <th>1805</th>\n",
       "      <td>1497</td>\n",
       "      <td>12</td>\n",
       "      <td>50</td>\n",
       "    </tr>\n",
       "  </tbody>\n",
       "</table>\n",
       "<p>1806 rows × 3 columns</p>\n",
       "</div>"
      ],
      "text/plain": [
       "      user_id  month  mensajes_enviados\n",
       "0        1000     12                 11\n",
       "1        1001      8                 30\n",
       "2        1001      9                 44\n",
       "3        1001     10                 53\n",
       "4        1001     11                 36\n",
       "...       ...    ...                ...\n",
       "1801     1496      9                 21\n",
       "1802     1496     10                 18\n",
       "1803     1496     11                 13\n",
       "1804     1496     12                 11\n",
       "1805     1497     12                 50\n",
       "\n",
       "[1806 rows x 3 columns]"
      ]
     },
     "execution_count": 70,
     "metadata": {},
     "output_type": "execute_result"
    }
   ],
   "source": [
    "# Calcula el número de mensajes enviados por cada usuario al mes. Guarda el resultado.\n",
    "msj_mth = messages.pivot_table(index= [\"user_id\",\"month\"], values= \"id\", aggfunc= \"count\" ) #groupby([\"user_id\",\"month\"])[\"id\"].count()\n",
    "msj_mth.columns = [\"mensajes_enviados\"]\n",
    "msj_mth.reset_index(inplace=True)\n",
    "msj_mth\n"
   ]
  },
  {
   "cell_type": "code",
   "execution_count": 71,
   "metadata": {
    "id": "H1AqN2eG0q1H"
   },
   "outputs": [
    {
     "data": {
      "text/html": [
       "<div>\n",
       "<style scoped>\n",
       "    .dataframe tbody tr th:only-of-type {\n",
       "        vertical-align: middle;\n",
       "    }\n",
       "\n",
       "    .dataframe tbody tr th {\n",
       "        vertical-align: top;\n",
       "    }\n",
       "\n",
       "    .dataframe thead th {\n",
       "        text-align: right;\n",
       "    }\n",
       "</style>\n",
       "<table border=\"1\" class=\"dataframe\">\n",
       "  <thead>\n",
       "    <tr style=\"text-align: right;\">\n",
       "      <th></th>\n",
       "      <th>user_id</th>\n",
       "      <th>month</th>\n",
       "      <th>gb_consumidos</th>\n",
       "    </tr>\n",
       "  </thead>\n",
       "  <tbody>\n",
       "    <tr>\n",
       "      <th>0</th>\n",
       "      <td>1000</td>\n",
       "      <td>12</td>\n",
       "      <td>4.0</td>\n",
       "    </tr>\n",
       "    <tr>\n",
       "      <th>1</th>\n",
       "      <td>1001</td>\n",
       "      <td>8</td>\n",
       "      <td>21.0</td>\n",
       "    </tr>\n",
       "    <tr>\n",
       "      <th>2</th>\n",
       "      <td>1001</td>\n",
       "      <td>9</td>\n",
       "      <td>41.0</td>\n",
       "    </tr>\n",
       "    <tr>\n",
       "      <th>3</th>\n",
       "      <td>1001</td>\n",
       "      <td>10</td>\n",
       "      <td>50.0</td>\n",
       "    </tr>\n",
       "    <tr>\n",
       "      <th>4</th>\n",
       "      <td>1001</td>\n",
       "      <td>11</td>\n",
       "      <td>49.0</td>\n",
       "    </tr>\n",
       "    <tr>\n",
       "      <th>...</th>\n",
       "      <td>...</td>\n",
       "      <td>...</td>\n",
       "      <td>...</td>\n",
       "    </tr>\n",
       "    <tr>\n",
       "      <th>2272</th>\n",
       "      <td>1498</td>\n",
       "      <td>12</td>\n",
       "      <td>56.0</td>\n",
       "    </tr>\n",
       "    <tr>\n",
       "      <th>2273</th>\n",
       "      <td>1499</td>\n",
       "      <td>9</td>\n",
       "      <td>37.0</td>\n",
       "    </tr>\n",
       "    <tr>\n",
       "      <th>2274</th>\n",
       "      <td>1499</td>\n",
       "      <td>10</td>\n",
       "      <td>52.0</td>\n",
       "    </tr>\n",
       "    <tr>\n",
       "      <th>2275</th>\n",
       "      <td>1499</td>\n",
       "      <td>11</td>\n",
       "      <td>43.0</td>\n",
       "    </tr>\n",
       "    <tr>\n",
       "      <th>2276</th>\n",
       "      <td>1499</td>\n",
       "      <td>12</td>\n",
       "      <td>58.0</td>\n",
       "    </tr>\n",
       "  </tbody>\n",
       "</table>\n",
       "<p>2277 rows × 3 columns</p>\n",
       "</div>"
      ],
      "text/plain": [
       "      user_id  month  gb_consumidos\n",
       "0        1000     12            4.0\n",
       "1        1001      8           21.0\n",
       "2        1001      9           41.0\n",
       "3        1001     10           50.0\n",
       "4        1001     11           49.0\n",
       "...       ...    ...            ...\n",
       "2272     1498     12           56.0\n",
       "2273     1499      9           37.0\n",
       "2274     1499     10           52.0\n",
       "2275     1499     11           43.0\n",
       "2276     1499     12           58.0\n",
       "\n",
       "[2277 rows x 3 columns]"
      ]
     },
     "execution_count": 71,
     "metadata": {},
     "output_type": "execute_result"
    }
   ],
   "source": [
    "# Calcula el volumen del tráfico de Internet usado por cada usuario al mes. Guarda el resultado.\n",
    "ith_mth = internet.pivot_table(index=[\"user_id\",\"month\"], values= \"gb_used\", aggfunc= \"sum\")\n",
    "ith_mth.columns = [\"gb_consumidos\"]\n",
    "ith_mth.reset_index(inplace=True)\n",
    "ith_mth"
   ]
  },
  {
   "cell_type": "code",
   "execution_count": 72,
   "metadata": {
    "id": "FW99ykyf0q1H"
   },
   "outputs": [
    {
     "data": {
      "text/html": [
       "<div>\n",
       "<style scoped>\n",
       "    .dataframe tbody tr th:only-of-type {\n",
       "        vertical-align: middle;\n",
       "    }\n",
       "\n",
       "    .dataframe tbody tr th {\n",
       "        vertical-align: top;\n",
       "    }\n",
       "\n",
       "    .dataframe thead th {\n",
       "        text-align: right;\n",
       "    }\n",
       "</style>\n",
       "<table border=\"1\" class=\"dataframe\">\n",
       "  <thead>\n",
       "    <tr style=\"text-align: right;\">\n",
       "      <th></th>\n",
       "      <th>user_id</th>\n",
       "      <th>month</th>\n",
       "      <th>minutos_consumidos</th>\n",
       "      <th>total_llamadas</th>\n",
       "      <th>mensajes_enviados</th>\n",
       "      <th>gb_consumidos</th>\n",
       "    </tr>\n",
       "  </thead>\n",
       "  <tbody>\n",
       "  </tbody>\n",
       "</table>\n",
       "</div>"
      ],
      "text/plain": [
       "Empty DataFrame\n",
       "Columns: [user_id, month, minutos_consumidos, total_llamadas, mensajes_enviados, gb_consumidos]\n",
       "Index: []"
      ]
     },
     "execution_count": 72,
     "metadata": {},
     "output_type": "execute_result"
    }
   ],
   "source": [
    "# Fusiona los datos de llamadas, minutos, mensajes e Internet con base en user_id y month\n",
    "mth_cons = cals_per_user.merge(msj_mth, on= [\"user_id\",\"month\"], how= \"outer\").merge(ith_mth, on= [\"user_id\",\"month\"], how= \"outer\")\n",
    "mth_cons[mth_cons[\"month\"].isna()]"
   ]
  },
  {
   "cell_type": "code",
   "execution_count": 73,
   "metadata": {
    "id": "0dNOXHag0q1H"
   },
   "outputs": [
    {
     "data": {
      "text/html": [
       "<div>\n",
       "<style scoped>\n",
       "    .dataframe tbody tr th:only-of-type {\n",
       "        vertical-align: middle;\n",
       "    }\n",
       "\n",
       "    .dataframe tbody tr th {\n",
       "        vertical-align: top;\n",
       "    }\n",
       "\n",
       "    .dataframe thead th {\n",
       "        text-align: right;\n",
       "    }\n",
       "</style>\n",
       "<table border=\"1\" class=\"dataframe\">\n",
       "  <thead>\n",
       "    <tr style=\"text-align: right;\">\n",
       "      <th></th>\n",
       "      <th>plan</th>\n",
       "      <th>user_id</th>\n",
       "      <th>city</th>\n",
       "      <th>month</th>\n",
       "      <th>minutos_consumidos</th>\n",
       "      <th>total_llamadas</th>\n",
       "      <th>mensajes_enviados</th>\n",
       "      <th>gb_consumidos</th>\n",
       "      <th>messages_included</th>\n",
       "      <th>mb_per_month_included</th>\n",
       "      <th>minutes_included</th>\n",
       "      <th>usd_monthly_pay</th>\n",
       "      <th>usd_per_gb</th>\n",
       "      <th>usd_per_message</th>\n",
       "      <th>usd_per_minute</th>\n",
       "      <th>plan_name</th>\n",
       "      <th>gb_per_month</th>\n",
       "    </tr>\n",
       "  </thead>\n",
       "  <tbody>\n",
       "    <tr>\n",
       "      <th>2149</th>\n",
       "      <td>ultimate</td>\n",
       "      <td>1467</td>\n",
       "      <td>Atlanta-Sandy Springs-Roswell, GA MSA</td>\n",
       "      <td>5</td>\n",
       "      <td>329.0</td>\n",
       "      <td>52.0</td>\n",
       "      <td>64.0</td>\n",
       "      <td>42.0</td>\n",
       "      <td>1000</td>\n",
       "      <td>30720</td>\n",
       "      <td>3000</td>\n",
       "      <td>70</td>\n",
       "      <td>7</td>\n",
       "      <td>0.01</td>\n",
       "      <td>0.01</td>\n",
       "      <td>ultimate</td>\n",
       "      <td>30.0</td>\n",
       "    </tr>\n",
       "    <tr>\n",
       "      <th>1725</th>\n",
       "      <td>ultimate</td>\n",
       "      <td>1370</td>\n",
       "      <td>San Diego-Chula Vista-Carlsbad, CA MSA</td>\n",
       "      <td>9</td>\n",
       "      <td>450.0</td>\n",
       "      <td>61.0</td>\n",
       "      <td>15.0</td>\n",
       "      <td>27.0</td>\n",
       "      <td>1000</td>\n",
       "      <td>30720</td>\n",
       "      <td>3000</td>\n",
       "      <td>70</td>\n",
       "      <td>7</td>\n",
       "      <td>0.01</td>\n",
       "      <td>0.01</td>\n",
       "      <td>ultimate</td>\n",
       "      <td>30.0</td>\n",
       "    </tr>\n",
       "    <tr>\n",
       "      <th>1544</th>\n",
       "      <td>surf</td>\n",
       "      <td>1335</td>\n",
       "      <td>Dallas-Fort Worth-Arlington, TX MSA</td>\n",
       "      <td>8</td>\n",
       "      <td>527.0</td>\n",
       "      <td>63.0</td>\n",
       "      <td>105.0</td>\n",
       "      <td>39.0</td>\n",
       "      <td>50</td>\n",
       "      <td>15360</td>\n",
       "      <td>500</td>\n",
       "      <td>20</td>\n",
       "      <td>10</td>\n",
       "      <td>0.03</td>\n",
       "      <td>0.03</td>\n",
       "      <td>surf</td>\n",
       "      <td>15.0</td>\n",
       "    </tr>\n",
       "    <tr>\n",
       "      <th>1520</th>\n",
       "      <td>surf</td>\n",
       "      <td>1331</td>\n",
       "      <td>Dallas-Fort Worth-Arlington, TX MSA</td>\n",
       "      <td>8</td>\n",
       "      <td>401.0</td>\n",
       "      <td>53.0</td>\n",
       "      <td>88.0</td>\n",
       "      <td>46.0</td>\n",
       "      <td>50</td>\n",
       "      <td>15360</td>\n",
       "      <td>500</td>\n",
       "      <td>20</td>\n",
       "      <td>10</td>\n",
       "      <td>0.03</td>\n",
       "      <td>0.03</td>\n",
       "      <td>surf</td>\n",
       "      <td>15.0</td>\n",
       "    </tr>\n",
       "    <tr>\n",
       "      <th>1350</th>\n",
       "      <td>surf</td>\n",
       "      <td>1291</td>\n",
       "      <td>Indianapolis-Carmel-Anderson, IN MSA</td>\n",
       "      <td>7</td>\n",
       "      <td>642.0</td>\n",
       "      <td>79.0</td>\n",
       "      <td>10.0</td>\n",
       "      <td>50.0</td>\n",
       "      <td>50</td>\n",
       "      <td>15360</td>\n",
       "      <td>500</td>\n",
       "      <td>20</td>\n",
       "      <td>10</td>\n",
       "      <td>0.03</td>\n",
       "      <td>0.03</td>\n",
       "      <td>surf</td>\n",
       "      <td>15.0</td>\n",
       "    </tr>\n",
       "  </tbody>\n",
       "</table>\n",
       "</div>"
      ],
      "text/plain": [
       "          plan  user_id                                    city  month  \\\n",
       "2149  ultimate     1467   Atlanta-Sandy Springs-Roswell, GA MSA      5   \n",
       "1725  ultimate     1370  San Diego-Chula Vista-Carlsbad, CA MSA      9   \n",
       "1544      surf     1335     Dallas-Fort Worth-Arlington, TX MSA      8   \n",
       "1520      surf     1331     Dallas-Fort Worth-Arlington, TX MSA      8   \n",
       "1350      surf     1291    Indianapolis-Carmel-Anderson, IN MSA      7   \n",
       "\n",
       "      minutos_consumidos  total_llamadas  mensajes_enviados  gb_consumidos  \\\n",
       "2149               329.0            52.0               64.0           42.0   \n",
       "1725               450.0            61.0               15.0           27.0   \n",
       "1544               527.0            63.0              105.0           39.0   \n",
       "1520               401.0            53.0               88.0           46.0   \n",
       "1350               642.0            79.0               10.0           50.0   \n",
       "\n",
       "      messages_included  mb_per_month_included  minutes_included  \\\n",
       "2149               1000                  30720              3000   \n",
       "1725               1000                  30720              3000   \n",
       "1544                 50                  15360               500   \n",
       "1520                 50                  15360               500   \n",
       "1350                 50                  15360               500   \n",
       "\n",
       "      usd_monthly_pay  usd_per_gb  usd_per_message  usd_per_minute plan_name  \\\n",
       "2149               70           7             0.01            0.01  ultimate   \n",
       "1725               70           7             0.01            0.01  ultimate   \n",
       "1544               20          10             0.03            0.03      surf   \n",
       "1520               20          10             0.03            0.03      surf   \n",
       "1350               20          10             0.03            0.03      surf   \n",
       "\n",
       "      gb_per_month  \n",
       "2149          30.0  \n",
       "1725          30.0  \n",
       "1544          15.0  \n",
       "1520          15.0  \n",
       "1350          15.0  "
      ]
     },
     "execution_count": 73,
     "metadata": {},
     "output_type": "execute_result"
    }
   ],
   "source": [
    "# Añade la información de la tarifa\n",
    "usr_mth_cons= users[[\"plan\",\"user_id\",\"city\"]].merge(mth_cons, on= \"user_id\", how= \"inner\") #Al hacer un inner se excluyen usuarios que no usaron el servico, se detectaron 10\n",
    "bigtable = usr_mth_cons.merge(plans,left_on=\"plan\", right_on= \"plan_name\")\n",
    "bigtable.isna().sum()\n",
    "bigtable.fillna(0, inplace=True)\n",
    "bigtable.sample(5) #se hace un muestreo para ver de manera muy general la estructura del DF con los datos unificados"
   ]
  },
  {
   "cell_type": "code",
   "execution_count": 74,
   "metadata": {
    "id": "5FGCf_c60q1I"
   },
   "outputs": [],
   "source": [
    "# Calcula el ingreso mensual para cada usuario \n",
    "#se diseñan 3 funciones para poder calcular en caso de excedente \n",
    "def cobro_llamadas (fila):\n",
    "    minutos_cons = fila[\"minutos_consumidos\"]\n",
    "    consumo_excedente = 0\n",
    "\n",
    "    if minutos_cons > fila[\"minutes_included\"]:\n",
    "        consumo_excedente=(minutos_cons - fila[\"minutes_included\"])*fila[\"usd_per_minute\"]\n",
    "    return consumo_excedente\n",
    "\n",
    "def cobro_msj(fila):\n",
    "    cons = fila[\"mensajes_enviados\"]\n",
    "    consumo_excedente = 0\n",
    "    \n",
    "    if cons > fila[\"messages_included\"]:\n",
    "        consumo_excedente=(cons - fila[\"messages_included\"])*fila[\"usd_per_message\"]\n",
    "    return consumo_excedente\n",
    "\n",
    "def cobro_ith(fila):\n",
    "    cons = fila[\"gb_consumidos\"]\n",
    "    consumo_excedente = 0\n",
    "    \n",
    "    if cons > fila[\"gb_per_month\"]:\n",
    "        consumo_excedente=(cons - fila[\"gb_per_month\"])*fila[\"usd_per_gb\"]\n",
    "    return consumo_excedente\n"
   ]
  },
  {
   "cell_type": "markdown",
   "metadata": {},
   "source": [
    "<div class=\"alert alert-block alert-warning\">\n",
    "<b>Comentario del revisor</b> <a class=\"tocSkip\"></a>\n",
    "Atención ⚠️ - Las funciones de cálculo de cobros necesitan:\n",
    "pythonCopydef calcular_excedente_llamadas(fila):\n",
    "    \"\"\"\n",
    "    Calcula el cobro excedente por llamadas para un usuario.\n",
    "    \n",
    "    Args:\n",
    "        fila (pd.Series): Fila del DataFrame con datos de consumo\n",
    "        \n",
    "    Returns:\n",
    "        float: Monto del cobro excedente\n",
    "    \"\"\"\n",
    "    minutos_cons = fila[\"minutos_consumidos\"]\n",
    "    consumo_excedente = 0\n",
    "    \n",
    "    if minutos_cons > fila[\"minutes_included\"]:\n",
    "        consumo_excedente = (minutos_cons - fila[\"minutes_included\"]) * fila[\"usd_per_minute\"]\n",
    "    \n",
    "    return consumo_excedente\n",
    "</div>\n",
    "<div class=\"alert alert-block alert-info\">\n",
    "<b>Respuesta del estudiante</b> <a class=\"tocSkip\"></a>\n",
    "    \n",
    "Hola Hesus! no entendi muy bien a que refieres con esta parte\n",
    "    \n",
    "</div>\n",
    "\n"
   ]
  },
  {
   "cell_type": "code",
   "execution_count": 75,
   "metadata": {},
   "outputs": [],
   "source": [
    "#bigtable.apply(cobro_ith,axis=1) #testing funcion"
   ]
  },
  {
   "cell_type": "code",
   "execution_count": 76,
   "metadata": {},
   "outputs": [
    {
     "data": {
      "text/html": [
       "<div>\n",
       "<style scoped>\n",
       "    .dataframe tbody tr th:only-of-type {\n",
       "        vertical-align: middle;\n",
       "    }\n",
       "\n",
       "    .dataframe tbody tr th {\n",
       "        vertical-align: top;\n",
       "    }\n",
       "\n",
       "    .dataframe thead th {\n",
       "        text-align: right;\n",
       "    }\n",
       "</style>\n",
       "<table border=\"1\" class=\"dataframe\">\n",
       "  <thead>\n",
       "    <tr style=\"text-align: right;\">\n",
       "      <th></th>\n",
       "      <th>plan</th>\n",
       "      <th>user_id</th>\n",
       "      <th>city</th>\n",
       "      <th>month</th>\n",
       "      <th>minutos_consumidos</th>\n",
       "      <th>total_llamadas</th>\n",
       "      <th>mensajes_enviados</th>\n",
       "      <th>gb_consumidos</th>\n",
       "      <th>messages_included</th>\n",
       "      <th>mb_per_month_included</th>\n",
       "      <th>minutes_included</th>\n",
       "      <th>usd_monthly_pay</th>\n",
       "      <th>usd_per_gb</th>\n",
       "      <th>usd_per_message</th>\n",
       "      <th>usd_per_minute</th>\n",
       "      <th>plan_name</th>\n",
       "      <th>gb_per_month</th>\n",
       "      <th>llamadas_cobro_Excedente</th>\n",
       "      <th>mensajes_cobro_Excedente</th>\n",
       "      <th>internet_cobro_Excedente</th>\n",
       "    </tr>\n",
       "  </thead>\n",
       "  <tbody>\n",
       "    <tr>\n",
       "      <th>0</th>\n",
       "      <td>ultimate</td>\n",
       "      <td>1000</td>\n",
       "      <td>Atlanta-Sandy Springs-Roswell, GA MSA</td>\n",
       "      <td>12</td>\n",
       "      <td>124.0</td>\n",
       "      <td>16.0</td>\n",
       "      <td>11.0</td>\n",
       "      <td>4.0</td>\n",
       "      <td>1000</td>\n",
       "      <td>30720</td>\n",
       "      <td>3000</td>\n",
       "      <td>70</td>\n",
       "      <td>7</td>\n",
       "      <td>0.01</td>\n",
       "      <td>0.01</td>\n",
       "      <td>ultimate</td>\n",
       "      <td>30.0</td>\n",
       "      <td>0.0</td>\n",
       "      <td>0.00</td>\n",
       "      <td>0.0</td>\n",
       "    </tr>\n",
       "    <tr>\n",
       "      <th>1</th>\n",
       "      <td>surf</td>\n",
       "      <td>1001</td>\n",
       "      <td>Seattle-Tacoma-Bellevue, WA MSA</td>\n",
       "      <td>8</td>\n",
       "      <td>182.0</td>\n",
       "      <td>27.0</td>\n",
       "      <td>30.0</td>\n",
       "      <td>21.0</td>\n",
       "      <td>50</td>\n",
       "      <td>15360</td>\n",
       "      <td>500</td>\n",
       "      <td>20</td>\n",
       "      <td>10</td>\n",
       "      <td>0.03</td>\n",
       "      <td>0.03</td>\n",
       "      <td>surf</td>\n",
       "      <td>15.0</td>\n",
       "      <td>0.0</td>\n",
       "      <td>0.00</td>\n",
       "      <td>60.0</td>\n",
       "    </tr>\n",
       "    <tr>\n",
       "      <th>2</th>\n",
       "      <td>surf</td>\n",
       "      <td>1001</td>\n",
       "      <td>Seattle-Tacoma-Bellevue, WA MSA</td>\n",
       "      <td>9</td>\n",
       "      <td>315.0</td>\n",
       "      <td>49.0</td>\n",
       "      <td>44.0</td>\n",
       "      <td>41.0</td>\n",
       "      <td>50</td>\n",
       "      <td>15360</td>\n",
       "      <td>500</td>\n",
       "      <td>20</td>\n",
       "      <td>10</td>\n",
       "      <td>0.03</td>\n",
       "      <td>0.03</td>\n",
       "      <td>surf</td>\n",
       "      <td>15.0</td>\n",
       "      <td>0.0</td>\n",
       "      <td>0.00</td>\n",
       "      <td>260.0</td>\n",
       "    </tr>\n",
       "    <tr>\n",
       "      <th>3</th>\n",
       "      <td>surf</td>\n",
       "      <td>1001</td>\n",
       "      <td>Seattle-Tacoma-Bellevue, WA MSA</td>\n",
       "      <td>10</td>\n",
       "      <td>393.0</td>\n",
       "      <td>65.0</td>\n",
       "      <td>53.0</td>\n",
       "      <td>50.0</td>\n",
       "      <td>50</td>\n",
       "      <td>15360</td>\n",
       "      <td>500</td>\n",
       "      <td>20</td>\n",
       "      <td>10</td>\n",
       "      <td>0.03</td>\n",
       "      <td>0.03</td>\n",
       "      <td>surf</td>\n",
       "      <td>15.0</td>\n",
       "      <td>0.0</td>\n",
       "      <td>0.09</td>\n",
       "      <td>350.0</td>\n",
       "    </tr>\n",
       "    <tr>\n",
       "      <th>4</th>\n",
       "      <td>surf</td>\n",
       "      <td>1001</td>\n",
       "      <td>Seattle-Tacoma-Bellevue, WA MSA</td>\n",
       "      <td>11</td>\n",
       "      <td>426.0</td>\n",
       "      <td>64.0</td>\n",
       "      <td>36.0</td>\n",
       "      <td>49.0</td>\n",
       "      <td>50</td>\n",
       "      <td>15360</td>\n",
       "      <td>500</td>\n",
       "      <td>20</td>\n",
       "      <td>10</td>\n",
       "      <td>0.03</td>\n",
       "      <td>0.03</td>\n",
       "      <td>surf</td>\n",
       "      <td>15.0</td>\n",
       "      <td>0.0</td>\n",
       "      <td>0.00</td>\n",
       "      <td>340.0</td>\n",
       "    </tr>\n",
       "    <tr>\n",
       "      <th>...</th>\n",
       "      <td>...</td>\n",
       "      <td>...</td>\n",
       "      <td>...</td>\n",
       "      <td>...</td>\n",
       "      <td>...</td>\n",
       "      <td>...</td>\n",
       "      <td>...</td>\n",
       "      <td>...</td>\n",
       "      <td>...</td>\n",
       "      <td>...</td>\n",
       "      <td>...</td>\n",
       "      <td>...</td>\n",
       "      <td>...</td>\n",
       "      <td>...</td>\n",
       "      <td>...</td>\n",
       "      <td>...</td>\n",
       "      <td>...</td>\n",
       "      <td>...</td>\n",
       "      <td>...</td>\n",
       "      <td>...</td>\n",
       "    </tr>\n",
       "    <tr>\n",
       "      <th>2288</th>\n",
       "      <td>surf</td>\n",
       "      <td>1498</td>\n",
       "      <td>New York-Newark-Jersey City, NY-NJ-PA MSA</td>\n",
       "      <td>12</td>\n",
       "      <td>339.0</td>\n",
       "      <td>39.0</td>\n",
       "      <td>0.0</td>\n",
       "      <td>56.0</td>\n",
       "      <td>50</td>\n",
       "      <td>15360</td>\n",
       "      <td>500</td>\n",
       "      <td>20</td>\n",
       "      <td>10</td>\n",
       "      <td>0.03</td>\n",
       "      <td>0.03</td>\n",
       "      <td>surf</td>\n",
       "      <td>15.0</td>\n",
       "      <td>0.0</td>\n",
       "      <td>0.00</td>\n",
       "      <td>410.0</td>\n",
       "    </tr>\n",
       "    <tr>\n",
       "      <th>2289</th>\n",
       "      <td>surf</td>\n",
       "      <td>1499</td>\n",
       "      <td>Orlando-Kissimmee-Sanford, FL MSA</td>\n",
       "      <td>9</td>\n",
       "      <td>346.0</td>\n",
       "      <td>41.0</td>\n",
       "      <td>0.0</td>\n",
       "      <td>37.0</td>\n",
       "      <td>50</td>\n",
       "      <td>15360</td>\n",
       "      <td>500</td>\n",
       "      <td>20</td>\n",
       "      <td>10</td>\n",
       "      <td>0.03</td>\n",
       "      <td>0.03</td>\n",
       "      <td>surf</td>\n",
       "      <td>15.0</td>\n",
       "      <td>0.0</td>\n",
       "      <td>0.00</td>\n",
       "      <td>220.0</td>\n",
       "    </tr>\n",
       "    <tr>\n",
       "      <th>2290</th>\n",
       "      <td>surf</td>\n",
       "      <td>1499</td>\n",
       "      <td>Orlando-Kissimmee-Sanford, FL MSA</td>\n",
       "      <td>10</td>\n",
       "      <td>385.0</td>\n",
       "      <td>53.0</td>\n",
       "      <td>0.0</td>\n",
       "      <td>52.0</td>\n",
       "      <td>50</td>\n",
       "      <td>15360</td>\n",
       "      <td>500</td>\n",
       "      <td>20</td>\n",
       "      <td>10</td>\n",
       "      <td>0.03</td>\n",
       "      <td>0.03</td>\n",
       "      <td>surf</td>\n",
       "      <td>15.0</td>\n",
       "      <td>0.0</td>\n",
       "      <td>0.00</td>\n",
       "      <td>370.0</td>\n",
       "    </tr>\n",
       "    <tr>\n",
       "      <th>2291</th>\n",
       "      <td>surf</td>\n",
       "      <td>1499</td>\n",
       "      <td>Orlando-Kissimmee-Sanford, FL MSA</td>\n",
       "      <td>11</td>\n",
       "      <td>308.0</td>\n",
       "      <td>45.0</td>\n",
       "      <td>0.0</td>\n",
       "      <td>43.0</td>\n",
       "      <td>50</td>\n",
       "      <td>15360</td>\n",
       "      <td>500</td>\n",
       "      <td>20</td>\n",
       "      <td>10</td>\n",
       "      <td>0.03</td>\n",
       "      <td>0.03</td>\n",
       "      <td>surf</td>\n",
       "      <td>15.0</td>\n",
       "      <td>0.0</td>\n",
       "      <td>0.00</td>\n",
       "      <td>280.0</td>\n",
       "    </tr>\n",
       "    <tr>\n",
       "      <th>2292</th>\n",
       "      <td>surf</td>\n",
       "      <td>1499</td>\n",
       "      <td>Orlando-Kissimmee-Sanford, FL MSA</td>\n",
       "      <td>12</td>\n",
       "      <td>496.0</td>\n",
       "      <td>65.0</td>\n",
       "      <td>0.0</td>\n",
       "      <td>58.0</td>\n",
       "      <td>50</td>\n",
       "      <td>15360</td>\n",
       "      <td>500</td>\n",
       "      <td>20</td>\n",
       "      <td>10</td>\n",
       "      <td>0.03</td>\n",
       "      <td>0.03</td>\n",
       "      <td>surf</td>\n",
       "      <td>15.0</td>\n",
       "      <td>0.0</td>\n",
       "      <td>0.00</td>\n",
       "      <td>430.0</td>\n",
       "    </tr>\n",
       "  </tbody>\n",
       "</table>\n",
       "<p>2293 rows × 20 columns</p>\n",
       "</div>"
      ],
      "text/plain": [
       "          plan  user_id                                       city  month  \\\n",
       "0     ultimate     1000      Atlanta-Sandy Springs-Roswell, GA MSA     12   \n",
       "1         surf     1001            Seattle-Tacoma-Bellevue, WA MSA      8   \n",
       "2         surf     1001            Seattle-Tacoma-Bellevue, WA MSA      9   \n",
       "3         surf     1001            Seattle-Tacoma-Bellevue, WA MSA     10   \n",
       "4         surf     1001            Seattle-Tacoma-Bellevue, WA MSA     11   \n",
       "...        ...      ...                                        ...    ...   \n",
       "2288      surf     1498  New York-Newark-Jersey City, NY-NJ-PA MSA     12   \n",
       "2289      surf     1499          Orlando-Kissimmee-Sanford, FL MSA      9   \n",
       "2290      surf     1499          Orlando-Kissimmee-Sanford, FL MSA     10   \n",
       "2291      surf     1499          Orlando-Kissimmee-Sanford, FL MSA     11   \n",
       "2292      surf     1499          Orlando-Kissimmee-Sanford, FL MSA     12   \n",
       "\n",
       "      minutos_consumidos  total_llamadas  mensajes_enviados  gb_consumidos  \\\n",
       "0                  124.0            16.0               11.0            4.0   \n",
       "1                  182.0            27.0               30.0           21.0   \n",
       "2                  315.0            49.0               44.0           41.0   \n",
       "3                  393.0            65.0               53.0           50.0   \n",
       "4                  426.0            64.0               36.0           49.0   \n",
       "...                  ...             ...                ...            ...   \n",
       "2288               339.0            39.0                0.0           56.0   \n",
       "2289               346.0            41.0                0.0           37.0   \n",
       "2290               385.0            53.0                0.0           52.0   \n",
       "2291               308.0            45.0                0.0           43.0   \n",
       "2292               496.0            65.0                0.0           58.0   \n",
       "\n",
       "      messages_included  mb_per_month_included  minutes_included  \\\n",
       "0                  1000                  30720              3000   \n",
       "1                    50                  15360               500   \n",
       "2                    50                  15360               500   \n",
       "3                    50                  15360               500   \n",
       "4                    50                  15360               500   \n",
       "...                 ...                    ...               ...   \n",
       "2288                 50                  15360               500   \n",
       "2289                 50                  15360               500   \n",
       "2290                 50                  15360               500   \n",
       "2291                 50                  15360               500   \n",
       "2292                 50                  15360               500   \n",
       "\n",
       "      usd_monthly_pay  usd_per_gb  usd_per_message  usd_per_minute plan_name  \\\n",
       "0                  70           7             0.01            0.01  ultimate   \n",
       "1                  20          10             0.03            0.03      surf   \n",
       "2                  20          10             0.03            0.03      surf   \n",
       "3                  20          10             0.03            0.03      surf   \n",
       "4                  20          10             0.03            0.03      surf   \n",
       "...               ...         ...              ...             ...       ...   \n",
       "2288               20          10             0.03            0.03      surf   \n",
       "2289               20          10             0.03            0.03      surf   \n",
       "2290               20          10             0.03            0.03      surf   \n",
       "2291               20          10             0.03            0.03      surf   \n",
       "2292               20          10             0.03            0.03      surf   \n",
       "\n",
       "      gb_per_month  llamadas_cobro_Excedente  mensajes_cobro_Excedente  \\\n",
       "0             30.0                       0.0                      0.00   \n",
       "1             15.0                       0.0                      0.00   \n",
       "2             15.0                       0.0                      0.00   \n",
       "3             15.0                       0.0                      0.09   \n",
       "4             15.0                       0.0                      0.00   \n",
       "...            ...                       ...                       ...   \n",
       "2288          15.0                       0.0                      0.00   \n",
       "2289          15.0                       0.0                      0.00   \n",
       "2290          15.0                       0.0                      0.00   \n",
       "2291          15.0                       0.0                      0.00   \n",
       "2292          15.0                       0.0                      0.00   \n",
       "\n",
       "      internet_cobro_Excedente  \n",
       "0                          0.0  \n",
       "1                         60.0  \n",
       "2                        260.0  \n",
       "3                        350.0  \n",
       "4                        340.0  \n",
       "...                        ...  \n",
       "2288                     410.0  \n",
       "2289                     220.0  \n",
       "2290                     370.0  \n",
       "2291                     280.0  \n",
       "2292                     430.0  \n",
       "\n",
       "[2293 rows x 20 columns]"
      ]
     },
     "execution_count": 76,
     "metadata": {},
     "output_type": "execute_result"
    }
   ],
   "source": [
    "bigtable[\"llamadas_cobro_Excedente\"] = bigtable.apply(cobro_llamadas,axis=1)\n",
    "bigtable[\"mensajes_cobro_Excedente\"] = bigtable.apply(cobro_msj,axis=1)\n",
    "bigtable[\"internet_cobro_Excedente\"] = bigtable.apply(cobro_ith,axis=1)\n",
    "bigtable"
   ]
  },
  {
   "cell_type": "markdown",
   "metadata": {},
   "source": [
    "<div class=\"alert alert-block alert-success\">\n",
    "<b>Comentario del revisor</b> <a class=\"tocSkip\"></a>\n",
    "    \n",
    "Éxito - Excelente uso de pivot_table para agregar datos por usuario y mes. Las transformaciones son claras y eficientes:\n",
    "\n",
    "Correcto cálculo de minutos consumidos\n",
    "Adecuada agregación de mensajes\n",
    "Apropiado cálculo de consumo de internet\n",
    "\n",
    "</div>\n"
   ]
  },
  {
   "cell_type": "markdown",
   "metadata": {
    "id": "-jtyHzJb0q1I"
   },
   "source": [
    "## Estudia el comportamiento de usuario"
   ]
  },
  {
   "cell_type": "markdown",
   "metadata": {
    "id": "vtW4CJEe0q1J"
   },
   "source": [
    "### Llamadas"
   ]
  },
  {
   "cell_type": "code",
   "execution_count": 77,
   "metadata": {
    "id": "Jf5v5--k0q1J"
   },
   "outputs": [
    {
     "data": {
      "image/png": "[encoded data removed]",
      "text/plain": [
       "<Figure size 640x480 with 1 Axes>"
      ]
     },
     "metadata": {},
     "output_type": "display_data"
    }
   ],
   "source": [
    "# Compara la duración promedio de llamadas por cada plan y por cada mes. Traza un gráfico de barras para visualizarla.\n",
    "graf1 = bigtable.groupby([\"month\",\"plan\"])[\"total_llamadas\"].sum().reset_index()\n",
    "sns.barplot(data= graf1, x= \"month\", y= \"total_llamadas\", hue= \"plan\").set(title='Duracion promedio de llamadas por mes, \\n contrastando usuarios de ambos planes', xlabel='Mes (enero = 1)', ylabel='Llamadas realizadas')\n",
    "plt.show()"
   ]
  },
  {
   "cell_type": "code",
   "execution_count": 69,
   "metadata": {
    "id": "QoLqW1S_0q1J"
   },
   "outputs": [
    {
     "data": {
      "image/png": "[encoded data removed]",
      "text/plain": [
       "<Figure size 640x480 with 1 Axes>"
      ]
     },
     "metadata": {},
     "output_type": "display_data"
    }
   ],
   "source": [
    "# Compara el número de minutos mensuales que necesitan los usuarios de cada plan. Traza un histograma.\n",
    "#bigtable[\"minutos_consumidos\"].plot(kind=\"hist\")\n",
    "\n",
    "graf2= bigtable.groupby([\"month\",\"plan\"])[\"minutos_consumidos\"].sum().reset_index()\n",
    "sns.histplot(data= graf2, x= \"minutos_consumidos\", hue= \"plan\").set(title='Minutos consumidos por plan', xlabel='Minutos consumidos', ylabel='Conteo')\n",
    "plt.show()"
   ]
  },
  {
   "cell_type": "code",
   "execution_count": 70,
   "metadata": {
    "id": "oSndbAnt0q1K"
   },
   "outputs": [
    {
     "data": {
      "text/html": [
       "<div>\n",
       "<style scoped>\n",
       "    .dataframe tbody tr th:only-of-type {\n",
       "        vertical-align: middle;\n",
       "    }\n",
       "\n",
       "    .dataframe tbody tr th {\n",
       "        vertical-align: top;\n",
       "    }\n",
       "\n",
       "    .dataframe thead th {\n",
       "        text-align: right;\n",
       "    }\n",
       "</style>\n",
       "<table border=\"1\" class=\"dataframe\">\n",
       "  <thead>\n",
       "    <tr style=\"text-align: right;\">\n",
       "      <th></th>\n",
       "      <th>count</th>\n",
       "      <th>mean</th>\n",
       "      <th>std</th>\n",
       "      <th>min</th>\n",
       "      <th>25%</th>\n",
       "      <th>50%</th>\n",
       "      <th>75%</th>\n",
       "      <th>max</th>\n",
       "    </tr>\n",
       "    <tr>\n",
       "      <th>month</th>\n",
       "      <th></th>\n",
       "      <th></th>\n",
       "      <th></th>\n",
       "      <th></th>\n",
       "      <th></th>\n",
       "      <th></th>\n",
       "      <th></th>\n",
       "      <th></th>\n",
       "    </tr>\n",
       "  </thead>\n",
       "  <tbody>\n",
       "    <tr>\n",
       "      <th>1</th>\n",
       "      <td>6.0</td>\n",
       "      <td>196.666667</td>\n",
       "      <td>114.611809</td>\n",
       "      <td>16.0</td>\n",
       "      <td>130.75</td>\n",
       "      <td>234.0</td>\n",
       "      <td>289.25</td>\n",
       "      <td>292.0</td>\n",
       "    </tr>\n",
       "    <tr>\n",
       "      <th>2</th>\n",
       "      <td>16.0</td>\n",
       "      <td>343.437500</td>\n",
       "      <td>248.127647</td>\n",
       "      <td>0.0</td>\n",
       "      <td>205.50</td>\n",
       "      <td>286.5</td>\n",
       "      <td>462.00</td>\n",
       "      <td>811.0</td>\n",
       "    </tr>\n",
       "    <tr>\n",
       "      <th>3</th>\n",
       "      <td>35.0</td>\n",
       "      <td>321.171429</td>\n",
       "      <td>208.275056</td>\n",
       "      <td>23.0</td>\n",
       "      <td>148.00</td>\n",
       "      <td>307.0</td>\n",
       "      <td>430.50</td>\n",
       "      <td>788.0</td>\n",
       "    </tr>\n",
       "    <tr>\n",
       "      <th>4</th>\n",
       "      <td>71.0</td>\n",
       "      <td>347.197183</td>\n",
       "      <td>213.589635</td>\n",
       "      <td>16.0</td>\n",
       "      <td>189.50</td>\n",
       "      <td>321.0</td>\n",
       "      <td>490.50</td>\n",
       "      <td>1043.0</td>\n",
       "    </tr>\n",
       "    <tr>\n",
       "      <th>5</th>\n",
       "      <td>106.0</td>\n",
       "      <td>401.405660</td>\n",
       "      <td>234.415251</td>\n",
       "      <td>0.0</td>\n",
       "      <td>241.25</td>\n",
       "      <td>410.0</td>\n",
       "      <td>559.50</td>\n",
       "      <td>1055.0</td>\n",
       "    </tr>\n",
       "    <tr>\n",
       "      <th>6</th>\n",
       "      <td>144.0</td>\n",
       "      <td>411.604167</td>\n",
       "      <td>212.335209</td>\n",
       "      <td>0.0</td>\n",
       "      <td>258.25</td>\n",
       "      <td>411.0</td>\n",
       "      <td>533.75</td>\n",
       "      <td>1033.0</td>\n",
       "    </tr>\n",
       "    <tr>\n",
       "      <th>7</th>\n",
       "      <td>180.0</td>\n",
       "      <td>442.472222</td>\n",
       "      <td>254.019254</td>\n",
       "      <td>0.0</td>\n",
       "      <td>296.75</td>\n",
       "      <td>438.0</td>\n",
       "      <td>579.50</td>\n",
       "      <td>1188.0</td>\n",
       "    </tr>\n",
       "    <tr>\n",
       "      <th>8</th>\n",
       "      <td>233.0</td>\n",
       "      <td>413.562232</td>\n",
       "      <td>232.221332</td>\n",
       "      <td>0.0</td>\n",
       "      <td>257.00</td>\n",
       "      <td>395.0</td>\n",
       "      <td>548.00</td>\n",
       "      <td>1292.0</td>\n",
       "    </tr>\n",
       "    <tr>\n",
       "      <th>9</th>\n",
       "      <td>280.0</td>\n",
       "      <td>421.378571</td>\n",
       "      <td>223.015468</td>\n",
       "      <td>0.0</td>\n",
       "      <td>256.50</td>\n",
       "      <td>430.0</td>\n",
       "      <td>551.25</td>\n",
       "      <td>1232.0</td>\n",
       "    </tr>\n",
       "    <tr>\n",
       "      <th>10</th>\n",
       "      <td>343.0</td>\n",
       "      <td>436.221574</td>\n",
       "      <td>229.846015</td>\n",
       "      <td>0.0</td>\n",
       "      <td>271.50</td>\n",
       "      <td>441.0</td>\n",
       "      <td>576.00</td>\n",
       "      <td>1227.0</td>\n",
       "    </tr>\n",
       "    <tr>\n",
       "      <th>11</th>\n",
       "      <td>410.0</td>\n",
       "      <td>430.100000</td>\n",
       "      <td>233.134592</td>\n",
       "      <td>0.0</td>\n",
       "      <td>277.25</td>\n",
       "      <td>421.5</td>\n",
       "      <td>583.00</td>\n",
       "      <td>1304.0</td>\n",
       "    </tr>\n",
       "    <tr>\n",
       "      <th>12</th>\n",
       "      <td>469.0</td>\n",
       "      <td>469.091684</td>\n",
       "      <td>251.356835</td>\n",
       "      <td>0.0</td>\n",
       "      <td>302.00</td>\n",
       "      <td>448.0</td>\n",
       "      <td>612.00</td>\n",
       "      <td>1510.0</td>\n",
       "    </tr>\n",
       "  </tbody>\n",
       "</table>\n",
       "</div>"
      ],
      "text/plain": [
       "       count        mean         std   min     25%    50%     75%     max\n",
       "month                                                                    \n",
       "1        6.0  196.666667  114.611809  16.0  130.75  234.0  289.25   292.0\n",
       "2       16.0  343.437500  248.127647   0.0  205.50  286.5  462.00   811.0\n",
       "3       35.0  321.171429  208.275056  23.0  148.00  307.0  430.50   788.0\n",
       "4       71.0  347.197183  213.589635  16.0  189.50  321.0  490.50  1043.0\n",
       "5      106.0  401.405660  234.415251   0.0  241.25  410.0  559.50  1055.0\n",
       "6      144.0  411.604167  212.335209   0.0  258.25  411.0  533.75  1033.0\n",
       "7      180.0  442.472222  254.019254   0.0  296.75  438.0  579.50  1188.0\n",
       "8      233.0  413.562232  232.221332   0.0  257.00  395.0  548.00  1292.0\n",
       "9      280.0  421.378571  223.015468   0.0  256.50  430.0  551.25  1232.0\n",
       "10     343.0  436.221574  229.846015   0.0  271.50  441.0  576.00  1227.0\n",
       "11     410.0  430.100000  233.134592   0.0  277.25  421.5  583.00  1304.0\n",
       "12     469.0  469.091684  251.356835   0.0  302.00  448.0  612.00  1510.0"
      ]
     },
     "execution_count": 70,
     "metadata": {},
     "output_type": "execute_result"
    }
   ],
   "source": [
    "# Calcula la media y la varianza de la duración mensual de llamadas.\n",
    "bigtable.groupby(\"month\")[\"minutos_consumidos\"].describe()"
   ]
  },
  {
   "cell_type": "code",
   "execution_count": 91,
   "metadata": {
    "id": "nZzoRUKc0q1K"
   },
   "outputs": [
    {
     "name": "stderr",
     "output_type": "stream",
     "text": [
      "C:\\Users\\hukit\\AppData\\Local\\Temp\\ipykernel_33516\\2796610633.py:6: FutureWarning: Setting an item of incompatible dtype is deprecated and will raise in a future error of pandas. Value '<StringArray>\n",
      "['12',  '8',  '9', '10', '11', '12', '10', '11', '12', '12',\n",
      " ...\n",
      "  '7',  '8',  '9', '10', '11', '12',  '9', '10', '11', '12']\n",
      "Length: 2293, dtype: string' has dtype incompatible with int32, please explicitly cast to a compatible dtype first.\n",
      "  graf5.loc[:,\"month\"] = graf5.loc[:,\"month\"].astype(\"string\")\n"
     ]
    },
    {
     "data": {
      "image/png": "[encoded data removed]",
      "text/plain": [
       "<Figure size 640x480 with 1 Axes>"
      ]
     },
     "metadata": {},
     "output_type": "display_data"
    },
    {
     "name": "stdout",
     "output_type": "stream",
     "text": [
      "      minutos_consumidos month      plan\n",
      "0                  124.0    12  ultimate\n",
      "1                  182.0     8      surf\n",
      "2                  315.0     9      surf\n",
      "3                  393.0    10      surf\n",
      "4                  426.0    11      surf\n",
      "...                  ...   ...       ...\n",
      "2288               339.0    12      surf\n",
      "2289               346.0     9      surf\n",
      "2290               385.0    10      surf\n",
      "2291               308.0    11      surf\n",
      "2292               496.0    12      surf\n",
      "\n",
      "[2293 rows x 3 columns]\n"
     ]
    }
   ],
   "source": [
    "# Traza un diagrama de caja para visualizar la distribución de la duración mensual de llamadas\n",
    "\n",
    "#bigtable.groupby(\"month\")[\"total_llamadas\"].sum().plot(kind=\"box\")\n",
    "\n",
    "graf5= bigtable[[\"minutos_consumidos\",\"month\",\"plan\"]]\n",
    "graf5.loc[:,\"month\"] = graf5.loc[:,\"month\"].astype(\"string\")\n",
    "sns.boxplot(data= graf5, x= \"minutos_consumidos\",hue=\"month\").set(title='Boxplot del consumo mensual de minutos por mes', xlabel='Minutos consumidos')\n",
    "plt.show()\n",
    "\n",
    "print(graf5)"
   ]
  },
  {
   "cell_type": "markdown",
   "metadata": {
    "id": "r627zBO50q1K"
   },
   "source": [
    "Se observa que los usuarios de surf consumen mas que los usuarios ultimate aparentemente"
   ]
  },
  {
   "cell_type": "markdown",
   "metadata": {
    "id": "8idKy8Wh0q1L"
   },
   "source": [
    "### Mensajes"
   ]
  },
  {
   "cell_type": "code",
   "execution_count": 72,
   "metadata": {
    "id": "NXLxiTit0q1L"
   },
   "outputs": [
    {
     "data": {
      "image/png": "[encoded data removed]",
      "text/plain": [
       "<Figure size 640x480 with 1 Axes>"
      ]
     },
     "metadata": {},
     "output_type": "display_data"
    }
   ],
   "source": [
    "# Comprara el número de mensajes que tienden a enviar cada mes los usuarios de cada plan\n",
    "graf3= bigtable.groupby([\"month\",\"plan\"])[\"mensajes_enviados\"].sum().reset_index()\n",
    "sns.histplot(data= graf3, x= \"mensajes_enviados\", hue= \"plan\").set(title='Mensajes enviados por plan', xlabel='Mensajes enviados', ylabel='Conteo')\n",
    "plt.show()"
   ]
  },
  {
   "cell_type": "markdown",
   "metadata": {
    "id": "390SSL480q1M"
   },
   "source": [
    "Nuevmente se observa que los usuarios de surf consumen mas que los usuarios ultimate aparentemente\n",
    "\n"
   ]
  },
  {
   "cell_type": "markdown",
   "metadata": {
    "id": "42YSypXz0q1M"
   },
   "source": [
    "### Internet"
   ]
  },
  {
   "cell_type": "code",
   "execution_count": 73,
   "metadata": {
    "id": "lSuKPtjh0q1M"
   },
   "outputs": [
    {
     "data": {
      "image/png": "[encoded data removed]",
      "text/plain": [
       "<Figure size 640x480 with 1 Axes>"
      ]
     },
     "metadata": {},
     "output_type": "display_data"
    }
   ],
   "source": [
    "# Compara la cantidad de tráfico de Internet consumido por usuarios por plan\n",
    "\n",
    "graf4= bigtable.groupby([\"month\",\"plan\"])[\"gb_consumidos\"].sum().reset_index()\n",
    "sns.histplot(data= graf4, x= \"gb_consumidos\", hue= \"plan\").set(title='GB consumidos por plan', xlabel='GB consumidos', ylabel='Conteo')\n",
    "plt.show()"
   ]
  },
  {
   "cell_type": "markdown",
   "metadata": {
    "id": "UN9zwuMP0q1N"
   },
   "source": [
    "De nueva cuenta se observa que los usuarios Surf usan mas GB de internet que los usuarios ultimate"
   ]
  },
  {
   "cell_type": "markdown",
   "metadata": {
    "id": "tCijq3260q1N"
   },
   "source": [
    "## Ingreso"
   ]
  },
  {
   "cell_type": "markdown",
   "metadata": {
    "id": "9nq5IAcy0q1O"
   },
   "source": [
    "[Del mismo modo que has estudiado el comportamiento de los usuarios, describe estadísticamente los ingresos de los planes.]"
   ]
  },
  {
   "cell_type": "code",
   "execution_count": 74,
   "metadata": {
    "id": "tz-dq_V00q1O"
   },
   "outputs": [
    {
     "data": {
      "text/html": [
       "<div>\n",
       "<style scoped>\n",
       "    .dataframe tbody tr th:only-of-type {\n",
       "        vertical-align: middle;\n",
       "    }\n",
       "\n",
       "    .dataframe tbody tr th {\n",
       "        vertical-align: top;\n",
       "    }\n",
       "\n",
       "    .dataframe thead tr th {\n",
       "        text-align: left;\n",
       "    }\n",
       "\n",
       "    .dataframe thead tr:last-of-type th {\n",
       "        text-align: right;\n",
       "    }\n",
       "</style>\n",
       "<table border=\"1\" class=\"dataframe\">\n",
       "  <thead>\n",
       "    <tr>\n",
       "      <th></th>\n",
       "      <th colspan=\"4\" halign=\"left\">mean</th>\n",
       "      <th colspan=\"4\" halign=\"left\">std</th>\n",
       "    </tr>\n",
       "    <tr>\n",
       "      <th></th>\n",
       "      <th>cobro_total</th>\n",
       "      <th>internet_cobro_Excedente</th>\n",
       "      <th>llamadas_cobro_Excedente</th>\n",
       "      <th>mensajes_cobro_Excedente</th>\n",
       "      <th>cobro_total</th>\n",
       "      <th>internet_cobro_Excedente</th>\n",
       "      <th>llamadas_cobro_Excedente</th>\n",
       "      <th>mensajes_cobro_Excedente</th>\n",
       "    </tr>\n",
       "    <tr>\n",
       "      <th>plan</th>\n",
       "      <th></th>\n",
       "      <th></th>\n",
       "      <th></th>\n",
       "      <th></th>\n",
       "      <th></th>\n",
       "      <th></th>\n",
       "      <th></th>\n",
       "      <th></th>\n",
       "    </tr>\n",
       "  </thead>\n",
       "  <tbody>\n",
       "    <tr>\n",
       "      <th>surf</th>\n",
       "      <td>282.117724</td>\n",
       "      <td>260.063573</td>\n",
       "      <td>1.84377</td>\n",
       "      <td>0.210381</td>\n",
       "      <td>163.239312</td>\n",
       "      <td>162.708456</td>\n",
       "      <td>3.765744</td>\n",
       "      <td>0.584127</td>\n",
       "    </tr>\n",
       "    <tr>\n",
       "      <th>ultimate</th>\n",
       "      <td>166.629167</td>\n",
       "      <td>96.629167</td>\n",
       "      <td>0.00000</td>\n",
       "      <td>0.000000</td>\n",
       "      <td>87.318976</td>\n",
       "      <td>87.318976</td>\n",
       "      <td>0.000000</td>\n",
       "      <td>0.000000</td>\n",
       "    </tr>\n",
       "  </tbody>\n",
       "</table>\n",
       "</div>"
      ],
      "text/plain": [
       "                mean                                                    \\\n",
       "         cobro_total internet_cobro_Excedente llamadas_cobro_Excedente   \n",
       "plan                                                                     \n",
       "surf      282.117724               260.063573                  1.84377   \n",
       "ultimate  166.629167                96.629167                  0.00000   \n",
       "\n",
       "                                          std                           \\\n",
       "         mensajes_cobro_Excedente cobro_total internet_cobro_Excedente   \n",
       "plan                                                                     \n",
       "surf                     0.210381  163.239312               162.708456   \n",
       "ultimate                 0.000000   87.318976                87.318976   \n",
       "\n",
       "                                                            \n",
       "         llamadas_cobro_Excedente mensajes_cobro_Excedente  \n",
       "plan                                                        \n",
       "surf                     3.765744                 0.584127  \n",
       "ultimate                 0.000000                 0.000000  "
      ]
     },
     "execution_count": 74,
     "metadata": {},
     "output_type": "execute_result"
    }
   ],
   "source": [
    "bigtable [\"cobro_total\"] = bigtable [\"mensajes_cobro_Excedente\"] +bigtable [\"llamadas_cobro_Excedente\"] +bigtable [\"internet_cobro_Excedente\"] + bigtable [\"usd_monthly_pay\"] \n",
    "bigtable.pivot_table(index=\"plan\",values=[\"mensajes_cobro_Excedente\",\"llamadas_cobro_Excedente\",\"internet_cobro_Excedente\",\"cobro_total\"], aggfunc= [\"mean\",\"std\"])"
   ]
  },
  {
   "cell_type": "markdown",
   "metadata": {
    "id": "0Y1v8ZUz0q1P"
   },
   "source": [
    "Estos resultados en conjunto nos señalan que los usuarios Surf consumen mas que los usuarios de ultimate.\n",
    "\n",
    "Para determniar si esta observacion es correcta se requiere de analsis estadisticos"
   ]
  },
  {
   "cell_type": "markdown",
   "metadata": {},
   "source": [
    "<div class=\"alert alert-block alert-danger\">\n",
    "<b>Comentario del revisor</b> <a class=\"tocSkip\"></a>\n",
    "    \n",
    "A resolver ❗ - Recuerda agregar tus gráficos para esta sección:\n",
    "\n",
    "Títulos descriptivos para cada gráfico\n",
    "Etiquetas claras en los ejes\n",
    "Formato consistente en las leyendas\n",
    "Anotaciones para valores importantes\n",
    "Conclusiones más detalladas para esta sección en markdown.\n",
    "\n",
    "</div>"
   ]
  },
  {
   "cell_type": "markdown",
   "metadata": {
    "id": "ajJ7VKeI0q1Q"
   },
   "source": [
    "## Prueba las hipótesis estadísticas"
   ]
  },
  {
   "cell_type": "markdown",
   "metadata": {
    "id": "IQwa_hsh0q1Q"
   },
   "source": [
    "\n",
    "H0 = No existe diferencia significativa entre el ingreso proveniente de los planes surf y ultimate\n",
    "\n",
    "H1 = El plan surf es mas rentable para la empresa\n",
    "\n",
    "Se establece el Alfa estandar de 0.05\n",
    "\n",
    "Se realizara una prueba de T para medidas independientes"
   ]
  },
  {
   "cell_type": "code",
   "execution_count": 75,
   "metadata": {
    "id": "nFoPNlPq0q1R"
   },
   "outputs": [],
   "source": [
    "# Prueba las hipótesis\n",
    "#bigtable.query(\"plan == 'ultimate'\")[\"cobro_total\"]\n",
    "\n",
    "alpha = 0.05\n",
    "results = st.ttest_ind(bigtable.query(\"plan == 'ultimate'\")[\"cobro_total\"], bigtable.query(\"plan == 'surf'\")[\"cobro_total\"])\n"
   ]
  },
  {
   "cell_type": "code",
   "execution_count": 76,
   "metadata": {},
   "outputs": [
    {
     "name": "stdout",
     "output_type": "stream",
     "text": [
      "valor p: 7.954135633537011e-67\n",
      "\n",
      "Rechazamos la hipótesis nula, los usuarios Surf consumen más\n"
     ]
    }
   ],
   "source": [
    "print('valor p:', results.pvalue) # tu código: imprime el valor p obtenido)\n",
    "print()\n",
    "if results.pvalue < alpha:# su código: compara los valores p obtenidos con el nivel de significación estadística):\n",
    "    print(\"Rechazamos la hipótesis nula, los usuarios Surf consumen más\")\n",
    "else:\n",
    "    print(\"No podemos rechazar la hipótesis nula, los usuarios surf NO consumen más\")"
   ]
  },
  {
   "cell_type": "markdown",
   "metadata": {
    "id": "tCcAruM60q1R"
   },
   "source": [
    "Se contrasta si los usuarios de NY-NJ consumen mas que el resto de las regiones"
   ]
  },
  {
   "cell_type": "markdown",
   "metadata": {
    "id": "LsBgitqj0q1R"
   },
   "source": [
    "H0 = No existe diferencia significativa entre el ingreso proveniente de los usuarios de NY-NJ y el resto\n",
    "\n",
    "H1 = Los usuarios de NY-NJ consumen más\n",
    "\n",
    "Se establece el Alfa estandar de 0.05\n",
    "\n",
    "Se realizara una prueba de T para medidas independientes"
   ]
  },
  {
   "cell_type": "code",
   "execution_count": 77,
   "metadata": {
    "id": "Cqcj7wrZ0q1S"
   },
   "outputs": [],
   "source": [
    "# Prueba las hipótesis\n",
    "ny_nj = bigtable[bigtable[\"city\"].str.contains(\"NY-NJ\")][\"cobro_total\"]\n",
    "non_ny_nj = bigtable[~bigtable[\"city\"].str.contains(\"NY-NJ\")][\"cobro_total\"]\n",
    "results2 = st.ttest_ind(ny_nj, non_ny_nj)"
   ]
  },
  {
   "cell_type": "code",
   "execution_count": 78,
   "metadata": {
    "scrolled": true
   },
   "outputs": [
    {
     "name": "stdout",
     "output_type": "stream",
     "text": [
      "valor p: 7.954135633537011e-67\n",
      "\n",
      "Rechazamos la hipótesis nula, los usuarios NY-NJ consumen más\n"
     ]
    }
   ],
   "source": [
    "print('valor p:', results.pvalue) # tu código: imprime el valor p obtenido)\n",
    "print()\n",
    "if results2.pvalue < alpha:# su código: compara los valores p obtenidos con el nivel de significación estadística):\n",
    "    print(\"Rechazamos la hipótesis nula, los usuarios NY-NJ consumen más\")\n",
    "else:\n",
    "    print(\"No podemos rechazar la hipótesis nula, los usuarios NY-NJ NO consumen más\")"
   ]
  },
  {
   "cell_type": "markdown",
   "metadata": {
    "id": "bbTR8UQO0q1T"
   },
   "source": [
    "## Conclusión general\n",
    "\n",
    "### Encontramos que los esfuerzos publicitarios deben enfocarse en la región de NY-NJ a usuarios potenciales del plan surf, ya que es el que resulta más rentable para la empresa. Tal como sugieren las graficas y los resultados estadisticos confirman"
   ]
  },
  {
   "cell_type": "markdown",
   "metadata": {},
   "source": [
    "\n",
    "<div class=\"alert alert-block alert-danger\">\n",
    "<b>Comentario del revisor</b> <a class=\"tocSkip\"></a>\n",
    "\n",
    "Quiero recordarte lo fundamental que es que elabores tus conclusiones para dar un cierre efectivo a tu proyecto. Estas conclusiones son esenciales para resumir tus hallazgos y clarificar el impacto de tu análisis. Asegúrate de destacar lo que has aprendido y cómo se relaciona con los objetivos que planteaste al inicio.\n",
    "\n",
    "Con unas conclusiones bien formuladas, tu proyecto ganará en claridad y profundidad. ¡Sigue adelante, estoy aquí para apoyarte en lo que necesites! 😊\n",
    "    </div>"
   ]
  },
  {
   "cell_type": "markdown",
   "metadata": {},
   "source": [
    "<div class=\"alert alert-block alert-warning\">\n",
    "<b>Comentario del revisor</b> <a class=\"tocSkip\"></a>\n",
    "\n",
    "<b>Atención</b> ⚠️ - Para mejorar la claridad y profundidad de tus conclusiones finales, considera las siguientes pautas:\n",
    "\n",
    "<ul>\n",
    "    <li><b>Resumen de los Hallazgos Clave:</b> Incluye brevemente tus descubrimientos más importantes.</li>\n",
    "    <li><b>Impacto de tus Elecciones de Procesamiento de Datos:</b> Reflexiona sobre cómo tus decisiones influyeron en los resultados.</li>\n",
    "    <li><b>Relación con los Objetivos Iniciales:</b> Vincula tus hallazgos con los objetivos del proyecto.</li>\n",
    "    <li><b>Relevancia de los Hallazgos:</b> Discute la importancia de tus resultados para la empresa o usuarios.</li>\n",
    "    <li><b>Sugerencias y Recomendaciones:</b> Ofrece cualquier consejo basado en tus análisis.</li>\n",
    "    <li><b>Reflexiones Finales:</b> Concluye con tus pensamientos finales y aprendizajes del proyecto.</li>\n",
    "</ul>\n",
    "\n",
    "Recuerda que una conclusión efectiva resume tus hallazgos y proporciona insights y reflexiones sobre su impacto y relevancia. ¡Sigue así y éxito en la etapa final!\n",
    "</div>"
   ]
  },
  {
   "cell_type": "markdown",
   "metadata": {},
   "source": [
    "# Comentario General del Revisor\n",
    "\n",
    "<div class=\"alert alert-block alert-danger\">\n",
    "<b>Comentario del revisor</b> <a class=\"tocSkip\"></a>\n",
    "\n",
    "Gracias por tu esfuerzo en este proyecto. Has demostrado un buen dominio de las técnicas de análisis de datos, y tu trabajo tiene varias fortalezas. Sin embargo, el proyecto aún **no puede ser aprobado** debido a algunos puntos pendientes. A continuación, te detallo los aspectos positivos y las áreas a mejorar para que puedas lograr la aprobación:\n",
    "\n",
    "#### Puntos Positivos:\n",
    "- **Implementación de Funciones**: Excelente uso de la función `looks()` para explorar los datos y las funciones personalizadas para calcular cobros excedentes. Este tipo de modularización es una práctica muy valiosa en proyectos grandes.\n",
    "- **Transformaciones de Datos**: Muy buena decisión al convertir datos de MB a GB, lo cual facilita la interpretación y análisis de consumo de datos. Además, el uso de `pivot_table` para agregar datos por usuario y mes está bien implementado.\n",
    "- **Visualización**: Las gráficas aportan claridad y son un buen complemento para comprender el comportamiento de los usuarios.\n",
    "\n",
    "#### Áreas a Mejorar para la Aprobación:\n",
    "- **Limpieza de Comentarios**: Recuerda eliminar todos los comentarios entre corchetes cuadrados ([ ]) antes de entregar el proyecto, ya que estos son solo orientaciones iniciales.\n",
    "- **Conclusiones Intermedias en Markdown**: Es importante incluir conclusiones en cada sección de análisis en formato Markdown, sobre todo en aquellos apartados donde se solicitan. Estas conclusiones intermedias facilitan la comprensión del análisis y la conexión de los hallazgos a lo largo del proyecto.\n",
    "- **Conclusión Final**: Para que el proyecto pueda ser aprobado, es necesario que agregues una conclusión general. Esta debe resumir tus principales hallazgos, relacionarlos con los objetivos iniciales, y brindar una visión completa del análisis realizado.\n",
    "\n",
    "#### Áreas para Explorar en el Futuro:\n",
    "- **Análisis Temporal**: Sería útil analizar tendencias mensuales o estacionales en el consumo para identificar patrones de comportamiento de los usuarios.\n",
    "- **Visualizaciones Avanzadas**: Explorar mapas de calor u otras representaciones visuales complejas puede ayudar a resaltar patrones en el consumo de recursos a lo largo del tiempo.\n",
    "- **Modelos Predictivos**: Considera la posibilidad de implementar modelos predictivos en proyectos futuros, lo cual podría ofrecer insights más profundos para la toma de decisiones.\n",
    "\n",
    "Una vez que completes las mejoras indicadas y agregues las conclusiones solicitadas, el proyecto estará listo para una nueva revisión. ¡Sigue adelante, estás cerca de la meta! 💪🚀😊\n",
    "\n",
    "</div>\n",
    "\n",
    "<div class=\"alert alert-block alert-info\">\n",
    "<b>Respuesta del estudiante</b> <a class=\"tocSkip\"></a>\n",
    "    \n",
    "Hola de nuevo, He realizado todas las correcciones y sugerencias.\n",
    "Espero este mejor :)  \n",
    "\n",
    "Muchas gracias por el tiempo de revisar y corregir mi proyecto\n",
    "    \n",
    "</div>"
   ]
  },
  {
   "cell_type": "markdown",
   "metadata": {},
   "source": []
  }
 ],
 "metadata": {
  "ExecuteTimeLog": [
   {
    "duration": 828,
    "start_time": "2021-11-16T09:21:11.304Z"
   },
   {
    "duration": 893,
    "start_time": "2021-11-16T09:21:17.728Z"
   },
   {
    "duration": 1150,
    "start_time": "2021-11-16T09:21:29.568Z"
   },
   {
    "duration": 3,
    "start_time": "2021-11-16T09:24:14.495Z"
   },
   {
    "duration": 120,
    "start_time": "2021-11-16T09:24:46.630Z"
   },
   {
    "duration": 3,
    "start_time": "2021-11-16T09:28:27.882Z"
   },
   {
    "duration": 4,
    "start_time": "2021-11-16T09:29:54.281Z"
   },
   {
    "duration": 3,
    "start_time": "2021-11-16T09:30:45.936Z"
   },
   {
    "duration": 4,
    "start_time": "2021-11-16T09:31:06.300Z"
   },
   {
    "duration": 113,
    "start_time": "2021-11-16T09:31:37.208Z"
   },
   {
    "duration": 143,
    "start_time": "2021-11-16T09:31:48.656Z"
   },
   {
    "duration": 98,
    "start_time": "2021-11-16T09:31:55.678Z"
   },
   {
    "duration": 3,
    "start_time": "2021-11-16T09:32:08.535Z"
   },
   {
    "duration": 111,
    "start_time": "2021-11-16T09:32:10.120Z"
   },
   {
    "duration": 3,
    "start_time": "2021-11-16T09:32:15.732Z"
   },
   {
    "duration": 4,
    "start_time": "2021-11-16T09:32:29.423Z"
   },
   {
    "duration": 3,
    "start_time": "2021-11-16T10:03:03.074Z"
   },
   {
    "duration": 3,
    "start_time": "2021-11-16T10:10:01.288Z"
   },
   {
    "duration": 3,
    "start_time": "2021-11-16T10:10:46.923Z"
   },
   {
    "duration": 121,
    "start_time": "2021-11-16T10:37:46.494Z"
   },
   {
    "duration": 125,
    "start_time": "2021-11-16T10:38:20.632Z"
   },
   {
    "duration": 112,
    "start_time": "2021-11-16T10:46:53.001Z"
   },
   {
    "duration": 110,
    "start_time": "2021-11-16T10:48:25.775Z"
   },
   {
    "duration": 3,
    "start_time": "2021-11-16T10:50:18.720Z"
   },
   {
    "duration": 4,
    "start_time": "2021-11-16T10:50:37.649Z"
   },
   {
    "duration": 2,
    "start_time": "2021-11-16T10:50:51.884Z"
   },
   {
    "duration": 3,
    "start_time": "2021-11-16T10:51:56.237Z"
   },
   {
    "duration": 101,
    "start_time": "2021-11-16T10:53:13.791Z"
   },
   {
    "duration": 3,
    "start_time": "2021-11-16T10:55:59.186Z"
   },
   {
    "duration": 3,
    "start_time": "2021-11-16T10:56:10.751Z"
   },
   {
    "duration": 3,
    "start_time": "2021-11-16T10:56:49.038Z"
   },
   {
    "duration": 3,
    "start_time": "2021-11-16T10:56:49.174Z"
   },
   {
    "duration": 4,
    "start_time": "2021-11-16T10:56:49.414Z"
   },
   {
    "duration": 3,
    "start_time": "2021-11-16T10:56:49.680Z"
   },
   {
    "duration": 3,
    "start_time": "2021-11-16T10:56:50.370Z"
   },
   {
    "duration": 114,
    "start_time": "2021-11-16T10:59:34.518Z"
   },
   {
    "duration": 3,
    "start_time": "2021-11-16T11:01:41.201Z"
   },
   {
    "duration": 116,
    "start_time": "2021-11-16T11:01:48.754Z"
   },
   {
    "duration": 3,
    "start_time": "2021-11-16T11:02:16.685Z"
   },
   {
    "duration": 3,
    "start_time": "2021-11-16T11:02:19.479Z"
   },
   {
    "duration": 3,
    "start_time": "2021-11-16T11:02:47.067Z"
   },
   {
    "duration": 3,
    "start_time": "2021-11-16T11:02:49.353Z"
   },
   {
    "duration": 3,
    "start_time": "2021-11-16T11:03:07.835Z"
   },
   {
    "duration": 3,
    "start_time": "2021-11-16T11:03:07.953Z"
   },
   {
    "duration": 112,
    "start_time": "2021-11-16T11:07:52.072Z"
   },
   {
    "duration": 187,
    "start_time": "2021-11-16T11:09:23.468Z"
   },
   {
    "duration": 4,
    "start_time": "2021-11-16T11:10:01.455Z"
   },
   {
    "duration": 3,
    "start_time": "2021-11-16T11:10:05.069Z"
   },
   {
    "duration": 4,
    "start_time": "2021-11-16T11:10:13.376Z"
   },
   {
    "duration": 3,
    "start_time": "2021-11-16T11:10:14.434Z"
   },
   {
    "duration": 3,
    "start_time": "2021-11-16T11:10:22.853Z"
   },
   {
    "duration": 4,
    "start_time": "2021-11-16T11:27:29.279Z"
   },
   {
    "duration": 4,
    "start_time": "2021-11-16T11:29:08.919Z"
   },
   {
    "duration": 118,
    "start_time": "2021-11-16T11:29:46.703Z"
   },
   {
    "duration": 437,
    "start_time": "2021-11-16T11:36:02.181Z"
   },
   {
    "duration": 157,
    "start_time": "2021-11-16T11:36:14.388Z"
   },
   {
    "duration": 207,
    "start_time": "2021-11-16T11:47:15.898Z"
   },
   {
    "duration": 3,
    "start_time": "2021-11-16T11:53:52.092Z"
   },
   {
    "duration": 3,
    "start_time": "2021-11-16T11:53:52.236Z"
   },
   {
    "duration": 3,
    "start_time": "2021-11-16T11:59:12.005Z"
   },
   {
    "duration": 112,
    "start_time": "2021-11-16T12:00:33.446Z"
   },
   {
    "duration": 3,
    "start_time": "2021-11-16T12:02:14.453Z"
   },
   {
    "duration": 3,
    "start_time": "2021-11-16T12:02:39.512Z"
   },
   {
    "duration": 106,
    "start_time": "2021-11-16T12:03:03.460Z"
   },
   {
    "duration": 3,
    "start_time": "2021-11-17T20:37:21.139Z"
   },
   {
    "duration": 3,
    "start_time": "2021-11-17T20:37:22.229Z"
   },
   {
    "duration": 3,
    "start_time": "2021-11-17T20:38:38.806Z"
   },
   {
    "duration": 3,
    "start_time": "2021-11-17T20:38:41.958Z"
   },
   {
    "duration": 3,
    "start_time": "2021-11-17T20:43:46.551Z"
   },
   {
    "duration": 4,
    "start_time": "2021-11-17T20:58:21.835Z"
   },
   {
    "duration": 3,
    "start_time": "2021-11-17T20:59:21.872Z"
   },
   {
    "duration": 4,
    "start_time": "2021-11-17T20:59:45.352Z"
   },
   {
    "duration": 4,
    "start_time": "2021-11-17T20:59:49.646Z"
   },
   {
    "duration": 159,
    "start_time": "2021-11-17T21:02:26.949Z"
   },
   {
    "duration": 3,
    "start_time": "2021-11-17T21:03:53.461Z"
   },
   {
    "duration": 3,
    "start_time": "2021-11-17T21:03:53.694Z"
   },
   {
    "duration": 3,
    "start_time": "2021-11-17T21:05:28.145Z"
   },
   {
    "duration": 116,
    "start_time": "2021-11-17T21:05:57.787Z"
   },
   {
    "duration": 3,
    "start_time": "2021-11-17T21:06:37.993Z"
   },
   {
    "duration": 3,
    "start_time": "2021-11-17T21:06:38.261Z"
   },
   {
    "duration": 3,
    "start_time": "2021-11-17T21:11:54.358Z"
   },
   {
    "duration": 3,
    "start_time": "2021-11-17T21:12:43.846Z"
   },
   {
    "duration": 4,
    "start_time": "2021-11-17T21:13:08.773Z"
   },
   {
    "duration": 3,
    "start_time": "2021-11-17T21:14:44.441Z"
   },
   {
    "duration": 3,
    "start_time": "2021-11-17T21:15:42.059Z"
   },
   {
    "duration": 4,
    "start_time": "2021-11-17T21:15:51.995Z"
   },
   {
    "duration": 3,
    "start_time": "2021-11-17T21:15:53.923Z"
   },
   {
    "duration": 3,
    "start_time": "2021-11-17T21:15:55.282Z"
   },
   {
    "duration": 3,
    "start_time": "2021-11-17T21:16:28.492Z"
   },
   {
    "duration": 3,
    "start_time": "2021-11-17T21:16:32.603Z"
   },
   {
    "duration": 3,
    "start_time": "2021-11-17T21:17:06.941Z"
   },
   {
    "duration": 98,
    "start_time": "2021-11-17T21:18:05.733Z"
   },
   {
    "duration": 4,
    "start_time": "2021-11-17T21:21:35.255Z"
   },
   {
    "duration": 3,
    "start_time": "2021-11-17T21:21:37.804Z"
   },
   {
    "duration": 4,
    "start_time": "2021-11-17T21:23:06.071Z"
   },
   {
    "duration": 3,
    "start_time": "2021-11-17T21:23:24.799Z"
   },
   {
    "duration": 3,
    "start_time": "2021-11-17T21:23:32.591Z"
   },
   {
    "duration": 98,
    "start_time": "2021-11-17T21:28:31.559Z"
   },
   {
    "duration": 3,
    "start_time": "2021-11-17T21:28:45.448Z"
   },
   {
    "duration": 3,
    "start_time": "2021-11-17T21:29:17.303Z"
   },
   {
    "duration": 3,
    "start_time": "2021-11-17T21:29:29.617Z"
   },
   {
    "duration": 3,
    "start_time": "2021-11-17T21:29:32.681Z"
   },
   {
    "duration": 3,
    "start_time": "2021-11-17T21:36:11.474Z"
   },
   {
    "duration": 3,
    "start_time": "2021-11-17T21:36:14.791Z"
   },
   {
    "duration": 3,
    "start_time": "2021-11-17T21:36:53.943Z"
   },
   {
    "duration": 3,
    "start_time": "2021-11-17T21:36:56.165Z"
   },
   {
    "duration": 4,
    "start_time": "2021-11-17T21:37:16.590Z"
   },
   {
    "duration": 3,
    "start_time": "2021-11-17T21:37:22.702Z"
   },
   {
    "duration": 4,
    "start_time": "2021-11-17T21:38:03.479Z"
   },
   {
    "duration": 3,
    "start_time": "2021-11-17T21:38:08.601Z"
   },
   {
    "duration": 3,
    "start_time": "2021-11-17T21:38:12.928Z"
   },
   {
    "duration": 3,
    "start_time": "2021-11-17T21:38:48.896Z"
   },
   {
    "duration": 2,
    "start_time": "2021-11-17T21:38:49.171Z"
   },
   {
    "duration": 4,
    "start_time": "2021-11-17T21:39:57.889Z"
   },
   {
    "duration": 3,
    "start_time": "2021-11-17T21:39:58.057Z"
   },
   {
    "duration": 3,
    "start_time": "2021-11-17T21:41:20.108Z"
   },
   {
    "duration": 3,
    "start_time": "2021-11-17T21:41:20.629Z"
   },
   {
    "duration": 3,
    "start_time": "2021-11-17T21:42:49.136Z"
   },
   {
    "duration": 3,
    "start_time": "2021-11-17T21:43:15.137Z"
   },
   {
    "duration": 4,
    "start_time": "2021-11-17T21:43:16.766Z"
   },
   {
    "duration": 4,
    "start_time": "2021-11-17T21:43:31.711Z"
   },
   {
    "duration": 3,
    "start_time": "2021-11-17T21:43:36.312Z"
   },
   {
    "duration": 4,
    "start_time": "2021-11-17T21:45:08.825Z"
   },
   {
    "duration": 4,
    "start_time": "2021-11-17T21:45:10.119Z"
   },
   {
    "duration": 4,
    "start_time": "2021-11-17T21:45:13.748Z"
   },
   {
    "duration": 3,
    "start_time": "2021-11-17T21:45:22.219Z"
   },
   {
    "duration": 3,
    "start_time": "2021-11-17T21:45:33.412Z"
   },
   {
    "duration": 2,
    "start_time": "2021-11-17T21:46:01.885Z"
   },
   {
    "duration": 3,
    "start_time": "2021-11-17T21:46:03.628Z"
   },
   {
    "duration": 107,
    "start_time": "2021-11-17T21:47:32.512Z"
   },
   {
    "duration": 103,
    "start_time": "2021-11-17T21:50:36.243Z"
   },
   {
    "duration": 3,
    "start_time": "2021-11-18T06:28:31.440Z"
   },
   {
    "duration": 3,
    "start_time": "2021-11-18T06:29:00.168Z"
   },
   {
    "duration": 3,
    "start_time": "2021-11-18T06:31:27.008Z"
   },
   {
    "duration": 2,
    "start_time": "2021-11-18T06:35:34.288Z"
   },
   {
    "duration": 2,
    "start_time": "2021-11-18T06:38:04.527Z"
   },
   {
    "duration": 3,
    "start_time": "2024-10-29T04:48:50.911Z"
   },
   {
    "duration": 10,
    "start_time": "2024-10-29T04:51:43.741Z"
   },
   {
    "duration": 7,
    "start_time": "2024-10-29T04:51:50.895Z"
   },
   {
    "duration": 9,
    "start_time": "2024-10-29T04:52:52.715Z"
   }
  ],
  "colab": {
   "provenance": []
  },
  "kernelspec": {
   "display_name": "base",
   "language": "python",
   "name": "python3"
  },
  "language_info": {
   "codemirror_mode": {
    "name": "ipython",
    "version": 3
   },
   "file_extension": ".py",
   "mimetype": "text/x-python",
   "name": "python",
   "nbconvert_exporter": "python",
   "pygments_lexer": "ipython3",
   "version": "3.12.3"
  },
  "toc": {
   "base_numbering": 1,
   "nav_menu": {},
   "number_sections": true,
   "sideBar": true,
   "skip_h1_title": false,
   "title_cell": "Table of Contents",
   "title_sidebar": "Contents",
   "toc_cell": false,
   "toc_position": {},
   "toc_section_display": true,
   "toc_window_display": true
  }
 },
 "nbformat": 4,
 "nbformat_minor": 1
}
