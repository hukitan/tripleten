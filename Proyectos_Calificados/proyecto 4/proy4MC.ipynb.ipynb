{
 "cells": [
  {
   "cell_type": "markdown",
   "id": "3Xg_RQfnafXz",
   "metadata": {
    "id": "3Xg_RQfnafXz"
   },
   "source": [
    "# ¡Llena ese carrito!"
   ]
  },
  {
   "cell_type": "markdown",
   "id": "mhIvmmkW414q",
   "metadata": {
    "id": "mhIvmmkW414q"
   },
   "source": [
    "# Introducción\n",
    "\n",
    "Instacart es una plataforma de entregas de comestibles donde la clientela puede registrar un pedido y hacer que se lo entreguen, similar a Uber Eats y Door Dash.\n",
    "El conjunto de datos que te hemos proporcionado tiene modificaciones del original. Redujimos el tamaño del conjunto para que tus cálculos se hicieran más rápido e introdujimos valores ausentes y duplicados. Tuvimos cuidado de conservar las distribuciones de los datos originales cuando hicimos los cambios.\n",
    "\n",
    "Debes completar tres pasos. Para cada uno de ellos, escribe una breve introducción que refleje con claridad cómo pretendes resolver cada paso, y escribe párrafos explicatorios que justifiquen tus decisiones al tiempo que avanzas en tu solución.  También escribe una conclusión que resuma tus hallazgos y elecciones.\n"
   ]
  },
  {
   "cell_type": "markdown",
   "id": "3MbyzpOQZ5Or",
   "metadata": {
    "id": "3MbyzpOQZ5Or"
   },
   "source": [
    "## Diccionario de datos\n",
    "\n",
    "Hay cinco tablas en el conjunto de datos, y tendrás que usarlas todas para hacer el preprocesamiento de datos y el análisis exploratorio de datos. A continuación se muestra un diccionario de datos que enumera las columnas de cada tabla y describe los datos que contienen.\n",
    "\n",
    "- `instacart_orders.csv`: cada fila corresponde a un pedido en la aplicación Instacart.\n",
    "    - `'order_id'`: número de ID que identifica de manera única cada pedido.\n",
    "    - `'user_id'`: número de ID que identifica de manera única la cuenta de cada cliente.\n",
    "    - `'order_number'`: el número de veces que este cliente ha hecho un pedido.\n",
    "    - `'order_dow'`: día de la semana en que se hizo el pedido (0 si es domingo).\n",
    "    - `'order_hour_of_day'`: hora del día en que se hizo el pedido.\n",
    "    - `'days_since_prior_order'`: número de días transcurridos desde que este cliente hizo su pedido anterior.\n",
    "- `products.csv`: cada fila corresponde a un producto único que pueden comprar los clientes.\n",
    "    - `'product_id'`: número ID que identifica de manera única cada producto.\n",
    "    - `'product_name'`: nombre del producto.\n",
    "    - `'aisle_id'`: número ID que identifica de manera única cada categoría de pasillo de víveres.\n",
    "    - `'department_id'`: número ID que identifica de manera única cada departamento de víveres.\n",
    "- `order_products.csv`: cada fila corresponde a un artículo pedido en un pedido.\n",
    "    - `'order_id'`: número de ID que identifica de manera única cada pedido.\n",
    "    - `'product_id'`: número ID que identifica de manera única cada producto.\n",
    "    - `'add_to_cart_order'`: el orden secuencial en el que se añadió cada artículo en el carrito.\n",
    "    - `'reordered'`: 0 si el cliente nunca ha pedido este producto antes, 1 si lo ha pedido.\n",
    "- `aisles.csv`\n",
    "    - `'aisle_id'`: número ID que identifica de manera única cada categoría de pasillo de víveres.\n",
    "    - `'aisle'`: nombre del pasillo.\n",
    "- `departments.csv`\n",
    "    - `'department_id'`: número ID que identifica de manera única cada departamento de víveres.\n",
    "    - `'department'`: nombre del departamento."
   ]
  },
  {
   "cell_type": "markdown",
   "id": "n3Ha_cNSZ8lK",
   "metadata": {
    "id": "n3Ha_cNSZ8lK"
   },
   "source": [
    "# Paso 1. Descripción de los datos\n",
    "\n",
    "Lee los archivos de datos (`/datasets/instacart_orders.csv`, `/datasets/products.csv`, `/datasets/aisles.csv`, `/datasets/departments.csv` y `/datasets/order_products.csv`) con `pd.read_csv()` usando los parámetros adecuados para leer los datos correctamente. Verifica la información para cada DataFrame creado.\n"
   ]
  },
  {
   "cell_type": "markdown",
   "id": "OmlQPLlyaAfR",
   "metadata": {
    "id": "OmlQPLlyaAfR"
   },
   "source": [
    "## Plan de solución\n",
    "\n",
    "Escribe aquí tu plan de solución para el Paso 1. Descripción de los datos.\n",
    "\n",
    "Contienen el carácter ';' en lugar de espacios, y en algunos archivos debido al uso de ; y no tener formato, son completamente ilegibles, por lo que utilizaremos el método sep para que sean legibles."
   ]
  },
  {
   "cell_type": "code",
   "execution_count": 8,
   "id": "fbf1adab",
   "metadata": {
    "id": "fbf1adab"
   },
   "outputs": [],
   "source": [
    "import pandas as pd\n",
    "import matplotlib.pyplot as plt\n"
   ]
  },
  {
   "cell_type": "code",
   "execution_count": 9,
   "id": "ad36396d",
   "metadata": {
    "id": "ad36396d"
   },
   "outputs": [],
   "source": [
    "instacart_orders=pd.read_csv('datasets/instacart_orders.csv',sep=';')\n",
    "products=pd.read_csv('datasets/products.csv',sep=';')\n",
    "aisles=pd.read_csv('datasets/aisles.csv', sep=';')\n",
    "departments=pd.read_csv('datasets/departments.csv', sep=';')\n",
    "order_product= pd.read_csv('datasets/order_products.csv',sep=';')"
   ]
  },
  {
   "cell_type": "code",
   "execution_count": 10,
   "id": "ad6a1efa",
   "metadata": {
    "id": "ad6a1efa"
   },
   "outputs": [
    {
     "name": "stdout",
     "output_type": "stream",
     "text": [
      "<class 'pandas.core.frame.DataFrame'>\n",
      "RangeIndex: 478967 entries, 0 to 478966\n",
      "Data columns (total 6 columns):\n",
      " #   Column                  Non-Null Count   Dtype  \n",
      "---  ------                  --------------   -----  \n",
      " 0   order_id                478967 non-null  int64  \n",
      " 1   user_id                 478967 non-null  int64  \n",
      " 2   order_number            478967 non-null  int64  \n",
      " 3   order_dow               478967 non-null  int64  \n",
      " 4   order_hour_of_day       478967 non-null  int64  \n",
      " 5   days_since_prior_order  450148 non-null  float64\n",
      "dtypes: float64(1), int64(5)\n",
      "memory usage: 21.9 MB\n"
     ]
    },
    {
     "data": {
      "text/html": [
       "<div>\n",
       "<style scoped>\n",
       "    .dataframe tbody tr th:only-of-type {\n",
       "        vertical-align: middle;\n",
       "    }\n",
       "\n",
       "    .dataframe tbody tr th {\n",
       "        vertical-align: top;\n",
       "    }\n",
       "\n",
       "    .dataframe thead th {\n",
       "        text-align: right;\n",
       "    }\n",
       "</style>\n",
       "<table border=\"1\" class=\"dataframe\">\n",
       "  <thead>\n",
       "    <tr style=\"text-align: right;\">\n",
       "      <th></th>\n",
       "      <th>order_id</th>\n",
       "      <th>user_id</th>\n",
       "      <th>order_number</th>\n",
       "      <th>order_dow</th>\n",
       "      <th>order_hour_of_day</th>\n",
       "      <th>days_since_prior_order</th>\n",
       "    </tr>\n",
       "  </thead>\n",
       "  <tbody>\n",
       "    <tr>\n",
       "      <th>0</th>\n",
       "      <td>1515936</td>\n",
       "      <td>183418</td>\n",
       "      <td>11</td>\n",
       "      <td>6</td>\n",
       "      <td>13</td>\n",
       "      <td>30.0</td>\n",
       "    </tr>\n",
       "    <tr>\n",
       "      <th>1</th>\n",
       "      <td>1690866</td>\n",
       "      <td>163593</td>\n",
       "      <td>5</td>\n",
       "      <td>5</td>\n",
       "      <td>12</td>\n",
       "      <td>9.0</td>\n",
       "    </tr>\n",
       "    <tr>\n",
       "      <th>2</th>\n",
       "      <td>1454967</td>\n",
       "      <td>39980</td>\n",
       "      <td>4</td>\n",
       "      <td>5</td>\n",
       "      <td>19</td>\n",
       "      <td>2.0</td>\n",
       "    </tr>\n",
       "    <tr>\n",
       "      <th>3</th>\n",
       "      <td>1768857</td>\n",
       "      <td>82516</td>\n",
       "      <td>56</td>\n",
       "      <td>0</td>\n",
       "      <td>20</td>\n",
       "      <td>10.0</td>\n",
       "    </tr>\n",
       "    <tr>\n",
       "      <th>4</th>\n",
       "      <td>3007858</td>\n",
       "      <td>196724</td>\n",
       "      <td>2</td>\n",
       "      <td>4</td>\n",
       "      <td>12</td>\n",
       "      <td>17.0</td>\n",
       "    </tr>\n",
       "    <tr>\n",
       "      <th>5</th>\n",
       "      <td>1843871</td>\n",
       "      <td>20084</td>\n",
       "      <td>5</td>\n",
       "      <td>0</td>\n",
       "      <td>11</td>\n",
       "      <td>15.0</td>\n",
       "    </tr>\n",
       "    <tr>\n",
       "      <th>6</th>\n",
       "      <td>2511640</td>\n",
       "      <td>148233</td>\n",
       "      <td>40</td>\n",
       "      <td>3</td>\n",
       "      <td>8</td>\n",
       "      <td>2.0</td>\n",
       "    </tr>\n",
       "    <tr>\n",
       "      <th>7</th>\n",
       "      <td>2521283</td>\n",
       "      <td>97711</td>\n",
       "      <td>2</td>\n",
       "      <td>0</td>\n",
       "      <td>18</td>\n",
       "      <td>22.0</td>\n",
       "    </tr>\n",
       "    <tr>\n",
       "      <th>8</th>\n",
       "      <td>2266494</td>\n",
       "      <td>34954</td>\n",
       "      <td>40</td>\n",
       "      <td>5</td>\n",
       "      <td>15</td>\n",
       "      <td>4.0</td>\n",
       "    </tr>\n",
       "    <tr>\n",
       "      <th>9</th>\n",
       "      <td>446014</td>\n",
       "      <td>15356</td>\n",
       "      <td>2</td>\n",
       "      <td>4</td>\n",
       "      <td>8</td>\n",
       "      <td>10.0</td>\n",
       "    </tr>\n",
       "  </tbody>\n",
       "</table>\n",
       "</div>"
      ],
      "text/plain": [
       "   order_id  user_id  order_number  order_dow  order_hour_of_day  \\\n",
       "0   1515936   183418            11          6                 13   \n",
       "1   1690866   163593             5          5                 12   \n",
       "2   1454967    39980             4          5                 19   \n",
       "3   1768857    82516            56          0                 20   \n",
       "4   3007858   196724             2          4                 12   \n",
       "5   1843871    20084             5          0                 11   \n",
       "6   2511640   148233            40          3                  8   \n",
       "7   2521283    97711             2          0                 18   \n",
       "8   2266494    34954            40          5                 15   \n",
       "9    446014    15356             2          4                  8   \n",
       "\n",
       "   days_since_prior_order  \n",
       "0                    30.0  \n",
       "1                     9.0  \n",
       "2                     2.0  \n",
       "3                    10.0  \n",
       "4                    17.0  \n",
       "5                    15.0  \n",
       "6                     2.0  \n",
       "7                    22.0  \n",
       "8                     4.0  \n",
       "9                    10.0  "
      ]
     },
     "execution_count": 10,
     "metadata": {},
     "output_type": "execute_result"
    }
   ],
   "source": [
    "instacart_orders.info()\n",
    "instacart_orders.head(10)\n",
    "\n"
   ]
  },
  {
   "cell_type": "code",
   "execution_count": 11,
   "id": "5130e05e",
   "metadata": {
    "id": "5130e05e"
   },
   "outputs": [
    {
     "name": "stdout",
     "output_type": "stream",
     "text": [
      "<class 'pandas.core.frame.DataFrame'>\n",
      "RangeIndex: 49694 entries, 0 to 49693\n",
      "Data columns (total 4 columns):\n",
      " #   Column         Non-Null Count  Dtype \n",
      "---  ------         --------------  ----- \n",
      " 0   product_id     49694 non-null  int64 \n",
      " 1   product_name   48436 non-null  object\n",
      " 2   aisle_id       49694 non-null  int64 \n",
      " 3   department_id  49694 non-null  int64 \n",
      "dtypes: int64(3), object(1)\n",
      "memory usage: 1.5+ MB\n"
     ]
    },
    {
     "data": {
      "text/html": [
       "<div>\n",
       "<style scoped>\n",
       "    .dataframe tbody tr th:only-of-type {\n",
       "        vertical-align: middle;\n",
       "    }\n",
       "\n",
       "    .dataframe tbody tr th {\n",
       "        vertical-align: top;\n",
       "    }\n",
       "\n",
       "    .dataframe thead th {\n",
       "        text-align: right;\n",
       "    }\n",
       "</style>\n",
       "<table border=\"1\" class=\"dataframe\">\n",
       "  <thead>\n",
       "    <tr style=\"text-align: right;\">\n",
       "      <th></th>\n",
       "      <th>product_id</th>\n",
       "      <th>product_name</th>\n",
       "      <th>aisle_id</th>\n",
       "      <th>department_id</th>\n",
       "    </tr>\n",
       "  </thead>\n",
       "  <tbody>\n",
       "    <tr>\n",
       "      <th>0</th>\n",
       "      <td>1</td>\n",
       "      <td>Chocolate Sandwich Cookies</td>\n",
       "      <td>61</td>\n",
       "      <td>19</td>\n",
       "    </tr>\n",
       "    <tr>\n",
       "      <th>1</th>\n",
       "      <td>2</td>\n",
       "      <td>All-Seasons Salt</td>\n",
       "      <td>104</td>\n",
       "      <td>13</td>\n",
       "    </tr>\n",
       "    <tr>\n",
       "      <th>2</th>\n",
       "      <td>3</td>\n",
       "      <td>Robust Golden Unsweetened Oolong Tea</td>\n",
       "      <td>94</td>\n",
       "      <td>7</td>\n",
       "    </tr>\n",
       "    <tr>\n",
       "      <th>3</th>\n",
       "      <td>4</td>\n",
       "      <td>Smart Ones Classic Favorites Mini Rigatoni Wit...</td>\n",
       "      <td>38</td>\n",
       "      <td>1</td>\n",
       "    </tr>\n",
       "    <tr>\n",
       "      <th>4</th>\n",
       "      <td>5</td>\n",
       "      <td>Green Chile Anytime Sauce</td>\n",
       "      <td>5</td>\n",
       "      <td>13</td>\n",
       "    </tr>\n",
       "    <tr>\n",
       "      <th>5</th>\n",
       "      <td>6</td>\n",
       "      <td>Dry Nose Oil</td>\n",
       "      <td>11</td>\n",
       "      <td>11</td>\n",
       "    </tr>\n",
       "    <tr>\n",
       "      <th>6</th>\n",
       "      <td>7</td>\n",
       "      <td>Pure Coconut Water With Orange</td>\n",
       "      <td>98</td>\n",
       "      <td>7</td>\n",
       "    </tr>\n",
       "    <tr>\n",
       "      <th>7</th>\n",
       "      <td>8</td>\n",
       "      <td>Cut Russet Potatoes Steam N' Mash</td>\n",
       "      <td>116</td>\n",
       "      <td>1</td>\n",
       "    </tr>\n",
       "    <tr>\n",
       "      <th>8</th>\n",
       "      <td>9</td>\n",
       "      <td>Light Strawberry Blueberry Yogurt</td>\n",
       "      <td>120</td>\n",
       "      <td>16</td>\n",
       "    </tr>\n",
       "    <tr>\n",
       "      <th>9</th>\n",
       "      <td>10</td>\n",
       "      <td>Sparkling Orange Juice &amp; Prickly Pear Beverage</td>\n",
       "      <td>115</td>\n",
       "      <td>7</td>\n",
       "    </tr>\n",
       "  </tbody>\n",
       "</table>\n",
       "</div>"
      ],
      "text/plain": [
       "   product_id                                       product_name  aisle_id  \\\n",
       "0           1                         Chocolate Sandwich Cookies        61   \n",
       "1           2                                   All-Seasons Salt       104   \n",
       "2           3               Robust Golden Unsweetened Oolong Tea        94   \n",
       "3           4  Smart Ones Classic Favorites Mini Rigatoni Wit...        38   \n",
       "4           5                          Green Chile Anytime Sauce         5   \n",
       "5           6                                       Dry Nose Oil        11   \n",
       "6           7                     Pure Coconut Water With Orange        98   \n",
       "7           8                  Cut Russet Potatoes Steam N' Mash       116   \n",
       "8           9                  Light Strawberry Blueberry Yogurt       120   \n",
       "9          10     Sparkling Orange Juice & Prickly Pear Beverage       115   \n",
       "\n",
       "   department_id  \n",
       "0             19  \n",
       "1             13  \n",
       "2              7  \n",
       "3              1  \n",
       "4             13  \n",
       "5             11  \n",
       "6              7  \n",
       "7              1  \n",
       "8             16  \n",
       "9              7  "
      ]
     },
     "execution_count": 11,
     "metadata": {},
     "output_type": "execute_result"
    }
   ],
   "source": [
    "products.info()\n",
    "products.head(10)\n"
   ]
  },
  {
   "cell_type": "code",
   "execution_count": 12,
   "id": "d8370c05",
   "metadata": {
    "id": "d8370c05"
   },
   "outputs": [
    {
     "name": "stdout",
     "output_type": "stream",
     "text": [
      "<class 'pandas.core.frame.DataFrame'>\n",
      "RangeIndex: 134 entries, 0 to 133\n",
      "Data columns (total 2 columns):\n",
      " #   Column    Non-Null Count  Dtype \n",
      "---  ------    --------------  ----- \n",
      " 0   aisle_id  134 non-null    int64 \n",
      " 1   aisle     134 non-null    object\n",
      "dtypes: int64(1), object(1)\n",
      "memory usage: 2.2+ KB\n"
     ]
    },
    {
     "data": {
      "text/html": [
       "<div>\n",
       "<style scoped>\n",
       "    .dataframe tbody tr th:only-of-type {\n",
       "        vertical-align: middle;\n",
       "    }\n",
       "\n",
       "    .dataframe tbody tr th {\n",
       "        vertical-align: top;\n",
       "    }\n",
       "\n",
       "    .dataframe thead th {\n",
       "        text-align: right;\n",
       "    }\n",
       "</style>\n",
       "<table border=\"1\" class=\"dataframe\">\n",
       "  <thead>\n",
       "    <tr style=\"text-align: right;\">\n",
       "      <th></th>\n",
       "      <th>aisle_id</th>\n",
       "      <th>aisle</th>\n",
       "    </tr>\n",
       "  </thead>\n",
       "  <tbody>\n",
       "    <tr>\n",
       "      <th>0</th>\n",
       "      <td>1</td>\n",
       "      <td>prepared soups salads</td>\n",
       "    </tr>\n",
       "    <tr>\n",
       "      <th>1</th>\n",
       "      <td>2</td>\n",
       "      <td>specialty cheeses</td>\n",
       "    </tr>\n",
       "    <tr>\n",
       "      <th>2</th>\n",
       "      <td>3</td>\n",
       "      <td>energy granola bars</td>\n",
       "    </tr>\n",
       "    <tr>\n",
       "      <th>3</th>\n",
       "      <td>4</td>\n",
       "      <td>instant foods</td>\n",
       "    </tr>\n",
       "    <tr>\n",
       "      <th>4</th>\n",
       "      <td>5</td>\n",
       "      <td>marinades meat preparation</td>\n",
       "    </tr>\n",
       "    <tr>\n",
       "      <th>5</th>\n",
       "      <td>6</td>\n",
       "      <td>other</td>\n",
       "    </tr>\n",
       "    <tr>\n",
       "      <th>6</th>\n",
       "      <td>7</td>\n",
       "      <td>packaged meat</td>\n",
       "    </tr>\n",
       "    <tr>\n",
       "      <th>7</th>\n",
       "      <td>8</td>\n",
       "      <td>bakery desserts</td>\n",
       "    </tr>\n",
       "    <tr>\n",
       "      <th>8</th>\n",
       "      <td>9</td>\n",
       "      <td>pasta sauce</td>\n",
       "    </tr>\n",
       "    <tr>\n",
       "      <th>9</th>\n",
       "      <td>10</td>\n",
       "      <td>kitchen supplies</td>\n",
       "    </tr>\n",
       "  </tbody>\n",
       "</table>\n",
       "</div>"
      ],
      "text/plain": [
       "   aisle_id                       aisle\n",
       "0         1       prepared soups salads\n",
       "1         2           specialty cheeses\n",
       "2         3         energy granola bars\n",
       "3         4               instant foods\n",
       "4         5  marinades meat preparation\n",
       "5         6                       other\n",
       "6         7               packaged meat\n",
       "7         8             bakery desserts\n",
       "8         9                 pasta sauce\n",
       "9        10            kitchen supplies"
      ]
     },
     "execution_count": 12,
     "metadata": {},
     "output_type": "execute_result"
    }
   ],
   "source": [
    "aisles.info()\n",
    "aisles.head(10)"
   ]
  },
  {
   "cell_type": "code",
   "execution_count": 13,
   "id": "59e2090f",
   "metadata": {
    "id": "59e2090f"
   },
   "outputs": [
    {
     "name": "stdout",
     "output_type": "stream",
     "text": [
      "<class 'pandas.core.frame.DataFrame'>\n",
      "RangeIndex: 21 entries, 0 to 20\n",
      "Data columns (total 2 columns):\n",
      " #   Column         Non-Null Count  Dtype \n",
      "---  ------         --------------  ----- \n",
      " 0   department_id  21 non-null     int64 \n",
      " 1   department     21 non-null     object\n",
      "dtypes: int64(1), object(1)\n",
      "memory usage: 468.0+ bytes\n"
     ]
    },
    {
     "data": {
      "text/html": [
       "<div>\n",
       "<style scoped>\n",
       "    .dataframe tbody tr th:only-of-type {\n",
       "        vertical-align: middle;\n",
       "    }\n",
       "\n",
       "    .dataframe tbody tr th {\n",
       "        vertical-align: top;\n",
       "    }\n",
       "\n",
       "    .dataframe thead th {\n",
       "        text-align: right;\n",
       "    }\n",
       "</style>\n",
       "<table border=\"1\" class=\"dataframe\">\n",
       "  <thead>\n",
       "    <tr style=\"text-align: right;\">\n",
       "      <th></th>\n",
       "      <th>department_id</th>\n",
       "      <th>department</th>\n",
       "    </tr>\n",
       "  </thead>\n",
       "  <tbody>\n",
       "    <tr>\n",
       "      <th>0</th>\n",
       "      <td>1</td>\n",
       "      <td>frozen</td>\n",
       "    </tr>\n",
       "    <tr>\n",
       "      <th>1</th>\n",
       "      <td>2</td>\n",
       "      <td>other</td>\n",
       "    </tr>\n",
       "    <tr>\n",
       "      <th>2</th>\n",
       "      <td>3</td>\n",
       "      <td>bakery</td>\n",
       "    </tr>\n",
       "    <tr>\n",
       "      <th>3</th>\n",
       "      <td>4</td>\n",
       "      <td>produce</td>\n",
       "    </tr>\n",
       "    <tr>\n",
       "      <th>4</th>\n",
       "      <td>5</td>\n",
       "      <td>alcohol</td>\n",
       "    </tr>\n",
       "    <tr>\n",
       "      <th>5</th>\n",
       "      <td>6</td>\n",
       "      <td>international</td>\n",
       "    </tr>\n",
       "    <tr>\n",
       "      <th>6</th>\n",
       "      <td>7</td>\n",
       "      <td>beverages</td>\n",
       "    </tr>\n",
       "    <tr>\n",
       "      <th>7</th>\n",
       "      <td>8</td>\n",
       "      <td>pets</td>\n",
       "    </tr>\n",
       "    <tr>\n",
       "      <th>8</th>\n",
       "      <td>9</td>\n",
       "      <td>dry goods pasta</td>\n",
       "    </tr>\n",
       "    <tr>\n",
       "      <th>9</th>\n",
       "      <td>10</td>\n",
       "      <td>bulk</td>\n",
       "    </tr>\n",
       "  </tbody>\n",
       "</table>\n",
       "</div>"
      ],
      "text/plain": [
       "   department_id       department\n",
       "0              1           frozen\n",
       "1              2            other\n",
       "2              3           bakery\n",
       "3              4          produce\n",
       "4              5          alcohol\n",
       "5              6    international\n",
       "6              7        beverages\n",
       "7              8             pets\n",
       "8              9  dry goods pasta\n",
       "9             10             bulk"
      ]
     },
     "execution_count": 13,
     "metadata": {},
     "output_type": "execute_result"
    }
   ],
   "source": [
    "departments.info()\n",
    "departments.head(10)"
   ]
  },
  {
   "cell_type": "code",
   "execution_count": 14,
   "id": "6fc81694",
   "metadata": {
    "id": "6fc81694"
   },
   "outputs": [
    {
     "name": "stdout",
     "output_type": "stream",
     "text": [
      "<class 'pandas.core.frame.DataFrame'>\n",
      "RangeIndex: 4545007 entries, 0 to 4545006\n",
      "Data columns (total 4 columns):\n",
      " #   Column             Dtype  \n",
      "---  ------             -----  \n",
      " 0   order_id           int64  \n",
      " 1   product_id         int64  \n",
      " 2   add_to_cart_order  float64\n",
      " 3   reordered          int64  \n",
      "dtypes: float64(1), int64(3)\n",
      "memory usage: 138.7 MB\n"
     ]
    },
    {
     "data": {
      "text/html": [
       "<div>\n",
       "<style scoped>\n",
       "    .dataframe tbody tr th:only-of-type {\n",
       "        vertical-align: middle;\n",
       "    }\n",
       "\n",
       "    .dataframe tbody tr th {\n",
       "        vertical-align: top;\n",
       "    }\n",
       "\n",
       "    .dataframe thead th {\n",
       "        text-align: right;\n",
       "    }\n",
       "</style>\n",
       "<table border=\"1\" class=\"dataframe\">\n",
       "  <thead>\n",
       "    <tr style=\"text-align: right;\">\n",
       "      <th></th>\n",
       "      <th>order_id</th>\n",
       "      <th>product_id</th>\n",
       "      <th>add_to_cart_order</th>\n",
       "      <th>reordered</th>\n",
       "    </tr>\n",
       "  </thead>\n",
       "  <tbody>\n",
       "    <tr>\n",
       "      <th>0</th>\n",
       "      <td>2141543</td>\n",
       "      <td>11440</td>\n",
       "      <td>17.0</td>\n",
       "      <td>0</td>\n",
       "    </tr>\n",
       "    <tr>\n",
       "      <th>1</th>\n",
       "      <td>567889</td>\n",
       "      <td>1560</td>\n",
       "      <td>1.0</td>\n",
       "      <td>1</td>\n",
       "    </tr>\n",
       "    <tr>\n",
       "      <th>2</th>\n",
       "      <td>2261212</td>\n",
       "      <td>26683</td>\n",
       "      <td>1.0</td>\n",
       "      <td>1</td>\n",
       "    </tr>\n",
       "    <tr>\n",
       "      <th>3</th>\n",
       "      <td>491251</td>\n",
       "      <td>8670</td>\n",
       "      <td>35.0</td>\n",
       "      <td>1</td>\n",
       "    </tr>\n",
       "    <tr>\n",
       "      <th>4</th>\n",
       "      <td>2571142</td>\n",
       "      <td>1940</td>\n",
       "      <td>5.0</td>\n",
       "      <td>1</td>\n",
       "    </tr>\n",
       "    <tr>\n",
       "      <th>5</th>\n",
       "      <td>2456893</td>\n",
       "      <td>21616</td>\n",
       "      <td>4.0</td>\n",
       "      <td>1</td>\n",
       "    </tr>\n",
       "    <tr>\n",
       "      <th>6</th>\n",
       "      <td>644579</td>\n",
       "      <td>12341</td>\n",
       "      <td>5.0</td>\n",
       "      <td>1</td>\n",
       "    </tr>\n",
       "    <tr>\n",
       "      <th>7</th>\n",
       "      <td>2231852</td>\n",
       "      <td>44925</td>\n",
       "      <td>10.0</td>\n",
       "      <td>1</td>\n",
       "    </tr>\n",
       "    <tr>\n",
       "      <th>8</th>\n",
       "      <td>3185766</td>\n",
       "      <td>36259</td>\n",
       "      <td>14.0</td>\n",
       "      <td>1</td>\n",
       "    </tr>\n",
       "    <tr>\n",
       "      <th>9</th>\n",
       "      <td>420019</td>\n",
       "      <td>23315</td>\n",
       "      <td>4.0</td>\n",
       "      <td>1</td>\n",
       "    </tr>\n",
       "  </tbody>\n",
       "</table>\n",
       "</div>"
      ],
      "text/plain": [
       "   order_id  product_id  add_to_cart_order  reordered\n",
       "0   2141543       11440               17.0          0\n",
       "1    567889        1560                1.0          1\n",
       "2   2261212       26683                1.0          1\n",
       "3    491251        8670               35.0          1\n",
       "4   2571142        1940                5.0          1\n",
       "5   2456893       21616                4.0          1\n",
       "6    644579       12341                5.0          1\n",
       "7   2231852       44925               10.0          1\n",
       "8   3185766       36259               14.0          1\n",
       "9    420019       23315                4.0          1"
      ]
     },
     "execution_count": 14,
     "metadata": {},
     "output_type": "execute_result"
    }
   ],
   "source": [
    "order_product.info()\n",
    "order_product.head(10)"
   ]
  },
  {
   "cell_type": "code",
   "execution_count": null,
   "id": "5e01e39f",
   "metadata": {},
   "outputs": [],
   "source": []
  },
  {
   "cell_type": "markdown",
   "id": "t75BD19oaR5f",
   "metadata": {
    "id": "t75BD19oaR5f"
   },
   "source": [
    "## Conclusiones\n",
    "\n",
    "Escribe aquí tus conclusiones intermedias sobre el Paso 1. Descripción de los datos.\n",
    "\n",
    "Los archivos cuentan con columnas para rastrear el número de cliente, pedido, producto y recompra. Además hay valores ausentes en las órdenes de instacart."
   ]
  },
  {
   "cell_type": "markdown",
   "id": "8RJHqxVmaVsF",
   "metadata": {
    "id": "8RJHqxVmaVsF"
   },
   "source": [
    "# Paso 2. Preprocesamiento de los datos\n",
    "\n",
    "Preprocesa los datos de la siguiente manera:\n",
    "\n",
    "- Verifica y corrige los tipos de datos (por ejemplo, asegúrate de que las columnas de ID sean números enteros).\n",
    "\n",
    "- Identifica y completa los valores ausentes.\n",
    "- Identifica y elimina los valores duplicados.\n",
    "\n",
    "Asegúrate de explicar qué tipos de valores ausentes y duplicados encontraste, cómo los completaste o eliminaste y por qué usaste esos métodos. ¿Por qué crees que estos valores ausentes y duplicados pueden haber estado presentes en el conjunto de datos?"
   ]
  },
  {
   "cell_type": "markdown",
   "id": "p6poABZQaZYb",
   "metadata": {
    "id": "p6poABZQaZYb"
   },
   "source": [
    "## Plan de solución\n",
    "\n",
    "Buscaremos duplicados y valores ausentes para no inflar o hacer mal los cálculos. Probablemente haya duplicados debido a nombres parecidos o marcas con el mismo producto y diferente gramaje o presentación."
   ]
  },
  {
   "cell_type": "markdown",
   "id": "07357848-dc64-4156-9cc3-01ff4365226d",
   "metadata": {
    "id": "07357848-dc64-4156-9cc3-01ff4365226d"
   },
   "source": [
    "## Encuentra y elimina los valores duplicados (y describe cómo tomaste tus decisiones)."
   ]
  },
  {
   "cell_type": "markdown",
   "id": "f179f0a9",
   "metadata": {
    "id": "f179f0a9"
   },
   "source": [
    "### `instacart_orders` data frame"
   ]
  },
  {
   "cell_type": "code",
   "execution_count": 15,
   "id": "b99297a5-405a-463d-8535-9adc3da4ad74",
   "metadata": {
    "id": "b99297a5-405a-463d-8535-9adc3da4ad74"
   },
   "outputs": [
    {
     "data": {
      "text/plain": [
       "15"
      ]
     },
     "execution_count": 15,
     "metadata": {},
     "output_type": "execute_result"
    }
   ],
   "source": [
    "instacart_orders.duplicated('order_id').sum()\n",
    "\n",
    "\n",
    "\n",
    "\n",
    "\n",
    "\n",
    "\n"
   ]
  },
  {
   "cell_type": "markdown",
   "id": "PEkwUX_gvt5A",
   "metadata": {
    "id": "PEkwUX_gvt5A"
   },
   "source": [
    "¿Tienes líneas duplicadas? Si sí, ¿qué tienen en común?\n",
    "\n",
    "Hay 15 lineas duplicadas con el mismo pedido e indices distintos."
   ]
  },
  {
   "cell_type": "code",
   "execution_count": 16,
   "id": "0d44de5d",
   "metadata": {
    "id": "0d44de5d"
   },
   "outputs": [
    {
     "data": {
      "text/html": [
       "<div>\n",
       "<style scoped>\n",
       "    .dataframe tbody tr th:only-of-type {\n",
       "        vertical-align: middle;\n",
       "    }\n",
       "\n",
       "    .dataframe tbody tr th {\n",
       "        vertical-align: top;\n",
       "    }\n",
       "\n",
       "    .dataframe thead th {\n",
       "        text-align: right;\n",
       "    }\n",
       "</style>\n",
       "<table border=\"1\" class=\"dataframe\">\n",
       "  <thead>\n",
       "    <tr style=\"text-align: right;\">\n",
       "      <th></th>\n",
       "      <th>order_id</th>\n",
       "      <th>user_id</th>\n",
       "      <th>order_number</th>\n",
       "      <th>order_dow</th>\n",
       "      <th>order_hour_of_day</th>\n",
       "      <th>days_since_prior_order</th>\n",
       "    </tr>\n",
       "  </thead>\n",
       "  <tbody>\n",
       "    <tr>\n",
       "      <th>4838</th>\n",
       "      <td>2766110</td>\n",
       "      <td>162084</td>\n",
       "      <td>41</td>\n",
       "      <td>3</td>\n",
       "      <td>2</td>\n",
       "      <td>16.0</td>\n",
       "    </tr>\n",
       "    <tr>\n",
       "      <th>5156</th>\n",
       "      <td>2190225</td>\n",
       "      <td>138285</td>\n",
       "      <td>18</td>\n",
       "      <td>3</td>\n",
       "      <td>2</td>\n",
       "      <td>11.0</td>\n",
       "    </tr>\n",
       "    <tr>\n",
       "      <th>15506</th>\n",
       "      <td>553049</td>\n",
       "      <td>58599</td>\n",
       "      <td>13</td>\n",
       "      <td>3</td>\n",
       "      <td>2</td>\n",
       "      <td>7.0</td>\n",
       "    </tr>\n",
       "    <tr>\n",
       "      <th>18420</th>\n",
       "      <td>382357</td>\n",
       "      <td>120200</td>\n",
       "      <td>19</td>\n",
       "      <td>3</td>\n",
       "      <td>2</td>\n",
       "      <td>11.0</td>\n",
       "    </tr>\n",
       "    <tr>\n",
       "      <th>24691</th>\n",
       "      <td>690242</td>\n",
       "      <td>77357</td>\n",
       "      <td>2</td>\n",
       "      <td>3</td>\n",
       "      <td>2</td>\n",
       "      <td>9.0</td>\n",
       "    </tr>\n",
       "    <tr>\n",
       "      <th>...</th>\n",
       "      <td>...</td>\n",
       "      <td>...</td>\n",
       "      <td>...</td>\n",
       "      <td>...</td>\n",
       "      <td>...</td>\n",
       "      <td>...</td>\n",
       "    </tr>\n",
       "    <tr>\n",
       "      <th>457013</th>\n",
       "      <td>3384021</td>\n",
       "      <td>14881</td>\n",
       "      <td>6</td>\n",
       "      <td>3</td>\n",
       "      <td>2</td>\n",
       "      <td>30.0</td>\n",
       "    </tr>\n",
       "    <tr>\n",
       "      <th>458816</th>\n",
       "      <td>910166</td>\n",
       "      <td>164782</td>\n",
       "      <td>18</td>\n",
       "      <td>3</td>\n",
       "      <td>2</td>\n",
       "      <td>4.0</td>\n",
       "    </tr>\n",
       "    <tr>\n",
       "      <th>459635</th>\n",
       "      <td>1680532</td>\n",
       "      <td>106435</td>\n",
       "      <td>6</td>\n",
       "      <td>3</td>\n",
       "      <td>2</td>\n",
       "      <td>21.0</td>\n",
       "    </tr>\n",
       "    <tr>\n",
       "      <th>468324</th>\n",
       "      <td>222962</td>\n",
       "      <td>54979</td>\n",
       "      <td>59</td>\n",
       "      <td>3</td>\n",
       "      <td>2</td>\n",
       "      <td>3.0</td>\n",
       "    </tr>\n",
       "    <tr>\n",
       "      <th>477526</th>\n",
       "      <td>2592344</td>\n",
       "      <td>46860</td>\n",
       "      <td>38</td>\n",
       "      <td>3</td>\n",
       "      <td>2</td>\n",
       "      <td>3.0</td>\n",
       "    </tr>\n",
       "  </tbody>\n",
       "</table>\n",
       "<p>121 rows × 6 columns</p>\n",
       "</div>"
      ],
      "text/plain": [
       "        order_id  user_id  order_number  order_dow  order_hour_of_day  \\\n",
       "4838     2766110   162084            41          3                  2   \n",
       "5156     2190225   138285            18          3                  2   \n",
       "15506     553049    58599            13          3                  2   \n",
       "18420     382357   120200            19          3                  2   \n",
       "24691     690242    77357             2          3                  2   \n",
       "...          ...      ...           ...        ...                ...   \n",
       "457013   3384021    14881             6          3                  2   \n",
       "458816    910166   164782            18          3                  2   \n",
       "459635   1680532   106435             6          3                  2   \n",
       "468324    222962    54979            59          3                  2   \n",
       "477526   2592344    46860            38          3                  2   \n",
       "\n",
       "        days_since_prior_order  \n",
       "4838                      16.0  \n",
       "5156                      11.0  \n",
       "15506                      7.0  \n",
       "18420                     11.0  \n",
       "24691                      9.0  \n",
       "...                        ...  \n",
       "457013                    30.0  \n",
       "458816                     4.0  \n",
       "459635                    21.0  \n",
       "468324                     3.0  \n",
       "477526                     3.0  \n",
       "\n",
       "[121 rows x 6 columns]"
      ]
     },
     "execution_count": 16,
     "metadata": {},
     "output_type": "execute_result"
    }
   ],
   "source": [
    "# Basándote en tus hallazgos\n",
    "\n",
    "# Verifica todos los pedidos que se hicieron el miércoles a las 2:00 a.m.\n",
    "\n",
    "instacart_orders[(instacart_orders['order_dow']==3) &(instacart_orders['order_hour_of_day']==2)]\n",
    "\n",
    "\n",
    "\n"
   ]
  },
  {
   "cell_type": "markdown",
   "id": "vu2OWyoqwOx5",
   "metadata": {
    "id": "vu2OWyoqwOx5"
   },
   "source": []
  },
  {
   "cell_type": "code",
   "execution_count": 17,
   "id": "480563c7",
   "metadata": {
    "id": "480563c7"
   },
   "outputs": [],
   "source": [
    "instacart_orders.drop_duplicates(inplace=True)"
   ]
  },
  {
   "cell_type": "code",
   "execution_count": 18,
   "id": "0b2396a2",
   "metadata": {
    "id": "0b2396a2"
   },
   "outputs": [
    {
     "name": "stdout",
     "output_type": "stream",
     "text": [
      "0\n"
     ]
    }
   ],
   "source": [
    "print(instacart_orders.duplicated().sum())"
   ]
  },
  {
   "cell_type": "code",
   "execution_count": 19,
   "id": "f6113ef1",
   "metadata": {
    "id": "f6113ef1"
   },
   "outputs": [
    {
     "data": {
      "text/plain": [
       "0"
      ]
     },
     "execution_count": 19,
     "metadata": {},
     "output_type": "execute_result"
    }
   ],
   "source": [
    "instacart_orders.duplicated('order_id').sum()"
   ]
  },
  {
   "cell_type": "markdown",
   "id": "5e8905ae",
   "metadata": {
    "id": "5e8905ae"
   },
   "source": [
    "no hay duplicados"
   ]
  },
  {
   "cell_type": "markdown",
   "id": "45e6bc46",
   "metadata": {
    "id": "45e6bc46"
   },
   "source": [
    "### `products` data frame"
   ]
  },
  {
   "cell_type": "code",
   "execution_count": 20,
   "id": "5f526b5b-8175-46fa-a0fd-441767d50e64",
   "metadata": {
    "id": "5f526b5b-8175-46fa-a0fd-441767d50e64"
   },
   "outputs": [
    {
     "data": {
      "text/plain": [
       "0"
      ]
     },
     "execution_count": 20,
     "metadata": {},
     "output_type": "execute_result"
    }
   ],
   "source": [
    "products.duplicated().sum()"
   ]
  },
  {
   "cell_type": "code",
   "execution_count": 21,
   "id": "88daa4f4",
   "metadata": {
    "id": "88daa4f4"
   },
   "outputs": [
    {
     "data": {
      "text/plain": [
       "0"
      ]
     },
     "execution_count": 21,
     "metadata": {},
     "output_type": "execute_result"
    }
   ],
   "source": [
    "products.duplicated(subset='product_id').sum()"
   ]
  },
  {
   "cell_type": "code",
   "execution_count": 22,
   "id": "c773f0bf",
   "metadata": {
    "id": "c773f0bf"
   },
   "outputs": [
    {
     "data": {
      "text/plain": [
       "1361"
      ]
     },
     "execution_count": 22,
     "metadata": {},
     "output_type": "execute_result"
    }
   ],
   "source": [
    "# Revisa si hay nombres duplicados de producto (convierte los nombres a letras mayúsculas para compararlos mejor)\n",
    "products[\"product_name\"].str.upper().duplicated().sum()\n"
   ]
  },
  {
   "cell_type": "code",
   "execution_count": 23,
   "id": "01efd02e",
   "metadata": {
    "id": "01efd02e"
   },
   "outputs": [
    {
     "data": {
      "text/plain": [
       "104"
      ]
     },
     "execution_count": 23,
     "metadata": {},
     "output_type": "execute_result"
    }
   ],
   "source": [
    "# Revisa si hay nombres duplicados de productos no faltantes\n",
    "products[~products[\"product_name\"].isna()][\"product_name\"].str.upper().duplicated().sum()\n",
    "\n"
   ]
  },
  {
   "cell_type": "markdown",
   "id": "9da8d293",
   "metadata": {
    "id": "9da8d293"
   },
   "source": [
    "hay productos faltantes, tendremos que averiguar cuáles son."
   ]
  },
  {
   "cell_type": "markdown",
   "id": "60f30db1",
   "metadata": {
    "id": "60f30db1"
   },
   "source": [
    "### `departments` data frame"
   ]
  },
  {
   "cell_type": "code",
   "execution_count": 24,
   "id": "fb410ad4-0fbf-4b80-bb09-23fdea79afe3",
   "metadata": {
    "id": "fb410ad4-0fbf-4b80-bb09-23fdea79afe3"
   },
   "outputs": [
    {
     "data": {
      "text/plain": [
       "0"
      ]
     },
     "execution_count": 24,
     "metadata": {},
     "output_type": "execute_result"
    }
   ],
   "source": [
    "departments.duplicated().sum()"
   ]
  },
  {
   "cell_type": "code",
   "execution_count": 25,
   "id": "332b12bb",
   "metadata": {
    "id": "332b12bb"
   },
   "outputs": [
    {
     "data": {
      "text/plain": [
       "0"
      ]
     },
     "execution_count": 25,
     "metadata": {},
     "output_type": "execute_result"
    }
   ],
   "source": [
    "departments.duplicated(subset='department_id').sum()"
   ]
  },
  {
   "cell_type": "markdown",
   "id": "bd30d78e",
   "metadata": {
    "id": "bd30d78e"
   },
   "source": [
    "no hay duplicados"
   ]
  },
  {
   "cell_type": "markdown",
   "id": "889349c1",
   "metadata": {
    "id": "889349c1"
   },
   "source": [
    "### `aisles` data frame"
   ]
  },
  {
   "cell_type": "code",
   "execution_count": 26,
   "id": "9da89fb9-4679-40f5-ad0d-c34df753a3f8",
   "metadata": {
    "id": "9da89fb9-4679-40f5-ad0d-c34df753a3f8"
   },
   "outputs": [
    {
     "data": {
      "text/plain": [
       "0"
      ]
     },
     "execution_count": 26,
     "metadata": {},
     "output_type": "execute_result"
    }
   ],
   "source": [
    "aisles.duplicated().sum()"
   ]
  },
  {
   "cell_type": "code",
   "execution_count": 27,
   "id": "da7c2822",
   "metadata": {
    "id": "da7c2822"
   },
   "outputs": [
    {
     "data": {
      "text/plain": [
       "0"
      ]
     },
     "execution_count": 27,
     "metadata": {},
     "output_type": "execute_result"
    }
   ],
   "source": [
    "# Revisa si hay IDs duplicadas de productos\n",
    "aisles.duplicated(subset='aisle_id').sum()"
   ]
  },
  {
   "cell_type": "markdown",
   "id": "ac63826f",
   "metadata": {
    "id": "ac63826f"
   },
   "source": [
    "Describe brevemente tus hallazgos y lo que hiciste con ellos."
   ]
  },
  {
   "cell_type": "markdown",
   "id": "274cd06a",
   "metadata": {
    "id": "274cd06a"
   },
   "source": [
    "### `order_products` data frame"
   ]
  },
  {
   "cell_type": "code",
   "execution_count": 28,
   "id": "52326689-84a8-4b8f-a881-7c68780f62c9",
   "metadata": {
    "id": "52326689-84a8-4b8f-a881-7c68780f62c9"
   },
   "outputs": [
    {
     "data": {
      "text/plain": [
       "0"
      ]
     },
     "execution_count": 28,
     "metadata": {},
     "output_type": "execute_result"
    }
   ],
   "source": [
    "order_product.duplicated().sum()"
   ]
  },
  {
   "cell_type": "code",
   "execution_count": 29,
   "id": "7b861391",
   "metadata": {
    "id": "7b861391"
   },
   "outputs": [
    {
     "name": "stdout",
     "output_type": "stream",
     "text": [
      "4499434\n",
      "         order_id  product_id  add_to_cart_order  reordered\n",
      "19        2500729       21616                5.0          1\n",
      "20        1687771       22963                5.0          1\n",
      "75        2186234       13176                2.0          1\n",
      "78         145751       47626                8.0          1\n",
      "80         497429       26209                9.0          1\n",
      "...           ...         ...                ...        ...\n",
      "4545002    577211       15290               12.0          1\n",
      "4545003   1219554       21914                9.0          0\n",
      "4545004    692640       47766                4.0          1\n",
      "4545005    319435         691                8.0          1\n",
      "4545006   1398151       28733                9.0          0\n",
      "\n",
      "[4499434 rows x 4 columns]\n"
     ]
    }
   ],
   "source": [
    "print(order_product[\"product_id\"].duplicated().sum())\n",
    "print(order_product[order_product[\"product_id\"].duplicated()])\n",
    "\n"
   ]
  },
  {
   "cell_type": "markdown",
   "id": "0b890492",
   "metadata": {
    "id": "0b890492"
   },
   "source": [
    "hay varios artículos reordenados una vez, por lo que lo vamos a omitir."
   ]
  },
  {
   "cell_type": "markdown",
   "id": "1e46de76",
   "metadata": {
    "id": "1e46de76"
   },
   "source": [
    "## Encuentra y elimina los valores ausentes\n",
    "\n",
    "Al trabajar con valores duplicados, pudimos observar que también nos falta investigar valores ausentes:\n",
    "\n",
    "* La columna `'product_name'` de la tabla products.\n",
    "* La columna `'days_since_prior_order'` de la tabla orders.\n",
    "* La columna `'add_to_cart_order'` de la tabla order_productos."
   ]
  },
  {
   "cell_type": "markdown",
   "id": "c0aebd78",
   "metadata": {
    "id": "c0aebd78"
   },
   "source": [
    "### `products` data frame"
   ]
  },
  {
   "cell_type": "code",
   "execution_count": 30,
   "id": "fe4a8b0f",
   "metadata": {
    "id": "fe4a8b0f"
   },
   "outputs": [
    {
     "data": {
      "text/html": [
       "<div>\n",
       "<style scoped>\n",
       "    .dataframe tbody tr th:only-of-type {\n",
       "        vertical-align: middle;\n",
       "    }\n",
       "\n",
       "    .dataframe tbody tr th {\n",
       "        vertical-align: top;\n",
       "    }\n",
       "\n",
       "    .dataframe thead th {\n",
       "        text-align: right;\n",
       "    }\n",
       "</style>\n",
       "<table border=\"1\" class=\"dataframe\">\n",
       "  <thead>\n",
       "    <tr style=\"text-align: right;\">\n",
       "      <th></th>\n",
       "      <th>product_id</th>\n",
       "      <th>product_name</th>\n",
       "      <th>aisle_id</th>\n",
       "      <th>department_id</th>\n",
       "    </tr>\n",
       "  </thead>\n",
       "  <tbody>\n",
       "    <tr>\n",
       "      <th>37</th>\n",
       "      <td>38</td>\n",
       "      <td>NaN</td>\n",
       "      <td>100</td>\n",
       "      <td>21</td>\n",
       "    </tr>\n",
       "    <tr>\n",
       "      <th>71</th>\n",
       "      <td>72</td>\n",
       "      <td>NaN</td>\n",
       "      <td>100</td>\n",
       "      <td>21</td>\n",
       "    </tr>\n",
       "    <tr>\n",
       "      <th>109</th>\n",
       "      <td>110</td>\n",
       "      <td>NaN</td>\n",
       "      <td>100</td>\n",
       "      <td>21</td>\n",
       "    </tr>\n",
       "    <tr>\n",
       "      <th>296</th>\n",
       "      <td>297</td>\n",
       "      <td>NaN</td>\n",
       "      <td>100</td>\n",
       "      <td>21</td>\n",
       "    </tr>\n",
       "    <tr>\n",
       "      <th>416</th>\n",
       "      <td>417</td>\n",
       "      <td>NaN</td>\n",
       "      <td>100</td>\n",
       "      <td>21</td>\n",
       "    </tr>\n",
       "    <tr>\n",
       "      <th>...</th>\n",
       "      <td>...</td>\n",
       "      <td>...</td>\n",
       "      <td>...</td>\n",
       "      <td>...</td>\n",
       "    </tr>\n",
       "    <tr>\n",
       "      <th>49552</th>\n",
       "      <td>49553</td>\n",
       "      <td>NaN</td>\n",
       "      <td>100</td>\n",
       "      <td>21</td>\n",
       "    </tr>\n",
       "    <tr>\n",
       "      <th>49574</th>\n",
       "      <td>49575</td>\n",
       "      <td>NaN</td>\n",
       "      <td>100</td>\n",
       "      <td>21</td>\n",
       "    </tr>\n",
       "    <tr>\n",
       "      <th>49640</th>\n",
       "      <td>49641</td>\n",
       "      <td>NaN</td>\n",
       "      <td>100</td>\n",
       "      <td>21</td>\n",
       "    </tr>\n",
       "    <tr>\n",
       "      <th>49663</th>\n",
       "      <td>49664</td>\n",
       "      <td>NaN</td>\n",
       "      <td>100</td>\n",
       "      <td>21</td>\n",
       "    </tr>\n",
       "    <tr>\n",
       "      <th>49668</th>\n",
       "      <td>49669</td>\n",
       "      <td>NaN</td>\n",
       "      <td>100</td>\n",
       "      <td>21</td>\n",
       "    </tr>\n",
       "  </tbody>\n",
       "</table>\n",
       "<p>1258 rows × 4 columns</p>\n",
       "</div>"
      ],
      "text/plain": [
       "       product_id product_name  aisle_id  department_id\n",
       "37             38          NaN       100             21\n",
       "71             72          NaN       100             21\n",
       "109           110          NaN       100             21\n",
       "296           297          NaN       100             21\n",
       "416           417          NaN       100             21\n",
       "...           ...          ...       ...            ...\n",
       "49552       49553          NaN       100             21\n",
       "49574       49575          NaN       100             21\n",
       "49640       49641          NaN       100             21\n",
       "49663       49664          NaN       100             21\n",
       "49668       49669          NaN       100             21\n",
       "\n",
       "[1258 rows x 4 columns]"
      ]
     },
     "execution_count": 30,
     "metadata": {},
     "output_type": "execute_result"
    }
   ],
   "source": [
    "# Encuentra los valores ausentes en la columna 'product_name'\n",
    "products[products['product_name'].isna()]"
   ]
  },
  {
   "cell_type": "markdown",
   "id": "-A6x1AbJhjkp",
   "metadata": {
    "id": "-A6x1AbJhjkp"
   },
   "source": [
    "al parecer hay 1258 productos sin nombre en el pasillo 100 con id 21"
   ]
  },
  {
   "cell_type": "code",
   "execution_count": 31,
   "id": "e96167bc",
   "metadata": {
    "id": "e96167bc"
   },
   "outputs": [
    {
     "data": {
      "text/plain": [
       "1"
      ]
     },
     "execution_count": 31,
     "metadata": {},
     "output_type": "execute_result"
    }
   ],
   "source": [
    "#  ¿Todos los nombres de productos ausentes están relacionados con el pasillo con ID 100?\n",
    "products[products[\"product_name\"].isna()][\"aisle_id\"].nunique()"
   ]
  },
  {
   "cell_type": "markdown",
   "id": "WRpIfXRphpSL",
   "metadata": {
    "id": "WRpIfXRphpSL"
   },
   "source": [
    "Todos los productos ausentes están relacionados con el pasillo ID 100"
   ]
  },
  {
   "cell_type": "code",
   "execution_count": 32,
   "id": "8fd0a541",
   "metadata": {
    "id": "8fd0a541"
   },
   "outputs": [
    {
     "data": {
      "text/plain": [
       "1"
      ]
     },
     "execution_count": 32,
     "metadata": {},
     "output_type": "execute_result"
    }
   ],
   "source": [
    "products[products[\"product_name\"].isna()][\"department_id\"].nunique()\n"
   ]
  },
  {
   "cell_type": "markdown",
   "id": "qDpdYn1Fht_I",
   "metadata": {
    "id": "qDpdYn1Fht_I"
   },
   "source": [
    "al igual que el anterior, están relacionados con el departamento ID 21"
   ]
  },
  {
   "cell_type": "code",
   "execution_count": 33,
   "id": "325c3464",
   "metadata": {
    "id": "325c3464"
   },
   "outputs": [
    {
     "name": "stdout",
     "output_type": "stream",
     "text": [
      "    aisle_id    aisle\n",
      "99       100  missing\n",
      "\n",
      "    department_id department\n",
      "20             21    missing\n"
     ]
    }
   ],
   "source": [
    "# Usa las tablas department y aisle para revisar los datos del pasillo con ID 100 y el departamento con ID 21.\n",
    "print(aisles.query(\"aisle_id == 100\"))\n",
    "print()\n",
    "print(departments.query(\"department_id == 21\"))\n"
   ]
  },
  {
   "cell_type": "markdown",
   "id": "nqhSTUPhhvEJ",
   "metadata": {
    "id": "nqhSTUPhhvEJ"
   },
   "source": [
    "son departamentos y pasillos perdidos."
   ]
  },
  {
   "cell_type": "code",
   "execution_count": 34,
   "id": "6b295120",
   "metadata": {
    "id": "6b295120"
   },
   "outputs": [
    {
     "data": {
      "text/html": [
       "<div>\n",
       "<style scoped>\n",
       "    .dataframe tbody tr th:only-of-type {\n",
       "        vertical-align: middle;\n",
       "    }\n",
       "\n",
       "    .dataframe tbody tr th {\n",
       "        vertical-align: top;\n",
       "    }\n",
       "\n",
       "    .dataframe thead th {\n",
       "        text-align: right;\n",
       "    }\n",
       "</style>\n",
       "<table border=\"1\" class=\"dataframe\">\n",
       "  <thead>\n",
       "    <tr style=\"text-align: right;\">\n",
       "      <th></th>\n",
       "      <th>product_id</th>\n",
       "      <th>product_name</th>\n",
       "      <th>aisle_id</th>\n",
       "      <th>department_id</th>\n",
       "    </tr>\n",
       "  </thead>\n",
       "  <tbody>\n",
       "  </tbody>\n",
       "</table>\n",
       "</div>"
      ],
      "text/plain": [
       "Empty DataFrame\n",
       "Columns: [product_id, product_name, aisle_id, department_id]\n",
       "Index: []"
      ]
     },
     "execution_count": 34,
     "metadata": {},
     "output_type": "execute_result"
    }
   ],
   "source": [
    "# Completa los nombres de productos ausentes con 'Unknown'\n",
    "products[\"product_name\"].fillna(\"Unknown\", inplace=True)\n",
    "products[products[\"product_name\"].isna()]\n"
   ]
  },
  {
   "cell_type": "markdown",
   "id": "fc70e5ad",
   "metadata": {
    "id": "fc70e5ad"
   },
   "source": [
    "Al llamarlos unknown tenemos mejor control de aisle_id y department_id"
   ]
  },
  {
   "cell_type": "markdown",
   "id": "7eb45c86",
   "metadata": {
    "id": "7eb45c86"
   },
   "source": [
    "### `orders` data frame"
   ]
  },
  {
   "cell_type": "code",
   "execution_count": 35,
   "id": "93e41d96",
   "metadata": {
    "id": "93e41d96"
   },
   "outputs": [
    {
     "data": {
      "text/plain": [
       "order_id                      0\n",
       "user_id                       0\n",
       "order_number                  0\n",
       "order_dow                     0\n",
       "order_hour_of_day             0\n",
       "days_since_prior_order    28817\n",
       "dtype: int64"
      ]
     },
     "execution_count": 35,
     "metadata": {},
     "output_type": "execute_result"
    }
   ],
   "source": [
    "instacart_orders.isna().sum()\n"
   ]
  },
  {
   "cell_type": "code",
   "execution_count": 36,
   "id": "166e5a86",
   "metadata": {
    "id": "166e5a86"
   },
   "outputs": [
    {
     "data": {
      "text/html": [
       "<div>\n",
       "<style scoped>\n",
       "    .dataframe tbody tr th:only-of-type {\n",
       "        vertical-align: middle;\n",
       "    }\n",
       "\n",
       "    .dataframe tbody tr th {\n",
       "        vertical-align: top;\n",
       "    }\n",
       "\n",
       "    .dataframe thead th {\n",
       "        text-align: right;\n",
       "    }\n",
       "</style>\n",
       "<table border=\"1\" class=\"dataframe\">\n",
       "  <thead>\n",
       "    <tr style=\"text-align: right;\">\n",
       "      <th></th>\n",
       "      <th>order_id</th>\n",
       "      <th>user_id</th>\n",
       "      <th>order_number</th>\n",
       "      <th>order_dow</th>\n",
       "      <th>order_hour_of_day</th>\n",
       "      <th>days_since_prior_order</th>\n",
       "    </tr>\n",
       "  </thead>\n",
       "  <tbody>\n",
       "    <tr>\n",
       "      <th>28</th>\n",
       "      <td>133707</td>\n",
       "      <td>182261</td>\n",
       "      <td>1</td>\n",
       "      <td>3</td>\n",
       "      <td>10</td>\n",
       "      <td>NaN</td>\n",
       "    </tr>\n",
       "    <tr>\n",
       "      <th>96</th>\n",
       "      <td>787445</td>\n",
       "      <td>25685</td>\n",
       "      <td>1</td>\n",
       "      <td>6</td>\n",
       "      <td>18</td>\n",
       "      <td>NaN</td>\n",
       "    </tr>\n",
       "    <tr>\n",
       "      <th>100</th>\n",
       "      <td>294410</td>\n",
       "      <td>111449</td>\n",
       "      <td>1</td>\n",
       "      <td>0</td>\n",
       "      <td>19</td>\n",
       "      <td>NaN</td>\n",
       "    </tr>\n",
       "    <tr>\n",
       "      <th>103</th>\n",
       "      <td>2869915</td>\n",
       "      <td>123958</td>\n",
       "      <td>1</td>\n",
       "      <td>4</td>\n",
       "      <td>16</td>\n",
       "      <td>NaN</td>\n",
       "    </tr>\n",
       "    <tr>\n",
       "      <th>104</th>\n",
       "      <td>2521921</td>\n",
       "      <td>42286</td>\n",
       "      <td>1</td>\n",
       "      <td>3</td>\n",
       "      <td>18</td>\n",
       "      <td>NaN</td>\n",
       "    </tr>\n",
       "    <tr>\n",
       "      <th>...</th>\n",
       "      <td>...</td>\n",
       "      <td>...</td>\n",
       "      <td>...</td>\n",
       "      <td>...</td>\n",
       "      <td>...</td>\n",
       "      <td>...</td>\n",
       "    </tr>\n",
       "    <tr>\n",
       "      <th>478895</th>\n",
       "      <td>2589657</td>\n",
       "      <td>205028</td>\n",
       "      <td>1</td>\n",
       "      <td>0</td>\n",
       "      <td>16</td>\n",
       "      <td>NaN</td>\n",
       "    </tr>\n",
       "    <tr>\n",
       "      <th>478896</th>\n",
       "      <td>2222353</td>\n",
       "      <td>141211</td>\n",
       "      <td>1</td>\n",
       "      <td>2</td>\n",
       "      <td>13</td>\n",
       "      <td>NaN</td>\n",
       "    </tr>\n",
       "    <tr>\n",
       "      <th>478922</th>\n",
       "      <td>2272807</td>\n",
       "      <td>204154</td>\n",
       "      <td>1</td>\n",
       "      <td>1</td>\n",
       "      <td>15</td>\n",
       "      <td>NaN</td>\n",
       "    </tr>\n",
       "    <tr>\n",
       "      <th>478926</th>\n",
       "      <td>2499542</td>\n",
       "      <td>68810</td>\n",
       "      <td>1</td>\n",
       "      <td>4</td>\n",
       "      <td>19</td>\n",
       "      <td>NaN</td>\n",
       "    </tr>\n",
       "    <tr>\n",
       "      <th>478945</th>\n",
       "      <td>1387033</td>\n",
       "      <td>22496</td>\n",
       "      <td>1</td>\n",
       "      <td>5</td>\n",
       "      <td>14</td>\n",
       "      <td>NaN</td>\n",
       "    </tr>\n",
       "  </tbody>\n",
       "</table>\n",
       "<p>28817 rows × 6 columns</p>\n",
       "</div>"
      ],
      "text/plain": [
       "        order_id  user_id  order_number  order_dow  order_hour_of_day  \\\n",
       "28        133707   182261             1          3                 10   \n",
       "96        787445    25685             1          6                 18   \n",
       "100       294410   111449             1          0                 19   \n",
       "103      2869915   123958             1          4                 16   \n",
       "104      2521921    42286             1          3                 18   \n",
       "...          ...      ...           ...        ...                ...   \n",
       "478895   2589657   205028             1          0                 16   \n",
       "478896   2222353   141211             1          2                 13   \n",
       "478922   2272807   204154             1          1                 15   \n",
       "478926   2499542    68810             1          4                 19   \n",
       "478945   1387033    22496             1          5                 14   \n",
       "\n",
       "        days_since_prior_order  \n",
       "28                         NaN  \n",
       "96                         NaN  \n",
       "100                        NaN  \n",
       "103                        NaN  \n",
       "104                        NaN  \n",
       "...                        ...  \n",
       "478895                     NaN  \n",
       "478896                     NaN  \n",
       "478922                     NaN  \n",
       "478926                     NaN  \n",
       "478945                     NaN  \n",
       "\n",
       "[28817 rows x 6 columns]"
      ]
     },
     "execution_count": 36,
     "metadata": {},
     "output_type": "execute_result"
    }
   ],
   "source": [
    "instacart_orders[instacart_orders[\"days_since_prior_order\"].isna()]\n",
    "\n"
   ]
  },
  {
   "cell_type": "markdown",
   "id": "4e23d089",
   "metadata": {
    "id": "4e23d089"
   },
   "source": [
    "los datos ausentes son del ultimo pedido de los clientes, lo cual no convendría cambiarlo a cero por cualquier cálculo."
   ]
  },
  {
   "cell_type": "markdown",
   "id": "69dc9ca4",
   "metadata": {
    "id": "69dc9ca4"
   },
   "source": [
    "### `order_products` data frame"
   ]
  },
  {
   "cell_type": "code",
   "execution_count": 37,
   "id": "b8240253",
   "metadata": {
    "id": "b8240253"
   },
   "outputs": [
    {
     "data": {
      "text/html": [
       "<div>\n",
       "<style scoped>\n",
       "    .dataframe tbody tr th:only-of-type {\n",
       "        vertical-align: middle;\n",
       "    }\n",
       "\n",
       "    .dataframe tbody tr th {\n",
       "        vertical-align: top;\n",
       "    }\n",
       "\n",
       "    .dataframe thead th {\n",
       "        text-align: right;\n",
       "    }\n",
       "</style>\n",
       "<table border=\"1\" class=\"dataframe\">\n",
       "  <thead>\n",
       "    <tr style=\"text-align: right;\">\n",
       "      <th></th>\n",
       "      <th>order_id</th>\n",
       "      <th>product_id</th>\n",
       "      <th>add_to_cart_order</th>\n",
       "      <th>reordered</th>\n",
       "    </tr>\n",
       "  </thead>\n",
       "  <tbody>\n",
       "    <tr>\n",
       "      <th>737</th>\n",
       "      <td>2449164</td>\n",
       "      <td>5068</td>\n",
       "      <td>NaN</td>\n",
       "      <td>0</td>\n",
       "    </tr>\n",
       "    <tr>\n",
       "      <th>9926</th>\n",
       "      <td>1968313</td>\n",
       "      <td>43867</td>\n",
       "      <td>NaN</td>\n",
       "      <td>0</td>\n",
       "    </tr>\n",
       "    <tr>\n",
       "      <th>14394</th>\n",
       "      <td>2926893</td>\n",
       "      <td>11688</td>\n",
       "      <td>NaN</td>\n",
       "      <td>0</td>\n",
       "    </tr>\n",
       "    <tr>\n",
       "      <th>16418</th>\n",
       "      <td>1717990</td>\n",
       "      <td>4142</td>\n",
       "      <td>NaN</td>\n",
       "      <td>0</td>\n",
       "    </tr>\n",
       "    <tr>\n",
       "      <th>30114</th>\n",
       "      <td>1959075</td>\n",
       "      <td>42828</td>\n",
       "      <td>NaN</td>\n",
       "      <td>1</td>\n",
       "    </tr>\n",
       "    <tr>\n",
       "      <th>...</th>\n",
       "      <td>...</td>\n",
       "      <td>...</td>\n",
       "      <td>...</td>\n",
       "      <td>...</td>\n",
       "    </tr>\n",
       "    <tr>\n",
       "      <th>4505662</th>\n",
       "      <td>1800005</td>\n",
       "      <td>7411</td>\n",
       "      <td>NaN</td>\n",
       "      <td>0</td>\n",
       "    </tr>\n",
       "    <tr>\n",
       "      <th>4511400</th>\n",
       "      <td>1633337</td>\n",
       "      <td>260</td>\n",
       "      <td>NaN</td>\n",
       "      <td>0</td>\n",
       "    </tr>\n",
       "    <tr>\n",
       "      <th>4517562</th>\n",
       "      <td>404157</td>\n",
       "      <td>9517</td>\n",
       "      <td>NaN</td>\n",
       "      <td>0</td>\n",
       "    </tr>\n",
       "    <tr>\n",
       "      <th>4534112</th>\n",
       "      <td>1673227</td>\n",
       "      <td>17835</td>\n",
       "      <td>NaN</td>\n",
       "      <td>0</td>\n",
       "    </tr>\n",
       "    <tr>\n",
       "      <th>4535739</th>\n",
       "      <td>1832957</td>\n",
       "      <td>17949</td>\n",
       "      <td>NaN</td>\n",
       "      <td>1</td>\n",
       "    </tr>\n",
       "  </tbody>\n",
       "</table>\n",
       "<p>836 rows × 4 columns</p>\n",
       "</div>"
      ],
      "text/plain": [
       "         order_id  product_id  add_to_cart_order  reordered\n",
       "737       2449164        5068                NaN          0\n",
       "9926      1968313       43867                NaN          0\n",
       "14394     2926893       11688                NaN          0\n",
       "16418     1717990        4142                NaN          0\n",
       "30114     1959075       42828                NaN          1\n",
       "...           ...         ...                ...        ...\n",
       "4505662   1800005        7411                NaN          0\n",
       "4511400   1633337         260                NaN          0\n",
       "4517562    404157        9517                NaN          0\n",
       "4534112   1673227       17835                NaN          0\n",
       "4535739   1832957       17949                NaN          1\n",
       "\n",
       "[836 rows x 4 columns]"
      ]
     },
     "execution_count": 37,
     "metadata": {},
     "output_type": "execute_result"
    }
   ],
   "source": [
    "order_product.isna().sum()\n",
    "order_product[order_product['add_to_cart_order'].isna()]"
   ]
  },
  {
   "cell_type": "code",
   "execution_count": 38,
   "id": "9a78e5ee",
   "metadata": {
    "id": "9a78e5ee"
   },
   "outputs": [
    {
     "name": "stdout",
     "output_type": "stream",
     "text": [
      "Valor mínimo: 1.0\n",
      "Valor máximo: 64.0\n"
     ]
    }
   ],
   "source": [
    "# ¿Cuáles son los valores mínimos y máximos en esta columna?\n",
    "\n",
    "print('Valor mínimo:',order_product['add_to_cart_order'].min())\n",
    "print('Valor máximo:',order_product['add_to_cart_order'].max())"
   ]
  },
  {
   "cell_type": "markdown",
   "id": "-Z2Ja215jW78",
   "metadata": {
    "id": "-Z2Ja215jW78"
   },
   "source": [
    "Se ha ordenado un producto hasta 64 veces."
   ]
  },
  {
   "cell_type": "code",
   "execution_count": 39,
   "id": "ab9d0c2b",
   "metadata": {
    "id": "ab9d0c2b"
   },
   "outputs": [
    {
     "name": "stdout",
     "output_type": "stream",
     "text": [
      "[2449164 1968313 2926893 1717990 1959075  844733   61355  936852  264710\n",
      " 1564093  129627  293169 2849370 1386261 3308010  903110 2136777 3347453\n",
      " 1888628  165801 2094761 1038146 2997021  813364 2256933  171934 2409109\n",
      " 1730767 1169835  733526  404157 3125735  747668 1800005 1961723  871281\n",
      "  388234 1648217 1477139  102236 1021563 1832957 2721963  678116 1220886\n",
      " 1673227 2999801 1633337 2470674 2625444 1677118 2479011 3383594 1183255\n",
      " 1713430 2652650 1598369 1916118  854647 1302315  888470  180546 2621907\n",
      " 1308785 2729254    9310 2170451 2979697 1625713 1529171]\n"
     ]
    }
   ],
   "source": [
    "# Guarda todas las IDs de pedidos que tengan un valor ausente en 'add_to_cart_order'\n",
    "\n",
    "id_nan=order_product[order_product[\"add_to_cart_order\"].isna()][\"order_id\"].unique()\n",
    "\n",
    "print(id_nan)\n",
    "\n"
   ]
  },
  {
   "cell_type": "code",
   "execution_count": 40,
   "id": "54c31695",
   "metadata": {
    "id": "54c31695"
   },
   "outputs": [
    {
     "data": {
      "text/plain": [
       "order_id\n",
       "9310        65\n",
       "747668      65\n",
       "1598369     65\n",
       "1677118     65\n",
       "2170451     65\n",
       "          ... \n",
       "1959075     98\n",
       "171934     104\n",
       "2136777    108\n",
       "3308010    115\n",
       "61355      127\n",
       "Name: product_id, Length: 70, dtype: int64"
      ]
     },
     "execution_count": 40,
     "metadata": {},
     "output_type": "execute_result"
    }
   ],
   "source": [
    "# ¿Todos los pedidos con valores ausentes tienen más de 64 productos?\n",
    "# Agrupa todos los pedidos con datos ausentes por su ID de pedido.\n",
    "# Cuenta el número de 'product_id' en cada pedido y revisa el valor mínimo del conteo.\n",
    "order_product[order_product[\"order_id\"].isin(id_nan)].groupby(\"order_id\")[\"product_id\"].count().sort_values()\n"
   ]
  },
  {
   "cell_type": "markdown",
   "id": "p9V6pddtjglj",
   "metadata": {
    "id": "p9V6pddtjglj"
   },
   "source": [
    "los datos ausentes están en pedidos de más de 64."
   ]
  },
  {
   "cell_type": "code",
   "execution_count": 41,
   "id": "7a987d08",
   "metadata": {
    "id": "7a987d08"
   },
   "outputs": [
    {
     "name": "stdout",
     "output_type": "stream",
     "text": [
      "<class 'pandas.core.frame.DataFrame'>\n",
      "RangeIndex: 4545007 entries, 0 to 4545006\n",
      "Data columns (total 4 columns):\n",
      " #   Column             Dtype\n",
      "---  ------             -----\n",
      " 0   order_id           int64\n",
      " 1   product_id         int64\n",
      " 2   add_to_cart_order  int32\n",
      " 3   reordered          int64\n",
      "dtypes: int32(1), int64(3)\n",
      "memory usage: 121.4 MB\n"
     ]
    }
   ],
   "source": [
    "# Remplaza los valores ausentes en la columna 'add_to_cart? con 999 y convierte la columna al tipo entero.\n",
    "\n",
    "order_product.fillna({\"add_to_cart_order\": 999}, inplace=True)\n",
    "\n",
    "order_product[\"add_to_cart_order\"] = order_product[\"add_to_cart_order\"].astype(\"int\")\n",
    "order_product.info()"
   ]
  },
  {
   "cell_type": "markdown",
   "id": "fea4bcc7",
   "metadata": {
    "id": "fea4bcc7"
   },
   "source": [
    "Se utiliza el número 999 como default para los valores ausentes y ahora todos las columnas son valores enteros."
   ]
  },
  {
   "cell_type": "markdown",
   "id": "RnplPFY1gSrb",
   "metadata": {
    "id": "RnplPFY1gSrb"
   },
   "source": [
    "## Conclusiones\n",
    "\n",
    "Escribe aquí tus conclusiones intermedias sobre el Paso 2. Preprocesamiento de los datos\n",
    "\n",
    "Descubrimos valores duplicados y ausentes, llenamos valores ausentes sin alterar su número para evitar cualquier problema por lo que nuestros datos estan listos para el siguiente análisis."
   ]
  },
  {
   "cell_type": "markdown",
   "id": "UjrOIwTcz3ri",
   "metadata": {
    "id": "UjrOIwTcz3ri"
   },
   "source": [
    "# Paso 3. Análisis de los datos\n",
    "\n",
    "Una vez los datos estén procesados y listos, haz el siguiente análisis:"
   ]
  },
  {
   "cell_type": "markdown",
   "id": "turkish-kidney",
   "metadata": {
    "id": "turkish-kidney"
   },
   "source": [
    "# [A] Fácil (deben completarse todos para aprobar)\n",
    "\n",
    "1. Verifica que los valores en las columnas `'order_hour_of_day'` y `'order_dow'` en la tabla orders sean razonables (es decir, `'order_hour_of_day'` oscile entre 0 y 23 y `'order_dow'` oscile entre 0 y 6).\n",
    "2. Crea un gráfico que muestre el número de personas que hacen pedidos dependiendo de la hora del día.\n",
    "3. Crea un gráfico que muestre qué día de la semana la gente hace sus compras.\n",
    "4. Crea un gráfico que muestre el tiempo que la gente espera hasta hacer su siguiente pedido, y comenta sobre los valores mínimos y máximos."
   ]
  },
  {
   "cell_type": "markdown",
   "id": "short-capability",
   "metadata": {
    "id": "short-capability"
   },
   "source": [
    "### [A1] Verifica que los valores sean sensibles"
   ]
  },
  {
   "cell_type": "code",
   "execution_count": 42,
   "id": "growing-fruit",
   "metadata": {
    "id": "growing-fruit"
   },
   "outputs": [
    {
     "name": "stdout",
     "output_type": "stream",
     "text": [
      "           order_dow  order_hour_of_day\n",
      "count  478952.000000      478952.000000\n",
      "mean        2.775051          13.447034\n",
      "std         2.045901           4.224567\n",
      "min         0.000000           0.000000\n",
      "25%         1.000000          10.000000\n",
      "50%         3.000000          13.000000\n",
      "75%         5.000000          16.000000\n",
      "max         6.000000          23.000000\n"
     ]
    }
   ],
   "source": [
    "print(instacart_orders.iloc[:,3:5].describe())\n",
    "\n",
    "\n"
   ]
  },
  {
   "cell_type": "code",
   "execution_count": 43,
   "id": "accessory-malaysia",
   "metadata": {
    "id": "accessory-malaysia"
   },
   "outputs": [
    {
     "data": {
      "image/png": "[encoded data removed]",
      "text/plain": [
       "<Figure size 640x480 with 1 Axes>"
      ]
     },
     "metadata": {},
     "output_type": "display_data"
    }
   ],
   "source": [
    "hora_del_dia_compras= instacart_orders['order_hour_of_day'].value_counts().sort_index()\n",
    "hora_del_dia_compras.plot(kind='bar',title='Órdenes por hora del día',ylabel='Cantidad de órdenes')\n",
    "plt.show()"
   ]
  },
  {
   "cell_type": "markdown",
   "id": "hmR2GNQ6lCsX",
   "metadata": {
    "id": "hmR2GNQ6lCsX"
   },
   "source": [
    "las ordenes tienen la hora y el día correcto, en el parámetro del 0-23 para el día y 0 a 6 para la semana."
   ]
  },
  {
   "cell_type": "markdown",
   "id": "a6743a70",
   "metadata": {
    "id": "a6743a70"
   },
   "source": [
    "### [A2] Para cada hora del día, ¿cuántas personas hacen órdenes?"
   ]
  },
  {
   "cell_type": "code",
   "execution_count": 44,
   "id": "a36cca27",
   "metadata": {
    "id": "a36cca27"
   },
   "outputs": [
    {
     "data": {
      "image/png": "[encoded data removed]",
      "text/plain": [
       "<Figure size 640x480 with 1 Axes>"
      ]
     },
     "metadata": {},
     "output_type": "display_data"
    }
   ],
   "source": [
    "hora_del_dia_compras= instacart_orders['order_hour_of_day'].value_counts().sort_index()\n",
    "hora_del_dia_compras.plot(kind='bar',title='Órdenes por hora del día',ylabel='Cantidad de órdenes')\n",
    "plt.show()"
   ]
  },
  {
   "cell_type": "markdown",
   "id": "11270eed",
   "metadata": {
    "id": "11270eed"
   },
   "source": [
    "A partir de las 10 am y las 15 pm son los pedidos pico."
   ]
  },
  {
   "cell_type": "markdown",
   "id": "documented-command",
   "metadata": {
    "id": "documented-command"
   },
   "source": [
    "### [A3] ¿Qué día de la semana compran víveres las personas?"
   ]
  },
  {
   "cell_type": "code",
   "execution_count": 45,
   "id": "chief-digit",
   "metadata": {
    "id": "chief-digit"
   },
   "outputs": [
    {
     "data": {
      "image/png": "[encoded data removed]",
      "text/plain": [
       "<Figure size 640x480 with 1 Axes>"
      ]
     },
     "metadata": {},
     "output_type": "display_data"
    }
   ],
   "source": [
    "dia_de_la_semana_ordenes=instacart_orders['order_dow'].value_counts().sort_index()\n",
    "dia_de_la_semana_ordenes.plot(kind='bar',title='órdenes por día de la semana',xlabel='Día de la semana',ylabel='Cantidad de ordenes')\n",
    "plt.show()\n"
   ]
  },
  {
   "cell_type": "markdown",
   "id": "dominant-lightning",
   "metadata": {
    "id": "dominant-lightning"
   },
   "source": [
    "El domingo y el lunes es cuando más hacen pedidos"
   ]
  },
  {
   "cell_type": "markdown",
   "id": "cutting-concert",
   "metadata": {
    "id": "cutting-concert"
   },
   "source": [
    "### [A4] ¿Cuánto tiempo esperan las personas hasta hacer otro pedido? Comenta sobre los valores mínimos y máximos."
   ]
  },
  {
   "cell_type": "code",
   "execution_count": 46,
   "id": "c231f523",
   "metadata": {
    "id": "c231f523"
   },
   "outputs": [
    {
     "data": {
      "image/png": "[encoded data removed]",
      "text/plain": [
       "<Figure size 640x480 with 1 Axes>"
      ]
     },
     "metadata": {},
     "output_type": "display_data"
    }
   ],
   "source": [
    "dia_de_espera_ordenes=instacart_orders['days_since_prior_order'].value_counts().sort_index()\n",
    "dia_de_espera_ordenes.plot(kind='bar',title='Días desde la orden anterior',xlabel='Número de días',ylabel='Cantidad de órdenes')\n",
    "plt.show()"
   ]
  },
  {
   "cell_type": "markdown",
   "id": "discrete-vertex",
   "metadata": {
    "id": "discrete-vertex"
   },
   "source": [
    "los mayores pedido tardan 30 días para reordenar y el segundo a la semana."
   ]
  },
  {
   "cell_type": "markdown",
   "id": "tight-staff",
   "metadata": {
    "id": "tight-staff"
   },
   "source": [
    "# [B] Intermedio (deben completarse todos para aprobar)\n",
    "\n",
    "1. ¿Existe alguna diferencia entre las distribuciones `'order_hour_of_day'` de los miércoles y los sábados? Traza gráficos de barra de `'order_hour_of_day'` para ambos días en la misma figura y describe las diferencias que observes.\n",
    "2. Grafica la distribución para el número de órdenes que hacen los clientes (es decir, cuántos clientes hicieron solo 1 pedido, cuántos hicieron 2, cuántos 3, y así sucesivamente...).\n",
    "3. ¿Cuáles son los 20 principales productos que se piden con más frecuencia (muestra su identificación y nombre)?"
   ]
  },
  {
   "cell_type": "markdown",
   "id": "packed-classic",
   "metadata": {
    "id": "packed-classic"
   },
   "source": [
    "### [B1] Diferencia entre miércoles y sábados para  `'order_hour_of_day'`. Traza gráficos de barra para los dos días y describe las diferencias que veas."
   ]
  },
  {
   "cell_type": "code",
   "execution_count": 47,
   "id": "d89b8403",
   "metadata": {
    "id": "d89b8403"
   },
   "outputs": [],
   "source": [
    "dias= instacart_orders[(instacart_orders[\"order_dow\"]== 3) | (instacart_orders[\"order_dow\"]== 6)]\n",
    "\n",
    "df_instacart = pd.DataFrame({\n",
    "    'Miercoles': dias[dias[\"order_dow\"]==3][\"order_hour_of_day\"].value_counts().sort_index(),\n",
    "    'Sabado': dias[dias[\"order_dow\"]==6][\"order_hour_of_day\"].value_counts().sort_index()\n",
    "})\n"
   ]
  },
  {
   "cell_type": "code",
   "execution_count": 48,
   "id": "94e54e8a",
   "metadata": {
    "id": "94e54e8a"
   },
   "outputs": [
    {
     "data": {
      "image/png": "[encoded data removed]",
      "text/plain": [
       "<Figure size 2000x700 with 1 Axes>"
      ]
     },
     "metadata": {},
     "output_type": "display_data"
    }
   ],
   "source": [
    "df_instacart.plot(kind='bar',color=[\"hotpink\", \"blue\"], figsize=(20, 7), title= \"Compras por hora del día en Miercoles y Sabado\", xlabel=\"Hora del día\", ylabel=\"Cantidad de ordenes\")\n",
    "plt.show()"
   ]
  },
  {
   "cell_type": "code",
   "execution_count": null,
   "id": "797c90a8",
   "metadata": {
    "id": "797c90a8"
   },
   "outputs": [],
   "source": []
  },
  {
   "cell_type": "code",
   "execution_count": null,
   "id": "35bcea30",
   "metadata": {
    "id": "35bcea30"
   },
   "outputs": [],
   "source": []
  },
  {
   "cell_type": "markdown",
   "id": "charitable-congo",
   "metadata": {
    "id": "charitable-congo"
   },
   "source": [
    "la gente suele comprar al medio dia siendo a las 14:00 en sábado donde más compran y a las 15:00 en miercoles\n",
    "por ende, las horas de más afluencia son 13,14,15 y 16 hrs."
   ]
  },
  {
   "cell_type": "markdown",
   "id": "e3891143",
   "metadata": {
    "id": "e3891143"
   },
   "source": [
    "### [B2] ¿Cuál es la distribución para el número de pedidos por cliente?"
   ]
  },
  {
   "cell_type": "code",
   "execution_count": 49,
   "id": "d8c26c23",
   "metadata": {
    "id": "d8c26c23"
   },
   "outputs": [
    {
     "data": {
      "image/png": "[encoded data removed]",
      "text/plain": [
       "<Figure size 640x480 with 1 Axes>"
      ]
     },
     "metadata": {},
     "output_type": "display_data"
    }
   ],
   "source": [
    "ordenes = instacart_orders.groupby(\"user_id\")[\"order_id\"].count()\n",
    "ordenes.plot(kind= \"hist\",bins=10)\n",
    "plt.show()"
   ]
  },
  {
   "cell_type": "code",
   "execution_count": null,
   "id": "00e69a66",
   "metadata": {
    "id": "00e69a66"
   },
   "outputs": [],
   "source": []
  },
  {
   "cell_type": "markdown",
   "id": "d2eff7d5",
   "metadata": {
    "id": "d2eff7d5"
   },
   "source": [
    "Hacen un pedido pero va decreciendo siendo 15 pedidos pedidos por muy pocos."
   ]
  },
  {
   "cell_type": "markdown",
   "id": "54a0319c",
   "metadata": {
    "id": "54a0319c"
   },
   "source": [
    "### [B3] ¿Cuáles son los 20 productos más populares (muestra su ID y nombre)?"
   ]
  },
  {
   "cell_type": "code",
   "execution_count": 50,
   "id": "daec462d",
   "metadata": {},
   "outputs": [
    {
     "data": {
      "text/html": [
       "<div>\n",
       "<style scoped>\n",
       "    .dataframe tbody tr th:only-of-type {\n",
       "        vertical-align: middle;\n",
       "    }\n",
       "\n",
       "    .dataframe tbody tr th {\n",
       "        vertical-align: top;\n",
       "    }\n",
       "\n",
       "    .dataframe thead th {\n",
       "        text-align: right;\n",
       "    }\n",
       "</style>\n",
       "<table border=\"1\" class=\"dataframe\">\n",
       "  <thead>\n",
       "    <tr style=\"text-align: right;\">\n",
       "      <th></th>\n",
       "      <th>product_id</th>\n",
       "      <th>product_name</th>\n",
       "      <th>aisle_id</th>\n",
       "      <th>department_id</th>\n",
       "    </tr>\n",
       "  </thead>\n",
       "  <tbody>\n",
       "    <tr>\n",
       "      <th>0</th>\n",
       "      <td>1</td>\n",
       "      <td>Chocolate Sandwich Cookies</td>\n",
       "      <td>61</td>\n",
       "      <td>19</td>\n",
       "    </tr>\n",
       "    <tr>\n",
       "      <th>1</th>\n",
       "      <td>2</td>\n",
       "      <td>All-Seasons Salt</td>\n",
       "      <td>104</td>\n",
       "      <td>13</td>\n",
       "    </tr>\n",
       "    <tr>\n",
       "      <th>2</th>\n",
       "      <td>3</td>\n",
       "      <td>Robust Golden Unsweetened Oolong Tea</td>\n",
       "      <td>94</td>\n",
       "      <td>7</td>\n",
       "    </tr>\n",
       "    <tr>\n",
       "      <th>3</th>\n",
       "      <td>4</td>\n",
       "      <td>Smart Ones Classic Favorites Mini Rigatoni Wit...</td>\n",
       "      <td>38</td>\n",
       "      <td>1</td>\n",
       "    </tr>\n",
       "    <tr>\n",
       "      <th>4</th>\n",
       "      <td>5</td>\n",
       "      <td>Green Chile Anytime Sauce</td>\n",
       "      <td>5</td>\n",
       "      <td>13</td>\n",
       "    </tr>\n",
       "  </tbody>\n",
       "</table>\n",
       "</div>"
      ],
      "text/plain": [
       "   product_id                                       product_name  aisle_id  \\\n",
       "0           1                         Chocolate Sandwich Cookies        61   \n",
       "1           2                                   All-Seasons Salt       104   \n",
       "2           3               Robust Golden Unsweetened Oolong Tea        94   \n",
       "3           4  Smart Ones Classic Favorites Mini Rigatoni Wit...        38   \n",
       "4           5                          Green Chile Anytime Sauce         5   \n",
       "\n",
       "   department_id  \n",
       "0             19  \n",
       "1             13  \n",
       "2              7  \n",
       "3              1  \n",
       "4             13  "
      ]
     },
     "execution_count": 50,
     "metadata": {},
     "output_type": "execute_result"
    }
   ],
   "source": [
    "products.head()"
   ]
  },
  {
   "cell_type": "code",
   "execution_count": 51,
   "id": "exterior-arizona",
   "metadata": {
    "id": "exterior-arizona",
    "scrolled": true
   },
   "outputs": [
    {
     "data": {
      "text/html": [
       "<div>\n",
       "<style scoped>\n",
       "    .dataframe tbody tr th:only-of-type {\n",
       "        vertical-align: middle;\n",
       "    }\n",
       "\n",
       "    .dataframe tbody tr th {\n",
       "        vertical-align: top;\n",
       "    }\n",
       "\n",
       "    .dataframe thead th {\n",
       "        text-align: right;\n",
       "    }\n",
       "</style>\n",
       "<table border=\"1\" class=\"dataframe\">\n",
       "  <thead>\n",
       "    <tr style=\"text-align: right;\">\n",
       "      <th></th>\n",
       "      <th>order_id</th>\n",
       "      <th>product_id</th>\n",
       "      <th>add_to_cart_order</th>\n",
       "      <th>reordered</th>\n",
       "    </tr>\n",
       "  </thead>\n",
       "  <tbody>\n",
       "    <tr>\n",
       "      <th>0</th>\n",
       "      <td>2141543</td>\n",
       "      <td>11440</td>\n",
       "      <td>17</td>\n",
       "      <td>0</td>\n",
       "    </tr>\n",
       "    <tr>\n",
       "      <th>1</th>\n",
       "      <td>567889</td>\n",
       "      <td>1560</td>\n",
       "      <td>1</td>\n",
       "      <td>1</td>\n",
       "    </tr>\n",
       "    <tr>\n",
       "      <th>2</th>\n",
       "      <td>2261212</td>\n",
       "      <td>26683</td>\n",
       "      <td>1</td>\n",
       "      <td>1</td>\n",
       "    </tr>\n",
       "    <tr>\n",
       "      <th>3</th>\n",
       "      <td>491251</td>\n",
       "      <td>8670</td>\n",
       "      <td>35</td>\n",
       "      <td>1</td>\n",
       "    </tr>\n",
       "    <tr>\n",
       "      <th>4</th>\n",
       "      <td>2571142</td>\n",
       "      <td>1940</td>\n",
       "      <td>5</td>\n",
       "      <td>1</td>\n",
       "    </tr>\n",
       "    <tr>\n",
       "      <th>5</th>\n",
       "      <td>2456893</td>\n",
       "      <td>21616</td>\n",
       "      <td>4</td>\n",
       "      <td>1</td>\n",
       "    </tr>\n",
       "    <tr>\n",
       "      <th>6</th>\n",
       "      <td>644579</td>\n",
       "      <td>12341</td>\n",
       "      <td>5</td>\n",
       "      <td>1</td>\n",
       "    </tr>\n",
       "    <tr>\n",
       "      <th>7</th>\n",
       "      <td>2231852</td>\n",
       "      <td>44925</td>\n",
       "      <td>10</td>\n",
       "      <td>1</td>\n",
       "    </tr>\n",
       "    <tr>\n",
       "      <th>8</th>\n",
       "      <td>3185766</td>\n",
       "      <td>36259</td>\n",
       "      <td>14</td>\n",
       "      <td>1</td>\n",
       "    </tr>\n",
       "    <tr>\n",
       "      <th>9</th>\n",
       "      <td>420019</td>\n",
       "      <td>23315</td>\n",
       "      <td>4</td>\n",
       "      <td>1</td>\n",
       "    </tr>\n",
       "    <tr>\n",
       "      <th>10</th>\n",
       "      <td>925051</td>\n",
       "      <td>9421</td>\n",
       "      <td>2</td>\n",
       "      <td>1</td>\n",
       "    </tr>\n",
       "    <tr>\n",
       "      <th>11</th>\n",
       "      <td>44064</td>\n",
       "      <td>22963</td>\n",
       "      <td>28</td>\n",
       "      <td>0</td>\n",
       "    </tr>\n",
       "    <tr>\n",
       "      <th>12</th>\n",
       "      <td>522547</td>\n",
       "      <td>40571</td>\n",
       "      <td>10</td>\n",
       "      <td>1</td>\n",
       "    </tr>\n",
       "    <tr>\n",
       "      <th>13</th>\n",
       "      <td>2475670</td>\n",
       "      <td>48520</td>\n",
       "      <td>3</td>\n",
       "      <td>0</td>\n",
       "    </tr>\n",
       "    <tr>\n",
       "      <th>14</th>\n",
       "      <td>1961225</td>\n",
       "      <td>37553</td>\n",
       "      <td>1</td>\n",
       "      <td>1</td>\n",
       "    </tr>\n",
       "    <tr>\n",
       "      <th>15</th>\n",
       "      <td>2397389</td>\n",
       "      <td>4321</td>\n",
       "      <td>16</td>\n",
       "      <td>1</td>\n",
       "    </tr>\n",
       "    <tr>\n",
       "      <th>16</th>\n",
       "      <td>639939</td>\n",
       "      <td>10017</td>\n",
       "      <td>1</td>\n",
       "      <td>1</td>\n",
       "    </tr>\n",
       "    <tr>\n",
       "      <th>17</th>\n",
       "      <td>1721072</td>\n",
       "      <td>24561</td>\n",
       "      <td>8</td>\n",
       "      <td>1</td>\n",
       "    </tr>\n",
       "    <tr>\n",
       "      <th>18</th>\n",
       "      <td>89640</td>\n",
       "      <td>46692</td>\n",
       "      <td>7</td>\n",
       "      <td>0</td>\n",
       "    </tr>\n",
       "    <tr>\n",
       "      <th>19</th>\n",
       "      <td>2500729</td>\n",
       "      <td>21616</td>\n",
       "      <td>5</td>\n",
       "      <td>1</td>\n",
       "    </tr>\n",
       "  </tbody>\n",
       "</table>\n",
       "</div>"
      ],
      "text/plain": [
       "    order_id  product_id  add_to_cart_order  reordered\n",
       "0    2141543       11440                 17          0\n",
       "1     567889        1560                  1          1\n",
       "2    2261212       26683                  1          1\n",
       "3     491251        8670                 35          1\n",
       "4    2571142        1940                  5          1\n",
       "5    2456893       21616                  4          1\n",
       "6     644579       12341                  5          1\n",
       "7    2231852       44925                 10          1\n",
       "8    3185766       36259                 14          1\n",
       "9     420019       23315                  4          1\n",
       "10    925051        9421                  2          1\n",
       "11     44064       22963                 28          0\n",
       "12    522547       40571                 10          1\n",
       "13   2475670       48520                  3          0\n",
       "14   1961225       37553                  1          1\n",
       "15   2397389        4321                 16          1\n",
       "16    639939       10017                  1          1\n",
       "17   1721072       24561                  8          1\n",
       "18     89640       46692                  7          0\n",
       "19   2500729       21616                  5          1"
      ]
     },
     "execution_count": 51,
     "metadata": {},
     "output_type": "execute_result"
    }
   ],
   "source": [
    "order_product.head(20)"
   ]
  },
  {
   "cell_type": "code",
   "execution_count": 52,
   "id": "universal-facial",
   "metadata": {
    "id": "universal-facial"
   },
   "outputs": [],
   "source": [
    "order_product=order_product.merge(products,on='product_id' )\n",
    "mejores_productos =order_product.groupby(['product_id','product_name'])['order_id'].count().sort_values(ascending=False)"
   ]
  },
  {
   "cell_type": "code",
   "execution_count": 53,
   "id": "bbcdd20b",
   "metadata": {
    "id": "bbcdd20b",
    "scrolled": true
   },
   "outputs": [
    {
     "data": {
      "image/png": "[encoded data removed]",
      "text/plain": [
       "<Figure size 640x480 with 1 Axes>"
      ]
     },
     "metadata": {},
     "output_type": "display_data"
    }
   ],
   "source": [
    "top_20_productos=mejores_productos.head(20)\n",
    "top_20_productos.plot(kind='bar',title='mejores productos',xlabel='producto',ylabel='compra')\n",
    "plt.show()"
   ]
  },
  {
   "cell_type": "markdown",
   "id": "7df00f47",
   "metadata": {
    "id": "7df00f47"
   },
   "source": [
    "Las bananas son los productos más comprados y como podemos ver los top 20 productos son perecederos de fruta y verdura."
   ]
  },
  {
   "cell_type": "markdown",
   "id": "gross-theme",
   "metadata": {
    "id": "gross-theme"
   },
   "source": [
    "# [C] Difícil (deben completarse todos para aprobar)\n",
    "\n",
    "1. ¿Cuántos artículos suelen comprar las personas en un pedido? ¿Cómo es la distribución?\n",
    "2. ¿Cuáles son los 20 principales artículos que vuelven a pedirse con mayor frecuencia (muestra sus nombres e IDs de los productos)?\n",
    "3. Para cada producto, ¿cuál es la tasa de repetición del pedido (número de repeticiones de pedido/total de pedidos?\n",
    "4. Para cada cliente, ¿qué proporción de los productos que pidió ya los había pedido? Calcula la tasa de repetición de pedido para cada usuario en lugar de para cada producto.\n",
    "5. ¿Cuáles son los 20 principales artículos que la gente pone primero en sus carritos (muestra las IDs de los productos, sus nombres, y el número de veces en que fueron el primer artículo en añadirse al carrito)?"
   ]
  },
  {
   "cell_type": "markdown",
   "id": "romantic-deposit",
   "metadata": {
    "id": "romantic-deposit"
   },
   "source": [
    "### [C1] ¿Cuántos artículos compran normalmente las personas en un pedido? ¿Cómo es la distribución?"
   ]
  },
  {
   "cell_type": "code",
   "execution_count": 54,
   "id": "virtual-punch",
   "metadata": {
    "id": "virtual-punch"
   },
   "outputs": [
    {
     "name": "stdout",
     "output_type": "stream",
     "text": [
      "pedidos aleatorios para ejemplificar\n",
      "order_id\n",
      "4          13\n",
      "9          15\n",
      "11          5\n",
      "19          3\n",
      "20          8\n",
      "           ..\n",
      "3421034    17\n",
      "3421053     9\n",
      "3421071     5\n",
      "3421077     4\n",
      "3421079     1\n",
      "Name: product_id, Length: 450046, dtype: int64\n",
      "\n",
      "Media por pedido:  10.098983215049127\n",
      "Moda por pedido:  0    5\n",
      "Name: product_id, dtype: int64\n"
     ]
    }
   ],
   "source": [
    "articulos = instacart_orders.merge(order_product, on= \"order_id\")\n",
    "articulos_pedidos = articulos.groupby([\"order_id\"])[\"product_id\"].count()\n",
    "print(\"pedidos aleatorios para ejemplificar\")\n",
    "print(articulos_pedidos)\n",
    "print()\n",
    "print(\"Media por pedido: \", articulos_pedidos.mean())\n",
    "print(\"Moda por pedido: \", articulos_pedidos.mode())\n"
   ]
  },
  {
   "cell_type": "code",
   "execution_count": 55,
   "id": "sensitive-breathing",
   "metadata": {
    "id": "sensitive-breathing"
   },
   "outputs": [
    {
     "data": {
      "image/png": "[encoded data removed]",
      "text/plain": [
       "<Figure size 640x480 with 1 Axes>"
      ]
     },
     "metadata": {},
     "output_type": "display_data"
    }
   ],
   "source": [
    "plt.hist(articulos_pedidos, bins=20, color='pink')\n",
    "plt.title('Distribución de Productos por Pedido')\n",
    "plt.xlabel('Número de Productos por Pedido')\n",
    "plt.ylabel('Frecuencia')\n",
    "plt.show()"
   ]
  },
  {
   "cell_type": "code",
   "execution_count": null,
   "id": "completed-frank",
   "metadata": {
    "id": "completed-frank"
   },
   "outputs": [],
   "source": []
  },
  {
   "cell_type": "markdown",
   "id": "designed-mortality",
   "metadata": {
    "id": "designed-mortality"
   },
   "source": [
    "la gente suele pedir más de 1 a 10 productos"
   ]
  },
  {
   "cell_type": "markdown",
   "id": "5e6b5537",
   "metadata": {
    "id": "5e6b5537"
   },
   "source": [
    "### [C2] ¿Cuáles son los 20 principales artículos que vuelven a pedirse con mayor frecuencia (muestra sus nombres e IDs de los productos)?"
   ]
  },
  {
   "cell_type": "code",
   "execution_count": 56,
   "id": "9374e55a",
   "metadata": {
    "id": "9374e55a"
   },
   "outputs": [],
   "source": [
    "top_20_productos_reordenados=order_product[order_product['reordered']==1].groupby(['product_id','product_name'])['order_id'].count().sort_values(ascending=False)"
   ]
  },
  {
   "cell_type": "code",
   "execution_count": 47,
   "id": "possible-change",
   "metadata": {
    "id": "possible-change",
    "scrolled": false
   },
   "outputs": [
    {
     "data": {
      "image/png": "[encoded data removed]",
      "text/plain": [
       "<Figure size 640x480 with 1 Axes>"
      ]
     },
     "metadata": {},
     "output_type": "display_data"
    }
   ],
   "source": [
    "productos_reordenados=top_20_productos_reordenados.head(20)\n",
    "productos_reordenados.plot(kind='bar',title='20 productos reordenados',xlabel='productos',ylabel='pedidos')\n",
    "\n",
    "plt.show()"
   ]
  },
  {
   "cell_type": "code",
   "execution_count": 58,
   "id": "professional-surfing",
   "metadata": {
    "id": "professional-surfing",
    "scrolled": false
   },
   "outputs": [],
   "source": [
    "#Los perecederos siguen siendo los más reordenados solo aparece ahora la leche,siendo un basico de despensa."
   ]
  },
  {
   "cell_type": "code",
   "execution_count": null,
   "id": "48dd3658",
   "metadata": {
    "id": "48dd3658"
   },
   "outputs": [],
   "source": []
  },
  {
   "cell_type": "markdown",
   "id": "80e70c74",
   "metadata": {
    "id": "80e70c74"
   },
   "source": []
  },
  {
   "cell_type": "markdown",
   "id": "9d312b14",
   "metadata": {
    "id": "9d312b14"
   },
   "source": [
    "### [C3] Para cada producto, ¿cuál es la proporción de las veces que se pide y que se vuelve a pedir?"
   ]
  },
  {
   "cell_type": "code",
   "execution_count": 59,
   "id": "8ae9f4b1",
   "metadata": {
    "id": "8ae9f4b1"
   },
   "outputs": [
    {
     "name": "stdout",
     "output_type": "stream",
     "text": [
      "<class 'pandas.core.frame.DataFrame'>\n",
      "RangeIndex: 4545007 entries, 0 to 4545006\n",
      "Data columns (total 12 columns):\n",
      " #   Column                  Dtype  \n",
      "---  ------                  -----  \n",
      " 0   order_id                int64  \n",
      " 1   user_id                 int64  \n",
      " 2   order_number            int64  \n",
      " 3   order_dow               int64  \n",
      " 4   order_hour_of_day       int64  \n",
      " 5   days_since_prior_order  float64\n",
      " 6   product_id              int64  \n",
      " 7   add_to_cart_order       int32  \n",
      " 8   reordered               int64  \n",
      " 9   product_name            object \n",
      " 10  aisle_id                int64  \n",
      " 11  department_id           int64  \n",
      "dtypes: float64(1), int32(1), int64(9), object(1)\n",
      "memory usage: 398.8+ MB\n"
     ]
    }
   ],
   "source": [
    "articulos.info()\n",
    "articulos.groupby()\n"
   ]
  },
  {
   "cell_type": "code",
   "execution_count": null,
   "id": "103e7fe1",
   "metadata": {
    "id": "103e7fe1"
   },
   "outputs": [],
   "source": []
  },
  {
   "cell_type": "code",
   "execution_count": null,
   "id": "social-individual",
   "metadata": {
    "id": "social-individual"
   },
   "outputs": [],
   "source": []
  },
  {
   "cell_type": "markdown",
   "id": "I10dEIAyldcO",
   "metadata": {
    "id": "I10dEIAyldcO"
   },
   "source": [
    "Escribe aquí tus conclusiones"
   ]
  },
  {
   "cell_type": "markdown",
   "id": "subject-boxing",
   "metadata": {
    "id": "subject-boxing"
   },
   "source": [
    "### [C4] Para cada cliente, ¿qué proporción de sus productos ya los había pedido?"
   ]
  },
  {
   "cell_type": "code",
   "execution_count": 60,
   "id": "medical-couple",
   "metadata": {
    "id": "medical-couple",
    "scrolled": true
   },
   "outputs": [
    {
     "data": {
      "text/plain": [
       "user_id\n",
       "137587    1.0\n",
       "173474    1.0\n",
       "13918     1.0\n",
       "62300     1.0\n",
       "62307     1.0\n",
       "         ... \n",
       "190953    0.0\n",
       "119371    0.0\n",
       "63173     0.0\n",
       "63163     0.0\n",
       "165726    0.0\n",
       "Name: reordered, Length: 149626, dtype: float64"
      ]
     },
     "execution_count": 60,
     "metadata": {},
     "output_type": "execute_result"
    }
   ],
   "source": [
    "articulos.groupby([\"user_id\"])[\"reordered\"].mean().sort_values(ascending=False)"
   ]
  },
  {
   "cell_type": "code",
   "execution_count": 62,
   "id": "8892e4b4",
   "metadata": {
    "id": "8892e4b4"
   },
   "outputs": [
    {
     "name": "stdout",
     "output_type": "stream",
     "text": [
      "<class 'pandas.core.frame.DataFrame'>\n",
      "RangeIndex: 49694 entries, 0 to 49693\n",
      "Data columns (total 4 columns):\n",
      " #   Column         Non-Null Count  Dtype \n",
      "---  ------         --------------  ----- \n",
      " 0   product_id     49694 non-null  int64 \n",
      " 1   product_name   49694 non-null  object\n",
      " 2   aisle_id       49694 non-null  int64 \n",
      " 3   department_id  49694 non-null  int64 \n",
      "dtypes: int64(3), object(1)\n",
      "memory usage: 1.5+ MB\n"
     ]
    }
   ],
   "source": [
    "products.info()"
   ]
  },
  {
   "cell_type": "markdown",
   "id": "BgJSvXDsleXz",
   "metadata": {
    "id": "BgJSvXDsleXz"
   },
   "source": [
    "Escribe aquí tus conclusiones"
   ]
  },
  {
   "cell_type": "markdown",
   "id": "92d35137",
   "metadata": {
    "id": "92d35137"
   },
   "source": [
    "### [C5] ¿Cuáles son los 20 principales artículos que las personas ponen primero en sus carritos?"
   ]
  },
  {
   "cell_type": "code",
   "execution_count": 61,
   "id": "0ae57274",
   "metadata": {
    "id": "0ae57274",
    "scrolled": true
   },
   "outputs": [
    {
     "ename": "KeyError",
     "evalue": "'add_to_cart_order'",
     "output_type": "error",
     "traceback": [
      "\u001b[1;31m---------------------------------------------------------------------------\u001b[0m",
      "\u001b[1;31mKeyError\u001b[0m                                  Traceback (most recent call last)",
      "File \u001b[1;32mc:\\Users\\hukit\\miniconda3\\Lib\\site-packages\\pandas\\core\\indexes\\base.py:3805\u001b[0m, in \u001b[0;36mIndex.get_loc\u001b[1;34m(self, key)\u001b[0m\n\u001b[0;32m   3804\u001b[0m \u001b[38;5;28;01mtry\u001b[39;00m:\n\u001b[1;32m-> 3805\u001b[0m     \u001b[38;5;28;01mreturn\u001b[39;00m \u001b[38;5;28;43mself\u001b[39;49m\u001b[38;5;241;43m.\u001b[39;49m\u001b[43m_engine\u001b[49m\u001b[38;5;241;43m.\u001b[39;49m\u001b[43mget_loc\u001b[49m\u001b[43m(\u001b[49m\u001b[43mcasted_key\u001b[49m\u001b[43m)\u001b[49m\n\u001b[0;32m   3806\u001b[0m \u001b[38;5;28;01mexcept\u001b[39;00m \u001b[38;5;167;01mKeyError\u001b[39;00m \u001b[38;5;28;01mas\u001b[39;00m err:\n",
      "File \u001b[1;32mindex.pyx:167\u001b[0m, in \u001b[0;36mpandas._libs.index.IndexEngine.get_loc\u001b[1;34m()\u001b[0m\n",
      "File \u001b[1;32mindex.pyx:196\u001b[0m, in \u001b[0;36mpandas._libs.index.IndexEngine.get_loc\u001b[1;34m()\u001b[0m\n",
      "File \u001b[1;32mpandas\\\\_libs\\\\hashtable_class_helper.pxi:7081\u001b[0m, in \u001b[0;36mpandas._libs.hashtable.PyObjectHashTable.get_item\u001b[1;34m()\u001b[0m\n",
      "File \u001b[1;32mpandas\\\\_libs\\\\hashtable_class_helper.pxi:7089\u001b[0m, in \u001b[0;36mpandas._libs.hashtable.PyObjectHashTable.get_item\u001b[1;34m()\u001b[0m\n",
      "\u001b[1;31mKeyError\u001b[0m: 'add_to_cart_order'",
      "\nThe above exception was the direct cause of the following exception:\n",
      "\u001b[1;31mKeyError\u001b[0m                                  Traceback (most recent call last)",
      "Cell \u001b[1;32mIn[61], line 1\u001b[0m\n\u001b[1;32m----> 1\u001b[0m principales \u001b[38;5;241m=\u001b[39m products[\u001b[43mproducts\u001b[49m\u001b[43m[\u001b[49m\u001b[38;5;124;43m\"\u001b[39;49m\u001b[38;5;124;43madd_to_cart_order\u001b[39;49m\u001b[38;5;124;43m\"\u001b[39;49m\u001b[43m]\u001b[49m\u001b[38;5;241m==\u001b[39m\u001b[38;5;241m1\u001b[39m]\u001b[38;5;241m.\u001b[39mgroupby([\u001b[38;5;124m\"\u001b[39m\u001b[38;5;124mproduct_id\u001b[39m\u001b[38;5;124m\"\u001b[39m,\u001b[38;5;124m\"\u001b[39m\u001b[38;5;124mproduct_name\u001b[39m\u001b[38;5;124m\"\u001b[39m])[\u001b[38;5;124m\"\u001b[39m\u001b[38;5;124madd_to_cart_order\u001b[39m\u001b[38;5;124m\"\u001b[39m]\u001b[38;5;241m.\u001b[39mvalue_counts()\u001b[38;5;241m.\u001b[39msort_values(ascending\u001b[38;5;241m=\u001b[39m\u001b[38;5;28;01mFalse\u001b[39;00m)\u001b[38;5;241m.\u001b[39mhead(\u001b[38;5;241m20\u001b[39m)\n\u001b[0;32m      2\u001b[0m \u001b[38;5;28mprint\u001b[39m(principales)\n\u001b[0;32m      3\u001b[0m principales\u001b[38;5;241m.\u001b[39mplot(kind\u001b[38;5;241m=\u001b[39m\u001b[38;5;124m\"\u001b[39m\u001b[38;5;124mbar\u001b[39m\u001b[38;5;124m\"\u001b[39m,title\u001b[38;5;241m=\u001b[39m\u001b[38;5;124m\"\u001b[39m\u001b[38;5;124mLos 20 principales\u001b[39m\u001b[38;5;124m\"\u001b[39m,xlabel\u001b[38;5;241m=\u001b[39m\u001b[38;5;124m\"\u001b[39m\u001b[38;5;124mProductos\u001b[39m\u001b[38;5;124m\"\u001b[39m, ylabel\u001b[38;5;241m=\u001b[39m\u001b[38;5;124m\"\u001b[39m\u001b[38;5;124mveces que es colocado primero en el carrito\u001b[39m\u001b[38;5;124m\"\u001b[39m)\n",
      "File \u001b[1;32mc:\\Users\\hukit\\miniconda3\\Lib\\site-packages\\pandas\\core\\frame.py:4102\u001b[0m, in \u001b[0;36mDataFrame.__getitem__\u001b[1;34m(self, key)\u001b[0m\n\u001b[0;32m   4100\u001b[0m \u001b[38;5;28;01mif\u001b[39;00m \u001b[38;5;28mself\u001b[39m\u001b[38;5;241m.\u001b[39mcolumns\u001b[38;5;241m.\u001b[39mnlevels \u001b[38;5;241m>\u001b[39m \u001b[38;5;241m1\u001b[39m:\n\u001b[0;32m   4101\u001b[0m     \u001b[38;5;28;01mreturn\u001b[39;00m \u001b[38;5;28mself\u001b[39m\u001b[38;5;241m.\u001b[39m_getitem_multilevel(key)\n\u001b[1;32m-> 4102\u001b[0m indexer \u001b[38;5;241m=\u001b[39m \u001b[38;5;28;43mself\u001b[39;49m\u001b[38;5;241;43m.\u001b[39;49m\u001b[43mcolumns\u001b[49m\u001b[38;5;241;43m.\u001b[39;49m\u001b[43mget_loc\u001b[49m\u001b[43m(\u001b[49m\u001b[43mkey\u001b[49m\u001b[43m)\u001b[49m\n\u001b[0;32m   4103\u001b[0m \u001b[38;5;28;01mif\u001b[39;00m is_integer(indexer):\n\u001b[0;32m   4104\u001b[0m     indexer \u001b[38;5;241m=\u001b[39m [indexer]\n",
      "File \u001b[1;32mc:\\Users\\hukit\\miniconda3\\Lib\\site-packages\\pandas\\core\\indexes\\base.py:3812\u001b[0m, in \u001b[0;36mIndex.get_loc\u001b[1;34m(self, key)\u001b[0m\n\u001b[0;32m   3807\u001b[0m     \u001b[38;5;28;01mif\u001b[39;00m \u001b[38;5;28misinstance\u001b[39m(casted_key, \u001b[38;5;28mslice\u001b[39m) \u001b[38;5;129;01mor\u001b[39;00m (\n\u001b[0;32m   3808\u001b[0m         \u001b[38;5;28misinstance\u001b[39m(casted_key, abc\u001b[38;5;241m.\u001b[39mIterable)\n\u001b[0;32m   3809\u001b[0m         \u001b[38;5;129;01mand\u001b[39;00m \u001b[38;5;28many\u001b[39m(\u001b[38;5;28misinstance\u001b[39m(x, \u001b[38;5;28mslice\u001b[39m) \u001b[38;5;28;01mfor\u001b[39;00m x \u001b[38;5;129;01min\u001b[39;00m casted_key)\n\u001b[0;32m   3810\u001b[0m     ):\n\u001b[0;32m   3811\u001b[0m         \u001b[38;5;28;01mraise\u001b[39;00m InvalidIndexError(key)\n\u001b[1;32m-> 3812\u001b[0m     \u001b[38;5;28;01mraise\u001b[39;00m \u001b[38;5;167;01mKeyError\u001b[39;00m(key) \u001b[38;5;28;01mfrom\u001b[39;00m \u001b[38;5;21;01merr\u001b[39;00m\n\u001b[0;32m   3813\u001b[0m \u001b[38;5;28;01mexcept\u001b[39;00m \u001b[38;5;167;01mTypeError\u001b[39;00m:\n\u001b[0;32m   3814\u001b[0m     \u001b[38;5;66;03m# If we have a listlike key, _check_indexing_error will raise\u001b[39;00m\n\u001b[0;32m   3815\u001b[0m     \u001b[38;5;66;03m#  InvalidIndexError. Otherwise we fall through and re-raise\u001b[39;00m\n\u001b[0;32m   3816\u001b[0m     \u001b[38;5;66;03m#  the TypeError.\u001b[39;00m\n\u001b[0;32m   3817\u001b[0m     \u001b[38;5;28mself\u001b[39m\u001b[38;5;241m.\u001b[39m_check_indexing_error(key)\n",
      "\u001b[1;31mKeyError\u001b[0m: 'add_to_cart_order'"
     ]
    }
   ],
   "source": [
    "principales = products[products[\"add_to_cart_order\"]==1].groupby([\"product_id\",\"product_name\"])[\"add_to_cart_order\"].value_counts().sort_values(ascending=False).head(20)\n",
    "print(principales)\n",
    "principales.plot(kind=\"bar\",title=\"Los 20 principales\",xlabel=\"Productos\", ylabel=\"veces que es colocado primero en el carrito\")\n",
    "plt.show()"
   ]
  },
  {
   "cell_type": "code",
   "execution_count": null,
   "id": "forty-netherlands",
   "metadata": {
    "id": "forty-netherlands",
    "scrolled": true
   },
   "outputs": [],
   "source": []
  },
  {
   "cell_type": "code",
   "execution_count": null,
   "id": "08e41ec2",
   "metadata": {
    "id": "08e41ec2"
   },
   "outputs": [],
   "source": []
  },
  {
   "cell_type": "markdown",
   "id": "28ce9872",
   "metadata": {
    "id": "28ce9872"
   },
   "source": [
    "Escribe aquí tus conclusiones"
   ]
  },
  {
   "cell_type": "markdown",
   "id": "uITbFCEoDosC",
   "metadata": {
    "id": "uITbFCEoDosC"
   },
   "source": [
    "### Conclusion general del proyecto:"
   ]
  },
  {
   "cell_type": "code",
   "execution_count": null,
   "id": "Nk-4GS7mDwqY",
   "metadata": {
    "id": "Nk-4GS7mDwqY"
   },
   "outputs": [],
   "source": [
    "El análisis de datos es un trabajo muy exhaustivo, que requiere de gran detalle, atención y sobre todo ver el buen manejo de datos arrojan conclusiones detalladas sobre un problema en general."
   ]
  }
 ],
 "metadata": {
  "ExecuteTimeLog": [
   {
    "duration": 315,
    "start_time": "2024-10-06T20:48:32.830Z"
   },
   {
    "duration": 289,
    "start_time": "2024-10-06T20:50:34.878Z"
   },
   {
    "duration": 5,
    "start_time": "2024-10-06T20:51:45.833Z"
   },
   {
    "duration": 4,
    "start_time": "2024-10-06T20:52:11.034Z"
   },
   {
    "duration": 3,
    "start_time": "2024-10-06T20:52:23.400Z"
   },
   {
    "duration": 317,
    "start_time": "2024-10-06T20:52:38.590Z"
   },
   {
    "duration": 283,
    "start_time": "2024-10-06T20:52:41.894Z"
   },
   {
    "duration": 781,
    "start_time": "2024-10-06T20:54:48.579Z"
   },
   {
    "duration": 334,
    "start_time": "2024-10-06T20:55:01.592Z"
   },
   {
    "duration": 335,
    "start_time": "2024-10-06T21:00:14.416Z"
   },
   {
    "duration": 326,
    "start_time": "2024-10-06T21:01:45.227Z"
   },
   {
    "duration": 337,
    "start_time": "2024-10-06T21:03:16.114Z"
   },
   {
    "duration": 331,
    "start_time": "2024-10-06T21:03:47.078Z"
   },
   {
    "duration": 2295,
    "start_time": "2024-10-06T21:05:17.609Z"
   },
   {
    "duration": 21,
    "start_time": "2024-10-06T21:05:38.240Z"
   },
   {
    "duration": 2039,
    "start_time": "2024-10-06T21:05:56.354Z"
   },
   {
    "duration": 1951,
    "start_time": "2024-10-06T21:05:58.774Z"
   },
   {
    "duration": 13,
    "start_time": "2024-10-06T21:06:01.740Z"
   },
   {
    "duration": 11,
    "start_time": "2024-10-06T21:07:13.805Z"
   },
   {
    "duration": 1972,
    "start_time": "2024-10-06T21:07:36.338Z"
   },
   {
    "duration": 11,
    "start_time": "2024-10-06T21:07:38.995Z"
   },
   {
    "duration": 10,
    "start_time": "2024-10-06T21:07:41.495Z"
   },
   {
    "duration": 8,
    "start_time": "2024-10-06T21:08:08.966Z"
   },
   {
    "duration": 8,
    "start_time": "2024-10-06T21:08:34.219Z"
   },
   {
    "duration": 10,
    "start_time": "2024-10-06T21:09:33.688Z"
   },
   {
    "duration": 865,
    "start_time": "2024-10-06T21:09:51.105Z"
   },
   {
    "duration": 11,
    "start_time": "2024-10-06T21:09:53.919Z"
   },
   {
    "duration": 11,
    "start_time": "2024-10-06T21:09:57.195Z"
   },
   {
    "duration": 7,
    "start_time": "2024-10-06T21:10:00.051Z"
   },
   {
    "duration": 8,
    "start_time": "2024-10-06T21:10:02.164Z"
   },
   {
    "duration": 7,
    "start_time": "2024-10-06T21:10:04.954Z"
   },
   {
    "duration": 866,
    "start_time": "2024-10-06T21:41:42.870Z"
   },
   {
    "duration": 10,
    "start_time": "2024-10-06T21:41:49.546Z"
   },
   {
    "duration": 825,
    "start_time": "2024-10-06T21:42:13.261Z"
   },
   {
    "duration": 819,
    "start_time": "2024-10-06T21:42:37.648Z"
   },
   {
    "duration": 882,
    "start_time": "2024-10-06T21:42:39.717Z"
   },
   {
    "duration": 812,
    "start_time": "2024-10-06T21:43:37.696Z"
   },
   {
    "duration": 10,
    "start_time": "2024-10-06T21:43:45.591Z"
   },
   {
    "duration": 9,
    "start_time": "2024-10-06T21:43:52.639Z"
   },
   {
    "duration": 9,
    "start_time": "2024-10-06T21:44:14.934Z"
   },
   {
    "duration": 9,
    "start_time": "2024-10-06T21:44:19.154Z"
   },
   {
    "duration": 814,
    "start_time": "2024-10-06T21:44:36.740Z"
   },
   {
    "duration": 6,
    "start_time": "2024-10-06T21:44:41.326Z"
   },
   {
    "duration": 14,
    "start_time": "2024-10-06T21:46:52.925Z"
   },
   {
    "duration": 72,
    "start_time": "2024-10-06T21:47:30.408Z"
   },
   {
    "duration": 11,
    "start_time": "2024-10-06T21:47:36.314Z"
   },
   {
    "duration": 68,
    "start_time": "2024-10-06T21:47:46.209Z"
   },
   {
    "duration": 68,
    "start_time": "2024-10-06T21:48:09.815Z"
   },
   {
    "duration": 77,
    "start_time": "2024-10-06T21:48:20.421Z"
   },
   {
    "duration": 71,
    "start_time": "2024-10-06T21:48:26.309Z"
   },
   {
    "duration": 73,
    "start_time": "2024-10-06T21:51:46.310Z"
   },
   {
    "duration": 71,
    "start_time": "2024-10-06T21:51:56.831Z"
   },
   {
    "duration": 2,
    "start_time": "2024-10-07T18:15:50.989Z"
   },
   {
    "duration": 157,
    "start_time": "2024-10-07T18:54:36.676Z"
   },
   {
    "duration": 13,
    "start_time": "2024-10-07T18:54:45.180Z"
   },
   {
    "duration": 14,
    "start_time": "2024-10-07T18:54:54.538Z"
   },
   {
    "duration": 14,
    "start_time": "2024-10-07T18:55:00.454Z"
   },
   {
    "duration": 12,
    "start_time": "2024-10-07T18:55:03.438Z"
   },
   {
    "duration": 12,
    "start_time": "2024-10-07T18:55:11.282Z"
   },
   {
    "duration": 306,
    "start_time": "2024-10-07T18:55:20.953Z"
   },
   {
    "duration": 1094,
    "start_time": "2024-10-07T18:55:23.010Z"
   },
   {
    "duration": 3,
    "start_time": "2024-10-07T18:55:32.187Z"
   },
   {
    "duration": 3,
    "start_time": "2024-10-07T18:55:40.106Z"
   },
   {
    "duration": 2,
    "start_time": "2024-10-07T18:55:42.439Z"
   },
   {
    "duration": 12,
    "start_time": "2024-10-07T18:55:55.365Z"
   },
   {
    "duration": 35,
    "start_time": "2024-10-07T18:56:10.438Z"
   },
   {
    "duration": 11,
    "start_time": "2024-10-07T18:56:20.737Z"
   },
   {
    "duration": 12,
    "start_time": "2024-10-07T18:59:48.657Z"
   },
   {
    "duration": 12,
    "start_time": "2024-10-07T18:59:56.117Z"
   },
   {
    "duration": 849,
    "start_time": "2024-10-07T19:00:00.461Z"
   },
   {
    "duration": 3,
    "start_time": "2024-10-07T19:00:02.710Z"
   },
   {
    "duration": 822,
    "start_time": "2024-10-07T19:00:05.915Z"
   },
   {
    "duration": 11,
    "start_time": "2024-10-07T19:00:07.783Z"
   },
   {
    "duration": 812,
    "start_time": "2024-10-07T19:01:54.782Z"
   },
   {
    "duration": 13,
    "start_time": "2024-10-07T19:01:56.711Z"
   },
   {
    "duration": 17,
    "start_time": "2024-10-07T19:02:04.028Z"
   },
   {
    "duration": 21,
    "start_time": "2024-10-07T19:17:45.766Z"
   },
   {
    "duration": 14,
    "start_time": "2024-10-07T19:18:55.796Z"
   },
   {
    "duration": 798,
    "start_time": "2024-10-07T19:19:41.289Z"
   },
   {
    "duration": 14,
    "start_time": "2024-10-07T19:19:43.049Z"
   },
   {
    "duration": 14,
    "start_time": "2024-10-07T19:19:56.620Z"
   },
   {
    "duration": 15,
    "start_time": "2024-10-07T19:20:12.553Z"
   },
   {
    "duration": 14,
    "start_time": "2024-10-07T19:20:19.315Z"
   },
   {
    "duration": 12,
    "start_time": "2024-10-07T19:20:50.039Z"
   },
   {
    "duration": 18,
    "start_time": "2024-10-07T19:22:44.792Z"
   },
   {
    "duration": 17,
    "start_time": "2024-10-07T19:22:51.165Z"
   },
   {
    "duration": 18,
    "start_time": "2024-10-07T19:22:54.678Z"
   },
   {
    "duration": 17,
    "start_time": "2024-10-07T19:23:22.141Z"
   },
   {
    "duration": 398,
    "start_time": "2024-10-07T19:23:47.043Z"
   },
   {
    "duration": 20,
    "start_time": "2024-10-07T19:24:04.976Z"
   },
   {
    "duration": 14,
    "start_time": "2024-10-07T19:26:50.797Z"
   },
   {
    "duration": 16,
    "start_time": "2024-10-07T19:27:51.416Z"
   },
   {
    "duration": 12,
    "start_time": "2024-10-07T19:28:08.655Z"
   },
   {
    "duration": 12,
    "start_time": "2024-10-07T19:29:07.519Z"
   },
   {
    "duration": 12,
    "start_time": "2024-10-07T19:29:13.720Z"
   },
   {
    "duration": 11,
    "start_time": "2024-10-07T19:29:57.822Z"
   },
   {
    "duration": 11,
    "start_time": "2024-10-07T19:31:07.773Z"
   },
   {
    "duration": 12,
    "start_time": "2024-10-07T19:47:30.516Z"
   },
   {
    "duration": 792,
    "start_time": "2024-10-07T19:47:36.462Z"
   },
   {
    "duration": 33,
    "start_time": "2024-10-07T19:47:48.948Z"
   },
   {
    "duration": 13,
    "start_time": "2024-10-07T19:48:00.703Z"
   },
   {
    "duration": 15,
    "start_time": "2024-10-07T19:48:06.536Z"
   },
   {
    "duration": 13,
    "start_time": "2024-10-07T19:48:39.120Z"
   },
   {
    "duration": 13,
    "start_time": "2024-10-07T19:49:51.618Z"
   },
   {
    "duration": 13,
    "start_time": "2024-10-07T19:50:10.537Z"
   },
   {
    "duration": 13,
    "start_time": "2024-10-07T19:50:12.954Z"
   },
   {
    "duration": 833,
    "start_time": "2024-10-07T19:50:21.847Z"
   },
   {
    "duration": 813,
    "start_time": "2024-10-07T19:50:25.150Z"
   },
   {
    "duration": 12,
    "start_time": "2024-10-07T19:50:31.342Z"
   },
   {
    "duration": 11,
    "start_time": "2024-10-07T19:50:34.500Z"
   },
   {
    "duration": 814,
    "start_time": "2024-10-07T19:50:38.107Z"
   },
   {
    "duration": 845,
    "start_time": "2024-10-07T19:54:47.550Z"
   },
   {
    "duration": 797,
    "start_time": "2024-10-07T19:56:35.920Z"
   },
   {
    "duration": 800,
    "start_time": "2024-10-07T19:57:17.732Z"
   },
   {
    "duration": 15,
    "start_time": "2024-10-07T19:58:35.018Z"
   },
   {
    "duration": 852,
    "start_time": "2024-10-07T19:59:12.371Z"
   },
   {
    "duration": 21,
    "start_time": "2024-10-07T19:59:15.509Z"
   },
   {
    "duration": 14,
    "start_time": "2024-10-07T19:59:17.819Z"
   },
   {
    "duration": 12,
    "start_time": "2024-10-07T19:59:20.967Z"
   },
   {
    "duration": 12,
    "start_time": "2024-10-07T19:59:23.366Z"
   },
   {
    "duration": 12,
    "start_time": "2024-10-07T19:59:25.662Z"
   },
   {
    "duration": 730,
    "start_time": "2024-10-07T19:59:29.708Z"
   },
   {
    "duration": 837,
    "start_time": "2024-10-07T20:00:16.698Z"
   },
   {
    "duration": 16,
    "start_time": "2024-10-07T20:00:50.957Z"
   },
   {
    "duration": 892,
    "start_time": "2024-10-07T20:00:55.977Z"
   },
   {
    "duration": 1715,
    "start_time": "2024-10-07T20:01:22.988Z"
   },
   {
    "duration": 869,
    "start_time": "2024-10-07T20:01:41.471Z"
   },
   {
    "duration": 1657,
    "start_time": "2024-10-07T20:02:35.945Z"
   },
   {
    "duration": 1712,
    "start_time": "2024-10-07T20:02:38.705Z"
   },
   {
    "duration": 180,
    "start_time": "2024-10-07T20:03:53.103Z"
   },
   {
    "duration": 283,
    "start_time": "2024-10-07T20:03:59.058Z"
   },
   {
    "duration": 895,
    "start_time": "2024-10-07T20:04:00.797Z"
   },
   {
    "duration": 20,
    "start_time": "2024-10-07T20:04:04.607Z"
   },
   {
    "duration": 14,
    "start_time": "2024-10-07T20:04:07.234Z"
   },
   {
    "duration": 12,
    "start_time": "2024-10-07T20:04:09.808Z"
   },
   {
    "duration": 12,
    "start_time": "2024-10-07T20:04:12.493Z"
   },
   {
    "duration": 11,
    "start_time": "2024-10-07T20:04:15.009Z"
   },
   {
    "duration": 917,
    "start_time": "2024-10-07T20:04:20.334Z"
   },
   {
    "duration": 1639,
    "start_time": "2024-10-07T20:04:39.880Z"
   },
   {
    "duration": 3,
    "start_time": "2024-10-07T20:09:44.634Z"
   },
   {
    "duration": 858,
    "start_time": "2024-10-07T20:09:46.603Z"
   },
   {
    "duration": 18,
    "start_time": "2024-10-07T20:09:53.290Z"
   },
   {
    "duration": 14,
    "start_time": "2024-10-07T20:09:56.024Z"
   },
   {
    "duration": 12,
    "start_time": "2024-10-07T20:09:58.158Z"
   },
   {
    "duration": 11,
    "start_time": "2024-10-07T20:10:01.320Z"
   },
   {
    "duration": 11,
    "start_time": "2024-10-07T20:10:04.540Z"
   },
   {
    "duration": 871,
    "start_time": "2024-10-07T20:10:10.999Z"
   },
   {
    "duration": 2030,
    "start_time": "2024-10-07T20:10:38.357Z"
   },
   {
    "duration": 1669,
    "start_time": "2024-10-07T20:11:04.246Z"
   },
   {
    "duration": 20,
    "start_time": "2024-10-07T20:11:38.845Z"
   },
   {
    "duration": 20,
    "start_time": "2024-10-07T20:11:49.993Z"
   },
   {
    "duration": 2,
    "start_time": "2024-10-07T20:12:37.738Z"
   },
   {
    "duration": 823,
    "start_time": "2024-10-07T20:12:39.597Z"
   },
   {
    "duration": 15,
    "start_time": "2024-10-07T20:12:52.042Z"
   },
   {
    "duration": 12,
    "start_time": "2024-10-07T20:12:57.054Z"
   },
   {
    "duration": 11,
    "start_time": "2024-10-07T20:13:04.843Z"
   },
   {
    "duration": 793,
    "start_time": "2024-10-07T20:13:10.858Z"
   },
   {
    "duration": 823,
    "start_time": "2024-10-07T20:13:29.743Z"
   },
   {
    "duration": 873,
    "start_time": "2024-10-07T20:13:38.727Z"
   },
   {
    "duration": 830,
    "start_time": "2024-10-07T20:14:43.752Z"
   },
   {
    "duration": 14,
    "start_time": "2024-10-07T20:15:01.169Z"
   },
   {
    "duration": 13,
    "start_time": "2024-10-07T20:15:12.822Z"
   },
   {
    "duration": 12,
    "start_time": "2024-10-07T20:15:56.557Z"
   },
   {
    "duration": 13,
    "start_time": "2024-10-07T20:16:34.087Z"
   },
   {
    "duration": 17,
    "start_time": "2024-10-07T20:16:41.835Z"
   },
   {
    "duration": 14,
    "start_time": "2024-10-07T20:16:54.957Z"
   },
   {
    "duration": 13,
    "start_time": "2024-10-07T20:16:58.838Z"
   },
   {
    "duration": 12,
    "start_time": "2024-10-07T20:17:02.460Z"
   },
   {
    "duration": 13,
    "start_time": "2024-10-07T20:17:37.289Z"
   },
   {
    "duration": 14,
    "start_time": "2024-10-07T20:17:55.341Z"
   },
   {
    "duration": 11,
    "start_time": "2024-10-07T20:17:59.923Z"
   },
   {
    "duration": 13,
    "start_time": "2024-10-07T20:18:04.388Z"
   },
   {
    "duration": 13,
    "start_time": "2024-10-07T20:18:08.183Z"
   },
   {
    "duration": 15,
    "start_time": "2024-10-07T20:18:37.350Z"
   },
   {
    "duration": 17,
    "start_time": "2024-10-07T20:18:44.401Z"
   },
   {
    "duration": 15,
    "start_time": "2024-10-07T20:18:46.573Z"
   },
   {
    "duration": 12,
    "start_time": "2024-10-07T20:18:49.188Z"
   },
   {
    "duration": 13,
    "start_time": "2024-10-07T20:18:51.628Z"
   },
   {
    "duration": 10,
    "start_time": "2024-10-07T20:18:55.303Z"
   },
   {
    "duration": 807,
    "start_time": "2024-10-07T20:23:25.819Z"
   },
   {
    "duration": 5,
    "start_time": "2024-10-07T20:23:57.888Z"
   },
   {
    "duration": 24,
    "start_time": "2024-10-07T20:25:56.188Z"
   },
   {
    "duration": 19,
    "start_time": "2024-10-07T20:29:31.246Z"
   },
   {
    "duration": 4,
    "start_time": "2024-10-07T20:29:34.220Z"
   },
   {
    "duration": 13,
    "start_time": "2024-10-07T20:30:17.891Z"
   },
   {
    "duration": 851,
    "start_time": "2024-10-07T20:30:20.910Z"
   },
   {
    "duration": 18,
    "start_time": "2024-10-07T20:31:47.758Z"
   },
   {
    "duration": 16,
    "start_time": "2024-10-07T20:32:19.244Z"
   },
   {
    "duration": 17,
    "start_time": "2024-10-07T20:32:22.764Z"
   },
   {
    "duration": 13,
    "start_time": "2024-10-07T20:32:54.824Z"
   },
   {
    "duration": 13,
    "start_time": "2024-10-07T20:34:14.710Z"
   },
   {
    "duration": 13,
    "start_time": "2024-10-07T20:35:23.774Z"
   },
   {
    "duration": 836,
    "start_time": "2024-10-07T20:35:44.934Z"
   },
   {
    "duration": 820,
    "start_time": "2024-10-07T20:35:54.391Z"
   },
   {
    "duration": 338,
    "start_time": "2024-10-07T20:36:13.872Z"
   },
   {
    "duration": 874,
    "start_time": "2024-10-07T20:36:16.326Z"
   },
   {
    "duration": 18,
    "start_time": "2024-10-07T20:36:19.105Z"
   },
   {
    "duration": 14,
    "start_time": "2024-10-07T20:36:21.633Z"
   },
   {
    "duration": 15,
    "start_time": "2024-10-07T20:36:24.268Z"
   },
   {
    "duration": 12,
    "start_time": "2024-10-07T20:36:27.561Z"
   },
   {
    "duration": 256,
    "start_time": "2024-10-07T20:36:33.639Z"
   },
   {
    "duration": 1018,
    "start_time": "2024-10-07T20:40:08.677Z"
   },
   {
    "duration": 17,
    "start_time": "2024-10-07T20:40:18.847Z"
   },
   {
    "duration": 13,
    "start_time": "2024-10-07T20:40:35.543Z"
   },
   {
    "duration": 13,
    "start_time": "2024-10-07T20:40:38.791Z"
   },
   {
    "duration": 14,
    "start_time": "2024-10-07T20:40:42.319Z"
   },
   {
    "duration": 14,
    "start_time": "2024-10-07T20:41:17.072Z"
   },
   {
    "duration": 14,
    "start_time": "2024-10-07T20:41:42.442Z"
   },
   {
    "duration": 2,
    "start_time": "2024-10-07T20:46:30.921Z"
   },
   {
    "duration": 287,
    "start_time": "2024-10-07T20:46:44.245Z"
   },
   {
    "duration": 905,
    "start_time": "2024-10-07T20:47:03.260Z"
   },
   {
    "duration": 174,
    "start_time": "2024-10-07T20:47:05.470Z"
   },
   {
    "duration": 19,
    "start_time": "2024-10-07T20:47:16.989Z"
   },
   {
    "duration": 15,
    "start_time": "2024-10-07T20:47:22.760Z"
   },
   {
    "duration": 11,
    "start_time": "2024-10-07T20:47:26.154Z"
   },
   {
    "duration": 13,
    "start_time": "2024-10-07T20:47:29.167Z"
   },
   {
    "duration": 11,
    "start_time": "2024-10-07T20:47:33.708Z"
   },
   {
    "duration": 11,
    "start_time": "2024-10-07T20:47:57.073Z"
   },
   {
    "duration": 11,
    "start_time": "2024-10-07T20:47:59.145Z"
   },
   {
    "duration": 13,
    "start_time": "2024-10-07T20:48:21.240Z"
   },
   {
    "duration": 94,
    "start_time": "2024-10-07T20:48:25.149Z"
   },
   {
    "duration": 100,
    "start_time": "2024-10-07T20:49:10.794Z"
   },
   {
    "duration": 95,
    "start_time": "2024-10-07T20:49:18.943Z"
   },
   {
    "duration": 100,
    "start_time": "2024-10-07T21:02:01.166Z"
   },
   {
    "duration": 99,
    "start_time": "2024-10-07T21:02:08.739Z"
   },
   {
    "duration": 125,
    "start_time": "2024-10-07T21:02:12.816Z"
   },
   {
    "duration": 98,
    "start_time": "2024-10-07T21:06:32.226Z"
   },
   {
    "duration": 23,
    "start_time": "2024-10-07T21:12:37.737Z"
   },
   {
    "duration": 5,
    "start_time": "2024-10-07T21:12:46.545Z"
   },
   {
    "duration": 7,
    "start_time": "2024-10-07T21:13:03.159Z"
   },
   {
    "duration": 104,
    "start_time": "2024-10-07T21:13:44.867Z"
   },
   {
    "duration": 22,
    "start_time": "2024-10-07T21:23:57.083Z"
   },
   {
    "duration": 21,
    "start_time": "2024-10-07T21:24:00.825Z"
   },
   {
    "duration": 5,
    "start_time": "2024-10-07T21:24:03.253Z"
   },
   {
    "duration": 97,
    "start_time": "2024-10-07T21:24:07.715Z"
   },
   {
    "duration": 5,
    "start_time": "2024-10-07T21:37:05.701Z"
   },
   {
    "duration": 35,
    "start_time": "2024-10-07T22:12:34.652Z"
   },
   {
    "duration": 12,
    "start_time": "2024-10-07T22:26:05.098Z"
   },
   {
    "duration": 96,
    "start_time": "2024-10-07T22:26:12.412Z"
   },
   {
    "duration": 112,
    "start_time": "2024-10-07T22:38:47.607Z"
   },
   {
    "duration": 189,
    "start_time": "2024-10-07T22:40:52.327Z"
   },
   {
    "duration": 189,
    "start_time": "2024-10-07T22:47:25.177Z"
   },
   {
    "duration": 219,
    "start_time": "2024-10-07T23:44:04.271Z"
   },
   {
    "duration": 20,
    "start_time": "2024-10-08T00:01:06.502Z"
   },
   {
    "duration": 20,
    "start_time": "2024-10-08T00:07:56.707Z"
   },
   {
    "duration": 20,
    "start_time": "2024-10-08T00:08:01.229Z"
   },
   {
    "duration": 19,
    "start_time": "2024-10-08T00:08:39.054Z"
   },
   {
    "duration": 9,
    "start_time": "2024-10-08T00:08:57.819Z"
   },
   {
    "duration": 5,
    "start_time": "2024-10-08T00:09:02.377Z"
   },
   {
    "duration": 4,
    "start_time": "2024-10-08T00:09:31.042Z"
   },
   {
    "duration": 4,
    "start_time": "2024-10-08T00:09:35.669Z"
   },
   {
    "duration": 4,
    "start_time": "2024-10-08T00:09:39.429Z"
   },
   {
    "duration": 5,
    "start_time": "2024-10-08T00:09:52.819Z"
   },
   {
    "duration": 5,
    "start_time": "2024-10-08T00:10:11.443Z"
   },
   {
    "duration": 326,
    "start_time": "2024-10-08T00:13:58.778Z"
   },
   {
    "duration": 7,
    "start_time": "2024-10-08T00:14:23.443Z"
   },
   {
    "duration": 324,
    "start_time": "2024-10-08T00:14:29.250Z"
   },
   {
    "duration": 349,
    "start_time": "2024-10-08T00:14:56.381Z"
   },
   {
    "duration": 338,
    "start_time": "2024-10-08T00:15:17.819Z"
   },
   {
    "duration": 312,
    "start_time": "2024-10-08T00:15:33.479Z"
   },
   {
    "duration": 299,
    "start_time": "2024-10-08T00:15:48.894Z"
   },
   {
    "duration": 284,
    "start_time": "2024-10-08T00:16:00.549Z"
   },
   {
    "duration": 224,
    "start_time": "2024-10-08T00:20:11.240Z"
   },
   {
    "duration": 196,
    "start_time": "2024-10-08T00:20:20.705Z"
   },
   {
    "duration": 261,
    "start_time": "2024-10-08T00:20:33.643Z"
   },
   {
    "duration": 192,
    "start_time": "2024-10-08T00:20:52.635Z"
   },
   {
    "duration": 98,
    "start_time": "2024-10-08T00:21:40.647Z"
   },
   {
    "duration": 137,
    "start_time": "2024-10-08T00:22:06.053Z"
   },
   {
    "duration": 97,
    "start_time": "2024-10-08T00:24:21.614Z"
   },
   {
    "duration": 94,
    "start_time": "2024-10-08T00:24:33.793Z"
   },
   {
    "duration": 242,
    "start_time": "2024-10-08T00:25:00.090Z"
   },
   {
    "duration": 187,
    "start_time": "2024-10-08T00:25:08.188Z"
   },
   {
    "duration": 201,
    "start_time": "2024-10-08T00:25:36.571Z"
   },
   {
    "duration": 190,
    "start_time": "2024-10-08T00:25:48.238Z"
   },
   {
    "duration": 3,
    "start_time": "2024-10-08T00:48:22.957Z"
   },
   {
    "duration": 15,
    "start_time": "2024-10-08T00:48:34.263Z"
   },
   {
    "duration": 16,
    "start_time": "2024-10-08T00:49:43.211Z"
   },
   {
    "duration": 13,
    "start_time": "2024-10-08T00:49:52.983Z"
   },
   {
    "duration": 159,
    "start_time": "2024-10-08T00:50:57.494Z"
   },
   {
    "duration": 117,
    "start_time": "2024-10-08T00:51:19.724Z"
   },
   {
    "duration": 112,
    "start_time": "2024-10-08T00:58:05.994Z"
   },
   {
    "duration": 11,
    "start_time": "2024-10-08T01:02:40.668Z"
   },
   {
    "duration": 13,
    "start_time": "2024-10-08T01:04:10.145Z"
   },
   {
    "duration": 12,
    "start_time": "2024-10-08T01:05:25.997Z"
   },
   {
    "duration": 11,
    "start_time": "2024-10-08T01:06:57.312Z"
   },
   {
    "duration": 11,
    "start_time": "2024-10-08T01:07:13.422Z"
   },
   {
    "duration": 115,
    "start_time": "2024-10-08T01:07:48.888Z"
   },
   {
    "duration": 12,
    "start_time": "2024-10-08T01:07:56.367Z"
   },
   {
    "duration": 108,
    "start_time": "2024-10-08T01:08:01.665Z"
   },
   {
    "duration": 113,
    "start_time": "2024-10-08T01:08:16.918Z"
   },
   {
    "duration": 12,
    "start_time": "2024-10-08T01:08:23.269Z"
   },
   {
    "duration": 203,
    "start_time": "2024-10-08T01:08:29.484Z"
   },
   {
    "duration": 12,
    "start_time": "2024-10-08T01:08:40.159Z"
   },
   {
    "duration": 205,
    "start_time": "2024-10-08T01:11:20.779Z"
   },
   {
    "duration": 209,
    "start_time": "2024-10-08T01:11:34.328Z"
   },
   {
    "duration": 208,
    "start_time": "2024-10-08T01:12:36.105Z"
   },
   {
    "duration": 246,
    "start_time": "2024-10-08T01:13:06.218Z"
   },
   {
    "duration": 210,
    "start_time": "2024-10-08T01:14:08.107Z"
   },
   {
    "duration": 197,
    "start_time": "2024-10-08T01:14:31.738Z"
   },
   {
    "duration": 192,
    "start_time": "2024-10-08T01:15:52.862Z"
   },
   {
    "duration": 190,
    "start_time": "2024-10-08T01:16:15.104Z"
   },
   {
    "duration": 212,
    "start_time": "2024-10-08T01:16:52.045Z"
   },
   {
    "duration": 116,
    "start_time": "2024-10-08T01:17:03.404Z"
   },
   {
    "duration": 96,
    "start_time": "2024-10-08T01:18:55.638Z"
   },
   {
    "duration": 113,
    "start_time": "2024-10-08T01:21:55.724Z"
   },
   {
    "duration": 5,
    "start_time": "2024-10-08T01:25:59.481Z"
   },
   {
    "duration": 157,
    "start_time": "2024-10-08T18:32:09.632Z"
   },
   {
    "duration": 12,
    "start_time": "2024-10-08T18:32:18.148Z"
   },
   {
    "duration": 291,
    "start_time": "2024-10-08T18:32:23.499Z"
   },
   {
    "duration": 1026,
    "start_time": "2024-10-08T18:32:25.519Z"
   },
   {
    "duration": 19,
    "start_time": "2024-10-08T18:32:29.269Z"
   },
   {
    "duration": 12,
    "start_time": "2024-10-08T18:32:31.888Z"
   },
   {
    "duration": 12,
    "start_time": "2024-10-08T18:32:34.326Z"
   },
   {
    "duration": 12,
    "start_time": "2024-10-08T18:32:36.844Z"
   },
   {
    "duration": 99,
    "start_time": "2024-10-08T18:32:43.333Z"
   },
   {
    "duration": 100,
    "start_time": "2024-10-08T18:36:49.759Z"
   },
   {
    "duration": 95,
    "start_time": "2024-10-08T18:36:52.585Z"
   },
   {
    "duration": 17,
    "start_time": "2024-10-08T18:36:56.262Z"
   },
   {
    "duration": 79,
    "start_time": "2024-10-08T18:36:59.733Z"
   },
   {
    "duration": 11,
    "start_time": "2024-10-08T18:39:51.911Z"
   },
   {
    "duration": 50,
    "start_time": "2024-10-08T18:43:25.372Z"
   },
   {
    "duration": 91,
    "start_time": "2024-10-08T18:45:06.102Z"
   },
   {
    "duration": 103,
    "start_time": "2024-10-08T18:45:08.196Z"
   },
   {
    "duration": 10,
    "start_time": "2024-10-08T18:45:11.510Z"
   },
   {
    "duration": 79,
    "start_time": "2024-10-08T18:46:15.935Z"
   },
   {
    "duration": 38,
    "start_time": "2024-10-08T18:49:41.059Z"
   },
   {
    "duration": 39,
    "start_time": "2024-10-08T18:50:11.608Z"
   },
   {
    "duration": 93,
    "start_time": "2024-10-08T18:50:30.694Z"
   },
   {
    "duration": 41,
    "start_time": "2024-10-08T18:51:02.328Z"
   },
   {
    "duration": 35,
    "start_time": "2024-10-08T18:51:26.388Z"
   },
   {
    "duration": 157,
    "start_time": "2024-10-08T18:52:44.230Z"
   },
   {
    "duration": 13,
    "start_time": "2024-10-08T18:52:47.984Z"
   },
   {
    "duration": 14,
    "start_time": "2024-10-08T18:52:57.531Z"
   },
   {
    "duration": 13,
    "start_time": "2024-10-08T18:53:49.500Z"
   },
   {
    "duration": 13,
    "start_time": "2024-10-08T18:53:56.291Z"
   },
   {
    "duration": 12,
    "start_time": "2024-10-08T18:54:03.668Z"
   },
   {
    "duration": 12,
    "start_time": "2024-10-08T18:54:21.982Z"
   },
   {
    "duration": 39,
    "start_time": "2024-10-08T18:54:29.343Z"
   },
   {
    "duration": 12,
    "start_time": "2024-10-08T18:54:33.385Z"
   },
   {
    "duration": 11,
    "start_time": "2024-10-08T18:54:36.705Z"
   },
   {
    "duration": 281,
    "start_time": "2024-10-08T18:54:40.983Z"
   },
   {
    "duration": 872,
    "start_time": "2024-10-08T18:54:42.727Z"
   },
   {
    "duration": 20,
    "start_time": "2024-10-08T18:54:45.806Z"
   },
   {
    "duration": 14,
    "start_time": "2024-10-08T18:54:48.969Z"
   },
   {
    "duration": 12,
    "start_time": "2024-10-08T18:54:53.447Z"
   },
   {
    "duration": 12,
    "start_time": "2024-10-08T18:54:57.106Z"
   },
   {
    "duration": 54,
    "start_time": "2024-10-08T18:55:02.383Z"
   },
   {
    "duration": 16,
    "start_time": "2024-10-08T18:55:05.834Z"
   },
   {
    "duration": 106,
    "start_time": "2024-10-08T18:55:09.444Z"
   },
   {
    "duration": 97,
    "start_time": "2024-10-08T18:55:11.745Z"
   },
   {
    "duration": 53,
    "start_time": "2024-10-08T18:55:14.529Z"
   },
   {
    "duration": 15,
    "start_time": "2024-10-08T18:55:21.112Z"
   },
   {
    "duration": 14,
    "start_time": "2024-10-08T18:55:27.577Z"
   },
   {
    "duration": 6,
    "start_time": "2024-10-08T18:59:50.173Z"
   },
   {
    "duration": 5,
    "start_time": "2024-10-08T18:59:54.939Z"
   },
   {
    "duration": 6,
    "start_time": "2024-10-08T19:03:56.152Z"
   },
   {
    "duration": 218,
    "start_time": "2024-10-08T19:05:12.343Z"
   },
   {
    "duration": 6,
    "start_time": "2024-10-08T19:05:29.327Z"
   },
   {
    "duration": 4,
    "start_time": "2024-10-08T19:05:33.491Z"
   },
   {
    "duration": 3,
    "start_time": "2024-10-08T19:05:39.741Z"
   },
   {
    "duration": 8,
    "start_time": "2024-10-08T19:05:45.649Z"
   },
   {
    "duration": 14,
    "start_time": "2024-10-08T19:08:36.072Z"
   },
   {
    "duration": 4,
    "start_time": "2024-10-08T19:08:59.481Z"
   },
   {
    "duration": 4,
    "start_time": "2024-10-08T19:09:12.419Z"
   },
   {
    "duration": 135,
    "start_time": "2024-10-08T19:09:17.308Z"
   },
   {
    "duration": 4,
    "start_time": "2024-10-08T19:09:30.513Z"
   },
   {
    "duration": 13,
    "start_time": "2024-10-08T19:09:38.636Z"
   },
   {
    "duration": 7,
    "start_time": "2024-10-08T19:09:40.163Z"
   },
   {
    "duration": 37,
    "start_time": "2024-10-08T19:09:42.660Z"
   },
   {
    "duration": 14,
    "start_time": "2024-10-08T19:12:51.969Z"
   },
   {
    "duration": 6,
    "start_time": "2024-10-08T19:12:56.970Z"
   },
   {
    "duration": 339,
    "start_time": "2024-10-08T19:13:57.805Z"
   },
   {
    "duration": 14,
    "start_time": "2024-10-08T19:14:07.507Z"
   },
   {
    "duration": 13,
    "start_time": "2024-10-08T19:14:15.645Z"
   },
   {
    "duration": 19,
    "start_time": "2024-10-08T19:14:41.657Z"
   },
   {
    "duration": 19,
    "start_time": "2024-10-08T19:15:01.342Z"
   },
   {
    "duration": 19,
    "start_time": "2024-10-08T19:15:20.866Z"
   },
   {
    "duration": 14,
    "start_time": "2024-10-08T19:15:36.192Z"
   },
   {
    "duration": 34,
    "start_time": "2024-10-08T19:21:18.723Z"
   },
   {
    "duration": 20,
    "start_time": "2024-10-08T19:21:53.990Z"
   },
   {
    "duration": 6,
    "start_time": "2024-10-08T19:21:59.380Z"
   },
   {
    "duration": 19,
    "start_time": "2024-10-08T19:24:59.573Z"
   },
   {
    "duration": 23,
    "start_time": "2024-10-08T19:29:18.922Z"
   },
   {
    "duration": 12,
    "start_time": "2024-10-08T19:38:42.253Z"
   },
   {
    "duration": 53,
    "start_time": "2024-10-08T19:38:51.641Z"
   },
   {
    "duration": 53,
    "start_time": "2024-10-08T19:38:56.522Z"
   },
   {
    "duration": 852,
    "start_time": "2024-10-08T19:39:06.156Z"
   },
   {
    "duration": 15,
    "start_time": "2024-10-08T19:39:07.828Z"
   },
   {
    "duration": 14,
    "start_time": "2024-10-08T19:39:09.995Z"
   },
   {
    "duration": 12,
    "start_time": "2024-10-08T19:39:13.189Z"
   },
   {
    "duration": 11,
    "start_time": "2024-10-08T19:39:15.954Z"
   },
   {
    "duration": 42,
    "start_time": "2024-10-08T19:42:23.780Z"
   },
   {
    "duration": 12,
    "start_time": "2024-10-08T19:42:28.522Z"
   },
   {
    "duration": 106,
    "start_time": "2024-10-08T19:42:31.774Z"
   },
   {
    "duration": 81,
    "start_time": "2024-10-08T19:42:34.151Z"
   },
   {
    "duration": 39,
    "start_time": "2024-10-08T19:42:37.005Z"
   },
   {
    "duration": 80,
    "start_time": "2024-10-08T19:43:29.739Z"
   },
   {
    "duration": 12,
    "start_time": "2024-10-08T19:43:37.277Z"
   },
   {
    "duration": 5,
    "start_time": "2024-10-08T19:55:11.614Z"
   },
   {
    "duration": 5,
    "start_time": "2024-10-08T19:56:09.836Z"
   },
   {
    "duration": 21,
    "start_time": "2024-10-08T19:56:37.406Z"
   },
   {
    "duration": 21,
    "start_time": "2024-10-08T19:57:02.742Z"
   },
   {
    "duration": 22,
    "start_time": "2024-10-08T19:57:08.179Z"
   },
   {
    "duration": 6,
    "start_time": "2024-10-08T19:57:38.902Z"
   },
   {
    "duration": 13,
    "start_time": "2024-10-08T19:58:03.708Z"
   },
   {
    "duration": 846,
    "start_time": "2024-10-08T19:58:19.176Z"
   },
   {
    "duration": 85,
    "start_time": "2024-10-08T20:02:19.856Z"
   },
   {
    "duration": 732,
    "start_time": "2024-10-08T20:06:37.363Z"
   },
   {
    "duration": 82,
    "start_time": "2024-10-08T20:06:58.591Z"
   },
   {
    "duration": 43,
    "start_time": "2024-10-08T20:07:29.236Z"
   },
   {
    "duration": 11,
    "start_time": "2024-10-08T20:07:44.979Z"
   },
   {
    "duration": 160,
    "start_time": "2024-10-09T22:43:36.316Z"
   },
   {
    "duration": 13,
    "start_time": "2024-10-09T22:43:51.900Z"
   },
   {
    "duration": 12,
    "start_time": "2024-10-09T22:44:02.303Z"
   },
   {
    "duration": 312,
    "start_time": "2024-10-09T22:44:08.086Z"
   },
   {
    "duration": 1106,
    "start_time": "2024-10-09T22:44:10.248Z"
   },
   {
    "duration": 17,
    "start_time": "2024-10-09T22:44:13.482Z"
   },
   {
    "duration": 14,
    "start_time": "2024-10-09T22:44:16.790Z"
   },
   {
    "duration": 14,
    "start_time": "2024-10-09T22:44:20.219Z"
   },
   {
    "duration": 12,
    "start_time": "2024-10-09T22:44:22.993Z"
   },
   {
    "duration": 58,
    "start_time": "2024-10-09T22:44:28.209Z"
   },
   {
    "duration": 12,
    "start_time": "2024-10-09T22:44:32.070Z"
   },
   {
    "duration": 22,
    "start_time": "2024-10-09T22:44:39.667Z"
   },
   {
    "duration": 23,
    "start_time": "2024-10-09T22:44:46.822Z"
   },
   {
    "duration": 24,
    "start_time": "2024-10-09T22:45:22.584Z"
   },
   {
    "duration": 111,
    "start_time": "2024-10-09T22:48:29.290Z"
   },
   {
    "duration": 114,
    "start_time": "2024-10-09T22:48:31.836Z"
   },
   {
    "duration": 226,
    "start_time": "2024-10-09T22:48:58.674Z"
   },
   {
    "duration": 219,
    "start_time": "2024-10-09T22:49:13.265Z"
   },
   {
    "duration": 481,
    "start_time": "2024-10-09T22:49:33.319Z"
   },
   {
    "duration": 39,
    "start_time": "2024-10-09T22:50:02.354Z"
   },
   {
    "duration": 52,
    "start_time": "2024-10-09T22:50:20.131Z"
   },
   {
    "duration": 163,
    "start_time": "2024-10-09T22:50:30.278Z"
   },
   {
    "duration": 10,
    "start_time": "2024-10-09T22:58:20.539Z"
   },
   {
    "duration": 6,
    "start_time": "2024-10-09T23:07:14.891Z"
   },
   {
    "duration": 400,
    "start_time": "2024-10-09T23:10:55.837Z"
   },
   {
    "duration": 7,
    "start_time": "2024-10-09T23:11:04.079Z"
   },
   {
    "duration": 6,
    "start_time": "2024-10-09T23:11:06.641Z"
   },
   {
    "duration": 16,
    "start_time": "2024-10-09T23:22:28.431Z"
   },
   {
    "duration": 7,
    "start_time": "2024-10-09T23:23:33.854Z"
   },
   {
    "duration": 7,
    "start_time": "2024-10-09T23:24:00.524Z"
   },
   {
    "duration": 10,
    "start_time": "2024-10-09T23:37:36.146Z"
   },
   {
    "duration": 9,
    "start_time": "2024-10-09T23:37:47.616Z"
   },
   {
    "duration": 9,
    "start_time": "2024-10-09T23:39:23.046Z"
   },
   {
    "duration": 10,
    "start_time": "2024-10-09T23:39:44.689Z"
   },
   {
    "duration": 11,
    "start_time": "2024-10-09T23:40:04.689Z"
   },
   {
    "duration": 8,
    "start_time": "2024-10-09T23:40:16.076Z"
   },
   {
    "duration": 5,
    "start_time": "2024-10-09T23:40:34.868Z"
   },
   {
    "duration": 4,
    "start_time": "2024-10-09T23:40:37.859Z"
   },
   {
    "duration": 9,
    "start_time": "2024-10-09T23:40:48.465Z"
   },
   {
    "duration": 12,
    "start_time": "2024-10-09T23:46:23.261Z"
   },
   {
    "duration": 7,
    "start_time": "2024-10-09T23:47:56.869Z"
   },
   {
    "duration": 11,
    "start_time": "2024-10-09T23:59:23.840Z"
   },
   {
    "duration": 12,
    "start_time": "2024-10-09T23:59:45.190Z"
   },
   {
    "duration": 11,
    "start_time": "2024-10-10T00:14:22.859Z"
   },
   {
    "duration": 17,
    "start_time": "2024-10-10T00:14:26.901Z"
   },
   {
    "duration": 24,
    "start_time": "2024-10-10T00:15:17.861Z"
   },
   {
    "duration": 18,
    "start_time": "2024-10-10T00:16:11.593Z"
   },
   {
    "duration": 20,
    "start_time": "2024-10-10T00:16:28.073Z"
   },
   {
    "duration": 45,
    "start_time": "2024-10-10T00:16:43.185Z"
   },
   {
    "duration": 5,
    "start_time": "2024-10-10T00:17:10.976Z"
   },
   {
    "duration": 4,
    "start_time": "2024-10-10T00:17:18.748Z"
   },
   {
    "duration": 33,
    "start_time": "2024-10-10T00:18:03.814Z"
   },
   {
    "duration": 33,
    "start_time": "2024-10-10T00:18:06.301Z"
   },
   {
    "duration": 34,
    "start_time": "2024-10-10T00:18:19.923Z"
   },
   {
    "duration": 38,
    "start_time": "2024-10-10T00:18:32.661Z"
   },
   {
    "duration": 33,
    "start_time": "2024-10-10T00:19:25.063Z"
   },
   {
    "duration": 32,
    "start_time": "2024-10-10T00:19:37.581Z"
   },
   {
    "duration": 28,
    "start_time": "2024-10-10T00:26:57.170Z"
   },
   {
    "duration": 4,
    "start_time": "2024-10-10T00:27:04.101Z"
   },
   {
    "duration": 33,
    "start_time": "2024-10-10T00:27:14.690Z"
   },
   {
    "duration": 6,
    "start_time": "2024-10-10T00:28:33.602Z"
   },
   {
    "duration": 7,
    "start_time": "2024-10-10T00:28:45.450Z"
   },
   {
    "duration": 8,
    "start_time": "2024-10-10T00:29:02.045Z"
   },
   {
    "duration": 7,
    "start_time": "2024-10-10T00:29:12.031Z"
   },
   {
    "duration": 63,
    "start_time": "2024-10-10T00:32:02.547Z"
   },
   {
    "duration": 63,
    "start_time": "2024-10-10T00:34:11.187Z"
   },
   {
    "duration": 63,
    "start_time": "2024-10-10T01:00:54.420Z"
   },
   {
    "duration": 38,
    "start_time": "2024-10-10T01:07:03.159Z"
   },
   {
    "duration": 36,
    "start_time": "2024-10-10T01:07:15.293Z"
   },
   {
    "duration": 44,
    "start_time": "2024-10-10T01:07:51.297Z"
   },
   {
    "duration": 36,
    "start_time": "2024-10-10T01:07:53.678Z"
   },
   {
    "duration": 63,
    "start_time": "2024-10-10T01:10:00.457Z"
   },
   {
    "duration": 40,
    "start_time": "2024-10-10T01:10:19.455Z"
   },
   {
    "duration": 39,
    "start_time": "2024-10-10T01:10:25.743Z"
   },
   {
    "duration": 37,
    "start_time": "2024-10-10T01:10:48.869Z"
   },
   {
    "duration": 108,
    "start_time": "2024-10-10T01:12:18.314Z"
   },
   {
    "duration": 57,
    "start_time": "2024-10-10T01:12:25.323Z"
   },
   {
    "duration": 39,
    "start_time": "2024-10-10T01:13:54.698Z"
   },
   {
    "duration": 83,
    "start_time": "2024-10-10T01:14:00.760Z"
   },
   {
    "duration": 13,
    "start_time": "2024-10-10T01:52:09.043Z"
   },
   {
    "duration": 13,
    "start_time": "2024-10-10T01:56:36.677Z"
   },
   {
    "duration": 86,
    "start_time": "2024-10-10T01:57:13.933Z"
   },
   {
    "duration": 12,
    "start_time": "2024-10-10T02:01:21.605Z"
   },
   {
    "duration": 6,
    "start_time": "2024-10-10T02:01:30.730Z"
   },
   {
    "duration": 4,
    "start_time": "2024-10-10T02:02:35.575Z"
   },
   {
    "duration": 26,
    "start_time": "2024-10-10T02:02:55.955Z"
   },
   {
    "duration": 42,
    "start_time": "2024-10-10T02:03:26.080Z"
   },
   {
    "duration": 20,
    "start_time": "2024-10-10T02:03:48.440Z"
   },
   {
    "duration": 26,
    "start_time": "2024-10-10T02:03:55.041Z"
   },
   {
    "duration": 20,
    "start_time": "2024-10-10T02:03:58.053Z"
   },
   {
    "duration": 0,
    "start_time": "2024-10-10T02:27:32.121Z"
   },
   {
    "duration": 172,
    "start_time": "2024-10-10T02:27:34.495Z"
   },
   {
    "duration": 178,
    "start_time": "2024-10-10T02:27:39.388Z"
   },
   {
    "duration": 723,
    "start_time": "2024-10-10T02:27:56.491Z"
   },
   {
    "duration": 172,
    "start_time": "2024-10-10T02:28:11.718Z"
   },
   {
    "duration": 155,
    "start_time": "2024-10-10T02:28:22.431Z"
   },
   {
    "duration": 158,
    "start_time": "2024-10-10T02:28:51.687Z"
   },
   {
    "duration": 155,
    "start_time": "2024-10-10T02:29:10.221Z"
   },
   {
    "duration": 268,
    "start_time": "2024-10-10T02:34:59.041Z"
   },
   {
    "duration": 157,
    "start_time": "2024-10-10T02:35:21.782Z"
   },
   {
    "duration": 162,
    "start_time": "2024-10-10T02:37:08.235Z"
   },
   {
    "duration": 158,
    "start_time": "2024-10-10T02:37:19.867Z"
   },
   {
    "duration": 156,
    "start_time": "2024-10-10T02:38:24.137Z"
   },
   {
    "duration": 147,
    "start_time": "2024-10-10T02:41:50.060Z"
   },
   {
    "duration": 140,
    "start_time": "2024-10-10T02:41:57.227Z"
   },
   {
    "duration": 144,
    "start_time": "2024-10-10T02:55:42.277Z"
   },
   {
    "duration": 145,
    "start_time": "2024-10-10T03:00:20.267Z"
   },
   {
    "duration": 160,
    "start_time": "2024-10-10T03:00:39.835Z"
   },
   {
    "duration": 156,
    "start_time": "2024-10-10T03:06:25.906Z"
   },
   {
    "duration": 2259,
    "start_time": "2024-10-10T21:21:12.824Z"
   },
   {
    "duration": 14,
    "start_time": "2024-10-10T21:21:17.395Z"
   },
   {
    "duration": 159,
    "start_time": "2024-10-10T21:21:27.711Z"
   },
   {
    "duration": 1077,
    "start_time": "2024-10-10T21:21:29.803Z"
   },
   {
    "duration": 165,
    "start_time": "2024-10-10T21:21:44.286Z"
   },
   {
    "duration": 143,
    "start_time": "2024-10-10T21:22:33.405Z"
   },
   {
    "duration": 6,
    "start_time": "2024-10-10T21:27:59.655Z"
   },
   {
    "duration": 143,
    "start_time": "2024-10-10T21:28:03.964Z"
   },
   {
    "duration": 1218,
    "start_time": "2024-10-10T21:28:37.373Z"
   },
   {
    "duration": 728,
    "start_time": "2024-10-10T21:28:43.241Z"
   },
   {
    "duration": 815,
    "start_time": "2024-10-10T21:28:46.288Z"
   },
   {
    "duration": 729,
    "start_time": "2024-10-10T21:29:25.777Z"
   },
   {
    "duration": 725,
    "start_time": "2024-10-10T21:29:36.157Z"
   },
   {
    "duration": 151,
    "start_time": "2024-10-10T21:29:45.982Z"
   },
   {
    "duration": 752,
    "start_time": "2024-10-10T21:30:22.881Z"
   },
   {
    "duration": 757,
    "start_time": "2024-10-10T21:30:28.082Z"
   },
   {
    "duration": 752,
    "start_time": "2024-10-10T21:30:32.167Z"
   },
   {
    "duration": 162,
    "start_time": "2024-10-10T21:33:04.742Z"
   },
   {
    "duration": 12,
    "start_time": "2024-10-10T21:33:11.636Z"
   },
   {
    "duration": 13,
    "start_time": "2024-10-10T21:33:23.726Z"
   },
   {
    "duration": 21,
    "start_time": "2024-10-10T21:33:26.874Z"
   },
   {
    "duration": 489,
    "start_time": "2024-10-10T21:33:31.546Z"
   },
   {
    "duration": 2,
    "start_time": "2024-10-10T21:33:34.046Z"
   },
   {
    "duration": 1049,
    "start_time": "2024-10-10T21:33:35.723Z"
   },
   {
    "duration": 18,
    "start_time": "2024-10-10T21:33:38.984Z"
   },
   {
    "duration": 16,
    "start_time": "2024-10-10T21:33:41.678Z"
   },
   {
    "duration": 13,
    "start_time": "2024-10-10T21:33:45.620Z"
   },
   {
    "duration": 54,
    "start_time": "2024-10-10T21:33:49.394Z"
   },
   {
    "duration": 7,
    "start_time": "2024-10-10T21:36:07.884Z"
   },
   {
    "duration": 3,
    "start_time": "2024-10-10T21:36:15.551Z"
   },
   {
    "duration": 3,
    "start_time": "2024-10-10T21:36:45.632Z"
   },
   {
    "duration": 3,
    "start_time": "2024-10-10T21:37:33.836Z"
   },
   {
    "duration": 4,
    "start_time": "2024-10-10T21:39:26.361Z"
   },
   {
    "duration": 4,
    "start_time": "2024-10-10T21:40:13.645Z"
   },
   {
    "duration": 465,
    "start_time": "2024-10-10T21:40:55.030Z"
   },
   {
    "duration": 2,
    "start_time": "2024-10-10T21:40:58.064Z"
   },
   {
    "duration": 1054,
    "start_time": "2024-10-10T21:40:59.965Z"
   },
   {
    "duration": 854,
    "start_time": "2024-10-10T21:41:04.424Z"
   },
   {
    "duration": 441,
    "start_time": "2024-10-10T21:41:26.431Z"
   },
   {
    "duration": 906,
    "start_time": "2024-10-10T21:41:26.874Z"
   },
   {
    "duration": 24,
    "start_time": "2024-10-10T21:41:27.782Z"
   },
   {
    "duration": 14,
    "start_time": "2024-10-10T21:41:27.807Z"
   },
   {
    "duration": 11,
    "start_time": "2024-10-10T21:41:27.823Z"
   },
   {
    "duration": 11,
    "start_time": "2024-10-10T21:41:27.836Z"
   },
   {
    "duration": 11,
    "start_time": "2024-10-10T21:41:27.849Z"
   },
   {
    "duration": 90,
    "start_time": "2024-10-10T21:41:27.861Z"
   },
   {
    "duration": 12,
    "start_time": "2024-10-10T21:41:27.953Z"
   },
   {
    "duration": 118,
    "start_time": "2024-10-10T21:41:27.967Z"
   },
   {
    "duration": 104,
    "start_time": "2024-10-10T21:41:28.087Z"
   },
   {
    "duration": 61,
    "start_time": "2024-10-10T21:41:28.193Z"
   },
   {
    "duration": 15,
    "start_time": "2024-10-10T21:41:28.255Z"
   },
   {
    "duration": 5,
    "start_time": "2024-10-10T21:41:28.274Z"
   },
   {
    "duration": 38,
    "start_time": "2024-10-10T21:41:28.281Z"
   },
   {
    "duration": 27,
    "start_time": "2024-10-10T21:41:28.321Z"
   },
   {
    "duration": 5,
    "start_time": "2024-10-10T21:41:28.350Z"
   },
   {
    "duration": 6,
    "start_time": "2024-10-10T21:41:28.357Z"
   },
   {
    "duration": 4,
    "start_time": "2024-10-10T21:41:28.364Z"
   },
   {
    "duration": 37,
    "start_time": "2024-10-10T21:41:28.370Z"
   },
   {
    "duration": 802,
    "start_time": "2024-10-10T21:41:28.408Z"
   },
   {
    "duration": 169,
    "start_time": "2024-10-10T21:41:29.212Z"
   },
   {
    "duration": 23,
    "start_time": "2024-10-10T21:41:29.383Z"
   },
   {
    "duration": 8,
    "start_time": "2024-10-10T21:41:29.408Z"
   },
   {
    "duration": 7,
    "start_time": "2024-10-10T21:41:29.419Z"
   },
   {
    "duration": 9,
    "start_time": "2024-10-10T21:41:29.428Z"
   },
   {
    "duration": 10,
    "start_time": "2024-10-10T21:41:29.439Z"
   },
   {
    "duration": 5,
    "start_time": "2024-10-10T21:41:29.451Z"
   },
   {
    "duration": 11,
    "start_time": "2024-10-10T21:41:29.458Z"
   },
   {
    "duration": 24,
    "start_time": "2024-10-10T21:41:29.505Z"
   },
   {
    "duration": 31,
    "start_time": "2024-10-10T21:41:29.530Z"
   },
   {
    "duration": 7,
    "start_time": "2024-10-10T21:41:29.563Z"
   },
   {
    "duration": 87,
    "start_time": "2024-10-10T21:41:29.572Z"
   },
   {
    "duration": 26,
    "start_time": "2024-10-10T21:41:29.660Z"
   },
   {
    "duration": 39,
    "start_time": "2024-10-10T21:41:29.688Z"
   },
   {
    "duration": 20,
    "start_time": "2024-10-10T21:41:29.729Z"
   },
   {
    "duration": 421,
    "start_time": "2024-10-10T22:04:55.888Z"
   },
   {
    "duration": 1105,
    "start_time": "2024-10-10T22:04:56.311Z"
   },
   {
    "duration": 19,
    "start_time": "2024-10-10T22:04:57.418Z"
   },
   {
    "duration": 13,
    "start_time": "2024-10-10T22:04:57.439Z"
   },
   {
    "duration": 11,
    "start_time": "2024-10-10T22:04:57.454Z"
   },
   {
    "duration": 44,
    "start_time": "2024-10-10T22:04:57.467Z"
   },
   {
    "duration": 12,
    "start_time": "2024-10-10T22:04:57.513Z"
   },
   {
    "duration": 63,
    "start_time": "2024-10-10T22:04:57.527Z"
   },
   {
    "duration": 23,
    "start_time": "2024-10-10T22:04:57.592Z"
   },
   {
    "duration": 119,
    "start_time": "2024-10-10T22:04:57.619Z"
   },
   {
    "duration": 108,
    "start_time": "2024-10-10T22:04:57.740Z"
   },
   {
    "duration": 64,
    "start_time": "2024-10-10T22:04:57.850Z"
   },
   {
    "duration": 16,
    "start_time": "2024-10-10T22:04:57.916Z"
   },
   {
    "duration": 6,
    "start_time": "2024-10-10T22:04:57.934Z"
   },
   {
    "duration": 21,
    "start_time": "2024-10-10T22:04:57.941Z"
   },
   {
    "duration": 48,
    "start_time": "2024-10-10T22:04:57.963Z"
   },
   {
    "duration": 6,
    "start_time": "2024-10-10T22:04:58.013Z"
   },
   {
    "duration": 4,
    "start_time": "2024-10-10T22:04:58.021Z"
   },
   {
    "duration": 5,
    "start_time": "2024-10-10T22:04:58.027Z"
   },
   {
    "duration": 4,
    "start_time": "2024-10-10T22:04:58.034Z"
   },
   {
    "duration": 861,
    "start_time": "2024-10-10T22:04:58.040Z"
   },
   {
    "duration": 172,
    "start_time": "2024-10-10T22:04:58.905Z"
   },
   {
    "duration": 11,
    "start_time": "2024-10-10T22:04:59.078Z"
   },
   {
    "duration": 19,
    "start_time": "2024-10-10T22:04:59.091Z"
   },
   {
    "duration": 7,
    "start_time": "2024-10-10T22:04:59.112Z"
   },
   {
    "duration": 7,
    "start_time": "2024-10-10T22:04:59.121Z"
   },
   {
    "duration": 10,
    "start_time": "2024-10-10T22:04:59.130Z"
   },
   {
    "duration": 7,
    "start_time": "2024-10-10T22:04:59.144Z"
   },
   {
    "duration": 11,
    "start_time": "2024-10-10T22:04:59.153Z"
   },
   {
    "duration": 61,
    "start_time": "2024-10-10T22:04:59.165Z"
   },
   {
    "duration": 31,
    "start_time": "2024-10-10T22:04:59.227Z"
   },
   {
    "duration": 7,
    "start_time": "2024-10-10T22:04:59.260Z"
   },
   {
    "duration": 87,
    "start_time": "2024-10-10T22:04:59.269Z"
   },
   {
    "duration": 26,
    "start_time": "2024-10-10T22:04:59.358Z"
   },
   {
    "duration": 39,
    "start_time": "2024-10-10T22:04:59.387Z"
   },
   {
    "duration": 21,
    "start_time": "2024-10-10T22:04:59.427Z"
   },
   {
    "duration": 2247,
    "start_time": "2024-10-10T23:59:30.417Z"
   },
   {
    "duration": 1038,
    "start_time": "2024-10-10T23:59:32.667Z"
   },
   {
    "duration": 448,
    "start_time": "2024-10-11T00:08:09.250Z"
   },
   {
    "duration": 1063,
    "start_time": "2024-10-11T00:08:09.700Z"
   },
   {
    "duration": 16,
    "start_time": "2024-10-11T00:08:10.765Z"
   },
   {
    "duration": 21,
    "start_time": "2024-10-11T00:08:10.785Z"
   },
   {
    "duration": 12,
    "start_time": "2024-10-11T00:08:10.809Z"
   },
   {
    "duration": 10,
    "start_time": "2024-10-11T00:08:10.824Z"
   },
   {
    "duration": 12,
    "start_time": "2024-10-11T00:08:10.836Z"
   },
   {
    "duration": 89,
    "start_time": "2024-10-11T00:08:10.850Z"
   },
   {
    "duration": 12,
    "start_time": "2024-10-11T00:08:10.940Z"
   },
   {
    "duration": 118,
    "start_time": "2024-10-11T00:08:10.954Z"
   },
   {
    "duration": 105,
    "start_time": "2024-10-11T00:08:11.074Z"
   },
   {
    "duration": 61,
    "start_time": "2024-10-11T00:08:11.181Z"
   },
   {
    "duration": 12,
    "start_time": "2024-10-11T00:08:11.244Z"
   },
   {
    "duration": 5,
    "start_time": "2024-10-11T00:08:11.260Z"
   },
   {
    "duration": 40,
    "start_time": "2024-10-11T00:08:11.267Z"
   },
   {
    "duration": 23,
    "start_time": "2024-10-11T00:08:11.309Z"
   },
   {
    "duration": 4,
    "start_time": "2024-10-11T00:08:11.334Z"
   },
   {
    "duration": 5,
    "start_time": "2024-10-11T00:08:11.340Z"
   },
   {
    "duration": 5,
    "start_time": "2024-10-11T00:08:11.347Z"
   },
   {
    "duration": 5,
    "start_time": "2024-10-11T00:08:11.353Z"
   },
   {
    "duration": 851,
    "start_time": "2024-10-11T00:08:11.360Z"
   },
   {
    "duration": 169,
    "start_time": "2024-10-11T00:08:12.212Z"
   },
   {
    "duration": 11,
    "start_time": "2024-10-11T00:08:12.383Z"
   },
   {
    "duration": 8,
    "start_time": "2024-10-11T00:08:12.405Z"
   },
   {
    "duration": 8,
    "start_time": "2024-10-11T00:08:12.414Z"
   },
   {
    "duration": 9,
    "start_time": "2024-10-11T00:08:12.424Z"
   },
   {
    "duration": 11,
    "start_time": "2024-10-11T00:08:12.435Z"
   },
   {
    "duration": 8,
    "start_time": "2024-10-11T00:08:12.448Z"
   },
   {
    "duration": 12,
    "start_time": "2024-10-11T00:08:12.458Z"
   },
   {
    "duration": 30,
    "start_time": "2024-10-11T00:08:12.506Z"
   },
   {
    "duration": 32,
    "start_time": "2024-10-11T00:08:12.538Z"
   },
   {
    "duration": 7,
    "start_time": "2024-10-11T00:08:12.572Z"
   },
   {
    "duration": 67,
    "start_time": "2024-10-11T00:08:12.604Z"
   },
   {
    "duration": 34,
    "start_time": "2024-10-11T00:08:12.672Z"
   },
   {
    "duration": 27,
    "start_time": "2024-10-11T00:08:12.709Z"
   },
   {
    "duration": 21,
    "start_time": "2024-10-11T00:08:12.738Z"
   },
   {
    "duration": 424,
    "start_time": "2024-10-11T00:10:55.085Z"
   },
   {
    "duration": 1070,
    "start_time": "2024-10-11T00:10:55.511Z"
   },
   {
    "duration": 23,
    "start_time": "2024-10-11T00:10:56.583Z"
   },
   {
    "duration": 14,
    "start_time": "2024-10-11T00:10:56.608Z"
   },
   {
    "duration": 12,
    "start_time": "2024-10-11T00:10:56.625Z"
   },
   {
    "duration": 11,
    "start_time": "2024-10-11T00:10:56.638Z"
   },
   {
    "duration": 11,
    "start_time": "2024-10-11T00:10:56.651Z"
   },
   {
    "duration": 97,
    "start_time": "2024-10-11T00:10:56.663Z"
   },
   {
    "duration": 12,
    "start_time": "2024-10-11T00:10:56.763Z"
   },
   {
    "duration": 124,
    "start_time": "2024-10-11T00:10:56.776Z"
   },
   {
    "duration": 103,
    "start_time": "2024-10-11T00:10:56.902Z"
   },
   {
    "duration": 57,
    "start_time": "2024-10-11T00:10:57.007Z"
   },
   {
    "duration": 14,
    "start_time": "2024-10-11T00:10:57.065Z"
   },
   {
    "duration": 23,
    "start_time": "2024-10-11T00:10:57.084Z"
   },
   {
    "duration": 24,
    "start_time": "2024-10-11T00:10:57.109Z"
   },
   {
    "duration": 25,
    "start_time": "2024-10-11T00:10:57.135Z"
   },
   {
    "duration": 5,
    "start_time": "2024-10-11T00:10:57.162Z"
   },
   {
    "duration": 40,
    "start_time": "2024-10-11T00:10:57.169Z"
   },
   {
    "duration": 5,
    "start_time": "2024-10-11T00:10:57.211Z"
   },
   {
    "duration": 4,
    "start_time": "2024-10-11T00:10:57.218Z"
   },
   {
    "duration": 845,
    "start_time": "2024-10-11T00:10:57.224Z"
   },
   {
    "duration": 166,
    "start_time": "2024-10-11T00:10:58.071Z"
   },
   {
    "duration": 11,
    "start_time": "2024-10-11T00:10:58.239Z"
   },
   {
    "duration": 7,
    "start_time": "2024-10-11T00:10:58.251Z"
   },
   {
    "duration": 6,
    "start_time": "2024-10-11T00:10:58.259Z"
   },
   {
    "duration": 7,
    "start_time": "2024-10-11T00:10:58.267Z"
   },
   {
    "duration": 37,
    "start_time": "2024-10-11T00:10:58.276Z"
   },
   {
    "duration": 8,
    "start_time": "2024-10-11T00:10:58.314Z"
   },
   {
    "duration": 12,
    "start_time": "2024-10-11T00:10:58.323Z"
   },
   {
    "duration": 24,
    "start_time": "2024-10-11T00:10:58.337Z"
   },
   {
    "duration": 60,
    "start_time": "2024-10-11T00:10:58.363Z"
   },
   {
    "duration": 7,
    "start_time": "2024-10-11T00:10:58.424Z"
   },
   {
    "duration": 75,
    "start_time": "2024-10-11T00:10:58.432Z"
   },
   {
    "duration": 30,
    "start_time": "2024-10-11T00:10:58.509Z"
   },
   {
    "duration": 36,
    "start_time": "2024-10-11T00:10:58.541Z"
   },
   {
    "duration": 38,
    "start_time": "2024-10-11T00:10:58.579Z"
   },
   {
    "duration": 6,
    "start_time": "2024-10-11T00:24:56.488Z"
   },
   {
    "duration": 6,
    "start_time": "2024-10-11T00:25:10.333Z"
   },
   {
    "duration": 5,
    "start_time": "2024-10-11T00:25:12.265Z"
   },
   {
    "duration": 2,
    "start_time": "2024-10-11T00:25:17.744Z"
   },
   {
    "duration": 5,
    "start_time": "2024-10-11T00:25:19.722Z"
   },
   {
    "duration": 6,
    "start_time": "2024-10-11T00:25:34.146Z"
   },
   {
    "duration": 179,
    "start_time": "2024-10-11T00:31:52.800Z"
   },
   {
    "duration": 174,
    "start_time": "2024-10-11T00:32:45.886Z"
   },
   {
    "duration": 172,
    "start_time": "2024-10-11T00:34:39.236Z"
   },
   {
    "duration": 5,
    "start_time": "2024-10-11T00:36:04.392Z"
   },
   {
    "duration": 7,
    "start_time": "2024-10-11T00:36:27.482Z"
   },
   {
    "duration": 120,
    "start_time": "2024-10-11T00:38:23.098Z"
   },
   {
    "duration": 119,
    "start_time": "2024-10-11T00:38:42.447Z"
   },
   {
    "duration": 177,
    "start_time": "2024-10-11T00:40:01.046Z"
   },
   {
    "duration": 6,
    "start_time": "2024-10-11T00:42:28.600Z"
   },
   {
    "duration": 114,
    "start_time": "2024-10-11T00:43:33.323Z"
   },
   {
    "duration": 8,
    "start_time": "2024-10-11T00:58:38.275Z"
   },
   {
    "duration": 205,
    "start_time": "2024-10-11T00:59:42.652Z"
   },
   {
    "duration": 202,
    "start_time": "2024-10-11T01:00:00.189Z"
   },
   {
    "duration": 255,
    "start_time": "2024-10-11T01:12:08.111Z"
   },
   {
    "duration": 197,
    "start_time": "2024-10-11T01:12:47.218Z"
   },
   {
    "duration": 187,
    "start_time": "2024-10-11T01:16:39.126Z"
   },
   {
    "duration": 15,
    "start_time": "2024-10-11T01:16:52.500Z"
   },
   {
    "duration": 14,
    "start_time": "2024-10-11T01:32:51.996Z"
   },
   {
    "duration": 15,
    "start_time": "2024-10-11T01:33:03.938Z"
   },
   {
    "duration": 15,
    "start_time": "2024-10-11T01:33:06.618Z"
   },
   {
    "duration": 13,
    "start_time": "2024-10-11T01:33:20.140Z"
   },
   {
    "duration": 14,
    "start_time": "2024-10-11T01:33:22.281Z"
   },
   {
    "duration": 15,
    "start_time": "2024-10-11T01:33:59.136Z"
   },
   {
    "duration": 14,
    "start_time": "2024-10-11T01:34:51.227Z"
   },
   {
    "duration": 272,
    "start_time": "2024-10-11T01:36:39.319Z"
   },
   {
    "duration": 269,
    "start_time": "2024-10-11T01:37:04.859Z"
   },
   {
    "duration": 5,
    "start_time": "2024-10-11T01:44:35.829Z"
   },
   {
    "duration": 461,
    "start_time": "2024-10-11T01:47:25.741Z"
   },
   {
    "duration": 1115,
    "start_time": "2024-10-11T01:47:26.204Z"
   },
   {
    "duration": 19,
    "start_time": "2024-10-11T01:47:27.321Z"
   },
   {
    "duration": 13,
    "start_time": "2024-10-11T01:47:27.342Z"
   },
   {
    "duration": 12,
    "start_time": "2024-10-11T01:47:27.358Z"
   },
   {
    "duration": 39,
    "start_time": "2024-10-11T01:47:27.372Z"
   },
   {
    "duration": 14,
    "start_time": "2024-10-11T01:47:27.413Z"
   },
   {
    "duration": 76,
    "start_time": "2024-10-11T01:47:27.429Z"
   },
   {
    "duration": 12,
    "start_time": "2024-10-11T01:47:27.507Z"
   },
   {
    "duration": 123,
    "start_time": "2024-10-11T01:47:27.522Z"
   },
   {
    "duration": 104,
    "start_time": "2024-10-11T01:47:27.647Z"
   },
   {
    "duration": 64,
    "start_time": "2024-10-11T01:47:27.752Z"
   },
   {
    "duration": 13,
    "start_time": "2024-10-11T01:47:27.818Z"
   },
   {
    "duration": 6,
    "start_time": "2024-10-11T01:47:27.834Z"
   },
   {
    "duration": 20,
    "start_time": "2024-10-11T01:47:27.842Z"
   },
   {
    "duration": 48,
    "start_time": "2024-10-11T01:47:27.864Z"
   },
   {
    "duration": 4,
    "start_time": "2024-10-11T01:47:27.914Z"
   },
   {
    "duration": 4,
    "start_time": "2024-10-11T01:47:27.920Z"
   },
   {
    "duration": 5,
    "start_time": "2024-10-11T01:47:27.926Z"
   },
   {
    "duration": 4,
    "start_time": "2024-10-11T01:47:27.933Z"
   },
   {
    "duration": 890,
    "start_time": "2024-10-11T01:47:27.938Z"
   },
   {
    "duration": 169,
    "start_time": "2024-10-11T01:47:28.831Z"
   },
   {
    "duration": 10,
    "start_time": "2024-10-11T01:47:29.005Z"
   },
   {
    "duration": 7,
    "start_time": "2024-10-11T01:47:29.017Z"
   },
   {
    "duration": 6,
    "start_time": "2024-10-11T01:47:29.026Z"
   },
   {
    "duration": 7,
    "start_time": "2024-10-11T01:47:29.034Z"
   },
   {
    "duration": 9,
    "start_time": "2024-10-11T01:47:29.043Z"
   },
   {
    "duration": 7,
    "start_time": "2024-10-11T01:47:29.054Z"
   },
   {
    "duration": 52,
    "start_time": "2024-10-11T01:47:29.062Z"
   },
   {
    "duration": 23,
    "start_time": "2024-10-11T01:47:29.115Z"
   },
   {
    "duration": 32,
    "start_time": "2024-10-11T01:47:29.140Z"
   },
   {
    "duration": 31,
    "start_time": "2024-10-11T01:47:29.175Z"
   },
   {
    "duration": 63,
    "start_time": "2024-10-11T01:47:29.207Z"
   },
   {
    "duration": 39,
    "start_time": "2024-10-11T01:47:29.273Z"
   },
   {
    "duration": 5,
    "start_time": "2024-10-11T01:47:29.314Z"
   },
   {
    "duration": 199,
    "start_time": "2024-10-11T01:47:29.323Z"
   },
   {
    "duration": 186,
    "start_time": "2024-10-11T01:47:29.523Z"
   },
   {
    "duration": 122,
    "start_time": "2024-10-11T01:47:29.711Z"
   },
   {
    "duration": 211,
    "start_time": "2024-10-11T01:47:29.835Z"
   },
   {
    "duration": 14,
    "start_time": "2024-10-11T01:47:30.048Z"
   },
   {
    "duration": 294,
    "start_time": "2024-10-11T01:47:30.068Z"
   },
   {
    "duration": 6,
    "start_time": "2024-10-11T01:47:30.365Z"
   },
   {
    "duration": 97,
    "start_time": "2024-10-11T01:50:14.617Z"
   },
   {
    "duration": 10,
    "start_time": "2024-10-11T01:50:24.481Z"
   },
   {
    "duration": 2,
    "start_time": "2024-10-11T01:50:34.665Z"
   },
   {
    "duration": 874,
    "start_time": "2024-10-11T01:50:37.076Z"
   },
   {
    "duration": 10,
    "start_time": "2024-10-11T01:50:48.498Z"
   },
   {
    "duration": 7,
    "start_time": "2024-10-11T01:51:11.804Z"
   },
   {
    "duration": 161,
    "start_time": "2024-10-11T01:56:56.790Z"
   },
   {
    "duration": 13,
    "start_time": "2024-10-11T01:57:13.993Z"
   },
   {
    "duration": 6,
    "start_time": "2024-10-11T01:57:18.509Z"
   },
   {
    "duration": 5,
    "start_time": "2024-10-11T01:59:26.745Z"
   },
   {
    "duration": 4,
    "start_time": "2024-10-11T01:59:39.297Z"
   },
   {
    "duration": 3,
    "start_time": "2024-10-11T01:59:50.902Z"
   },
   {
    "duration": 670,
    "start_time": "2024-10-11T02:00:20.646Z"
   },
   {
    "duration": 16,
    "start_time": "2024-10-11T02:00:30.434Z"
   },
   {
    "duration": 355,
    "start_time": "2024-10-11T02:02:00.301Z"
   },
   {
    "duration": 14,
    "start_time": "2024-10-11T02:02:22.636Z"
   },
   {
    "duration": 335,
    "start_time": "2024-10-11T02:02:40.556Z"
   },
   {
    "duration": 723,
    "start_time": "2024-10-11T02:03:51.975Z"
   },
   {
    "duration": 833,
    "start_time": "2024-10-11T02:04:06.564Z"
   },
   {
    "duration": 14,
    "start_time": "2024-10-11T02:04:18.010Z"
   },
   {
    "duration": 3,
    "start_time": "2024-10-11T02:04:23.017Z"
   },
   {
    "duration": 4,
    "start_time": "2024-10-11T02:04:42.021Z"
   },
   {
    "duration": 323,
    "start_time": "2024-10-11T02:05:51.445Z"
   },
   {
    "duration": 218,
    "start_time": "2024-10-11T02:06:25.246Z"
   },
   {
    "duration": 1064,
    "start_time": "2024-10-11T02:08:34.877Z"
   },
   {
    "duration": 2495,
    "start_time": "2024-10-11T02:08:43.070Z"
   },
   {
    "duration": 203,
    "start_time": "2024-10-11T02:08:45.949Z"
   },
   {
    "duration": 2877,
    "start_time": "2024-10-11T02:08:49.222Z"
   },
   {
    "duration": 438,
    "start_time": "2024-10-11T02:11:13.574Z"
   },
   {
    "duration": 1146,
    "start_time": "2024-10-11T02:11:14.014Z"
   },
   {
    "duration": 19,
    "start_time": "2024-10-11T02:11:15.163Z"
   },
   {
    "duration": 25,
    "start_time": "2024-10-11T02:11:15.184Z"
   },
   {
    "duration": 12,
    "start_time": "2024-10-11T02:11:15.212Z"
   },
   {
    "duration": 12,
    "start_time": "2024-10-11T02:11:15.226Z"
   },
   {
    "duration": 11,
    "start_time": "2024-10-11T02:11:15.239Z"
   },
   {
    "duration": 86,
    "start_time": "2024-10-11T02:11:15.252Z"
   },
   {
    "duration": 12,
    "start_time": "2024-10-11T02:11:15.339Z"
   },
   {
    "duration": 122,
    "start_time": "2024-10-11T02:11:15.352Z"
   },
   {
    "duration": 114,
    "start_time": "2024-10-11T02:11:15.476Z"
   },
   {
    "duration": 63,
    "start_time": "2024-10-11T02:11:15.592Z"
   },
   {
    "duration": 14,
    "start_time": "2024-10-11T02:11:15.656Z"
   },
   {
    "duration": 6,
    "start_time": "2024-10-11T02:11:15.673Z"
   },
   {
    "duration": 42,
    "start_time": "2024-10-11T02:11:15.680Z"
   },
   {
    "duration": 22,
    "start_time": "2024-10-11T02:11:15.724Z"
   },
   {
    "duration": 5,
    "start_time": "2024-10-11T02:11:15.747Z"
   },
   {
    "duration": 5,
    "start_time": "2024-10-11T02:11:15.753Z"
   },
   {
    "duration": 4,
    "start_time": "2024-10-11T02:11:15.760Z"
   },
   {
    "duration": 40,
    "start_time": "2024-10-11T02:11:15.766Z"
   },
   {
    "duration": 837,
    "start_time": "2024-10-11T02:11:15.808Z"
   },
   {
    "duration": 215,
    "start_time": "2024-10-11T02:11:16.647Z"
   },
   {
    "duration": 11,
    "start_time": "2024-10-11T02:11:16.865Z"
   },
   {
    "duration": 7,
    "start_time": "2024-10-11T02:11:16.878Z"
   },
   {
    "duration": 23,
    "start_time": "2024-10-11T02:11:16.887Z"
   },
   {
    "duration": 8,
    "start_time": "2024-10-11T02:11:16.912Z"
   },
   {
    "duration": 9,
    "start_time": "2024-10-11T02:11:16.922Z"
   },
   {
    "duration": 6,
    "start_time": "2024-10-11T02:11:16.933Z"
   },
   {
    "duration": 11,
    "start_time": "2024-10-11T02:11:16.941Z"
   },
   {
    "duration": 60,
    "start_time": "2024-10-11T02:11:16.954Z"
   },
   {
    "duration": 32,
    "start_time": "2024-10-11T02:11:17.015Z"
   },
   {
    "duration": 7,
    "start_time": "2024-10-11T02:11:17.049Z"
   },
   {
    "duration": 84,
    "start_time": "2024-10-11T02:11:17.058Z"
   },
   {
    "duration": 26,
    "start_time": "2024-10-11T02:11:17.145Z"
   },
   {
    "duration": 5,
    "start_time": "2024-10-11T02:11:17.173Z"
   },
   {
    "duration": 197,
    "start_time": "2024-10-11T02:11:17.180Z"
   },
   {
    "duration": 180,
    "start_time": "2024-10-11T02:11:17.380Z"
   },
   {
    "duration": 122,
    "start_time": "2024-10-11T02:11:17.563Z"
   },
   {
    "duration": 203,
    "start_time": "2024-10-11T02:11:17.687Z"
   },
   {
    "duration": 25,
    "start_time": "2024-10-11T02:11:17.892Z"
   },
   {
    "duration": 284,
    "start_time": "2024-10-11T02:11:17.924Z"
   },
   {
    "duration": 6,
    "start_time": "2024-10-11T02:11:18.210Z"
   },
   {
    "duration": 5,
    "start_time": "2024-10-11T02:11:18.218Z"
   },
   {
    "duration": 1188,
    "start_time": "2024-10-11T02:11:18.225Z"
   },
   {
    "duration": 230,
    "start_time": "2024-10-11T02:11:19.415Z"
   },
   {
    "duration": 8,
    "start_time": "2024-10-11T02:13:08.631Z"
   },
   {
    "duration": 157,
    "start_time": "2024-10-11T02:14:00.757Z"
   },
   {
    "duration": 197,
    "start_time": "2024-10-11T02:14:32.667Z"
   },
   {
    "duration": 106,
    "start_time": "2024-10-11T02:14:39.491Z"
   },
   {
    "duration": 114,
    "start_time": "2024-10-11T02:15:01.179Z"
   },
   {
    "duration": 381,
    "start_time": "2024-10-11T02:15:26.571Z"
   },
   {
    "duration": 376,
    "start_time": "2024-10-11T02:16:14.692Z"
   },
   {
    "duration": 3,
    "start_time": "2024-10-11T02:20:15.899Z"
   },
   {
    "duration": 367,
    "start_time": "2024-10-11T02:20:19.180Z"
   },
   {
    "duration": 4,
    "start_time": "2024-10-11T02:20:20.787Z"
   },
   {
    "duration": 3,
    "start_time": "2024-10-11T02:20:23.442Z"
   },
   {
    "duration": 210,
    "start_time": "2024-10-11T02:20:55.663Z"
   },
   {
    "duration": 257,
    "start_time": "2024-10-11T02:21:11.648Z"
   },
   {
    "duration": 3,
    "start_time": "2024-10-11T02:21:23.719Z"
   },
   {
    "duration": 358,
    "start_time": "2024-10-11T02:21:26.787Z"
   },
   {
    "duration": 5,
    "start_time": "2024-10-11T02:21:28.562Z"
   },
   {
    "duration": 197,
    "start_time": "2024-10-11T02:21:30.249Z"
   },
   {
    "duration": 203,
    "start_time": "2024-10-11T02:21:33.494Z"
   },
   {
    "duration": 8,
    "start_time": "2024-10-11T02:23:55.002Z"
   },
   {
    "duration": 453,
    "start_time": "2024-10-11T02:27:54.530Z"
   },
   {
    "duration": 929,
    "start_time": "2024-10-11T02:27:54.986Z"
   },
   {
    "duration": 20,
    "start_time": "2024-10-11T02:27:55.916Z"
   },
   {
    "duration": 14,
    "start_time": "2024-10-11T02:27:55.938Z"
   },
   {
    "duration": 11,
    "start_time": "2024-10-11T02:27:55.954Z"
   },
   {
    "duration": 39,
    "start_time": "2024-10-11T02:27:55.967Z"
   },
   {
    "duration": 12,
    "start_time": "2024-10-11T02:27:56.008Z"
   },
   {
    "duration": 58,
    "start_time": "2024-10-11T02:27:56.021Z"
   },
   {
    "duration": 34,
    "start_time": "2024-10-11T02:27:56.081Z"
   },
   {
    "duration": 121,
    "start_time": "2024-10-11T02:27:56.117Z"
   },
   {
    "duration": 108,
    "start_time": "2024-10-11T02:27:56.239Z"
   },
   {
    "duration": 64,
    "start_time": "2024-10-11T02:27:56.349Z"
   },
   {
    "duration": 14,
    "start_time": "2024-10-11T02:27:56.415Z"
   },
   {
    "duration": 6,
    "start_time": "2024-10-11T02:27:56.433Z"
   },
   {
    "duration": 20,
    "start_time": "2024-10-11T02:27:56.441Z"
   },
   {
    "duration": 54,
    "start_time": "2024-10-11T02:27:56.462Z"
   },
   {
    "duration": 5,
    "start_time": "2024-10-11T02:27:56.520Z"
   },
   {
    "duration": 4,
    "start_time": "2024-10-11T02:27:56.527Z"
   },
   {
    "duration": 4,
    "start_time": "2024-10-11T02:27:56.533Z"
   },
   {
    "duration": 4,
    "start_time": "2024-10-11T02:27:56.539Z"
   },
   {
    "duration": 885,
    "start_time": "2024-10-11T02:27:56.545Z"
   },
   {
    "duration": 163,
    "start_time": "2024-10-11T02:27:57.431Z"
   },
   {
    "duration": 12,
    "start_time": "2024-10-11T02:27:57.604Z"
   },
   {
    "duration": 7,
    "start_time": "2024-10-11T02:27:57.618Z"
   },
   {
    "duration": 5,
    "start_time": "2024-10-11T02:27:57.627Z"
   },
   {
    "duration": 8,
    "start_time": "2024-10-11T02:27:57.634Z"
   },
   {
    "duration": 10,
    "start_time": "2024-10-11T02:27:57.643Z"
   },
   {
    "duration": 6,
    "start_time": "2024-10-11T02:27:57.655Z"
   },
   {
    "duration": 48,
    "start_time": "2024-10-11T02:27:57.663Z"
   },
   {
    "duration": 23,
    "start_time": "2024-10-11T02:27:57.713Z"
   },
   {
    "duration": 31,
    "start_time": "2024-10-11T02:27:57.737Z"
   },
   {
    "duration": 6,
    "start_time": "2024-10-11T02:27:57.770Z"
   },
   {
    "duration": 87,
    "start_time": "2024-10-11T02:27:57.778Z"
   },
   {
    "duration": 26,
    "start_time": "2024-10-11T02:27:57.867Z"
   },
   {
    "duration": 14,
    "start_time": "2024-10-11T02:27:57.895Z"
   },
   {
    "duration": 196,
    "start_time": "2024-10-11T02:27:57.910Z"
   },
   {
    "duration": 184,
    "start_time": "2024-10-11T02:27:58.108Z"
   },
   {
    "duration": 120,
    "start_time": "2024-10-11T02:27:58.294Z"
   },
   {
    "duration": 206,
    "start_time": "2024-10-11T02:27:58.415Z"
   },
   {
    "duration": 14,
    "start_time": "2024-10-11T02:27:58.625Z"
   },
   {
    "duration": 276,
    "start_time": "2024-10-11T02:27:58.644Z"
   },
   {
    "duration": 7,
    "start_time": "2024-10-11T02:27:58.922Z"
   },
   {
    "duration": 7,
    "start_time": "2024-10-11T02:27:58.930Z"
   },
   {
    "duration": 1194,
    "start_time": "2024-10-11T02:27:58.939Z"
   },
   {
    "duration": 247,
    "start_time": "2024-10-11T02:28:00.135Z"
   },
   {
    "duration": 448,
    "start_time": "2024-10-11T02:28:00.384Z"
   },
   {
    "duration": 3,
    "start_time": "2024-10-11T02:28:00.834Z"
   },
   {
    "duration": 216,
    "start_time": "2024-10-11T02:28:00.838Z"
   },
   {
    "duration": 208,
    "start_time": "2024-10-11T02:28:22.390Z"
   },
   {
    "duration": 9,
    "start_time": "2024-10-11T02:28:42.717Z"
   },
   {
    "duration": 207,
    "start_time": "2024-10-11T02:31:24.267Z"
   },
   {
    "duration": 201,
    "start_time": "2024-10-11T02:31:56.618Z"
   },
   {
    "duration": 376,
    "start_time": "2024-10-11T02:32:07.403Z"
   },
   {
    "duration": 199,
    "start_time": "2024-10-11T02:32:09.168Z"
   },
   {
    "duration": 385,
    "start_time": "2024-10-11T02:34:23.532Z"
   },
   {
    "duration": 372,
    "start_time": "2024-10-11T02:34:40.736Z"
   },
   {
    "duration": 215,
    "start_time": "2024-10-11T02:34:54.542Z"
   },
   {
    "duration": 396,
    "start_time": "2024-10-11T02:36:36.269Z"
   },
   {
    "duration": 209,
    "start_time": "2024-10-11T02:36:47.403Z"
   },
   {
    "duration": 164,
    "start_time": "2024-10-11T02:47:08.656Z"
   },
   {
    "duration": 14,
    "start_time": "2024-10-11T02:47:39.244Z"
   },
   {
    "duration": 413,
    "start_time": "2024-10-11T02:47:51.887Z"
   },
   {
    "duration": 952,
    "start_time": "2024-10-11T02:47:52.305Z"
   },
   {
    "duration": 18,
    "start_time": "2024-10-11T02:47:53.260Z"
   },
   {
    "duration": 29,
    "start_time": "2024-10-11T02:47:53.280Z"
   },
   {
    "duration": 10,
    "start_time": "2024-10-11T02:47:53.313Z"
   },
   {
    "duration": 10,
    "start_time": "2024-10-11T02:47:53.325Z"
   },
   {
    "duration": 10,
    "start_time": "2024-10-11T02:47:53.337Z"
   },
   {
    "duration": 85,
    "start_time": "2024-10-11T02:47:53.348Z"
   },
   {
    "duration": 11,
    "start_time": "2024-10-11T02:47:53.435Z"
   },
   {
    "duration": 123,
    "start_time": "2024-10-11T02:47:53.448Z"
   },
   {
    "duration": 103,
    "start_time": "2024-10-11T02:47:53.573Z"
   },
   {
    "duration": 65,
    "start_time": "2024-10-11T02:47:53.678Z"
   },
   {
    "duration": 13,
    "start_time": "2024-10-11T02:47:53.746Z"
   },
   {
    "duration": 5,
    "start_time": "2024-10-11T02:47:53.764Z"
   },
   {
    "duration": 41,
    "start_time": "2024-10-11T02:47:53.771Z"
   },
   {
    "duration": 23,
    "start_time": "2024-10-11T02:47:53.814Z"
   },
   {
    "duration": 5,
    "start_time": "2024-10-11T02:47:53.839Z"
   },
   {
    "duration": 5,
    "start_time": "2024-10-11T02:47:53.845Z"
   },
   {
    "duration": 5,
    "start_time": "2024-10-11T02:47:53.851Z"
   },
   {
    "duration": 4,
    "start_time": "2024-10-11T02:47:53.858Z"
   },
   {
    "duration": 853,
    "start_time": "2024-10-11T02:47:53.864Z"
   },
   {
    "duration": 179,
    "start_time": "2024-10-11T02:47:54.719Z"
   },
   {
    "duration": 13,
    "start_time": "2024-10-11T02:47:54.900Z"
   },
   {
    "duration": 7,
    "start_time": "2024-10-11T02:47:54.915Z"
   },
   {
    "duration": 6,
    "start_time": "2024-10-11T02:47:54.925Z"
   },
   {
    "duration": 8,
    "start_time": "2024-10-11T02:47:54.933Z"
   },
   {
    "duration": 9,
    "start_time": "2024-10-11T02:47:54.943Z"
   },
   {
    "duration": 6,
    "start_time": "2024-10-11T02:47:54.955Z"
   },
   {
    "duration": 48,
    "start_time": "2024-10-11T02:47:54.963Z"
   },
   {
    "duration": 24,
    "start_time": "2024-10-11T02:47:55.013Z"
   },
   {
    "duration": 31,
    "start_time": "2024-10-11T02:47:55.039Z"
   },
   {
    "duration": 6,
    "start_time": "2024-10-11T02:47:55.073Z"
   },
   {
    "duration": 65,
    "start_time": "2024-10-11T02:47:55.104Z"
   },
   {
    "duration": 42,
    "start_time": "2024-10-11T02:47:55.171Z"
   },
   {
    "duration": 6,
    "start_time": "2024-10-11T02:47:55.215Z"
   },
   {
    "duration": 197,
    "start_time": "2024-10-11T02:47:55.222Z"
   },
   {
    "duration": 185,
    "start_time": "2024-10-11T02:47:55.421Z"
   },
   {
    "duration": 123,
    "start_time": "2024-10-11T02:47:55.607Z"
   },
   {
    "duration": 202,
    "start_time": "2024-10-11T02:47:55.732Z"
   },
   {
    "duration": 14,
    "start_time": "2024-10-11T02:47:55.936Z"
   },
   {
    "duration": 278,
    "start_time": "2024-10-11T02:47:55.954Z"
   },
   {
    "duration": 6,
    "start_time": "2024-10-11T02:47:56.234Z"
   },
   {
    "duration": 6,
    "start_time": "2024-10-11T02:47:56.242Z"
   },
   {
    "duration": 1184,
    "start_time": "2024-10-11T02:47:56.250Z"
   },
   {
    "duration": 218,
    "start_time": "2024-10-11T02:47:57.435Z"
   },
   {
    "duration": 450,
    "start_time": "2024-10-11T02:47:57.656Z"
   },
   {
    "duration": 206,
    "start_time": "2024-10-11T02:47:58.108Z"
   },
   {
    "duration": 281,
    "start_time": "2024-10-11T02:49:19.549Z"
   },
   {
    "duration": 2106,
    "start_time": "2024-10-11T18:26:39.571Z"
   },
   {
    "duration": 1066,
    "start_time": "2024-10-11T18:26:41.679Z"
   },
   {
    "duration": 18,
    "start_time": "2024-10-11T18:26:42.746Z"
   },
   {
    "duration": 12,
    "start_time": "2024-10-11T18:26:42.766Z"
   },
   {
    "duration": 10,
    "start_time": "2024-10-11T18:26:42.782Z"
   },
   {
    "duration": 37,
    "start_time": "2024-10-11T18:26:42.793Z"
   },
   {
    "duration": 10,
    "start_time": "2024-10-11T18:26:42.832Z"
   },
   {
    "duration": 48,
    "start_time": "2024-10-11T18:26:42.844Z"
   },
   {
    "duration": 32,
    "start_time": "2024-10-11T18:26:42.894Z"
   },
   {
    "duration": 106,
    "start_time": "2024-10-11T18:26:42.928Z"
   },
   {
    "duration": 95,
    "start_time": "2024-10-11T18:26:43.036Z"
   },
   {
    "duration": 51,
    "start_time": "2024-10-11T18:26:43.133Z"
   },
   {
    "duration": 12,
    "start_time": "2024-10-11T18:26:43.186Z"
   },
   {
    "duration": 25,
    "start_time": "2024-10-11T18:26:43.202Z"
   },
   {
    "duration": 18,
    "start_time": "2024-10-11T18:26:43.229Z"
   },
   {
    "duration": 21,
    "start_time": "2024-10-11T18:26:43.248Z"
   },
   {
    "duration": 4,
    "start_time": "2024-10-11T18:26:43.270Z"
   },
   {
    "duration": 4,
    "start_time": "2024-10-11T18:26:43.276Z"
   },
   {
    "duration": 4,
    "start_time": "2024-10-11T18:26:43.282Z"
   },
   {
    "duration": 39,
    "start_time": "2024-10-11T18:26:43.287Z"
   },
   {
    "duration": 765,
    "start_time": "2024-10-11T18:26:43.327Z"
   },
   {
    "duration": 161,
    "start_time": "2024-10-11T18:26:44.095Z"
   },
   {
    "duration": 11,
    "start_time": "2024-10-11T18:26:44.258Z"
   },
   {
    "duration": 6,
    "start_time": "2024-10-11T18:26:44.271Z"
   },
   {
    "duration": 6,
    "start_time": "2024-10-11T18:26:44.279Z"
   },
   {
    "duration": 7,
    "start_time": "2024-10-11T18:26:44.286Z"
   },
   {
    "duration": 34,
    "start_time": "2024-10-11T18:26:44.295Z"
   },
   {
    "duration": 7,
    "start_time": "2024-10-11T18:26:44.330Z"
   },
   {
    "duration": 12,
    "start_time": "2024-10-11T18:26:44.339Z"
   },
   {
    "duration": 23,
    "start_time": "2024-10-11T18:26:44.352Z"
   },
   {
    "duration": 58,
    "start_time": "2024-10-11T18:26:44.376Z"
   },
   {
    "duration": 8,
    "start_time": "2024-10-11T18:26:44.436Z"
   },
   {
    "duration": 63,
    "start_time": "2024-10-11T18:26:44.446Z"
   },
   {
    "duration": 25,
    "start_time": "2024-10-11T18:26:44.525Z"
   },
   {
    "duration": 5,
    "start_time": "2024-10-11T18:26:44.552Z"
   },
   {
    "duration": 228,
    "start_time": "2024-10-11T18:26:44.558Z"
   },
   {
    "duration": 179,
    "start_time": "2024-10-11T18:26:44.787Z"
   },
   {
    "duration": 128,
    "start_time": "2024-10-11T18:26:44.968Z"
   },
   {
    "duration": 198,
    "start_time": "2024-10-11T18:26:45.098Z"
   },
   {
    "duration": 14,
    "start_time": "2024-10-11T18:26:45.298Z"
   },
   {
    "duration": 279,
    "start_time": "2024-10-11T18:26:45.324Z"
   },
   {
    "duration": 7,
    "start_time": "2024-10-11T18:26:45.604Z"
   },
   {
    "duration": 6,
    "start_time": "2024-10-11T18:26:45.625Z"
   },
   {
    "duration": 1129,
    "start_time": "2024-10-11T18:26:45.632Z"
   },
   {
    "duration": 233,
    "start_time": "2024-10-11T18:26:46.764Z"
   },
   {
    "duration": 426,
    "start_time": "2024-10-11T18:26:46.999Z"
   },
   {
    "duration": 228,
    "start_time": "2024-10-11T18:26:47.427Z"
   },
   {
    "duration": 31,
    "start_time": "2024-10-11T18:27:58.296Z"
   },
   {
    "duration": 168,
    "start_time": "2024-10-11T18:28:04.562Z"
   },
   {
    "duration": 133,
    "start_time": "2024-10-11T18:29:29.228Z"
   },
   {
    "duration": 5,
    "start_time": "2024-10-11T18:30:30.802Z"
   },
   {
    "duration": 185,
    "start_time": "2024-10-11T18:30:35.975Z"
   },
   {
    "duration": 132,
    "start_time": "2024-10-11T18:30:39.829Z"
   },
   {
    "duration": 132,
    "start_time": "2024-10-11T18:30:48.351Z"
   },
   {
    "duration": 137,
    "start_time": "2024-10-11T18:30:54.856Z"
   },
   {
    "duration": 134,
    "start_time": "2024-10-11T18:31:07.115Z"
   },
   {
    "duration": 182,
    "start_time": "2024-10-11T18:34:11.377Z"
   },
   {
    "duration": 13,
    "start_time": "2024-10-11T18:34:28.500Z"
   },
   {
    "duration": 13,
    "start_time": "2024-10-11T18:34:42.435Z"
   },
   {
    "duration": 24,
    "start_time": "2024-10-11T18:36:47.592Z"
   },
   {
    "duration": 21,
    "start_time": "2024-10-11T18:37:00.127Z"
   },
   {
    "duration": 16,
    "start_time": "2024-10-11T18:37:33.412Z"
   },
   {
    "duration": 18,
    "start_time": "2024-10-11T18:37:54.977Z"
   },
   {
    "duration": 2,
    "start_time": "2024-10-11T18:42:39.538Z"
   },
   {
    "duration": 857,
    "start_time": "2024-10-11T18:42:43.249Z"
   },
   {
    "duration": 868,
    "start_time": "2024-10-11T18:44:01.588Z"
   },
   {
    "duration": 204,
    "start_time": "2024-10-11T18:55:31.502Z"
   },
   {
    "duration": 16,
    "start_time": "2024-10-11T18:56:30.783Z"
   },
   {
    "duration": 132,
    "start_time": "2024-10-11T18:58:17.193Z"
   },
   {
    "duration": 185,
    "start_time": "2024-10-11T18:58:25.922Z"
   },
   {
    "duration": 129,
    "start_time": "2024-10-11T18:58:52.066Z"
   },
   {
    "duration": 346,
    "start_time": "2024-10-11T19:01:44.481Z"
   },
   {
    "duration": 136,
    "start_time": "2024-10-11T19:02:08.923Z"
   },
   {
    "duration": 60,
    "start_time": "2024-10-11T19:02:16.051Z"
   },
   {
    "duration": 46,
    "start_time": "2024-10-11T19:03:27.591Z"
   },
   {
    "duration": 882,
    "start_time": "2024-10-11T19:05:00.998Z"
   },
   {
    "duration": 39,
    "start_time": "2024-10-11T19:05:30.236Z"
   },
   {
    "duration": 13,
    "start_time": "2024-10-11T19:05:33.322Z"
   },
   {
    "duration": 39,
    "start_time": "2024-10-11T19:05:44.024Z"
   },
   {
    "duration": 103,
    "start_time": "2024-10-11T19:06:12.206Z"
   },
   {
    "duration": 17,
    "start_time": "2024-10-11T19:06:29.807Z"
   },
   {
    "duration": 13,
    "start_time": "2024-10-11T19:06:44.392Z"
   },
   {
    "duration": 40,
    "start_time": "2024-10-11T19:07:28.172Z"
   },
   {
    "duration": 40,
    "start_time": "2024-10-11T19:07:35.633Z"
   },
   {
    "duration": 42,
    "start_time": "2024-10-11T19:07:39.417Z"
   },
   {
    "duration": 42,
    "start_time": "2024-10-11T19:08:38.647Z"
   },
   {
    "duration": 3,
    "start_time": "2024-10-11T19:08:45.646Z"
   },
   {
    "duration": 153,
    "start_time": "2024-10-11T19:08:51.077Z"
   },
   {
    "duration": 63,
    "start_time": "2024-10-11T19:09:09.441Z"
   },
   {
    "duration": 59,
    "start_time": "2024-10-11T19:09:35.745Z"
   },
   {
    "duration": 43,
    "start_time": "2024-10-11T19:09:52.891Z"
   },
   {
    "duration": 126,
    "start_time": "2024-10-11T19:09:59.001Z"
   },
   {
    "duration": 100,
    "start_time": "2024-10-11T19:10:30.418Z"
   },
   {
    "duration": 106,
    "start_time": "2024-10-11T19:11:13.155Z"
   },
   {
    "duration": 113,
    "start_time": "2024-10-11T19:11:18.771Z"
   },
   {
    "duration": 115,
    "start_time": "2024-10-11T19:11:28.417Z"
   },
   {
    "duration": 114,
    "start_time": "2024-10-11T19:11:37.831Z"
   },
   {
    "duration": 195,
    "start_time": "2024-10-11T19:13:12.368Z"
   },
   {
    "duration": 72,
    "start_time": "2024-10-11T19:13:31.267Z"
   },
   {
    "duration": 122,
    "start_time": "2024-10-11T19:16:17.961Z"
   },
   {
    "duration": 109,
    "start_time": "2024-10-11T19:16:34.084Z"
   },
   {
    "duration": 3,
    "start_time": "2024-10-11T19:19:31.496Z"
   },
   {
    "duration": 893,
    "start_time": "2024-10-11T19:19:33.855Z"
   },
   {
    "duration": 18,
    "start_time": "2024-10-11T19:19:36.329Z"
   },
   {
    "duration": 14,
    "start_time": "2024-10-11T19:19:38.856Z"
   },
   {
    "duration": 11,
    "start_time": "2024-10-11T19:19:41.457Z"
   },
   {
    "duration": 14,
    "start_time": "2024-10-11T19:19:43.608Z"
   },
   {
    "duration": 13,
    "start_time": "2024-10-11T19:19:45.772Z"
   },
   {
    "duration": 97,
    "start_time": "2024-10-11T19:19:53.417Z"
   },
   {
    "duration": 153,
    "start_time": "2024-10-11T19:20:35.676Z"
   },
   {
    "duration": 17,
    "start_time": "2024-10-11T19:20:47.526Z"
   },
   {
    "duration": 302,
    "start_time": "2024-10-11T19:21:28.401Z"
   },
   {
    "duration": 59,
    "start_time": "2024-10-11T19:22:06.967Z"
   },
   {
    "duration": 17,
    "start_time": "2024-10-11T19:26:26.089Z"
   },
   {
    "duration": 16,
    "start_time": "2024-10-11T19:26:57.883Z"
   },
   {
    "duration": 23,
    "start_time": "2024-10-11T19:27:10.792Z"
   },
   {
    "duration": 151,
    "start_time": "2024-10-11T19:27:21.652Z"
   },
   {
    "duration": 8,
    "start_time": "2024-10-11T19:27:43.559Z"
   },
   {
    "duration": 111,
    "start_time": "2024-10-11T19:28:07.013Z"
   },
   {
    "duration": 134,
    "start_time": "2024-10-11T19:28:17.051Z"
   },
   {
    "duration": 960,
    "start_time": "2024-10-11T19:28:20.064Z"
   },
   {
    "duration": 109,
    "start_time": "2024-10-11T19:28:32.998Z"
   },
   {
    "duration": 138,
    "start_time": "2024-10-11T19:28:56.217Z"
   }
  ],
  "colab": {
   "provenance": []
  },
  "kernelspec": {
   "display_name": "base",
   "language": "python",
   "name": "python3"
  },
  "language_info": {
   "codemirror_mode": {
    "name": "ipython",
    "version": 3
   },
   "file_extension": ".py",
   "mimetype": "text/x-python",
   "name": "python",
   "nbconvert_exporter": "python",
   "pygments_lexer": "ipython3",
   "version": "3.12.3"
  },
  "toc": {
   "base_numbering": 1,
   "nav_menu": {},
   "number_sections": true,
   "sideBar": true,
   "skip_h1_title": true,
   "title_cell": "Table of Contents",
   "title_sidebar": "Contents",
   "toc_cell": false,
   "toc_position": {},
   "toc_section_display": true,
   "toc_window_display": false
  }
 },
 "nbformat": 4,
 "nbformat_minor": 5
}
