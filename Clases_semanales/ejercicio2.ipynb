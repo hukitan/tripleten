{
 "cells": [
  {
   "cell_type": "markdown",
   "metadata": {},
   "source": [
    "## Ejercicio: Análisis de Datos del Mercado de Valores ##\n",
    "\n",
    " Supongamos que tienes un conjunto de datos simple que contiene el historial de precios de\n",
    " cierre de una acción durante una semana. Los precios están en una lista en orden cronológico\n",
    " (de lunes a viernes).\n"
   ]
  },
  {
   "cell_type": "markdown",
   "metadata": {},
   "source": [
    "Lista de precios de cierre de la acción: _[150.25, 152.35, 149.75, 153.20, 151.50]_"
   ]
  },
  {
   "cell_type": "code",
   "execution_count": null,
   "metadata": {
    "tags": [
     "parameters"
    ]
   },
   "outputs": [],
   "source": [
    "lista = [150.25, 152.35, 149.75, 153.20, 151.50]"
   ]
  },
  {
   "cell_type": "markdown",
   "metadata": {},
   "source": [
    "### Instrucciones"
   ]
  },
  {
   "cell_type": "markdown",
   "metadata": {},
   "source": [
    "1. Acceso a elementos individuales:\n",
    "- Imprime el precio de cierre del miércoles.\n",
    "- Imprime el precio de cierre del primer día de la semana (lunes)"
   ]
  },
  {
   "cell_type": "code",
   "execution_count": null,
   "metadata": {},
   "outputs": [],
   "source": [
    "# Miercoles\n",
    "print(f\"Miercoles: {lista[2]} \\nLunes: {lista[0]}\")\n"
   ]
  },
  {
   "cell_type": "markdown",
   "metadata": {},
   "source": [
    "2. Slicing:\n",
    "- Crea una nueva lista llamada precios_mitad_semana que contenga los\n",
    "precios de cierre desde el martes hasta el jueves (inclusive).\n",
    "- Crea otra lista llamada precios_invertidos que contenga los precios de\n",
    "cierre de la semana en orden inverso."
   ]
  },
  {
   "cell_type": "code",
   "execution_count": null,
   "metadata": {},
   "outputs": [],
   "source": [
    "precios_mitad_semana = lista[1:4]\n",
    "print(precios_mitad_semana)\n",
    "\n",
    "precios_invertidos = lista[2:5]\n",
    "precios_invertidos.reverse()\n",
    "print(precios_invertidos)"
   ]
  },
  {
   "cell_type": "markdown",
   "metadata": {},
   "source": [
    "3. Sublistas y operaciones:\n",
    "- Calcula la diferencia entre el precio de cierre del viernes y el lunes, y guárdala en\n",
    "una variable llamada diferencia_semana.\n",
    "- Calcula el promedio de los precios de la mitad de la semana (usando la lista\n",
    "precios_mitad_semana que creaste en la sección de slicing)"
   ]
  },
  {
   "cell_type": "code",
   "execution_count": null,
   "metadata": {},
   "outputs": [],
   "source": [
    "diferencia_semana = lista[4] -lista[0]\n",
    "print(diferencia_semana)\n",
    "m = 0\n",
    "for p in precios_mitad_semana:\n",
    "    m += p\n",
    "    promedio = m / len(precios_mitad_semana)\n",
    "print(promedio)"
   ]
  },
  {
   "cell_type": "markdown",
   "metadata": {},
   "source": [
    "4. Manipulación de cadenas:\n",
    "- Supón que tienes una lista de días de la semana: [\"Lunes\", \"Martes\", \"Miércoles\", \"Jueves\", \"Viernes\"].\n",
    "- Une esta lista en una única cadena de texto separada por comas, y guárdala en una variable llamada dias_semana.\n",
    "- A partir de la cadena dias_semana, extrae y almacena en una nueva variable el nombre del día \"Miércoles\" usando slicing y la posición del índice."
   ]
  },
  {
   "cell_type": "code",
   "execution_count": null,
   "metadata": {},
   "outputs": [],
   "source": [
    "dias_semana = [\"Lunes\", \"Martes\", \"Miércoles\", \"Jueves\", \"Viernes\"]\n",
    "\n",
    "dias_semana[2]\n"
   ]
  }
 ],
 "metadata": {
  "kernelspec": {
   "display_name": "base",
   "language": "python",
   "name": "python3"
  },
  "language_info": {
   "codemirror_mode": {
    "name": "ipython",
    "version": 3
   },
   "file_extension": ".py",
   "mimetype": "text/x-python",
   "name": "python",
   "nbconvert_exporter": "python",
   "pygments_lexer": "ipython3",
   "version": "3.11.5"
  }
 },
 "nbformat": 4,
 "nbformat_minor": 2
}
