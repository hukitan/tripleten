{
 "cells": [
  {
   "cell_type": "code",
   "execution_count": 8,
   "metadata": {},
   "outputs": [],
   "source": [
    "import pandas as pd\n",
    "import plotly.express as px\n",
    "\n",
    "\n",
    "def looks(datos):\n",
    "    \"\"\"Genera un analisis de todo el set de datos de manera gloabal\"\"\"\n",
    "    print(\"Se ejecuta la descripcion de los datos:\")\n",
    "    print(datos.describe(include=\"all\"))\n",
    "    print()\n",
    "    print(\"se hace exploracion con metodo info:\")\n",
    "    print(datos.info())\n",
    "    print()\n",
    "    print(\"se hace una observacion con el metodo Sample:\")\n",
    "    print(datos.sample(10))\n",
    "    print()\n",
    "    print(\"hay NA?:\")\n",
    "    print(datos.isna().sum())\n",
    "    print()\n",
    "    print(\"Duplicados:\")\n",
    "    print(datos.duplicated().sum())"
   ]
  },
  {
   "cell_type": "code",
   "execution_count": 6,
   "metadata": {},
   "outputs": [],
   "source": [
    "com_tri = pd.read_csv(\"datasets/moved_project_sql_result_01.csv\")\n",
    "trips = pd.read_csv(\"datasets/moved_project_sql_result_04.csv\")\n",
    "\n"
   ]
  },
  {
   "cell_type": "markdown",
   "metadata": {},
   "source": [
    "- importar los archivos\n",
    "- estudiar los datos que contienen\n",
    "- asegurarte de que los tipos de datos sean correctos\n",
    "- identificar los 10 principales barrios en términos de finalización del recorrido\n",
    "- hacer gráficos: empresas de taxis y número de viajes, los 10 barrios principales por número de finalizaciones\n",
    "- sacar conclusiones basadas en cada gráfico y explicar los resultados"
   ]
  },
  {
   "cell_type": "code",
   "execution_count": 9,
   "metadata": {},
   "outputs": [
    {
     "name": "stdout",
     "output_type": "stream",
     "text": [
      "Se ejecuta la descripcion de los datos:\n",
      "       company_name  trips_amount\n",
      "count            64     64.000000\n",
      "unique           64           NaN\n",
      "top       Flash Cab           NaN\n",
      "freq              1           NaN\n",
      "mean            NaN   2145.484375\n",
      "std             NaN   3812.310186\n",
      "min             NaN      2.000000\n",
      "25%             NaN     20.750000\n",
      "50%             NaN    178.500000\n",
      "75%             NaN   2106.500000\n",
      "max             NaN  19558.000000\n",
      "\n",
      "se hace exploracion con metodo info:\n",
      "<class 'pandas.core.frame.DataFrame'>\n",
      "RangeIndex: 64 entries, 0 to 63\n",
      "Data columns (total 2 columns):\n",
      " #   Column        Non-Null Count  Dtype \n",
      "---  ------        --------------  ----- \n",
      " 0   company_name  64 non-null     object\n",
      " 1   trips_amount  64 non-null     int64 \n",
      "dtypes: int64(1), object(1)\n",
      "memory usage: 1.1+ KB\n",
      "None\n",
      "\n",
      "se hace una observacion con el metodo Sample:\n",
      "                     company_name  trips_amount\n",
      "38        6743 - 78771 Luhak Corp            33\n",
      "29                       303 Taxi           250\n",
      "47  4615 - 83503 Tyrone Henderson            21\n",
      "39    0118 - 42111 Godfrey S.Awir            33\n",
      "54      2192 - 73487 Zeymane Corp            14\n",
      "2                Medallion Leasin         10367\n",
      "19  Chicago Medallion Leasing INC          1607\n",
      "55      6057 - 24657 Richard Addo            13\n",
      "37         1469 - 64126 Omar Jada            36\n",
      "20                   Checker Taxi          1486\n",
      "\n",
      "hay NA?:\n",
      "company_name    0\n",
      "trips_amount    0\n",
      "dtype: int64\n",
      "\n",
      "Duplicados:\n",
      "0\n"
     ]
    }
   ],
   "source": [
    "looks(com_tri)"
   ]
  },
  {
   "cell_type": "code",
   "execution_count": null,
   "metadata": {},
   "outputs": [],
   "source": [
    "looks(trips)"
   ]
  },
  {
   "cell_type": "code",
   "execution_count": null,
   "metadata": {},
   "outputs": [],
   "source": [
    "to_airpod = pd.read_csv(\"datasets/moved_project_sql_result_07.csv\")"
   ]
  }
 ],
 "metadata": {
  "kernelspec": {
   "display_name": "base",
   "language": "python",
   "name": "python3"
  },
  "language_info": {
   "codemirror_mode": {
    "name": "ipython",
    "version": 3
   },
   "file_extension": ".py",
   "mimetype": "text/x-python",
   "name": "python",
   "nbconvert_exporter": "python",
   "pygments_lexer": "ipython3",
   "version": "3.12.3"
  }
 },
 "nbformat": 4,
 "nbformat_minor": 2
}
