{
 "cells": [
  {
   "cell_type": "markdown",
   "metadata": {
    "vscode": {
     "languageId": "bat"
    }
   },
   "source": [
    "Descripción de los datos\n",
    "\n",
    "Cada entrada de registro es una acción de usuario o un evento.\n",
    "\n",
    "    EventName: nombre del evento.\n",
    "    DeviceIDHash: identificador de usuario unívoco.\n",
    "    EventTimestamp: hora del evento.\n",
    "    ExpId: número de experimento. 246 y 247 son los grupos de control, y 248 es el grupo de prueba.\n",
    "\n",
    "Instrucciones para completar el proyecto\n",
    "\n",
    "Paso 1. Abrir el archivo de datos y leer la información general\n",
    "\n",
    "Ruta de archivo: */datasets/logs_exp_us.csv* \n"
   ]
  },
  {
   "cell_type": "code",
   "execution_count": 2,
   "metadata": {},
   "outputs": [],
   "source": [
    "# se importan las librerias necesarias para el analisis de datos\n",
    "import pandas as pd\n",
    "import numpy as np\n",
    "import seaborn as sns\n",
    "import datetime as dt\n",
    "import scipy.stats as stats\n",
    "from matplotlib import pyplot as plt\n",
    "\n",
    "\n",
    "def looks(datos):\n",
    "    \"\"\"Genera un análisis de todo el set de datos de manera global\"\"\"\n",
    "\n",
    "    print(\"Se ejecuta la descripción de los datos:\")\n",
    "    print(datos.describe(include=\"all\"))\n",
    "    print()\n",
    "    print(\"se hace exploración con método info:\")\n",
    "    print(datos.info())\n",
    "    print()\n",
    "    print(\"se hace una observación con el método Sample:\")\n",
    "    if len(datos) > 10:\n",
    "        print(datos.sample(10))\n",
    "    else:\n",
    "        print(datos)\n",
    "    print()\n",
    "    print(\"hay NA?:\")\n",
    "    print(datos.isna().sum())\n",
    "    print()\n",
    "    print(\"Duplicados:\")\n",
    "    print(datos.duplicated().sum())"
   ]
  },
  {
   "cell_type": "code",
   "execution_count": 3,
   "metadata": {},
   "outputs": [
    {
     "name": "stdout",
     "output_type": "stream",
     "text": [
      "Se ejecuta la descripción de los datos:\n",
      "               EventName  DeviceIDHash  EventTimestamp          ExpId\n",
      "count             244126  2.441260e+05    2.441260e+05  244126.000000\n",
      "unique                 5           NaN             NaN            NaN\n",
      "top     MainScreenAppear           NaN             NaN            NaN\n",
      "freq              119205           NaN             NaN            NaN\n",
      "mean                 NaN  4.627568e+18    1.564914e+09     247.022296\n",
      "std                  NaN  2.642425e+18    1.771343e+05       0.824434\n",
      "min                  NaN  6.888747e+15    1.564030e+09     246.000000\n",
      "25%                  NaN  2.372212e+18    1.564757e+09     246.000000\n",
      "50%                  NaN  4.623192e+18    1.564919e+09     247.000000\n",
      "75%                  NaN  6.932517e+18    1.565075e+09     248.000000\n",
      "max                  NaN  9.222603e+18    1.565213e+09     248.000000\n",
      "\n",
      "se hace exploración con método info:\n",
      "<class 'pandas.core.frame.DataFrame'>\n",
      "RangeIndex: 244126 entries, 0 to 244125\n",
      "Data columns (total 4 columns):\n",
      " #   Column          Non-Null Count   Dtype \n",
      "---  ------          --------------   ----- \n",
      " 0   EventName       244126 non-null  object\n",
      " 1   DeviceIDHash    244126 non-null  int64 \n",
      " 2   EventTimestamp  244126 non-null  int64 \n",
      " 3   ExpId           244126 non-null  int64 \n",
      "dtypes: int64(3), object(1)\n",
      "memory usage: 7.5+ MB\n",
      "None\n",
      "\n",
      "se hace una observación con el método Sample:\n",
      "                      EventName         DeviceIDHash  EventTimestamp  ExpId\n",
      "102714         MainScreenAppear  8428777209401822375      1564854266    247\n",
      "151470       OffersScreenAppear  1447957581500376117      1564999325    248\n",
      "113210         MainScreenAppear  1595946620173408318      1564904648    246\n",
      "15385          MainScreenAppear  7759004806281663308      1564657438    246\n",
      "107069         MainScreenAppear  1035766790164458922      1564865568    246\n",
      "32330          CartScreenAppear  4721204817879592643      1564681612    247\n",
      "224218         MainScreenAppear  7472834843463961465      1565174605    247\n",
      "201481  PaymentScreenSuccessful  1375557487947093308      1565106236    248\n",
      "147943         MainScreenAppear  8996651817113323223      1564993073    247\n",
      "228102  PaymentScreenSuccessful  4695447669992808190      1565182251    248\n",
      "\n",
      "hay NA?:\n",
      "EventName         0\n",
      "DeviceIDHash      0\n",
      "EventTimestamp    0\n",
      "ExpId             0\n",
      "dtype: int64\n",
      "\n",
      "Duplicados:\n",
      "413\n"
     ]
    }
   ],
   "source": [
    "data = pd.read_csv('logs_exp_us.csv' , sep='\\t')\n",
    "looks(data)"
   ]
  },
  {
   "cell_type": "code",
   "execution_count": 4,
   "metadata": {},
   "outputs": [
    {
     "name": "stdout",
     "output_type": "stream",
     "text": [
      "                      EventName        DeviceIDHash  EventTimestamp  ExpId\n",
      "130558         MainScreenAppear   33176906322804559      1564933075    248\n",
      "130995       OffersScreenAppear   33176906322804559      1564933763    248\n",
      "104108         CartScreenAppear   34565258828294726      1564857221    248\n",
      "159302  PaymentScreenSuccessful   54903596035630984      1565011672    248\n",
      "176813  PaymentScreenSuccessful   77364241990273403      1565044732    246\n",
      "189896         MainScreenAppear   91292479590032512      1565087723    246\n",
      "155464         MainScreenAppear   95206628315371849      1565005724    247\n",
      "110479         MainScreenAppear  170935625628929269      1564897487    246\n",
      "34223          CartScreenAppear  197027893265565660      1564684544    246\n",
      "17037          CartScreenAppear  197027893265565660      1564659614    246\n",
      "112562         CartScreenAppear  197027893265565660      1564902904    246\n",
      "144045         CartScreenAppear  197027893265565660      1564983860    246\n",
      "23421          CartScreenAppear  197027893265565660      1564668928    246\n",
      "220672         MainScreenAppear  252409739172511110      1565167797    246\n",
      "235186         CartScreenAppear  299409047914517767      1565193055    248\n"
     ]
    }
   ],
   "source": [
    "#Se exploran los duplicados para ver si hay duplicados reales, Se determina que no, solo son distintos eventos para el mismo dispositivo, o el mismo evento para distintos dispositivos\n",
    "print(data[data.duplicated()].sort_values('DeviceIDHash').head(15))"
   ]
  },
  {
   "cell_type": "markdown",
   "metadata": {},
   "source": [
    "\n",
    "Paso 2. Preparar los datos para el análisis\n",
    "\n",
    "    Cambia el nombre de las columnas de manera que sea conveniente para ti.\n",
    "    Comprueba los tipos de datos y valores ausentes. Corrige los datos si es necesario.\n",
    "    Agrega una columna de fecha y hora y una columna separada para las fechas."
   ]
  },
  {
   "cell_type": "code",
   "execution_count": 5,
   "metadata": {},
   "outputs": [
    {
     "data": {
      "text/html": [
       "<div>\n",
       "<style scoped>\n",
       "    .dataframe tbody tr th:only-of-type {\n",
       "        vertical-align: middle;\n",
       "    }\n",
       "\n",
       "    .dataframe tbody tr th {\n",
       "        vertical-align: top;\n",
       "    }\n",
       "\n",
       "    .dataframe thead th {\n",
       "        text-align: right;\n",
       "    }\n",
       "</style>\n",
       "<table border=\"1\" class=\"dataframe\">\n",
       "  <thead>\n",
       "    <tr style=\"text-align: right;\">\n",
       "      <th></th>\n",
       "      <th>EventName</th>\n",
       "      <th>DeviceIDHash</th>\n",
       "      <th>EventTimestamp</th>\n",
       "      <th>ExpId</th>\n",
       "      <th>daytime</th>\n",
       "      <th>date</th>\n",
       "    </tr>\n",
       "  </thead>\n",
       "  <tbody>\n",
       "    <tr>\n",
       "      <th>0</th>\n",
       "      <td>MainScreenAppear</td>\n",
       "      <td>4575588528974610257</td>\n",
       "      <td>1564029816</td>\n",
       "      <td>246</td>\n",
       "      <td>2019-07-24 23:43:36</td>\n",
       "      <td>2019-07-24</td>\n",
       "    </tr>\n",
       "    <tr>\n",
       "      <th>1</th>\n",
       "      <td>MainScreenAppear</td>\n",
       "      <td>7416695313311560658</td>\n",
       "      <td>1564053102</td>\n",
       "      <td>246</td>\n",
       "      <td>2019-07-25 06:11:42</td>\n",
       "      <td>2019-07-25</td>\n",
       "    </tr>\n",
       "    <tr>\n",
       "      <th>2</th>\n",
       "      <td>PaymentScreenSuccessful</td>\n",
       "      <td>3518123091307005509</td>\n",
       "      <td>1564054127</td>\n",
       "      <td>248</td>\n",
       "      <td>2019-07-25 06:28:47</td>\n",
       "      <td>2019-07-25</td>\n",
       "    </tr>\n",
       "    <tr>\n",
       "      <th>3</th>\n",
       "      <td>CartScreenAppear</td>\n",
       "      <td>3518123091307005509</td>\n",
       "      <td>1564054127</td>\n",
       "      <td>248</td>\n",
       "      <td>2019-07-25 06:28:47</td>\n",
       "      <td>2019-07-25</td>\n",
       "    </tr>\n",
       "    <tr>\n",
       "      <th>4</th>\n",
       "      <td>PaymentScreenSuccessful</td>\n",
       "      <td>6217807653094995999</td>\n",
       "      <td>1564055322</td>\n",
       "      <td>248</td>\n",
       "      <td>2019-07-25 06:48:42</td>\n",
       "      <td>2019-07-25</td>\n",
       "    </tr>\n",
       "    <tr>\n",
       "      <th>...</th>\n",
       "      <td>...</td>\n",
       "      <td>...</td>\n",
       "      <td>...</td>\n",
       "      <td>...</td>\n",
       "      <td>...</td>\n",
       "      <td>...</td>\n",
       "    </tr>\n",
       "    <tr>\n",
       "      <th>244121</th>\n",
       "      <td>MainScreenAppear</td>\n",
       "      <td>4599628364049201812</td>\n",
       "      <td>1565212345</td>\n",
       "      <td>247</td>\n",
       "      <td>2019-08-07 16:12:25</td>\n",
       "      <td>2019-08-07</td>\n",
       "    </tr>\n",
       "    <tr>\n",
       "      <th>244122</th>\n",
       "      <td>MainScreenAppear</td>\n",
       "      <td>5849806612437486590</td>\n",
       "      <td>1565212439</td>\n",
       "      <td>246</td>\n",
       "      <td>2019-08-07 16:13:59</td>\n",
       "      <td>2019-08-07</td>\n",
       "    </tr>\n",
       "    <tr>\n",
       "      <th>244123</th>\n",
       "      <td>MainScreenAppear</td>\n",
       "      <td>5746969938801999050</td>\n",
       "      <td>1565212483</td>\n",
       "      <td>246</td>\n",
       "      <td>2019-08-07 16:14:43</td>\n",
       "      <td>2019-08-07</td>\n",
       "    </tr>\n",
       "    <tr>\n",
       "      <th>244124</th>\n",
       "      <td>MainScreenAppear</td>\n",
       "      <td>5746969938801999050</td>\n",
       "      <td>1565212498</td>\n",
       "      <td>246</td>\n",
       "      <td>2019-08-07 16:14:58</td>\n",
       "      <td>2019-08-07</td>\n",
       "    </tr>\n",
       "    <tr>\n",
       "      <th>244125</th>\n",
       "      <td>OffersScreenAppear</td>\n",
       "      <td>5746969938801999050</td>\n",
       "      <td>1565212517</td>\n",
       "      <td>246</td>\n",
       "      <td>2019-08-07 16:15:17</td>\n",
       "      <td>2019-08-07</td>\n",
       "    </tr>\n",
       "  </tbody>\n",
       "</table>\n",
       "<p>244126 rows × 6 columns</p>\n",
       "</div>"
      ],
      "text/plain": [
       "                      EventName         DeviceIDHash  EventTimestamp  ExpId  \\\n",
       "0              MainScreenAppear  4575588528974610257      1564029816    246   \n",
       "1              MainScreenAppear  7416695313311560658      1564053102    246   \n",
       "2       PaymentScreenSuccessful  3518123091307005509      1564054127    248   \n",
       "3              CartScreenAppear  3518123091307005509      1564054127    248   \n",
       "4       PaymentScreenSuccessful  6217807653094995999      1564055322    248   \n",
       "...                         ...                  ...             ...    ...   \n",
       "244121         MainScreenAppear  4599628364049201812      1565212345    247   \n",
       "244122         MainScreenAppear  5849806612437486590      1565212439    246   \n",
       "244123         MainScreenAppear  5746969938801999050      1565212483    246   \n",
       "244124         MainScreenAppear  5746969938801999050      1565212498    246   \n",
       "244125       OffersScreenAppear  5746969938801999050      1565212517    246   \n",
       "\n",
       "                   daytime        date  \n",
       "0      2019-07-24 23:43:36  2019-07-24  \n",
       "1      2019-07-25 06:11:42  2019-07-25  \n",
       "2      2019-07-25 06:28:47  2019-07-25  \n",
       "3      2019-07-25 06:28:47  2019-07-25  \n",
       "4      2019-07-25 06:48:42  2019-07-25  \n",
       "...                    ...         ...  \n",
       "244121 2019-08-07 16:12:25  2019-08-07  \n",
       "244122 2019-08-07 16:13:59  2019-08-07  \n",
       "244123 2019-08-07 16:14:43  2019-08-07  \n",
       "244124 2019-08-07 16:14:58  2019-08-07  \n",
       "244125 2019-08-07 16:15:17  2019-08-07  \n",
       "\n",
       "[244126 rows x 6 columns]"
      ]
     },
     "execution_count": 5,
     "metadata": {},
     "output_type": "execute_result"
    }
   ],
   "source": [
    "data['daytime'] = data['EventTimestamp'].apply(lambda x: dt.datetime.fromtimestamp(x))\n",
    "data['date'] = data['daytime'].dt.date\n",
    "data"
   ]
  },
  {
   "cell_type": "markdown",
   "metadata": {},
   "source": [
    "\n",
    "\n",
    "Paso 3. Estudiar y comprobar los datos\n",
    "\n",
    "  -  ¿Cuántos eventos hay en los registros?\n",
    "  -  ¿Cuántos usuarios hay en los registros?\n",
    "  -  ¿Cuál es el promedio de eventos por usuario?\n",
    "  -  ¿Qué periodo de tiempo cubren los datos? Encuentra la fecha máxima y mínima. Traza un histograma por fecha y hora. ¿Puedes tener seguridad de que tienes datos igualmente completos para todo el periodo? Los eventos más antiguos podrían terminar en los registros de algunos usuarios por razones técnicas y esto podría sesgar el panorama general. Encuentra el momento en el que los datos comienzan a estar completos e ignora la sección anterior. ¿Qué periodo representan realmente los datos?\n",
    "  -  ¿Perdiste muchos eventos y usuarios al excluir los datos más antiguos?\n",
    "  -  Asegúrate de tener usuarios de los tres grupos experimentales.\n"
   ]
  },
  {
   "cell_type": "code",
   "execution_count": 21,
   "metadata": {},
   "outputs": [
    {
     "name": "stdout",
     "output_type": "stream",
     "text": [
      "Nombres de los eventos:\n",
      "MainScreenAppear\n",
      "PaymentScreenSuccessful\n",
      "CartScreenAppear\n",
      "OffersScreenAppear\n",
      "Tutorial\n",
      "\n",
      "Número de eventos: 5\n"
     ]
    }
   ],
   "source": [
    "# ¿Cuántos eventos hay en los registros?\n",
    "print('Nombres de los eventos:')\n",
    "for event in data['EventName'].unique(): print(event)\n",
    "print()\n",
    "print('Número de eventos:',len(data['EventName'].unique()))"
   ]
  },
  {
   "cell_type": "code",
   "execution_count": 23,
   "metadata": {},
   "outputs": [
    {
     "name": "stdout",
     "output_type": "stream",
     "text": [
      "Número de Usuarios: 7551\n"
     ]
    }
   ],
   "source": [
    "# ¿Cuántos usuarios hay en los registros?\n",
    "\n",
    "print('Número de Usuarios:', len(data['DeviceIDHash'].unique()))"
   ]
  },
  {
   "cell_type": "code",
   "execution_count": 27,
   "metadata": {},
   "outputs": [
    {
     "data": {
      "text/plain": [
       "np.float64(32.33028737915508)"
      ]
     },
     "execution_count": 27,
     "metadata": {},
     "output_type": "execute_result"
    }
   ],
   "source": [
    "# ¿Cuál es el promedio de eventos por usuario?\n",
    "\n",
    "data.groupby('DeviceIDHash')['EventName'].count().mean()"
   ]
  },
  {
   "cell_type": "code",
   "execution_count": 31,
   "metadata": {},
   "outputs": [
    {
     "name": "stdout",
     "output_type": "stream",
     "text": [
      "Fecha mínima: 2019-07-24 23:43:36\n",
      "Fecha máxima: 2019-08-07 16:15:17\n"
     ]
    },
    {
     "data": {
      "image/png": "[encoded data removed]",
      "text/plain": [
       "<Figure size 1200x600 with 1 Axes>"
      ]
     },
     "metadata": {},
     "output_type": "display_data"
    }
   ],
   "source": [
    " # ¿Qué periodo de tiempo cubren los datos? Encuentra la fecha máxima y mínima. \n",
    "print(f\"Fecha mínima: {data['daytime'].min()}\")\n",
    "print(f\"Fecha máxima: {data['daytime'].max()}\")\n",
    "\n",
    "# Traza un histograma por fecha y hora\n",
    "plt.figure(figsize=(12, 6))\n",
    "data['daytime'].hist(bins=100)\n",
    "plt.xlabel('Fecha y Hora')\n",
    "plt.ylabel('Frecuencia')\n",
    "plt.title('Histograma de eventos por fecha')\n",
    "plt.xticks(rotation=45)\n",
    "plt.show()"
   ]
  },
  {
   "cell_type": "code",
   "execution_count": 40,
   "metadata": {},
   "outputs": [
    {
     "name": "stdout",
     "output_type": "stream",
     "text": [
      "Se observa que los datos son mas consistentes y parecen estar mas completos apartir del primero de agosto\n",
      "\n",
      "                EventName         DeviceIDHash  EventTimestamp  ExpId  \\\n",
      "42842            Tutorial  7002515446915619058      1564722004    248   \n",
      "42843  OffersScreenAppear   967080911133369983      1564722008    247   \n",
      "42844    MainScreenAppear  4868351371370467118      1564722015    248   \n",
      "42845    MainScreenAppear  1188589065896424825      1564722040    246   \n",
      "42846    MainScreenAppear  3024197421055968640      1564722046    247   \n",
      "\n",
      "                  daytime        date  \n",
      "42842 2019-08-02 00:00:04  2019-08-02  \n",
      "42843 2019-08-02 00:00:08  2019-08-02  \n",
      "42844 2019-08-02 00:00:15  2019-08-02  \n",
      "42845 2019-08-02 00:00:40  2019-08-02  \n",
      "42846 2019-08-02 00:00:46  2019-08-02  \n"
     ]
    }
   ],
   "source": [
    " # ¿Puedes tener seguridad de que tienes datos igualmente completos para todo el periodo? Los eventos más antiguos podrían terminar en los registros de algunos usuarios por razones técnicas y esto podría sesgar el panorama general. \n",
    " # Encuentra el momento en el que los datos comienzan a estar completos e ignora la sección anterior. \n",
    "data_f = data[data['date'] > pd.to_datetime('2019-08-01').date()]\n",
    " # ¿Qué periodo representan realmente los datos?\n",
    "print('Se observa que los datos son mas consistentes y parecen estar mas completos apartir del primero de agosto')\n",
    "print()\n",
    "print(data_f.head())\n"
   ]
  },
  {
   "cell_type": "markdown",
   "metadata": {},
   "source": [
    "\n",
    "Paso 4. Estudiar el embudo de eventos\n",
    "\n",
    "    Observa qué eventos hay en los registros y su frecuencia de suceso. Ordénalos por frecuencia.\n",
    "    Encuentra la cantidad de usuarios que realizaron cada una de estas acciones. Ordena los eventos por el número de usuarios. Calcula la proporción de usuarios que realizaron la acción al menos una vez.\n",
    "    ¿En qué orden crees que ocurrieron las acciones? ¿Todas son parte de una sola secuencia? No es necesario tenerlas en cuenta al calcular el embudo.\n",
    "    Utiliza el embudo de eventos para encontrar la proporción de usuarios que pasan de una etapa a la siguiente. Por ejemplo, para la secuencia de eventos A → B → C, calcula la proporción de usuarios en la etapa B a la cantidad de usuarios en la etapa A y la proporción de usuarios en la etapa C a la cantidad en la etapa B.\n",
    "    ¿En qué etapa pierdes más usuarios?\n",
    "    ¿Qué porcentaje de usuarios hace todo el viaje desde su primer evento hasta el pago?\n"
   ]
  },
  {
   "cell_type": "markdown",
   "metadata": {},
   "source": [
    "\n",
    "Paso 5. Estudiar los resultados del experimento\n",
    "\n",
    "    ¿Cuántos usuarios hay en cada grupo?\n",
    "    Tenemos dos grupos de control en el test A/A, donde comprobamos nuestros mecanismos y cálculos. Observa si hay una diferencia estadísticamente significativa entre las muestras 246 y 247.\n",
    "    Selecciona el evento más popular. En cada uno de los grupos de control, encuentra la cantidad de usuarios que realizaron esta acción. Encuentra su proporción. Comprueba si la diferencia entre los grupos es estadísticamente significativa. Repite el procedimiento para todos los demás eventos (ahorrarás tiempo si creas una función especial para esta prueba). ¿Puedes confirmar que los grupos se dividieron correctamente?\n",
    "    Haz lo mismo para el grupo con fuentes alteradas. Compara los resultados con los de cada uno de los grupos de control para cada evento de forma aislada. Compara los resultados con los resultados combinados de los grupos de control. ¿Qué conclusiones puedes sacar del experimento?\n",
    "    ¿Qué nivel de significancia has establecido para probar las hipótesis estadísticas mencionadas anteriormente? Calcula cuántas pruebas de hipótesis estadísticas has realizado. Con un nivel de significancia estadística de 0.1, uno de cada 10 resultados podría ser falso. ¿Cuál debería ser el nivel de significancia? Si deseas cambiarlo, vuelve a ejecutar los pasos anteriores y comprueba tus conclusiones."
   ]
  }
 ],
 "metadata": {
  "kernelspec": {
   "display_name": "TT",
   "language": "python",
   "name": "python3"
  },
  "language_info": {
   "codemirror_mode": {
    "name": "ipython",
    "version": 3
   },
   "file_extension": ".py",
   "mimetype": "text/x-python",
   "name": "python",
   "nbconvert_exporter": "python",
   "pygments_lexer": "ipython3",
   "version": "3.12.8"
  }
 },
 "nbformat": 4,
 "nbformat_minor": 2
}
