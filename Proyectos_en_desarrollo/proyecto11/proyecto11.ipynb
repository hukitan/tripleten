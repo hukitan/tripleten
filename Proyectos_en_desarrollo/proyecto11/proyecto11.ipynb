{
 "cells": [
  {
   "cell_type": "markdown",
   "metadata": {
    "vscode": {
     "languageId": "bat"
    }
   },
   "source": [
    "Descripción de los datos\n",
    "\n",
    "Cada entrada de registro es una acción de usuario o un evento.\n",
    "\n",
    "    EventName: nombre del evento.\n",
    "    DeviceIDHash: identificador de usuario unívoco.\n",
    "    EventTimestamp: hora del evento.\n",
    "    ExpId: número de experimento. 246 y 247 son los grupos de control, y 248 es el grupo de prueba.\n",
    "\n",
    "Instrucciones para completar el proyecto\n",
    "\n",
    "Paso 1. Abrir el archivo de datos y leer la información general\n",
    "\n",
    "Ruta de archivo: */datasets/logs_exp_us.csv* \n"
   ]
  },
  {
   "cell_type": "code",
   "execution_count": 1,
   "metadata": {},
   "outputs": [],
   "source": [
    "# se importan las librerias necesarias para el analisis de datos\n",
    "import pandas as pd\n",
    "import numpy as np\n",
    "import seaborn as sns\n",
    "import datetime as dt\n",
    "import scipy.stats as stats\n",
    "from matplotlib import pyplot as plt\n",
    "\n",
    "\n",
    "def looks(datos):\n",
    "    \"\"\"Genera un análisis de todo el set de datos de manera global\"\"\"\n",
    "\n",
    "    print(\"Se ejecuta la descripción de los datos:\")\n",
    "    print(datos.describe(include=\"all\"))\n",
    "    print()\n",
    "    print(\"se hace exploración con método info:\")\n",
    "    print(datos.info())\n",
    "    print()\n",
    "    print(\"se hace una observación con el método Sample:\")\n",
    "    if len(datos) > 10:\n",
    "        print(datos.sample(10))\n",
    "    else:\n",
    "        print(datos)\n",
    "    print()\n",
    "    print(\"hay NA?:\")\n",
    "    print(datos.isna().sum())\n",
    "    print()\n",
    "    print(\"Duplicados:\")\n",
    "    print(datos.duplicated().sum())"
   ]
  },
  {
   "cell_type": "code",
   "execution_count": 2,
   "metadata": {},
   "outputs": [
    {
     "name": "stdout",
     "output_type": "stream",
     "text": [
      "Se ejecuta la descripción de los datos:\n",
      "               EventName  DeviceIDHash  EventTimestamp          ExpId\n",
      "count             244126  2.441260e+05    2.441260e+05  244126.000000\n",
      "unique                 5           NaN             NaN            NaN\n",
      "top     MainScreenAppear           NaN             NaN            NaN\n",
      "freq              119205           NaN             NaN            NaN\n",
      "mean                 NaN  4.627568e+18    1.564914e+09     247.022296\n",
      "std                  NaN  2.642425e+18    1.771343e+05       0.824434\n",
      "min                  NaN  6.888747e+15    1.564030e+09     246.000000\n",
      "25%                  NaN  2.372212e+18    1.564757e+09     246.000000\n",
      "50%                  NaN  4.623192e+18    1.564919e+09     247.000000\n",
      "75%                  NaN  6.932517e+18    1.565075e+09     248.000000\n",
      "max                  NaN  9.222603e+18    1.565213e+09     248.000000\n",
      "\n",
      "se hace exploración con método info:\n",
      "<class 'pandas.core.frame.DataFrame'>\n",
      "RangeIndex: 244126 entries, 0 to 244125\n",
      "Data columns (total 4 columns):\n",
      " #   Column          Non-Null Count   Dtype \n",
      "---  ------          --------------   ----- \n",
      " 0   EventName       244126 non-null  object\n",
      " 1   DeviceIDHash    244126 non-null  int64 \n",
      " 2   EventTimestamp  244126 non-null  int64 \n",
      " 3   ExpId           244126 non-null  int64 \n",
      "dtypes: int64(3), object(1)\n",
      "memory usage: 7.5+ MB\n",
      "None\n",
      "\n",
      "se hace una observación con el método Sample:\n",
      "                 EventName         DeviceIDHash  EventTimestamp  ExpId\n",
      "44649     MainScreenAppear  7303879258190220659      1564727984    247\n",
      "76533   OffersScreenAppear  7005284321032281370      1564808841    246\n",
      "96644     MainScreenAppear  2681334307804895649      1564844236    246\n",
      "7479    OffersScreenAppear  7113166487901479566      1564642438    246\n",
      "20190     CartScreenAppear  2370096028522541720      1564664115    246\n",
      "8587      MainScreenAppear  8431432383043044723      1564645029    247\n",
      "27729     CartScreenAppear  6150090257971150017      1564675111    248\n",
      "167662  OffersScreenAppear  1601876840816097347      1565022364    247\n",
      "33750   OffersScreenAppear  1189296733004917712      1564683831    246\n",
      "22605     MainScreenAppear  4524350760292120090      1564667916    248\n",
      "\n",
      "hay NA?:\n",
      "EventName         0\n",
      "DeviceIDHash      0\n",
      "EventTimestamp    0\n",
      "ExpId             0\n",
      "dtype: int64\n",
      "\n",
      "Duplicados:\n",
      "413\n"
     ]
    }
   ],
   "source": [
    "data = pd.read_csv('logs_exp_us.csv' , sep='\\t')\n",
    "looks(data)"
   ]
  },
  {
   "cell_type": "code",
   "execution_count": 3,
   "metadata": {},
   "outputs": [
    {
     "name": "stdout",
     "output_type": "stream",
     "text": [
      "                      EventName        DeviceIDHash  EventTimestamp  ExpId\n",
      "130558         MainScreenAppear   33176906322804559      1564933075    248\n",
      "130995       OffersScreenAppear   33176906322804559      1564933763    248\n",
      "104108         CartScreenAppear   34565258828294726      1564857221    248\n",
      "159302  PaymentScreenSuccessful   54903596035630984      1565011672    248\n",
      "176813  PaymentScreenSuccessful   77364241990273403      1565044732    246\n",
      "189896         MainScreenAppear   91292479590032512      1565087723    246\n",
      "155464         MainScreenAppear   95206628315371849      1565005724    247\n",
      "110479         MainScreenAppear  170935625628929269      1564897487    246\n",
      "34223          CartScreenAppear  197027893265565660      1564684544    246\n",
      "17037          CartScreenAppear  197027893265565660      1564659614    246\n",
      "112562         CartScreenAppear  197027893265565660      1564902904    246\n",
      "144045         CartScreenAppear  197027893265565660      1564983860    246\n",
      "23421          CartScreenAppear  197027893265565660      1564668928    246\n",
      "220672         MainScreenAppear  252409739172511110      1565167797    246\n",
      "235186         CartScreenAppear  299409047914517767      1565193055    248\n"
     ]
    }
   ],
   "source": [
    "#Se exploran los duplicados para ver si hay duplicados reales, Se determina que no, solo son distintos eventos para el mismo dispositivo, o el mismo evento para distintos dispositivos\n",
    "print(data[data.duplicated()].sort_values('DeviceIDHash').head(15))"
   ]
  },
  {
   "cell_type": "markdown",
   "metadata": {},
   "source": [
    "\n",
    "Paso 2. Preparar los datos para el análisis\n",
    "\n",
    "    Cambia el nombre de las columnas de manera que sea conveniente para ti.\n",
    "    Comprueba los tipos de datos y valores ausentes. Corrige los datos si es necesario.\n",
    "    Agrega una columna de fecha y hora y una columna separada para las fechas."
   ]
  },
  {
   "cell_type": "code",
   "execution_count": 4,
   "metadata": {},
   "outputs": [
    {
     "data": {
      "text/html": [
       "<div>\n",
       "<style scoped>\n",
       "    .dataframe tbody tr th:only-of-type {\n",
       "        vertical-align: middle;\n",
       "    }\n",
       "\n",
       "    .dataframe tbody tr th {\n",
       "        vertical-align: top;\n",
       "    }\n",
       "\n",
       "    .dataframe thead th {\n",
       "        text-align: right;\n",
       "    }\n",
       "</style>\n",
       "<table border=\"1\" class=\"dataframe\">\n",
       "  <thead>\n",
       "    <tr style=\"text-align: right;\">\n",
       "      <th></th>\n",
       "      <th>EventName</th>\n",
       "      <th>DeviceIDHash</th>\n",
       "      <th>EventTimestamp</th>\n",
       "      <th>ExpId</th>\n",
       "      <th>daytime</th>\n",
       "      <th>date</th>\n",
       "    </tr>\n",
       "  </thead>\n",
       "  <tbody>\n",
       "    <tr>\n",
       "      <th>0</th>\n",
       "      <td>MainScreenAppear</td>\n",
       "      <td>4575588528974610257</td>\n",
       "      <td>1564029816</td>\n",
       "      <td>246</td>\n",
       "      <td>2019-07-24 23:43:36</td>\n",
       "      <td>2019-07-24</td>\n",
       "    </tr>\n",
       "    <tr>\n",
       "      <th>1</th>\n",
       "      <td>MainScreenAppear</td>\n",
       "      <td>7416695313311560658</td>\n",
       "      <td>1564053102</td>\n",
       "      <td>246</td>\n",
       "      <td>2019-07-25 06:11:42</td>\n",
       "      <td>2019-07-25</td>\n",
       "    </tr>\n",
       "    <tr>\n",
       "      <th>2</th>\n",
       "      <td>PaymentScreenSuccessful</td>\n",
       "      <td>3518123091307005509</td>\n",
       "      <td>1564054127</td>\n",
       "      <td>248</td>\n",
       "      <td>2019-07-25 06:28:47</td>\n",
       "      <td>2019-07-25</td>\n",
       "    </tr>\n",
       "    <tr>\n",
       "      <th>3</th>\n",
       "      <td>CartScreenAppear</td>\n",
       "      <td>3518123091307005509</td>\n",
       "      <td>1564054127</td>\n",
       "      <td>248</td>\n",
       "      <td>2019-07-25 06:28:47</td>\n",
       "      <td>2019-07-25</td>\n",
       "    </tr>\n",
       "    <tr>\n",
       "      <th>4</th>\n",
       "      <td>PaymentScreenSuccessful</td>\n",
       "      <td>6217807653094995999</td>\n",
       "      <td>1564055322</td>\n",
       "      <td>248</td>\n",
       "      <td>2019-07-25 06:48:42</td>\n",
       "      <td>2019-07-25</td>\n",
       "    </tr>\n",
       "    <tr>\n",
       "      <th>...</th>\n",
       "      <td>...</td>\n",
       "      <td>...</td>\n",
       "      <td>...</td>\n",
       "      <td>...</td>\n",
       "      <td>...</td>\n",
       "      <td>...</td>\n",
       "    </tr>\n",
       "    <tr>\n",
       "      <th>244121</th>\n",
       "      <td>MainScreenAppear</td>\n",
       "      <td>4599628364049201812</td>\n",
       "      <td>1565212345</td>\n",
       "      <td>247</td>\n",
       "      <td>2019-08-07 16:12:25</td>\n",
       "      <td>2019-08-07</td>\n",
       "    </tr>\n",
       "    <tr>\n",
       "      <th>244122</th>\n",
       "      <td>MainScreenAppear</td>\n",
       "      <td>5849806612437486590</td>\n",
       "      <td>1565212439</td>\n",
       "      <td>246</td>\n",
       "      <td>2019-08-07 16:13:59</td>\n",
       "      <td>2019-08-07</td>\n",
       "    </tr>\n",
       "    <tr>\n",
       "      <th>244123</th>\n",
       "      <td>MainScreenAppear</td>\n",
       "      <td>5746969938801999050</td>\n",
       "      <td>1565212483</td>\n",
       "      <td>246</td>\n",
       "      <td>2019-08-07 16:14:43</td>\n",
       "      <td>2019-08-07</td>\n",
       "    </tr>\n",
       "    <tr>\n",
       "      <th>244124</th>\n",
       "      <td>MainScreenAppear</td>\n",
       "      <td>5746969938801999050</td>\n",
       "      <td>1565212498</td>\n",
       "      <td>246</td>\n",
       "      <td>2019-08-07 16:14:58</td>\n",
       "      <td>2019-08-07</td>\n",
       "    </tr>\n",
       "    <tr>\n",
       "      <th>244125</th>\n",
       "      <td>OffersScreenAppear</td>\n",
       "      <td>5746969938801999050</td>\n",
       "      <td>1565212517</td>\n",
       "      <td>246</td>\n",
       "      <td>2019-08-07 16:15:17</td>\n",
       "      <td>2019-08-07</td>\n",
       "    </tr>\n",
       "  </tbody>\n",
       "</table>\n",
       "<p>244126 rows × 6 columns</p>\n",
       "</div>"
      ],
      "text/plain": [
       "                      EventName         DeviceIDHash  EventTimestamp  ExpId  \\\n",
       "0              MainScreenAppear  4575588528974610257      1564029816    246   \n",
       "1              MainScreenAppear  7416695313311560658      1564053102    246   \n",
       "2       PaymentScreenSuccessful  3518123091307005509      1564054127    248   \n",
       "3              CartScreenAppear  3518123091307005509      1564054127    248   \n",
       "4       PaymentScreenSuccessful  6217807653094995999      1564055322    248   \n",
       "...                         ...                  ...             ...    ...   \n",
       "244121         MainScreenAppear  4599628364049201812      1565212345    247   \n",
       "244122         MainScreenAppear  5849806612437486590      1565212439    246   \n",
       "244123         MainScreenAppear  5746969938801999050      1565212483    246   \n",
       "244124         MainScreenAppear  5746969938801999050      1565212498    246   \n",
       "244125       OffersScreenAppear  5746969938801999050      1565212517    246   \n",
       "\n",
       "                   daytime        date  \n",
       "0      2019-07-24 23:43:36  2019-07-24  \n",
       "1      2019-07-25 06:11:42  2019-07-25  \n",
       "2      2019-07-25 06:28:47  2019-07-25  \n",
       "3      2019-07-25 06:28:47  2019-07-25  \n",
       "4      2019-07-25 06:48:42  2019-07-25  \n",
       "...                    ...         ...  \n",
       "244121 2019-08-07 16:12:25  2019-08-07  \n",
       "244122 2019-08-07 16:13:59  2019-08-07  \n",
       "244123 2019-08-07 16:14:43  2019-08-07  \n",
       "244124 2019-08-07 16:14:58  2019-08-07  \n",
       "244125 2019-08-07 16:15:17  2019-08-07  \n",
       "\n",
       "[244126 rows x 6 columns]"
      ]
     },
     "execution_count": 4,
     "metadata": {},
     "output_type": "execute_result"
    }
   ],
   "source": [
    "data['daytime'] = data['EventTimestamp'].apply(lambda x: dt.datetime.fromtimestamp(x))\n",
    "data['date'] = data['daytime'].dt.date\n",
    "data"
   ]
  },
  {
   "cell_type": "markdown",
   "metadata": {},
   "source": [
    "\n",
    "\n",
    "Paso 3. Estudiar y comprobar los datos\n",
    "\n",
    "  -  ¿Cuántos eventos hay en los registros?\n",
    "  -  ¿Cuántos usuarios hay en los registros?\n",
    "  -  ¿Cuál es el promedio de eventos por usuario?\n",
    "  -  ¿Qué periodo de tiempo cubren los datos? Encuentra la fecha máxima y mínima. Traza un histograma por fecha y hora. ¿Puedes tener seguridad de que tienes datos igualmente completos para todo el periodo? Los eventos más antiguos podrían terminar en los registros de algunos usuarios por razones técnicas y esto podría sesgar el panorama general. Encuentra el momento en el que los datos comienzan a estar completos e ignora la sección anterior. ¿Qué periodo representan realmente los datos?\n",
    "  -  ¿Perdiste muchos eventos y usuarios al excluir los datos más antiguos?\n",
    "  -  Asegúrate de tener usuarios de los tres grupos experimentales.\n"
   ]
  },
  {
   "cell_type": "code",
   "execution_count": 5,
   "metadata": {},
   "outputs": [
    {
     "name": "stdout",
     "output_type": "stream",
     "text": [
      "Nombres de los eventos:\n",
      "MainScreenAppear\n",
      "PaymentScreenSuccessful\n",
      "CartScreenAppear\n",
      "OffersScreenAppear\n",
      "Tutorial\n",
      "\n",
      "Número de eventos: 5\n"
     ]
    }
   ],
   "source": [
    "# ¿Cuántos eventos hay en los registros?\n",
    "print('Nombres de los eventos:')\n",
    "for event in data['EventName'].unique(): print(event)\n",
    "print()\n",
    "print('Número de eventos:',len(data['EventName'].unique()))"
   ]
  },
  {
   "cell_type": "code",
   "execution_count": 6,
   "metadata": {},
   "outputs": [
    {
     "name": "stdout",
     "output_type": "stream",
     "text": [
      "Número de Usuarios: 7551\n"
     ]
    }
   ],
   "source": [
    "# ¿Cuántos usuarios hay en los registros?\n",
    "\n",
    "print('Número de Usuarios:', len(data['DeviceIDHash'].unique()))"
   ]
  },
  {
   "cell_type": "code",
   "execution_count": 7,
   "metadata": {},
   "outputs": [
    {
     "name": "stdout",
     "output_type": "stream",
     "text": [
      "El promedio de eventos por usuario es de: 32.33 eventos\n"
     ]
    }
   ],
   "source": [
    "# ¿Cuál es el promedio de eventos por usuario?\n",
    "\n",
    "\n",
    "print(f\"El promedio de eventos por usuario es de: {data.groupby('DeviceIDHash')['EventName'].count().mean():.2f} eventos\")"
   ]
  },
  {
   "cell_type": "code",
   "execution_count": 8,
   "metadata": {},
   "outputs": [
    {
     "name": "stdout",
     "output_type": "stream",
     "text": [
      "Fecha mínima: 2019-07-24 23:43:36\n",
      "Fecha máxima: 2019-08-07 16:15:17\n"
     ]
    },
    {
     "data": {
      "image/png": "[encoded data removed]",
      "text/plain": [
       "<Figure size 1200x600 with 1 Axes>"
      ]
     },
     "metadata": {},
     "output_type": "display_data"
    }
   ],
   "source": [
    " # ¿Qué periodo de tiempo cubren los datos? Encuentra la fecha máxima y mínima. \n",
    "print(f\"Fecha mínima: {data['daytime'].min()}\")\n",
    "print(f\"Fecha máxima: {data['daytime'].max()}\")\n",
    "\n",
    "# Traza un histograma por fecha y hora\n",
    "plt.figure(figsize=(12, 6))\n",
    "data['daytime'].hist(bins=100)\n",
    "plt.xlabel('Fecha y Hora')\n",
    "plt.ylabel('Frecuencia')\n",
    "plt.title('Histograma de eventos por fecha')\n",
    "plt.xticks(rotation=45)\n",
    "plt.show()"
   ]
  },
  {
   "cell_type": "code",
   "execution_count": 9,
   "metadata": {},
   "outputs": [
    {
     "name": "stdout",
     "output_type": "stream",
     "text": [
      "Se observa que los datos son mas consistentes y parecen estar mas completos apartir del primero de agosto\n",
      "\n",
      "                EventName         DeviceIDHash  EventTimestamp  ExpId  \\\n",
      "42842            Tutorial  7002515446915619058      1564722004    248   \n",
      "42843  OffersScreenAppear   967080911133369983      1564722008    247   \n",
      "42844    MainScreenAppear  4868351371370467118      1564722015    248   \n",
      "42845    MainScreenAppear  1188589065896424825      1564722040    246   \n",
      "42846    MainScreenAppear  3024197421055968640      1564722046    247   \n",
      "\n",
      "                  daytime        date  \n",
      "42842 2019-08-02 00:00:04  2019-08-02  \n",
      "42843 2019-08-02 00:00:08  2019-08-02  \n",
      "42844 2019-08-02 00:00:15  2019-08-02  \n",
      "42845 2019-08-02 00:00:40  2019-08-02  \n",
      "42846 2019-08-02 00:00:46  2019-08-02  \n"
     ]
    }
   ],
   "source": [
    " # ¿Puedes tener seguridad de que tienes datos igualmente completos para todo el periodo? Los eventos más antiguos podrían terminar en los registros de algunos usuarios por razones técnicas y esto podría sesgar el panorama general. \n",
    " # Encuentra el momento en el que los datos comienzan a estar completos e ignora la sección anterior. \n",
    "data_f = data[data['date'] > pd.to_datetime('2019-08-01').date()]\n",
    " # ¿Qué periodo representan realmente los datos?\n",
    "print('Se observa que los datos son mas consistentes y parecen estar mas completos apartir del primero de agosto')\n",
    "print()\n",
    "print(data_f.head())\n"
   ]
  },
  {
   "cell_type": "code",
   "execution_count": 10,
   "metadata": {},
   "outputs": [
    {
     "data": {
      "image/png": "[encoded data removed]",
      "text/plain": [
       "<Figure size 1200x600 with 1 Axes>"
      ]
     },
     "metadata": {},
     "output_type": "display_data"
    }
   ],
   "source": [
    "# Traza un histograma por fecha y hora\n",
    "plt.figure(figsize=(12, 6))\n",
    "data_f['daytime'].hist(bins=100)\n",
    "plt.xlabel('Fecha y Hora')\n",
    "plt.ylabel('Frecuencia')\n",
    "plt.title('Histograma de eventos por fecha (filtrado)')\n",
    "plt.xticks(rotation=45)\n",
    "plt.show()"
   ]
  },
  {
   "cell_type": "markdown",
   "metadata": {},
   "source": [
    "Se observa que hay una tendencia a utilizar la app en aproximadamente la misma hora del dia"
   ]
  },
  {
   "cell_type": "markdown",
   "metadata": {},
   "source": [
    "\n",
    "Paso 4. Estudiar el embudo de eventos\n",
    "\n",
    "    Observa qué eventos hay en los registros y su frecuencia de suceso. Ordénalos por frecuencia.\n",
    "    Encuentra la cantidad de usuarios que realizaron cada una de estas acciones. Ordena los eventos por el número de usuarios. Calcula la proporción de usuarios que realizaron la acción al menos una vez.\n",
    "    ¿En qué orden crees que ocurrieron las acciones? ¿Todas son parte de una sola secuencia? No es necesario tenerlas en cuenta al calcular el embudo.\n",
    "    Utiliza el embudo de eventos para encontrar la proporción de usuarios que pasan de una etapa a la siguiente. Por ejemplo, para la secuencia de eventos A → B → C, calcula la proporción de usuarios en la etapa B a la cantidad de usuarios en la etapa A y la proporción de usuarios en la etapa C a la cantidad en la etapa B.\n",
    "    ¿En qué etapa pierdes más usuarios?\n",
    "    ¿Qué porcentaje de usuarios hace todo el viaje desde su primer evento hasta el pago?\n"
   ]
  },
  {
   "cell_type": "code",
   "execution_count": 11,
   "metadata": {},
   "outputs": [
    {
     "data": {
      "text/plain": [
       "EventName\n",
       "Tutorial                     774\n",
       "PaymentScreenSuccessful    28284\n",
       "CartScreenAppear           35036\n",
       "OffersScreenAppear         38857\n",
       "MainScreenAppear           98333\n",
       "Name: daytime, dtype: int64"
      ]
     },
     "execution_count": 11,
     "metadata": {},
     "output_type": "execute_result"
    }
   ],
   "source": [
    "#  Observa qué eventos hay en los registros y su frecuencia de suceso. Ordénalos por frecuencia.\n",
    "data_f.groupby('EventName')['daytime'].agg('count').sort_values()"
   ]
  },
  {
   "cell_type": "markdown",
   "metadata": {},
   "source": [
    "Se observa que el evento mas frecuente es ver la pantalla principal, por el contrario casi ningun usuario realizo el tutorial "
   ]
  },
  {
   "cell_type": "code",
   "execution_count": 12,
   "metadata": {},
   "outputs": [
    {
     "name": "stdout",
     "output_type": "stream",
     "text": [
      "El numero de eventos por usuario es:\n",
      "EventName\n",
      "MainScreenAppear           7138\n",
      "OffersScreenAppear         4366\n",
      "CartScreenAppear           3561\n",
      "PaymentScreenSuccessful    3392\n",
      "Tutorial                    674\n",
      "Name: DeviceIDHash, dtype: int64\n",
      "\n",
      "la proporcion es:\n",
      "EventName\n",
      "MainScreenAppear           0.981978\n",
      "OffersScreenAppear         0.600633\n",
      "CartScreenAppear           0.489889\n",
      "PaymentScreenSuccessful    0.466639\n",
      "Tutorial                   0.092723\n",
      "Name: DeviceIDHash, dtype: float64\n"
     ]
    }
   ],
   "source": [
    "#Encuentra la cantidad de usuarios que realizaron cada una de estas acciones. Ordena los eventos por el número de usuarios.\n",
    "eventByUser = data_f.groupby('EventName')['DeviceIDHash'].nunique().sort_values(ascending= False)\n",
    "# Calcula la proporción de usuarios que realizaron la acción al menos una vez.\n",
    "n_usuarios = data_f['DeviceIDHash'].nunique()\n",
    "\n",
    "print('El numero de eventos por usuario es:')\n",
    "print(eventByUser)\n",
    "print()\n",
    "print('la proporcion es:')\n",
    "print(eventByUser/n_usuarios)\n"
   ]
  },
  {
   "cell_type": "markdown",
   "metadata": {},
   "source": [
    "Se observa que menos de la mitad de usuarios que abren la aplicacion concretan la compra "
   ]
  },
  {
   "cell_type": "code",
   "execution_count": 13,
   "metadata": {},
   "outputs": [],
   "source": [
    "# definimos una funcion para uso posterior \n",
    "\n",
    "def funnl_ord(data, funnel):\n",
    "    \"\"\" Se genera una funcion para establecer el orden de eventos. \n",
    "    Se toman dos argumentos; el origen de los datos y el funnel ordenado de los eventos\"\"\"\n",
    "\n",
    "    funn_eve = pd.DataFrame(columns=['event', 'unique_users', 'proportion'])\n",
    "\n",
    "    for i in range(len(funnel) - 1):\n",
    "        current_event = funnel[i]\n",
    "        next_event = funnel[i + 1]\n",
    "\n",
    "        current_users = data[data['EventName'] == current_event]['DeviceIDHash'].unique()\n",
    "        next_users = data[data['EventName'] == next_event]['DeviceIDHash'].unique()\n",
    "\n",
    "        proportion = len(set(next_users) & set(current_users)) / len(current_users)\n",
    "\n",
    "        new_row = pd.DataFrame({'event': [next_event], 'unique_users': [len(next_users)], 'proportion': [proportion]})\n",
    "        funn_eve = pd.concat([funn_eve, new_row], ignore_index=True)\n",
    "    print(funn_eve)"
   ]
  },
  {
   "cell_type": "code",
   "execution_count": 14,
   "metadata": {},
   "outputs": [
    {
     "name": "stdout",
     "output_type": "stream",
     "text": [
      "                     event unique_users  proportion\n",
      "0       OffersScreenAppear         4366    0.593864\n",
      "1         CartScreenAppear         3561    0.804627\n",
      "2  PaymentScreenSuccessful         3392    0.951137\n"
     ]
    },
    {
     "name": "stderr",
     "output_type": "stream",
     "text": [
      "/tmp/ipykernel_3251/1018595354.py:19: FutureWarning: The behavior of DataFrame concatenation with empty or all-NA entries is deprecated. In a future version, this will no longer exclude empty or all-NA columns when determining the result dtypes. To retain the old behavior, exclude the relevant entries before the concat operation.\n",
      "  funn_eve = pd.concat([funn_eve, new_row], ignore_index=True)\n"
     ]
    }
   ],
   "source": [
    "#¿En qué orden crees que ocurrieron las acciones? ¿Todas son parte de una sola secuencia? No es necesario tenerlas en cuenta al calcular el embudo.\n",
    "#Utiliza el embudo de eventos para encontrar la proporción de usuarios que pasan de una etapa a la siguiente. Por ejemplo, para la secuencia de eventos A → B → C, calcula la proporción de usuarios en la etapa B a la cantidad de usuarios en la etapa A y la proporción de usuarios en la etapa C a la cantidad en la etapa B.\n",
    "#¿En qué etapa pierdes más usuarios?\n",
    "\n",
    "#Debido a que los usuarios parecen omitir el tutorial no se considera para el embudo de eventos \n",
    "#se genera embudo\n",
    "funnel = ['MainScreenAppear','OffersScreenAppear','CartScreenAppear','PaymentScreenSuccessful']\n",
    "\n",
    "funnl_ord(data_f,funnel)\n"
   ]
  },
  {
   "cell_type": "markdown",
   "metadata": {},
   "source": [
    "Se observa que poco mas de la mitad de usuarios que abren la apliacion pasan a la pantalla de oferta pero el 80% de esos agregan el prducto a su carrito y casi el 100% de los usuarios con producto en el carrito realizan la compra "
   ]
  },
  {
   "cell_type": "code",
   "execution_count": 15,
   "metadata": {},
   "outputs": [
    {
     "name": "stdout",
     "output_type": "stream",
     "text": [
      "El porcentaje de usuarios que hace todo el viaje desde su primer evento hasta el pago es: 46.01%\n"
     ]
    }
   ],
   "source": [
    "#  ¿Qué porcentaje de usuarios hace todo el viaje desde su primer evento hasta el pago?\n",
    "def user_full_trip(data, funnel, show=True):\n",
    "    \"\"\" Se genera una funcion para dar el porcentaje de usuarios que recorren el funnel completo\n",
    "    desde el inicio hasta el final\"\"\"\n",
    "\n",
    "    # Encuentra los usuarios que realizaron el primer evento\n",
    "    first_event_users = data[data['EventName'] == funnel[0]]['DeviceIDHash'].unique()\n",
    "    # Encuentra los usuarios que realizaron el último evento (pago)\n",
    "    last_event_users = data[data['EventName'] == funnel[-1]]['DeviceIDHash'].unique()\n",
    "    # Calcula el porcentaje de usuarios que realizaron todo el viaje\n",
    "    percentage_full_journey = len(set(last_event_users) & set(first_event_users)) / len(first_event_users) * 100\n",
    "    \n",
    "    if show:\n",
    "        print(f\"El porcentaje de usuarios que hace todo el viaje desde su primer evento hasta el pago es: {percentage_full_journey:.2f}%\")\n",
    "    else:\n",
    "        return percentage_full_journey\n",
    "\n",
    "\n",
    "user_full_trip(data_f,funnel)"
   ]
  },
  {
   "cell_type": "markdown",
   "metadata": {},
   "source": [
    "\n",
    "Paso 5. Estudiar los resultados del experimento\n",
    "\n",
    "   - ¿Cuántos usuarios hay en cada grupo?\n",
    "   - Tenemos dos grupos de control en el test A/A, donde comprobamos nuestros mecanismos y cálculos. Observa si hay una diferencia estadísticamente significativa entre las muestras 246 y 247.\n",
    "   - Selecciona el evento más popular. En cada uno de los grupos de control, encuentra la cantidad de usuarios que realizaron esta acción. Encuentra su proporción. Comprueba si la diferencia entre los grupos es estadísticamente significativa. Repite el procedimiento para todos los demás eventos (ahorrarás tiempo si creas una función especial para esta prueba). ¿Puedes confirmar que los grupos se dividieron correctamente?\n",
    "   - Haz lo mismo para el grupo con fuentes alteradas. Compara los resultados con los de cada uno de los grupos de control para cada evento de forma aislada. Compara los resultados con los resultados combinados de los grupos de control. ¿Qué conclusiones puedes sacar del experimento?\n",
    "   - ¿Qué nivel de significancia has establecido para probar las hipótesis estadísticas mencionadas anteriormente? Calcula cuántas pruebas de hipótesis estadísticas has realizado. Con un nivel de significancia estadística de 0.1, uno de cada 10 resultados podría ser falso. ¿Cuál debería ser el nivel de significancia? Si deseas cambiarlo, vuelve a ejecutar los pasos anteriores y comprueba tus conclusiones."
   ]
  },
  {
   "cell_type": "code",
   "execution_count": 26,
   "metadata": {},
   "outputs": [
    {
     "name": "stdout",
     "output_type": "stream",
     "text": [
      "ExpId                      246    247\n",
      "EventName                            \n",
      "CartScreenAppear         12345  10295\n",
      "MainScreenAppear         31901  32511\n",
      "OffersScreenAppear       12562  12643\n",
      "PaymentScreenSuccessful  10074   8312\n",
      "Tutorial                   258    251\n",
      "P-value: 0.000000\n",
      "Hay una diferencia estadísticamente significativa entre las muestras 246 y 247.\n"
     ]
    }
   ],
   "source": [
    "# Tenemos dos grupos de control en el test A/A, donde comprobamos nuestros mecanismos y cálculos. Observa si hay una diferencia estadísticamente significativa entre las muestras 246 y 247\n",
    "\n",
    "# Crear una tabla de contingencia\n",
    "contingency_table = pd.crosstab(\n",
    "    data_f[data_f['ExpId'] != 248]['EventName'], data_f[data_f['ExpId'] != 248]['ExpId'])\n",
    "\n",
    "# Realizar la prueba chi-cuadrado\n",
    "chi2, p, dof, expected = stats.chi2_contingency(contingency_table)\n",
    "\n",
    "print(contingency_table)\n",
    "print(f\"P-value: {p:4f}\")\n",
    "\n",
    "# Verificar si el resultado es estadísticamente significativo\n",
    "alpha = 0.05\n",
    "if p < alpha:\n",
    "    print(\"Hay una diferencia estadísticamente significativa entre las muestras 246 y 247.\")\n",
    "else:\n",
    "    print(\"No hay una diferencia estadísticamente significativa entre las muestras 246 y 247.\")"
   ]
  },
  {
   "cell_type": "markdown",
   "metadata": {},
   "source": [
    "Se observa que las propociones de usuarios entre eventos entre los eventos control son diferentes, por lo que se considera que debe existir un error de separacion de la muestra. Es decir estan separados de manera incorrecta para formar dos grupos "
   ]
  },
  {
   "cell_type": "code",
   "execution_count": 17,
   "metadata": {},
   "outputs": [
    {
     "data": {
      "text/html": [
       "<div>\n",
       "<style scoped>\n",
       "    .dataframe tbody tr th:only-of-type {\n",
       "        vertical-align: middle;\n",
       "    }\n",
       "\n",
       "    .dataframe tbody tr th {\n",
       "        vertical-align: top;\n",
       "    }\n",
       "\n",
       "    .dataframe thead th {\n",
       "        text-align: right;\n",
       "    }\n",
       "</style>\n",
       "<table border=\"1\" class=\"dataframe\">\n",
       "  <thead>\n",
       "    <tr style=\"text-align: right;\">\n",
       "      <th>ExpId</th>\n",
       "      <th>246</th>\n",
       "      <th>247</th>\n",
       "      <th>248</th>\n",
       "    </tr>\n",
       "    <tr>\n",
       "      <th>EventName</th>\n",
       "      <th></th>\n",
       "      <th></th>\n",
       "      <th></th>\n",
       "    </tr>\n",
       "  </thead>\n",
       "  <tbody>\n",
       "    <tr>\n",
       "      <th>CartScreenAppear</th>\n",
       "      <td>1208</td>\n",
       "      <td>1182</td>\n",
       "      <td>1171</td>\n",
       "    </tr>\n",
       "    <tr>\n",
       "      <th>MainScreenAppear</th>\n",
       "      <td>2351</td>\n",
       "      <td>2382</td>\n",
       "      <td>2405</td>\n",
       "    </tr>\n",
       "    <tr>\n",
       "      <th>OffersScreenAppear</th>\n",
       "      <td>1475</td>\n",
       "      <td>1434</td>\n",
       "      <td>1457</td>\n",
       "    </tr>\n",
       "    <tr>\n",
       "      <th>PaymentScreenSuccessful</th>\n",
       "      <td>1149</td>\n",
       "      <td>1116</td>\n",
       "      <td>1127</td>\n",
       "    </tr>\n",
       "    <tr>\n",
       "      <th>Tutorial</th>\n",
       "      <td>222</td>\n",
       "      <td>220</td>\n",
       "      <td>232</td>\n",
       "    </tr>\n",
       "  </tbody>\n",
       "</table>\n",
       "</div>"
      ],
      "text/plain": [
       "ExpId                     246   247   248\n",
       "EventName                                \n",
       "CartScreenAppear         1208  1182  1171\n",
       "MainScreenAppear         2351  2382  2405\n",
       "OffersScreenAppear       1475  1434  1457\n",
       "PaymentScreenSuccessful  1149  1116  1127\n",
       "Tutorial                  222   220   232"
      ]
     },
     "execution_count": 17,
     "metadata": {},
     "output_type": "execute_result"
    }
   ],
   "source": [
    "#ver evento mas popular\n",
    "data_f.pivot_table(index='EventName', columns='ExpId', aggfunc='nunique', values='DeviceIDHash')"
   ]
  },
  {
   "cell_type": "markdown",
   "metadata": {},
   "source": [
    "Se encuentra que el evento mas popular es la presenciation de la pantalla principal"
   ]
  }
 ],
 "metadata": {
  "kernelspec": {
   "display_name": "TT",
   "language": "python",
   "name": "python3"
  },
  "language_info": {
   "codemirror_mode": {
    "name": "ipython",
    "version": 3
   },
   "file_extension": ".py",
   "mimetype": "text/x-python",
   "name": "python",
   "nbconvert_exporter": "python",
   "pygments_lexer": "ipython3",
   "version": "3.12.8"
  }
 },
 "nbformat": 4,
 "nbformat_minor": 2
}
