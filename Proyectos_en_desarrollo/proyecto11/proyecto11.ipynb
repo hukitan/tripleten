{
 "cells": [
  {
   "cell_type": "markdown",
   "metadata": {
    "vscode": {
     "languageId": "bat"
    }
   },
   "source": [
    "Descripción de los datos\n",
    "\n",
    "Cada entrada de registro es una acción de usuario o un evento.\n",
    "\n",
    "    EventName: nombre del evento.\n",
    "    DeviceIDHash: identificador de usuario unívoco.\n",
    "    EventTimestamp: hora del evento.\n",
    "    ExpId: número de experimento. 246 y 247 son los grupos de control, y 248 es el grupo de prueba.\n",
    "\n",
    "Instrucciones para completar el proyecto\n",
    "\n",
    "Paso 1. Abrir el archivo de datos y leer la información general\n",
    "\n",
    "Ruta de archivo: */datasets/logs_exp_us.csv* \n"
   ]
  },
  {
   "cell_type": "code",
   "execution_count": 2,
   "metadata": {},
   "outputs": [],
   "source": [
    "# se importan las librerias necesarias para el analisis de datos\n",
    "import pandas as pd\n",
    "import numpy as np\n",
    "import seaborn as sns\n",
    "import datetime as dt\n",
    "import scipy.stats as stats\n",
    "from matplotlib import pyplot as plt\n",
    "\n",
    "\n",
    "def looks(datos):\n",
    "    \"\"\"Genera un análisis de todo el set de datos de manera global\"\"\"\n",
    "\n",
    "    print(\"Se ejecuta la descripción de los datos:\")\n",
    "    print(datos.describe(include=\"all\"))\n",
    "    print()\n",
    "    print(\"se hace exploración con método info:\")\n",
    "    print(datos.info())\n",
    "    print()\n",
    "    print(\"se hace una observación con el método Sample:\")\n",
    "    if len(datos) > 10:\n",
    "        print(datos.sample(10))\n",
    "    else:\n",
    "        print(datos)\n",
    "    print()\n",
    "    print(\"hay NA?:\")\n",
    "    print(datos.isna().sum())\n",
    "    print()\n",
    "    print(\"Duplicados:\")\n",
    "    print(datos.duplicated().sum())"
   ]
  },
  {
   "cell_type": "code",
   "execution_count": 8,
   "metadata": {},
   "outputs": [
    {
     "name": "stdout",
     "output_type": "stream",
     "text": [
      "Se ejecuta la descripción de los datos:\n",
      "               EventName  DeviceIDHash  EventTimestamp          ExpId\n",
      "count             244126  2.441260e+05    2.441260e+05  244126.000000\n",
      "unique                 5           NaN             NaN            NaN\n",
      "top     MainScreenAppear           NaN             NaN            NaN\n",
      "freq              119205           NaN             NaN            NaN\n",
      "mean                 NaN  4.627568e+18    1.564914e+09     247.022296\n",
      "std                  NaN  2.642425e+18    1.771343e+05       0.824434\n",
      "min                  NaN  6.888747e+15    1.564030e+09     246.000000\n",
      "25%                  NaN  2.372212e+18    1.564757e+09     246.000000\n",
      "50%                  NaN  4.623192e+18    1.564919e+09     247.000000\n",
      "75%                  NaN  6.932517e+18    1.565075e+09     248.000000\n",
      "max                  NaN  9.222603e+18    1.565213e+09     248.000000\n",
      "\n",
      "se hace exploración con método info:\n",
      "<class 'pandas.core.frame.DataFrame'>\n",
      "RangeIndex: 244126 entries, 0 to 244125\n",
      "Data columns (total 4 columns):\n",
      " #   Column          Non-Null Count   Dtype \n",
      "---  ------          --------------   ----- \n",
      " 0   EventName       244126 non-null  object\n",
      " 1   DeviceIDHash    244126 non-null  int64 \n",
      " 2   EventTimestamp  244126 non-null  int64 \n",
      " 3   ExpId           244126 non-null  int64 \n",
      "dtypes: int64(3), object(1)\n",
      "memory usage: 7.5+ MB\n",
      "None\n",
      "\n",
      "se hace una observación con el método Sample:\n",
      "                 EventName         DeviceIDHash  EventTimestamp  ExpId\n",
      "6412    OffersScreenAppear  2456052565047493876      1564639785    248\n",
      "110700    MainScreenAppear  8865470276945806825      1564898048    246\n",
      "209265    MainScreenAppear  4625224290004122236      1565117659    246\n",
      "218732    MainScreenAppear  3609948224980157279      1565163094    247\n",
      "64089   OffersScreenAppear   892548152334080223      1564760875    248\n",
      "102899    MainScreenAppear  4827377269497927948      1564854677    246\n",
      "193250  OffersScreenAppear  2890852187923418999      1565093848    246\n",
      "140594    CartScreenAppear  7648005088289827166      1564956820    246\n",
      "215346    MainScreenAppear  3440697183044118968      1565153413    248\n",
      "216051    MainScreenAppear  9096061512161785646      1565156019    248\n",
      "\n",
      "hay NA?:\n",
      "EventName         0\n",
      "DeviceIDHash      0\n",
      "EventTimestamp    0\n",
      "ExpId             0\n",
      "dtype: int64\n",
      "\n",
      "Duplicados:\n",
      "413\n"
     ]
    }
   ],
   "source": [
    "data = pd.read_csv('logs_exp_us.csv' , sep='\\t')\n",
    "looks(data)"
   ]
  },
  {
   "cell_type": "code",
   "execution_count": 13,
   "metadata": {},
   "outputs": [
    {
     "name": "stdout",
     "output_type": "stream",
     "text": [
      "                      EventName        DeviceIDHash  EventTimestamp  ExpId\n",
      "130558         MainScreenAppear   33176906322804559      1564933075    248\n",
      "130995       OffersScreenAppear   33176906322804559      1564933763    248\n",
      "104108         CartScreenAppear   34565258828294726      1564857221    248\n",
      "159302  PaymentScreenSuccessful   54903596035630984      1565011672    248\n",
      "176813  PaymentScreenSuccessful   77364241990273403      1565044732    246\n",
      "189896         MainScreenAppear   91292479590032512      1565087723    246\n",
      "155464         MainScreenAppear   95206628315371849      1565005724    247\n",
      "110479         MainScreenAppear  170935625628929269      1564897487    246\n",
      "34223          CartScreenAppear  197027893265565660      1564684544    246\n",
      "17037          CartScreenAppear  197027893265565660      1564659614    246\n",
      "112562         CartScreenAppear  197027893265565660      1564902904    246\n",
      "144045         CartScreenAppear  197027893265565660      1564983860    246\n",
      "23421          CartScreenAppear  197027893265565660      1564668928    246\n",
      "220672         MainScreenAppear  252409739172511110      1565167797    246\n",
      "235186         CartScreenAppear  299409047914517767      1565193055    248\n"
     ]
    }
   ],
   "source": [
    "#Se exploran los duplicados para ver si hay duplicados reales, Se determina que no, solo son distintos eventos para el mismo dispositivo, o el mismo evento para distintos dispositivos\n",
    "print(data[data.duplicated()].sort_values('DeviceIDHash').head(15))"
   ]
  },
  {
   "cell_type": "markdown",
   "metadata": {},
   "source": [
    "\n",
    "Paso 2. Preparar los datos para el análisis\n",
    "\n",
    "    Cambia el nombre de las columnas de manera que sea conveniente para ti.\n",
    "    Comprueba los tipos de datos y valores ausentes. Corrige los datos si es necesario.\n",
    "    Agrega una columna de fecha y hora y una columna separada para las fechas."
   ]
  },
  {
   "cell_type": "code",
   "execution_count": null,
   "metadata": {},
   "outputs": [],
   "source": []
  },
  {
   "cell_type": "markdown",
   "metadata": {},
   "source": [
    "\n",
    "\n",
    "Paso 3. Estudiar y comprobar los datos\n",
    "\n",
    "    ¿Cuántos eventos hay en los registros?\n",
    "    ¿Cuántos usuarios hay en los registros?\n",
    "    ¿Cuál es el promedio de eventos por usuario?\n",
    "    ¿Qué periodo de tiempo cubren los datos? Encuentra la fecha máxima y mínima. Traza un histograma por fecha y hora. ¿Puedes tener seguridad de que tienes datos igualmente completos para todo el periodo? Los eventos más antiguos podrían terminar en los registros de algunos usuarios por razones técnicas y esto podría sesgar el panorama general. Encuentra el momento en el que los datos comienzan a estar completos e ignora la sección anterior. ¿Qué periodo representan realmente los datos?\n",
    "    ¿Perdiste muchos eventos y usuarios al excluir los datos más antiguos?\n",
    "    Asegúrate de tener usuarios de los tres grupos experimentales.\n"
   ]
  },
  {
   "cell_type": "markdown",
   "metadata": {},
   "source": [
    "\n",
    "Paso 4. Estudiar el embudo de eventos\n",
    "\n",
    "    Observa qué eventos hay en los registros y su frecuencia de suceso. Ordénalos por frecuencia.\n",
    "    Encuentra la cantidad de usuarios que realizaron cada una de estas acciones. Ordena los eventos por el número de usuarios. Calcula la proporción de usuarios que realizaron la acción al menos una vez.\n",
    "    ¿En qué orden crees que ocurrieron las acciones? ¿Todas son parte de una sola secuencia? No es necesario tenerlas en cuenta al calcular el embudo.\n",
    "    Utiliza el embudo de eventos para encontrar la proporción de usuarios que pasan de una etapa a la siguiente. Por ejemplo, para la secuencia de eventos A → B → C, calcula la proporción de usuarios en la etapa B a la cantidad de usuarios en la etapa A y la proporción de usuarios en la etapa C a la cantidad en la etapa B.\n",
    "    ¿En qué etapa pierdes más usuarios?\n",
    "    ¿Qué porcentaje de usuarios hace todo el viaje desde su primer evento hasta el pago?\n"
   ]
  },
  {
   "cell_type": "markdown",
   "metadata": {},
   "source": [
    "\n",
    "Paso 5. Estudiar los resultados del experimento\n",
    "\n",
    "    ¿Cuántos usuarios hay en cada grupo?\n",
    "    Tenemos dos grupos de control en el test A/A, donde comprobamos nuestros mecanismos y cálculos. Observa si hay una diferencia estadísticamente significativa entre las muestras 246 y 247.\n",
    "    Selecciona el evento más popular. En cada uno de los grupos de control, encuentra la cantidad de usuarios que realizaron esta acción. Encuentra su proporción. Comprueba si la diferencia entre los grupos es estadísticamente significativa. Repite el procedimiento para todos los demás eventos (ahorrarás tiempo si creas una función especial para esta prueba). ¿Puedes confirmar que los grupos se dividieron correctamente?\n",
    "    Haz lo mismo para el grupo con fuentes alteradas. Compara los resultados con los de cada uno de los grupos de control para cada evento de forma aislada. Compara los resultados con los resultados combinados de los grupos de control. ¿Qué conclusiones puedes sacar del experimento?\n",
    "    ¿Qué nivel de significancia has establecido para probar las hipótesis estadísticas mencionadas anteriormente? Calcula cuántas pruebas de hipótesis estadísticas has realizado. Con un nivel de significancia estadística de 0.1, uno de cada 10 resultados podría ser falso. ¿Cuál debería ser el nivel de significancia? Si deseas cambiarlo, vuelve a ejecutar los pasos anteriores y comprueba tus conclusiones."
   ]
  }
 ],
 "metadata": {
  "kernelspec": {
   "display_name": "TT",
   "language": "python",
   "name": "python3"
  },
  "language_info": {
   "codemirror_mode": {
    "name": "ipython",
    "version": 3
   },
   "file_extension": ".py",
   "mimetype": "text/x-python",
   "name": "python",
   "nbconvert_exporter": "python",
   "pygments_lexer": "ipython3",
   "version": "3.12.8"
  }
 },
 "nbformat": 4,
 "nbformat_minor": 2
}
