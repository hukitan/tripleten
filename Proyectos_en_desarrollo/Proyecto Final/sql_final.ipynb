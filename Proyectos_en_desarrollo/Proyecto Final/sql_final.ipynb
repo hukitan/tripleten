{
 "cells": [
  {
   "cell_type": "markdown",
   "metadata": {},
   "source": [
    "## SQL\n",
    "\n",
    "El coronavirus tomó al mundo entero por sorpresa, cambiando la rutina diaria de todos y todas. Los habitantes de las ciudades ya no pasaban su tiempo libre fuera, yendo a cafés y centros comerciales; sino que más gente se quedaba en casa, leyendo libros. Eso atrajo la atención de las startups (empresas emergentes) que se apresuraron a desarrollar nuevas aplicaciones para los amantes de los libros.\n",
    "\n",
    "Te han dado una base de datos de uno de los servicios que compiten en este mercado. Contiene datos sobre libros, editoriales, autores y calificaciones de clientes y reseñas de libros. Esta información se utilizará para generar una propuesta de valor para un nuevo producto."
   ]
  },
  {
   "cell_type": "markdown",
   "metadata": {},
   "source": [
    "### El objetivo principal de este proyecto es analizar una base de datos de libros, autores, editoriales y reseñas para:\n",
    "\n",
    "- Entender el volumen de publicaciones recientes (post-2000)\n",
    "\n",
    "- Analizar la interacción de los usuarios con los libros (reseñas y calificaciones)\n",
    "\n",
    "- Identificar las editoriales y autores más relevantes según diferentes métricas\n",
    "\n",
    "- Extraer insights sobre el comportamiento de los usuarios más activos\n",
    "\n",
    "Este análisis ayudará a desarrollar una propuesta de valor para una nueva aplicación dirigida a amantes de la lectura."
   ]
  },
  {
   "cell_type": "code",
   "execution_count": 32,
   "metadata": {},
   "outputs": [],
   "source": [
    "# importar librerías\n",
    "import pandas as pd\n",
    "from sqlalchemy import create_engine\n",
    "\n",
    "\n",
    "db_config = {'user': 'practicum_student',         # nombre de usuario\n",
    "             'pwd': 's65BlTKV3faNIGhmvJVzOqhs',  # contraseña\n",
    "             'host': 'rc1b-wcoijxj3yxfsf3fs.mdb.yandexcloud.net',\n",
    "             'port': 6432,              # puerto de conexión\n",
    "             'db': 'data-analyst-final-project-db'}          # nombre de la base de datos\n",
    "\n",
    "connection_string = 'postgresql://{}:{}@{}:{}/{}'.format(db_config['user'],\n",
    "                                                         db_config['pwd'],\n",
    "                                                         db_config['host'],\n",
    "                                                         db_config['port'],\n",
    "                                                         db_config['db'])\n",
    "\n",
    "engine = create_engine(connection_string, connect_args={'sslmode': 'require'})\n"
   ]
  },
  {
   "cell_type": "markdown",
   "metadata": {},
   "source": [
    "### Se exploran las primeras 5 filas de cada tabla"
   ]
  },
  {
   "cell_type": "code",
   "execution_count": 33,
   "metadata": {},
   "outputs": [
    {
     "data": {
      "application/vnd.microsoft.datawrangler.viewer.v0+json": {
       "columns": [
        {
         "name": "index",
         "rawType": "int64",
         "type": "integer"
        },
        {
         "name": "book_id",
         "rawType": "int64",
         "type": "integer"
        },
        {
         "name": "author_id",
         "rawType": "int64",
         "type": "integer"
        },
        {
         "name": "title",
         "rawType": "object",
         "type": "string"
        },
        {
         "name": "num_pages",
         "rawType": "int64",
         "type": "integer"
        },
        {
         "name": "publication_date",
         "rawType": "object",
         "type": "unknown"
        },
        {
         "name": "publisher_id",
         "rawType": "int64",
         "type": "integer"
        }
       ],
       "conversionMethod": "pd.DataFrame",
       "ref": "55753e30-5231-49cc-be67-ae9ce4aa6bf1",
       "rows": [
        [
         "0",
         "1",
         "546",
         "'Salem's Lot",
         "594",
         "2005-11-01",
         "93"
        ],
        [
         "1",
         "2",
         "465",
         "1 000 Places to See Before You Die",
         "992",
         "2003-05-22",
         "336"
        ],
        [
         "2",
         "3",
         "407",
         "13 Little Blue Envelopes (Little Blue Envelope  #1)",
         "322",
         "2010-12-21",
         "135"
        ],
        [
         "3",
         "4",
         "82",
         "1491: New Revelations of the Americas Before Columbus",
         "541",
         "2006-10-10",
         "309"
        ],
        [
         "4",
         "5",
         "125",
         "1776",
         "386",
         "2006-07-04",
         "268"
        ]
       ],
       "shape": {
        "columns": 6,
        "rows": 5
       }
      },
      "text/html": [
       "<div>\n",
       "<style scoped>\n",
       "    .dataframe tbody tr th:only-of-type {\n",
       "        vertical-align: middle;\n",
       "    }\n",
       "\n",
       "    .dataframe tbody tr th {\n",
       "        vertical-align: top;\n",
       "    }\n",
       "\n",
       "    .dataframe thead th {\n",
       "        text-align: right;\n",
       "    }\n",
       "</style>\n",
       "<table border=\"1\" class=\"dataframe\">\n",
       "  <thead>\n",
       "    <tr style=\"text-align: right;\">\n",
       "      <th></th>\n",
       "      <th>book_id</th>\n",
       "      <th>author_id</th>\n",
       "      <th>title</th>\n",
       "      <th>num_pages</th>\n",
       "      <th>publication_date</th>\n",
       "      <th>publisher_id</th>\n",
       "    </tr>\n",
       "  </thead>\n",
       "  <tbody>\n",
       "    <tr>\n",
       "      <th>0</th>\n",
       "      <td>1</td>\n",
       "      <td>546</td>\n",
       "      <td>'Salem's Lot</td>\n",
       "      <td>594</td>\n",
       "      <td>2005-11-01</td>\n",
       "      <td>93</td>\n",
       "    </tr>\n",
       "    <tr>\n",
       "      <th>1</th>\n",
       "      <td>2</td>\n",
       "      <td>465</td>\n",
       "      <td>1 000 Places to See Before You Die</td>\n",
       "      <td>992</td>\n",
       "      <td>2003-05-22</td>\n",
       "      <td>336</td>\n",
       "    </tr>\n",
       "    <tr>\n",
       "      <th>2</th>\n",
       "      <td>3</td>\n",
       "      <td>407</td>\n",
       "      <td>13 Little Blue Envelopes (Little Blue Envelope...</td>\n",
       "      <td>322</td>\n",
       "      <td>2010-12-21</td>\n",
       "      <td>135</td>\n",
       "    </tr>\n",
       "    <tr>\n",
       "      <th>3</th>\n",
       "      <td>4</td>\n",
       "      <td>82</td>\n",
       "      <td>1491: New Revelations of the Americas Before C...</td>\n",
       "      <td>541</td>\n",
       "      <td>2006-10-10</td>\n",
       "      <td>309</td>\n",
       "    </tr>\n",
       "    <tr>\n",
       "      <th>4</th>\n",
       "      <td>5</td>\n",
       "      <td>125</td>\n",
       "      <td>1776</td>\n",
       "      <td>386</td>\n",
       "      <td>2006-07-04</td>\n",
       "      <td>268</td>\n",
       "    </tr>\n",
       "  </tbody>\n",
       "</table>\n",
       "</div>"
      ],
      "text/plain": [
       "   book_id  author_id                                              title  \\\n",
       "0        1        546                                       'Salem's Lot   \n",
       "1        2        465                 1 000 Places to See Before You Die   \n",
       "2        3        407  13 Little Blue Envelopes (Little Blue Envelope...   \n",
       "3        4         82  1491: New Revelations of the Americas Before C...   \n",
       "4        5        125                                               1776   \n",
       "\n",
       "   num_pages publication_date  publisher_id  \n",
       "0        594       2005-11-01            93  \n",
       "1        992       2003-05-22           336  \n",
       "2        322       2010-12-21           135  \n",
       "3        541       2006-10-10           309  \n",
       "4        386       2006-07-04           268  "
      ]
     },
     "execution_count": 33,
     "metadata": {},
     "output_type": "execute_result"
    }
   ],
   "source": [
    "query = \"SELECT * FROM books LIMIT 5;\"\n",
    "pd.io.sql.read_sql(query, con=engine)"
   ]
  },
  {
   "cell_type": "code",
   "execution_count": 34,
   "metadata": {},
   "outputs": [
    {
     "data": {
      "application/vnd.microsoft.datawrangler.viewer.v0+json": {
       "columns": [
        {
         "name": "index",
         "rawType": "int64",
         "type": "integer"
        },
        {
         "name": "author_id",
         "rawType": "int64",
         "type": "integer"
        },
        {
         "name": "author",
         "rawType": "object",
         "type": "string"
        }
       ],
       "conversionMethod": "pd.DataFrame",
       "ref": "a94dbf10-9ea9-4bcb-ae16-190d71fea054",
       "rows": [
        [
         "0",
         "1",
         "A.S. Byatt"
        ],
        [
         "1",
         "2",
         "Aesop/Laura Harris/Laura Gibbs"
        ],
        [
         "2",
         "3",
         "Agatha Christie"
        ],
        [
         "3",
         "4",
         "Alan Brennert"
        ],
        [
         "4",
         "5",
         "Alan Moore/David   Lloyd"
        ]
       ],
       "shape": {
        "columns": 2,
        "rows": 5
       }
      },
      "text/html": [
       "<div>\n",
       "<style scoped>\n",
       "    .dataframe tbody tr th:only-of-type {\n",
       "        vertical-align: middle;\n",
       "    }\n",
       "\n",
       "    .dataframe tbody tr th {\n",
       "        vertical-align: top;\n",
       "    }\n",
       "\n",
       "    .dataframe thead th {\n",
       "        text-align: right;\n",
       "    }\n",
       "</style>\n",
       "<table border=\"1\" class=\"dataframe\">\n",
       "  <thead>\n",
       "    <tr style=\"text-align: right;\">\n",
       "      <th></th>\n",
       "      <th>author_id</th>\n",
       "      <th>author</th>\n",
       "    </tr>\n",
       "  </thead>\n",
       "  <tbody>\n",
       "    <tr>\n",
       "      <th>0</th>\n",
       "      <td>1</td>\n",
       "      <td>A.S. Byatt</td>\n",
       "    </tr>\n",
       "    <tr>\n",
       "      <th>1</th>\n",
       "      <td>2</td>\n",
       "      <td>Aesop/Laura Harris/Laura Gibbs</td>\n",
       "    </tr>\n",
       "    <tr>\n",
       "      <th>2</th>\n",
       "      <td>3</td>\n",
       "      <td>Agatha Christie</td>\n",
       "    </tr>\n",
       "    <tr>\n",
       "      <th>3</th>\n",
       "      <td>4</td>\n",
       "      <td>Alan Brennert</td>\n",
       "    </tr>\n",
       "    <tr>\n",
       "      <th>4</th>\n",
       "      <td>5</td>\n",
       "      <td>Alan Moore/David   Lloyd</td>\n",
       "    </tr>\n",
       "  </tbody>\n",
       "</table>\n",
       "</div>"
      ],
      "text/plain": [
       "   author_id                          author\n",
       "0          1                      A.S. Byatt\n",
       "1          2  Aesop/Laura Harris/Laura Gibbs\n",
       "2          3                 Agatha Christie\n",
       "3          4                   Alan Brennert\n",
       "4          5        Alan Moore/David   Lloyd"
      ]
     },
     "execution_count": 34,
     "metadata": {},
     "output_type": "execute_result"
    }
   ],
   "source": [
    "query = \"SELECT * FROM authors LIMIT 5;\"\n",
    "pd.io.sql.read_sql(query, con=engine)"
   ]
  },
  {
   "cell_type": "code",
   "execution_count": 35,
   "metadata": {},
   "outputs": [
    {
     "data": {
      "application/vnd.microsoft.datawrangler.viewer.v0+json": {
       "columns": [
        {
         "name": "index",
         "rawType": "int64",
         "type": "integer"
        },
        {
         "name": "publisher_id",
         "rawType": "int64",
         "type": "integer"
        },
        {
         "name": "publisher",
         "rawType": "object",
         "type": "string"
        }
       ],
       "conversionMethod": "pd.DataFrame",
       "ref": "f665679c-4f86-4137-bb8d-0febb9ef937d",
       "rows": [
        [
         "0",
         "1",
         "Ace"
        ],
        [
         "1",
         "2",
         "Ace Book"
        ],
        [
         "2",
         "3",
         "Ace Books"
        ],
        [
         "3",
         "4",
         "Ace Hardcover"
        ],
        [
         "4",
         "5",
         "Addison Wesley Publishing Company"
        ]
       ],
       "shape": {
        "columns": 2,
        "rows": 5
       }
      },
      "text/html": [
       "<div>\n",
       "<style scoped>\n",
       "    .dataframe tbody tr th:only-of-type {\n",
       "        vertical-align: middle;\n",
       "    }\n",
       "\n",
       "    .dataframe tbody tr th {\n",
       "        vertical-align: top;\n",
       "    }\n",
       "\n",
       "    .dataframe thead th {\n",
       "        text-align: right;\n",
       "    }\n",
       "</style>\n",
       "<table border=\"1\" class=\"dataframe\">\n",
       "  <thead>\n",
       "    <tr style=\"text-align: right;\">\n",
       "      <th></th>\n",
       "      <th>publisher_id</th>\n",
       "      <th>publisher</th>\n",
       "    </tr>\n",
       "  </thead>\n",
       "  <tbody>\n",
       "    <tr>\n",
       "      <th>0</th>\n",
       "      <td>1</td>\n",
       "      <td>Ace</td>\n",
       "    </tr>\n",
       "    <tr>\n",
       "      <th>1</th>\n",
       "      <td>2</td>\n",
       "      <td>Ace Book</td>\n",
       "    </tr>\n",
       "    <tr>\n",
       "      <th>2</th>\n",
       "      <td>3</td>\n",
       "      <td>Ace Books</td>\n",
       "    </tr>\n",
       "    <tr>\n",
       "      <th>3</th>\n",
       "      <td>4</td>\n",
       "      <td>Ace Hardcover</td>\n",
       "    </tr>\n",
       "    <tr>\n",
       "      <th>4</th>\n",
       "      <td>5</td>\n",
       "      <td>Addison Wesley Publishing Company</td>\n",
       "    </tr>\n",
       "  </tbody>\n",
       "</table>\n",
       "</div>"
      ],
      "text/plain": [
       "   publisher_id                          publisher\n",
       "0             1                                Ace\n",
       "1             2                           Ace Book\n",
       "2             3                          Ace Books\n",
       "3             4                      Ace Hardcover\n",
       "4             5  Addison Wesley Publishing Company"
      ]
     },
     "execution_count": 35,
     "metadata": {},
     "output_type": "execute_result"
    }
   ],
   "source": [
    "query = \"SELECT * FROM publishers LIMIT 5;\"\n",
    "pd.io.sql.read_sql(query, con=engine)"
   ]
  },
  {
   "cell_type": "code",
   "execution_count": 36,
   "metadata": {},
   "outputs": [
    {
     "data": {
      "application/vnd.microsoft.datawrangler.viewer.v0+json": {
       "columns": [
        {
         "name": "index",
         "rawType": "int64",
         "type": "integer"
        },
        {
         "name": "rating_id",
         "rawType": "int64",
         "type": "integer"
        },
        {
         "name": "book_id",
         "rawType": "int64",
         "type": "integer"
        },
        {
         "name": "username",
         "rawType": "object",
         "type": "string"
        },
        {
         "name": "rating",
         "rawType": "int64",
         "type": "integer"
        }
       ],
       "conversionMethod": "pd.DataFrame",
       "ref": "5e1275a6-9f70-438b-93c4-614fc84cf7f2",
       "rows": [
        [
         "0",
         "1",
         "1",
         "ryanfranco",
         "4"
        ],
        [
         "1",
         "2",
         "1",
         "grantpatricia",
         "2"
        ],
        [
         "2",
         "3",
         "1",
         "brandtandrea",
         "5"
        ],
        [
         "3",
         "4",
         "2",
         "lorichen",
         "3"
        ],
        [
         "4",
         "5",
         "2",
         "mariokeller",
         "2"
        ]
       ],
       "shape": {
        "columns": 4,
        "rows": 5
       }
      },
      "text/html": [
       "<div>\n",
       "<style scoped>\n",
       "    .dataframe tbody tr th:only-of-type {\n",
       "        vertical-align: middle;\n",
       "    }\n",
       "\n",
       "    .dataframe tbody tr th {\n",
       "        vertical-align: top;\n",
       "    }\n",
       "\n",
       "    .dataframe thead th {\n",
       "        text-align: right;\n",
       "    }\n",
       "</style>\n",
       "<table border=\"1\" class=\"dataframe\">\n",
       "  <thead>\n",
       "    <tr style=\"text-align: right;\">\n",
       "      <th></th>\n",
       "      <th>rating_id</th>\n",
       "      <th>book_id</th>\n",
       "      <th>username</th>\n",
       "      <th>rating</th>\n",
       "    </tr>\n",
       "  </thead>\n",
       "  <tbody>\n",
       "    <tr>\n",
       "      <th>0</th>\n",
       "      <td>1</td>\n",
       "      <td>1</td>\n",
       "      <td>ryanfranco</td>\n",
       "      <td>4</td>\n",
       "    </tr>\n",
       "    <tr>\n",
       "      <th>1</th>\n",
       "      <td>2</td>\n",
       "      <td>1</td>\n",
       "      <td>grantpatricia</td>\n",
       "      <td>2</td>\n",
       "    </tr>\n",
       "    <tr>\n",
       "      <th>2</th>\n",
       "      <td>3</td>\n",
       "      <td>1</td>\n",
       "      <td>brandtandrea</td>\n",
       "      <td>5</td>\n",
       "    </tr>\n",
       "    <tr>\n",
       "      <th>3</th>\n",
       "      <td>4</td>\n",
       "      <td>2</td>\n",
       "      <td>lorichen</td>\n",
       "      <td>3</td>\n",
       "    </tr>\n",
       "    <tr>\n",
       "      <th>4</th>\n",
       "      <td>5</td>\n",
       "      <td>2</td>\n",
       "      <td>mariokeller</td>\n",
       "      <td>2</td>\n",
       "    </tr>\n",
       "  </tbody>\n",
       "</table>\n",
       "</div>"
      ],
      "text/plain": [
       "   rating_id  book_id       username  rating\n",
       "0          1        1     ryanfranco       4\n",
       "1          2        1  grantpatricia       2\n",
       "2          3        1   brandtandrea       5\n",
       "3          4        2       lorichen       3\n",
       "4          5        2    mariokeller       2"
      ]
     },
     "execution_count": 36,
     "metadata": {},
     "output_type": "execute_result"
    }
   ],
   "source": [
    "query = \"SELECT * FROM ratings LIMIT 5;\"\n",
    "pd.io.sql.read_sql(query, con=engine)"
   ]
  },
  {
   "cell_type": "code",
   "execution_count": 37,
   "metadata": {},
   "outputs": [
    {
     "data": {
      "application/vnd.microsoft.datawrangler.viewer.v0+json": {
       "columns": [
        {
         "name": "index",
         "rawType": "int64",
         "type": "integer"
        },
        {
         "name": "review_id",
         "rawType": "int64",
         "type": "integer"
        },
        {
         "name": "book_id",
         "rawType": "int64",
         "type": "integer"
        },
        {
         "name": "username",
         "rawType": "object",
         "type": "string"
        },
        {
         "name": "text",
         "rawType": "object",
         "type": "string"
        }
       ],
       "conversionMethod": "pd.DataFrame",
       "ref": "86e39f95-3e63-4769-8744-ba59b5c5d9a1",
       "rows": [
        [
         "0",
         "1",
         "1",
         "brandtandrea",
         "Mention society tell send professor analysis. Over provide race technology continue these."
        ],
        [
         "1",
         "2",
         "1",
         "ryanfranco",
         "Foot glass pretty audience hit themselves. Among admit investment argue security."
        ],
        [
         "2",
         "3",
         "2",
         "lorichen",
         "Listen treat keep worry. Miss husband tax but person sport treatment industry. Kitchen decision deep the. Social party body the."
        ],
        [
         "3",
         "4",
         "3",
         "johnsonamanda",
         "Finally month interesting blue could nature cultural bit. Prepare beat finish grow that smile teach. Dream me play near."
        ],
        [
         "4",
         "5",
         "3",
         "scotttamara",
         "Nation purpose heavy give wait song will. List dinner another whole positive radio fast. Music staff many green."
        ]
       ],
       "shape": {
        "columns": 4,
        "rows": 5
       }
      },
      "text/html": [
       "<div>\n",
       "<style scoped>\n",
       "    .dataframe tbody tr th:only-of-type {\n",
       "        vertical-align: middle;\n",
       "    }\n",
       "\n",
       "    .dataframe tbody tr th {\n",
       "        vertical-align: top;\n",
       "    }\n",
       "\n",
       "    .dataframe thead th {\n",
       "        text-align: right;\n",
       "    }\n",
       "</style>\n",
       "<table border=\"1\" class=\"dataframe\">\n",
       "  <thead>\n",
       "    <tr style=\"text-align: right;\">\n",
       "      <th></th>\n",
       "      <th>review_id</th>\n",
       "      <th>book_id</th>\n",
       "      <th>username</th>\n",
       "      <th>text</th>\n",
       "    </tr>\n",
       "  </thead>\n",
       "  <tbody>\n",
       "    <tr>\n",
       "      <th>0</th>\n",
       "      <td>1</td>\n",
       "      <td>1</td>\n",
       "      <td>brandtandrea</td>\n",
       "      <td>Mention society tell send professor analysis. ...</td>\n",
       "    </tr>\n",
       "    <tr>\n",
       "      <th>1</th>\n",
       "      <td>2</td>\n",
       "      <td>1</td>\n",
       "      <td>ryanfranco</td>\n",
       "      <td>Foot glass pretty audience hit themselves. Amo...</td>\n",
       "    </tr>\n",
       "    <tr>\n",
       "      <th>2</th>\n",
       "      <td>3</td>\n",
       "      <td>2</td>\n",
       "      <td>lorichen</td>\n",
       "      <td>Listen treat keep worry. Miss husband tax but ...</td>\n",
       "    </tr>\n",
       "    <tr>\n",
       "      <th>3</th>\n",
       "      <td>4</td>\n",
       "      <td>3</td>\n",
       "      <td>johnsonamanda</td>\n",
       "      <td>Finally month interesting blue could nature cu...</td>\n",
       "    </tr>\n",
       "    <tr>\n",
       "      <th>4</th>\n",
       "      <td>5</td>\n",
       "      <td>3</td>\n",
       "      <td>scotttamara</td>\n",
       "      <td>Nation purpose heavy give wait song will. List...</td>\n",
       "    </tr>\n",
       "  </tbody>\n",
       "</table>\n",
       "</div>"
      ],
      "text/plain": [
       "   review_id  book_id       username  \\\n",
       "0          1        1   brandtandrea   \n",
       "1          2        1     ryanfranco   \n",
       "2          3        2       lorichen   \n",
       "3          4        3  johnsonamanda   \n",
       "4          5        3    scotttamara   \n",
       "\n",
       "                                                text  \n",
       "0  Mention society tell send professor analysis. ...  \n",
       "1  Foot glass pretty audience hit themselves. Amo...  \n",
       "2  Listen treat keep worry. Miss husband tax but ...  \n",
       "3  Finally month interesting blue could nature cu...  \n",
       "4  Nation purpose heavy give wait song will. List...  "
      ]
     },
     "execution_count": 37,
     "metadata": {},
     "output_type": "execute_result"
    }
   ],
   "source": [
    "query = \"SELECT * FROM reviews LIMIT 5;\"\n",
    "pd.io.sql.read_sql(query, con=engine)"
   ]
  },
  {
   "cell_type": "markdown",
   "metadata": {},
   "source": [
    "### Se comienza a realizar las consultas objetivo"
   ]
  },
  {
   "cell_type": "code",
   "execution_count": 38,
   "metadata": {},
   "outputs": [
    {
     "data": {
      "application/vnd.microsoft.datawrangler.viewer.v0+json": {
       "columns": [
        {
         "name": "index",
         "rawType": "int64",
         "type": "integer"
        },
        {
         "name": "numero_de_libros",
         "rawType": "int64",
         "type": "integer"
        }
       ],
       "conversionMethod": "pd.DataFrame",
       "ref": "3872c5a0-ae32-4494-9aaa-a2a3dec29bdd",
       "rows": [
        [
         "0",
         "819"
        ]
       ],
       "shape": {
        "columns": 1,
        "rows": 1
       }
      },
      "text/html": [
       "<div>\n",
       "<style scoped>\n",
       "    .dataframe tbody tr th:only-of-type {\n",
       "        vertical-align: middle;\n",
       "    }\n",
       "\n",
       "    .dataframe tbody tr th {\n",
       "        vertical-align: top;\n",
       "    }\n",
       "\n",
       "    .dataframe thead th {\n",
       "        text-align: right;\n",
       "    }\n",
       "</style>\n",
       "<table border=\"1\" class=\"dataframe\">\n",
       "  <thead>\n",
       "    <tr style=\"text-align: right;\">\n",
       "      <th></th>\n",
       "      <th>numero_de_libros</th>\n",
       "    </tr>\n",
       "  </thead>\n",
       "  <tbody>\n",
       "    <tr>\n",
       "      <th>0</th>\n",
       "      <td>819</td>\n",
       "    </tr>\n",
       "  </tbody>\n",
       "</table>\n",
       "</div>"
      ],
      "text/plain": [
       "   numero_de_libros\n",
       "0               819"
      ]
     },
     "execution_count": 38,
     "metadata": {},
     "output_type": "execute_result"
    }
   ],
   "source": [
    "# Encuentra el número de libros publicados después del 1 de enero de 2000.\n",
    "query = \"\"\"SELECT COUNT(*) AS Numero_de_libros\n",
    "FROM books\n",
    "WHERE publication_date > '2000-01-01';\"\"\"\n",
    "pd.io.sql.read_sql(query, con=engine)"
   ]
  },
  {
   "cell_type": "code",
   "execution_count": 39,
   "metadata": {},
   "outputs": [
    {
     "data": {
      "application/vnd.microsoft.datawrangler.viewer.v0+json": {
       "columns": [
        {
         "name": "index",
         "rawType": "int64",
         "type": "integer"
        },
        {
         "name": "book_id",
         "rawType": "int64",
         "type": "integer"
        },
        {
         "name": "title",
         "rawType": "object",
         "type": "string"
        },
        {
         "name": "num_reviews",
         "rawType": "int64",
         "type": "integer"
        },
        {
         "name": "avg_rating",
         "rawType": "float64",
         "type": "float"
        }
       ],
       "conversionMethod": "pd.DataFrame",
       "ref": "bf9e9e95-6452-4075-9ad2-7ff5deb2760f",
       "rows": [
        [
         "0",
         "948",
         "Twilight (Twilight  #1)",
         "7",
         "3.6625"
        ],
        [
         "1",
         "302",
         "Harry Potter and the Prisoner of Azkaban (Harry Potter  #3)",
         "6",
         "4.414634146341464"
        ],
        [
         "2",
         "299",
         "Harry Potter and the Chamber of Secrets (Harry Potter  #2)",
         "6",
         "4.2875"
        ],
        [
         "3",
         "656",
         "The Book Thief",
         "6",
         "4.264150943396227"
        ],
        [
         "4",
         "734",
         "The Glass Castle",
         "6",
         "4.206896551724138"
        ],
        [
         "5",
         "497",
         "Outlander (Outlander  #1)",
         "6",
         "4.125"
        ],
        [
         "6",
         "750",
         "The Hobbit  or There and Back Again",
         "6",
         "4.125"
        ],
        [
         "7",
         "695",
         "The Curious Incident of the Dog in the Night-Time",
         "6",
         "4.081081081081081"
        ],
        [
         "8",
         "779",
         "The Lightning Thief (Percy Jackson and the Olympians  #1)",
         "6",
         "4.080645161290323"
        ],
        [
         "9",
         "963",
         "Water for Elephants",
         "6",
         "3.9772727272727275"
        ],
        [
         "10",
         "696",
         "The Da Vinci Code (Robert Langdon  #2)",
         "6",
         "3.830508474576271"
        ],
        [
         "11",
         "673",
         "The Catcher in the Rye",
         "6",
         "3.8255813953488373"
        ],
        [
         "12",
         "627",
         "The Alchemist",
         "6",
         "3.789473684210526"
        ],
        [
         "13",
         "854",
         "The Road",
         "6",
         "3.7727272727272725"
        ],
        [
         "14",
         "733",
         "The Giver (The Giver  #1)",
         "6",
         "3.75"
        ],
        [
         "15",
         "207",
         "Eat  Pray  Love",
         "6",
         "3.3958333333333335"
        ],
        [
         "16",
         "581",
         "Snow Flower and the Secret Fan",
         "5",
         "4.636363636363637"
        ],
        [
         "17",
         "74",
         "And Then There Were None",
         "5",
         "4.454545454545454"
        ],
        [
         "18",
         "884",
         "The Thirteenth Tale",
         "5",
         "4.444444444444445"
        ],
        [
         "19",
         "284",
         "Gone with the Wind",
         "5",
         "4.428571428571429"
        ],
        [
         "20",
         "722",
         "The Fellowship of the Ring (The Lord of the Rings  #1)",
         "5",
         "4.391891891891892"
        ],
        [
         "21",
         "15",
         "A Clash of Kings  (A Song of Ice and Fire  #2)",
         "5",
         "4.391304347826087"
        ],
        [
         "22",
         "830",
         "The Poisonwood Bible",
         "5",
         "4.363636363636363"
        ],
        [
         "23",
         "862",
         "The Sea of Monsters (Percy Jackson and the Olympians  #2)",
         "5",
         "4.2727272727272725"
        ],
        [
         "24",
         "51",
         "A Tree Grows in Brooklyn",
         "5",
         "4.25"
        ],
        [
         "25",
         "300",
         "Harry Potter and the Half-Blood Prince (Harry Potter  #6)",
         "5",
         "4.2465753424657535"
        ],
        [
         "26",
         "691",
         "The Count of Monte Cristo",
         "5",
         "4.217391304347826"
        ],
        [
         "27",
         "304",
         "Hatchet (Brian's Saga  #1)",
         "5",
         "4.2"
        ],
        [
         "28",
         "426",
         "Memoirs of a Geisha",
         "5",
         "4.195652173913044"
        ],
        [
         "29",
         "399",
         "Little Women",
         "5",
         "4.1923076923076925"
        ],
        [
         "30",
         "301",
         "Harry Potter and the Order of the Phoenix (Harry Potter  #5)",
         "5",
         "4.1866666666666665"
        ],
        [
         "31",
         "869",
         "The Shining",
         "5",
         "4.176470588235294"
        ],
        [
         "32",
         "837",
         "The Princess Bride",
         "5",
         "4.16"
        ],
        [
         "33",
         "461",
         "My Sister's Keeper",
         "5",
         "4.142857142857143"
        ],
        [
         "34",
         "162",
         "Coraline",
         "5",
         "4.133333333333333"
        ],
        [
         "35",
         "374",
         "Kafka on the Shore",
         "5",
         "4.125"
        ],
        [
         "36",
         "364",
         "Jane Eyre",
         "5",
         "4.1020408163265305"
        ],
        [
         "37",
         "408",
         "Love in the Time of Cholera",
         "5",
         "4.083333333333333"
        ],
        [
         "38",
         "472",
         "Neverwhere (London Below  #1)",
         "5",
         "4.083333333333333"
        ],
        [
         "39",
         "950",
         "Uglies (Uglies  #1)",
         "5",
         "4.055555555555555"
        ],
        [
         "40",
         "577",
         "Slaughterhouse-Five",
         "5",
         "4.0285714285714285"
        ],
        [
         "41",
         "84",
         "Anne of Green Gables (Anne of Green Gables  #1)",
         "5",
         "4.0"
        ],
        [
         "42",
         "478",
         "Nineteen Minutes",
         "5",
         "4.0"
        ],
        [
         "43",
         "70",
         "American Gods (American Gods  #1)",
         "5",
         "4.0"
        ],
        [
         "44",
         "358",
         "Into the Wild",
         "5",
         "4.0"
        ],
        [
         "45",
         "124",
         "Brave New World",
         "5",
         "4.0"
        ],
        [
         "46",
         "417",
         "Man's Search for Meaning",
         "5",
         "4.0"
        ],
        [
         "47",
         "824",
         "The Picture of Dorian Gray",
         "5",
         "4.0"
        ],
        [
         "48",
         "320",
         "Holes (Holes  #1)",
         "5",
         "3.967741935483871"
        ],
        [
         "49",
         "145",
         "Charlotte's Web",
         "5",
         "3.9565217391304346"
        ]
       ],
       "shape": {
        "columns": 4,
        "rows": 1000
       }
      },
      "text/html": [
       "<div>\n",
       "<style scoped>\n",
       "    .dataframe tbody tr th:only-of-type {\n",
       "        vertical-align: middle;\n",
       "    }\n",
       "\n",
       "    .dataframe tbody tr th {\n",
       "        vertical-align: top;\n",
       "    }\n",
       "\n",
       "    .dataframe thead th {\n",
       "        text-align: right;\n",
       "    }\n",
       "</style>\n",
       "<table border=\"1\" class=\"dataframe\">\n",
       "  <thead>\n",
       "    <tr style=\"text-align: right;\">\n",
       "      <th></th>\n",
       "      <th>book_id</th>\n",
       "      <th>title</th>\n",
       "      <th>num_reviews</th>\n",
       "      <th>avg_rating</th>\n",
       "    </tr>\n",
       "  </thead>\n",
       "  <tbody>\n",
       "    <tr>\n",
       "      <th>0</th>\n",
       "      <td>948</td>\n",
       "      <td>Twilight (Twilight  #1)</td>\n",
       "      <td>7</td>\n",
       "      <td>3.662500</td>\n",
       "    </tr>\n",
       "    <tr>\n",
       "      <th>1</th>\n",
       "      <td>302</td>\n",
       "      <td>Harry Potter and the Prisoner of Azkaban (Harr...</td>\n",
       "      <td>6</td>\n",
       "      <td>4.414634</td>\n",
       "    </tr>\n",
       "    <tr>\n",
       "      <th>2</th>\n",
       "      <td>299</td>\n",
       "      <td>Harry Potter and the Chamber of Secrets (Harry...</td>\n",
       "      <td>6</td>\n",
       "      <td>4.287500</td>\n",
       "    </tr>\n",
       "    <tr>\n",
       "      <th>3</th>\n",
       "      <td>656</td>\n",
       "      <td>The Book Thief</td>\n",
       "      <td>6</td>\n",
       "      <td>4.264151</td>\n",
       "    </tr>\n",
       "    <tr>\n",
       "      <th>4</th>\n",
       "      <td>734</td>\n",
       "      <td>The Glass Castle</td>\n",
       "      <td>6</td>\n",
       "      <td>4.206897</td>\n",
       "    </tr>\n",
       "    <tr>\n",
       "      <th>...</th>\n",
       "      <td>...</td>\n",
       "      <td>...</td>\n",
       "      <td>...</td>\n",
       "      <td>...</td>\n",
       "    </tr>\n",
       "    <tr>\n",
       "      <th>995</th>\n",
       "      <td>191</td>\n",
       "      <td>Disney's Beauty and the Beast (A Little Golden...</td>\n",
       "      <td>0</td>\n",
       "      <td>4.000000</td>\n",
       "    </tr>\n",
       "    <tr>\n",
       "      <th>996</th>\n",
       "      <td>387</td>\n",
       "      <td>Leonardo's Notebooks</td>\n",
       "      <td>0</td>\n",
       "      <td>4.000000</td>\n",
       "    </tr>\n",
       "    <tr>\n",
       "      <th>997</th>\n",
       "      <td>221</td>\n",
       "      <td>Essential Tales and Poems</td>\n",
       "      <td>0</td>\n",
       "      <td>4.000000</td>\n",
       "    </tr>\n",
       "    <tr>\n",
       "      <th>998</th>\n",
       "      <td>83</td>\n",
       "      <td>Anne Rice's The Vampire Lestat: A Graphic Novel</td>\n",
       "      <td>0</td>\n",
       "      <td>3.666667</td>\n",
       "    </tr>\n",
       "    <tr>\n",
       "      <th>999</th>\n",
       "      <td>808</td>\n",
       "      <td>The Natural Way to Draw</td>\n",
       "      <td>0</td>\n",
       "      <td>3.000000</td>\n",
       "    </tr>\n",
       "  </tbody>\n",
       "</table>\n",
       "<p>1000 rows × 4 columns</p>\n",
       "</div>"
      ],
      "text/plain": [
       "     book_id                                              title  num_reviews  \\\n",
       "0        948                            Twilight (Twilight  #1)            7   \n",
       "1        302  Harry Potter and the Prisoner of Azkaban (Harr...            6   \n",
       "2        299  Harry Potter and the Chamber of Secrets (Harry...            6   \n",
       "3        656                                     The Book Thief            6   \n",
       "4        734                                   The Glass Castle            6   \n",
       "..       ...                                                ...          ...   \n",
       "995      191  Disney's Beauty and the Beast (A Little Golden...            0   \n",
       "996      387                               Leonardo's Notebooks            0   \n",
       "997      221                          Essential Tales and Poems            0   \n",
       "998       83    Anne Rice's The Vampire Lestat: A Graphic Novel            0   \n",
       "999      808                            The Natural Way to Draw            0   \n",
       "\n",
       "     avg_rating  \n",
       "0      3.662500  \n",
       "1      4.414634  \n",
       "2      4.287500  \n",
       "3      4.264151  \n",
       "4      4.206897  \n",
       "..          ...  \n",
       "995    4.000000  \n",
       "996    4.000000  \n",
       "997    4.000000  \n",
       "998    3.666667  \n",
       "999    3.000000  \n",
       "\n",
       "[1000 rows x 4 columns]"
      ]
     },
     "execution_count": 39,
     "metadata": {},
     "output_type": "execute_result"
    }
   ],
   "source": [
    "# Encuentra el número de reseñas de usuarios y la calificación promedio para cada libro.\n",
    "query = \"\"\"SELECT \n",
    "    b.book_id,\n",
    "    b.title,\n",
    "    COUNT(DISTINCT r.review_id) AS num_reviews,\n",
    "    AVG(rt.rating) AS avg_rating\n",
    "FROM \n",
    "    books b\n",
    "LEFT JOIN \n",
    "    reviews r ON b.book_id = r.book_id\n",
    "LEFT JOIN \n",
    "    ratings rt ON b.book_id = rt.book_id\n",
    "GROUP BY \n",
    "    b.book_id, b.title\n",
    "ORDER BY\n",
    "    num_reviews DESC,\n",
    "    avg_rating DESC;\"\"\"\n",
    "pd.io.sql.read_sql(query, con=engine)"
   ]
  },
  {
   "cell_type": "code",
   "execution_count": null,
   "metadata": {},
   "outputs": [
    {
     "name": "stdout",
     "output_type": "stream",
     "text": [
      "       publisher  num_books\n",
      "0  Penguin Books         42\n"
     ]
    }
   ],
   "source": [
    "# Identifica la editorial que ha publicado el mayor número de libros con más de 50 páginas (esto te ayudará a excluir folletos y publicaciones similares de tu análisis).\n",
    "query = \"\"\"SELECT \n",
    "    p.publisher,\n",
    "    COUNT(b.book_id) AS num_books\n",
    "FROM \n",
    "    books b\n",
    "JOIN \n",
    "    publishers p ON b.publisher_id = p.publisher_id\n",
    "WHERE \n",
    "    b.num_pages > 50\n",
    "GROUP BY \n",
    "    p.publisher\n",
    "ORDER BY \n",
    "    num_books DESC\n",
    "LIMIT 1;\"\"\"\n",
    "print(pd.io.sql.read_sql(query, con=engine))"
   ]
  },
  {
   "cell_type": "code",
   "execution_count": 46,
   "metadata": {},
   "outputs": [
    {
     "name": "stdout",
     "output_type": "stream",
     "text": [
      "           author  avg_rating\n",
      "0  Diana Gabaldon         4.3\n"
     ]
    }
   ],
   "source": [
    "# Identifica al autor que tiene la más alta calificación promedio del libro: mira solo los libros con al menos 50 calificaciones.\n",
    "query = \"\"\"SELECT \n",
    "    a.author,\n",
    "    AVG(rt.rating) AS avg_rating\n",
    "FROM \n",
    "    authors a\n",
    "JOIN \n",
    "    books b ON a.author_id = b.author_id\n",
    "JOIN \n",
    "    ratings rt ON b.book_id = rt.book_id\n",
    "GROUP BY \n",
    "    a.author_id, a.author\n",
    "HAVING \n",
    "    COUNT(rt.book_id) >= 50\n",
    "ORDER BY \n",
    "    avg_rating DESC\n",
    "LIMIT 1;\"\"\"\n",
    "print(pd.io.sql.read_sql(query, con=engine))"
   ]
  },
  {
   "cell_type": "code",
   "execution_count": 48,
   "metadata": {},
   "outputs": [
    {
     "name": "stdout",
     "output_type": "stream",
     "text": [
      "   avg_text_reviews\n",
      "0         24.333333\n"
     ]
    }
   ],
   "source": [
    "# Encuentra el número promedio de reseñas de texto entre los usuarios que calificaron más de 50 libros.\n",
    "query = \"\"\"SELECT \n",
    "    AVG(user_reviews.count_reviews) AS avg_text_reviews\n",
    "FROM (\n",
    "    SELECT \n",
    "        username,\n",
    "        COUNT(review_id) AS count_reviews\n",
    "    FROM \n",
    "        reviews\n",
    "    WHERE \n",
    "        username IN (\n",
    "            SELECT username\n",
    "            FROM ratings\n",
    "            GROUP BY username\n",
    "            HAVING COUNT(rating_id) > 50\n",
    "        )\n",
    "    GROUP BY \n",
    "        username\n",
    ") AS user_reviews;\"\"\"\n",
    "print(pd.io.sql.read_sql(query, con=engine))"
   ]
  },
  {
   "cell_type": "markdown",
   "metadata": {},
   "source": [
    "#### Conclusiones globales\n",
    "- Encuentra el número de libros publicados después del 1 de enero de 2000.\n",
    "  - Se encuentra que hay 819 libros publicados posterior al 1 de enero del 200.\n",
    "- Encuentra el número de reseñas de usuarios y la calificación promedio para cada libro.\n",
    "  - Encontramos que los libros mas populares y mejor calificados pertenecen al genero juvenil (e.g. Twilight, Harry potter, etc.)\n",
    "- Identifica la editorial que ha publicado el mayor número de libros con más de 50 páginas (esto te ayudará a excluir folletos y publicaciones similares de tu análisis).\n",
    "  - Econtramos que Penguin Books ha publicado 42 libros, siendo la editorial mas productiva\n",
    "- Identifica al autor que tiene la más alta calificación promedio del libro: mira solo los libros con al menos 50 calificaciones\n",
    "  - Diana Gabaldon tiene un ranting promedio de 4.3, por lo que es la autora mejor calificada\n",
    "- Encuentra el número promedio de reseñas de texto entre los usuarios que calificaron más de 50 libros.\n",
    "  - Observamos que el promedio de reseñas de texto es de 24.33 para los usuarios mas activos de la plataforma"
   ]
  }
 ],
 "metadata": {
  "kernelspec": {
   "display_name": "TT",
   "language": "python",
   "name": "python3"
  },
  "language_info": {
   "codemirror_mode": {
    "name": "ipython",
    "version": 3
   },
   "file_extension": ".py",
   "mimetype": "text/x-python",
   "name": "python",
   "nbconvert_exporter": "python",
   "pygments_lexer": "ipython3",
   "version": "3.13.2"
  }
 },
 "nbformat": 4,
 "nbformat_minor": 2
}
