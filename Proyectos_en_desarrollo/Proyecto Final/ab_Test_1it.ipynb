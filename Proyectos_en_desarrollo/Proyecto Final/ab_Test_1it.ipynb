{
 "cells": [
  {
   "cell_type": "markdown",
   "metadata": {},
   "source": [
    "Hola **Elias**!\n",
    "\n",
    "Soy **Patricio Requena** 👋. Es un placer ser el revisor de tu proyecto el día de hoy!\n",
    "\n",
    "Revisaré tu proyecto detenidamente con el objetivo de ayudarte a mejorar y perfeccionar tus habilidades. Durante mi revisión, identificaré áreas donde puedas hacer mejoras en tu código, señalando específicamente qué y cómo podrías ajustar para optimizar el rendimiento y la claridad de tu proyecto. Además, es importante para mí destacar los aspectos que has manejado excepcionalmente bien. Reconocer tus fortalezas te ayudará a entender qué técnicas y métodos están funcionando a tu favor y cómo puedes aplicarlos en futuras tareas. \n",
    "\n",
    "_**Recuerda que al final de este notebook encontrarás un comentario general de mi parte**_, empecemos!\n",
    "\n",
    "Encontrarás mis comentarios dentro de cajas verdes, amarillas o rojas, ⚠️ **por favor, no muevas, modifiques o borres mis comentarios** ⚠️:\n",
    "\n",
    "\n",
    "<div class=\"alert alert-block alert-success\">\n",
    "<b>Comentario del revisor</b> <a class=“tocSkip”></a>\n",
    "Si todo está perfecto.\n",
    "</div>\n",
    "\n",
    "<div class=\"alert alert-block alert-warning\">\n",
    "<b>Comentario del revisor</b> <a class=“tocSkip”></a>\n",
    "Si tu código está bien pero se puede mejorar o hay algún detalle que le hace falta.\n",
    "</div>\n",
    "\n",
    "<div class=\"alert alert-block alert-danger\">\n",
    "<b>Comentario del revisor</b> <a class=“tocSkip”></a>\n",
    "Si de pronto hace falta algo o existe algún problema con tu código o conclusiones.\n",
    "</div>\n",
    "\n",
    "Puedes responderme de esta forma:\n",
    "<div class=\"alert alert-block alert-info\">\n",
    "<b>Respuesta del estudiante</b> <a class=“tocSkip”></a>\n",
    "</div>"
   ]
  },
  {
   "cell_type": "markdown",
   "metadata": {},
   "source": [
    "#### Pureba A/B"
   ]
  },
  {
   "cell_type": "markdown",
   "metadata": {},
   "source": [
    "### Instrucciones para completar la tarea\n",
    "\n",
    "1. **Describe los objetivos del estudio.**\n",
    "   - Explica cuál es el propósito del análisis y qué se espera lograr con la prueba A/B.\n",
    "\n",
    "2. **Explora los datos:**\n",
    "   - ¿Es necesario convertir los tipos de datos?\n",
    "   - ¿Hay valores ausentes o duplicados? Si es así, ¿cómo los caracterizarías?\n",
    "\n",
    "3. **Lleva a cabo el análisis exploratorio de datos (EDA):**\n",
    "   - Estudia la conversión en las diferentes etapas del embudo.\n",
    "   - ¿El número de eventos por usuario está distribuido equitativamente entre las muestras?\n",
    "   - ¿Hay usuarios que están presentes en ambas muestras?\n",
    "   - ¿Cómo se distribuye el número de eventos entre los días?\n",
    "   - ¿Hay alguna peculiaridad en los datos que hay que tener en cuenta antes de iniciar la prueba A/B?\n",
    "\n",
    "4. **Evaluar los resultados de la prueba A/B:**\n",
    "   - ¿Qué puedes decir sobre los resultados de la prueba A/B?\n",
    "   - Utiliza una prueba z para comprobar la diferencia estadística entre las proporciones.\n",
    "\n",
    "5. **Describe tus conclusiones:**\n",
    "   - Resume los hallazgos del análisis exploratorio de datos (EDA).\n",
    "   - Interpreta los resultados de la prueba A/B y proporciona recomendaciones basadas en los datos."
   ]
  },
  {
   "cell_type": "markdown",
   "metadata": {},
   "source": [
    "1. **Describe los objetivos del estudio.**\n",
    "   - Explica cuál es el propósito del análisis y qué se espera lograr con la prueba A/B."
   ]
  },
  {
   "cell_type": "code",
   "execution_count": 3,
   "metadata": {},
   "outputs": [],
   "source": [
    "import pandas as pd\n",
    "import numpy as np\n",
    "import matplotlib.pyplot as plt\n",
    "import seaborn as sns\n",
    "\n",
    "\n",
    "\n",
    "def looks(datos):\n",
    "    \"\"\"Genera un análisis de todo el set de datos de manera global\"\"\"\n",
    "\n",
    "    print(\"Se ejecuta la descripción de los datos:\")\n",
    "    print(datos.describe(include=\"all\"))\n",
    "    print()\n",
    "    print(\"se hace exploración con método info:\")\n",
    "    print(datos.info())\n",
    "    print()\n",
    "    print(\"se hace una observación con el método Sample:\")\n",
    "    if len(datos) > 10:\n",
    "        print(datos.sample(10))\n",
    "    else:\n",
    "        print(datos)\n",
    "    print()\n",
    "    print(\"hay NA?:\")\n",
    "    print(datos.isna().sum())\n",
    "    print()\n",
    "    print(\"Duplicados:\")\n",
    "    print(datos.duplicated().sum())"
   ]
  },
  {
   "cell_type": "code",
   "execution_count": 4,
   "metadata": {},
   "outputs": [
    {
     "name": "stdout",
     "output_type": "stream",
     "text": [
      "Se ejecuta la descripción de los datos:\n",
      "                                   name regions    start_dt   finish_dt\n",
      "count                                14      14          14          14\n",
      "unique                               14       6          14          14\n",
      "top     Victory Day CIS (May 9th) Event    APAC  2020-11-26  2020-07-11\n",
      "freq                                  1       4           1           1\n",
      "\n",
      "se hace exploración con método info:\n",
      "<class 'pandas.core.frame.DataFrame'>\n",
      "RangeIndex: 14 entries, 0 to 13\n",
      "Data columns (total 4 columns):\n",
      " #   Column     Non-Null Count  Dtype \n",
      "---  ------     --------------  ----- \n",
      " 0   name       14 non-null     object\n",
      " 1   regions    14 non-null     object\n",
      " 2   start_dt   14 non-null     object\n",
      " 3   finish_dt  14 non-null     object\n",
      "dtypes: object(4)\n",
      "memory usage: 576.0+ bytes\n",
      "None\n",
      "\n",
      "se hace una observación con el método Sample:\n",
      "                                name                   regions    start_dt  \\\n",
      "12           Single's Day Gift Promo                      APAC  2020-11-11   \n",
      "0           Christmas&New Year Promo             EU, N.America  2020-12-25   \n",
      "8    International Women's Day Promo             EU, CIS, APAC  2020-03-08   \n",
      "7   Labor day (May 1st) Ads Campaign             EU, CIS, APAC  2020-05-01   \n",
      "11     Dragon Boat Festival Giveaway                      APAC  2020-06-25   \n",
      "5          Black Friday Ads Campaign  EU, CIS, APAC, N.America  2020-11-26   \n",
      "10         CIS New Year Gift Lottery                       CIS  2020-12-30   \n",
      "9    Victory Day CIS (May 9th) Event                       CIS  2020-05-09   \n",
      "6             Chinese New Year Promo                      APAC  2020-01-25   \n",
      "13             Chinese Moon Festival                      APAC  2020-10-01   \n",
      "\n",
      "     finish_dt  \n",
      "12  2020-11-12  \n",
      "0   2021-01-03  \n",
      "8   2020-03-10  \n",
      "7   2020-05-03  \n",
      "11  2020-07-01  \n",
      "5   2020-12-01  \n",
      "10  2021-01-07  \n",
      "9   2020-05-11  \n",
      "6   2020-02-07  \n",
      "13  2020-10-07  \n",
      "\n",
      "hay NA?:\n",
      "name         0\n",
      "regions      0\n",
      "start_dt     0\n",
      "finish_dt    0\n",
      "dtype: int64\n",
      "\n",
      "Duplicados:\n",
      "0\n"
     ]
    }
   ],
   "source": [
    "marketing_events = pd.read_csv('/datasets/ab_project_marketing_events_us.csv')\n",
    "looks(marketing_events)"
   ]
  },
  {
   "cell_type": "code",
   "execution_count": 5,
   "metadata": {},
   "outputs": [
    {
     "name": "stdout",
     "output_type": "stream",
     "text": [
      "Se ejecuta la descripción de los datos:\n",
      "                 user_id  first_date region   device\n",
      "count              58703       58703  58703    58703\n",
      "unique             58703          17      4        4\n",
      "top     233D093E128C6AB1  2020-12-21     EU  Android\n",
      "freq                   1        6077  43396    26159\n",
      "\n",
      "se hace exploración con método info:\n",
      "<class 'pandas.core.frame.DataFrame'>\n",
      "RangeIndex: 58703 entries, 0 to 58702\n",
      "Data columns (total 4 columns):\n",
      " #   Column      Non-Null Count  Dtype \n",
      "---  ------      --------------  ----- \n",
      " 0   user_id     58703 non-null  object\n",
      " 1   first_date  58703 non-null  object\n",
      " 2   region      58703 non-null  object\n",
      " 3   device      58703 non-null  object\n",
      "dtypes: object(4)\n",
      "memory usage: 1.8+ MB\n",
      "None\n",
      "\n",
      "se hace una observación con el método Sample:\n",
      "                user_id  first_date region   device\n",
      "23655  C7A13E45EC06BC98  2020-12-22     EU  Android\n",
      "3412   F9945FBF588762BE  2020-12-07     EU  Android\n",
      "17572  95CFFFEAB833A161  2020-12-08     EU  Android\n",
      "35629  14F77B6F572C60D0  2020-12-17     EU  Android\n",
      "42036  59D386BB2E4690D1  2020-12-18     EU       PC\n",
      "27453  B2731DD36A4B484E  2020-12-09     EU  Android\n",
      "56980  6439560BD0128CF4  2020-12-20     EU       PC\n",
      "17345  C58B1A301079F5ED  2020-12-08     EU      Mac\n",
      "28279  A8EF2994EEA6A06E  2020-12-16     EU   iPhone\n",
      "42129  4D678260188363E9  2020-12-18     EU       PC\n",
      "\n",
      "hay NA?:\n",
      "user_id       0\n",
      "first_date    0\n",
      "region        0\n",
      "device        0\n",
      "dtype: int64\n",
      "\n",
      "Duplicados:\n",
      "0\n"
     ]
    }
   ],
   "source": [
    "new_users = pd.read_csv('/datasets/final_ab_new_users_upd_us.csv')\n",
    "looks(new_users)"
   ]
  },
  {
   "cell_type": "code",
   "execution_count": 6,
   "metadata": {},
   "outputs": [
    {
     "name": "stdout",
     "output_type": "stream",
     "text": [
      "Se ejecuta la descripción de los datos:\n",
      "                 user_id             event_dt event_name       details\n",
      "count             423761               423761     423761  60314.000000\n",
      "unique             58703               257138          4           NaN\n",
      "top     A3917F81482141F2  2020-12-23 02:37:24      login           NaN\n",
      "freq                  36                   10     182465           NaN\n",
      "mean                 NaN                  NaN        NaN     23.881219\n",
      "std                  NaN                  NaN        NaN     72.228884\n",
      "min                  NaN                  NaN        NaN      4.990000\n",
      "25%                  NaN                  NaN        NaN      4.990000\n",
      "50%                  NaN                  NaN        NaN      4.990000\n",
      "75%                  NaN                  NaN        NaN      9.990000\n",
      "max                  NaN                  NaN        NaN    499.990000\n",
      "\n",
      "se hace exploración con método info:\n",
      "<class 'pandas.core.frame.DataFrame'>\n",
      "RangeIndex: 423761 entries, 0 to 423760\n",
      "Data columns (total 4 columns):\n",
      " #   Column      Non-Null Count   Dtype  \n",
      "---  ------      --------------   -----  \n",
      " 0   user_id     423761 non-null  object \n",
      " 1   event_dt    423761 non-null  object \n",
      " 2   event_name  423761 non-null  object \n",
      " 3   details     60314 non-null   float64\n",
      "dtypes: float64(1), object(3)\n",
      "memory usage: 12.9+ MB\n",
      "None\n",
      "\n",
      "se hace una observación con el método Sample:\n",
      "                 user_id             event_dt    event_name  details\n",
      "260175  05E92436138C0BD0  2020-12-10 06:39:38         login      NaN\n",
      "417794  49BB7651C514D74B  2020-12-28 21:19:08         login      NaN\n",
      "87673   263A4ACFA802D2C9  2020-12-17 22:08:32  product_cart      NaN\n",
      "212641  384DDD1008C5F86F  2020-12-22 01:49:59  product_page      NaN\n",
      "316440  49228A59694957B0  2020-12-17 21:22:22         login      NaN\n",
      "300033  7F85C09A36189561  2020-12-15 18:53:02         login      NaN\n",
      "105655  331AD701D3D5E958  2020-12-22 20:36:40  product_cart      NaN\n",
      "162812  1754CA0ACDD76836  2020-12-15 11:57:27  product_page      NaN\n",
      "356580  A2C7F793A014054B  2020-12-20 22:31:27         login      NaN\n",
      "64125   C40DDE88F1919245  2020-12-09 11:30:13  product_cart      NaN\n",
      "\n",
      "hay NA?:\n",
      "user_id            0\n",
      "event_dt           0\n",
      "event_name         0\n",
      "details       363447\n",
      "dtype: int64\n",
      "\n",
      "Duplicados:\n",
      "0\n"
     ]
    }
   ],
   "source": [
    "events = pd.read_csv('/datasets/final_ab_events_upd_us.csv')\n",
    "looks(events)"
   ]
  },
  {
   "cell_type": "code",
   "execution_count": 7,
   "metadata": {},
   "outputs": [
    {
     "name": "stdout",
     "output_type": "stream",
     "text": [
      "Se ejecuta la descripción de los datos:\n",
      "                 user_id  group            ab_test\n",
      "count              14525  14525              14525\n",
      "unique             13638      2                  2\n",
      "top     823BE193CDC32ADF      A  interface_eu_test\n",
      "freq                   2   8214              10850\n",
      "\n",
      "se hace exploración con método info:\n",
      "<class 'pandas.core.frame.DataFrame'>\n",
      "RangeIndex: 14525 entries, 0 to 14524\n",
      "Data columns (total 3 columns):\n",
      " #   Column   Non-Null Count  Dtype \n",
      "---  ------   --------------  ----- \n",
      " 0   user_id  14525 non-null  object\n",
      " 1   group    14525 non-null  object\n",
      " 2   ab_test  14525 non-null  object\n",
      "dtypes: object(3)\n",
      "memory usage: 340.6+ KB\n",
      "None\n",
      "\n",
      "se hace una observación con el método Sample:\n",
      "                user_id group                  ab_test\n",
      "14523  63FBE257B05F2245     A        interface_eu_test\n",
      "4282   37AA7C5CE8D812B8     A        interface_eu_test\n",
      "6874   3F4BC714C9F3241B     A        interface_eu_test\n",
      "10629  5D5E6EE92AF6E9E0     B        interface_eu_test\n",
      "4255   DB57F20A23905191     A        interface_eu_test\n",
      "12349  7411A85E26DC5D1F     B        interface_eu_test\n",
      "466    F71DD44DAB783CEB     B  recommender_system_test\n",
      "14277  8BA1FE6E45CE4D70     A        interface_eu_test\n",
      "9377   EC43C981CC81036D     A        interface_eu_test\n",
      "4566   4D269D6E438C6D22     A        interface_eu_test\n",
      "\n",
      "hay NA?:\n",
      "user_id    0\n",
      "group      0\n",
      "ab_test    0\n",
      "dtype: int64\n",
      "\n",
      "Duplicados:\n",
      "0\n"
     ]
    }
   ],
   "source": [
    "participants = pd.read_csv('/datasets/final_ab_participants_upd_us.csv')\n",
    "looks(participants)"
   ]
  },
  {
   "cell_type": "markdown",
   "metadata": {},
   "source": [
    "### No se encuentras particulatidades especiales para los datos "
   ]
  },
  {
   "cell_type": "code",
   "execution_count": 8,
   "metadata": {},
   "outputs": [],
   "source": [
    "#Se convierten a fechas las columnas correspondientes\n",
    "new_users['first_date'] = pd.to_datetime(new_users['first_date'])\n",
    "events['event_dt'] = pd.to_datetime(events['event_dt'], errors='coerce')\n",
    "marketing_events['start_dt'] = pd.to_datetime(marketing_events['start_dt'])\n",
    "marketing_events['finish_dt'] = pd.to_datetime(marketing_events['finish_dt'])"
   ]
  },
  {
   "cell_type": "markdown",
   "metadata": {},
   "source": [
    "<div class=\"alert alert-block alert-success\">\n",
    "<b>Comentario del revisor (1ra Iteracion)</b> <a class=“tocSkip”></a>\n",
    "\n",
    "Muy buen trabajo con la transformación de datos y la exploración inicial de los mismos, un dataset limpio y claro es clave para una buena toma de decisiones en un experimento.\n",
    "</div>"
   ]
  },
  {
   "cell_type": "markdown",
   "metadata": {},
   "source": [
    "<div class=\"alert alert-block alert-danger\">\n",
    "<b>Comentario del revisor (1ra Iteracion)</b> <a class=“tocSkip”></a>\n",
    "\n",
    "Hace falta calcular y graficar los eventos a lo largo del tiempo\n",
    "</div>"
   ]
  },
  {
   "cell_type": "code",
   "execution_count": 9,
   "metadata": {
    "vscode": {
     "languageId": "ruby"
    }
   },
   "outputs": [
    {
     "name": "stdout",
     "output_type": "stream",
     "text": [
      "Conversión en las diferentes etapas del embudo:\n",
      "     event_name   count  percentage\n",
      "0         login  182465   43.058469\n",
      "1  product_cart   60120   14.187242\n",
      "2  product_page  120862   28.521266\n",
      "3      purchase   60314   14.233023\n",
      "\n",
      "Distribución del número de eventos por usuario en cada muestra:\n",
      "        count     mean       std  min  25%  50%  75%   max\n",
      "group                                                     \n",
      "A      7874.0  7.45555  4.475159  1.0  4.0  6.0  9.0  40.0\n",
      "B      6205.0  7.11249  4.246201  1.0  4.0  6.0  9.0  36.0\n",
      "\n",
      "Número de usuarios presentes en ambas muestras: 441\n",
      "\n",
      "Distribución del número de eventos entre los días:\n",
      "event_date\n",
      "2020-12-07    11385\n",
      "2020-12-08    12547\n",
      "2020-12-09    12122\n",
      "2020-12-10    14077\n",
      "2020-12-11    13864\n",
      "2020-12-12    17634\n",
      "2020-12-13    20985\n",
      "2020-12-14    26184\n",
      "2020-12-15    23469\n",
      "2020-12-16    20909\n",
      "2020-12-17    21751\n",
      "2020-12-18    22871\n",
      "2020-12-19    24273\n",
      "2020-12-20    26425\n",
      "2020-12-21    32559\n",
      "2020-12-22    29472\n",
      "2020-12-23    26108\n",
      "2020-12-24    19399\n",
      "2020-12-26    14058\n",
      "2020-12-27    12420\n",
      "2020-12-28    11014\n",
      "2020-12-29    10146\n",
      "2020-12-30       89\n",
      "dtype: int64\n",
      "\n",
      "Peculiaridades en los datos:\n",
      "Eventos con valores nulos:\n",
      "user_id            0\n",
      "event_dt           0\n",
      "event_name         0\n",
      "details       363447\n",
      "event_date         0\n",
      "dtype: int64\n",
      "\n",
      "Usuarios duplicados en participants:\n",
      "887\n"
     ]
    }
   ],
   "source": [
    "\n",
    "# Calcular la conversión en las diferentes etapas del embudo\n",
    "funnel = events.groupby('event_name').size().reset_index(name='count')\n",
    "funnel['percentage'] = (funnel['count'] / funnel['count'].sum()) * 100\n",
    "print(\"Conversión en las diferentes etapas del embudo:\")\n",
    "print(funnel)\n",
    "\n",
    "# Crear el DataFrame events_with_groups combinando events y participants\n",
    "events_with_groups = events.merge(participants, on='user_id', how='inner')\n",
    "\n",
    "# Número de eventos por usuario en cada muestra\n",
    "events_per_user = events_with_groups.groupby(['user_id', 'group']).size().reset_index(name='event_count')\n",
    "print(\"\\nDistribución del número de eventos por usuario en cada muestra:\")\n",
    "print(events_per_user.groupby('group')['event_count'].describe())\n",
    "\n",
    "# Verificar si hay usuarios presentes en ambas muestras\n",
    "users_in_both_groups = participants.groupby('user_id')['group'].nunique().reset_index()\n",
    "users_in_both_groups = users_in_both_groups[users_in_both_groups['group'] > 1]\n",
    "print(f\"\\nNúmero de usuarios presentes en ambas muestras: {len(users_in_both_groups)}\")\n",
    "\n",
    "# Distribución del número de eventos entre los días\n",
    "events['event_date'] = events['event_dt'].dt.date\n",
    "events_per_day = events.groupby('event_date').size()\n",
    "print(\"\\nDistribución del número de eventos entre los días:\")\n",
    "print(events_per_day)\n",
    "\n",
    "# Peculiaridades en los datos\n",
    "print(\"\\nPeculiaridades en los datos:\")\n",
    "print(\"Eventos con valores nulos:\")\n",
    "print(events.isna().sum())\n",
    "print(\"\\nUsuarios duplicados en participants:\")\n",
    "print(participants.duplicated(subset='user_id').sum())"
   ]
  },
  {
   "cell_type": "markdown",
   "metadata": {},
   "source": [
    "<div class=\"alert alert-block alert-danger\">\n",
    "<b>Comentario del revisor (1ra Iteracion)</b> <a class=“tocSkip”></a>\n",
    "\n",
    "No es buena práctica tener tantos procesos en una sóla celda, la ventaja de los notebooks es que se puede usar cada celda para hacer cada paso facilitando así la comprensión del proceso. Además, la conversión no está calculada corredctamente, deberías tomar el primer evento `loging` como el punto de partida para calcular el resto, por ejemplo, para la conversión en purchase sería `# usuarios purchase / # usuarios login`\n",
    "</div>"
   ]
  },
  {
   "cell_type": "markdown",
   "metadata": {},
   "source": [
    "### Se encuentra que existen pocos eventos con valores nulos, y que hay ID duplicados esto producto que cada usuario tiene mas de un evento."
   ]
  },
  {
   "cell_type": "code",
   "execution_count": 10,
   "metadata": {},
   "outputs": [
    {
     "name": "stdout",
     "output_type": "stream",
     "text": [
      "Proporción de conversión en el grupo A: 100.00%\n",
      "Proporción de conversión en el grupo B: 100.00%\n",
      "\n",
      "Resultados de la prueba z:\n",
      "Estadístico z: nan\n",
      "Valor p: nan\n",
      "\n",
      "Conclusión: No hay una diferencia estadísticamente significativa entre las proporciones de conversión de los grupos A y B.\n"
     ]
    },
    {
     "name": "stderr",
     "output_type": "stream",
     "text": [
      "/opt/conda/envs/python3/lib/python3.9/site-packages/statsmodels/stats/weightstats.py:790: RuntimeWarning: invalid value encountered in double_scalars\n",
      "  zstat = value / std\n"
     ]
    }
   ],
   "source": [
    "from statsmodels.stats.proportion import proportions_ztest\n",
    "\n",
    "# Calcular conversiones por grupo\n",
    "conversiones = events_with_groups.groupby('group')['user_id'].nunique()\n",
    "usuarios_totales = participants.groupby('group')['user_id'].nunique()\n",
    "\n",
    "# Conversiones y usuarios totales por grupo\n",
    "conversiones_A = conversiones['A']\n",
    "conversiones_B = conversiones['B']\n",
    "usuarios_A = usuarios_totales['A']\n",
    "usuarios_B = usuarios_totales['B']\n",
    "\n",
    "# Proporciones de conversión\n",
    "proporcion_A = conversiones_A / usuarios_A\n",
    "proporcion_B = conversiones_B / usuarios_B\n",
    "\n",
    "print(f\"Proporción de conversión en el grupo A: {proporcion_A:.2%}\")\n",
    "print(f\"Proporción de conversión en el grupo B: {proporcion_B:.2%}\")\n",
    "\n",
    "# Prueba z para comparar proporciones\n",
    "conversiones = [conversiones_A, conversiones_B]\n",
    "usuarios = [usuarios_A, usuarios_B]\n",
    "stat, p_value = proportions_ztest(conversiones, usuarios)\n",
    "\n",
    "print(\"\\nResultados de la prueba z:\")\n",
    "print(f\"Estadístico z: {stat:.2f}\")\n",
    "print(f\"Valor p: {p_value:.4f}\")\n",
    "\n",
    "# Conclusiones\n",
    "if p_value < 0.05:\n",
    "    print(\"\\nConclusión: Hay una diferencia estadísticamente significativa entre las proporciones de conversión de los grupos A y B.\")\n",
    "else:\n",
    "    print(\"\\nConclusión: No hay una diferencia estadísticamente significativa entre las proporciones de conversión de los grupos A y B.\")"
   ]
  },
  {
   "cell_type": "markdown",
   "metadata": {},
   "source": [
    "<div class=\"alert alert-block alert-danger\">\n",
    "<b>Comentario del revisor (1ra Iteracion)</b> <a class=“tocSkip”></a>\n",
    "\n",
    "Una prueba estadística no te puede dar cómo resultado `nan` eso quiere decir que el módulo que lo calculo no está recibiendo los datos adecuados, y se debería aplicar para la conversión de cada evento. La conversión que se ha calculado aquí no es correcta ya que tienes un 100% cómo si todos los usuarios tuviesen un 100% de conversión y eso no es acertado\n",
    "</div>"
   ]
  },
  {
   "cell_type": "markdown",
   "metadata": {},
   "source": [
    "### Al no existir una diferencia entre los grupos, se sugiere replantear la estrategia de marketing empleada y buscar alternativas que puedan tener mayor efecto en los resultados "
   ]
  },
  {
   "cell_type": "markdown",
   "metadata": {},
   "source": [
    "<div class=\"alert alert-block alert-danger\">\n",
    "<b>Comentario del revisor (1ra Iteracion)</b> <a class=“tocSkip”></a>\n",
    "\n",
    "Las conclusiones deben ser más detalladas, debes resumir los hallazgos más importantes vistos a lo largo de **todo** el notebook y no sólo de la parte final\n",
    "</div>"
   ]
  },
  {
   "cell_type": "code",
   "execution_count": null,
   "metadata": {},
   "outputs": [],
   "source": []
  }
 ],
 "metadata": {
  "ExecuteTimeLog": [
   {
    "duration": 994,
    "start_time": "2025-03-26T02:14:53.281Z"
   },
   {
    "duration": 1007,
    "start_time": "2025-03-26T02:14:54.277Z"
   },
   {
    "duration": 0,
    "start_time": "2025-03-26T02:14:55.286Z"
   },
   {
    "duration": 0,
    "start_time": "2025-03-26T02:14:55.288Z"
   },
   {
    "duration": 0,
    "start_time": "2025-03-26T02:14:55.289Z"
   },
   {
    "duration": 0,
    "start_time": "2025-03-26T02:14:55.290Z"
   },
   {
    "duration": 0,
    "start_time": "2025-03-26T02:14:55.292Z"
   },
   {
    "duration": 0,
    "start_time": "2025-03-26T02:14:55.293Z"
   },
   {
    "duration": 5,
    "start_time": "2025-03-26T02:15:20.654Z"
   },
   {
    "duration": 36,
    "start_time": "2025-03-26T02:15:20.661Z"
   },
   {
    "duration": 199,
    "start_time": "2025-03-26T02:15:20.698Z"
   },
   {
    "duration": 1374,
    "start_time": "2025-03-26T02:15:20.899Z"
   },
   {
    "duration": 68,
    "start_time": "2025-03-26T02:15:22.276Z"
   },
   {
    "duration": 108,
    "start_time": "2025-03-26T02:15:22.346Z"
   },
   {
    "duration": 398,
    "start_time": "2025-03-26T02:15:22.460Z"
   },
   {
    "duration": 49,
    "start_time": "2025-03-26T02:15:22.860Z"
   }
  ],
  "kernelspec": {
   "display_name": "Python 3 (ipykernel)",
   "language": "python",
   "name": "python3"
  },
  "language_info": {
   "codemirror_mode": {
    "name": "ipython",
    "version": 3
   },
   "file_extension": ".py",
   "mimetype": "text/x-python",
   "name": "python",
   "nbconvert_exporter": "python",
   "pygments_lexer": "ipython3",
   "version": "3.9.19"
  },
  "toc": {
   "base_numbering": 1,
   "nav_menu": {},
   "number_sections": true,
   "sideBar": true,
   "skip_h1_title": true,
   "title_cell": "Table of Contents",
   "title_sidebar": "Contents",
   "toc_cell": false,
   "toc_position": {},
   "toc_section_display": true,
   "toc_window_display": false
  }
 },
 "nbformat": 4,
 "nbformat_minor": 2
}
