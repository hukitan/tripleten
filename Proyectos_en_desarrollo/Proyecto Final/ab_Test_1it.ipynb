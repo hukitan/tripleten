{
 "cells": [
  {
   "cell_type": "markdown",
   "metadata": {},
   "source": [
    "Hola **Elias**!\n",
    "\n",
    "Soy **Patricio Requena** 👋. Es un placer ser el revisor de tu proyecto el día de hoy!\n",
    "\n",
    "Revisaré tu proyecto detenidamente con el objetivo de ayudarte a mejorar y perfeccionar tus habilidades. Durante mi revisión, identificaré áreas donde puedas hacer mejoras en tu código, señalando específicamente qué y cómo podrías ajustar para optimizar el rendimiento y la claridad de tu proyecto. Además, es importante para mí destacar los aspectos que has manejado excepcionalmente bien. Reconocer tus fortalezas te ayudará a entender qué técnicas y métodos están funcionando a tu favor y cómo puedes aplicarlos en futuras tareas. \n",
    "\n",
    "_**Recuerda que al final de este notebook encontrarás un comentario general de mi parte**_, empecemos!\n",
    "\n",
    "Encontrarás mis comentarios dentro de cajas verdes, amarillas o rojas, ⚠️ **por favor, no muevas, modifiques o borres mis comentarios** ⚠️:\n",
    "\n",
    "\n",
    "<div class=\"alert alert-block alert-success\">\n",
    "<b>Comentario del revisor</b> <a class=“tocSkip”></a>\n",
    "Si todo está perfecto.\n",
    "</div>\n",
    "\n",
    "<div class=\"alert alert-block alert-warning\">\n",
    "<b>Comentario del revisor</b> <a class=“tocSkip”></a>\n",
    "Si tu código está bien pero se puede mejorar o hay algún detalle que le hace falta.\n",
    "</div>\n",
    "\n",
    "<div class=\"alert alert-block alert-danger\">\n",
    "<b>Comentario del revisor</b> <a class=“tocSkip”></a>\n",
    "Si de pronto hace falta algo o existe algún problema con tu código o conclusiones.\n",
    "</div>\n",
    "\n",
    "Puedes responderme de esta forma:\n",
    "<div class=\"alert alert-block alert-info\">\n",
    "<b>Respuesta del estudiante</b> <a class=“tocSkip”></a>\n",
    "</div>"
   ]
  },
  {
   "cell_type": "markdown",
   "metadata": {},
   "source": [
    "#### Pureba A/B"
   ]
  },
  {
   "cell_type": "markdown",
   "metadata": {},
   "source": [
    "### Instrucciones para completar la tarea\n",
    "\n",
    "1. **Describe los objetivos del estudio.**\n",
    "   - Explica cuál es el propósito del análisis y qué se espera lograr con la prueba A/B.\n",
    "\n",
    "2. **Explora los datos:**\n",
    "   - ¿Es necesario convertir los tipos de datos?\n",
    "   - ¿Hay valores ausentes o duplicados? Si es así, ¿cómo los caracterizarías?\n",
    "\n",
    "3. **Lleva a cabo el análisis exploratorio de datos (EDA):**\n",
    "   - Estudia la conversión en las diferentes etapas del embudo.\n",
    "   - ¿El número de eventos por usuario está distribuido equitativamente entre las muestras?\n",
    "   - ¿Hay usuarios que están presentes en ambas muestras?\n",
    "   - ¿Cómo se distribuye el número de eventos entre los días?\n",
    "   - ¿Hay alguna peculiaridad en los datos que hay que tener en cuenta antes de iniciar la prueba A/B?\n",
    "\n",
    "4. **Evaluar los resultados de la prueba A/B:**\n",
    "   - ¿Qué puedes decir sobre los resultados de la prueba A/B?\n",
    "   - Utiliza una prueba z para comprobar la diferencia estadística entre las proporciones.\n",
    "\n",
    "5. **Describe tus conclusiones:**\n",
    "   - Resume los hallazgos del análisis exploratorio de datos (EDA).\n",
    "   - Interpreta los resultados de la prueba A/B y proporciona recomendaciones basadas en los datos."
   ]
  },
  {
   "cell_type": "markdown",
   "metadata": {},
   "source": [
    "1. **Describe los objetivos del estudio.**\n",
    "   - Explica cuál es el propósito del análisis y qué se espera lograr con la prueba A/B."
   ]
  },
  {
   "cell_type": "code",
   "execution_count": 3,
   "metadata": {},
   "outputs": [],
   "source": [
    "import pandas as pd\n",
    "import numpy as np\n",
    "import matplotlib.pyplot as plt\n",
    "import seaborn as sns\n",
    "\n",
    "\n",
    "\n",
    "def looks(datos):\n",
    "    \"\"\"Genera un análisis de todo el set de datos de manera global\"\"\"\n",
    "\n",
    "    print(\"Se ejecuta la descripción de los datos:\")\n",
    "    print(datos.describe(include=\"all\"))\n",
    "    print()\n",
    "    print(\"se hace exploración con método info:\")\n",
    "    print(datos.info())\n",
    "    print()\n",
    "    print(\"se hace una observación con el método Sample:\")\n",
    "    if len(datos) > 10:\n",
    "        print(datos.sample(10))\n",
    "    else:\n",
    "        print(datos)\n",
    "    print()\n",
    "    print(\"hay NA?:\")\n",
    "    print(datos.isna().sum())\n",
    "    print()\n",
    "    print(\"Duplicados:\")\n",
    "    print(datos.duplicated().sum())"
   ]
  },
  {
   "cell_type": "code",
   "execution_count": 4,
   "metadata": {},
   "outputs": [
    {
     "name": "stdout",
     "output_type": "stream",
     "text": [
      "Se ejecuta la descripción de los datos:\n",
      "                                   name regions    start_dt   finish_dt\n",
      "count                                14      14          14          14\n",
      "unique                               14       6          14          14\n",
      "top     Victory Day CIS (May 9th) Event    APAC  2020-11-26  2020-07-11\n",
      "freq                                  1       4           1           1\n",
      "\n",
      "se hace exploración con método info:\n",
      "<class 'pandas.core.frame.DataFrame'>\n",
      "RangeIndex: 14 entries, 0 to 13\n",
      "Data columns (total 4 columns):\n",
      " #   Column     Non-Null Count  Dtype \n",
      "---  ------     --------------  ----- \n",
      " 0   name       14 non-null     object\n",
      " 1   regions    14 non-null     object\n",
      " 2   start_dt   14 non-null     object\n",
      " 3   finish_dt  14 non-null     object\n",
      "dtypes: object(4)\n",
      "memory usage: 576.0+ bytes\n",
      "None\n",
      "\n",
      "se hace una observación con el método Sample:\n",
      "                                name                   regions    start_dt  \\\n",
      "12           Single's Day Gift Promo                      APAC  2020-11-11   \n",
      "0           Christmas&New Year Promo             EU, N.America  2020-12-25   \n",
      "8    International Women's Day Promo             EU, CIS, APAC  2020-03-08   \n",
      "7   Labor day (May 1st) Ads Campaign             EU, CIS, APAC  2020-05-01   \n",
      "11     Dragon Boat Festival Giveaway                      APAC  2020-06-25   \n",
      "5          Black Friday Ads Campaign  EU, CIS, APAC, N.America  2020-11-26   \n",
      "10         CIS New Year Gift Lottery                       CIS  2020-12-30   \n",
      "9    Victory Day CIS (May 9th) Event                       CIS  2020-05-09   \n",
      "6             Chinese New Year Promo                      APAC  2020-01-25   \n",
      "13             Chinese Moon Festival                      APAC  2020-10-01   \n",
      "\n",
      "     finish_dt  \n",
      "12  2020-11-12  \n",
      "0   2021-01-03  \n",
      "8   2020-03-10  \n",
      "7   2020-05-03  \n",
      "11  2020-07-01  \n",
      "5   2020-12-01  \n",
      "10  2021-01-07  \n",
      "9   2020-05-11  \n",
      "6   2020-02-07  \n",
      "13  2020-10-07  \n",
      "\n",
      "hay NA?:\n",
      "name         0\n",
      "regions      0\n",
      "start_dt     0\n",
      "finish_dt    0\n",
      "dtype: int64\n",
      "\n",
      "Duplicados:\n",
      "0\n"
     ]
    }
   ],
   "source": [
    "marketing_events = pd.read_csv('/datasets/ab_project_marketing_events_us.csv')\n",
    "looks(marketing_events)"
   ]
  },
  {
   "cell_type": "code",
   "execution_count": 5,
   "metadata": {},
   "outputs": [
    {
     "name": "stdout",
     "output_type": "stream",
     "text": [
      "Se ejecuta la descripción de los datos:\n",
      "                 user_id  first_date region   device\n",
      "count              58703       58703  58703    58703\n",
      "unique             58703          17      4        4\n",
      "top     233D093E128C6AB1  2020-12-21     EU  Android\n",
      "freq                   1        6077  43396    26159\n",
      "\n",
      "se hace exploración con método info:\n",
      "<class 'pandas.core.frame.DataFrame'>\n",
      "RangeIndex: 58703 entries, 0 to 58702\n",
      "Data columns (total 4 columns):\n",
      " #   Column      Non-Null Count  Dtype \n",
      "---  ------      --------------  ----- \n",
      " 0   user_id     58703 non-null  object\n",
      " 1   first_date  58703 non-null  object\n",
      " 2   region      58703 non-null  object\n",
      " 3   device      58703 non-null  object\n",
      "dtypes: object(4)\n",
      "memory usage: 1.8+ MB\n",
      "None\n",
      "\n",
      "se hace una observación con el método Sample:\n",
      "                user_id  first_date region   device\n",
      "23655  C7A13E45EC06BC98  2020-12-22     EU  Android\n",
      "3412   F9945FBF588762BE  2020-12-07     EU  Android\n",
      "17572  95CFFFEAB833A161  2020-12-08     EU  Android\n",
      "35629  14F77B6F572C60D0  2020-12-17     EU  Android\n",
      "42036  59D386BB2E4690D1  2020-12-18     EU       PC\n",
      "27453  B2731DD36A4B484E  2020-12-09     EU  Android\n",
      "56980  6439560BD0128CF4  2020-12-20     EU       PC\n",
      "17345  C58B1A301079F5ED  2020-12-08     EU      Mac\n",
      "28279  A8EF2994EEA6A06E  2020-12-16     EU   iPhone\n",
      "42129  4D678260188363E9  2020-12-18     EU       PC\n",
      "\n",
      "hay NA?:\n",
      "user_id       0\n",
      "first_date    0\n",
      "region        0\n",
      "device        0\n",
      "dtype: int64\n",
      "\n",
      "Duplicados:\n",
      "0\n"
     ]
    }
   ],
   "source": [
    "new_users = pd.read_csv('/datasets/final_ab_new_users_upd_us.csv')\n",
    "looks(new_users)"
   ]
  },
  {
   "cell_type": "code",
   "execution_count": 6,
   "metadata": {},
   "outputs": [
    {
     "name": "stdout",
     "output_type": "stream",
     "text": [
      "Se ejecuta la descripción de los datos:\n",
      "                 user_id             event_dt event_name       details\n",
      "count             423761               423761     423761  60314.000000\n",
      "unique             58703               257138          4           NaN\n",
      "top     A3917F81482141F2  2020-12-23 02:37:24      login           NaN\n",
      "freq                  36                   10     182465           NaN\n",
      "mean                 NaN                  NaN        NaN     23.881219\n",
      "std                  NaN                  NaN        NaN     72.228884\n",
      "min                  NaN                  NaN        NaN      4.990000\n",
      "25%                  NaN                  NaN        NaN      4.990000\n",
      "50%                  NaN                  NaN        NaN      4.990000\n",
      "75%                  NaN                  NaN        NaN      9.990000\n",
      "max                  NaN                  NaN        NaN    499.990000\n",
      "\n",
      "se hace exploración con método info:\n",
      "<class 'pandas.core.frame.DataFrame'>\n",
      "RangeIndex: 423761 entries, 0 to 423760\n",
      "Data columns (total 4 columns):\n",
      " #   Column      Non-Null Count   Dtype  \n",
      "---  ------      --------------   -----  \n",
      " 0   user_id     423761 non-null  object \n",
      " 1   event_dt    423761 non-null  object \n",
      " 2   event_name  423761 non-null  object \n",
      " 3   details     60314 non-null   float64\n",
      "dtypes: float64(1), object(3)\n",
      "memory usage: 12.9+ MB\n",
      "None\n",
      "\n",
      "se hace una observación con el método Sample:\n",
      "                 user_id             event_dt    event_name  details\n",
      "260175  05E92436138C0BD0  2020-12-10 06:39:38         login      NaN\n",
      "417794  49BB7651C514D74B  2020-12-28 21:19:08         login      NaN\n",
      "87673   263A4ACFA802D2C9  2020-12-17 22:08:32  product_cart      NaN\n",
      "212641  384DDD1008C5F86F  2020-12-22 01:49:59  product_page      NaN\n",
      "316440  49228A59694957B0  2020-12-17 21:22:22         login      NaN\n",
      "300033  7F85C09A36189561  2020-12-15 18:53:02         login      NaN\n",
      "105655  331AD701D3D5E958  2020-12-22 20:36:40  product_cart      NaN\n",
      "162812  1754CA0ACDD76836  2020-12-15 11:57:27  product_page      NaN\n",
      "356580  A2C7F793A014054B  2020-12-20 22:31:27         login      NaN\n",
      "64125   C40DDE88F1919245  2020-12-09 11:30:13  product_cart      NaN\n",
      "\n",
      "hay NA?:\n",
      "user_id            0\n",
      "event_dt           0\n",
      "event_name         0\n",
      "details       363447\n",
      "dtype: int64\n",
      "\n",
      "Duplicados:\n",
      "0\n"
     ]
    }
   ],
   "source": [
    "events = pd.read_csv('/datasets/final_ab_events_upd_us.csv')\n",
    "looks(events)"
   ]
  },
  {
   "cell_type": "code",
   "execution_count": 7,
   "metadata": {},
   "outputs": [
    {
     "name": "stdout",
     "output_type": "stream",
     "text": [
      "Se ejecuta la descripción de los datos:\n",
      "                 user_id  group            ab_test\n",
      "count              14525  14525              14525\n",
      "unique             13638      2                  2\n",
      "top     823BE193CDC32ADF      A  interface_eu_test\n",
      "freq                   2   8214              10850\n",
      "\n",
      "se hace exploración con método info:\n",
      "<class 'pandas.core.frame.DataFrame'>\n",
      "RangeIndex: 14525 entries, 0 to 14524\n",
      "Data columns (total 3 columns):\n",
      " #   Column   Non-Null Count  Dtype \n",
      "---  ------   --------------  ----- \n",
      " 0   user_id  14525 non-null  object\n",
      " 1   group    14525 non-null  object\n",
      " 2   ab_test  14525 non-null  object\n",
      "dtypes: object(3)\n",
      "memory usage: 340.6+ KB\n",
      "None\n",
      "\n",
      "se hace una observación con el método Sample:\n",
      "                user_id group                  ab_test\n",
      "14523  63FBE257B05F2245     A        interface_eu_test\n",
      "4282   37AA7C5CE8D812B8     A        interface_eu_test\n",
      "6874   3F4BC714C9F3241B     A        interface_eu_test\n",
      "10629  5D5E6EE92AF6E9E0     B        interface_eu_test\n",
      "4255   DB57F20A23905191     A        interface_eu_test\n",
      "12349  7411A85E26DC5D1F     B        interface_eu_test\n",
      "466    F71DD44DAB783CEB     B  recommender_system_test\n",
      "14277  8BA1FE6E45CE4D70     A        interface_eu_test\n",
      "9377   EC43C981CC81036D     A        interface_eu_test\n",
      "4566   4D269D6E438C6D22     A        interface_eu_test\n",
      "\n",
      "hay NA?:\n",
      "user_id    0\n",
      "group      0\n",
      "ab_test    0\n",
      "dtype: int64\n",
      "\n",
      "Duplicados:\n",
      "0\n"
     ]
    }
   ],
   "source": [
    "participants = pd.read_csv('/datasets/final_ab_participants_upd_us.csv')\n",
    "looks(participants)"
   ]
  },
  {
   "cell_type": "markdown",
   "metadata": {},
   "source": [
    "### No se encuentras particulatidades especiales para los datos "
   ]
  },
  {
   "cell_type": "code",
   "execution_count": 18,
   "metadata": {},
   "outputs": [],
   "source": [
    "# Convertir fechas a datetime\n",
    "new_users['first_date'] = pd.to_datetime(new_users['first_date'])\n",
    "events['event_dt'] = pd.to_datetime(events['event_dt'])\n",
    "marketing_events[['start_dt', 'finish_dt']] = marketing_events[[\n",
    "    'start_dt', 'finish_dt']].apply(pd.to_datetime)\n",
    "\n",
    "# Filtrar eventos dentro del período de la prueba (07/12/2020 - 01/01/2021)\n",
    "events = events[(events['event_dt'] >= '2020-12-07') &\n",
    "                (events['event_dt'] <= '2021-01-01')]\n",
    "\n",
    "# Unir eventos con información de grupos\n",
    "df = events.merge(participants, on='user_id', how='left')"
   ]
  },
  {
   "cell_type": "markdown",
   "metadata": {},
   "source": [
    "<div class=\"alert alert-block alert-success\">\n",
    "<b>Comentario del revisor (1ra Iteracion)</b> <a class=“tocSkip”></a>\n",
    "\n",
    "Muy buen trabajo con la transformación de datos y la exploración inicial de los mismos, un dataset limpio y claro es clave para una buena toma de decisiones en un experimento.\n",
    "</div>"
   ]
  },
  {
   "cell_type": "code",
   "execution_count": 19,
   "metadata": {},
   "outputs": [
    {
     "name": "stdout",
     "output_type": "stream",
     "text": [
      "Fecha mínima: 2020-12-07 00:00:33\n",
      "Fecha máxima: 2020-12-14 23:59:21\n"
     ]
    },
    {
     "data": {
      "image/png": "[encoded data removed]",
      "text/plain": [
       "<Figure size 1200x600 with 1 Axes>"
      ]
     },
     "metadata": {},
     "output_type": "display_data"
    }
   ],
   "source": [
    "# ¿Qué periodo de tiempo cubren los datos? Encuentra la fecha máxima y mínima.\n",
    "print(f\"Fecha mínima: {events['event_dt'].min()}\")\n",
    "print(f\"Fecha máxima: {events['event_dt'].max()}\")\n",
    "\n",
    "# Traza un histograma por fecha y hora\n",
    "plt.figure(figsize=(12, 6))\n",
    "events['event_dt'].hist(bins=100)\n",
    "plt.xlabel('Fecha y Hora')\n",
    "plt.ylabel('Frecuencia')\n",
    "plt.title('Histograma de eventos por fecha')\n",
    "plt.xticks(rotation=45)\n",
    "plt.show()"
   ]
  },
  {
   "cell_type": "markdown",
   "metadata": {},
   "source": [
    "<div class=\"alert alert-block alert-danger\">\n",
    "<b>Comentario del revisor (1ra Iteracion)</b> <a class=“tocSkip”></a>\n",
    "\n",
    "Hace falta calcular y graficar los eventos a lo largo del tiempo\n",
    "</div>"
   ]
  },
  {
   "cell_type": "code",
   "execution_count": 26,
   "metadata": {},
   "outputs": [
    {
     "name": "stdout",
     "output_type": "stream",
     "text": [
      "Nombres de los eventos:\n",
      "purchase\n",
      "\n",
      "Número de eventos: 1\n"
     ]
    }
   ],
   "source": [
    "# ¿Cuántos eventos hay en los registros?\n",
    "print('Nombres de los eventos:')\n",
    "for event in df['event_name'].unique():\n",
    "    print(event)\n",
    "print()\n",
    "print('Número de eventos:', len(df['event_name'].unique()))"
   ]
  },
  {
   "cell_type": "markdown",
   "metadata": {},
   "source": [
    "- Estudia la conversión en las diferentes etapas del embudo.\n",
    "    - ¿El número de eventos por usuario está distribuido equitativamente entre las muestras?\n",
    "    - ¿Hay usuarios que están presentes en ambas muestras?\n",
    "    - ¿Cómo se distribuye el número de eventos entre los días?\n",
    "    - ¿Hay alguna peculiaridad en los datos que hay que tener en cuenta antes de iniciar la prueba A/B?"
   ]
  },
  {
   "cell_type": "markdown",
   "metadata": {},
   "source": [
    "<div class=\"alert alert-block alert-danger\">\n",
    "<b>Comentario del revisor (1ra Iteracion)</b> <a class=“tocSkip”></a>\n",
    "\n",
    "No es buena práctica tener tantos procesos en una sóla celda, la ventaja de los notebooks es que se puede usar cada celda para hacer cada paso facilitando así la comprensión del proceso. Además, la conversión no está calculada corredctamente, deberías tomar el primer evento `loging` como el punto de partida para calcular el resto, por ejemplo, para la conversión en purchase sería `# usuarios purchase / # usuarios login`\n",
    "</div>"
   ]
  },
  {
   "cell_type": "code",
   "execution_count": 25,
   "metadata": {},
   "outputs": [
    {
     "data": {
      "application/vnd.microsoft.datawrangler.viewer.v0+json": {
       "columns": [
        {
         "name": "index",
         "rawType": "int64",
         "type": "integer"
        },
        {
         "name": "group",
         "rawType": "object",
         "type": "string"
        },
        {
         "name": "login",
         "rawType": "int64",
         "type": "integer"
        },
        {
         "name": "product_page",
         "rawType": "int64",
         "type": "integer"
        },
        {
         "name": "product_page_conv",
         "rawType": "int64",
         "type": "integer"
        },
        {
         "name": "product_card",
         "rawType": "int64",
         "type": "integer"
        },
        {
         "name": "product_card_conv",
         "rawType": "int64",
         "type": "integer"
        },
        {
         "name": "purchase",
         "rawType": "int64",
         "type": "integer"
        },
        {
         "name": "purchase_conv",
         "rawType": "int64",
         "type": "integer"
        }
       ],
       "conversionMethod": "pd.DataFrame",
       "ref": "126e4b3b-33e2-4a81-9fb0-eed846ff5539",
       "rows": [
        [
         "0",
         "A",
         "0",
         "0",
         "0",
         "0",
         "0",
         "0",
         "0"
        ],
        [
         "1",
         "B",
         "0",
         "0",
         "0",
         "0",
         "0",
         "0",
         "0"
        ]
       ],
       "shape": {
        "columns": 8,
        "rows": 2
       }
      },
      "text/html": [
       "<div>\n",
       "<style scoped>\n",
       "    .dataframe tbody tr th:only-of-type {\n",
       "        vertical-align: middle;\n",
       "    }\n",
       "\n",
       "    .dataframe tbody tr th {\n",
       "        vertical-align: top;\n",
       "    }\n",
       "\n",
       "    .dataframe thead th {\n",
       "        text-align: right;\n",
       "    }\n",
       "</style>\n",
       "<table border=\"1\" class=\"dataframe\">\n",
       "  <thead>\n",
       "    <tr style=\"text-align: right;\">\n",
       "      <th></th>\n",
       "      <th>group</th>\n",
       "      <th>login</th>\n",
       "      <th>product_page</th>\n",
       "      <th>product_page_conv</th>\n",
       "      <th>product_card</th>\n",
       "      <th>product_card_conv</th>\n",
       "      <th>purchase</th>\n",
       "      <th>purchase_conv</th>\n",
       "    </tr>\n",
       "  </thead>\n",
       "  <tbody>\n",
       "    <tr>\n",
       "      <th>0</th>\n",
       "      <td>A</td>\n",
       "      <td>0</td>\n",
       "      <td>0</td>\n",
       "      <td>0</td>\n",
       "      <td>0</td>\n",
       "      <td>0</td>\n",
       "      <td>0</td>\n",
       "      <td>0</td>\n",
       "    </tr>\n",
       "    <tr>\n",
       "      <th>1</th>\n",
       "      <td>B</td>\n",
       "      <td>0</td>\n",
       "      <td>0</td>\n",
       "      <td>0</td>\n",
       "      <td>0</td>\n",
       "      <td>0</td>\n",
       "      <td>0</td>\n",
       "      <td>0</td>\n",
       "    </tr>\n",
       "  </tbody>\n",
       "</table>\n",
       "</div>"
      ],
      "text/plain": [
       "  group  login  product_page  product_page_conv  product_card  \\\n",
       "0     A      0             0                  0             0   \n",
       "1     B      0             0                  0             0   \n",
       "\n",
       "   product_card_conv  purchase  purchase_conv  \n",
       "0                  0         0              0  \n",
       "1                  0         0              0  "
      ]
     },
     "execution_count": 25,
     "metadata": {},
     "output_type": "execute_result"
    }
   ],
   "source": [
    "conversion_data = []\n",
    "\n",
    "for group in ['A', 'B']:\n",
    "    # Usuarios del grupo\n",
    "    group_users = df[df['group'] == group]['user_id'].unique()\n",
    "\n",
    "    # Usuarios que hicieron login dentro de la ventana\n",
    "    login_users = df[(df['event_name'] == 'login') & (\n",
    "        df['user_id'].isin(group_users))]['user_id'].unique()\n",
    "\n",
    "    # Para cada usuario con login, verificar secuencia de eventos\n",
    "    product_page_users = []\n",
    "    product_card_users = []\n",
    "    purchase_users = []\n",
    "\n",
    "    for user in login_users:\n",
    "        user_events = df[df['user_id'] == user].sort_values('event_dt')[\n",
    "            'event_name'].tolist()\n",
    "\n",
    "        # Verificar si ocurrió product_page después del login\n",
    "        if 'product_page' in user_events[user_events.index('login') + 1:]:\n",
    "            product_page_users.append(user)\n",
    "\n",
    "            # Verificar product_card después de product_page\n",
    "            if 'product_card' in user_events[user_events.index('product_page') + 1:]:\n",
    "                product_card_users.append(user)\n",
    "\n",
    "                # Verificar purchase después de product_card\n",
    "                if 'purchase' in user_events[user_events.index('product_card') + 1:]:\n",
    "                    purchase_users.append(user)\n",
    "\n",
    "    # Calcular conversiones\n",
    "    n_login = len(login_users)\n",
    "    n_product_page = len(product_page_users)\n",
    "    n_product_card = len(product_card_users)\n",
    "    n_purchase = len(purchase_users)\n",
    "\n",
    "    conversion_data.append({\n",
    "        'group': group,\n",
    "        'login': n_login,\n",
    "        'product_page': n_product_page,\n",
    "        'product_page_conv': n_product_page / n_login if n_login > 0 else 0,\n",
    "        'product_card': n_product_card,\n",
    "        'product_card_conv': n_product_card / n_login if n_login > 0 else 0,\n",
    "        'purchase': n_purchase,\n",
    "        'purchase_conv': n_purchase / n_login if n_login > 0 else 0\n",
    "    })\n",
    "\n",
    "conversion_df = pd.DataFrame(conversion_data)\n",
    "conversion_df"
   ]
  },
  {
   "cell_type": "markdown",
   "metadata": {},
   "source": [
    "<div class=\"alert alert-block alert-danger\">\n",
    "<b>Comentario del revisor (1ra Iteracion)</b> <a class=“tocSkip”></a>\n",
    "\n",
    "Una prueba estadística no te puede dar cómo resultado `nan` eso quiere decir que el módulo que lo calculo no está recibiendo los datos adecuados, y se debería aplicar para la conversión de cada evento. La conversión que se ha calculado aquí no es correcta ya que tienes un 100% cómo si todos los usuarios tuviesen un 100% de conversión y eso no es acertado\n",
    "</div>"
   ]
  },
  {
   "cell_type": "markdown",
   "metadata": {},
   "source": [
    "### Al no existir una diferencia entre los grupos, se sugiere replantear la estrategia de marketing empleada y buscar alternativas que puedan tener mayor efecto en los resultados "
   ]
  },
  {
   "cell_type": "markdown",
   "metadata": {},
   "source": [
    "<div class=\"alert alert-block alert-danger\">\n",
    "<b>Comentario del revisor (1ra Iteracion)</b> <a class=“tocSkip”></a>\n",
    "\n",
    "Las conclusiones deben ser más detalladas, debes resumir los hallazgos más importantes vistos a lo largo de **todo** el notebook y no sólo de la parte final\n",
    "</div>"
   ]
  },
  {
   "cell_type": "markdown",
   "metadata": {},
   "source": [
    "\n",
    "- Evaluar los resultados de la prueba A/B:\n",
    "    - ¿Qué puedes decir sobre los resultados de la prueba A/B?\n",
    "    - Utiliza una prueba z para comprobar la diferencia estadística entre las proporciones\n",
    "- Describe tus conclusiones con respecto a la etapa EDA y los resultados de la prueba A/B"
   ]
  },
  {
   "cell_type": "code",
   "execution_count": null,
   "metadata": {},
   "outputs": [],
   "source": []
  }
 ],
 "metadata": {
  "ExecuteTimeLog": [
   {
    "duration": 994,
    "start_time": "2025-03-26T02:14:53.281Z"
   },
   {
    "duration": 1007,
    "start_time": "2025-03-26T02:14:54.277Z"
   },
   {
    "duration": 0,
    "start_time": "2025-03-26T02:14:55.286Z"
   },
   {
    "duration": 0,
    "start_time": "2025-03-26T02:14:55.288Z"
   },
   {
    "duration": 0,
    "start_time": "2025-03-26T02:14:55.289Z"
   },
   {
    "duration": 0,
    "start_time": "2025-03-26T02:14:55.290Z"
   },
   {
    "duration": 0,
    "start_time": "2025-03-26T02:14:55.292Z"
   },
   {
    "duration": 0,
    "start_time": "2025-03-26T02:14:55.293Z"
   },
   {
    "duration": 5,
    "start_time": "2025-03-26T02:15:20.654Z"
   },
   {
    "duration": 36,
    "start_time": "2025-03-26T02:15:20.661Z"
   },
   {
    "duration": 199,
    "start_time": "2025-03-26T02:15:20.698Z"
   },
   {
    "duration": 1374,
    "start_time": "2025-03-26T02:15:20.899Z"
   },
   {
    "duration": 68,
    "start_time": "2025-03-26T02:15:22.276Z"
   },
   {
    "duration": 108,
    "start_time": "2025-03-26T02:15:22.346Z"
   },
   {
    "duration": 398,
    "start_time": "2025-03-26T02:15:22.460Z"
   },
   {
    "duration": 49,
    "start_time": "2025-03-26T02:15:22.860Z"
   }
  ],
  "kernelspec": {
   "display_name": "Python 3 (ipykernel)",
   "language": "python",
   "name": "python3"
  },
  "language_info": {
   "codemirror_mode": {
    "name": "ipython",
    "version": 3
   },
   "file_extension": ".py",
   "mimetype": "text/x-python",
   "name": "python",
   "nbconvert_exporter": "python",
   "pygments_lexer": "ipython3",
   "version": "3.9.19"
  },
  "toc": {
   "base_numbering": 1,
   "nav_menu": {},
   "number_sections": true,
   "sideBar": true,
   "skip_h1_title": true,
   "title_cell": "Table of Contents",
   "title_sidebar": "Contents",
   "toc_cell": false,
   "toc_position": {},
   "toc_section_display": true,
   "toc_window_display": false
  }
 },
 "nbformat": 4,
 "nbformat_minor": 2
}
