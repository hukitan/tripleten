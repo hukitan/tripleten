{
 "cells": [
  {
   "cell_type": "markdown",
   "metadata": {},
   "source": [
    "Hola **Elias**!\n",
    "\n",
    "Soy **Patricio Requena** 👋. Es un placer ser el revisor de tu proyecto el día de hoy!\n",
    "\n",
    "Revisaré tu proyecto detenidamente con el objetivo de ayudarte a mejorar y perfeccionar tus habilidades. Durante mi revisión, identificaré áreas donde puedas hacer mejoras en tu código, señalando específicamente qué y cómo podrías ajustar para optimizar el rendimiento y la claridad de tu proyecto. Además, es importante para mí destacar los aspectos que has manejado excepcionalmente bien. Reconocer tus fortalezas te ayudará a entender qué técnicas y métodos están funcionando a tu favor y cómo puedes aplicarlos en futuras tareas. \n",
    "\n",
    "_**Recuerda que al final de este notebook encontrarás un comentario general de mi parte**_, empecemos!\n",
    "\n",
    "Encontrarás mis comentarios dentro de cajas verdes, amarillas o rojas, ⚠️ **por favor, no muevas, modifiques o borres mis comentarios** ⚠️:\n",
    "\n",
    "\n",
    "<div class=\"alert alert-block alert-success\">\n",
    "<b>Comentario del revisor</b> <a class=“tocSkip”></a>\n",
    "Si todo está perfecto.\n",
    "</div>\n",
    "\n",
    "<div class=\"alert alert-block alert-warning\">\n",
    "<b>Comentario del revisor</b> <a class=“tocSkip”></a>\n",
    "Si tu código está bien pero se puede mejorar o hay algún detalle que le hace falta.\n",
    "</div>\n",
    "\n",
    "<div class=\"alert alert-block alert-danger\">\n",
    "<b>Comentario del revisor</b> <a class=“tocSkip”></a>\n",
    "Si de pronto hace falta algo o existe algún problema con tu código o conclusiones.\n",
    "</div>\n",
    "\n",
    "Puedes responderme de esta forma:\n",
    "<div class=\"alert alert-block alert-info\">\n",
    "<b>Respuesta del estudiante</b> <a class=“tocSkip”></a>\n",
    "</div>"
   ]
  },
  {
   "cell_type": "markdown",
   "metadata": {},
   "source": [
    "#### Pureba A/B"
   ]
  },
  {
   "cell_type": "markdown",
   "metadata": {},
   "source": [
    "### Instrucciones para completar la tarea\n",
    "\n",
    "1. **Describe los objetivos del estudio.**\n",
    "   - Explica cuál es el propósito del análisis y qué se espera lograr con la prueba A/B.\n",
    "\n",
    "2. **Explora los datos:**\n",
    "   - ¿Es necesario convertir los tipos de datos?\n",
    "   - ¿Hay valores ausentes o duplicados? Si es así, ¿cómo los caracterizarías?\n",
    "\n",
    "3. **Lleva a cabo el análisis exploratorio de datos (EDA):**\n",
    "   - Estudia la conversión en las diferentes etapas del embudo.\n",
    "   - ¿El número de eventos por usuario está distribuido equitativamente entre las muestras?\n",
    "   - ¿Hay usuarios que están presentes en ambas muestras?\n",
    "   - ¿Cómo se distribuye el número de eventos entre los días?\n",
    "   - ¿Hay alguna peculiaridad en los datos que hay que tener en cuenta antes de iniciar la prueba A/B?\n",
    "\n",
    "4. **Evaluar los resultados de la prueba A/B:**\n",
    "   - ¿Qué puedes decir sobre los resultados de la prueba A/B?\n",
    "   - Utiliza una prueba z para comprobar la diferencia estadística entre las proporciones.\n",
    "\n",
    "5. **Describe tus conclusiones:**\n",
    "   - Resume los hallazgos del análisis exploratorio de datos (EDA).\n",
    "   - Interpreta los resultados de la prueba A/B y proporciona recomendaciones basadas en los datos."
   ]
  },
  {
   "cell_type": "markdown",
   "metadata": {},
   "source": [
    "1. **Describe los objetivos del estudio.**\n",
    "   - Explica cuál es el propósito del análisis y qué se espera lograr con la prueba A/B."
   ]
  },
  {
   "cell_type": "code",
   "execution_count": 1,
   "metadata": {},
   "outputs": [],
   "source": [
    "import pandas as pd\n",
    "import numpy as np\n",
    "import matplotlib.pyplot as plt\n",
    "import seaborn as sns\n",
    "\n",
    "\n",
    "\n",
    "def looks(datos):\n",
    "    \"\"\"Genera un análisis de todo el set de datos de manera global\"\"\"\n",
    "\n",
    "    print(\"Se ejecuta la descripción de los datos:\")\n",
    "    print(datos.describe(include=\"all\"))\n",
    "    print()\n",
    "    print(\"se hace exploración con método info:\")\n",
    "    print(datos.info())\n",
    "    print()\n",
    "    print(\"se hace una observación con el método Sample:\")\n",
    "    if len(datos) > 10:\n",
    "        print(datos.sample(10))\n",
    "    else:\n",
    "        print(datos)\n",
    "    print()\n",
    "    print(\"hay NA?:\")\n",
    "    print(datos.isna().sum())\n",
    "    print()\n",
    "    print(\"Duplicados:\")\n",
    "    print(datos.duplicated().sum())"
   ]
  },
  {
   "cell_type": "code",
   "execution_count": 2,
   "metadata": {},
   "outputs": [
    {
     "name": "stdout",
     "output_type": "stream",
     "text": [
      "Se ejecuta la descripción de los datos:\n",
      "                            name regions    start_dt   finish_dt\n",
      "count                         14      14          14          14\n",
      "unique                        14       6          14          14\n",
      "top     Christmas&New Year Promo    APAC  2020-12-25  2021-01-03\n",
      "freq                           1       4           1           1\n",
      "\n",
      "se hace exploración con método info:\n",
      "<class 'pandas.core.frame.DataFrame'>\n",
      "RangeIndex: 14 entries, 0 to 13\n",
      "Data columns (total 4 columns):\n",
      " #   Column     Non-Null Count  Dtype \n",
      "---  ------     --------------  ----- \n",
      " 0   name       14 non-null     object\n",
      " 1   regions    14 non-null     object\n",
      " 2   start_dt   14 non-null     object\n",
      " 3   finish_dt  14 non-null     object\n",
      "dtypes: object(4)\n",
      "memory usage: 580.0+ bytes\n",
      "None\n",
      "\n",
      "se hace una observación con el método Sample:\n",
      "                               name                   regions    start_dt  \\\n",
      "6            Chinese New Year Promo                      APAC  2020-01-25   \n",
      "9   Victory Day CIS (May 9th) Event                       CIS  2020-05-09   \n",
      "0          Christmas&New Year Promo             EU, N.America  2020-12-25   \n",
      "13            Chinese Moon Festival                      APAC  2020-10-01   \n",
      "11    Dragon Boat Festival Giveaway                      APAC  2020-06-25   \n",
      "3                      Easter Promo  EU, CIS, APAC, N.America  2020-04-12   \n",
      "8   International Women's Day Promo             EU, CIS, APAC  2020-03-08   \n",
      "10        CIS New Year Gift Lottery                       CIS  2020-12-30   \n",
      "2            St. Patric's Day Promo             EU, N.America  2020-03-17   \n",
      "12          Single's Day Gift Promo                      APAC  2020-11-11   \n",
      "\n",
      "     finish_dt  \n",
      "6   2020-02-07  \n",
      "9   2020-05-11  \n",
      "0   2021-01-03  \n",
      "13  2020-10-07  \n",
      "11  2020-07-01  \n",
      "3   2020-04-19  \n",
      "8   2020-03-10  \n",
      "10  2021-01-07  \n",
      "2   2020-03-19  \n",
      "12  2020-11-12  \n",
      "\n",
      "hay NA?:\n",
      "name         0\n",
      "regions      0\n",
      "start_dt     0\n",
      "finish_dt    0\n",
      "dtype: int64\n",
      "\n",
      "Duplicados:\n",
      "0\n"
     ]
    }
   ],
   "source": [
    "marketing_events = pd.read_csv('datasets/ab_project_marketing_events_us.csv')\n",
    "looks(marketing_events)"
   ]
  },
  {
   "cell_type": "code",
   "execution_count": 3,
   "metadata": {},
   "outputs": [
    {
     "name": "stdout",
     "output_type": "stream",
     "text": [
      "Se ejecuta la descripción de los datos:\n",
      "                 user_id  first_date region   device\n",
      "count              58703       58703  58703    58703\n",
      "unique             58703          17      4        4\n",
      "top     8F04273BB2860229  2020-12-21     EU  Android\n",
      "freq                   1        6077  43396    26159\n",
      "\n",
      "se hace exploración con método info:\n",
      "<class 'pandas.core.frame.DataFrame'>\n",
      "RangeIndex: 58703 entries, 0 to 58702\n",
      "Data columns (total 4 columns):\n",
      " #   Column      Non-Null Count  Dtype \n",
      "---  ------      --------------  ----- \n",
      " 0   user_id     58703 non-null  object\n",
      " 1   first_date  58703 non-null  object\n",
      " 2   region      58703 non-null  object\n",
      " 3   device      58703 non-null  object\n",
      "dtypes: object(4)\n",
      "memory usage: 1.8+ MB\n",
      "None\n",
      "\n",
      "se hace una observación con el método Sample:\n",
      "                user_id  first_date     region   device\n",
      "41458  B427A3EF2A9EF691  2020-12-18         EU   iPhone\n",
      "19967  2477FE246ADC8BBA  2020-12-15         EU   iPhone\n",
      "52217  A076A894FAA2D011  2020-12-13  N.America  Android\n",
      "45954  DF141C951DE17AA4  2020-12-12         EU       PC\n",
      "21517  A58C89F58BA64575  2020-12-15  N.America  Android\n",
      "25831  A294DCA1B1C86C66  2020-12-22         EU  Android\n",
      "861    DD5EBF41B1DCCB0E  2020-12-07         EU       PC\n",
      "50699  F539045A4F03A5D2  2020-12-13        CIS  Android\n",
      "51228  2905D377DCE372AB  2020-12-13       APAC   iPhone\n",
      "13514  FD356863B10F6B00  2020-12-21         EU       PC\n",
      "\n",
      "hay NA?:\n",
      "user_id       0\n",
      "first_date    0\n",
      "region        0\n",
      "device        0\n",
      "dtype: int64\n",
      "\n",
      "Duplicados:\n",
      "0\n"
     ]
    }
   ],
   "source": [
    "new_users = pd.read_csv('datasets/final_ab_new_users_upd_us.csv')\n",
    "looks(new_users)"
   ]
  },
  {
   "cell_type": "code",
   "execution_count": 4,
   "metadata": {},
   "outputs": [
    {
     "name": "stdout",
     "output_type": "stream",
     "text": [
      "Se ejecuta la descripción de los datos:\n",
      "                 user_id             event_dt event_name       details\n",
      "count             423761               423761     423761  60314.000000\n",
      "unique             58703               257138          4           NaN\n",
      "top     A3917F81482141F2  2020-12-14 18:54:55      login           NaN\n",
      "freq                  36                   10     182465           NaN\n",
      "mean                 NaN                  NaN        NaN     23.881219\n",
      "std                  NaN                  NaN        NaN     72.228884\n",
      "min                  NaN                  NaN        NaN      4.990000\n",
      "25%                  NaN                  NaN        NaN      4.990000\n",
      "50%                  NaN                  NaN        NaN      4.990000\n",
      "75%                  NaN                  NaN        NaN      9.990000\n",
      "max                  NaN                  NaN        NaN    499.990000\n",
      "\n",
      "se hace exploración con método info:\n",
      "<class 'pandas.core.frame.DataFrame'>\n",
      "RangeIndex: 423761 entries, 0 to 423760\n",
      "Data columns (total 4 columns):\n",
      " #   Column      Non-Null Count   Dtype  \n",
      "---  ------      --------------   -----  \n",
      " 0   user_id     423761 non-null  object \n",
      " 1   event_dt    423761 non-null  object \n",
      " 2   event_name  423761 non-null  object \n",
      " 3   details     60314 non-null   float64\n",
      "dtypes: float64(1), object(3)\n",
      "memory usage: 12.9+ MB\n",
      "None\n",
      "\n",
      "se hace una observación con el método Sample:\n",
      "                 user_id             event_dt    event_name  details\n",
      "54789   43DFC24A8B7CE1F6  2020-12-26 03:30:24      purchase     4.99\n",
      "88883   F3314BC3410487FF  2020-12-18 10:14:10  product_cart      NaN\n",
      "53830   90EB2B133839A39B  2020-12-26 04:03:39      purchase     4.99\n",
      "184884  454009F096FC3067  2020-12-19 18:03:32  product_page      NaN\n",
      "349633  2D70901ECA9EBC12  2020-12-20 23:12:13         login      NaN\n",
      "416846  C9EF128D6534CABD  2020-12-28 11:07:00         login      NaN\n",
      "412395  CC0B6257A4A142E2  2020-12-27 16:14:20         login      NaN\n",
      "46435   B7A8C299E6E95DAD  2020-12-22 17:06:29      purchase     9.99\n",
      "175575  6AE5DA00CEDAB8F1  2020-12-17 09:07:21  product_page      NaN\n",
      "145867  DF335661DA5DC42C  2020-12-13 21:10:04  product_page      NaN\n",
      "\n",
      "hay NA?:\n",
      "user_id            0\n",
      "event_dt           0\n",
      "event_name         0\n",
      "details       363447\n",
      "dtype: int64\n",
      "\n",
      "Duplicados:\n",
      "0\n"
     ]
    }
   ],
   "source": [
    "events = pd.read_csv('datasets/final_ab_events_upd_us.csv')\n",
    "looks(events)"
   ]
  },
  {
   "cell_type": "code",
   "execution_count": 5,
   "metadata": {},
   "outputs": [
    {
     "name": "stdout",
     "output_type": "stream",
     "text": [
      "Se ejecuta la descripción de los datos:\n",
      "                 user_id  group            ab_test\n",
      "count              14525  14525              14525\n",
      "unique             13638      2                  2\n",
      "top     FABB6D49B11E673F      A  interface_eu_test\n",
      "freq                   2   8214              10850\n",
      "\n",
      "se hace exploración con método info:\n",
      "<class 'pandas.core.frame.DataFrame'>\n",
      "RangeIndex: 14525 entries, 0 to 14524\n",
      "Data columns (total 3 columns):\n",
      " #   Column   Non-Null Count  Dtype \n",
      "---  ------   --------------  ----- \n",
      " 0   user_id  14525 non-null  object\n",
      " 1   group    14525 non-null  object\n",
      " 2   ab_test  14525 non-null  object\n",
      "dtypes: object(3)\n",
      "memory usage: 340.6+ KB\n",
      "None\n",
      "\n",
      "se hace una observación con el método Sample:\n",
      "                user_id group                  ab_test\n",
      "8137   0BA5196801E6A0AD     B        interface_eu_test\n",
      "12884  12C685C3FFD3519F     A        interface_eu_test\n",
      "8389   DF79393DADE71EF6     B        interface_eu_test\n",
      "11009  7E3DDB007B750217     B        interface_eu_test\n",
      "5234   2887011B4C0A2EE3     A        interface_eu_test\n",
      "797    90F337B80CCC568F     A  recommender_system_test\n",
      "8133   DA1639327BB824B9     A        interface_eu_test\n",
      "12518  B3B9F892F1CC52C3     A        interface_eu_test\n",
      "12990  27AA3DA2E3134008     B        interface_eu_test\n",
      "9676   B8A059E84C3F9F20     B        interface_eu_test\n",
      "\n",
      "hay NA?:\n",
      "user_id    0\n",
      "group      0\n",
      "ab_test    0\n",
      "dtype: int64\n",
      "\n",
      "Duplicados:\n",
      "0\n"
     ]
    }
   ],
   "source": [
    "participants = pd.read_csv('datasets/final_ab_participants_upd_us.csv')\n",
    "looks(participants)"
   ]
  },
  {
   "cell_type": "markdown",
   "metadata": {},
   "source": [
    "### No se encuentras particulatidades especiales para los datos "
   ]
  },
  {
   "cell_type": "code",
   "execution_count": 6,
   "metadata": {},
   "outputs": [
    {
     "data": {
      "application/vnd.microsoft.datawrangler.viewer.v0+json": {
       "columns": [
        {
         "name": "index",
         "rawType": "int64",
         "type": "integer"
        },
        {
         "name": "user_id",
         "rawType": "object",
         "type": "string"
        },
        {
         "name": "event_dt",
         "rawType": "datetime64[ns]",
         "type": "datetime"
        },
        {
         "name": "event_name",
         "rawType": "object",
         "type": "string"
        },
        {
         "name": "details",
         "rawType": "float64",
         "type": "float"
        },
        {
         "name": "group",
         "rawType": "object",
         "type": "unknown"
        },
        {
         "name": "ab_test",
         "rawType": "object",
         "type": "unknown"
        }
       ],
       "conversionMethod": "pd.DataFrame",
       "ref": "923543ef-0af0-4e68-9c49-432ea04820b9",
       "rows": [
        [
         "0",
         "E1BDDCE0DAFA2679",
         "2020-12-07 20:22:03",
         "purchase",
         "99.99",
         null,
         null
        ],
        [
         "1",
         "7B6452F081F49504",
         "2020-12-07 09:22:53",
         "purchase",
         "9.99",
         null,
         null
        ],
        [
         "2",
         "9CD9F34546DF254C",
         "2020-12-07 12:59:29",
         "purchase",
         "4.99",
         null,
         null
        ],
        [
         "3",
         "96F27A054B191457",
         "2020-12-07 04:02:40",
         "purchase",
         "4.99",
         "B",
         "interface_eu_test"
        ],
        [
         "4",
         "1FD7660FDF94CA1F",
         "2020-12-07 10:15:09",
         "purchase",
         "4.99",
         null,
         null
        ],
        [
         "5",
         "831887FE7F2D6CBA",
         "2020-12-07 06:50:29",
         "purchase",
         "4.99",
         "A",
         "recommender_system_test"
        ],
        [
         "6",
         "6B2F726BFD5F8220",
         "2020-12-07 11:27:42",
         "purchase",
         "4.99",
         null,
         null
        ],
        [
         "7",
         "BEB37715AACF53B0",
         "2020-12-07 04:26:15",
         "purchase",
         "4.99",
         null,
         null
        ],
        [
         "8",
         "B5FA27F582227197",
         "2020-12-07 01:46:37",
         "purchase",
         "4.99",
         null,
         null
        ],
        [
         "9",
         "A92195E3CFB83DBD",
         "2020-12-07 00:32:07",
         "purchase",
         "4.99",
         "A",
         "interface_eu_test"
        ],
        [
         "10",
         "E2E76A8B3389127C",
         "2020-12-07 15:39:32",
         "purchase",
         "4.99",
         null,
         null
        ],
        [
         "11",
         "354D653172FF2A2D",
         "2020-12-07 15:45:11",
         "purchase",
         "4.99",
         "A",
         "interface_eu_test"
        ],
        [
         "12",
         "7FCD34F47C13A9AC",
         "2020-12-07 22:06:13",
         "purchase",
         "9.99",
         "B",
         "interface_eu_test"
        ],
        [
         "13",
         "0313C457F07C339E",
         "2020-12-07 13:10:48",
         "purchase",
         "9.99",
         "A",
         "interface_eu_test"
        ],
        [
         "14",
         "214902A9BAAF3422",
         "2020-12-07 19:31:44",
         "purchase",
         "4.99",
         null,
         null
        ],
        [
         "15",
         "AE6B95B9A7C6380E",
         "2020-12-07 19:09:12",
         "purchase",
         "4.99",
         null,
         null
        ],
        [
         "16",
         "EC9AFCC18F1CF6D9",
         "2020-12-07 19:19:00",
         "purchase",
         "4.99",
         null,
         null
        ],
        [
         "17",
         "3C5DD0288AC4FE23",
         "2020-12-07 19:42:40",
         "purchase",
         "4.99",
         "A",
         "recommender_system_test"
        ],
        [
         "18",
         "649ECF69EC552A56",
         "2020-12-07 06:19:31",
         "purchase",
         "4.99",
         null,
         null
        ],
        [
         "19",
         "9C31B4124B3AE217",
         "2020-12-07 21:38:36",
         "purchase",
         "4.99",
         null,
         null
        ],
        [
         "20",
         "5C4BA5C457BC114A",
         "2020-12-07 05:37:13",
         "purchase",
         "9.99",
         null,
         null
        ],
        [
         "21",
         "FCD216B91578B8DC",
         "2020-12-07 18:24:41",
         "purchase",
         "99.99",
         null,
         null
        ],
        [
         "22",
         "435506A7A2265BBD",
         "2020-12-07 11:53:57",
         "purchase",
         "4.99",
         null,
         null
        ],
        [
         "23",
         "909B249EB165910F",
         "2020-12-07 07:06:01",
         "purchase",
         "9.99",
         null,
         null
        ],
        [
         "24",
         "ED61425DAC3E345C",
         "2020-12-07 01:03:27",
         "purchase",
         "4.99",
         null,
         null
        ],
        [
         "25",
         "C39E95E709714A06",
         "2020-12-07 09:07:20",
         "purchase",
         "4.99",
         "B",
         "interface_eu_test"
        ],
        [
         "26",
         "DE83B085136CBF2D",
         "2020-12-07 20:10:44",
         "purchase",
         "99.99",
         null,
         null
        ],
        [
         "27",
         "F42CA236F49AB93B",
         "2020-12-07 21:50:34",
         "purchase",
         "4.99",
         null,
         null
        ],
        [
         "28",
         "AA77BDA8996FE1B8",
         "2020-12-07 08:24:41",
         "purchase",
         "9.99",
         null,
         null
        ],
        [
         "29",
         "5E9543D6EB27D7D7",
         "2020-12-07 21:37:33",
         "purchase",
         "4.99",
         null,
         null
        ],
        [
         "30",
         "78B3AFBB700310CC",
         "2020-12-07 23:44:09",
         "purchase",
         "4.99",
         "B",
         "interface_eu_test"
        ],
        [
         "31",
         "80CEAF824A1F3E28",
         "2020-12-07 15:54:06",
         "purchase",
         "499.99",
         "B",
         "interface_eu_test"
        ],
        [
         "32",
         "5EB044CECD378F75",
         "2020-12-07 02:50:18",
         "purchase",
         "4.99",
         null,
         null
        ],
        [
         "33",
         "C0A95CA2E9CC8009",
         "2020-12-07 03:37:41",
         "purchase",
         "4.99",
         null,
         null
        ],
        [
         "34",
         "992ADF277CCE9349",
         "2020-12-07 12:05:45",
         "purchase",
         "4.99",
         null,
         null
        ],
        [
         "35",
         "37034BF58CD3A95B",
         "2020-12-07 19:36:07",
         "purchase",
         "99.99",
         "B",
         "interface_eu_test"
        ],
        [
         "36",
         "2765321AC15BA00A",
         "2020-12-07 08:57:39",
         "purchase",
         "4.99",
         null,
         null
        ],
        [
         "37",
         "834A37293A8F21BA",
         "2020-12-07 05:12:03",
         "purchase",
         "4.99",
         null,
         null
        ],
        [
         "38",
         "24FA9BADBEB3014D",
         "2020-12-07 01:59:36",
         "purchase",
         "99.99",
         null,
         null
        ],
        [
         "39",
         "831958A1EA95370E",
         "2020-12-07 21:36:32",
         "purchase",
         "4.99",
         null,
         null
        ],
        [
         "40",
         "68262C0CCF7073D4",
         "2020-12-07 13:40:49",
         "purchase",
         "4.99",
         null,
         null
        ],
        [
         "41",
         "F2BE35774F63059B",
         "2020-12-07 05:23:18",
         "purchase",
         "4.99",
         "A",
         "interface_eu_test"
        ],
        [
         "42",
         "6D052E09A94F0725",
         "2020-12-07 02:54:36",
         "purchase",
         "9.99",
         null,
         null
        ],
        [
         "43",
         "A10C24F7E7CCC96D",
         "2020-12-07 02:37:27",
         "purchase",
         "4.99",
         null,
         null
        ],
        [
         "44",
         "C07713CA2E28F7E7",
         "2020-12-07 02:26:09",
         "purchase",
         "4.99",
         null,
         null
        ],
        [
         "45",
         "E24F2C1DD2EEFA5A",
         "2020-12-07 12:52:24",
         "purchase",
         "4.99",
         null,
         null
        ],
        [
         "46",
         "C559BDC13A3A4A2C",
         "2020-12-07 15:34:23",
         "purchase",
         "4.99",
         null,
         null
        ],
        [
         "47",
         "5C31C0607EFC3C98",
         "2020-12-07 20:19:32",
         "purchase",
         "4.99",
         "A",
         "interface_eu_test"
        ],
        [
         "48",
         "690C65E0DE49B940",
         "2020-12-07 13:26:18",
         "purchase",
         "4.99",
         "B",
         "interface_eu_test"
        ],
        [
         "49",
         "56AF59723683AC41",
         "2020-12-07 08:59:38",
         "purchase",
         "9.99",
         null,
         null
        ]
       ],
       "shape": {
        "columns": 6,
        "rows": 429476
       }
      },
      "text/html": [
       "<div>\n",
       "<style scoped>\n",
       "    .dataframe tbody tr th:only-of-type {\n",
       "        vertical-align: middle;\n",
       "    }\n",
       "\n",
       "    .dataframe tbody tr th {\n",
       "        vertical-align: top;\n",
       "    }\n",
       "\n",
       "    .dataframe thead th {\n",
       "        text-align: right;\n",
       "    }\n",
       "</style>\n",
       "<table border=\"1\" class=\"dataframe\">\n",
       "  <thead>\n",
       "    <tr style=\"text-align: right;\">\n",
       "      <th></th>\n",
       "      <th>user_id</th>\n",
       "      <th>event_dt</th>\n",
       "      <th>event_name</th>\n",
       "      <th>details</th>\n",
       "      <th>group</th>\n",
       "      <th>ab_test</th>\n",
       "    </tr>\n",
       "  </thead>\n",
       "  <tbody>\n",
       "    <tr>\n",
       "      <th>0</th>\n",
       "      <td>E1BDDCE0DAFA2679</td>\n",
       "      <td>2020-12-07 20:22:03</td>\n",
       "      <td>purchase</td>\n",
       "      <td>99.99</td>\n",
       "      <td>NaN</td>\n",
       "      <td>NaN</td>\n",
       "    </tr>\n",
       "    <tr>\n",
       "      <th>1</th>\n",
       "      <td>7B6452F081F49504</td>\n",
       "      <td>2020-12-07 09:22:53</td>\n",
       "      <td>purchase</td>\n",
       "      <td>9.99</td>\n",
       "      <td>NaN</td>\n",
       "      <td>NaN</td>\n",
       "    </tr>\n",
       "    <tr>\n",
       "      <th>2</th>\n",
       "      <td>9CD9F34546DF254C</td>\n",
       "      <td>2020-12-07 12:59:29</td>\n",
       "      <td>purchase</td>\n",
       "      <td>4.99</td>\n",
       "      <td>NaN</td>\n",
       "      <td>NaN</td>\n",
       "    </tr>\n",
       "    <tr>\n",
       "      <th>3</th>\n",
       "      <td>96F27A054B191457</td>\n",
       "      <td>2020-12-07 04:02:40</td>\n",
       "      <td>purchase</td>\n",
       "      <td>4.99</td>\n",
       "      <td>B</td>\n",
       "      <td>interface_eu_test</td>\n",
       "    </tr>\n",
       "    <tr>\n",
       "      <th>4</th>\n",
       "      <td>1FD7660FDF94CA1F</td>\n",
       "      <td>2020-12-07 10:15:09</td>\n",
       "      <td>purchase</td>\n",
       "      <td>4.99</td>\n",
       "      <td>NaN</td>\n",
       "      <td>NaN</td>\n",
       "    </tr>\n",
       "    <tr>\n",
       "      <th>...</th>\n",
       "      <td>...</td>\n",
       "      <td>...</td>\n",
       "      <td>...</td>\n",
       "      <td>...</td>\n",
       "      <td>...</td>\n",
       "      <td>...</td>\n",
       "    </tr>\n",
       "    <tr>\n",
       "      <th>429471</th>\n",
       "      <td>245E85F65C358E08</td>\n",
       "      <td>2020-12-30 19:35:55</td>\n",
       "      <td>login</td>\n",
       "      <td>NaN</td>\n",
       "      <td>NaN</td>\n",
       "      <td>NaN</td>\n",
       "    </tr>\n",
       "    <tr>\n",
       "      <th>429472</th>\n",
       "      <td>9385A108F5A0A7A7</td>\n",
       "      <td>2020-12-30 10:54:15</td>\n",
       "      <td>login</td>\n",
       "      <td>NaN</td>\n",
       "      <td>NaN</td>\n",
       "      <td>NaN</td>\n",
       "    </tr>\n",
       "    <tr>\n",
       "      <th>429473</th>\n",
       "      <td>DB650B7559AC6EAC</td>\n",
       "      <td>2020-12-30 10:59:09</td>\n",
       "      <td>login</td>\n",
       "      <td>NaN</td>\n",
       "      <td>NaN</td>\n",
       "      <td>NaN</td>\n",
       "    </tr>\n",
       "    <tr>\n",
       "      <th>429474</th>\n",
       "      <td>F80C9BDDEA02E53C</td>\n",
       "      <td>2020-12-30 09:53:39</td>\n",
       "      <td>login</td>\n",
       "      <td>NaN</td>\n",
       "      <td>A</td>\n",
       "      <td>interface_eu_test</td>\n",
       "    </tr>\n",
       "    <tr>\n",
       "      <th>429475</th>\n",
       "      <td>7AEC61159B672CC5</td>\n",
       "      <td>2020-12-30 11:36:13</td>\n",
       "      <td>login</td>\n",
       "      <td>NaN</td>\n",
       "      <td>NaN</td>\n",
       "      <td>NaN</td>\n",
       "    </tr>\n",
       "  </tbody>\n",
       "</table>\n",
       "<p>429476 rows × 6 columns</p>\n",
       "</div>"
      ],
      "text/plain": [
       "                 user_id            event_dt event_name  details group  \\\n",
       "0       E1BDDCE0DAFA2679 2020-12-07 20:22:03   purchase    99.99   NaN   \n",
       "1       7B6452F081F49504 2020-12-07 09:22:53   purchase     9.99   NaN   \n",
       "2       9CD9F34546DF254C 2020-12-07 12:59:29   purchase     4.99   NaN   \n",
       "3       96F27A054B191457 2020-12-07 04:02:40   purchase     4.99     B   \n",
       "4       1FD7660FDF94CA1F 2020-12-07 10:15:09   purchase     4.99   NaN   \n",
       "...                  ...                 ...        ...      ...   ...   \n",
       "429471  245E85F65C358E08 2020-12-30 19:35:55      login      NaN   NaN   \n",
       "429472  9385A108F5A0A7A7 2020-12-30 10:54:15      login      NaN   NaN   \n",
       "429473  DB650B7559AC6EAC 2020-12-30 10:59:09      login      NaN   NaN   \n",
       "429474  F80C9BDDEA02E53C 2020-12-30 09:53:39      login      NaN     A   \n",
       "429475  7AEC61159B672CC5 2020-12-30 11:36:13      login      NaN   NaN   \n",
       "\n",
       "                  ab_test  \n",
       "0                     NaN  \n",
       "1                     NaN  \n",
       "2                     NaN  \n",
       "3       interface_eu_test  \n",
       "4                     NaN  \n",
       "...                   ...  \n",
       "429471                NaN  \n",
       "429472                NaN  \n",
       "429473                NaN  \n",
       "429474  interface_eu_test  \n",
       "429475                NaN  \n",
       "\n",
       "[429476 rows x 6 columns]"
      ]
     },
     "execution_count": 6,
     "metadata": {},
     "output_type": "execute_result"
    }
   ],
   "source": [
    "# Convertir fechas a datetime\n",
    "new_users['first_date'] = pd.to_datetime(new_users['first_date'])\n",
    "events['event_dt'] = pd.to_datetime(events['event_dt'])\n",
    "marketing_events[['start_dt', 'finish_dt']] = marketing_events[[\n",
    "    'start_dt', 'finish_dt']].apply(pd.to_datetime)\n",
    "\n",
    "\n",
    "# # Filtrar eventos dentro del período de la prueba (07/12/2020 - 01/01/2021)\n",
    "\n",
    "# events = events[(events['event_dt'] >= '2020-12-07') &\n",
    "\n",
    "#                 (events['event_dt'] <= '2021-01-01')]\n",
    "\n",
    "\n",
    "# Unir eventos con información de grupos\n",
    "\n",
    "df = events.merge(participants, on='user_id', how='left')\n",
    "\n",
    "df"
   ]
  },
  {
   "cell_type": "markdown",
   "metadata": {},
   "source": [
    "<div class=\"alert alert-block alert-success\">\n",
    "<b>Comentario del revisor (1ra Iteracion)</b> <a class=“tocSkip”></a>\n",
    "\n",
    "Muy buen trabajo con la transformación de datos y la exploración inicial de los mismos, un dataset limpio y claro es clave para una buena toma de decisiones en un experimento.\n",
    "</div>"
   ]
  },
  {
   "cell_type": "code",
   "execution_count": 7,
   "metadata": {},
   "outputs": [
    {
     "name": "stdout",
     "output_type": "stream",
     "text": [
      "Fecha mínima: 2020-12-07 00:00:33\n",
      "Fecha máxima: 2020-12-30 23:36:33\n"
     ]
    },
    {
     "data": {
      "image/png": "[encoded data removed]",
      "text/plain": [
       "<Figure size 1200x600 with 1 Axes>"
      ]
     },
     "metadata": {},
     "output_type": "display_data"
    }
   ],
   "source": [
    "# ¿Qué periodo de tiempo cubren los datos? Encuentra la fecha máxima y mínima.\n",
    "print(f\"Fecha mínima: {events['event_dt'].min()}\")\n",
    "print(f\"Fecha máxima: {events['event_dt'].max()}\")\n",
    "\n",
    "# Traza un histograma por fecha y hora\n",
    "plt.figure(figsize=(12, 6))\n",
    "events['event_dt'].hist(bins=100)\n",
    "plt.xlabel('Fecha y Hora')\n",
    "plt.ylabel('Frecuencia')\n",
    "plt.title('Histograma de eventos por fecha')\n",
    "plt.xticks(rotation=45)\n",
    "plt.show()"
   ]
  },
  {
   "cell_type": "code",
   "execution_count": 9,
   "metadata": {},
   "outputs": [
    {
     "data": {
      "image/png": "[encoded data removed]",
      "text/plain": [
       "<Figure size 1200x500 with 1 Axes>"
      ]
     },
     "metadata": {},
     "output_type": "display_data"
    }
   ],
   "source": [
    "# Contar eventos por día\n",
    "events[\"event_date\"] = events[\"event_dt\"].dt.date\n",
    "events_per_day = events.groupby(\"event_date\")[\"user_id\"].count()\n",
    "\n",
    "# Graficar\n",
    "plt.figure(figsize=(12, 5))\n",
    "sns.lineplot(data=events_per_day)\n",
    "plt.xlabel(\"Fecha\")\n",
    "plt.ylabel(\"Número de eventos\")\n",
    "plt.title(\"Número de eventos por día\")\n",
    "plt.xticks(rotation=45)\n",
    "plt.show()"
   ]
  },
  {
   "cell_type": "markdown",
   "metadata": {},
   "source": [
    "<div class=\"alert alert-block alert-danger\">\n",
    "<b>Comentario del revisor (1ra Iteracion)</b> <a class=“tocSkip”></a>\n",
    "\n",
    "Hace falta calcular y graficar los eventos a lo largo del tiempo\n",
    "</div>"
   ]
  },
  {
   "cell_type": "code",
   "execution_count": 8,
   "metadata": {},
   "outputs": [
    {
     "name": "stdout",
     "output_type": "stream",
     "text": [
      "Nombres de los eventos:\n",
      "purchase\n",
      "product_cart\n",
      "product_page\n",
      "login\n",
      "\n",
      "Número de eventos: 4\n"
     ]
    }
   ],
   "source": [
    "# ¿Cuántos eventos hay en los registros?\n",
    "print('Nombres de los eventos:')\n",
    "for event in df['event_name'].unique():\n",
    "    print(event)\n",
    "print()\n",
    "print('Número de eventos:', len(df['event_name'].unique()))"
   ]
  },
  {
   "cell_type": "markdown",
   "metadata": {},
   "source": [
    "- Estudia la conversión en las diferentes etapas del embudo.\n",
    "    - ¿El número de eventos por usuario está distribuido equitativamente entre las muestras?\n",
    "    - ¿Hay usuarios que están presentes en ambas muestras?\n",
    "    - ¿Cómo se distribuye el número de eventos entre los días?\n",
    "    - ¿Hay alguna peculiaridad en los datos que hay que tener en cuenta antes de iniciar la prueba A/B?"
   ]
  },
  {
   "cell_type": "raw",
   "metadata": {
    "vscode": {
     "languageId": "raw"
    }
   },
   "source": [
    "conversion_data = []\n",
    "\n",
    "for group in ['A', 'B']:\n",
    "    # Usuarios del grupo\n",
    "    group_users = df[df['group'] == group]['user_id'].unique()\n",
    "\n",
    "    # Usuarios que hicieron login dentro de la ventana\n",
    "    login_users = df[(df['event_name'] == 'login') & (\n",
    "        df['user_id'].isin(group_users))]['user_id'].unique()\n",
    "\n",
    "    # Para cada usuario con login, verificar secuencia de eventos\n",
    "    product_page_users = []\n",
    "    product_card_users = []\n",
    "    purchase_users = []\n",
    "\n",
    "    for user in login_users:\n",
    "        user_events = df[df['user_id'] == user].sort_values('event_dt')[\n",
    "            'event_name'].tolist()\n",
    "\n",
    "        # Verificar si ocurrió product_page después del login\n",
    "        if 'product_page' in user_events[user_events.index('login') + 1:]:\n",
    "            product_page_users.append(user)\n",
    "\n",
    "            # Verificar product_card después de product_page\n",
    "            if 'product_card' in user_events[user_events.index('product_page') + 1:]:\n",
    "                product_card_users.append(user)\n",
    "\n",
    "                # Verificar purchase después de product_card\n",
    "                if 'purchase' in user_events[user_events.index('product_card') + 1:]:\n",
    "                    purchase_users.append(user)\n",
    "\n",
    "    # Calcular conversiones\n",
    "    n_login = len(login_users)\n",
    "    n_product_page = len(product_page_users)\n",
    "    n_product_card = len(product_card_users)\n",
    "    n_purchase = len(purchase_users)\n",
    "\n",
    "    conversion_data.append({\n",
    "        'group': group,\n",
    "        'login': n_login,\n",
    "        'product_page': n_product_page,\n",
    "        'product_page_conv': n_product_page / n_login if n_login > 0 else 0,\n",
    "        'product_card': n_product_card,\n",
    "        'product_card_conv': n_product_card / n_login if n_login > 0 else 0,\n",
    "        'purchase': n_purchase,\n",
    "        'purchase_conv': n_purchase / n_login if n_login > 0 else 0\n",
    "    })\n",
    "\n",
    "conversion_df = pd.DataFrame(conversion_data)\n",
    "conversion_df"
   ]
  },
  {
   "cell_type": "markdown",
   "metadata": {},
   "source": [
    "<div class=\"alert alert-block alert-danger\">\n",
    "<b>Comentario del revisor (1ra Iteracion)</b> <a class=“tocSkip”></a>\n",
    "\n",
    "No es buena práctica tener tantos procesos en una sóla celda, la ventaja de los notebooks es que se puede usar cada celda para hacer cada paso facilitando así la comprensión del proceso. Además, la conversión no está calculada corredctamente, deberías tomar el primer evento `loging` como el punto de partida para calcular el resto, por ejemplo, para la conversión en purchase sería `# usuarios purchase / # usuarios login`\n",
    "</div>"
   ]
  },
  {
   "cell_type": "markdown",
   "metadata": {},
   "source": [
    "<div class=\"alert alert-block alert-danger\">\n",
    "<b>Comentario del revisor (1ra Iteracion)</b> <a class=“tocSkip”></a>\n",
    "\n",
    "Una prueba estadística no te puede dar cómo resultado `nan` eso quiere decir que el módulo que lo calculo no está recibiendo los datos adecuados, y se debería aplicar para la conversión de cada evento. La conversión que se ha calculado aquí no es correcta ya que tienes un 100% cómo si todos los usuarios tuviesen un 100% de conversión y eso no es acertado\n",
    "</div>"
   ]
  },
  {
   "cell_type": "markdown",
   "metadata": {},
   "source": [
    "### Al no existir una diferencia entre los grupos, se sugiere replantear la estrategia de marketing empleada y buscar alternativas que puedan tener mayor efecto en los resultados "
   ]
  },
  {
   "cell_type": "markdown",
   "metadata": {},
   "source": [
    "<div class=\"alert alert-block alert-danger\">\n",
    "<b>Comentario del revisor (1ra Iteracion)</b> <a class=“tocSkip”></a>\n",
    "\n",
    "Las conclusiones deben ser más detalladas, debes resumir los hallazgos más importantes vistos a lo largo de **todo** el notebook y no sólo de la parte final\n",
    "</div>"
   ]
  },
  {
   "cell_type": "markdown",
   "metadata": {},
   "source": [
    "\n",
    "- Evaluar los resultados de la prueba A/B:\n",
    "    - ¿Qué puedes decir sobre los resultados de la prueba A/B?\n",
    "    - Utiliza una prueba z para comprobar la diferencia estadística entre las proporciones\n",
    "- Describe tus conclusiones con respecto a la etapa EDA y los resultados de la prueba A/B"
   ]
  },
  {
   "cell_type": "code",
   "execution_count": null,
   "metadata": {},
   "outputs": [],
   "source": []
  }
 ],
 "metadata": {
  "ExecuteTimeLog": [
   {
    "duration": 994,
    "start_time": "2025-03-26T02:14:53.281Z"
   },
   {
    "duration": 1007,
    "start_time": "2025-03-26T02:14:54.277Z"
   },
   {
    "duration": 0,
    "start_time": "2025-03-26T02:14:55.286Z"
   },
   {
    "duration": 0,
    "start_time": "2025-03-26T02:14:55.288Z"
   },
   {
    "duration": 0,
    "start_time": "2025-03-26T02:14:55.289Z"
   },
   {
    "duration": 0,
    "start_time": "2025-03-26T02:14:55.290Z"
   },
   {
    "duration": 0,
    "start_time": "2025-03-26T02:14:55.292Z"
   },
   {
    "duration": 0,
    "start_time": "2025-03-26T02:14:55.293Z"
   },
   {
    "duration": 5,
    "start_time": "2025-03-26T02:15:20.654Z"
   },
   {
    "duration": 36,
    "start_time": "2025-03-26T02:15:20.661Z"
   },
   {
    "duration": 199,
    "start_time": "2025-03-26T02:15:20.698Z"
   },
   {
    "duration": 1374,
    "start_time": "2025-03-26T02:15:20.899Z"
   },
   {
    "duration": 68,
    "start_time": "2025-03-26T02:15:22.276Z"
   },
   {
    "duration": 108,
    "start_time": "2025-03-26T02:15:22.346Z"
   },
   {
    "duration": 398,
    "start_time": "2025-03-26T02:15:22.460Z"
   },
   {
    "duration": 49,
    "start_time": "2025-03-26T02:15:22.860Z"
   }
  ],
  "kernelspec": {
   "display_name": "TT",
   "language": "python",
   "name": "python3"
  },
  "language_info": {
   "codemirror_mode": {
    "name": "ipython",
    "version": 3
   },
   "file_extension": ".py",
   "mimetype": "text/x-python",
   "name": "python",
   "nbconvert_exporter": "python",
   "pygments_lexer": "ipython3",
   "version": "3.13.2"
  },
  "toc": {
   "base_numbering": 1,
   "nav_menu": {},
   "number_sections": true,
   "sideBar": true,
   "skip_h1_title": true,
   "title_cell": "Table of Contents",
   "title_sidebar": "Contents",
   "toc_cell": false,
   "toc_position": {},
   "toc_section_display": true,
   "toc_window_display": false
  }
 },
 "nbformat": 4,
 "nbformat_minor": 2
}
