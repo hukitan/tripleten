{
 "cells": [
  {
   "cell_type": "markdown",
   "metadata": {},
   "source": [
    "Hola **Elias**!\n",
    "\n",
    "Soy **Patricio Requena** 👋. Es un placer ser el revisor de tu proyecto el día de hoy!\n",
    "\n",
    "Revisaré tu proyecto detenidamente con el objetivo de ayudarte a mejorar y perfeccionar tus habilidades. Durante mi revisión, identificaré áreas donde puedas hacer mejoras en tu código, señalando específicamente qué y cómo podrías ajustar para optimizar el rendimiento y la claridad de tu proyecto. Además, es importante para mí destacar los aspectos que has manejado excepcionalmente bien. Reconocer tus fortalezas te ayudará a entender qué técnicas y métodos están funcionando a tu favor y cómo puedes aplicarlos en futuras tareas. \n",
    "\n",
    "_**Recuerda que al final de este notebook encontrarás un comentario general de mi parte**_, empecemos!\n",
    "\n",
    "Encontrarás mis comentarios dentro de cajas verdes, amarillas o rojas, ⚠️ **por favor, no muevas, modifiques o borres mis comentarios** ⚠️:\n",
    "\n",
    "\n",
    "<div class=\"alert alert-block alert-success\">\n",
    "<b>Comentario del revisor</b> <a class=“tocSkip”></a>\n",
    "Si todo está perfecto.\n",
    "</div>\n",
    "\n",
    "<div class=\"alert alert-block alert-warning\">\n",
    "<b>Comentario del revisor</b> <a class=“tocSkip”></a>\n",
    "Si tu código está bien pero se puede mejorar o hay algún detalle que le hace falta.\n",
    "</div>\n",
    "\n",
    "<div class=\"alert alert-block alert-danger\">\n",
    "<b>Comentario del revisor</b> <a class=“tocSkip”></a>\n",
    "Si de pronto hace falta algo o existe algún problema con tu código o conclusiones.\n",
    "</div>\n",
    "\n",
    "Puedes responderme de esta forma:\n",
    "<div class=\"alert alert-block alert-info\">\n",
    "<b>Respuesta del estudiante</b> <a class=“tocSkip”></a>\n",
    "</div>"
   ]
  },
  {
   "cell_type": "markdown",
   "metadata": {},
   "source": [
    "#### Pureba A/B"
   ]
  },
  {
   "cell_type": "markdown",
   "metadata": {},
   "source": [
    "### Instrucciones para completar la tarea\n",
    "\n",
    "1. **Describe los objetivos del estudio.**\n",
    "   - Explica cuál es el propósito del análisis y qué se espera lograr con la prueba A/B.\n",
    "\n",
    "2. **Explora los datos:**\n",
    "   - ¿Es necesario convertir los tipos de datos?\n",
    "   - ¿Hay valores ausentes o duplicados? Si es así, ¿cómo los caracterizarías?\n",
    "\n",
    "3. **Lleva a cabo el análisis exploratorio de datos (EDA):**\n",
    "   - Estudia la conversión en las diferentes etapas del embudo.\n",
    "   - ¿El número de eventos por usuario está distribuido equitativamente entre las muestras?\n",
    "   - ¿Hay usuarios que están presentes en ambas muestras?\n",
    "   - ¿Cómo se distribuye el número de eventos entre los días?\n",
    "   - ¿Hay alguna peculiaridad en los datos que hay que tener en cuenta antes de iniciar la prueba A/B?\n",
    "\n",
    "4. **Evaluar los resultados de la prueba A/B:**\n",
    "   - ¿Qué puedes decir sobre los resultados de la prueba A/B?\n",
    "   - Utiliza una prueba z para comprobar la diferencia estadística entre las proporciones.\n",
    "\n",
    "5. **Describe tus conclusiones:**\n",
    "   - Resume los hallazgos del análisis exploratorio de datos (EDA).\n",
    "   - Interpreta los resultados de la prueba A/B y proporciona recomendaciones basadas en los datos."
   ]
  },
  {
   "cell_type": "markdown",
   "metadata": {},
   "source": [
    "1. **Describe los objetivos del estudio.**\n",
    "   - Explica cuál es el propósito del análisis y qué se espera lograr con la prueba A/B."
   ]
  },
  {
   "cell_type": "code",
   "execution_count": 1,
   "metadata": {},
   "outputs": [],
   "source": [
    "import pandas as pd\n",
    "import numpy as np\n",
    "import matplotlib.pyplot as plt\n",
    "import seaborn as sns\n",
    "import scipy.stats as stats\n",
    "\n",
    "\n",
    "\n",
    "\n",
    "def looks(datos):\n",
    "    \"\"\"Genera un análisis de todo el set de datos de manera global\"\"\"\n",
    "\n",
    "    print(\"Se ejecuta la descripción de los datos:\")\n",
    "    print(datos.describe(include=\"all\"))\n",
    "    print()\n",
    "    print(\"se hace exploración con método info:\")\n",
    "    print(datos.info())\n",
    "    print()\n",
    "    print(\"se hace una observación con el método Sample:\")\n",
    "    if len(datos) > 10:\n",
    "        print(datos.sample(10))\n",
    "    else:\n",
    "        print(datos)\n",
    "    print()\n",
    "    print(\"hay NA?:\")\n",
    "    print(datos.isna().sum())\n",
    "    print()\n",
    "    print(\"Duplicados:\")\n",
    "    print(datos.duplicated().sum())"
   ]
  },
  {
   "cell_type": "code",
   "execution_count": 2,
   "metadata": {},
   "outputs": [
    {
     "name": "stdout",
     "output_type": "stream",
     "text": [
      "Se ejecuta la descripción de los datos:\n",
      "                            name regions    start_dt   finish_dt\n",
      "count                         14      14          14          14\n",
      "unique                        14       6          14          14\n",
      "top     Christmas&New Year Promo    APAC  2020-12-25  2021-01-03\n",
      "freq                           1       4           1           1\n",
      "\n",
      "se hace exploración con método info:\n",
      "<class 'pandas.core.frame.DataFrame'>\n",
      "RangeIndex: 14 entries, 0 to 13\n",
      "Data columns (total 4 columns):\n",
      " #   Column     Non-Null Count  Dtype \n",
      "---  ------     --------------  ----- \n",
      " 0   name       14 non-null     object\n",
      " 1   regions    14 non-null     object\n",
      " 2   start_dt   14 non-null     object\n",
      " 3   finish_dt  14 non-null     object\n",
      "dtypes: object(4)\n",
      "memory usage: 580.0+ bytes\n",
      "None\n",
      "\n",
      "se hace una observación con el método Sample:\n",
      "                                name                   regions    start_dt  \\\n",
      "11     Dragon Boat Festival Giveaway                      APAC  2020-06-25   \n",
      "8    International Women's Day Promo             EU, CIS, APAC  2020-03-08   \n",
      "12           Single's Day Gift Promo                      APAC  2020-11-11   \n",
      "6             Chinese New Year Promo                      APAC  2020-01-25   \n",
      "4                  4th of July Promo                 N.America  2020-07-04   \n",
      "1       St. Valentine's Day Giveaway  EU, CIS, APAC, N.America  2020-02-14   \n",
      "13             Chinese Moon Festival                      APAC  2020-10-01   \n",
      "10         CIS New Year Gift Lottery                       CIS  2020-12-30   \n",
      "3                       Easter Promo  EU, CIS, APAC, N.America  2020-04-12   \n",
      "7   Labor day (May 1st) Ads Campaign             EU, CIS, APAC  2020-05-01   \n",
      "\n",
      "     finish_dt  \n",
      "11  2020-07-01  \n",
      "8   2020-03-10  \n",
      "12  2020-11-12  \n",
      "6   2020-02-07  \n",
      "4   2020-07-11  \n",
      "1   2020-02-16  \n",
      "13  2020-10-07  \n",
      "10  2021-01-07  \n",
      "3   2020-04-19  \n",
      "7   2020-05-03  \n",
      "\n",
      "hay NA?:\n",
      "name         0\n",
      "regions      0\n",
      "start_dt     0\n",
      "finish_dt    0\n",
      "dtype: int64\n",
      "\n",
      "Duplicados:\n",
      "0\n"
     ]
    }
   ],
   "source": [
    "marketing_events = pd.read_csv('datasets/ab_project_marketing_events_us.csv')\n",
    "looks(marketing_events)"
   ]
  },
  {
   "cell_type": "code",
   "execution_count": 3,
   "metadata": {},
   "outputs": [
    {
     "name": "stdout",
     "output_type": "stream",
     "text": [
      "Se ejecuta la descripción de los datos:\n",
      "                 user_id  first_date region   device\n",
      "count              58703       58703  58703    58703\n",
      "unique             58703          17      4        4\n",
      "top     8F04273BB2860229  2020-12-21     EU  Android\n",
      "freq                   1        6077  43396    26159\n",
      "\n",
      "se hace exploración con método info:\n",
      "<class 'pandas.core.frame.DataFrame'>\n",
      "RangeIndex: 58703 entries, 0 to 58702\n",
      "Data columns (total 4 columns):\n",
      " #   Column      Non-Null Count  Dtype \n",
      "---  ------      --------------  ----- \n",
      " 0   user_id     58703 non-null  object\n",
      " 1   first_date  58703 non-null  object\n",
      " 2   region      58703 non-null  object\n",
      " 3   device      58703 non-null  object\n",
      "dtypes: object(4)\n",
      "memory usage: 1.8+ MB\n",
      "None\n",
      "\n",
      "se hace una observación con el método Sample:\n",
      "                user_id  first_date region   device\n",
      "39760  02232A0431F12001  2020-12-11    CIS  Android\n",
      "23933  2145A69F612435A5  2020-12-22     EU       PC\n",
      "2257   58EEC929BEEB234B  2020-12-07     EU  Android\n",
      "52408  C5264FFCA26DD0BB  2020-12-13     EU  Android\n",
      "2537   D624C9013C372DCC  2020-12-07     EU  Android\n",
      "54097  317D0CA812FD42DC  2020-12-13     EU   iPhone\n",
      "45133  445722D56BB7F2CD  2020-12-12     EU   iPhone\n",
      "56915  71377B3D36B8A925  2020-12-20     EU  Android\n",
      "41670  D2C7637E3BC16CD8  2020-12-18     EU   iPhone\n",
      "5622   D81EA3872FE964FE  2020-12-14     EU       PC\n",
      "\n",
      "hay NA?:\n",
      "user_id       0\n",
      "first_date    0\n",
      "region        0\n",
      "device        0\n",
      "dtype: int64\n",
      "\n",
      "Duplicados:\n",
      "0\n"
     ]
    }
   ],
   "source": [
    "new_users = pd.read_csv('datasets/final_ab_new_users_upd_us.csv')\n",
    "looks(new_users)"
   ]
  },
  {
   "cell_type": "code",
   "execution_count": 4,
   "metadata": {},
   "outputs": [
    {
     "name": "stdout",
     "output_type": "stream",
     "text": [
      "Se ejecuta la descripción de los datos:\n",
      "                 user_id             event_dt event_name       details\n",
      "count             423761               423761     423761  60314.000000\n",
      "unique             58703               257138          4           NaN\n",
      "top     A3917F81482141F2  2020-12-14 18:54:55      login           NaN\n",
      "freq                  36                   10     182465           NaN\n",
      "mean                 NaN                  NaN        NaN     23.881219\n",
      "std                  NaN                  NaN        NaN     72.228884\n",
      "min                  NaN                  NaN        NaN      4.990000\n",
      "25%                  NaN                  NaN        NaN      4.990000\n",
      "50%                  NaN                  NaN        NaN      4.990000\n",
      "75%                  NaN                  NaN        NaN      9.990000\n",
      "max                  NaN                  NaN        NaN    499.990000\n",
      "\n",
      "se hace exploración con método info:\n",
      "<class 'pandas.core.frame.DataFrame'>\n",
      "RangeIndex: 423761 entries, 0 to 423760\n",
      "Data columns (total 4 columns):\n",
      " #   Column      Non-Null Count   Dtype  \n",
      "---  ------      --------------   -----  \n",
      " 0   user_id     423761 non-null  object \n",
      " 1   event_dt    423761 non-null  object \n",
      " 2   event_name  423761 non-null  object \n",
      " 3   details     60314 non-null   float64\n",
      "dtypes: float64(1), object(3)\n",
      "memory usage: 12.9+ MB\n",
      "None\n",
      "\n",
      "se hace una observación con el método Sample:\n",
      "                 user_id             event_dt    event_name  details\n",
      "383190  05DFF8D890EC3429  2020-12-22 22:54:54         login      NaN\n",
      "158772  2D3DB313EEC072FC  2020-12-15 22:20:07  product_page      NaN\n",
      "54933   2F68EB6BE3295157  2020-12-26 19:21:26      purchase     4.99\n",
      "392435  7A731A8022ACC7BB  2020-12-23 11:47:11         login      NaN\n",
      "239787  C93B92CC1FCE7793  2020-12-29 07:18:08  product_page      NaN\n",
      "74295   73AEEE66FA46E553  2020-12-13 13:43:02  product_cart      NaN\n",
      "333042  09796852F650B2FA  2020-12-18 10:05:14         login      NaN\n",
      "388086  9C73EDB940AA878B  2020-12-23 11:10:43         login      NaN\n",
      "234279  70D4BAB7AECC4A78  2020-12-27 07:50:33  product_page      NaN\n",
      "356574  12C8EC5B3A2F1517  2020-12-20 01:58:00         login      NaN\n",
      "\n",
      "hay NA?:\n",
      "user_id            0\n",
      "event_dt           0\n",
      "event_name         0\n",
      "details       363447\n",
      "dtype: int64\n",
      "\n",
      "Duplicados:\n",
      "0\n"
     ]
    }
   ],
   "source": [
    "events = pd.read_csv('datasets/final_ab_events_upd_us.csv')\n",
    "looks(events)"
   ]
  },
  {
   "cell_type": "code",
   "execution_count": 5,
   "metadata": {},
   "outputs": [
    {
     "name": "stdout",
     "output_type": "stream",
     "text": [
      "Se ejecuta la descripción de los datos:\n",
      "                 user_id  group            ab_test\n",
      "count              14525  14525              14525\n",
      "unique             13638      2                  2\n",
      "top     FABB6D49B11E673F      A  interface_eu_test\n",
      "freq                   2   8214              10850\n",
      "\n",
      "se hace exploración con método info:\n",
      "<class 'pandas.core.frame.DataFrame'>\n",
      "RangeIndex: 14525 entries, 0 to 14524\n",
      "Data columns (total 3 columns):\n",
      " #   Column   Non-Null Count  Dtype \n",
      "---  ------   --------------  ----- \n",
      " 0   user_id  14525 non-null  object\n",
      " 1   group    14525 non-null  object\n",
      " 2   ab_test  14525 non-null  object\n",
      "dtypes: object(3)\n",
      "memory usage: 340.6+ KB\n",
      "None\n",
      "\n",
      "se hace una observación con el método Sample:\n",
      "                user_id group                  ab_test\n",
      "10468  5BFA74215A83EE89     B        interface_eu_test\n",
      "5297   05DFF348C4BE7B60     B        interface_eu_test\n",
      "11928  40AB8FB3D0C2C032     A        interface_eu_test\n",
      "332    3D1A366EDDC82832     A  recommender_system_test\n",
      "3047   686EAF31C2B46B0D     A  recommender_system_test\n",
      "2532   B443345D2BB1A960     A  recommender_system_test\n",
      "857    ABBC1318F774F1C7     A  recommender_system_test\n",
      "13835  588F0EDE4023C98D     B        interface_eu_test\n",
      "5282   8006FCB0C3417FB7     A        interface_eu_test\n",
      "9382   D7E913098122E5F1     A        interface_eu_test\n",
      "\n",
      "hay NA?:\n",
      "user_id    0\n",
      "group      0\n",
      "ab_test    0\n",
      "dtype: int64\n",
      "\n",
      "Duplicados:\n",
      "0\n"
     ]
    }
   ],
   "source": [
    "participants = pd.read_csv('datasets/final_ab_participants_upd_us.csv')\n",
    "looks(participants)"
   ]
  },
  {
   "cell_type": "markdown",
   "metadata": {},
   "source": [
    "### No se encuentras particulatidades especiales para los datos "
   ]
  },
  {
   "cell_type": "code",
   "execution_count": 6,
   "metadata": {},
   "outputs": [
    {
     "data": {
      "application/vnd.microsoft.datawrangler.viewer.v0+json": {
       "columns": [
        {
         "name": "index",
         "rawType": "int64",
         "type": "integer"
        },
        {
         "name": "user_id",
         "rawType": "object",
         "type": "string"
        },
        {
         "name": "event_dt",
         "rawType": "datetime64[ns]",
         "type": "datetime"
        },
        {
         "name": "event_name",
         "rawType": "object",
         "type": "string"
        },
        {
         "name": "details",
         "rawType": "float64",
         "type": "float"
        },
        {
         "name": "event_date",
         "rawType": "object",
         "type": "unknown"
        },
        {
         "name": "group",
         "rawType": "object",
         "type": "string"
        },
        {
         "name": "ab_test",
         "rawType": "object",
         "type": "string"
        }
       ],
       "conversionMethod": "pd.DataFrame",
       "ref": "c1dea9bb-d794-4176-aec4-b8a9d1aa70d5",
       "rows": [
        [
         "0",
         "96F27A054B191457",
         "2020-12-07 04:02:40",
         "purchase",
         "4.99",
         "2020-12-07",
         "B",
         "interface_eu_test"
        ],
        [
         "1",
         "831887FE7F2D6CBA",
         "2020-12-07 06:50:29",
         "purchase",
         "4.99",
         "2020-12-07",
         "A",
         "recommender_system_test"
        ],
        [
         "2",
         "A92195E3CFB83DBD",
         "2020-12-07 00:32:07",
         "purchase",
         "4.99",
         "2020-12-07",
         "A",
         "interface_eu_test"
        ],
        [
         "3",
         "354D653172FF2A2D",
         "2020-12-07 15:45:11",
         "purchase",
         "4.99",
         "2020-12-07",
         "A",
         "interface_eu_test"
        ],
        [
         "4",
         "7FCD34F47C13A9AC",
         "2020-12-07 22:06:13",
         "purchase",
         "9.99",
         "2020-12-07",
         "B",
         "interface_eu_test"
        ],
        [
         "5",
         "0313C457F07C339E",
         "2020-12-07 13:10:48",
         "purchase",
         "9.99",
         "2020-12-07",
         "A",
         "interface_eu_test"
        ],
        [
         "6",
         "3C5DD0288AC4FE23",
         "2020-12-07 19:42:40",
         "purchase",
         "4.99",
         "2020-12-07",
         "A",
         "recommender_system_test"
        ],
        [
         "7",
         "C39E95E709714A06",
         "2020-12-07 09:07:20",
         "purchase",
         "4.99",
         "2020-12-07",
         "B",
         "interface_eu_test"
        ],
        [
         "8",
         "78B3AFBB700310CC",
         "2020-12-07 23:44:09",
         "purchase",
         "4.99",
         "2020-12-07",
         "B",
         "interface_eu_test"
        ],
        [
         "9",
         "80CEAF824A1F3E28",
         "2020-12-07 15:54:06",
         "purchase",
         "499.99",
         "2020-12-07",
         "B",
         "interface_eu_test"
        ],
        [
         "10",
         "37034BF58CD3A95B",
         "2020-12-07 19:36:07",
         "purchase",
         "99.99",
         "2020-12-07",
         "B",
         "interface_eu_test"
        ],
        [
         "11",
         "F2BE35774F63059B",
         "2020-12-07 05:23:18",
         "purchase",
         "4.99",
         "2020-12-07",
         "A",
         "interface_eu_test"
        ],
        [
         "12",
         "5C31C0607EFC3C98",
         "2020-12-07 20:19:32",
         "purchase",
         "4.99",
         "2020-12-07",
         "A",
         "interface_eu_test"
        ],
        [
         "13",
         "690C65E0DE49B940",
         "2020-12-07 13:26:18",
         "purchase",
         "4.99",
         "2020-12-07",
         "B",
         "interface_eu_test"
        ],
        [
         "14",
         "49EA242586C87836",
         "2020-12-07 06:31:24",
         "purchase",
         "99.99",
         "2020-12-07",
         "B",
         "recommender_system_test"
        ],
        [
         "15",
         "D8FBEA060A86A58D",
         "2020-12-07 21:21:21",
         "purchase",
         "4.99",
         "2020-12-07",
         "A",
         "interface_eu_test"
        ],
        [
         "16",
         "2B06EB547B7AAD08",
         "2020-12-07 21:36:38",
         "purchase",
         "4.99",
         "2020-12-07",
         "A",
         "recommender_system_test"
        ],
        [
         "17",
         "2B06EB547B7AAD08",
         "2020-12-07 21:36:38",
         "purchase",
         "4.99",
         "2020-12-07",
         "A",
         "interface_eu_test"
        ],
        [
         "18",
         "A640F31CAC7823A6",
         "2020-12-07 18:48:26",
         "purchase",
         "4.99",
         "2020-12-07",
         "B",
         "recommender_system_test"
        ],
        [
         "19",
         "DFF87EF31D62368F",
         "2020-12-07 02:51:46",
         "purchase",
         "4.99",
         "2020-12-07",
         "B",
         "interface_eu_test"
        ],
        [
         "20",
         "4584E51B99DE51AE",
         "2020-12-07 12:21:57",
         "purchase",
         "4.99",
         "2020-12-07",
         "A",
         "interface_eu_test"
        ],
        [
         "21",
         "392C03684E704CB3",
         "2020-12-07 09:45:50",
         "purchase",
         "4.99",
         "2020-12-07",
         "B",
         "interface_eu_test"
        ],
        [
         "22",
         "8F283A6E36B5E729",
         "2020-12-07 17:14:50",
         "purchase",
         "99.99",
         "2020-12-07",
         "B",
         "interface_eu_test"
        ],
        [
         "23",
         "2F46396B6766CFDB",
         "2020-12-07 13:29:30",
         "purchase",
         "4.99",
         "2020-12-07",
         "A",
         "recommender_system_test"
        ],
        [
         "24",
         "2F46396B6766CFDB",
         "2020-12-07 13:29:30",
         "purchase",
         "4.99",
         "2020-12-07",
         "B",
         "interface_eu_test"
        ],
        [
         "25",
         "47463360E0E56FE7",
         "2020-12-07 06:02:42",
         "purchase",
         "99.99",
         "2020-12-07",
         "A",
         "interface_eu_test"
        ],
        [
         "26",
         "483B712874B89AB5",
         "2020-12-07 08:35:58",
         "purchase",
         "4.99",
         "2020-12-07",
         "B",
         "interface_eu_test"
        ],
        [
         "27",
         "538F954F6B3AECE4",
         "2020-12-07 07:12:05",
         "purchase",
         "4.99",
         "2020-12-07",
         "A",
         "recommender_system_test"
        ],
        [
         "28",
         "538F954F6B3AECE4",
         "2020-12-07 07:12:05",
         "purchase",
         "4.99",
         "2020-12-07",
         "A",
         "interface_eu_test"
        ],
        [
         "29",
         "FC48A3E6A4114D61",
         "2020-12-07 18:11:44",
         "purchase",
         "99.99",
         "2020-12-07",
         "A",
         "interface_eu_test"
        ],
        [
         "30",
         "E0DAEECB7C821328",
         "2020-12-07 15:08:42",
         "purchase",
         "4.99",
         "2020-12-07",
         "B",
         "interface_eu_test"
        ],
        [
         "31",
         "A9908F62C41613A8",
         "2020-12-07 11:26:47",
         "purchase",
         "9.99",
         "2020-12-07",
         "B",
         "recommender_system_test"
        ],
        [
         "32",
         "406CD606E407DF53",
         "2020-12-07 05:12:23",
         "purchase",
         "4.99",
         "2020-12-07",
         "B",
         "interface_eu_test"
        ],
        [
         "33",
         "7C405054CDBA770B",
         "2020-12-07 20:14:50",
         "purchase",
         "9.99",
         "2020-12-07",
         "A",
         "interface_eu_test"
        ],
        [
         "34",
         "A4145A2EA1E17654",
         "2020-12-07 16:15:16",
         "purchase",
         "499.99",
         "2020-12-07",
         "B",
         "interface_eu_test"
        ],
        [
         "35",
         "8FF2886B3B5D10D2",
         "2020-12-07 11:56:47",
         "purchase",
         "4.99",
         "2020-12-07",
         "B",
         "interface_eu_test"
        ],
        [
         "36",
         "E63248E68FF1EA27",
         "2020-12-07 09:31:18",
         "purchase",
         "4.99",
         "2020-12-07",
         "A",
         "interface_eu_test"
        ],
        [
         "37",
         "4DFD711D694C590A",
         "2020-12-07 16:09:53",
         "purchase",
         "4.99",
         "2020-12-07",
         "B",
         "interface_eu_test"
        ],
        [
         "38",
         "0997EC1C4850B27B",
         "2020-12-07 08:01:55",
         "purchase",
         "4.99",
         "2020-12-07",
         "B",
         "recommender_system_test"
        ],
        [
         "39",
         "C7CB2F1BA42F102B",
         "2020-12-07 03:05:05",
         "purchase",
         "99.99",
         "2020-12-07",
         "B",
         "recommender_system_test"
        ],
        [
         "40",
         "E517464DAE4965D5",
         "2020-12-07 14:01:53",
         "purchase",
         "4.99",
         "2020-12-07",
         "A",
         "interface_eu_test"
        ],
        [
         "41",
         "CF03E97B314C5632",
         "2020-12-07 13:36:54",
         "purchase",
         "4.99",
         "2020-12-07",
         "B",
         "recommender_system_test"
        ],
        [
         "42",
         "CF03E97B314C5632",
         "2020-12-07 13:36:54",
         "purchase",
         "4.99",
         "2020-12-07",
         "A",
         "interface_eu_test"
        ],
        [
         "43",
         "CB5D9A261DF7AF5F",
         "2020-12-07 16:41:46",
         "purchase",
         "99.99",
         "2020-12-07",
         "A",
         "interface_eu_test"
        ],
        [
         "44",
         "B6FB63572871A973",
         "2020-12-07 09:28:37",
         "purchase",
         "9.99",
         "2020-12-07",
         "B",
         "interface_eu_test"
        ],
        [
         "45",
         "600BCE9D8A1F0FB7",
         "2020-12-07 17:45:24",
         "purchase",
         "99.99",
         "2020-12-07",
         "A",
         "interface_eu_test"
        ],
        [
         "46",
         "D0F9B3F1245F4973",
         "2020-12-07 19:33:34",
         "purchase",
         "4.99",
         "2020-12-07",
         "B",
         "interface_eu_test"
        ],
        [
         "47",
         "23B81D2BE34127F7",
         "2020-12-07 21:23:09",
         "purchase",
         "4.99",
         "2020-12-07",
         "B",
         "interface_eu_test"
        ],
        [
         "48",
         "B21B66EDA8BC89A1",
         "2020-12-07 05:54:00",
         "purchase",
         "4.99",
         "2020-12-07",
         "A",
         "interface_eu_test"
        ],
        [
         "49",
         "3CF3A621047C4B73",
         "2020-12-07 14:54:31",
         "purchase",
         "4.99",
         "2020-12-07",
         "A",
         "interface_eu_test"
        ]
       ],
       "shape": {
        "columns": 7,
        "rows": 102838
       }
      },
      "text/html": [
       "<div>\n",
       "<style scoped>\n",
       "    .dataframe tbody tr th:only-of-type {\n",
       "        vertical-align: middle;\n",
       "    }\n",
       "\n",
       "    .dataframe tbody tr th {\n",
       "        vertical-align: top;\n",
       "    }\n",
       "\n",
       "    .dataframe thead th {\n",
       "        text-align: right;\n",
       "    }\n",
       "</style>\n",
       "<table border=\"1\" class=\"dataframe\">\n",
       "  <thead>\n",
       "    <tr style=\"text-align: right;\">\n",
       "      <th></th>\n",
       "      <th>user_id</th>\n",
       "      <th>event_dt</th>\n",
       "      <th>event_name</th>\n",
       "      <th>details</th>\n",
       "      <th>event_date</th>\n",
       "      <th>group</th>\n",
       "      <th>ab_test</th>\n",
       "    </tr>\n",
       "  </thead>\n",
       "  <tbody>\n",
       "    <tr>\n",
       "      <th>0</th>\n",
       "      <td>96F27A054B191457</td>\n",
       "      <td>2020-12-07 04:02:40</td>\n",
       "      <td>purchase</td>\n",
       "      <td>4.99</td>\n",
       "      <td>2020-12-07</td>\n",
       "      <td>B</td>\n",
       "      <td>interface_eu_test</td>\n",
       "    </tr>\n",
       "    <tr>\n",
       "      <th>1</th>\n",
       "      <td>831887FE7F2D6CBA</td>\n",
       "      <td>2020-12-07 06:50:29</td>\n",
       "      <td>purchase</td>\n",
       "      <td>4.99</td>\n",
       "      <td>2020-12-07</td>\n",
       "      <td>A</td>\n",
       "      <td>recommender_system_test</td>\n",
       "    </tr>\n",
       "    <tr>\n",
       "      <th>2</th>\n",
       "      <td>A92195E3CFB83DBD</td>\n",
       "      <td>2020-12-07 00:32:07</td>\n",
       "      <td>purchase</td>\n",
       "      <td>4.99</td>\n",
       "      <td>2020-12-07</td>\n",
       "      <td>A</td>\n",
       "      <td>interface_eu_test</td>\n",
       "    </tr>\n",
       "    <tr>\n",
       "      <th>3</th>\n",
       "      <td>354D653172FF2A2D</td>\n",
       "      <td>2020-12-07 15:45:11</td>\n",
       "      <td>purchase</td>\n",
       "      <td>4.99</td>\n",
       "      <td>2020-12-07</td>\n",
       "      <td>A</td>\n",
       "      <td>interface_eu_test</td>\n",
       "    </tr>\n",
       "    <tr>\n",
       "      <th>4</th>\n",
       "      <td>7FCD34F47C13A9AC</td>\n",
       "      <td>2020-12-07 22:06:13</td>\n",
       "      <td>purchase</td>\n",
       "      <td>9.99</td>\n",
       "      <td>2020-12-07</td>\n",
       "      <td>B</td>\n",
       "      <td>interface_eu_test</td>\n",
       "    </tr>\n",
       "    <tr>\n",
       "      <th>...</th>\n",
       "      <td>...</td>\n",
       "      <td>...</td>\n",
       "      <td>...</td>\n",
       "      <td>...</td>\n",
       "      <td>...</td>\n",
       "      <td>...</td>\n",
       "      <td>...</td>\n",
       "    </tr>\n",
       "    <tr>\n",
       "      <th>102833</th>\n",
       "      <td>75845C83258FBF73</td>\n",
       "      <td>2020-12-30 06:42:52</td>\n",
       "      <td>login</td>\n",
       "      <td>NaN</td>\n",
       "      <td>2020-12-30</td>\n",
       "      <td>B</td>\n",
       "      <td>recommender_system_test</td>\n",
       "    </tr>\n",
       "    <tr>\n",
       "      <th>102834</th>\n",
       "      <td>4584E51B99DE51AE</td>\n",
       "      <td>2020-12-30 07:39:32</td>\n",
       "      <td>login</td>\n",
       "      <td>NaN</td>\n",
       "      <td>2020-12-30</td>\n",
       "      <td>A</td>\n",
       "      <td>interface_eu_test</td>\n",
       "    </tr>\n",
       "    <tr>\n",
       "      <th>102835</th>\n",
       "      <td>9DF4F595A906A0BA</td>\n",
       "      <td>2020-12-30 18:28:55</td>\n",
       "      <td>login</td>\n",
       "      <td>NaN</td>\n",
       "      <td>2020-12-30</td>\n",
       "      <td>B</td>\n",
       "      <td>interface_eu_test</td>\n",
       "    </tr>\n",
       "    <tr>\n",
       "      <th>102836</th>\n",
       "      <td>6181F3835EBE66BF</td>\n",
       "      <td>2020-12-30 12:00:00</td>\n",
       "      <td>login</td>\n",
       "      <td>NaN</td>\n",
       "      <td>2020-12-30</td>\n",
       "      <td>A</td>\n",
       "      <td>interface_eu_test</td>\n",
       "    </tr>\n",
       "    <tr>\n",
       "      <th>102837</th>\n",
       "      <td>F80C9BDDEA02E53C</td>\n",
       "      <td>2020-12-30 09:53:39</td>\n",
       "      <td>login</td>\n",
       "      <td>NaN</td>\n",
       "      <td>2020-12-30</td>\n",
       "      <td>A</td>\n",
       "      <td>interface_eu_test</td>\n",
       "    </tr>\n",
       "  </tbody>\n",
       "</table>\n",
       "<p>102838 rows × 7 columns</p>\n",
       "</div>"
      ],
      "text/plain": [
       "                 user_id            event_dt event_name  details  event_date  \\\n",
       "0       96F27A054B191457 2020-12-07 04:02:40   purchase     4.99  2020-12-07   \n",
       "1       831887FE7F2D6CBA 2020-12-07 06:50:29   purchase     4.99  2020-12-07   \n",
       "2       A92195E3CFB83DBD 2020-12-07 00:32:07   purchase     4.99  2020-12-07   \n",
       "3       354D653172FF2A2D 2020-12-07 15:45:11   purchase     4.99  2020-12-07   \n",
       "4       7FCD34F47C13A9AC 2020-12-07 22:06:13   purchase     9.99  2020-12-07   \n",
       "...                  ...                 ...        ...      ...         ...   \n",
       "102833  75845C83258FBF73 2020-12-30 06:42:52      login      NaN  2020-12-30   \n",
       "102834  4584E51B99DE51AE 2020-12-30 07:39:32      login      NaN  2020-12-30   \n",
       "102835  9DF4F595A906A0BA 2020-12-30 18:28:55      login      NaN  2020-12-30   \n",
       "102836  6181F3835EBE66BF 2020-12-30 12:00:00      login      NaN  2020-12-30   \n",
       "102837  F80C9BDDEA02E53C 2020-12-30 09:53:39      login      NaN  2020-12-30   \n",
       "\n",
       "       group                  ab_test  \n",
       "0          B        interface_eu_test  \n",
       "1          A  recommender_system_test  \n",
       "2          A        interface_eu_test  \n",
       "3          A        interface_eu_test  \n",
       "4          B        interface_eu_test  \n",
       "...      ...                      ...  \n",
       "102833     B  recommender_system_test  \n",
       "102834     A        interface_eu_test  \n",
       "102835     B        interface_eu_test  \n",
       "102836     A        interface_eu_test  \n",
       "102837     A        interface_eu_test  \n",
       "\n",
       "[102838 rows x 7 columns]"
      ]
     },
     "execution_count": 6,
     "metadata": {},
     "output_type": "execute_result"
    }
   ],
   "source": [
    "# Convertir fechas a datetime\n",
    "new_users['first_date'] = pd.to_datetime(new_users['first_date'])\n",
    "events['event_dt'] = pd.to_datetime(events['event_dt'])\n",
    "events[\"event_date\"] = events[\"event_dt\"].dt.date\n",
    "marketing_events[['start_dt', 'finish_dt']] = marketing_events[[\n",
    "    'start_dt', 'finish_dt']].apply(pd.to_datetime)\n",
    "\n",
    "\n",
    "\n",
    "# # Filtrar eventos dentro del período de la prueba (07/12/2020 - 01/01/2021)\n",
    "\n",
    "# events = events[(events['event_dt'] >= '2020-12-07') &\n",
    "\n",
    "#                 (events['event_dt'] <= '2021-01-01')]\n",
    "\n",
    "\n",
    "\n",
    "# Unir eventos con información de grupos\n",
    "\n",
    "\n",
    "df = events.merge(participants, on='user_id', how='inner')\n",
    "\n",
    "df"
   ]
  },
  {
   "cell_type": "markdown",
   "metadata": {},
   "source": [
    "<div class=\"alert alert-block alert-success\">\n",
    "<b>Comentario del revisor (1ra Iteracion)</b> <a class=“tocSkip”></a>\n",
    "\n",
    "Muy buen trabajo con la transformación de datos y la exploración inicial de los mismos, un dataset limpio y claro es clave para una buena toma de decisiones en un experimento.\n",
    "</div>"
   ]
  },
  {
   "cell_type": "code",
   "execution_count": 7,
   "metadata": {},
   "outputs": [
    {
     "name": "stdout",
     "output_type": "stream",
     "text": [
      "Fecha mínima: 2020-12-07 00:02:48\n",
      "Fecha máxima: 2020-12-30 18:28:55\n"
     ]
    },
    {
     "data": {
      "image/png": "[encoded data removed]",
      "text/plain": [
       "<Figure size 1200x600 with 1 Axes>"
      ]
     },
     "metadata": {},
     "output_type": "display_data"
    }
   ],
   "source": [
    "# ¿Qué periodo de tiempo cubren los datos? Encuentra la fecha máxima y mínima.\n",
    "print(f\"Fecha mínima: {df['event_dt'].min()}\")\n",
    "print(f\"Fecha máxima: {df['event_dt'].max()}\")\n",
    "\n",
    "# Traza un histograma por fecha y hora\n",
    "plt.figure(figsize=(12, 6))\n",
    "df['event_dt'].hist(bins=100)\n",
    "plt.xlabel('Fecha')\n",
    "plt.ylabel('Frecuencia')\n",
    "plt.title('Histograma de eventos por día')\n",
    "plt.xticks(rotation=45)\n",
    "plt.show()"
   ]
  },
  {
   "cell_type": "code",
   "execution_count": 8,
   "metadata": {},
   "outputs": [
    {
     "data": {
      "image/png": "[encoded data removed]",
      "text/plain": [
       "<Figure size 1200x500 with 1 Axes>"
      ]
     },
     "metadata": {},
     "output_type": "display_data"
    }
   ],
   "source": [
    "# Contar eventos por día (grafica alterna)\n",
    "\n",
    "events_per_day = df.groupby(\"event_date\")[\"user_id\"].count()\n",
    "\n",
    "# Graficar\n",
    "plt.figure(figsize=(12, 5))\n",
    "sns.lineplot(data=events_per_day)\n",
    "plt.xlabel(\"Fecha\")\n",
    "plt.ylabel(\"Número de eventos\")\n",
    "plt.title(\"Número de eventos por día por usuario\")\n",
    "plt.xticks(rotation=45)\n",
    "plt.show()"
   ]
  },
  {
   "cell_type": "markdown",
   "metadata": {},
   "source": [
    "#### Se observa que hay una mayor cantidad de eventos los dias previos a navidad, mientras que en navidad se observa una dismunucion total de eventos. \n",
    "\n",
    "#### Esto sugiere que las personas se anticipan en sus compras previo a eventos como lo es navidad.\n",
    "\n"
   ]
  },
  {
   "cell_type": "markdown",
   "metadata": {},
   "source": [
    "<div class=\"alert alert-block alert-danger\">\n",
    "<b>Comentario del revisor (1ra Iteracion)</b> <a class=“tocSkip”></a>\n",
    "\n",
    "Hace falta calcular y graficar los eventos a lo largo del tiempo\n",
    "</div>"
   ]
  },
  {
   "cell_type": "code",
   "execution_count": 9,
   "metadata": {},
   "outputs": [
    {
     "name": "stdout",
     "output_type": "stream",
     "text": [
      "Nombres de los eventos:\n",
      "purchase\n",
      "product_cart\n",
      "product_page\n",
      "login\n",
      "\n",
      "Número de eventos: 4\n"
     ]
    }
   ],
   "source": [
    "# ¿Cuántos eventos hay en los registros?\n",
    "print('Nombres de los eventos:')\n",
    "for event in df['event_name'].unique():\n",
    "    print(event)\n",
    "print()\n",
    "print('Número de eventos:', len(df['event_name'].unique()))"
   ]
  },
  {
   "cell_type": "code",
   "execution_count": 10,
   "metadata": {},
   "outputs": [
    {
     "name": "stdout",
     "output_type": "stream",
     "text": [
      "Número de Usuarios: 13638\n"
     ]
    }
   ],
   "source": [
    "print('Número de Usuarios:', len(df['user_id'].unique()))"
   ]
  },
  {
   "cell_type": "code",
   "execution_count": 11,
   "metadata": {},
   "outputs": [
    {
     "name": "stdout",
     "output_type": "stream",
     "text": [
      "El promedio de eventos por usuario es de: 7.54 eventos\n"
     ]
    }
   ],
   "source": [
    "# ¿Cuál es el promedio de eventos por usuario?\n",
    "\n",
    "print(\n",
    "    f\"El promedio de eventos por usuario es de: {df.groupby('user_id')['event_name'].count().mean():.2f} eventos\")"
   ]
  },
  {
   "cell_type": "code",
   "execution_count": 12,
   "metadata": {},
   "outputs": [
    {
     "data": {
      "text/plain": [
       "event_name\n",
       "product_cart    14318\n",
       "purchase        14854\n",
       "product_page    28961\n",
       "login           44705\n",
       "Name: event_date, dtype: int64"
      ]
     },
     "execution_count": 12,
     "metadata": {},
     "output_type": "execute_result"
    }
   ],
   "source": [
    "#  Que eventos hay en los registros y su frecuencia de suceso. (ordenados por frecuencia)\n",
    "df.groupby('event_name')['event_date'].agg('count').sort_values()"
   ]
  },
  {
   "cell_type": "markdown",
   "metadata": {},
   "source": [
    "Observamos que la accion mas comun es hacer un login y ver un producto.\n",
    "\n",
    "Llama mi atencion que es mas comun realizar una compra que agregar un producto al carrito. ¿Es esto una situacion normal o representa un error en los datos? se sugiere investigar al respecto\n"
   ]
  },
  {
   "cell_type": "code",
   "execution_count": 13,
   "metadata": {},
   "outputs": [
    {
     "name": "stdout",
     "output_type": "stream",
     "text": [
      "El número de eventos por usuario en el grupo A es:\n",
      "event_name\n",
      "login           7873\n",
      "product_page    5208\n",
      "purchase        2682\n",
      "product_cart    2483\n",
      "Name: user_id, dtype: int64\n",
      "\n",
      "El número de eventos por usuario en el grupo B es:\n",
      "event_name\n",
      "login           6204\n",
      "product_page    3986\n",
      "product_cart    2037\n",
      "purchase        2008\n",
      "Name: user_id, dtype: int64\n"
     ]
    }
   ],
   "source": [
    "# Número de eventos por usuario en el grupo A\n",
    "eventByUser_A = df[df['group'] == 'A'].groupby('event_name')['user_id'].nunique().sort_values(ascending=False)\n",
    "print('El número de eventos por usuario en el grupo A es:')\n",
    "print(eventByUser_A)\n",
    "\n",
    "# Número de eventos por usuario en el grupo B\n",
    "eventByUser_B = df[df['group'] == 'B'].groupby('event_name')['user_id'].nunique().sort_values(ascending=False)\n",
    "print('\\nEl número de eventos por usuario en el grupo B es:')\n",
    "print(eventByUser_B)"
   ]
  },
  {
   "cell_type": "code",
   "execution_count": 14,
   "metadata": {},
   "outputs": [
    {
     "name": "stdout",
     "output_type": "stream",
     "text": [
      "la proporcion es:\n",
      "event_name\n",
      "login           0.788010\n",
      "product_cart    0.820379\n",
      "product_page    0.765361\n",
      "purchase        0.748695\n",
      "Name: user_id, dtype: float64\n"
     ]
    }
   ],
   "source": [
    "# ¿El número de eventos por usuario está distribuido equitativamente entre las muestras?\n",
    "print('la proporcion es:')\n",
    "print(eventByUser_B/eventByUser_A)"
   ]
  },
  {
   "cell_type": "markdown",
   "metadata": {},
   "source": [
    "#### Observamos que la proporcion de usuarios es similar entre grupos, "
   ]
  },
  {
   "cell_type": "code",
   "execution_count": 15,
   "metadata": {},
   "outputs": [
    {
     "name": "stdout",
     "output_type": "stream",
     "text": [
      "Número de usuarios en ambos grupos: 441\n",
      "Se observa que hay usuarios en ambos grupos \n",
      "Vale la pena investigar si es algo esperado\n",
      "Numero total de usuarios 102838\n"
     ]
    }
   ],
   "source": [
    "# - ¿Hay usuarios que están presentes en ambas muestras?\n",
    "\n",
    "# Encontrar usuarios en el grupo A\n",
    "usuarios_grupo_a = set(df[df['group'] == 'A']['user_id'])\n",
    "\n",
    "# Encontrar usuarios en el grupo B\n",
    "usuarios_grupo_b = set(df[df['group'] == 'B']['user_id'])\n",
    "\n",
    "# Encontrar la intersección de usuarios en ambos grupos\n",
    "usuarios_comunes = usuarios_grupo_a.intersection(usuarios_grupo_b)\n",
    "\n",
    "print(f\"Número de usuarios en ambos grupos: {len(usuarios_comunes)}\")\n",
    "print('Se observa que hay usuarios en ambos grupos \\nVale la pena investigar si es algo esperado')\n",
    "\n",
    "print(f'Numero total de usuarios {df['user_id'].count()}')"
   ]
  },
  {
   "cell_type": "markdown",
   "metadata": {},
   "source": [
    "\n",
    "    - ¿Hay alguna peculiaridad en los datos que hay que tener en cuenta antes de iniciar la prueba A/B?\n",
    "- La unica particularidad de momento es que hay ususarios repetidos entre muestras (Se eliminan de manera provicional a menos que se indique que es algo esperado)"
   ]
  },
  {
   "cell_type": "code",
   "execution_count": 16,
   "metadata": {},
   "outputs": [],
   "source": [
    "# Filtrar los usuarios que estan en ambos grupos\n",
    "df = df[~df['user_id'].isin(usuarios_comunes)]"
   ]
  },
  {
   "cell_type": "code",
   "execution_count": 17,
   "metadata": {},
   "outputs": [],
   "source": [
    "# definimos una funcion para uso posterior\n",
    "\n",
    "def funnl_ord(data, funnel):\n",
    "    \"\"\" Se genera una funcion para establecer el orden de eventos. \n",
    "    Se toman dos argumentos; el origen de los datos y el funnel ordenado de los eventos\"\"\"\n",
    "\n",
    "    funn_eve = pd.DataFrame(columns=['event', 'unique_users', 'proportion'])\n",
    "\n",
    "    for i in range(len(funnel) - 1):\n",
    "        current_event = funnel[i]\n",
    "        next_event = funnel[i + 1]\n",
    "\n",
    "        current_users = data[data['event_name'] ==\n",
    "                             current_event]['user_id'].unique()\n",
    "        next_users = data[data['event_name'] ==\n",
    "                          next_event]['user_id'].unique()\n",
    "\n",
    "        proportion = len(set(next_users) & set(\n",
    "            current_users)) / len(current_users)\n",
    "\n",
    "        new_row = pd.DataFrame({'event': [next_event], 'unique_users': [\n",
    "                               len(next_users)], 'proportion': [proportion]})\n",
    "        funn_eve = pd.concat([funn_eve, new_row], ignore_index=True)\n",
    "    print(funn_eve)"
   ]
  },
  {
   "cell_type": "code",
   "execution_count": 18,
   "metadata": {},
   "outputs": [
    {
     "name": "stdout",
     "output_type": "stream",
     "text": [
      "          event unique_users  proportion\n",
      "0  product_page         8652    0.655703\n",
      "1  product_cart         4268    0.322469\n",
      "2      purchase         4436    0.333646\n"
     ]
    },
    {
     "name": "stderr",
     "output_type": "stream",
     "text": [
      "C:\\Users\\Branchbit Reclu\\AppData\\Local\\Temp\\ipykernel_16560\\3387612809.py:23: FutureWarning: The behavior of DataFrame concatenation with empty or all-NA entries is deprecated. In a future version, this will no longer exclude empty or all-NA columns when determining the result dtypes. To retain the old behavior, exclude the relevant entries before the concat operation.\n",
      "  funn_eve = pd.concat([funn_eve, new_row], ignore_index=True)\n"
     ]
    }
   ],
   "source": [
    "# Estudia la conversión en las diferentes etapas del embudo.\n",
    "funnel = ['login', 'product_page', 'product_cart', 'purchase']\n",
    "\n",
    "funnl_ord(df, funnel)"
   ]
  },
  {
   "cell_type": "markdown",
   "metadata": {},
   "source": [
    "#### Se observa que solo un tercio de los usuarios llegan a el pago"
   ]
  },
  {
   "cell_type": "code",
   "execution_count": 19,
   "metadata": {},
   "outputs": [
    {
     "name": "stdout",
     "output_type": "stream",
     "text": [
      "          event unique_users  proportion\n",
      "0  product_page         4937    0.664290\n",
      "1  product_cart         2357    0.315374\n",
      "2      purchase         2555    0.338142\n",
      "\n",
      "          event unique_users  proportion\n",
      "0  product_page         3715    0.644630\n",
      "1  product_cart         1911    0.331898\n",
      "2      purchase         1881    0.328100\n"
     ]
    },
    {
     "name": "stderr",
     "output_type": "stream",
     "text": [
      "C:\\Users\\Branchbit Reclu\\AppData\\Local\\Temp\\ipykernel_16560\\3387612809.py:23: FutureWarning: The behavior of DataFrame concatenation with empty or all-NA entries is deprecated. In a future version, this will no longer exclude empty or all-NA columns when determining the result dtypes. To retain the old behavior, exclude the relevant entries before the concat operation.\n",
      "  funn_eve = pd.concat([funn_eve, new_row], ignore_index=True)\n",
      "C:\\Users\\Branchbit Reclu\\AppData\\Local\\Temp\\ipykernel_16560\\3387612809.py:23: FutureWarning: The behavior of DataFrame concatenation with empty or all-NA entries is deprecated. In a future version, this will no longer exclude empty or all-NA columns when determining the result dtypes. To retain the old behavior, exclude the relevant entries before the concat operation.\n",
      "  funn_eve = pd.concat([funn_eve, new_row], ignore_index=True)\n"
     ]
    }
   ],
   "source": [
    "# se separa por grupos para ver si existe alguna  diferencia.\n",
    "\n",
    "funnl_ord(df[df['group'] == 'A'], funnel)\n",
    "print()\n",
    "funnl_ord(df[df['group'] == 'B'], funnel)"
   ]
  },
  {
   "cell_type": "markdown",
   "metadata": {},
   "source": [
    "#### no se observa que las propociones cambien considerablemente entre grupos"
   ]
  },
  {
   "cell_type": "code",
   "execution_count": 20,
   "metadata": {},
   "outputs": [
    {
     "name": "stdout",
     "output_type": "stream",
     "text": [
      "El porcentaje de usuarios que hace todo el viaje desde su primer evento hasta el pago es: 33.60%\n"
     ]
    }
   ],
   "source": [
    "#  ¿Qué porcentaje de usuarios hace todo el viaje desde su primer evento hasta el pago?\n",
    "def user_full_trip(data, funnel, show=True):\n",
    "    \"\"\" Se genera una funcion para dar el porcentaje de usuarios que recorren el funnel completo\n",
    "    desde el inicio hasta el final\"\"\"\n",
    "\n",
    "    # Encuentra los usuarios que realizaron el primer evento\n",
    "    first_event_users = data[data['event_name']\n",
    "                             == funnel[0]]['user_id'].unique()\n",
    "    # Encuentra los usuarios que realizaron el último evento (pago)\n",
    "    last_event_users = data[data['event_name']\n",
    "                            == funnel[-1]]['user_id'].unique()\n",
    "    # Calcula el porcentaje de usuarios que realizaron todo el viaje\n",
    "    percentage_full_journey = len(set(last_event_users) & set(\n",
    "        first_event_users)) / len(first_event_users) * 100\n",
    "\n",
    "    if show:\n",
    "        print(\n",
    "            f\"El porcentaje de usuarios que hace todo el viaje desde su primer evento hasta el pago es: {percentage_full_journey:.2f}%\")\n",
    "    else:\n",
    "        return percentage_full_journey\n",
    "\n",
    "\n",
    "user_full_trip(df, funnel)"
   ]
  },
  {
   "cell_type": "code",
   "execution_count": 21,
   "metadata": {},
   "outputs": [
    {
     "name": "stdout",
     "output_type": "stream",
     "text": [
      "El porcentaje de usuarios que hace todo el viaje desde su primer evento hasta el pago es: 34.36%\n",
      "\n",
      "El porcentaje de usuarios que hace todo el viaje desde su primer evento hasta el pago es: 32.62%\n"
     ]
    }
   ],
   "source": [
    "# se separa por grupos para ver si existe alguna  diferencia.\n",
    "\n",
    "user_full_trip(df[df['group'] == 'A'], funnel)\n",
    "print()\n",
    "user_full_trip(df[df['group'] == 'B'], funnel)"
   ]
  },
  {
   "cell_type": "markdown",
   "metadata": {},
   "source": [
    "#### Nuevamente no obervamos que existan diferencias entre grupos mas que del 2%. En todo caso, el porcentaje de usuarios ya sea dividido en grupos o en general, que llega a pagar es muy bajo."
   ]
  },
  {
   "cell_type": "markdown",
   "metadata": {},
   "source": [
    "<div class=\"alert alert-block alert-danger\">\n",
    "<b>Comentario del revisor (1ra Iteracion)</b> <a class=“tocSkip”></a>\n",
    "\n",
    "No es buena práctica tener tantos procesos en una sóla celda, la ventaja de los notebooks es que se puede usar cada celda para hacer cada paso facilitando así la comprensión del proceso. Además, la conversión no está calculada corredctamente, deberías tomar el primer evento `loging` como el punto de partida para calcular el resto, por ejemplo, para la conversión en purchase sería `# usuarios purchase / # usuarios login`\n",
    "</div>"
   ]
  },
  {
   "cell_type": "code",
   "execution_count": 22,
   "metadata": {},
   "outputs": [],
   "source": [
    "# Generamos una funcion para difernecias entre grupos:\n",
    "def t_dif_gpo(gpo1: pd.DataFrame, gpo2: pd.DataFrame, P: float = 0.05) -> None:\n",
    "    t_stat_evento, p_value_evento = stats.ttest_ind(\n",
    "        gpo1, gpo2, equal_var=False)\n",
    "    print('El resultado de la prueba es:')\n",
    "    print(f\"Estadístico t: {t_stat_evento:.4F}, Valor p: {p_value_evento:.4F}\")\n",
    "\n",
    "    if p_value_evento < P:\n",
    "        print(\"Existen diferencias significativas.\")\n",
    "    else:\n",
    "        print(\"No hay diferencias significativas.\")"
   ]
  },
  {
   "cell_type": "code",
   "execution_count": 23,
   "metadata": {},
   "outputs": [],
   "source": [
    "gpoA = df[(df['group'] == 'A') & (df['event_name'] == 'purchase')]['user_id'].value_counts()\n",
    "gpoB = df[(df['group'] == 'B') & (df['event_name'] == 'purchase')]['user_id'].value_counts()"
   ]
  },
  {
   "cell_type": "code",
   "execution_count": 24,
   "metadata": {},
   "outputs": [
    {
     "name": "stdout",
     "output_type": "stream",
     "text": [
      "El resultado de la prueba es:\n",
      "Estadístico t: 2.4296, Valor p: 0.0152\n",
      "Existen diferencias significativas.\n"
     ]
    }
   ],
   "source": [
    "t_dif_gpo(gpoA,gpoB)"
   ]
  },
  {
   "cell_type": "code",
   "execution_count": 25,
   "metadata": {},
   "outputs": [
    {
     "name": "stdout",
     "output_type": "stream",
     "text": [
      "Estadístico z: 2.1240\n",
      "Valor p: 0.0337\n",
      "Existen diferencias estadísticamente significativas entre las proporciones de conversión.\n"
     ]
    }
   ],
   "source": [
    "from statsmodels.stats.proportion import proportions_ztest\n",
    "\n",
    "# Número de usuarios que realizaron el evento final (purchase) en cada grupo\n",
    "purchase_A = eventByUser_A['purchase']\n",
    "purchase_B = eventByUser_B['purchase']\n",
    "\n",
    "# Número total de usuarios que realizaron el evento inicial (login) en cada grupo\n",
    "login_A = eventByUser_A['login']\n",
    "login_B = eventByUser_B['login']\n",
    "\n",
    "# Proporciones de conversión\n",
    "conversion_A = purchase_A / login_A\n",
    "conversion_B = purchase_B / login_B\n",
    "\n",
    "# Datos para la prueba z\n",
    "successes = [purchase_A, purchase_B]\n",
    "totals = [login_A, login_B]\n",
    "\n",
    "# Prueba z\n",
    "z_stat, p_value = proportions_ztest(successes, totals)\n",
    "\n",
    "print(f\"Estadístico z: {z_stat:.4f}\")\n",
    "print(f\"Valor p: {p_value:.4f}\")\n",
    "\n",
    "if p_value < 0.05:\n",
    "    print(\"Existen diferencias estadísticamente significativas entre las proporciones de conversión.\")\n",
    "else:\n",
    "    print(\"No hay diferencias estadísticamente significativas entre las proporciones de conversión.\")"
   ]
  },
  {
   "cell_type": "markdown",
   "metadata": {},
   "source": [
    "<div class=\"alert alert-block alert-danger\">\n",
    "<b>Comentario del revisor (1ra Iteracion)</b> <a class=“tocSkip”></a>\n",
    "\n",
    "Una prueba estadística no te puede dar cómo resultado `nan` eso quiere decir que el módulo que lo calculo no está recibiendo los datos adecuados, y se debería aplicar para la conversión de cada evento. La conversión que se ha calculado aquí no es correcta ya que tienes un 100% cómo si todos los usuarios tuviesen un 100% de conversión y eso no es acertado\n",
    "</div>"
   ]
  },
  {
   "cell_type": "markdown",
   "metadata": {},
   "source": [
    "### Aunque la diferencia entre grupos es del 3% las pruebas estadisticas indican que efectivamente la estrategia empleada resulta en un aumento de la convercion del grupo B respecto al A"
   ]
  },
  {
   "cell_type": "markdown",
   "metadata": {},
   "source": [
    "<div class=\"alert alert-block alert-danger\">\n",
    "<b>Comentario del revisor (1ra Iteracion)</b> <a class=“tocSkip”></a>\n",
    "\n",
    "Las conclusiones deben ser más detalladas, debes resumir los hallazgos más importantes vistos a lo largo de **todo** el notebook y no sólo de la parte final\n",
    "</div>"
   ]
  },
  {
   "cell_type": "markdown",
   "metadata": {},
   "source": [
    "### Conlcusiones finales:\n",
    "\n",
    "- Los usuarios muestran un comportamiento de previcion para las compras antes de eventos importantes (e.g. navidad)\n",
    "- La tasa de conversion general es muy baja, solo un tercio de los usuarios completan el funnel.\n",
    "- Las estrategias empleadas para el grupo B incrementan la conversion. Se sugiere seguir explorando estrategias en esa direccion para poder aumentar la convercion y incrementar las ventas. "
   ]
  }
 ],
 "metadata": {
  "ExecuteTimeLog": [
   {
    "duration": 994,
    "start_time": "2025-03-26T02:14:53.281Z"
   },
   {
    "duration": 1007,
    "start_time": "2025-03-26T02:14:54.277Z"
   },
   {
    "duration": 0,
    "start_time": "2025-03-26T02:14:55.286Z"
   },
   {
    "duration": 0,
    "start_time": "2025-03-26T02:14:55.288Z"
   },
   {
    "duration": 0,
    "start_time": "2025-03-26T02:14:55.289Z"
   },
   {
    "duration": 0,
    "start_time": "2025-03-26T02:14:55.290Z"
   },
   {
    "duration": 0,
    "start_time": "2025-03-26T02:14:55.292Z"
   },
   {
    "duration": 0,
    "start_time": "2025-03-26T02:14:55.293Z"
   },
   {
    "duration": 5,
    "start_time": "2025-03-26T02:15:20.654Z"
   },
   {
    "duration": 36,
    "start_time": "2025-03-26T02:15:20.661Z"
   },
   {
    "duration": 199,
    "start_time": "2025-03-26T02:15:20.698Z"
   },
   {
    "duration": 1374,
    "start_time": "2025-03-26T02:15:20.899Z"
   },
   {
    "duration": 68,
    "start_time": "2025-03-26T02:15:22.276Z"
   },
   {
    "duration": 108,
    "start_time": "2025-03-26T02:15:22.346Z"
   },
   {
    "duration": 398,
    "start_time": "2025-03-26T02:15:22.460Z"
   },
   {
    "duration": 49,
    "start_time": "2025-03-26T02:15:22.860Z"
   }
  ],
  "kernelspec": {
   "display_name": "TT",
   "language": "python",
   "name": "python3"
  },
  "language_info": {
   "codemirror_mode": {
    "name": "ipython",
    "version": 3
   },
   "file_extension": ".py",
   "mimetype": "text/x-python",
   "name": "python",
   "nbconvert_exporter": "python",
   "pygments_lexer": "ipython3",
   "version": "3.13.2"
  },
  "toc": {
   "base_numbering": 1,
   "nav_menu": {},
   "number_sections": true,
   "sideBar": true,
   "skip_h1_title": true,
   "title_cell": "Table of Contents",
   "title_sidebar": "Contents",
   "toc_cell": false,
   "toc_position": {},
   "toc_section_display": true,
   "toc_window_display": false
  }
 },
 "nbformat": 4,
 "nbformat_minor": 2
}
