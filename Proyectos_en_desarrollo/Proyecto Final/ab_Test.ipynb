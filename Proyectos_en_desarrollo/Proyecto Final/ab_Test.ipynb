{
 "cells": [
  {
   "cell_type": "code",
   "execution_count": 1,
   "metadata": {},
   "outputs": [],
   "source": [
    "#### Pureba A/B"
   ]
  },
  {
   "cell_type": "markdown",
   "metadata": {},
   "source": [
    "### Instrucciones para completar la tarea\n",
    "\n",
    "1. **Describe los objetivos del estudio.**\n",
    "   - Explica cuál es el propósito del análisis y qué se espera lograr con la prueba A/B.\n",
    "\n",
    "2. **Explora los datos:**\n",
    "   - ¿Es necesario convertir los tipos de datos?\n",
    "   - ¿Hay valores ausentes o duplicados? Si es así, ¿cómo los caracterizarías?\n",
    "\n",
    "3. **Lleva a cabo el análisis exploratorio de datos (EDA):**\n",
    "   - Estudia la conversión en las diferentes etapas del embudo.\n",
    "   - ¿El número de eventos por usuario está distribuido equitativamente entre las muestras?\n",
    "   - ¿Hay usuarios que están presentes en ambas muestras?\n",
    "   - ¿Cómo se distribuye el número de eventos entre los días?\n",
    "   - ¿Hay alguna peculiaridad en los datos que hay que tener en cuenta antes de iniciar la prueba A/B?\n",
    "\n",
    "4. **Evaluar los resultados de la prueba A/B:**\n",
    "   - ¿Qué puedes decir sobre los resultados de la prueba A/B?\n",
    "   - Utiliza una prueba z para comprobar la diferencia estadística entre las proporciones.\n",
    "\n",
    "5. **Describe tus conclusiones:**\n",
    "   - Resume los hallazgos del análisis exploratorio de datos (EDA).\n",
    "   - Interpreta los resultados de la prueba A/B y proporciona recomendaciones basadas en los datos."
   ]
  },
  {
   "cell_type": "markdown",
   "metadata": {},
   "source": [
    "1. **Describe los objetivos del estudio.**\n",
    "   - Explica cuál es el propósito del análisis y qué se espera lograr con la prueba A/B."
   ]
  },
  {
   "cell_type": "code",
   "execution_count": 2,
   "metadata": {},
   "outputs": [],
   "source": [
    "import pandas as pd\n",
    "import numpy as np\n",
    "import matplotlib.pyplot as plt\n",
    "import seaborn as sns\n",
    "\n",
    "\n",
    "\n",
    "def looks(datos):\n",
    "    \"\"\"Genera un análisis de todo el set de datos de manera global\"\"\"\n",
    "\n",
    "    print(\"Se ejecuta la descripción de los datos:\")\n",
    "    print(datos.describe(include=\"all\"))\n",
    "    print()\n",
    "    print(\"se hace exploración con método info:\")\n",
    "    print(datos.info())\n",
    "    print()\n",
    "    print(\"se hace una observación con el método Sample:\")\n",
    "    if len(datos) > 10:\n",
    "        print(datos.sample(10))\n",
    "    else:\n",
    "        print(datos)\n",
    "    print()\n",
    "    print(\"hay NA?:\")\n",
    "    print(datos.isna().sum())\n",
    "    print()\n",
    "    print(\"Duplicados:\")\n",
    "    print(datos.duplicated().sum())"
   ]
  },
  {
   "cell_type": "code",
   "execution_count": 3,
   "metadata": {},
   "outputs": [
    {
     "name": "stdout",
     "output_type": "stream",
     "text": [
      "Se ejecuta la descripción de los datos:\n",
      "                            name regions    start_dt   finish_dt\n",
      "count                         14      14          14          14\n",
      "unique                        14       6          14          14\n",
      "top     Christmas&New Year Promo    APAC  2020-12-25  2021-01-03\n",
      "freq                           1       4           1           1\n",
      "\n",
      "se hace exploración con método info:\n",
      "<class 'pandas.core.frame.DataFrame'>\n",
      "RangeIndex: 14 entries, 0 to 13\n",
      "Data columns (total 4 columns):\n",
      " #   Column     Non-Null Count  Dtype \n",
      "---  ------     --------------  ----- \n",
      " 0   name       14 non-null     object\n",
      " 1   regions    14 non-null     object\n",
      " 2   start_dt   14 non-null     object\n",
      " 3   finish_dt  14 non-null     object\n",
      "dtypes: object(4)\n",
      "memory usage: 580.0+ bytes\n",
      "None\n",
      "\n",
      "se hace una observación con el método Sample:\n",
      "                                name                   regions    start_dt  \\\n",
      "2             St. Patric's Day Promo             EU, N.America  2020-03-17   \n",
      "13             Chinese Moon Festival                      APAC  2020-10-01   \n",
      "7   Labor day (May 1st) Ads Campaign             EU, CIS, APAC  2020-05-01   \n",
      "1       St. Valentine's Day Giveaway  EU, CIS, APAC, N.America  2020-02-14   \n",
      "8    International Women's Day Promo             EU, CIS, APAC  2020-03-08   \n",
      "6             Chinese New Year Promo                      APAC  2020-01-25   \n",
      "0           Christmas&New Year Promo             EU, N.America  2020-12-25   \n",
      "3                       Easter Promo  EU, CIS, APAC, N.America  2020-04-12   \n",
      "10         CIS New Year Gift Lottery                       CIS  2020-12-30   \n",
      "11     Dragon Boat Festival Giveaway                      APAC  2020-06-25   \n",
      "\n",
      "     finish_dt  \n",
      "2   2020-03-19  \n",
      "13  2020-10-07  \n",
      "7   2020-05-03  \n",
      "1   2020-02-16  \n",
      "8   2020-03-10  \n",
      "6   2020-02-07  \n",
      "0   2021-01-03  \n",
      "3   2020-04-19  \n",
      "10  2021-01-07  \n",
      "11  2020-07-01  \n",
      "\n",
      "hay NA?:\n",
      "name         0\n",
      "regions      0\n",
      "start_dt     0\n",
      "finish_dt    0\n",
      "dtype: int64\n",
      "\n",
      "Duplicados:\n",
      "0\n"
     ]
    }
   ],
   "source": [
    "marketing_events = pd.read_csv('datasets/ab_project_marketing_events_us.csv')\n",
    "looks(marketing_events)"
   ]
  },
  {
   "cell_type": "code",
   "execution_count": 4,
   "metadata": {},
   "outputs": [
    {
     "name": "stdout",
     "output_type": "stream",
     "text": [
      "Se ejecuta la descripción de los datos:\n",
      "                 user_id  first_date region   device\n",
      "count               5564        5564   5563     5563\n",
      "unique              5564           2      4        4\n",
      "top     1DC221E9544FECBE  2020-12-07     EU  Android\n",
      "freq                   1        5291   4117     2457\n",
      "\n",
      "se hace exploración con método info:\n",
      "<class 'pandas.core.frame.DataFrame'>\n",
      "RangeIndex: 5564 entries, 0 to 5563\n",
      "Data columns (total 4 columns):\n",
      " #   Column      Non-Null Count  Dtype \n",
      "---  ------      --------------  ----- \n",
      " 0   user_id     5564 non-null   object\n",
      " 1   first_date  5564 non-null   object\n",
      " 2   region      5563 non-null   object\n",
      " 3   device      5563 non-null   object\n",
      "dtypes: object(4)\n",
      "memory usage: 174.0+ KB\n",
      "None\n",
      "\n",
      "se hace una observación con el método Sample:\n",
      "               user_id  first_date     region   device\n",
      "4525  918458E36D376816  2020-12-07         EU       PC\n",
      "4320  6962DB9E86380355  2020-12-07  N.America   iPhone\n",
      "3252  88FB1EDF3E249223  2020-12-07         EU  Android\n",
      "4370  7CE6D840611393BD  2020-12-07        CIS  Android\n",
      "3556  AF005D893A6FA281  2020-12-07  N.America  Android\n",
      "5206  A8BA94B54D672EC5  2020-12-07         EU  Android\n",
      "509   2918EC7CAB2386B4  2020-12-07  N.America  Android\n",
      "5097  E5C644D5BD46955A  2020-12-07         EU  Android\n",
      "2914  E3CED6899540C89D  2020-12-07         EU   iPhone\n",
      "2013  2B2A80BDED7F8A2A  2020-12-07  N.America  Android\n",
      "\n",
      "hay NA?:\n",
      "user_id       0\n",
      "first_date    0\n",
      "region        1\n",
      "device        1\n",
      "dtype: int64\n",
      "\n",
      "Duplicados:\n",
      "0\n"
     ]
    }
   ],
   "source": [
    "new_users = pd.read_csv('datasets/final_ab_new_users_upd_us.csv')\n",
    "looks(new_users)"
   ]
  },
  {
   "cell_type": "code",
   "execution_count": 5,
   "metadata": {},
   "outputs": [
    {
     "name": "stdout",
     "output_type": "stream",
     "text": [
      "Se ejecuta la descripción de los datos:\n",
      "                 user_id             event_dt event_name       details\n",
      "count              17574                17574      17573  17573.000000\n",
      "unique              9478                17339          1           NaN\n",
      "top     B39CB5FED22C0ECD  2020-12-13 14:26:54   purchase           NaN\n",
      "freq                   7                    3      17573           NaN\n",
      "mean                 NaN                  NaN        NaN     23.111835\n",
      "std                  NaN                  NaN        NaN     71.008750\n",
      "min                  NaN                  NaN        NaN      4.990000\n",
      "25%                  NaN                  NaN        NaN      4.990000\n",
      "50%                  NaN                  NaN        NaN      4.990000\n",
      "75%                  NaN                  NaN        NaN      9.990000\n",
      "max                  NaN                  NaN        NaN    499.990000\n",
      "\n",
      "se hace exploración con método info:\n",
      "<class 'pandas.core.frame.DataFrame'>\n",
      "RangeIndex: 17574 entries, 0 to 17573\n",
      "Data columns (total 4 columns):\n",
      " #   Column      Non-Null Count  Dtype  \n",
      "---  ------      --------------  -----  \n",
      " 0   user_id     17574 non-null  object \n",
      " 1   event_dt    17574 non-null  object \n",
      " 2   event_name  17573 non-null  object \n",
      " 3   details     17573 non-null  float64\n",
      "dtypes: float64(1), object(3)\n",
      "memory usage: 549.3+ KB\n",
      "None\n",
      "\n",
      "se hace una observación con el método Sample:\n",
      "                user_id             event_dt event_name  details\n",
      "9989   C0C3FFF7282B7F07  2020-12-12 06:28:58   purchase     4.99\n",
      "8831   A6D74D66431E35E9  2020-12-11 01:10:24   purchase     9.99\n",
      "8718   22F64CD75CBF7D65  2020-12-11 17:12:53   purchase     4.99\n",
      "11050  EEED4CCBE78F6751  2020-12-12 17:44:37   purchase     9.99\n",
      "9119   840D3AE8262F03C4  2020-12-12 05:07:31   purchase   499.99\n",
      "14709  9B4CCC419426C22C  2020-12-14 14:06:49   purchase     9.99\n",
      "8028   C43C315BC75228F1  2020-12-11 21:36:03   purchase     4.99\n",
      "10999  44FAE3FE48206454  2020-12-12 02:01:50   purchase     9.99\n",
      "1070   40BC9DE29094B646  2020-12-07 13:09:52   purchase     4.99\n",
      "14852  B625D30A9FDA0AF0  2020-12-14 11:55:31   purchase     4.99\n",
      "\n",
      "hay NA?:\n",
      "user_id       0\n",
      "event_dt      0\n",
      "event_name    1\n",
      "details       1\n",
      "dtype: int64\n",
      "\n",
      "Duplicados:\n",
      "0\n"
     ]
    }
   ],
   "source": [
    "events = pd.read_csv('datasets/final_ab_events_upd_us.csv')\n",
    "looks(events)"
   ]
  },
  {
   "cell_type": "code",
   "execution_count": 6,
   "metadata": {},
   "outputs": [
    {
     "name": "stdout",
     "output_type": "stream",
     "text": [
      "Se ejecuta la descripción de los datos:\n",
      "                 user_id  group            ab_test\n",
      "count              14525  14525              14525\n",
      "unique             13638      2                  2\n",
      "top     FABB6D49B11E673F      A  interface_eu_test\n",
      "freq                   2   8214              10850\n",
      "\n",
      "se hace exploración con método info:\n",
      "<class 'pandas.core.frame.DataFrame'>\n",
      "RangeIndex: 14525 entries, 0 to 14524\n",
      "Data columns (total 3 columns):\n",
      " #   Column   Non-Null Count  Dtype \n",
      "---  ------   --------------  ----- \n",
      " 0   user_id  14525 non-null  object\n",
      " 1   group    14525 non-null  object\n",
      " 2   ab_test  14525 non-null  object\n",
      "dtypes: object(3)\n",
      "memory usage: 340.6+ KB\n",
      "None\n",
      "\n",
      "se hace una observación con el método Sample:\n",
      "                user_id group                  ab_test\n",
      "5012   944A0BDF5AFB5959     A        interface_eu_test\n",
      "9578   50D8FB5489BBDBEB     A        interface_eu_test\n",
      "13583  5B64AD478295E9B0     B        interface_eu_test\n",
      "9146   225B2D3B90786783     A        interface_eu_test\n",
      "2201   868DBE2E4FE76465     A  recommender_system_test\n",
      "3074   8DE1FF5E69F5124B     A  recommender_system_test\n",
      "12894  B084CBEF7BC1BB8B     B        interface_eu_test\n",
      "14109  BF4C0002034B24B1     A        interface_eu_test\n",
      "3083   037C3790C2C408BA     A  recommender_system_test\n",
      "13957  63B3F8E192834923     B        interface_eu_test\n",
      "\n",
      "hay NA?:\n",
      "user_id    0\n",
      "group      0\n",
      "ab_test    0\n",
      "dtype: int64\n",
      "\n",
      "Duplicados:\n",
      "0\n"
     ]
    }
   ],
   "source": [
    "participants = pd.read_csv('datasets/final_ab_participants_upd_us.csv')\n",
    "looks(participants)"
   ]
  },
  {
   "cell_type": "markdown",
   "metadata": {},
   "source": [
    "### No se encuentras particulatidades especiales para los datos "
   ]
  },
  {
   "cell_type": "code",
   "execution_count": null,
   "metadata": {},
   "outputs": [],
   "source": [
    "#Se convierten a fechas las columnas correspondientes\n",
    "new_users['first_date'] = pd.to_datetime(new_users['first_date'])\n",
    "events['event_dt'] = pd.to_datetime(events['event_dt'], errors='coerce')\n",
    "marketing_events['start_dt'] = pd.to_datetime(marketing_events['start_dt'])\n",
    "marketing_events['finish_dt'] = pd.to_datetime(marketing_events['finish_dt'])"
   ]
  },
  {
   "cell_type": "code",
   "execution_count": 26,
   "metadata": {
    "vscode": {
     "languageId": "ruby"
    }
   },
   "outputs": [
    {
     "name": "stdout",
     "output_type": "stream",
     "text": [
      "Conversión en las diferentes etapas del embudo:\n",
      "  event_name  count  percentage\n",
      "0   purchase  17573       100.0\n",
      "\n",
      "Distribución del número de eventos por usuario en cada muestra:\n",
      "        count      mean       std  min  25%  50%  75%  max\n",
      "group                                                     \n",
      "A      1190.0  1.861345  1.051301  1.0  1.0  2.0  2.0  6.0\n",
      "B       978.0  1.926380  1.112274  1.0  1.0  2.0  3.0  8.0\n",
      "\n",
      "Número de usuarios presentes en ambas muestras: 441\n",
      "\n",
      "Distribución del número de eventos entre los días:\n",
      "event_date\n",
      "2020-12-07    1650\n",
      "2020-12-08    1729\n",
      "2020-12-09    1693\n",
      "2020-12-10    2012\n",
      "2020-12-11    1958\n",
      "2020-12-12    2517\n",
      "2020-12-13    3020\n",
      "2020-12-14    2994\n",
      "dtype: int64\n",
      "\n",
      "Peculiaridades en los datos:\n",
      "Eventos con valores nulos:\n",
      "user_id       0\n",
      "event_dt      1\n",
      "event_name    1\n",
      "details       1\n",
      "event_date    1\n",
      "dtype: int64\n",
      "\n",
      "Usuarios duplicados en participants:\n",
      "887\n"
     ]
    }
   ],
   "source": [
    "\n",
    "# Calcular la conversión en las diferentes etapas del embudo\n",
    "funnel = events.groupby('event_name').size().reset_index(name='count')\n",
    "funnel['percentage'] = (funnel['count'] / funnel['count'].sum()) * 100\n",
    "print(\"Conversión en las diferentes etapas del embudo:\")\n",
    "print(funnel)\n",
    "\n",
    "# Crear el DataFrame events_with_groups combinando events y participants\n",
    "events_with_groups = events.merge(participants, on='user_id', how='inner')\n",
    "\n",
    "# Número de eventos por usuario en cada muestra\n",
    "events_per_user = events_with_groups.groupby(['user_id', 'group']).size().reset_index(name='event_count')\n",
    "print(\"\\nDistribución del número de eventos por usuario en cada muestra:\")\n",
    "print(events_per_user.groupby('group')['event_count'].describe())\n",
    "\n",
    "# Verificar si hay usuarios presentes en ambas muestras\n",
    "users_in_both_groups = participants.groupby('user_id')['group'].nunique().reset_index()\n",
    "users_in_both_groups = users_in_both_groups[users_in_both_groups['group'] > 1]\n",
    "print(f\"\\nNúmero de usuarios presentes en ambas muestras: {len(users_in_both_groups)}\")\n",
    "\n",
    "# Distribución del número de eventos entre los días\n",
    "events['event_date'] = events['event_dt'].dt.date\n",
    "events_per_day = events.groupby('event_date').size()\n",
    "print(\"\\nDistribución del número de eventos entre los días:\")\n",
    "print(events_per_day)\n",
    "\n",
    "# Peculiaridades en los datos\n",
    "print(\"\\nPeculiaridades en los datos:\")\n",
    "print(\"Eventos con valores nulos:\")\n",
    "print(events.isna().sum())\n",
    "print(\"\\nUsuarios duplicados en participants:\")\n",
    "print(participants.duplicated(subset='user_id').sum())"
   ]
  },
  {
   "cell_type": "markdown",
   "metadata": {},
   "source": []
  },
  {
   "cell_type": "markdown",
   "metadata": {},
   "source": [
    "### Se encuentra que existen pocos eventos con valores nulos, y que hay ID duplicados esto producto que cada usuario tiene mas de un evento."
   ]
  },
  {
   "cell_type": "code",
   "execution_count": 24,
   "metadata": {},
   "outputs": [
    {
     "name": "stdout",
     "output_type": "stream",
     "text": [
      "Proporción de conversión en el grupo A: 15.11%\n",
      "Proporción de conversión en el grupo B: 15.76%\n",
      "\n",
      "Resultados de la prueba z:\n",
      "Estadístico z: -1.06\n",
      "Valor p: 0.2899\n",
      "\n",
      "Conclusión: No hay una diferencia estadísticamente significativa entre las proporciones de conversión de los grupos A y B.\n"
     ]
    }
   ],
   "source": [
    "from statsmodels.stats.proportion import proportions_ztest\n",
    "\n",
    "# Calcular conversiones por grupo\n",
    "conversiones = events_with_groups.groupby('group')['user_id'].nunique()\n",
    "usuarios_totales = participants.groupby('group')['user_id'].nunique()\n",
    "\n",
    "# Conversiones y usuarios totales por grupo\n",
    "conversiones_A = conversiones['A']\n",
    "conversiones_B = conversiones['B']\n",
    "usuarios_A = usuarios_totales['A']\n",
    "usuarios_B = usuarios_totales['B']\n",
    "\n",
    "# Proporciones de conversión\n",
    "proporcion_A = conversiones_A / usuarios_A\n",
    "proporcion_B = conversiones_B / usuarios_B\n",
    "\n",
    "print(f\"Proporción de conversión en el grupo A: {proporcion_A:.2%}\")\n",
    "print(f\"Proporción de conversión en el grupo B: {proporcion_B:.2%}\")\n",
    "\n",
    "# Prueba z para comparar proporciones\n",
    "conversiones = [conversiones_A, conversiones_B]\n",
    "usuarios = [usuarios_A, usuarios_B]\n",
    "stat, p_value = proportions_ztest(conversiones, usuarios)\n",
    "\n",
    "print(\"\\nResultados de la prueba z:\")\n",
    "print(f\"Estadístico z: {stat:.2f}\")\n",
    "print(f\"Valor p: {p_value:.4f}\")\n",
    "\n",
    "# Conclusiones\n",
    "if p_value < 0.05:\n",
    "    print(\"\\nConclusión: Hay una diferencia estadísticamente significativa entre las proporciones de conversión de los grupos A y B.\")\n",
    "else:\n",
    "    print(\"\\nConclusión: No hay una diferencia estadísticamente significativa entre las proporciones de conversión de los grupos A y B.\")"
   ]
  },
  {
   "cell_type": "markdown",
   "metadata": {},
   "source": [
    "### Al no existir una diferencia entre los grupos, se sugiere replantear la estrategia de marketing empleada y buscar alternativas que puedan tener mayor efecto en los resultados "
   ]
  },
  {
   "cell_type": "code",
   "execution_count": null,
   "metadata": {},
   "outputs": [],
   "source": []
  }
 ],
 "metadata": {
  "kernelspec": {
   "display_name": "TT",
   "language": "python",
   "name": "python3"
  },
  "language_info": {
   "codemirror_mode": {
    "name": "ipython",
    "version": 3
   },
   "file_extension": ".py",
   "mimetype": "text/x-python",
   "name": "python",
   "nbconvert_exporter": "python",
   "pygments_lexer": "ipython3",
   "version": "3.13.2"
  }
 },
 "nbformat": 4,
 "nbformat_minor": 2
}
