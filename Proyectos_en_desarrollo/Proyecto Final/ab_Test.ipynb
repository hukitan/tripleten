{
 "cells": [
  {
   "cell_type": "code",
   "execution_count": 10,
   "metadata": {},
   "outputs": [],
   "source": [
    "#### Pureba A/B"
   ]
  },
  {
   "cell_type": "markdown",
   "metadata": {},
   "source": [
    "### Instrucciones para completar la tarea\n",
    "\n",
    "1. **Describe los objetivos del estudio.**\n",
    "   - Explica cuál es el propósito del análisis y qué se espera lograr con la prueba A/B.\n",
    "\n",
    "2. **Explora los datos:**\n",
    "   - ¿Es necesario convertir los tipos de datos?\n",
    "   - ¿Hay valores ausentes o duplicados? Si es así, ¿cómo los caracterizarías?\n",
    "\n",
    "3. **Lleva a cabo el análisis exploratorio de datos (EDA):**\n",
    "   - Estudia la conversión en las diferentes etapas del embudo.\n",
    "   - ¿El número de eventos por usuario está distribuido equitativamente entre las muestras?\n",
    "   - ¿Hay usuarios que están presentes en ambas muestras?\n",
    "   - ¿Cómo se distribuye el número de eventos entre los días?\n",
    "   - ¿Hay alguna peculiaridad en los datos que hay que tener en cuenta antes de iniciar la prueba A/B?\n",
    "\n",
    "4. **Evaluar los resultados de la prueba A/B:**\n",
    "   - ¿Qué puedes decir sobre los resultados de la prueba A/B?\n",
    "   - Utiliza una prueba z para comprobar la diferencia estadística entre las proporciones.\n",
    "\n",
    "5. **Describe tus conclusiones:**\n",
    "   - Resume los hallazgos del análisis exploratorio de datos (EDA).\n",
    "   - Interpreta los resultados de la prueba A/B y proporciona recomendaciones basadas en los datos."
   ]
  },
  {
   "cell_type": "markdown",
   "metadata": {},
   "source": [
    "1. **Describe los objetivos del estudio.**\n",
    "   - Explica cuál es el propósito del análisis y qué se espera lograr con la prueba A/B."
   ]
  },
  {
   "cell_type": "code",
   "execution_count": 11,
   "metadata": {},
   "outputs": [],
   "source": [
    "import pandas as pd\n",
    "import numpy as np\n",
    "import matplotlib.pyplot as plt\n",
    "import seaborn as sns\n",
    "\n",
    "\n",
    "\n",
    "def looks(datos):\n",
    "    \"\"\"Genera un análisis de todo el set de datos de manera global\"\"\"\n",
    "\n",
    "    print(\"Se ejecuta la descripción de los datos:\")\n",
    "    print(datos.describe(include=\"all\"))\n",
    "    print()\n",
    "    print(\"se hace exploración con método info:\")\n",
    "    print(datos.info())\n",
    "    print()\n",
    "    print(\"se hace una observación con el método Sample:\")\n",
    "    if len(datos) > 10:\n",
    "        print(datos.sample(10))\n",
    "    else:\n",
    "        print(datos)\n",
    "    print()\n",
    "    print(\"hay NA?:\")\n",
    "    print(datos.isna().sum())\n",
    "    print()\n",
    "    print(\"Duplicados:\")\n",
    "    print(datos.duplicated().sum())"
   ]
  },
  {
   "cell_type": "code",
   "execution_count": 12,
   "metadata": {},
   "outputs": [
    {
     "name": "stdout",
     "output_type": "stream",
     "text": [
      "Se ejecuta la descripción de los datos:\n",
      "                            name regions    start_dt   finish_dt\n",
      "count                         14      14          14          14\n",
      "unique                        14       6          14          14\n",
      "top     Christmas&New Year Promo    APAC  2020-12-25  2021-01-03\n",
      "freq                           1       4           1           1\n",
      "\n",
      "se hace exploración con método info:\n",
      "<class 'pandas.core.frame.DataFrame'>\n",
      "RangeIndex: 14 entries, 0 to 13\n",
      "Data columns (total 4 columns):\n",
      " #   Column     Non-Null Count  Dtype \n",
      "---  ------     --------------  ----- \n",
      " 0   name       14 non-null     object\n",
      " 1   regions    14 non-null     object\n",
      " 2   start_dt   14 non-null     object\n",
      " 3   finish_dt  14 non-null     object\n",
      "dtypes: object(4)\n",
      "memory usage: 580.0+ bytes\n",
      "None\n",
      "\n",
      "se hace una observación con el método Sample:\n",
      "                                name                   regions    start_dt  \\\n",
      "6             Chinese New Year Promo                      APAC  2020-01-25   \n",
      "4                  4th of July Promo                 N.America  2020-07-04   \n",
      "11     Dragon Boat Festival Giveaway                      APAC  2020-06-25   \n",
      "12           Single's Day Gift Promo                      APAC  2020-11-11   \n",
      "7   Labor day (May 1st) Ads Campaign             EU, CIS, APAC  2020-05-01   \n",
      "13             Chinese Moon Festival                      APAC  2020-10-01   \n",
      "0           Christmas&New Year Promo             EU, N.America  2020-12-25   \n",
      "2             St. Patric's Day Promo             EU, N.America  2020-03-17   \n",
      "3                       Easter Promo  EU, CIS, APAC, N.America  2020-04-12   \n",
      "5          Black Friday Ads Campaign  EU, CIS, APAC, N.America  2020-11-26   \n",
      "\n",
      "     finish_dt  \n",
      "6   2020-02-07  \n",
      "4   2020-07-11  \n",
      "11  2020-07-01  \n",
      "12  2020-11-12  \n",
      "7   2020-05-03  \n",
      "13  2020-10-07  \n",
      "0   2021-01-03  \n",
      "2   2020-03-19  \n",
      "3   2020-04-19  \n",
      "5   2020-12-01  \n",
      "\n",
      "hay NA?:\n",
      "name         0\n",
      "regions      0\n",
      "start_dt     0\n",
      "finish_dt    0\n",
      "dtype: int64\n",
      "\n",
      "Duplicados:\n",
      "0\n"
     ]
    }
   ],
   "source": [
    "marketing_events = pd.read_csv('datasets/ab_project_marketing_events_us.csv')\n",
    "looks(marketing_events)"
   ]
  },
  {
   "cell_type": "code",
   "execution_count": 13,
   "metadata": {},
   "outputs": [
    {
     "name": "stdout",
     "output_type": "stream",
     "text": [
      "Se ejecuta la descripción de los datos:\n",
      "                 user_id  first_date region   device\n",
      "count              58703       58703  58703    58703\n",
      "unique             58703          17      4        4\n",
      "top     8F04273BB2860229  2020-12-21     EU  Android\n",
      "freq                   1        6077  43396    26159\n",
      "\n",
      "se hace exploración con método info:\n",
      "<class 'pandas.core.frame.DataFrame'>\n",
      "RangeIndex: 58703 entries, 0 to 58702\n",
      "Data columns (total 4 columns):\n",
      " #   Column      Non-Null Count  Dtype \n",
      "---  ------      --------------  ----- \n",
      " 0   user_id     58703 non-null  object\n",
      " 1   first_date  58703 non-null  object\n",
      " 2   region      58703 non-null  object\n",
      " 3   device      58703 non-null  object\n",
      "dtypes: object(4)\n",
      "memory usage: 1.8+ MB\n",
      "None\n",
      "\n",
      "se hace una observación con el método Sample:\n",
      "                user_id  first_date     region   device\n",
      "37614  98715E220A52EA09  2020-12-17         EU       PC\n",
      "11043  13B427F12098CEF2  2020-12-21         EU      Mac\n",
      "50680  82903850CE2D64DA  2020-12-13         EU   iPhone\n",
      "10000  9B1DE38B5877B4C9  2020-12-14         EU  Android\n",
      "8549   49201BE91745823F  2020-12-14         EU  Android\n",
      "31168  F922C60ADD8C331A  2020-12-23  N.America      Mac\n",
      "39530  69007BFB086F625D  2020-12-11       APAC       PC\n",
      "19676  8D07BB5265EE6117  2020-12-08         EU       PC\n",
      "26415  6C7E962BC551EBC7  2020-12-09         EU  Android\n",
      "44284  93B459DC10A6ADDB  2020-12-12        CIS  Android\n",
      "\n",
      "hay NA?:\n",
      "user_id       0\n",
      "first_date    0\n",
      "region        0\n",
      "device        0\n",
      "dtype: int64\n",
      "\n",
      "Duplicados:\n",
      "0\n"
     ]
    }
   ],
   "source": [
    "new_users = pd.read_csv('datasets/final_ab_new_users_upd_us.csv')\n",
    "looks(new_users)"
   ]
  },
  {
   "cell_type": "code",
   "execution_count": 14,
   "metadata": {},
   "outputs": [
    {
     "name": "stdout",
     "output_type": "stream",
     "text": [
      "Se ejecuta la descripción de los datos:\n",
      "                 user_id             event_dt event_name       details\n",
      "count             423761               423761     423761  60314.000000\n",
      "unique             58703               257138          4           NaN\n",
      "top     A3917F81482141F2  2020-12-14 18:54:55      login           NaN\n",
      "freq                  36                   10     182465           NaN\n",
      "mean                 NaN                  NaN        NaN     23.881219\n",
      "std                  NaN                  NaN        NaN     72.228884\n",
      "min                  NaN                  NaN        NaN      4.990000\n",
      "25%                  NaN                  NaN        NaN      4.990000\n",
      "50%                  NaN                  NaN        NaN      4.990000\n",
      "75%                  NaN                  NaN        NaN      9.990000\n",
      "max                  NaN                  NaN        NaN    499.990000\n",
      "\n",
      "se hace exploración con método info:\n",
      "<class 'pandas.core.frame.DataFrame'>\n",
      "RangeIndex: 423761 entries, 0 to 423760\n",
      "Data columns (total 4 columns):\n",
      " #   Column      Non-Null Count   Dtype  \n",
      "---  ------      --------------   -----  \n",
      " 0   user_id     423761 non-null  object \n",
      " 1   event_dt    423761 non-null  object \n",
      " 2   event_name  423761 non-null  object \n",
      " 3   details     60314 non-null   float64\n",
      "dtypes: float64(1), object(3)\n",
      "memory usage: 12.9+ MB\n",
      "None\n",
      "\n",
      "se hace una observación con el método Sample:\n",
      "                 user_id             event_dt    event_name  details\n",
      "421846  A54BDB0BB94989A0  2020-12-29 20:21:41         login      NaN\n",
      "418673  708204FB2FC146EE  2020-12-28 16:57:51         login      NaN\n",
      "272365  FDFF26C268A2E4B8  2020-12-12 18:33:41         login      NaN\n",
      "240677  199157B45CB4FA24  2020-12-29 14:58:45  product_page      NaN\n",
      "152764  3648A94408997ECF  2020-12-14 19:18:05  product_page      NaN\n",
      "129625  DF44A742A5713F0C  2020-12-09 17:33:13  product_page      NaN\n",
      "340841  66E9B5406AEA0D12  2020-12-19 14:44:42         login      NaN\n",
      "272442  D0B1591C4F8D707E  2020-12-12 21:13:33         login      NaN\n",
      "376888  14EFA5CD1A447BD9  2020-12-22 15:27:47         login      NaN\n",
      "262648  A3CCE3DC001FA931  2020-12-10 06:19:44         login      NaN\n",
      "\n",
      "hay NA?:\n",
      "user_id            0\n",
      "event_dt           0\n",
      "event_name         0\n",
      "details       363447\n",
      "dtype: int64\n",
      "\n",
      "Duplicados:\n",
      "0\n"
     ]
    }
   ],
   "source": [
    "events = pd.read_csv('datasets/final_ab_events_upd_us.csv')\n",
    "looks(events)"
   ]
  },
  {
   "cell_type": "code",
   "execution_count": 15,
   "metadata": {},
   "outputs": [
    {
     "name": "stdout",
     "output_type": "stream",
     "text": [
      "Se ejecuta la descripción de los datos:\n",
      "                 user_id  group            ab_test\n",
      "count              14525  14525              14525\n",
      "unique             13638      2                  2\n",
      "top     FABB6D49B11E673F      A  interface_eu_test\n",
      "freq                   2   8214              10850\n",
      "\n",
      "se hace exploración con método info:\n",
      "<class 'pandas.core.frame.DataFrame'>\n",
      "RangeIndex: 14525 entries, 0 to 14524\n",
      "Data columns (total 3 columns):\n",
      " #   Column   Non-Null Count  Dtype \n",
      "---  ------   --------------  ----- \n",
      " 0   user_id  14525 non-null  object\n",
      " 1   group    14525 non-null  object\n",
      " 2   ab_test  14525 non-null  object\n",
      "dtypes: object(3)\n",
      "memory usage: 340.6+ KB\n",
      "None\n",
      "\n",
      "se hace una observación con el método Sample:\n",
      "                user_id group                  ab_test\n",
      "14086  18BAF1836D9FC913     B        interface_eu_test\n",
      "6402   4FD9BF4AD933388C     B        interface_eu_test\n",
      "4219   F56DD804E0DA1FFD     A        interface_eu_test\n",
      "1267   971F376FA64BA110     A  recommender_system_test\n",
      "1874   20155135A98368DA     A  recommender_system_test\n",
      "4778   27802765D2458B2B     B        interface_eu_test\n",
      "3241   6B4FA9A39FC379E8     A  recommender_system_test\n",
      "6582   BE2E7FE6B18B9CD1     A        interface_eu_test\n",
      "11636  19D295A8E769CFA1     A        interface_eu_test\n",
      "12258  65D31EDB8EF83DBE     B        interface_eu_test\n",
      "\n",
      "hay NA?:\n",
      "user_id    0\n",
      "group      0\n",
      "ab_test    0\n",
      "dtype: int64\n",
      "\n",
      "Duplicados:\n",
      "0\n"
     ]
    }
   ],
   "source": [
    "participants = pd.read_csv('datasets/final_ab_participants_upd_us.csv')\n",
    "looks(participants)"
   ]
  },
  {
   "cell_type": "markdown",
   "metadata": {},
   "source": [
    "### No se encuentras particulatidades especiales para los datos "
   ]
  },
  {
   "cell_type": "code",
   "execution_count": 16,
   "metadata": {},
   "outputs": [],
   "source": [
    "#Se convierten a fechas las columnas correspondientes\n",
    "new_users['first_date'] = pd.to_datetime(new_users['first_date'])\n",
    "events['event_dt'] = pd.to_datetime(events['event_dt'], errors='coerce')\n",
    "marketing_events['start_dt'] = pd.to_datetime(marketing_events['start_dt'])\n",
    "marketing_events['finish_dt'] = pd.to_datetime(marketing_events['finish_dt'])"
   ]
  },
  {
   "cell_type": "code",
   "execution_count": 17,
   "metadata": {
    "vscode": {
     "languageId": "ruby"
    }
   },
   "outputs": [
    {
     "name": "stdout",
     "output_type": "stream",
     "text": [
      "Conversión en las diferentes etapas del embudo:\n",
      "     event_name   count  percentage\n",
      "0         login  182465   43.058469\n",
      "1  product_cart   60120   14.187242\n",
      "2  product_page  120862   28.521266\n",
      "3      purchase   60314   14.233023\n",
      "\n",
      "Distribución del número de eventos por usuario en cada muestra:\n",
      "        count     mean       std  min  25%  50%  75%   max\n",
      "group                                                     \n",
      "A      7874.0  7.45555  4.475159  1.0  4.0  6.0  9.0  40.0\n",
      "B      6205.0  7.11249  4.246201  1.0  4.0  6.0  9.0  36.0\n",
      "\n",
      "Número de usuarios presentes en ambas muestras: 441\n",
      "\n",
      "Distribución del número de eventos entre los días:\n",
      "event_date\n",
      "2020-12-07    11385\n",
      "2020-12-08    12547\n",
      "2020-12-09    12122\n",
      "2020-12-10    14077\n",
      "2020-12-11    13864\n",
      "2020-12-12    17634\n",
      "2020-12-13    20985\n",
      "2020-12-14    26184\n",
      "2020-12-15    23469\n",
      "2020-12-16    20909\n",
      "2020-12-17    21751\n",
      "2020-12-18    22871\n",
      "2020-12-19    24273\n",
      "2020-12-20    26425\n",
      "2020-12-21    32559\n",
      "2020-12-22    29472\n",
      "2020-12-23    26108\n",
      "2020-12-24    19399\n",
      "2020-12-26    14058\n",
      "2020-12-27    12420\n",
      "2020-12-28    11014\n",
      "2020-12-29    10146\n",
      "2020-12-30       89\n",
      "dtype: int64\n",
      "\n",
      "Peculiaridades en los datos:\n",
      "Eventos con valores nulos:\n",
      "user_id            0\n",
      "event_dt           0\n",
      "event_name         0\n",
      "details       363447\n",
      "event_date         0\n",
      "dtype: int64\n",
      "\n",
      "Usuarios duplicados en participants:\n",
      "887\n"
     ]
    }
   ],
   "source": [
    "\n",
    "# Calcular la conversión en las diferentes etapas del embudo\n",
    "funnel = events.groupby('event_name').size().reset_index(name='count')\n",
    "funnel['percentage'] = (funnel['count'] / funnel['count'].sum()) * 100\n",
    "print(\"Conversión en las diferentes etapas del embudo:\")\n",
    "print(funnel)\n",
    "\n",
    "# Crear el DataFrame events_with_groups combinando events y participants\n",
    "events_with_groups = events.merge(participants, on='user_id', how='inner')\n",
    "\n",
    "# Número de eventos por usuario en cada muestra\n",
    "events_per_user = events_with_groups.groupby(['user_id', 'group']).size().reset_index(name='event_count')\n",
    "print(\"\\nDistribución del número de eventos por usuario en cada muestra:\")\n",
    "print(events_per_user.groupby('group')['event_count'].describe())\n",
    "\n",
    "# Verificar si hay usuarios presentes en ambas muestras\n",
    "users_in_both_groups = participants.groupby('user_id')['group'].nunique().reset_index()\n",
    "users_in_both_groups = users_in_both_groups[users_in_both_groups['group'] > 1]\n",
    "print(f\"\\nNúmero de usuarios presentes en ambas muestras: {len(users_in_both_groups)}\")\n",
    "\n",
    "# Distribución del número de eventos entre los días\n",
    "events['event_date'] = events['event_dt'].dt.date\n",
    "events_per_day = events.groupby('event_date').size()\n",
    "print(\"\\nDistribución del número de eventos entre los días:\")\n",
    "print(events_per_day)\n",
    "\n",
    "# Peculiaridades en los datos\n",
    "print(\"\\nPeculiaridades en los datos:\")\n",
    "print(\"Eventos con valores nulos:\")\n",
    "print(events.isna().sum())\n",
    "print(\"\\nUsuarios duplicados en participants:\")\n",
    "print(participants.duplicated(subset='user_id').sum())"
   ]
  },
  {
   "cell_type": "markdown",
   "metadata": {},
   "source": []
  },
  {
   "cell_type": "markdown",
   "metadata": {},
   "source": [
    "### Se encuentra que existen pocos eventos con valores nulos, y que hay ID duplicados esto producto que cada usuario tiene mas de un evento."
   ]
  },
  {
   "cell_type": "code",
   "execution_count": 19,
   "metadata": {},
   "outputs": [
    {
     "name": "stdout",
     "output_type": "stream",
     "text": [
      "Proporción de conversión en el grupo A: 100.00%\n",
      "Proporción de conversión en el grupo B: 100.00%\n",
      "\n",
      "Resultados de la prueba z:\n",
      "Estadístico z: nan\n",
      "Valor p: nan\n",
      "\n",
      "Conclusión: No hay una diferencia estadísticamente significativa entre las proporciones de conversión de los grupos A y B.\n"
     ]
    },
    {
     "name": "stderr",
     "output_type": "stream",
     "text": [
      "c:\\Users\\Branchbit Reclu\\miniconda3\\envs\\TT\\Lib\\site-packages\\statsmodels\\stats\\weightstats.py:792: RuntimeWarning: invalid value encountered in scalar divide\n",
      "  zstat = value / std\n"
     ]
    }
   ],
   "source": [
    "from statsmodels.stats.proportion import proportions_ztest\n",
    "\n",
    "# Calcular conversiones por grupo\n",
    "conversiones = events_with_groups.groupby('group')['user_id'].nunique()\n",
    "usuarios_totales = participants.groupby('group')['user_id'].nunique()\n",
    "\n",
    "# Conversiones y usuarios totales por grupo\n",
    "conversiones_A = conversiones['A']\n",
    "conversiones_B = conversiones['B']\n",
    "usuarios_A = usuarios_totales['A']\n",
    "usuarios_B = usuarios_totales['B']\n",
    "\n",
    "# Proporciones de conversión\n",
    "proporcion_A = conversiones_A / usuarios_A\n",
    "proporcion_B = conversiones_B / usuarios_B\n",
    "\n",
    "print(f\"Proporción de conversión en el grupo A: {proporcion_A:.2%}\")\n",
    "print(f\"Proporción de conversión en el grupo B: {proporcion_B:.2%}\")\n",
    "\n",
    "# Prueba z para comparar proporciones\n",
    "conversiones = [conversiones_A, conversiones_B]\n",
    "usuarios = [usuarios_A, usuarios_B]\n",
    "stat, p_value = proportions_ztest(conversiones, usuarios)\n",
    "\n",
    "print(\"\\nResultados de la prueba z:\")\n",
    "print(f\"Estadístico z: {stat:.2f}\")\n",
    "print(f\"Valor p: {p_value:.4f}\")\n",
    "\n",
    "# Conclusiones\n",
    "if p_value < 0.05:\n",
    "    print(\"\\nConclusión: Hay una diferencia estadísticamente significativa entre las proporciones de conversión de los grupos A y B.\")\n",
    "else:\n",
    "    print(\"\\nConclusión: No hay una diferencia estadísticamente significativa entre las proporciones de conversión de los grupos A y B.\")"
   ]
  },
  {
   "cell_type": "markdown",
   "metadata": {},
   "source": [
    "### Al no existir una diferencia entre los grupos, se sugiere replantear la estrategia de marketing empleada y buscar alternativas que puedan tener mayor efecto en los resultados "
   ]
  }
 ],
 "metadata": {
  "kernelspec": {
   "display_name": "TT",
   "language": "python",
   "name": "python3"
  },
  "language_info": {
   "codemirror_mode": {
    "name": "ipython",
    "version": 3
   },
   "file_extension": ".py",
   "mimetype": "text/x-python",
   "name": "python",
   "nbconvert_exporter": "python",
   "pygments_lexer": "ipython3",
   "version": "3.13.2"
  }
 },
 "nbformat": 4,
 "nbformat_minor": 2
}
