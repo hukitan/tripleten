{
 "cells": [
  {
   "cell_type": "markdown",
   "metadata": {},
   "source": [
    "# Proyecto Final\n",
    "\n",
    "#### Descompocion de la tarea.\n",
    "El objetivo de este proyecto es: \n",
    "- Llevar a cabo el análisis exploratorio de datos\n",
    "- Identificar operadores ineficaces\n",
    "  - Esto con la finalidad de poder optimizar las decisiones empresariales y poder aumentar la rentabilidad y valor de la misma.\n",
    "- Prueba las hipótesis estadísticas\n",
    "  - a reserva que el area interesada tenga necesidades de informacion particulares se sugieren las siguientes hipotesis y analisis\n",
    "    - Hay una mayor cantidad de llamadas internas que externas.\n",
    "    - La mayoria de las llamadas se conectaron (es decir no son llamadas perdidas)\n",
    "    - Las llamadas internas tienen una duracion mayor con respecto a las externas\n",
    "\n",
    "\n",
    "Esto utilizando dos datasets sobre el uso del servicio de telefonía virtual CallMeMaybe.\n",
    "\n",
    "Estos data sets son:\n",
    "\n",
    "El dataset comprimido `telecom_dataset_us.csv` contiene las siguientes columnas:\n",
    "\n",
    "- `user_id`: ID de la cuenta de cliente\n",
    "- `date`: fecha en la que se recuperaron las estadísticas\n",
    "- `direction`: \"dirección\" de llamada (`out` para saliente, `in` para entrante)\n",
    "- `internal`: si la llamada fue interna (entre los operadores de un cliente o clienta)\n",
    "- `operator_id`: identificador del operador\n",
    "- `is_missed_call`: si fue una llamada perdida\n",
    "- `calls_count`: número de llamadas\n",
    "- `call_duration`: duración de la llamada (sin incluir el tiempo de espera)\n",
    "- `total_call_duration`: duración de la llamada (incluido el tiempo de espera)\n",
    "\n",
    " \n",
    "\n",
    "El conjunto de datos `telecom_clients_us.csv` tiene las siguientes columnas:\n",
    "\n",
    "- `user_id`: ID de usuario/a\n",
    "- `tariff_plan`: tarifa actual de la clientela\n",
    "- `date_start`: fecha de registro de la clientela"
   ]
  },
  {
   "cell_type": "markdown",
   "metadata": {},
   "source": [
    "### Links de extras\n",
    "\n",
    "- Se Generaron los Dashboars sugeridos en tableau:  https://public.tableau.com/views/ProyectoFinal_17433787005810/Dashboard1\n",
    "- Link del PDF: https://github.com/hukitan/tripleten/blob/d059240a0bc1f0f4fa8a2b74007ea85361474750/Proyectos_en_desarrollo/Proyecto%20Final/proyecto%20final.pdf\n",
    "  (no se si haya problema porque el pdf este en github)"
   ]
  },
  {
   "cell_type": "code",
   "execution_count": 55,
   "metadata": {},
   "outputs": [],
   "source": [
    "import pandas as pd\n",
    "import numpy as np\n",
    "import matplotlib.pyplot as plt\n",
    "import seaborn as sns\n",
    "\n",
    "\n",
    "\n",
    "def looks(datos):\n",
    "    \"\"\"Genera un análisis de todo el set de datos de manera global\"\"\"\n",
    "\n",
    "    print(\"Se ejecuta la descripción de los datos:\")\n",
    "    print(datos.describe(include=\"all\"))\n",
    "    print()\n",
    "    print(\"se hace exploración con método info:\")\n",
    "    print(datos.info())\n",
    "    print()\n",
    "    print(\"se hace una observación con el método Sample:\")\n",
    "    if len(datos) > 10:\n",
    "        print(datos.sample(10))\n",
    "    else:\n",
    "        print(datos)\n",
    "    print()\n",
    "    print(\"hay NA?:\")\n",
    "    print(datos.isna().sum())\n",
    "    print()\n",
    "    print(\"Duplicados:\")\n",
    "    print(datos.duplicated().sum())"
   ]
  },
  {
   "cell_type": "code",
   "execution_count": 56,
   "metadata": {},
   "outputs": [
    {
     "name": "stdout",
     "output_type": "stream",
     "text": [
      "Se ejecuta la descripción de los datos:\n",
      "              user_id                                 date direction internal  \\\n",
      "count    53902.000000                                53902     53902    53785   \n",
      "unique            NaN                                  NaN         2        2   \n",
      "top               NaN                                  NaN       out    False   \n",
      "freq              NaN                                  NaN     31917    47621   \n",
      "mean    167295.344477  2019-10-23 01:00:32.191755520+03:00       NaN      NaN   \n",
      "min     166377.000000            2019-08-02 00:00:00+03:00       NaN      NaN   \n",
      "25%     166782.000000            2019-10-04 00:00:00+03:00       NaN      NaN   \n",
      "50%     167162.000000            2019-10-28 00:00:00+03:00       NaN      NaN   \n",
      "75%     167819.000000            2019-11-14 00:00:00+03:00       NaN      NaN   \n",
      "max     168606.000000            2019-11-28 00:00:00+03:00       NaN      NaN   \n",
      "std        598.883775                                  NaN       NaN      NaN   \n",
      "\n",
      "          operator_id is_missed_call   calls_count  call_duration  \\\n",
      "count    45730.000000          53902  53902.000000   53902.000000   \n",
      "unique            NaN              2           NaN            NaN   \n",
      "top               NaN          False           NaN            NaN   \n",
      "freq              NaN          30334           NaN            NaN   \n",
      "mean    916535.993002            NaN     16.451245     866.684427   \n",
      "min     879896.000000            NaN      1.000000       0.000000   \n",
      "25%     900788.000000            NaN      1.000000       0.000000   \n",
      "50%     913938.000000            NaN      4.000000      38.000000   \n",
      "75%     937708.000000            NaN     12.000000     572.000000   \n",
      "max     973286.000000            NaN   4817.000000  144395.000000   \n",
      "std      21254.123136            NaN     62.917170    3731.791202   \n",
      "\n",
      "        total_call_duration  \n",
      "count          53902.000000  \n",
      "unique                  NaN  \n",
      "top                     NaN  \n",
      "freq                    NaN  \n",
      "mean            1157.133297  \n",
      "min                0.000000  \n",
      "25%               47.000000  \n",
      "50%              210.000000  \n",
      "75%              902.000000  \n",
      "max           166155.000000  \n",
      "std             4403.468763  \n",
      "\n",
      "se hace exploración con método info:\n",
      "<class 'pandas.core.frame.DataFrame'>\n",
      "RangeIndex: 53902 entries, 0 to 53901\n",
      "Data columns (total 9 columns):\n",
      " #   Column               Non-Null Count  Dtype                    \n",
      "---  ------               --------------  -----                    \n",
      " 0   user_id              53902 non-null  int64                    \n",
      " 1   date                 53902 non-null  datetime64[ns, UTC+03:00]\n",
      " 2   direction            53902 non-null  object                   \n",
      " 3   internal             53785 non-null  object                   \n",
      " 4   operator_id          45730 non-null  float64                  \n",
      " 5   is_missed_call       53902 non-null  bool                     \n",
      " 6   calls_count          53902 non-null  int64                    \n",
      " 7   call_duration        53902 non-null  int64                    \n",
      " 8   total_call_duration  53902 non-null  int64                    \n",
      "dtypes: bool(1), datetime64[ns, UTC+03:00](1), float64(1), int64(4), object(2)\n",
      "memory usage: 3.3+ MB\n",
      "None\n",
      "\n",
      "se hace una observación con el método Sample:\n",
      "       user_id                      date direction internal  operator_id  \\\n",
      "39852   167756 2019-11-13 00:00:00+03:00        in    False          NaN   \n",
      "14204   166833 2019-10-21 00:00:00+03:00        in    False     903254.0   \n",
      "8378    166658 2019-09-11 00:00:00+03:00        in    False          NaN   \n",
      "22544   167060 2019-11-22 00:00:00+03:00       out    False     930914.0   \n",
      "5977    166536 2019-11-07 00:00:00+03:00       out    False     925826.0   \n",
      "26787   167150 2019-11-28 00:00:00+03:00       out     True     905566.0   \n",
      "41450   167870 2019-10-28 00:00:00+03:00        in    False          NaN   \n",
      "23438   167082 2019-10-03 00:00:00+03:00        in    False     900790.0   \n",
      "36983   167626 2019-10-05 00:00:00+03:00       out    False     919382.0   \n",
      "2365    166407 2019-10-04 00:00:00+03:00       out    False     907440.0   \n",
      "\n",
      "       is_missed_call  calls_count  call_duration  total_call_duration  \n",
      "39852            True            3              0                   21  \n",
      "14204           False            2             97                  130  \n",
      "8378             True            6              0                   41  \n",
      "22544           False            5            162                  241  \n",
      "5977            False            9            490                  616  \n",
      "26787           False            8            589                  656  \n",
      "41450            True            2              0                  101  \n",
      "23438           False            1              1                   16  \n",
      "36983            True           77              0                 1518  \n",
      "2365            False            1            163                  169  \n",
      "\n",
      "hay NA?:\n",
      "user_id                   0\n",
      "date                      0\n",
      "direction                 0\n",
      "internal                117\n",
      "operator_id            8172\n",
      "is_missed_call            0\n",
      "calls_count               0\n",
      "call_duration             0\n",
      "total_call_duration       0\n",
      "dtype: int64\n",
      "\n",
      "Duplicados:\n",
      "4900\n"
     ]
    }
   ],
   "source": [
    "telco_ds = pd.read_csv('Datasets/telecom_dataset_us.csv')\n",
    "telco_ds['date'] = pd.to_datetime(telco_ds['date'])\n",
    "looks(telco_ds)"
   ]
  },
  {
   "cell_type": "code",
   "execution_count": 57,
   "metadata": {},
   "outputs": [
    {
     "data": {
      "application/vnd.microsoft.datawrangler.viewer.v0+json": {
       "columns": [
        {
         "name": "index",
         "rawType": "int64",
         "type": "integer"
        },
        {
         "name": "user_id",
         "rawType": "int64",
         "type": "integer"
        },
        {
         "name": "date",
         "rawType": "datetime64[ns, UTC+03:00]",
         "type": "unknown"
        },
        {
         "name": "direction",
         "rawType": "object",
         "type": "string"
        },
        {
         "name": "internal",
         "rawType": "object",
         "type": "unknown"
        },
        {
         "name": "operator_id",
         "rawType": "float64",
         "type": "float"
        },
        {
         "name": "is_missed_call",
         "rawType": "bool",
         "type": "boolean"
        },
        {
         "name": "calls_count",
         "rawType": "int64",
         "type": "integer"
        },
        {
         "name": "call_duration",
         "rawType": "int64",
         "type": "integer"
        },
        {
         "name": "total_call_duration",
         "rawType": "int64",
         "type": "integer"
        }
       ],
       "conversionMethod": "pd.DataFrame",
       "ref": "4462d4bb-86eb-45a3-9a78-2175c7cdba20",
       "rows": [
        [
         "8",
         "166377",
         "2019-08-05 00:00:00+03:00",
         "out",
         "False",
         "880020.0",
         "True",
         "8",
         "0",
         "50"
        ],
        [
         "28",
         "166377",
         "2019-08-12 00:00:00+03:00",
         "in",
         "False",
         null,
         "True",
         "2",
         "0",
         "34"
        ],
        [
         "44",
         "166377",
         "2019-08-14 00:00:00+03:00",
         "out",
         "False",
         "880026.0",
         "False",
         "10",
         "1567",
         "1654"
        ],
        [
         "45",
         "166377",
         "2019-08-14 00:00:00+03:00",
         "in",
         "False",
         null,
         "True",
         "1",
         "0",
         "3"
        ],
        [
         "51",
         "166377",
         "2019-08-15 00:00:00+03:00",
         "out",
         "False",
         "880026.0",
         "False",
         "11",
         "1413",
         "1473"
        ],
        [
         "62",
         "166377",
         "2019-08-19 00:00:00+03:00",
         "out",
         "False",
         "880026.0",
         "False",
         "14",
         "1519",
         "1598"
        ],
        [
         "78",
         "166377",
         "2019-08-22 00:00:00+03:00",
         "out",
         "False",
         "880026.0",
         "True",
         "6",
         "0",
         "55"
        ],
        [
         "86",
         "166377",
         "2019-08-23 00:00:00+03:00",
         "out",
         "False",
         "880026.0",
         "False",
         "43",
         "3435",
         "3654"
        ],
        [
         "87",
         "166377",
         "2019-08-23 00:00:00+03:00",
         "in",
         "False",
         "880026.0",
         "False",
         "1",
         "45",
         "52"
        ],
        [
         "100",
         "166377",
         "2019-08-27 00:00:00+03:00",
         "out",
         "False",
         "880028.0",
         "False",
         "20",
         "2784",
         "2979"
        ],
        [
         "111",
         "166377",
         "2019-08-29 00:00:00+03:00",
         "out",
         "False",
         "880028.0",
         "False",
         "25",
         "2323",
         "2595"
        ],
        [
         "131",
         "166377",
         "2019-09-03 00:00:00+03:00",
         "out",
         "False",
         "880028.0",
         "True",
         "18",
         "0",
         "416"
        ],
        [
         "151",
         "166377",
         "2019-09-05 00:00:00+03:00",
         "out",
         "False",
         "880022.0",
         "False",
         "6",
         "746",
         "760"
        ],
        [
         "176",
         "166377",
         "2019-09-10 00:00:00+03:00",
         "out",
         "False",
         "880022.0",
         "True",
         "1",
         "0",
         "54"
        ],
        [
         "186",
         "166377",
         "2019-09-11 00:00:00+03:00",
         "out",
         "False",
         "880028.0",
         "True",
         "6",
         "0",
         "144"
        ],
        [
         "187",
         "166377",
         "2019-09-11 00:00:00+03:00",
         "out",
         "False",
         "880022.0",
         "True",
         "3",
         "0",
         "92"
        ],
        [
         "197",
         "166377",
         "2019-09-12 00:00:00+03:00",
         "in",
         "False",
         "880020.0",
         "False",
         "1",
         "45",
         "49"
        ],
        [
         "198",
         "166377",
         "2019-09-12 00:00:00+03:00",
         "out",
         "False",
         "880028.0",
         "False",
         "16",
         "1030",
         "1161"
        ],
        [
         "212",
         "166377",
         "2019-09-16 00:00:00+03:00",
         "out",
         "False",
         "880026.0",
         "True",
         "7",
         "0",
         "99"
        ],
        [
         "250",
         "166377",
         "2019-09-23 00:00:00+03:00",
         "out",
         "False",
         "880026.0",
         "False",
         "21",
         "2375",
         "2485"
        ],
        [
         "265",
         "166377",
         "2019-09-25 00:00:00+03:00",
         "out",
         "False",
         "880022.0",
         "True",
         "8",
         "0",
         "423"
        ],
        [
         "266",
         "166377",
         "2019-09-25 00:00:00+03:00",
         "out",
         "False",
         "880026.0",
         "True",
         "6",
         "0",
         "50"
        ],
        [
         "273",
         "166377",
         "2019-09-26 00:00:00+03:00",
         "out",
         "False",
         "880022.0",
         "False",
         "3",
         "2411",
         "2419"
        ],
        [
         "281",
         "166377",
         "2019-09-27 00:00:00+03:00",
         "out",
         "False",
         "880028.0",
         "False",
         "19",
         "921",
         "1171"
        ],
        [
         "303",
         "166377",
         "2019-10-03 00:00:00+03:00",
         "out",
         "False",
         "880028.0",
         "True",
         "24",
         "0",
         "680"
        ],
        [
         "304",
         "166377",
         "2019-10-03 00:00:00+03:00",
         "out",
         "False",
         "880026.0",
         "True",
         "1",
         "0",
         "23"
        ],
        [
         "310",
         "166377",
         "2019-10-04 00:00:00+03:00",
         "out",
         "True",
         "880026.0",
         "True",
         "1",
         "0",
         "0"
        ],
        [
         "324",
         "166377",
         "2019-10-08 00:00:00+03:00",
         "out",
         "False",
         "880028.0",
         "False",
         "18",
         "2470",
         "2570"
        ],
        [
         "335",
         "166377",
         "2019-10-10 00:00:00+03:00",
         "in",
         "False",
         null,
         "True",
         "4",
         "0",
         "32"
        ],
        [
         "343",
         "166377",
         "2019-10-11 00:00:00+03:00",
         "in",
         "False",
         "880028.0",
         "False",
         "1",
         "220",
         "223"
        ],
        [
         "344",
         "166377",
         "2019-10-11 00:00:00+03:00",
         "out",
         "False",
         "880028.0",
         "False",
         "32",
         "2835",
         "3100"
        ],
        [
         "349",
         "166377",
         "2019-10-14 00:00:00+03:00",
         "out",
         "False",
         "880028.0",
         "True",
         "18",
         "0",
         "692"
        ],
        [
         "373",
         "166377",
         "2019-10-18 00:00:00+03:00",
         "out",
         "False",
         "880028.0",
         "False",
         "20",
         "1693",
         "1889"
        ],
        [
         "391",
         "166377",
         "2019-10-22 00:00:00+03:00",
         "out",
         "False",
         "880022.0",
         "True",
         "1",
         "0",
         "6"
        ],
        [
         "392",
         "166377",
         "2019-10-22 00:00:00+03:00",
         "out",
         "True",
         "880028.0",
         "False",
         "1",
         "2",
         "4"
        ],
        [
         "399",
         "166377",
         "2019-10-23 00:00:00+03:00",
         "out",
         "False",
         "880028.0",
         "True",
         "10",
         "0",
         "194"
        ],
        [
         "400",
         "166377",
         "2019-10-23 00:00:00+03:00",
         "out",
         "False",
         "880026.0",
         "True",
         "11",
         "0",
         "298"
        ],
        [
         "417",
         "166377",
         "2019-10-28 00:00:00+03:00",
         "in",
         "False",
         null,
         "True",
         "2",
         "0",
         "0"
        ],
        [
         "418",
         "166377",
         "2019-10-28 00:00:00+03:00",
         "out",
         "False",
         "880028.0",
         "True",
         "9",
         "0",
         "181"
        ],
        [
         "425",
         "166377",
         "2019-10-29 00:00:00+03:00",
         "out",
         "False",
         "880026.0",
         "False",
         "25",
         "2339",
         "2563"
        ],
        [
         "437",
         "166377",
         "2019-10-31 00:00:00+03:00",
         "out",
         "False",
         "880026.0",
         "False",
         "17",
         "2176",
         "2349"
        ],
        [
         "443",
         "166377",
         "2019-11-01 00:00:00+03:00",
         "in",
         "False",
         "880028.0",
         "False",
         "3",
         "134",
         "156"
        ],
        [
         "451",
         "166377",
         "2019-11-05 00:00:00+03:00",
         "out",
         "False",
         "880028.0",
         "False",
         "24",
         "3034",
         "3204"
        ],
        [
         "452",
         "166377",
         "2019-11-05 00:00:00+03:00",
         "out",
         "False",
         "880026.0",
         "False",
         "17",
         "1479",
         "1557"
        ],
        [
         "488",
         "166377",
         "2019-11-12 00:00:00+03:00",
         "in",
         "False",
         "880028.0",
         "False",
         "2",
         "174",
         "188"
        ],
        [
         "489",
         "166377",
         "2019-11-12 00:00:00+03:00",
         "out",
         "False",
         "880028.0",
         "False",
         "32",
         "2657",
         "2951"
        ],
        [
         "495",
         "166377",
         "2019-11-13 00:00:00+03:00",
         "out",
         "False",
         "880028.0",
         "True",
         "7",
         "0",
         "180"
        ],
        [
         "524",
         "166377",
         "2019-11-20 00:00:00+03:00",
         "out",
         "False",
         "880026.0",
         "True",
         "16",
         "0",
         "230"
        ],
        [
         "531",
         "166377",
         "2019-11-21 00:00:00+03:00",
         "out",
         "False",
         "880028.0",
         "True",
         "17",
         "0",
         "427"
        ],
        [
         "539",
         "166377",
         "2019-11-22 00:00:00+03:00",
         "out",
         "False",
         "880028.0",
         "True",
         "8",
         "0",
         "186"
        ]
       ],
       "shape": {
        "columns": 9,
        "rows": 4900
       }
      },
      "text/html": [
       "<div>\n",
       "<style scoped>\n",
       "    .dataframe tbody tr th:only-of-type {\n",
       "        vertical-align: middle;\n",
       "    }\n",
       "\n",
       "    .dataframe tbody tr th {\n",
       "        vertical-align: top;\n",
       "    }\n",
       "\n",
       "    .dataframe thead th {\n",
       "        text-align: right;\n",
       "    }\n",
       "</style>\n",
       "<table border=\"1\" class=\"dataframe\">\n",
       "  <thead>\n",
       "    <tr style=\"text-align: right;\">\n",
       "      <th></th>\n",
       "      <th>user_id</th>\n",
       "      <th>date</th>\n",
       "      <th>direction</th>\n",
       "      <th>internal</th>\n",
       "      <th>operator_id</th>\n",
       "      <th>is_missed_call</th>\n",
       "      <th>calls_count</th>\n",
       "      <th>call_duration</th>\n",
       "      <th>total_call_duration</th>\n",
       "    </tr>\n",
       "  </thead>\n",
       "  <tbody>\n",
       "    <tr>\n",
       "      <th>8</th>\n",
       "      <td>166377</td>\n",
       "      <td>2019-08-05 00:00:00+03:00</td>\n",
       "      <td>out</td>\n",
       "      <td>False</td>\n",
       "      <td>880020.0</td>\n",
       "      <td>True</td>\n",
       "      <td>8</td>\n",
       "      <td>0</td>\n",
       "      <td>50</td>\n",
       "    </tr>\n",
       "    <tr>\n",
       "      <th>28</th>\n",
       "      <td>166377</td>\n",
       "      <td>2019-08-12 00:00:00+03:00</td>\n",
       "      <td>in</td>\n",
       "      <td>False</td>\n",
       "      <td>NaN</td>\n",
       "      <td>True</td>\n",
       "      <td>2</td>\n",
       "      <td>0</td>\n",
       "      <td>34</td>\n",
       "    </tr>\n",
       "    <tr>\n",
       "      <th>44</th>\n",
       "      <td>166377</td>\n",
       "      <td>2019-08-14 00:00:00+03:00</td>\n",
       "      <td>out</td>\n",
       "      <td>False</td>\n",
       "      <td>880026.0</td>\n",
       "      <td>False</td>\n",
       "      <td>10</td>\n",
       "      <td>1567</td>\n",
       "      <td>1654</td>\n",
       "    </tr>\n",
       "    <tr>\n",
       "      <th>45</th>\n",
       "      <td>166377</td>\n",
       "      <td>2019-08-14 00:00:00+03:00</td>\n",
       "      <td>in</td>\n",
       "      <td>False</td>\n",
       "      <td>NaN</td>\n",
       "      <td>True</td>\n",
       "      <td>1</td>\n",
       "      <td>0</td>\n",
       "      <td>3</td>\n",
       "    </tr>\n",
       "    <tr>\n",
       "      <th>51</th>\n",
       "      <td>166377</td>\n",
       "      <td>2019-08-15 00:00:00+03:00</td>\n",
       "      <td>out</td>\n",
       "      <td>False</td>\n",
       "      <td>880026.0</td>\n",
       "      <td>False</td>\n",
       "      <td>11</td>\n",
       "      <td>1413</td>\n",
       "      <td>1473</td>\n",
       "    </tr>\n",
       "    <tr>\n",
       "      <th>...</th>\n",
       "      <td>...</td>\n",
       "      <td>...</td>\n",
       "      <td>...</td>\n",
       "      <td>...</td>\n",
       "      <td>...</td>\n",
       "      <td>...</td>\n",
       "      <td>...</td>\n",
       "      <td>...</td>\n",
       "      <td>...</td>\n",
       "    </tr>\n",
       "    <tr>\n",
       "      <th>53869</th>\n",
       "      <td>168601</td>\n",
       "      <td>2019-11-25 00:00:00+03:00</td>\n",
       "      <td>in</td>\n",
       "      <td>False</td>\n",
       "      <td>952914.0</td>\n",
       "      <td>False</td>\n",
       "      <td>7</td>\n",
       "      <td>1229</td>\n",
       "      <td>1282</td>\n",
       "    </tr>\n",
       "    <tr>\n",
       "      <th>53874</th>\n",
       "      <td>168601</td>\n",
       "      <td>2019-11-26 00:00:00+03:00</td>\n",
       "      <td>in</td>\n",
       "      <td>False</td>\n",
       "      <td>952914.0</td>\n",
       "      <td>False</td>\n",
       "      <td>4</td>\n",
       "      <td>539</td>\n",
       "      <td>562</td>\n",
       "    </tr>\n",
       "    <tr>\n",
       "      <th>53875</th>\n",
       "      <td>168601</td>\n",
       "      <td>2019-11-26 00:00:00+03:00</td>\n",
       "      <td>in</td>\n",
       "      <td>False</td>\n",
       "      <td>NaN</td>\n",
       "      <td>True</td>\n",
       "      <td>3</td>\n",
       "      <td>0</td>\n",
       "      <td>35</td>\n",
       "    </tr>\n",
       "    <tr>\n",
       "      <th>53885</th>\n",
       "      <td>168603</td>\n",
       "      <td>2019-11-20 00:00:00+03:00</td>\n",
       "      <td>out</td>\n",
       "      <td>False</td>\n",
       "      <td>959118.0</td>\n",
       "      <td>True</td>\n",
       "      <td>3</td>\n",
       "      <td>0</td>\n",
       "      <td>89</td>\n",
       "    </tr>\n",
       "    <tr>\n",
       "      <th>53900</th>\n",
       "      <td>168606</td>\n",
       "      <td>2019-11-15 00:00:00+03:00</td>\n",
       "      <td>out</td>\n",
       "      <td>True</td>\n",
       "      <td>957922.0</td>\n",
       "      <td>False</td>\n",
       "      <td>4</td>\n",
       "      <td>3130</td>\n",
       "      <td>3190</td>\n",
       "    </tr>\n",
       "  </tbody>\n",
       "</table>\n",
       "<p>4900 rows × 9 columns</p>\n",
       "</div>"
      ],
      "text/plain": [
       "       user_id                      date direction internal  operator_id  \\\n",
       "8       166377 2019-08-05 00:00:00+03:00       out    False     880020.0   \n",
       "28      166377 2019-08-12 00:00:00+03:00        in    False          NaN   \n",
       "44      166377 2019-08-14 00:00:00+03:00       out    False     880026.0   \n",
       "45      166377 2019-08-14 00:00:00+03:00        in    False          NaN   \n",
       "51      166377 2019-08-15 00:00:00+03:00       out    False     880026.0   \n",
       "...        ...                       ...       ...      ...          ...   \n",
       "53869   168601 2019-11-25 00:00:00+03:00        in    False     952914.0   \n",
       "53874   168601 2019-11-26 00:00:00+03:00        in    False     952914.0   \n",
       "53875   168601 2019-11-26 00:00:00+03:00        in    False          NaN   \n",
       "53885   168603 2019-11-20 00:00:00+03:00       out    False     959118.0   \n",
       "53900   168606 2019-11-15 00:00:00+03:00       out     True     957922.0   \n",
       "\n",
       "       is_missed_call  calls_count  call_duration  total_call_duration  \n",
       "8                True            8              0                   50  \n",
       "28               True            2              0                   34  \n",
       "44              False           10           1567                 1654  \n",
       "45               True            1              0                    3  \n",
       "51              False           11           1413                 1473  \n",
       "...               ...          ...            ...                  ...  \n",
       "53869           False            7           1229                 1282  \n",
       "53874           False            4            539                  562  \n",
       "53875            True            3              0                   35  \n",
       "53885            True            3              0                   89  \n",
       "53900           False            4           3130                 3190  \n",
       "\n",
       "[4900 rows x 9 columns]"
      ]
     },
     "execution_count": 57,
     "metadata": {},
     "output_type": "execute_result"
    }
   ],
   "source": [
    "telco_ds[telco_ds.duplicated()]"
   ]
  },
  {
   "cell_type": "code",
   "execution_count": 58,
   "metadata": {},
   "outputs": [
    {
     "name": "stdout",
     "output_type": "stream",
     "text": [
      "Se ejecuta la descripción de los datos:\n",
      "              user_id tariff_plan                     date_start\n",
      "count      732.000000         732                            732\n",
      "unique            NaN           3                            NaN\n",
      "top               NaN           C                            NaN\n",
      "freq              NaN         395                            NaN\n",
      "mean    167431.927596         NaN  2019-09-14 16:39:20.655737600\n",
      "min     166373.000000         NaN            2019-08-01 00:00:00\n",
      "25%     166900.750000         NaN            2019-08-23 00:00:00\n",
      "50%     167432.000000         NaN            2019-09-16 00:00:00\n",
      "75%     167973.000000         NaN            2019-10-08 00:00:00\n",
      "max     168606.000000         NaN            2019-10-31 00:00:00\n",
      "std        633.810383         NaN                            NaN\n",
      "\n",
      "se hace exploración con método info:\n",
      "<class 'pandas.core.frame.DataFrame'>\n",
      "RangeIndex: 732 entries, 0 to 731\n",
      "Data columns (total 3 columns):\n",
      " #   Column       Non-Null Count  Dtype         \n",
      "---  ------       --------------  -----         \n",
      " 0   user_id      732 non-null    int64         \n",
      " 1   tariff_plan  732 non-null    object        \n",
      " 2   date_start   732 non-null    datetime64[ns]\n",
      "dtypes: datetime64[ns](1), int64(1), object(1)\n",
      "memory usage: 17.3+ KB\n",
      "None\n",
      "\n",
      "se hace una observación con el método Sample:\n",
      "     user_id tariff_plan date_start\n",
      "231   167798           C 2019-10-01\n",
      "69    166531           A 2019-08-07\n",
      "145   168175           C 2019-10-16\n",
      "461   167160           C 2019-09-04\n",
      "655   166658           B 2019-08-13\n",
      "262   167682           C 2019-09-25\n",
      "73    167118           A 2019-09-02\n",
      "356   166979           C 2019-08-27\n",
      "496   167419           B 2019-09-16\n",
      "198   167872           C 2019-10-03\n",
      "\n",
      "hay NA?:\n",
      "user_id        0\n",
      "tariff_plan    0\n",
      "date_start     0\n",
      "dtype: int64\n",
      "\n",
      "Duplicados:\n",
      "0\n"
     ]
    }
   ],
   "source": [
    "client_ds = pd.read_csv('Datasets/telecom_clients_us.csv')\n",
    "\n",
    "client_ds['date_start'] = pd.to_datetime(client_ds['date_start'])\n",
    "\n",
    "looks(client_ds)"
   ]
  },
  {
   "cell_type": "code",
   "execution_count": 59,
   "metadata": {},
   "outputs": [
    {
     "name": "stderr",
     "output_type": "stream",
     "text": [
      "/tmp/ipykernel_74297/3116805750.py:3: FutureWarning: Downcasting object dtype arrays on .fillna, .ffill, .bfill is deprecated and will change in a future version. Call result.infer_objects(copy=False) instead. To opt-in to the future behavior, set `pd.set_option('future.no_silent_downcasting', True)`\n",
      "  telco_ds[\"internal\"] = telco_ds[\"internal\"].fillna(False)\n"
     ]
    }
   ],
   "source": [
    "# Rellenar valores nulos\n",
    "# Asumimos que si no está marcado, no es interna\n",
    "telco_ds[\"internal\"] = telco_ds[\"internal\"].fillna(False)\n",
    "# Usamos -1 para representar operador desconocido\n",
    "telco_ds[\"operator_id\"] = telco_ds[\"operator_id\"].fillna(-1)\n",
    "# Convertir internal a booleano\n",
    "telco_ds[\"internal\"] = telco_ds[\"internal\"].astype(bool)\n",
    "#segundos a minutos \n",
    "telco_ds['call_duration_m'] = telco_ds['call_duration'] / 60\n",
    "# renombramos de bolenao a texto\n",
    "telco_ds['internal'] = telco_ds['internal'].replace(\n",
    "    {True: 'Interno', False: 'Externo'})"
   ]
  },
  {
   "cell_type": "markdown",
   "metadata": {},
   "source": [
    "#### No se encuentran particularidades relevantes en los datos, a pesar de de encontrar duplicados aparentemente hacen referencia a distintas llamadas. Por lo que se desestima como dato de relevancia.\n",
    "\n",
    "#### Se hacen las converciones y relleno de NA encontrados en telco_ds"
   ]
  },
  {
   "cell_type": "code",
   "execution_count": 60,
   "metadata": {},
   "outputs": [
    {
     "data": {
      "image/png": "[encoded data removed]",
      "text/plain": [
       "<Figure size 1000x500 with 1 Axes>"
      ]
     },
     "metadata": {},
     "output_type": "display_data"
    }
   ],
   "source": [
    "plt.figure(figsize=(10, 5))\n",
    "sns.histplot(telco_ds[telco_ds[\"call_duration_m\"] > 0][\"call_duration_m\"])\n",
    "# Para evitar sesgo visual\n",
    "plt.xlim(0, 60)\n",
    "plt.title(\"Distribución de la Duración de Llamadas\")\n",
    "plt.xlabel(\"Duración (Minutos)\")\n",
    "plt.ylabel(\"Frecuencia\")\n",
    "plt.show()"
   ]
  },
  {
   "cell_type": "markdown",
   "metadata": {},
   "source": [
    "#### Se observa que la mayoria de las llamadas tienen una duracion de aproximadamente menor a 10 minutos."
   ]
  },
  {
   "cell_type": "code",
   "execution_count": 61,
   "metadata": {},
   "outputs": [
    {
     "data": {
      "image/png": "[encoded data removed]",
      "text/plain": [
       "<Figure size 800x500 with 1 Axes>"
      ]
     },
     "metadata": {},
     "output_type": "display_data"
    }
   ],
   "source": [
    "plt.figure(figsize=(8, 5))\n",
    "sns.boxplot(x=telco_ds[\"internal\"],\n",
    "            y=telco_ds[telco_ds[\"call_duration_m\"] > 0][\"call_duration_m\"])\n",
    "plt.ylim(0, telco_ds[\"call_duration_m\"].quantile(0.99))\n",
    "plt.title(\"Duración de Llamadas: Internas vs Externas\")\n",
    "plt.xlabel(\"Tipo de llamada\")\n",
    "plt.ylabel(\"Duración (Minutos)\")\n",
    "plt.show()"
   ]
  },
  {
   "cell_type": "code",
   "execution_count": 62,
   "metadata": {},
   "outputs": [
    {
     "name": "stdout",
     "output_type": "stream",
     "text": [
      "T-statistic: -46.96548101210464, P-value: 0.0\n",
      "Existe una diferencia estadísticamente significativa.\n"
     ]
    }
   ],
   "source": [
    "from scipy.stats import ttest_ind\n",
    "\n",
    "internas = telco_ds[telco_ds[\"internal\"]\n",
    "                    == 'Interno'][\"call_duration\"]\n",
    "externas = telco_ds[telco_ds[\"internal\"]\n",
    "                    == 'Externo'][\"call_duration\"]\n",
    "\n",
    "# Prueba t de Student\n",
    "t_stat, p_value = ttest_ind(internas, externas, equal_var=False)\n",
    "print(f\"T-statistic: {t_stat}, P-value: {p_value}\")\n",
    "\n",
    "if p_value < 0.05:\n",
    "    print(\"Existe una diferencia estadísticamente significativa.\")\n",
    "else:\n",
    "    print(\"No hay una diferencia significativa.\")"
   ]
  },
  {
   "cell_type": "markdown",
   "metadata": {},
   "source": [
    "#### Con base en la grafica y corroborado en la prueba estadisitca confirmamos la hiptesis que las llamadas externas duran mas que las internas"
   ]
  },
  {
   "cell_type": "code",
   "execution_count": 63,
   "metadata": {},
   "outputs": [
    {
     "data": {
      "application/vnd.microsoft.datawrangler.viewer.v0+json": {
       "columns": [
        {
         "name": "operator_id",
         "rawType": "float64",
         "type": "float"
        },
        {
         "name": "total_llamadas",
         "rawType": "int64",
         "type": "integer"
        },
        {
         "name": "llamadas_perdidas",
         "rawType": "int64",
         "type": "integer"
        },
        {
         "name": "porcentaje_perdidas",
         "rawType": "float64",
         "type": "float"
        }
       ],
       "conversionMethod": "pd.DataFrame",
       "ref": "92f08140-d63c-407f-8dae-45db78863270",
       "rows": [
        [
         "941826.0",
         "1",
         "1",
         "100.0"
        ],
        [
         "937872.0",
         "1",
         "1",
         "100.0"
        ],
        [
         "885682.0",
         "3",
         "3",
         "100.0"
        ],
        [
         "914272.0",
         "1",
         "1",
         "100.0"
        ],
        [
         "970258.0",
         "1",
         "1",
         "100.0"
        ],
        [
         "924572.0",
         "1",
         "1",
         "100.0"
        ],
        [
         "914626.0",
         "1",
         "1",
         "100.0"
        ],
        [
         "937778.0",
         "1",
         "1",
         "100.0"
        ],
        [
         "958458.0",
         "1",
         "1",
         "100.0"
        ],
        [
         "937772.0",
         "1",
         "1",
         "100.0"
        ]
       ],
       "shape": {
        "columns": 3,
        "rows": 10
       }
      },
      "text/html": [
       "<div>\n",
       "<style scoped>\n",
       "    .dataframe tbody tr th:only-of-type {\n",
       "        vertical-align: middle;\n",
       "    }\n",
       "\n",
       "    .dataframe tbody tr th {\n",
       "        vertical-align: top;\n",
       "    }\n",
       "\n",
       "    .dataframe thead th {\n",
       "        text-align: right;\n",
       "    }\n",
       "</style>\n",
       "<table border=\"1\" class=\"dataframe\">\n",
       "  <thead>\n",
       "    <tr style=\"text-align: right;\">\n",
       "      <th></th>\n",
       "      <th>total_llamadas</th>\n",
       "      <th>llamadas_perdidas</th>\n",
       "      <th>porcentaje_perdidas</th>\n",
       "    </tr>\n",
       "    <tr>\n",
       "      <th>operator_id</th>\n",
       "      <th></th>\n",
       "      <th></th>\n",
       "      <th></th>\n",
       "    </tr>\n",
       "  </thead>\n",
       "  <tbody>\n",
       "    <tr>\n",
       "      <th>941826.0</th>\n",
       "      <td>1</td>\n",
       "      <td>1</td>\n",
       "      <td>100.0</td>\n",
       "    </tr>\n",
       "    <tr>\n",
       "      <th>937872.0</th>\n",
       "      <td>1</td>\n",
       "      <td>1</td>\n",
       "      <td>100.0</td>\n",
       "    </tr>\n",
       "    <tr>\n",
       "      <th>885682.0</th>\n",
       "      <td>3</td>\n",
       "      <td>3</td>\n",
       "      <td>100.0</td>\n",
       "    </tr>\n",
       "    <tr>\n",
       "      <th>914272.0</th>\n",
       "      <td>1</td>\n",
       "      <td>1</td>\n",
       "      <td>100.0</td>\n",
       "    </tr>\n",
       "    <tr>\n",
       "      <th>970258.0</th>\n",
       "      <td>1</td>\n",
       "      <td>1</td>\n",
       "      <td>100.0</td>\n",
       "    </tr>\n",
       "    <tr>\n",
       "      <th>924572.0</th>\n",
       "      <td>1</td>\n",
       "      <td>1</td>\n",
       "      <td>100.0</td>\n",
       "    </tr>\n",
       "    <tr>\n",
       "      <th>914626.0</th>\n",
       "      <td>1</td>\n",
       "      <td>1</td>\n",
       "      <td>100.0</td>\n",
       "    </tr>\n",
       "    <tr>\n",
       "      <th>937778.0</th>\n",
       "      <td>1</td>\n",
       "      <td>1</td>\n",
       "      <td>100.0</td>\n",
       "    </tr>\n",
       "    <tr>\n",
       "      <th>958458.0</th>\n",
       "      <td>1</td>\n",
       "      <td>1</td>\n",
       "      <td>100.0</td>\n",
       "    </tr>\n",
       "    <tr>\n",
       "      <th>937772.0</th>\n",
       "      <td>1</td>\n",
       "      <td>1</td>\n",
       "      <td>100.0</td>\n",
       "    </tr>\n",
       "  </tbody>\n",
       "</table>\n",
       "</div>"
      ],
      "text/plain": [
       "             total_llamadas  llamadas_perdidas  porcentaje_perdidas\n",
       "operator_id                                                        \n",
       "941826.0                  1                  1                100.0\n",
       "937872.0                  1                  1                100.0\n",
       "885682.0                  3                  3                100.0\n",
       "914272.0                  1                  1                100.0\n",
       "970258.0                  1                  1                100.0\n",
       "924572.0                  1                  1                100.0\n",
       "914626.0                  1                  1                100.0\n",
       "937778.0                  1                  1                100.0\n",
       "958458.0                  1                  1                100.0\n",
       "937772.0                  1                  1                100.0"
      ]
     },
     "execution_count": 63,
     "metadata": {},
     "output_type": "execute_result"
    }
   ],
   "source": [
    "# Agrupar por operador y calcular el porcentaje de llamadas perdidas\n",
    "operador_ineficaz = telco_ds.groupby(\"operator_id\").agg(\n",
    "    total_llamadas=(\"calls_count\", \"sum\"),\n",
    "    llamadas_perdidas=(\"is_missed_call\", \"sum\")\n",
    ")\n",
    "\n",
    "# Calcular el porcentaje de llamadas perdidas\n",
    "operador_ineficaz[\"porcentaje_perdidas\"] = (\n",
    "    operador_ineficaz[\"llamadas_perdidas\"] / operador_ineficaz[\"total_llamadas\"]) * 100\n",
    "\n",
    "# Ordenar de mayor a menor porcentaje de llamadas perdidas\n",
    "operador_ineficaz = operador_ineficaz.sort_values(\n",
    "    by=\"porcentaje_perdidas\", ascending=False)\n",
    "\n",
    "# Mostrar los operadores con mayor ineficiencia\n",
    "operador_ineficaz.head(10)"
   ]
  },
  {
   "cell_type": "code",
   "execution_count": 64,
   "metadata": {},
   "outputs": [
    {
     "data": {
      "application/vnd.microsoft.datawrangler.viewer.v0+json": {
       "columns": [
        {
         "name": "operator_id",
         "rawType": "float64",
         "type": "float"
        },
        {
         "name": "total_llamadas",
         "rawType": "int64",
         "type": "integer"
        },
        {
         "name": "llamadas_perdidas",
         "rawType": "int64",
         "type": "integer"
        },
        {
         "name": "porcentaje_perdidas",
         "rawType": "float64",
         "type": "float"
        }
       ],
       "conversionMethod": "pd.DataFrame",
       "ref": "bbe16113-718a-4efb-98d6-7e36904273ee",
       "rows": [
        [
         "941826.0",
         "1",
         "1",
         "100.0"
        ],
        [
         "911104.0",
         "1",
         "0",
         "0.0"
        ],
        [
         "946468.0",
         "1",
         "0",
         "0.0"
        ],
        [
         "946032.0",
         "1",
         "0",
         "0.0"
        ],
        [
         "899906.0",
         "1",
         "0",
         "0.0"
        ],
        [
         "945710.0",
         "1",
         "0",
         "0.0"
        ],
        [
         "945274.0",
         "1",
         "0",
         "0.0"
        ],
        [
         "950632.0",
         "1",
         "0",
         "0.0"
        ],
        [
         "947596.0",
         "1",
         "0",
         "0.0"
        ],
        [
         "948282.0",
         "1",
         "0",
         "0.0"
        ]
       ],
       "shape": {
        "columns": 3,
        "rows": 10
       }
      },
      "text/html": [
       "<div>\n",
       "<style scoped>\n",
       "    .dataframe tbody tr th:only-of-type {\n",
       "        vertical-align: middle;\n",
       "    }\n",
       "\n",
       "    .dataframe tbody tr th {\n",
       "        vertical-align: top;\n",
       "    }\n",
       "\n",
       "    .dataframe thead th {\n",
       "        text-align: right;\n",
       "    }\n",
       "</style>\n",
       "<table border=\"1\" class=\"dataframe\">\n",
       "  <thead>\n",
       "    <tr style=\"text-align: right;\">\n",
       "      <th></th>\n",
       "      <th>total_llamadas</th>\n",
       "      <th>llamadas_perdidas</th>\n",
       "      <th>porcentaje_perdidas</th>\n",
       "    </tr>\n",
       "    <tr>\n",
       "      <th>operator_id</th>\n",
       "      <th></th>\n",
       "      <th></th>\n",
       "      <th></th>\n",
       "    </tr>\n",
       "  </thead>\n",
       "  <tbody>\n",
       "    <tr>\n",
       "      <th>941826.0</th>\n",
       "      <td>1</td>\n",
       "      <td>1</td>\n",
       "      <td>100.0</td>\n",
       "    </tr>\n",
       "    <tr>\n",
       "      <th>911104.0</th>\n",
       "      <td>1</td>\n",
       "      <td>0</td>\n",
       "      <td>0.0</td>\n",
       "    </tr>\n",
       "    <tr>\n",
       "      <th>946468.0</th>\n",
       "      <td>1</td>\n",
       "      <td>0</td>\n",
       "      <td>0.0</td>\n",
       "    </tr>\n",
       "    <tr>\n",
       "      <th>946032.0</th>\n",
       "      <td>1</td>\n",
       "      <td>0</td>\n",
       "      <td>0.0</td>\n",
       "    </tr>\n",
       "    <tr>\n",
       "      <th>899906.0</th>\n",
       "      <td>1</td>\n",
       "      <td>0</td>\n",
       "      <td>0.0</td>\n",
       "    </tr>\n",
       "    <tr>\n",
       "      <th>945710.0</th>\n",
       "      <td>1</td>\n",
       "      <td>0</td>\n",
       "      <td>0.0</td>\n",
       "    </tr>\n",
       "    <tr>\n",
       "      <th>945274.0</th>\n",
       "      <td>1</td>\n",
       "      <td>0</td>\n",
       "      <td>0.0</td>\n",
       "    </tr>\n",
       "    <tr>\n",
       "      <th>950632.0</th>\n",
       "      <td>1</td>\n",
       "      <td>0</td>\n",
       "      <td>0.0</td>\n",
       "    </tr>\n",
       "    <tr>\n",
       "      <th>947596.0</th>\n",
       "      <td>1</td>\n",
       "      <td>0</td>\n",
       "      <td>0.0</td>\n",
       "    </tr>\n",
       "    <tr>\n",
       "      <th>948282.0</th>\n",
       "      <td>1</td>\n",
       "      <td>0</td>\n",
       "      <td>0.0</td>\n",
       "    </tr>\n",
       "  </tbody>\n",
       "</table>\n",
       "</div>"
      ],
      "text/plain": [
       "             total_llamadas  llamadas_perdidas  porcentaje_perdidas\n",
       "operator_id                                                        \n",
       "941826.0                  1                  1                100.0\n",
       "911104.0                  1                  0                  0.0\n",
       "946468.0                  1                  0                  0.0\n",
       "946032.0                  1                  0                  0.0\n",
       "899906.0                  1                  0                  0.0\n",
       "945710.0                  1                  0                  0.0\n",
       "945274.0                  1                  0                  0.0\n",
       "950632.0                  1                  0                  0.0\n",
       "947596.0                  1                  0                  0.0\n",
       "948282.0                  1                  0                  0.0"
      ]
     },
     "execution_count": 64,
     "metadata": {},
     "output_type": "execute_result"
    }
   ],
   "source": [
    "# Ordenar operadores por cantidad de llamadas atendidas\n",
    "operadores_menos_activos = operador_ineficaz.sort_values(\n",
    "    by=\"total_llamadas\", ascending=True)\n",
    "# Mostrar los 10 operadores con menos llamadas\n",
    "operadores_menos_activos.head(10)"
   ]
  },
  {
   "cell_type": "markdown",
   "metadata": {},
   "source": [
    "#### Con base a las tablas anteriores encontramos a los operadores mas ineficientes y con menor actividad. Esto para permitir tomar implementar estrategias de solucion y poder incrementar la eficiencia y actividad de los operadores identificados"
   ]
  },
  {
   "cell_type": "code",
   "execution_count": 65,
   "metadata": {},
   "outputs": [
    {
     "name": "stdout",
     "output_type": "stream",
     "text": [
      "📞 Porcentaje de llamadas conectadas: 97.34%\n"
     ]
    }
   ],
   "source": [
    "# Total de llamadas y llamadas perdidas\n",
    "total_llamadas = telco_ds[\"calls_count\"].sum()\n",
    "llamadas_perdidas = telco_ds[\"is_missed_call\"].sum()\n",
    "\n",
    "# Calcular porcentaje de llamadas conectadas\n",
    "porcentaje_conectadas = (\n",
    "    (total_llamadas - llamadas_perdidas) / total_llamadas) * 100\n",
    "print(f\"📞 Porcentaje de llamadas conectadas: {porcentaje_conectadas:.2f}%\")"
   ]
  },
  {
   "cell_type": "code",
   "execution_count": 66,
   "metadata": {},
   "outputs": [
    {
     "data": {
      "image/png": "[encoded data removed]",
      "text/plain": [
       "<Figure size 700x700 with 1 Axes>"
      ]
     },
     "metadata": {},
     "output_type": "display_data"
    }
   ],
   "source": [
    "llamadas_conectadas = total_llamadas - llamadas_perdidas\n",
    "\n",
    "# Datos para la gráfica\n",
    "labels = [\"Conectadas\", \"Perdidas\"]\n",
    "sizes = [llamadas_conectadas, llamadas_perdidas]\n",
    "colors = [\"green\", \"red\"]\n",
    "\n",
    "# Gráfica de pastel\n",
    "plt.figure(figsize=(7, 7))\n",
    "plt.pie(sizes, labels=labels, autopct=\"%1.1f%%\", colors=colors,\n",
    "        startangle=90, wedgeprops={\"edgecolor\": \"black\"})\n",
    "plt.title(\"Proporción de Llamadas Conectadas vs. Perdidas\")\n",
    "plt.show()"
   ]
  },
  {
   "cell_type": "markdown",
   "metadata": {},
   "source": [
    "#### Se observa que el 97.3% de las llamadas son enlazadas lo cual muestra una eficiencia general en ese sentido."
   ]
  },
  {
   "cell_type": "code",
   "execution_count": 67,
   "metadata": {},
   "outputs": [
    {
     "name": "stdout",
     "output_type": "stream",
     "text": [
      "T-statistic: -46.96548101210464, P-value: 0.0\n",
      "Existe una diferencia estadísticamente significativa: las llamadas internas y externas tienen duraciones diferentes.\n",
      "📌 Las llamadas externas tienen una duración mayor en promedio.\n"
     ]
    }
   ],
   "source": [
    "from scipy.stats import ttest_ind\n",
    "\n",
    "# Filtrar llamadas internas y externas\n",
    "internas = telco_ds[telco_ds[\"internal\"]\n",
    "                    == 'Interno'][\"call_duration\"]\n",
    "externas = telco_ds[telco_ds[\"internal\"]\n",
    "                    == 'Externo'][\"call_duration\"]\n",
    "\n",
    "# Prueba t de Student\n",
    "t_stat, p_value = ttest_ind(internas, externas, equal_var=False)\n",
    "print(f\"T-statistic: {t_stat}, P-value: {p_value}\")\n",
    "\n",
    "if p_value < 0.05:\n",
    "    print(\"Existe una diferencia estadísticamente significativa: las llamadas internas y externas tienen duraciones diferentes.\")\n",
    "    if internas.mean() > externas.mean():\n",
    "        print(\"📌 Las llamadas internas tienen una duración mayor en promedio.\")\n",
    "    else:\n",
    "        print(\"📌 Las llamadas externas tienen una duración mayor en promedio.\")\n",
    "else:\n",
    "    print(\"No hay una diferencia significativa en la duración de llamadas internas y externas.\")"
   ]
  },
  {
   "cell_type": "code",
   "execution_count": 68,
   "metadata": {},
   "outputs": [
    {
     "data": {
      "image/png": "[encoded data removed]",
      "text/plain": [
       "<Figure size 800x500 with 1 Axes>"
      ]
     },
     "metadata": {},
     "output_type": "display_data"
    }
   ],
   "source": [
    "duracion_llamadas = telco_ds.groupby('internal')['call_duration_m'].mean().reset_index()\n",
    "\n",
    "plt.figure(figsize=(8, 5))\n",
    "sns.barplot(data=duracion_llamadas, x='internal',\n",
    "            y='call_duration_m', hue='internal', errorbar='sd')\n",
    "plt.title('Duracion promedio de las llamadas (interno vs externo)')\n",
    "plt.xlabel('Tipo de llamada')\n",
    "plt.ylabel('Duracion de la llamada')\n",
    "plt.show()"
   ]
  },
  {
   "cell_type": "markdown",
   "metadata": {},
   "source": [
    "#### Observamos que  la duracion promedio de las llamadas externas es mayor que las internas. (Confirmado con prueba estadistica)"
   ]
  },
  {
   "cell_type": "code",
   "execution_count": 69,
   "metadata": {},
   "outputs": [
    {
     "data": {
      "image/png": "[encoded data removed]",
      "text/plain": [
       "<Figure size 800x500 with 1 Axes>"
      ]
     },
     "metadata": {},
     "output_type": "display_data"
    }
   ],
   "source": [
    "plt.figure(figsize=(8, 5))\n",
    "sns.countplot(data=telco_ds, x='internal', hue='internal')\n",
    "plt.title(\"Cantidad de Llamadas Internas vs Externas\")\n",
    "plt.xlabel(\"Tipo de Llamada\")\n",
    "plt.ylabel(\"Cantidad\")\n",
    "plt.show()"
   ]
  },
  {
   "cell_type": "markdown",
   "metadata": {},
   "source": [
    "#### Confirmamos de manera visual que las llamadas externas son mucho mas frecuentes que las internas. "
   ]
  }
 ],
 "metadata": {
  "kernelspec": {
   "display_name": "TT",
   "language": "python",
   "name": "python3"
  },
  "language_info": {
   "codemirror_mode": {
    "name": "ipython",
    "version": 3
   },
   "file_extension": ".py",
   "mimetype": "text/x-python",
   "name": "python",
   "nbconvert_exporter": "python",
   "pygments_lexer": "ipython3",
   "version": "3.12.8"
  }
 },
 "nbformat": 4,
 "nbformat_minor": 2
}
