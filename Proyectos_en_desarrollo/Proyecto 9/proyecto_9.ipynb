{
 "cells": [
  {
   "cell_type": "markdown",
   "metadata": {},
   "source": [
    "Descripción de los datos\n",
    "La tabla visits (registros del servidor con datos sobre las visitas al sitio web):\n",
    "\n",
    "Uid: identificador único del usuario.\n",
    "Device: dispositivo del usuario.\n",
    "Start Ts: fecha y hora de inicio de la sesión.\n",
    "End Ts: fecha y hora de término de la sesión.\n",
    "Source Id: identificador de la fuente de anuncios de la que proviene el usuario.\n",
    "Todas las fechas de esta tabla están en formato AAAA-MM-DD.\n",
    "\n",
    "La tabla orders (datos sobre pedidos):\n",
    "\n",
    "Uid: identificador único del usuario que realiza un pedido.\n",
    "Buy Ts: fecha y hora del pedido. Revenue: el ingreso de Showz por el pedido.\n",
    "La tabla costs (datos sobre gastos de marketing):\n",
    "\n",
    "source_id: identificador de la fuente de anuncios.\n",
    "dt: fecha.\n",
    "costs: gastos en esta fuente de anuncios en este día."
   ]
  },
  {
   "cell_type": "code",
   "execution_count": 31,
   "metadata": {},
   "outputs": [],
   "source": [
    "import pandas as pd\n",
    "\n",
    "# se genera una funcion para el analisis preliminar\n",
    "\n",
    "\n",
    "def looks(datos):\n",
    "    \"\"\"Genera un analisis de todo el set de datos de manera gloabal\"\"\"\n",
    "\n",
    "    print(\"Se ejecuta la descripcion de los datos:\")\n",
    "\n",
    "    print(datos.describe(include=\"all\"))\n",
    "    print()\n",
    "\n",
    "    print(\"se hace exploracion con metodo info:\")\n",
    "\n",
    "    print(datos.info())\n",
    "    print()\n",
    "\n",
    "    print(\"se hace una observacion con el metodo Sample:\")\n",
    "\n",
    "    print(datos.sample(10))\n",
    "    print()\n",
    "\n",
    "    print(\"hay NA?:\")\n",
    "    print(datos.isna().sum())\n",
    "    print()\n",
    "\n",
    "    print(\"Duplicados:\")\n",
    "    print(datos.duplicated().sum())"
   ]
  },
  {
   "cell_type": "code",
   "execution_count": 32,
   "metadata": {},
   "outputs": [
    {
     "name": "stdout",
     "output_type": "stream",
     "text": [
      "Se ejecuta la descripcion de los datos:\n",
      "         source_id                             dt        costs\n",
      "count  2542.000000                           2542  2542.000000\n",
      "mean      4.857199  2017-11-29 09:04:57.403619072   129.477427\n",
      "min       1.000000            2017-06-01 00:00:00     0.540000\n",
      "25%       2.000000            2017-08-30 00:00:00    21.945000\n",
      "50%       4.000000            2017-11-29 00:00:00    77.295000\n",
      "75%       9.000000            2018-02-28 00:00:00   170.065000\n",
      "max      10.000000            2018-05-31 00:00:00  1788.280000\n",
      "std       3.181581                            NaN   156.296628\n",
      "\n",
      "se hace exploracion con metodo info:\n",
      "<class 'pandas.core.frame.DataFrame'>\n",
      "RangeIndex: 2542 entries, 0 to 2541\n",
      "Data columns (total 3 columns):\n",
      " #   Column     Non-Null Count  Dtype         \n",
      "---  ------     --------------  -----         \n",
      " 0   source_id  2542 non-null   int64         \n",
      " 1   dt         2542 non-null   datetime64[ns]\n",
      " 2   costs      2542 non-null   float64       \n",
      "dtypes: datetime64[ns](1), float64(1), int64(1)\n",
      "memory usage: 59.7 KB\n",
      "None\n",
      "\n",
      "se hace una observacion con el metodo Sample:\n",
      "      source_id         dt   costs\n",
      "1774          5 2018-04-20  191.58\n",
      "550           2 2017-12-05  142.95\n",
      "1674          5 2018-01-09  258.67\n",
      "921           3 2017-12-13  758.28\n",
      "2074          9 2018-02-14   19.46\n",
      "1248          4 2017-11-07   50.19\n",
      "952           3 2018-01-13  340.15\n",
      "2137          9 2018-04-20   12.07\n",
      "2216         10 2017-07-08    3.89\n",
      "247           1 2018-02-03   51.00\n",
      "\n",
      "hay NA?:\n",
      "source_id    0\n",
      "dt           0\n",
      "costs        0\n",
      "dtype: int64\n",
      "\n",
      "Duplicados:\n",
      "0\n"
     ]
    }
   ],
   "source": [
    "cost = pd.read_csv(\"datasets/costs_us.csv\")\n",
    "cost[\"dt\"] = pd.to_datetime(cost[\"dt\"])\n",
    "looks(cost)"
   ]
  },
  {
   "cell_type": "code",
   "execution_count": 48,
   "metadata": {},
   "outputs": [
    {
     "name": "stdout",
     "output_type": "stream",
     "text": [
      "Se ejecuta la descripcion de los datos:\n",
      "                     buy_ts       revenue           uid\n",
      "count                 50415  50415.000000  5.041500e+04\n",
      "unique                45991           NaN           NaN\n",
      "top     2018-05-31 10:13:00           NaN           NaN\n",
      "freq                      9           NaN           NaN\n",
      "mean                    NaN      4.999647  9.098161e+18\n",
      "std                     NaN     21.818359  5.285742e+18\n",
      "min                     NaN      0.000000  3.135781e+14\n",
      "25%                     NaN      1.220000  4.533567e+18\n",
      "50%                     NaN      2.500000  9.102274e+18\n",
      "75%                     NaN      4.890000  1.368290e+19\n",
      "max                     NaN   2633.280000  1.844617e+19\n",
      "\n",
      "se hace exploracion con metodo info:\n",
      "<class 'pandas.core.frame.DataFrame'>\n",
      "RangeIndex: 50415 entries, 0 to 50414\n",
      "Data columns (total 3 columns):\n",
      " #   Column   Non-Null Count  Dtype  \n",
      "---  ------   --------------  -----  \n",
      " 0   buy_ts   50415 non-null  object \n",
      " 1   revenue  50415 non-null  float64\n",
      " 2   uid      50415 non-null  uint64 \n",
      "dtypes: float64(1), object(1), uint64(1)\n",
      "memory usage: 1.2+ MB\n",
      "None\n",
      "\n",
      "se hace una observacion con el metodo Sample:\n",
      "                    buy_ts  revenue                   uid\n",
      "25579  2017-12-23 14:11:00     2.44   6731421022966725351\n",
      "49339  2018-05-28 17:39:00    12.22   4376896558800003461\n",
      "12626  2017-10-13 20:14:00    10.08   3683832527513846770\n",
      "12740  2017-10-14 14:48:00     3.67  11920452646463905188\n",
      "17835  2017-11-16 12:25:00     3.36  15493871646800898696\n",
      "44594  2018-04-18 22:27:00     3.67  12040271774138162398\n",
      "11316  2017-10-06 23:10:00     8.55   5483658267305624653\n",
      "10640  2017-10-04 19:12:00    11.00  16840878058738971080\n",
      "49408  2018-05-29 00:26:00     2.44   9475089746436224237\n",
      "27286  2017-12-30 22:06:00     3.67  13194638684164872124\n",
      "\n",
      "hay NA?:\n",
      "buy_ts     0\n",
      "revenue    0\n",
      "uid        0\n",
      "dtype: int64\n",
      "\n",
      "Duplicados:\n",
      "0\n"
     ]
    }
   ],
   "source": [
    "orders = pd.read_csv(\"datasets/orders_log_us.csv\")\n",
    "orders.columns = orders.columns.str.lower().str.replace(\" \", \"_\")\n",
    "#orders[\"buy_ts\"] = pd.to_datetime(orders[\"buy_ts\"])\n",
    "looks(orders)"
   ]
  },
  {
   "cell_type": "code",
   "execution_count": 34,
   "metadata": {},
   "outputs": [
    {
     "name": "stdout",
     "output_type": "stream",
     "text": [
      "Se ejecuta la descripcion de los datos:\n",
      "         device                         end_ts      source_id  \\\n",
      "count    359400                         359400  359400.000000   \n",
      "unique        2                            NaN            NaN   \n",
      "top     desktop                            NaN            NaN   \n",
      "freq     262567                            NaN            NaN   \n",
      "mean        NaN  2017-12-18 06:28:15.036205056       3.750515   \n",
      "min         NaN            2017-06-01 00:02:00       1.000000   \n",
      "25%         NaN            2017-10-15 09:45:45       3.000000   \n",
      "50%         NaN            2017-12-18 18:59:30       4.000000   \n",
      "75%         NaN            2018-02-28 10:08:15       5.000000   \n",
      "max         NaN            2018-06-01 01:26:00      10.000000   \n",
      "std         NaN                            NaN       1.917116   \n",
      "\n",
      "                             start_ts           uid  \n",
      "count                          359400  3.594000e+05  \n",
      "unique                            NaN           NaN  \n",
      "top                               NaN           NaN  \n",
      "freq                              NaN           NaN  \n",
      "mean    2017-12-18 06:17:32.010517760  9.202557e+18  \n",
      "min               2017-06-01 00:01:00  1.186350e+13  \n",
      "25%               2017-10-15 09:41:00  4.613407e+18  \n",
      "50%               2017-12-18 18:46:00  9.227413e+18  \n",
      "75%               2018-02-28 09:54:00  1.372824e+19  \n",
      "max               2018-05-31 23:59:00  1.844668e+19  \n",
      "std                               NaN  5.298433e+18  \n",
      "\n",
      "se hace exploracion con metodo info:\n",
      "<class 'pandas.core.frame.DataFrame'>\n",
      "RangeIndex: 359400 entries, 0 to 359399\n",
      "Data columns (total 5 columns):\n",
      " #   Column     Non-Null Count   Dtype         \n",
      "---  ------     --------------   -----         \n",
      " 0   device     359400 non-null  object        \n",
      " 1   end_ts     359400 non-null  datetime64[ns]\n",
      " 2   source_id  359400 non-null  int64         \n",
      " 3   start_ts   359400 non-null  datetime64[ns]\n",
      " 4   uid        359400 non-null  uint64        \n",
      "dtypes: datetime64[ns](2), int64(1), object(1), uint64(1)\n",
      "memory usage: 13.7+ MB\n",
      "None\n",
      "\n",
      "se hace una observacion con el metodo Sample:\n",
      "         device              end_ts  source_id            start_ts  \\\n",
      "332180    touch 2017-09-14 22:15:00          2 2017-09-14 22:12:00   \n",
      "319495  desktop 2018-03-03 17:11:00          4 2018-03-03 17:11:00   \n",
      "329104  desktop 2017-11-25 18:43:00          3 2017-11-25 18:31:00   \n",
      "214399  desktop 2018-02-05 13:07:00          5 2018-02-05 12:59:00   \n",
      "170904  desktop 2018-03-24 19:20:00          1 2018-03-24 18:48:00   \n",
      "135085  desktop 2017-12-29 11:05:00          2 2017-12-29 11:01:00   \n",
      "184141  desktop 2017-12-04 10:53:00          3 2017-12-04 10:40:00   \n",
      "39998   desktop 2017-10-12 00:33:00          2 2017-10-12 00:14:00   \n",
      "153717  desktop 2017-07-04 12:30:00          3 2017-07-04 12:29:00   \n",
      "344336    touch 2017-12-22 23:13:00          4 2017-12-22 23:11:00   \n",
      "\n",
      "                         uid  \n",
      "332180   8467737395200168763  \n",
      "319495   6890293402080574673  \n",
      "329104  17558704877062364553  \n",
      "214399   2415600133594185226  \n",
      "170904  10345975972783119254  \n",
      "135085   3474189774775163003  \n",
      "184141   3501596628378158474  \n",
      "39998    3725308595779968849  \n",
      "153717   6154947682331185945  \n",
      "344336   3657029640807587112  \n",
      "\n",
      "hay NA?:\n",
      "device       0\n",
      "end_ts       0\n",
      "source_id    0\n",
      "start_ts     0\n",
      "uid          0\n",
      "dtype: int64\n",
      "\n",
      "Duplicados:\n",
      "0\n"
     ]
    }
   ],
   "source": [
    "visits = pd.read_csv(\"datasets/visits_log_us.csv\")\n",
    "visits.columns = visits.columns.str.lower().str.replace(\" \", \"_\")\n",
    "visits[\"end_ts\"] = pd.to_datetime(visits[\"end_ts\"])\n",
    "visits[\"start_ts\"] = pd.to_datetime(visits[\"start_ts\"])\n",
    "looks(visits)\n"
   ]
  },
  {
   "cell_type": "markdown",
   "metadata": {},
   "source": [
    "#### Visitas:\n",
    "\n",
    "- ¿Cuántas personas lo usan cada día, semana y mes?\n",
    "- ¿Cuántas sesiones hay por día? (Un usuario puede tener más de una sesión).\n",
    "-  ¿Cuál es la duración de cada sesión?\n",
    "- ¿Con qué frecuencia los usuarios regresan?\n",
    "\n"
   ]
  },
  {
   "cell_type": "code",
   "execution_count": 35,
   "metadata": {},
   "outputs": [],
   "source": [
    "#se generan columnas adicionales para el analisis\n",
    "visits['session_year'] = visits['start_ts'].dt.isocalendar().year\n",
    "visits['session_month'] = visits['start_ts'].dt.month\n",
    "visits['session_week'] = visits['start_ts'].dt.isocalendar().week\n",
    "visits['session_date'] = visits['start_ts'].dt.date\n"
   ]
  },
  {
   "cell_type": "code",
   "execution_count": 36,
   "metadata": {},
   "outputs": [
    {
     "name": "stdout",
     "output_type": "stream",
     "text": [
      "uid    907.991758\n",
      "dtype: float64\n",
      "uid    5716.245283\n",
      "dtype: float64\n",
      "uid    23228.416667\n",
      "dtype: float64\n"
     ]
    }
   ],
   "source": [
    "\n",
    "# ¿Cuántas personas lo usan cada día, semana y mes?\n",
    "mau_total = (\n",
    "    visits.groupby(['session_year', 'session_month'])\n",
    "    .agg({'uid': 'nunique'})\n",
    "    .mean()\n",
    ")\n",
    "\n",
    "dau_total = (\n",
    "    visits.groupby(['session_year', 'session_date'])\n",
    "    .agg({'uid': 'nunique'})\n",
    "    .mean()\n",
    ")\n",
    "\n",
    "wau_total = (\n",
    "    visits.groupby(['session_year', 'session_week'])\n",
    "    .agg({'uid': 'nunique'})\n",
    "    .mean()\n",
    ")\n",
    "\n",
    "print(dau_total)\n",
    "print(wau_total)\n",
    "print(mau_total)"
   ]
  },
  {
   "cell_type": "code",
   "execution_count": 37,
   "metadata": {},
   "outputs": [
    {
     "name": "stdout",
     "output_type": "stream",
     "text": [
      "Visitas por dia:                uid\n",
      "session_date      \n",
      "2017-06-01     664\n",
      "2017-06-02     658\n",
      "2017-06-03     477\n",
      "2017-06-04     510\n",
      "2017-06-05     893\n",
      "...            ...\n",
      "2018-05-27     672\n",
      "2018-05-28    1156\n",
      "2018-05-29    1035\n",
      "2018-05-30    1410\n",
      "2018-05-31    2256\n",
      "\n",
      "[364 rows x 1 columns]\n",
      "Visitas promedio por dia: uid    987.362637\n",
      "dtype: float64\n"
     ]
    }
   ],
   "source": [
    "\n",
    "#¿Cuántas sesiones hay por día? (Un usuario puede tener más de una sesión).\n",
    "vis_day = visits.groupby('session_date').agg({'uid': 'count'})\n",
    "print('Visitas por dia:',vis_day)\n",
    "print('Visitas promedio por dia:', vis_day.mean())\n"
   ]
  },
  {
   "cell_type": "code",
   "execution_count": 38,
   "metadata": {},
   "outputs": [
    {
     "name": "stdout",
     "output_type": "stream",
     "text": [
      "Duracion media de la sessión 60.0 segundos\n"
     ]
    },
    {
     "data": {
      "text/plain": [
       "<Axes: >"
      ]
     },
     "execution_count": 38,
     "metadata": {},
     "output_type": "execute_result"
    },
    {
     "data": {
      "image/png": "[encoded data removed]",
      "text/plain": [
       "<Figure size 640x480 with 1 Axes>"
      ]
     },
     "metadata": {},
     "output_type": "display_data"
    }
   ],
   "source": [
    "\n",
    "# ¿Cuál es la duración de cada sesión?\n",
    "visits['duration'] = (visits['end_ts'] - visits['start_ts']).dt.total_seconds()\n",
    "asl = visits['duration'].mode()[0]\n",
    "print(f'Duracion media de la sessión {asl} segundos')\n",
    "visits['duration'].hist(bins=100, range=(0, 10000))\n",
    "\n"
   ]
  },
  {
   "cell_type": "code",
   "execution_count": 39,
   "metadata": {},
   "outputs": [
    {
     "name": "stdout",
     "output_type": "stream",
     "text": [
      "factor de adherencia semanal uid    15.884409\n",
      "dtype: float64\n",
      "factor de adherencia semanal uid    3.90897\n",
      "dtype: float64\n"
     ]
    }
   ],
   "source": [
    "\n",
    "#¿Con qué frecuencia los usuarios regresan?\n",
    "sticky_wau = dau_total / wau_total * 100\n",
    "print(f'factor de adherencia semanal {sticky_wau}')\n",
    "sticky_mau = dau_total / mau_total * 100\n",
    "print(f'factor de adherencia semanal {sticky_mau}')\n"
   ]
  },
  {
   "cell_type": "markdown",
   "metadata": {},
   "source": [
    "\n",
    "#### Ventas:\n",
    "\n",
    "- ¿Cuándo empieza la gente a comprar? (En el análisis de KPI, generalmente nos interesa saber el tiempo que transcurre entre el registro y la conversión, es decir, cuando el usuario se convierte en cliente. Por ejemplo, si el registro y la primera compra ocurren el mismo día, el usuario podría caer en la categoría Conversion 0d. Si la primera compra ocurre al día siguiente, será Conversion 1d. Puedes usar cualquier enfoque que te permita comparar las conversiones de diferentes cohortes para que puedas determinar qué cohorte o canal de marketing es más efectivo.)\n",
    "- ¿Cuántos pedidos hacen durante un período de tiempo dado?\n",
    "- ¿Cuál es el tamaño promedio de compra?\n",
    "- ¿Cuánto dinero traen? (LTV)\n",
    "\n"
   ]
  },
  {
   "cell_type": "code",
   "execution_count": 49,
   "metadata": {},
   "outputs": [],
   "source": [
    "# ¿Cuándo empieza la gente a comprar?\n",
    "\n",
    "frst_buy = orders.groupby('uid')['buy_ts'].min()\n",
    "frst_buy.name = 'first_order_date'\n",
    "orders = orders.join(frst_buy, on='uid')\n",
    "\n"
   ]
  },
  {
   "cell_type": "code",
   "execution_count": 51,
   "metadata": {},
   "outputs": [
    {
     "data": {
      "text/plain": [
       "0       2017-06-01 00:10:00\n",
       "1       2017-06-01 00:25:00\n",
       "2       2017-06-01 00:27:00\n",
       "3       2017-06-01 00:29:00\n",
       "4       2017-06-01 07:58:00\n",
       "                ...        \n",
       "50410   2018-05-31 23:50:00\n",
       "50411   2018-05-31 23:50:00\n",
       "50412   2018-05-31 23:54:00\n",
       "50413   2018-05-31 23:56:00\n",
       "50414   2018-06-01 00:02:00\n",
       "Name: buy_ts, Length: 50415, dtype: datetime64[s]"
      ]
     },
     "execution_count": 51,
     "metadata": {},
     "output_type": "execute_result"
    }
   ],
   "source": [
    "\n",
    "#orders['order_month'] = \n",
    "orders['buy_ts'].astype('datetime64[s]')\n",
    "\n",
    "\n",
    "#reg = visits.groupby('uid')['start_ts'].min() # ? asumimos que su primer sescion es el registro\n",
    "\n",
    "\n",
    "#print(orders)\n",
    "# ¿Cuántos pedidos hacen durante un período de tiempo dado?\n",
    "\n",
    "\n",
    "# ¿Cuál es el tamaño promedio de compra?\n",
    "\n",
    "# ¿Cuánto dinero traen? (LTV)"
   ]
  },
  {
   "cell_type": "code",
   "execution_count": 47,
   "metadata": {},
   "outputs": [
    {
     "ename": "KeyError",
     "evalue": "'order_month'",
     "output_type": "error",
     "traceback": [
      "\u001b[1;31m---------------------------------------------------------------------------\u001b[0m",
      "\u001b[1;31mKeyError\u001b[0m                                  Traceback (most recent call last)",
      "Cell \u001b[1;32mIn[47], line 1\u001b[0m\n\u001b[1;32m----> 1\u001b[0m orders_grouped_by_cohorts \u001b[38;5;241m=\u001b[39m \u001b[43morders\u001b[49m\u001b[38;5;241;43m.\u001b[39;49m\u001b[43mgroupby\u001b[49m\u001b[43m(\u001b[49m\u001b[38;5;124;43m'\u001b[39;49m\u001b[38;5;124;43morder_month\u001b[39;49m\u001b[38;5;124;43m'\u001b[39;49m\u001b[43m)\u001b[49m\u001b[38;5;241m.\u001b[39magg({\u001b[38;5;124m'\u001b[39m\u001b[38;5;124mrevenue\u001b[39m\u001b[38;5;124m'\u001b[39m: \u001b[38;5;124m'\u001b[39m\u001b[38;5;124msum\u001b[39m\u001b[38;5;124m'\u001b[39m, \u001b[38;5;124m'\u001b[39m\u001b[38;5;124muid\u001b[39m\u001b[38;5;124m'\u001b[39m: \u001b[38;5;124m'\u001b[39m\u001b[38;5;124mnunique\u001b[39m\u001b[38;5;124m'\u001b[39m})\n\u001b[0;32m      2\u001b[0m \u001b[38;5;28mprint\u001b[39m(orders_grouped_by_cohorts\u001b[38;5;241m.\u001b[39mhead())\n\u001b[0;32m      6\u001b[0m \u001b[38;5;66;03m# ¿Cuántos pedidos hacen durante un período de tiempo dado?\u001b[39;00m\n\u001b[0;32m      7\u001b[0m \n\u001b[0;32m      8\u001b[0m \n\u001b[0;32m      9\u001b[0m \u001b[38;5;66;03m# ¿Cuál es el tamaño promedio de compra?\u001b[39;00m\n\u001b[0;32m     10\u001b[0m \n\u001b[0;32m     11\u001b[0m \u001b[38;5;66;03m# ¿Cuánto dinero traen? (LTV)\u001b[39;00m\n",
      "File \u001b[1;32mc:\\Users\\hukit\\miniconda3\\Lib\\site-packages\\pandas\\core\\frame.py:9183\u001b[0m, in \u001b[0;36mDataFrame.groupby\u001b[1;34m(self, by, axis, level, as_index, sort, group_keys, observed, dropna)\u001b[0m\n\u001b[0;32m   9180\u001b[0m \u001b[38;5;28;01mif\u001b[39;00m level \u001b[38;5;129;01mis\u001b[39;00m \u001b[38;5;28;01mNone\u001b[39;00m \u001b[38;5;129;01mand\u001b[39;00m by \u001b[38;5;129;01mis\u001b[39;00m \u001b[38;5;28;01mNone\u001b[39;00m:\n\u001b[0;32m   9181\u001b[0m     \u001b[38;5;28;01mraise\u001b[39;00m \u001b[38;5;167;01mTypeError\u001b[39;00m(\u001b[38;5;124m\"\u001b[39m\u001b[38;5;124mYou have to supply one of \u001b[39m\u001b[38;5;124m'\u001b[39m\u001b[38;5;124mby\u001b[39m\u001b[38;5;124m'\u001b[39m\u001b[38;5;124m and \u001b[39m\u001b[38;5;124m'\u001b[39m\u001b[38;5;124mlevel\u001b[39m\u001b[38;5;124m'\u001b[39m\u001b[38;5;124m\"\u001b[39m)\n\u001b[1;32m-> 9183\u001b[0m \u001b[38;5;28;01mreturn\u001b[39;00m \u001b[43mDataFrameGroupBy\u001b[49m\u001b[43m(\u001b[49m\n\u001b[0;32m   9184\u001b[0m \u001b[43m    \u001b[49m\u001b[43mobj\u001b[49m\u001b[38;5;241;43m=\u001b[39;49m\u001b[38;5;28;43mself\u001b[39;49m\u001b[43m,\u001b[49m\n\u001b[0;32m   9185\u001b[0m \u001b[43m    \u001b[49m\u001b[43mkeys\u001b[49m\u001b[38;5;241;43m=\u001b[39;49m\u001b[43mby\u001b[49m\u001b[43m,\u001b[49m\n\u001b[0;32m   9186\u001b[0m \u001b[43m    \u001b[49m\u001b[43maxis\u001b[49m\u001b[38;5;241;43m=\u001b[39;49m\u001b[43maxis\u001b[49m\u001b[43m,\u001b[49m\n\u001b[0;32m   9187\u001b[0m \u001b[43m    \u001b[49m\u001b[43mlevel\u001b[49m\u001b[38;5;241;43m=\u001b[39;49m\u001b[43mlevel\u001b[49m\u001b[43m,\u001b[49m\n\u001b[0;32m   9188\u001b[0m \u001b[43m    \u001b[49m\u001b[43mas_index\u001b[49m\u001b[38;5;241;43m=\u001b[39;49m\u001b[43mas_index\u001b[49m\u001b[43m,\u001b[49m\n\u001b[0;32m   9189\u001b[0m \u001b[43m    \u001b[49m\u001b[43msort\u001b[49m\u001b[38;5;241;43m=\u001b[39;49m\u001b[43msort\u001b[49m\u001b[43m,\u001b[49m\n\u001b[0;32m   9190\u001b[0m \u001b[43m    \u001b[49m\u001b[43mgroup_keys\u001b[49m\u001b[38;5;241;43m=\u001b[39;49m\u001b[43mgroup_keys\u001b[49m\u001b[43m,\u001b[49m\n\u001b[0;32m   9191\u001b[0m \u001b[43m    \u001b[49m\u001b[43mobserved\u001b[49m\u001b[38;5;241;43m=\u001b[39;49m\u001b[43mobserved\u001b[49m\u001b[43m,\u001b[49m\n\u001b[0;32m   9192\u001b[0m \u001b[43m    \u001b[49m\u001b[43mdropna\u001b[49m\u001b[38;5;241;43m=\u001b[39;49m\u001b[43mdropna\u001b[49m\u001b[43m,\u001b[49m\n\u001b[0;32m   9193\u001b[0m \u001b[43m\u001b[49m\u001b[43m)\u001b[49m\n",
      "File \u001b[1;32mc:\\Users\\hukit\\miniconda3\\Lib\\site-packages\\pandas\\core\\groupby\\groupby.py:1329\u001b[0m, in \u001b[0;36mGroupBy.__init__\u001b[1;34m(self, obj, keys, axis, level, grouper, exclusions, selection, as_index, sort, group_keys, observed, dropna)\u001b[0m\n\u001b[0;32m   1326\u001b[0m \u001b[38;5;28mself\u001b[39m\u001b[38;5;241m.\u001b[39mdropna \u001b[38;5;241m=\u001b[39m dropna\n\u001b[0;32m   1328\u001b[0m \u001b[38;5;28;01mif\u001b[39;00m grouper \u001b[38;5;129;01mis\u001b[39;00m \u001b[38;5;28;01mNone\u001b[39;00m:\n\u001b[1;32m-> 1329\u001b[0m     grouper, exclusions, obj \u001b[38;5;241m=\u001b[39m \u001b[43mget_grouper\u001b[49m\u001b[43m(\u001b[49m\n\u001b[0;32m   1330\u001b[0m \u001b[43m        \u001b[49m\u001b[43mobj\u001b[49m\u001b[43m,\u001b[49m\n\u001b[0;32m   1331\u001b[0m \u001b[43m        \u001b[49m\u001b[43mkeys\u001b[49m\u001b[43m,\u001b[49m\n\u001b[0;32m   1332\u001b[0m \u001b[43m        \u001b[49m\u001b[43maxis\u001b[49m\u001b[38;5;241;43m=\u001b[39;49m\u001b[43maxis\u001b[49m\u001b[43m,\u001b[49m\n\u001b[0;32m   1333\u001b[0m \u001b[43m        \u001b[49m\u001b[43mlevel\u001b[49m\u001b[38;5;241;43m=\u001b[39;49m\u001b[43mlevel\u001b[49m\u001b[43m,\u001b[49m\n\u001b[0;32m   1334\u001b[0m \u001b[43m        \u001b[49m\u001b[43msort\u001b[49m\u001b[38;5;241;43m=\u001b[39;49m\u001b[43msort\u001b[49m\u001b[43m,\u001b[49m\n\u001b[0;32m   1335\u001b[0m \u001b[43m        \u001b[49m\u001b[43mobserved\u001b[49m\u001b[38;5;241;43m=\u001b[39;49m\u001b[38;5;28;43;01mFalse\u001b[39;49;00m\u001b[43m \u001b[49m\u001b[38;5;28;43;01mif\u001b[39;49;00m\u001b[43m \u001b[49m\u001b[43mobserved\u001b[49m\u001b[43m \u001b[49m\u001b[38;5;129;43;01mis\u001b[39;49;00m\u001b[43m \u001b[49m\u001b[43mlib\u001b[49m\u001b[38;5;241;43m.\u001b[39;49m\u001b[43mno_default\u001b[49m\u001b[43m \u001b[49m\u001b[38;5;28;43;01melse\u001b[39;49;00m\u001b[43m \u001b[49m\u001b[43mobserved\u001b[49m\u001b[43m,\u001b[49m\n\u001b[0;32m   1336\u001b[0m \u001b[43m        \u001b[49m\u001b[43mdropna\u001b[49m\u001b[38;5;241;43m=\u001b[39;49m\u001b[38;5;28;43mself\u001b[39;49m\u001b[38;5;241;43m.\u001b[39;49m\u001b[43mdropna\u001b[49m\u001b[43m,\u001b[49m\n\u001b[0;32m   1337\u001b[0m \u001b[43m    \u001b[49m\u001b[43m)\u001b[49m\n\u001b[0;32m   1339\u001b[0m \u001b[38;5;28;01mif\u001b[39;00m observed \u001b[38;5;129;01mis\u001b[39;00m lib\u001b[38;5;241m.\u001b[39mno_default:\n\u001b[0;32m   1340\u001b[0m     \u001b[38;5;28;01mif\u001b[39;00m \u001b[38;5;28many\u001b[39m(ping\u001b[38;5;241m.\u001b[39m_passed_categorical \u001b[38;5;28;01mfor\u001b[39;00m ping \u001b[38;5;129;01min\u001b[39;00m grouper\u001b[38;5;241m.\u001b[39mgroupings):\n",
      "File \u001b[1;32mc:\\Users\\hukit\\miniconda3\\Lib\\site-packages\\pandas\\core\\groupby\\grouper.py:1043\u001b[0m, in \u001b[0;36mget_grouper\u001b[1;34m(obj, key, axis, level, sort, observed, validate, dropna)\u001b[0m\n\u001b[0;32m   1041\u001b[0m         in_axis, level, gpr \u001b[38;5;241m=\u001b[39m \u001b[38;5;28;01mFalse\u001b[39;00m, gpr, \u001b[38;5;28;01mNone\u001b[39;00m\n\u001b[0;32m   1042\u001b[0m     \u001b[38;5;28;01melse\u001b[39;00m:\n\u001b[1;32m-> 1043\u001b[0m         \u001b[38;5;28;01mraise\u001b[39;00m \u001b[38;5;167;01mKeyError\u001b[39;00m(gpr)\n\u001b[0;32m   1044\u001b[0m \u001b[38;5;28;01melif\u001b[39;00m \u001b[38;5;28misinstance\u001b[39m(gpr, Grouper) \u001b[38;5;129;01mand\u001b[39;00m gpr\u001b[38;5;241m.\u001b[39mkey \u001b[38;5;129;01mis\u001b[39;00m \u001b[38;5;129;01mnot\u001b[39;00m \u001b[38;5;28;01mNone\u001b[39;00m:\n\u001b[0;32m   1045\u001b[0m     \u001b[38;5;66;03m# Add key to exclusions\u001b[39;00m\n\u001b[0;32m   1046\u001b[0m     exclusions\u001b[38;5;241m.\u001b[39madd(gpr\u001b[38;5;241m.\u001b[39mkey)\n",
      "\u001b[1;31mKeyError\u001b[0m: 'order_month'"
     ]
    }
   ],
   "source": [
    "\n",
    "orders_grouped_by_cohorts = orders.groupby('order_month').agg({'revenue': 'sum', 'uid': 'nunique'})\n",
    "print(orders_grouped_by_cohorts.head())\n",
    "\n",
    "\n",
    "\n",
    "# ¿Cuántos pedidos hacen durante un período de tiempo dado?\n",
    "\n",
    "\n",
    "# ¿Cuál es el tamaño promedio de compra?\n",
    "\n",
    "# ¿Cuánto dinero traen? (LTV)"
   ]
  },
  {
   "cell_type": "markdown",
   "metadata": {},
   "source": [
    "\n",
    "#### Marketing:\n",
    " 1. ¿Cuánto dinero se gastó?  (Total/por fuente de adquisición/a lo largo del tiempo) \n",
    " 2. ¿Cuál fue el costo de adquisición de clientes de cada una de las fuentes?\n",
    " 3. ¿Cuán rentables eran las inversiones? (ROMI)\n"
   ]
  },
  {
   "cell_type": "markdown",
   "metadata": {},
   "source": [
    "Paso 3. Escribe una conclusión: aconseja a los expertos de marketing cuánto dinero invertir y dónde\n",
    "\n",
    "¿Qué fuentes/plataformas recomendarías?  Fundamenta tu selección: ¿en qué métricas te enfocaste?  ¿Por qué? ¿Qué conclusiones sacaste después de encontrar los valores métricos?\n",
    "\n",
    "Formato: Completa la tarea en un Jupyter Notebook. Inserta el código en las celdas code y las explicaciones de texto en las celdas markdown. Aplica formato y encabezados.\n",
    "\n"
   ]
  }
 ],
 "metadata": {
  "kernelspec": {
   "display_name": "base",
   "language": "python",
   "name": "python3"
  },
  "language_info": {
   "codemirror_mode": {
    "name": "ipython",
    "version": 3
   },
   "file_extension": ".py",
   "mimetype": "text/x-python",
   "name": "python",
   "nbconvert_exporter": "python",
   "pygments_lexer": "ipython3",
   "version": "3.12.3"
  }
 },
 "nbformat": 4,
 "nbformat_minor": 2
}
