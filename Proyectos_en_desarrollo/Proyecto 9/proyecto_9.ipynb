{
 "cells": [
  {
   "cell_type": "markdown",
   "metadata": {},
   "source": [
    "Descripción de los datos\n",
    "La tabla visits (registros del servidor con datos sobre las visitas al sitio web):\n",
    "\n",
    "Uid: identificador único del usuario.\n",
    "Device: dispositivo del usuario.\n",
    "Start Ts: fecha y hora de inicio de la sesión.\n",
    "End Ts: fecha y hora de término de la sesión.\n",
    "Source Id: identificador de la fuente de anuncios de la que proviene el usuario.\n",
    "Todas las fechas de esta tabla están en formato AAAA-MM-DD.\n",
    "\n",
    "La tabla orders (datos sobre pedidos):\n",
    "\n",
    "Uid: identificador único del usuario que realiza un pedido.\n",
    "Buy Ts: fecha y hora del pedido. Revenue: el ingreso de Showz por el pedido.\n",
    "La tabla costs (datos sobre gastos de marketing):\n",
    "\n",
    "source_id: identificador de la fuente de anuncios.\n",
    "dt: fecha.\n",
    "costs: gastos en esta fuente de anuncios en este día."
   ]
  },
  {
   "cell_type": "code",
   "execution_count": 2,
   "metadata": {},
   "outputs": [],
   "source": [
    "import pandas as pd\n",
    "\n",
    "# se genera una funcion para el analisis preliminar\n",
    "\n",
    "\n",
    "def looks(datos):\n",
    "    \"\"\"Genera un analisis de todo el set de datos de manera gloabal\"\"\"\n",
    "\n",
    "    print(\"Se ejecuta la descripcion de los datos:\")\n",
    "\n",
    "    print(datos.describe(include=\"all\"))\n",
    "    print()\n",
    "\n",
    "    print(\"se hace exploracion con metodo info:\")\n",
    "\n",
    "    print(datos.info())\n",
    "    print()\n",
    "\n",
    "    print(\"se hace una observacion con el metodo Sample:\")\n",
    "\n",
    "    print(datos.sample(10))\n",
    "    print()\n",
    "\n",
    "    print(\"hay NA?:\")\n",
    "    print(datos.isna().sum())\n",
    "    print()\n",
    "\n",
    "    print(\"Duplicados:\")\n",
    "    print(datos.duplicated().sum())"
   ]
  },
  {
   "cell_type": "code",
   "execution_count": null,
   "metadata": {},
   "outputs": [],
   "source": [
    "cost = pd.read_csv(\"datasets/costs_us.csv\")\n",
    "orders = pd.read_csv(\"datasets/orders_log_us.csv\")\n",
    "visits = pd.read_csv(\"datasets/visits_log_us.csv\")\n",
    "\n"
   ]
  },
  {
   "cell_type": "code",
   "execution_count": null,
   "metadata": {},
   "outputs": [],
   "source": []
  },
  {
   "cell_type": "markdown",
   "metadata": {},
   "source": [
    "Paso 2. Haz informes y calcula métricas \n",
    "\n",
    "Visitas:\n",
    "\n",
    "¿Cuántas personas lo usan cada día, semana y mes?\n",
    "¿Cuántas sesiones hay por día? (Un usuario puede tener más de una sesión).\n",
    "¿Cuál es la duración de cada sesión?\n",
    "¿Con qué frecuencia los usuarios regresan?\n",
    "Ventas:\n",
    "\n",
    "¿Cuándo empieza la gente a comprar? (En el análisis de KPI, generalmente nos interesa saber el tiempo que transcurre entre el registro y la conversión, es decir, cuando el usuario se convierte en cliente. Por ejemplo, si el registro y la primera compra ocurren el mismo día, el usuario podría caer en la categoría Conversion 0d. Si la primera compra ocurre al día siguiente, será Conversion 1d. Puedes usar cualquier enfoque que te permita comparar las conversiones de diferentes cohortes para que puedas determinar qué cohorte o canal de marketing es más efectivo.)\n",
    "¿Cuántos pedidos hacen durante un período de tiempo dado?\n",
    "¿Cuál es el tamaño promedio de compra?\n",
    "¿Cuánto dinero traen? (LTV)\n",
    "Marketing:\n",
    " 1. ¿Cuánto dinero se gastó?  (Total/por fuente de adquisición/a lo largo del tiempo) \n",
    " 2. ¿Cuál fue el costo de adquisición de clientes de cada una de las fuentes?\n",
    " 3. ¿Cuán rentables eran las inversiones? (ROMI)\n",
    "\n",
    "Traza gráficos para mostrar cómo difieren estas métricas para varios dispositivos y fuentes de anuncios y cómo cambian con el tiempo. \n",
    "\n"
   ]
  },
  {
   "cell_type": "markdown",
   "metadata": {},
   "source": [
    "Paso 3. Escribe una conclusión: aconseja a los expertos de marketing cuánto dinero invertir y dónde\n",
    "\n",
    "¿Qué fuentes/plataformas recomendarías?  Fundamenta tu selección: ¿en qué métricas te enfocaste?  ¿Por qué? ¿Qué conclusiones sacaste después de encontrar los valores métricos?\n",
    "\n",
    "Formato: Completa la tarea en un Jupyter Notebook. Inserta el código en las celdas code y las explicaciones de texto en las celdas markdown. Aplica formato y encabezados.\n",
    "\n"
   ]
  }
 ],
 "metadata": {
  "kernelspec": {
   "display_name": "base",
   "language": "python",
   "name": "python3"
  },
  "language_info": {
   "codemirror_mode": {
    "name": "ipython",
    "version": 3
   },
   "file_extension": ".py",
   "mimetype": "text/x-python",
   "name": "python",
   "nbconvert_exporter": "python",
   "pygments_lexer": "ipython3",
   "version": "3.12.3"
  }
 },
 "nbformat": 4,
 "nbformat_minor": 2
}
