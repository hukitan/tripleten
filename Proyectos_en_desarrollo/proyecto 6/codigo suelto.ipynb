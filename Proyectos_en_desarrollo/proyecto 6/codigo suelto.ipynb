{
 "cells": [
  {
   "cell_type": "code",
   "execution_count": null,
   "metadata": {},
   "outputs": [],
   "source": [
    "games[\"critic_score\"] = games[\"critic_score\"].fillna(games.groupby([\"platform\", \"genre\"])[\"critic_score\"].transform('mean'))"
   ]
  },
  {
   "cell_type": "code",
   "execution_count": null,
   "metadata": {},
   "outputs": [],
   "source": [
    "for genr in games[\"genre\"].unique():\n",
    "    for plat in games[\"platform\"].unique():\n",
    "        meadian = games.query(\"platform == @plat and genre == @genr\")[\"critic_score\"].median()\n",
    "        games[(games[\"genre\"]== genr) & (games[\"platform\"] == plat)][\"critic_score\"].fillna(meadian)"
   ]
  },
  {
   "cell_type": "code",
   "execution_count": null,
   "metadata": {},
   "outputs": [],
   "source": [
    "def fill_scores(datos):\n",
    "    for genr in datos[\"genre\"]:\n",
    "        for plat in datos[\"platform\"]:\n",
    "            meadian = datos[(datos[\"genre\"]== genr) & (datos[\"platform\"] == plat)][\"critic_score\"].median()\n",
    "            datos[(datos[\"genre\"]== genr) & (datos[\"platform\"] == plat)][\"critic_score\"].fillna(meadian, inplace= True)\n",
    "\n",
    "games.apply(fill_scores, axis=1)"
   ]
  }
 ],
 "metadata": {
  "kernelspec": {
   "display_name": "base",
   "language": "python",
   "name": "python3"
  },
  "language_info": {
   "name": "python",
   "version": "3.12.3"
  }
 },
 "nbformat": 4,
 "nbformat_minor": 2
}
